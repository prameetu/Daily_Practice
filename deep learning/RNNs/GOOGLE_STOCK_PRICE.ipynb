{
 "cells": [
  {
   "cell_type": "code",
   "execution_count": 1,
   "id": "51162189",
   "metadata": {},
   "outputs": [],
   "source": [
    "import tensorflow"
   ]
  },
  {
   "cell_type": "code",
   "execution_count": 2,
   "id": "109e3fc4",
   "metadata": {},
   "outputs": [],
   "source": [
    "import numpy as np\n",
    "import matplotlib.pyplot as plt\n",
    "import pandas as pd"
   ]
  },
  {
   "cell_type": "code",
   "execution_count": 3,
   "id": "fd0c6448",
   "metadata": {},
   "outputs": [],
   "source": [
    "dataset = pd.read_csv('Google_Stock_Price_Train.csv')"
   ]
  },
  {
   "cell_type": "code",
   "execution_count": 4,
   "id": "babbb799",
   "metadata": {
    "scrolled": true
   },
   "outputs": [
    {
     "data": {
      "text/html": [
       "<div>\n",
       "<style scoped>\n",
       "    .dataframe tbody tr th:only-of-type {\n",
       "        vertical-align: middle;\n",
       "    }\n",
       "\n",
       "    .dataframe tbody tr th {\n",
       "        vertical-align: top;\n",
       "    }\n",
       "\n",
       "    .dataframe thead th {\n",
       "        text-align: right;\n",
       "    }\n",
       "</style>\n",
       "<table border=\"1\" class=\"dataframe\">\n",
       "  <thead>\n",
       "    <tr style=\"text-align: right;\">\n",
       "      <th></th>\n",
       "      <th>Date</th>\n",
       "      <th>Open</th>\n",
       "      <th>High</th>\n",
       "      <th>Low</th>\n",
       "      <th>Close</th>\n",
       "      <th>Volume</th>\n",
       "    </tr>\n",
       "  </thead>\n",
       "  <tbody>\n",
       "    <tr>\n",
       "      <th>0</th>\n",
       "      <td>1/3/2012</td>\n",
       "      <td>325.25</td>\n",
       "      <td>332.83</td>\n",
       "      <td>324.97</td>\n",
       "      <td>663.59</td>\n",
       "      <td>7,380,500</td>\n",
       "    </tr>\n",
       "    <tr>\n",
       "      <th>1</th>\n",
       "      <td>1/4/2012</td>\n",
       "      <td>331.27</td>\n",
       "      <td>333.87</td>\n",
       "      <td>329.08</td>\n",
       "      <td>666.45</td>\n",
       "      <td>5,749,400</td>\n",
       "    </tr>\n",
       "    <tr>\n",
       "      <th>2</th>\n",
       "      <td>1/5/2012</td>\n",
       "      <td>329.83</td>\n",
       "      <td>330.75</td>\n",
       "      <td>326.89</td>\n",
       "      <td>657.21</td>\n",
       "      <td>6,590,300</td>\n",
       "    </tr>\n",
       "    <tr>\n",
       "      <th>3</th>\n",
       "      <td>1/6/2012</td>\n",
       "      <td>328.34</td>\n",
       "      <td>328.77</td>\n",
       "      <td>323.68</td>\n",
       "      <td>648.24</td>\n",
       "      <td>5,405,900</td>\n",
       "    </tr>\n",
       "    <tr>\n",
       "      <th>4</th>\n",
       "      <td>1/9/2012</td>\n",
       "      <td>322.04</td>\n",
       "      <td>322.29</td>\n",
       "      <td>309.46</td>\n",
       "      <td>620.76</td>\n",
       "      <td>11,688,800</td>\n",
       "    </tr>\n",
       "    <tr>\n",
       "      <th>...</th>\n",
       "      <td>...</td>\n",
       "      <td>...</td>\n",
       "      <td>...</td>\n",
       "      <td>...</td>\n",
       "      <td>...</td>\n",
       "      <td>...</td>\n",
       "    </tr>\n",
       "    <tr>\n",
       "      <th>1253</th>\n",
       "      <td>12/23/2016</td>\n",
       "      <td>790.90</td>\n",
       "      <td>792.74</td>\n",
       "      <td>787.28</td>\n",
       "      <td>789.91</td>\n",
       "      <td>623,400</td>\n",
       "    </tr>\n",
       "    <tr>\n",
       "      <th>1254</th>\n",
       "      <td>12/27/2016</td>\n",
       "      <td>790.68</td>\n",
       "      <td>797.86</td>\n",
       "      <td>787.66</td>\n",
       "      <td>791.55</td>\n",
       "      <td>789,100</td>\n",
       "    </tr>\n",
       "    <tr>\n",
       "      <th>1255</th>\n",
       "      <td>12/28/2016</td>\n",
       "      <td>793.70</td>\n",
       "      <td>794.23</td>\n",
       "      <td>783.20</td>\n",
       "      <td>785.05</td>\n",
       "      <td>1,153,800</td>\n",
       "    </tr>\n",
       "    <tr>\n",
       "      <th>1256</th>\n",
       "      <td>12/29/2016</td>\n",
       "      <td>783.33</td>\n",
       "      <td>785.93</td>\n",
       "      <td>778.92</td>\n",
       "      <td>782.79</td>\n",
       "      <td>744,300</td>\n",
       "    </tr>\n",
       "    <tr>\n",
       "      <th>1257</th>\n",
       "      <td>12/30/2016</td>\n",
       "      <td>782.75</td>\n",
       "      <td>782.78</td>\n",
       "      <td>770.41</td>\n",
       "      <td>771.82</td>\n",
       "      <td>1,770,000</td>\n",
       "    </tr>\n",
       "  </tbody>\n",
       "</table>\n",
       "<p>1258 rows × 6 columns</p>\n",
       "</div>"
      ],
      "text/plain": [
       "            Date    Open    High     Low   Close      Volume\n",
       "0       1/3/2012  325.25  332.83  324.97  663.59   7,380,500\n",
       "1       1/4/2012  331.27  333.87  329.08  666.45   5,749,400\n",
       "2       1/5/2012  329.83  330.75  326.89  657.21   6,590,300\n",
       "3       1/6/2012  328.34  328.77  323.68  648.24   5,405,900\n",
       "4       1/9/2012  322.04  322.29  309.46  620.76  11,688,800\n",
       "...          ...     ...     ...     ...     ...         ...\n",
       "1253  12/23/2016  790.90  792.74  787.28  789.91     623,400\n",
       "1254  12/27/2016  790.68  797.86  787.66  791.55     789,100\n",
       "1255  12/28/2016  793.70  794.23  783.20  785.05   1,153,800\n",
       "1256  12/29/2016  783.33  785.93  778.92  782.79     744,300\n",
       "1257  12/30/2016  782.75  782.78  770.41  771.82   1,770,000\n",
       "\n",
       "[1258 rows x 6 columns]"
      ]
     },
     "execution_count": 4,
     "metadata": {},
     "output_type": "execute_result"
    }
   ],
   "source": [
    "dataset"
   ]
  },
  {
   "cell_type": "code",
   "execution_count": 5,
   "id": "cd8f4696",
   "metadata": {},
   "outputs": [],
   "source": [
    "train = dataset['Open']"
   ]
  },
  {
   "cell_type": "code",
   "execution_count": 6,
   "id": "7f68c9fe",
   "metadata": {},
   "outputs": [],
   "source": [
    "train = train.values"
   ]
  },
  {
   "cell_type": "code",
   "execution_count": 7,
   "id": "64720703",
   "metadata": {},
   "outputs": [
    {
     "data": {
      "text/plain": [
       "array([325.25, 331.27, 329.83, ..., 793.7 , 783.33, 782.75])"
      ]
     },
     "execution_count": 7,
     "metadata": {},
     "output_type": "execute_result"
    }
   ],
   "source": [
    "train"
   ]
  },
  {
   "cell_type": "code",
   "execution_count": 8,
   "id": "9d94635c",
   "metadata": {},
   "outputs": [],
   "source": [
    "train = train.reshape((1258,1))"
   ]
  },
  {
   "cell_type": "code",
   "execution_count": 9,
   "id": "89151945",
   "metadata": {
    "scrolled": true
   },
   "outputs": [
    {
     "data": {
      "text/plain": [
       "array([[325.25],\n",
       "       [331.27],\n",
       "       [329.83],\n",
       "       ...,\n",
       "       [793.7 ],\n",
       "       [783.33],\n",
       "       [782.75]])"
      ]
     },
     "execution_count": 9,
     "metadata": {},
     "output_type": "execute_result"
    }
   ],
   "source": [
    "train"
   ]
  },
  {
   "cell_type": "code",
   "execution_count": 10,
   "id": "b9d4675c",
   "metadata": {},
   "outputs": [],
   "source": [
    "#Feature Scaling\n",
    "#Normalization\n",
    "from sklearn.preprocessing import MinMaxScaler"
   ]
  },
  {
   "cell_type": "code",
   "execution_count": 11,
   "id": "997a8f86",
   "metadata": {},
   "outputs": [],
   "source": [
    "scaler = MinMaxScaler()"
   ]
  },
  {
   "cell_type": "code",
   "execution_count": 12,
   "id": "a6e5cc8c",
   "metadata": {},
   "outputs": [],
   "source": [
    "train_scaled = scaler.fit_transform(train)"
   ]
  },
  {
   "cell_type": "code",
   "execution_count": 13,
   "id": "b4b26856",
   "metadata": {
    "scrolled": false
   },
   "outputs": [
    {
     "data": {
      "text/plain": [
       "array([[0.08581368],\n",
       "       [0.09701243],\n",
       "       [0.09433366],\n",
       "       ...,\n",
       "       [0.95725128],\n",
       "       [0.93796041],\n",
       "       [0.93688146]])"
      ]
     },
     "execution_count": 13,
     "metadata": {},
     "output_type": "execute_result"
    }
   ],
   "source": [
    "train_scaled"
   ]
  },
  {
   "cell_type": "code",
   "execution_count": 14,
   "id": "af7f14a0",
   "metadata": {},
   "outputs": [],
   "source": [
    "#Creating a data structutre with 60 time steps "
   ]
  },
  {
   "cell_type": "code",
   "execution_count": 15,
   "id": "e900ee1d",
   "metadata": {},
   "outputs": [],
   "source": [
    "X_train = []\n",
    "y_train = []"
   ]
  },
  {
   "cell_type": "code",
   "execution_count": 16,
   "id": "1499a519",
   "metadata": {},
   "outputs": [],
   "source": [
    "for i in range(60,1258):\n",
    "    X_train.append(train_scaled[i-60:i,0])\n",
    "    y_train.append(train_scaled[i,0])"
   ]
  },
  {
   "cell_type": "code",
   "execution_count": 17,
   "id": "f11c8fa7",
   "metadata": {},
   "outputs": [],
   "source": [
    "X_train, y_train = np.array(X_train),np.array(y_train)"
   ]
  },
  {
   "cell_type": "code",
   "execution_count": 18,
   "id": "af854c98",
   "metadata": {},
   "outputs": [
    {
     "data": {
      "text/plain": [
       "(1198, 60)"
      ]
     },
     "execution_count": 18,
     "metadata": {},
     "output_type": "execute_result"
    }
   ],
   "source": [
    "X_train.shape"
   ]
  },
  {
   "cell_type": "code",
   "execution_count": 19,
   "id": "86250b9a",
   "metadata": {},
   "outputs": [],
   "source": [
    "X_train = np.reshape(X_train,(X_train.shape[0],X_train.shape[1],1))"
   ]
  },
  {
   "cell_type": "code",
   "execution_count": 20,
   "id": "8f63d294",
   "metadata": {
    "scrolled": true
   },
   "outputs": [
    {
     "data": {
      "text/plain": [
       "array([[[0.08581368],\n",
       "        [0.09701243],\n",
       "        [0.09433366],\n",
       "        ...,\n",
       "        [0.07846566],\n",
       "        [0.08034452],\n",
       "        [0.08497656]],\n",
       "\n",
       "       [[0.09701243],\n",
       "        [0.09433366],\n",
       "        [0.09156187],\n",
       "        ...,\n",
       "        [0.08034452],\n",
       "        [0.08497656],\n",
       "        [0.08627874]],\n",
       "\n",
       "       [[0.09433366],\n",
       "        [0.09156187],\n",
       "        [0.07984225],\n",
       "        ...,\n",
       "        [0.08497656],\n",
       "        [0.08627874],\n",
       "        [0.08471612]],\n",
       "\n",
       "       ...,\n",
       "\n",
       "       [[0.92106928],\n",
       "        [0.92438053],\n",
       "        [0.93048218],\n",
       "        ...,\n",
       "        [0.95475854],\n",
       "        [0.95204256],\n",
       "        [0.95163331]],\n",
       "\n",
       "       [[0.92438053],\n",
       "        [0.93048218],\n",
       "        [0.9299055 ],\n",
       "        ...,\n",
       "        [0.95204256],\n",
       "        [0.95163331],\n",
       "        [0.95725128]],\n",
       "\n",
       "       [[0.93048218],\n",
       "        [0.9299055 ],\n",
       "        [0.93113327],\n",
       "        ...,\n",
       "        [0.95163331],\n",
       "        [0.95725128],\n",
       "        [0.93796041]]])"
      ]
     },
     "execution_count": 20,
     "metadata": {},
     "output_type": "execute_result"
    }
   ],
   "source": [
    "X_train"
   ]
  },
  {
   "cell_type": "code",
   "execution_count": 21,
   "id": "fd384c30",
   "metadata": {},
   "outputs": [],
   "source": [
    "from tensorflow.keras.models import Sequential"
   ]
  },
  {
   "cell_type": "code",
   "execution_count": 22,
   "id": "d5aa2096",
   "metadata": {},
   "outputs": [],
   "source": [
    "from tensorflow.keras.layers import Dense,LSTM,Dropout"
   ]
  },
  {
   "cell_type": "code",
   "execution_count": 26,
   "id": "93f15bd4",
   "metadata": {},
   "outputs": [],
   "source": [
    "rnn_model = Sequential()\n",
    "\n",
    "rnn_model.add(LSTM(units = 50 ,return_sequences = True,input_shape = (X_train.shape[1],1)))\n",
    "rnn_model.add(Dropout(0.2))\n",
    "\n",
    "rnn_model.add(LSTM(units = 50 ,return_sequences = True))\n",
    "rnn_model.add(Dropout(0.2))\n",
    "\n",
    "rnn_model.add(LSTM(units = 50 ,return_sequences = True))\n",
    "rnn_model.add(Dropout(0.2))\n",
    "\n",
    "rnn_model.add(LSTM(units = 50))\n",
    "rnn_model.add(Dropout(0.2))\n",
    " \n",
    "rnn_model.add(Dense(1))\n",
    "\n",
    "rnn_model.compile(optimizer = 'adam',loss = 'mean_squared_error',metrics = ['accuracy'])"
   ]
  },
  {
   "cell_type": "code",
   "execution_count": 27,
   "id": "9217ef3f",
   "metadata": {},
   "outputs": [],
   "source": [
    "#You must set return_sequences=True when stacking LSTM layers \n",
    "#so that the second LSTM layer has a three-dimensional sequence input"
   ]
  },
  {
   "cell_type": "code",
   "execution_count": 28,
   "id": "9d617eca",
   "metadata": {
    "scrolled": false
   },
   "outputs": [
    {
     "name": "stdout",
     "output_type": "stream",
     "text": [
      "Epoch 1/100\n",
      "38/38 [==============================] - 6s 166ms/step - loss: 0.0381 - accuracy: 0.0017\n",
      "Epoch 2/100\n",
      "38/38 [==============================] - 6s 150ms/step - loss: 0.0069 - accuracy: 0.0017\n",
      "Epoch 3/100\n",
      "38/38 [==============================] - 6s 155ms/step - loss: 0.0064 - accuracy: 0.0017\n",
      "Epoch 4/100\n",
      "38/38 [==============================] - 6s 155ms/step - loss: 0.0059 - accuracy: 0.0017\n",
      "Epoch 5/100\n",
      "38/38 [==============================] - 6s 158ms/step - loss: 0.0063 - accuracy: 0.0017\n",
      "Epoch 6/100\n",
      "38/38 [==============================] - 6s 158ms/step - loss: 0.0047 - accuracy: 0.0017\n",
      "Epoch 7/100\n",
      "38/38 [==============================] - 6s 154ms/step - loss: 0.0044 - accuracy: 0.0017\n",
      "Epoch 8/100\n",
      "38/38 [==============================] - 6s 159ms/step - loss: 0.0047 - accuracy: 0.0017\n",
      "Epoch 9/100\n",
      "38/38 [==============================] - 6s 158ms/step - loss: 0.0039 - accuracy: 0.0017\n",
      "Epoch 10/100\n",
      "38/38 [==============================] - 6s 160ms/step - loss: 0.0045 - accuracy: 0.0017\n",
      "Epoch 11/100\n",
      "38/38 [==============================] - 6s 163ms/step - loss: 0.0042 - accuracy: 0.0017\n",
      "Epoch 12/100\n",
      "38/38 [==============================] - 6s 154ms/step - loss: 0.0038 - accuracy: 0.0017\n",
      "Epoch 13/100\n",
      "38/38 [==============================] - 6s 154ms/step - loss: 0.0041 - accuracy: 0.0017\n",
      "Epoch 14/100\n",
      "38/38 [==============================] - 6s 157ms/step - loss: 0.0045 - accuracy: 0.0017\n",
      "Epoch 15/100\n",
      "38/38 [==============================] - 6s 155ms/step - loss: 0.0035 - accuracy: 0.0017\n",
      "Epoch 16/100\n",
      "38/38 [==============================] - 6s 152ms/step - loss: 0.0036 - accuracy: 0.0017\n",
      "Epoch 17/100\n",
      "38/38 [==============================] - 5s 143ms/step - loss: 0.0032 - accuracy: 0.0017\n",
      "Epoch 18/100\n",
      "38/38 [==============================] - 6s 150ms/step - loss: 0.0034 - accuracy: 0.0017\n",
      "Epoch 19/100\n",
      "38/38 [==============================] - 6s 156ms/step - loss: 0.0035 - accuracy: 0.0017\n",
      "Epoch 20/100\n",
      "38/38 [==============================] - 6s 156ms/step - loss: 0.0038 - accuracy: 0.0017\n",
      "Epoch 21/100\n",
      "38/38 [==============================] - 6s 147ms/step - loss: 0.0034 - accuracy: 0.0017\n",
      "Epoch 22/100\n",
      "38/38 [==============================] - 6s 156ms/step - loss: 0.0034 - accuracy: 0.0017\n",
      "Epoch 23/100\n",
      "38/38 [==============================] - 6s 149ms/step - loss: 0.0030 - accuracy: 0.0017\n",
      "Epoch 24/100\n",
      "38/38 [==============================] - 5s 144ms/step - loss: 0.0030 - accuracy: 0.0017\n",
      "Epoch 25/100\n",
      "38/38 [==============================] - 6s 148ms/step - loss: 0.0038 - accuracy: 0.0017\n",
      "Epoch 26/100\n",
      "38/38 [==============================] - 5s 145ms/step - loss: 0.0031 - accuracy: 0.0017\n",
      "Epoch 27/100\n",
      "38/38 [==============================] - 6s 152ms/step - loss: 0.0032 - accuracy: 0.0017\n",
      "Epoch 28/100\n",
      "38/38 [==============================] - 6s 156ms/step - loss: 0.0030 - accuracy: 0.0017\n",
      "Epoch 29/100\n",
      "38/38 [==============================] - 6s 153ms/step - loss: 0.0028 - accuracy: 0.0017\n",
      "Epoch 30/100\n",
      "38/38 [==============================] - 6s 154ms/step - loss: 0.0028 - accuracy: 0.0017\n",
      "Epoch 31/100\n",
      "38/38 [==============================] - 6s 155ms/step - loss: 0.0029 - accuracy: 0.0017\n",
      "Epoch 32/100\n",
      "38/38 [==============================] - 6s 152ms/step - loss: 0.0027 - accuracy: 0.0017\n",
      "Epoch 33/100\n",
      "38/38 [==============================] - 6s 146ms/step - loss: 0.0027 - accuracy: 0.0017\n",
      "Epoch 34/100\n",
      "38/38 [==============================] - 6s 158ms/step - loss: 0.0027 - accuracy: 0.0017\n",
      "Epoch 35/100\n",
      "38/38 [==============================] - 6s 152ms/step - loss: 0.0026 - accuracy: 0.0017\n",
      "Epoch 36/100\n",
      "38/38 [==============================] - 6s 153ms/step - loss: 0.0030 - accuracy: 0.0017\n",
      "Epoch 37/100\n",
      "38/38 [==============================] - 6s 150ms/step - loss: 0.0026 - accuracy: 0.0017\n",
      "Epoch 38/100\n",
      "38/38 [==============================] - 6s 164ms/step - loss: 0.0033 - accuracy: 0.0017\n",
      "Epoch 39/100\n",
      "38/38 [==============================] - 6s 161ms/step - loss: 0.0026 - accuracy: 0.0017\n",
      "Epoch 40/100\n",
      "38/38 [==============================] - 7s 171ms/step - loss: 0.0027 - accuracy: 0.0017\n",
      "Epoch 41/100\n",
      "38/38 [==============================] - 6s 155ms/step - loss: 0.0026 - accuracy: 0.0017\n",
      "Epoch 42/100\n",
      "38/38 [==============================] - 6s 166ms/step - loss: 0.0027 - accuracy: 0.0017\n",
      "Epoch 43/100\n",
      "38/38 [==============================] - 7s 174ms/step - loss: 0.0025 - accuracy: 0.0017\n",
      "Epoch 44/100\n",
      "38/38 [==============================] - 6s 165ms/step - loss: 0.0028 - accuracy: 0.0017\n",
      "Epoch 45/100\n",
      "38/38 [==============================] - 7s 181ms/step - loss: 0.0026 - accuracy: 0.0017\n",
      "Epoch 46/100\n",
      "38/38 [==============================] - 7s 181ms/step - loss: 0.0024 - accuracy: 0.0017\n",
      "Epoch 47/100\n",
      "38/38 [==============================] - 7s 179ms/step - loss: 0.0027 - accuracy: 0.0017\n",
      "Epoch 48/100\n",
      "38/38 [==============================] - 7s 181ms/step - loss: 0.0023 - accuracy: 0.0017\n",
      "Epoch 49/100\n",
      "38/38 [==============================] - 7s 180ms/step - loss: 0.0024 - accuracy: 0.0017\n",
      "Epoch 50/100\n",
      "38/38 [==============================] - 7s 181ms/step - loss: 0.0023 - accuracy: 0.0017\n",
      "Epoch 51/100\n",
      "38/38 [==============================] - 7s 182ms/step - loss: 0.0026 - accuracy: 0.0017\n",
      "Epoch 52/100\n",
      "38/38 [==============================] - 7s 181ms/step - loss: 0.0024 - accuracy: 0.0017\n",
      "Epoch 53/100\n",
      "38/38 [==============================] - 7s 181ms/step - loss: 0.0022 - accuracy: 0.0017\n",
      "Epoch 54/100\n",
      "38/38 [==============================] - 7s 180ms/step - loss: 0.0025 - accuracy: 0.0017\n",
      "Epoch 55/100\n",
      "38/38 [==============================] - 7s 181ms/step - loss: 0.0022 - accuracy: 0.0017\n",
      "Epoch 56/100\n",
      "38/38 [==============================] - 7s 181ms/step - loss: 0.0022 - accuracy: 0.0017\n",
      "Epoch 57/100\n",
      "38/38 [==============================] - 7s 181ms/step - loss: 0.0022 - accuracy: 0.0017\n",
      "Epoch 58/100\n",
      "38/38 [==============================] - 6s 165ms/step - loss: 0.0022 - accuracy: 0.0017\n",
      "Epoch 59/100\n",
      "38/38 [==============================] - 7s 172ms/step - loss: 0.0021 - accuracy: 0.0017\n",
      "Epoch 60/100\n",
      "38/38 [==============================] - 7s 179ms/step - loss: 0.0020 - accuracy: 0.0017\n",
      "Epoch 61/100\n",
      "38/38 [==============================] - 7s 182ms/step - loss: 0.0020 - accuracy: 0.0017\n",
      "Epoch 62/100\n",
      "38/38 [==============================] - 7s 174ms/step - loss: 0.0024 - accuracy: 0.0017\n",
      "Epoch 63/100\n",
      "38/38 [==============================] - 6s 147ms/step - loss: 0.0019 - accuracy: 0.0017\n",
      "Epoch 64/100\n",
      "38/38 [==============================] - 5s 140ms/step - loss: 0.0021 - accuracy: 0.0017\n",
      "Epoch 65/100\n",
      "38/38 [==============================] - 6s 145ms/step - loss: 0.0018 - accuracy: 0.0017\n",
      "Epoch 66/100\n",
      "38/38 [==============================] - 6s 146ms/step - loss: 0.0020 - accuracy: 0.0017\n",
      "Epoch 67/100\n",
      "38/38 [==============================] - 6s 155ms/step - loss: 0.0020 - accuracy: 0.0017\n",
      "Epoch 68/100\n",
      "38/38 [==============================] - 6s 156ms/step - loss: 0.0017 - accuracy: 0.0017\n",
      "Epoch 69/100\n",
      "38/38 [==============================] - 6s 156ms/step - loss: 0.0021 - accuracy: 0.0017\n",
      "Epoch 70/100\n",
      "38/38 [==============================] - 6s 154ms/step - loss: 0.0021 - accuracy: 0.0017\n",
      "Epoch 71/100\n",
      "38/38 [==============================] - 6s 155ms/step - loss: 0.0017 - accuracy: 0.0017\n",
      "Epoch 72/100\n",
      "38/38 [==============================] - 6s 152ms/step - loss: 0.0020 - accuracy: 0.0017\n",
      "Epoch 73/100\n",
      "38/38 [==============================] - 6s 155ms/step - loss: 0.0021 - accuracy: 0.0017\n",
      "Epoch 74/100\n",
      "38/38 [==============================] - 6s 157ms/step - loss: 0.0020 - accuracy: 0.0017\n",
      "Epoch 75/100\n",
      "38/38 [==============================] - 6s 167ms/step - loss: 0.0019 - accuracy: 0.0017\n",
      "Epoch 76/100\n",
      "38/38 [==============================] - 6s 164ms/step - loss: 0.0017 - accuracy: 0.0017\n",
      "Epoch 77/100\n",
      "38/38 [==============================] - 6s 155ms/step - loss: 0.0017 - accuracy: 0.0017\n",
      "Epoch 78/100\n",
      "38/38 [==============================] - 6s 153ms/step - loss: 0.0019 - accuracy: 0.0017\n",
      "Epoch 79/100\n",
      "38/38 [==============================] - 6s 157ms/step - loss: 0.0018 - accuracy: 0.0017\n",
      "Epoch 80/100\n",
      "38/38 [==============================] - 6s 166ms/step - loss: 0.0018 - accuracy: 0.00171s - loss: 0.0018 \n",
      "Epoch 81/100\n"
     ]
    },
    {
     "name": "stdout",
     "output_type": "stream",
     "text": [
      "38/38 [==============================] - 6s 156ms/step - loss: 0.0018 - accuracy: 0.0017\n",
      "Epoch 82/100\n",
      "38/38 [==============================] - 6s 156ms/step - loss: 0.0017 - accuracy: 0.0017\n",
      "Epoch 83/100\n",
      "38/38 [==============================] - 6s 167ms/step - loss: 0.0016 - accuracy: 0.0017\n",
      "Epoch 84/100\n",
      "38/38 [==============================] - 6s 158ms/step - loss: 0.0017 - accuracy: 0.0017\n",
      "Epoch 85/100\n",
      "38/38 [==============================] - 6s 170ms/step - loss: 0.0016 - accuracy: 0.0017\n",
      "Epoch 86/100\n",
      "38/38 [==============================] - 6s 169ms/step - loss: 0.0016 - accuracy: 0.0017\n",
      "Epoch 87/100\n",
      "38/38 [==============================] - 6s 161ms/step - loss: 0.0015 - accuracy: 0.0017\n",
      "Epoch 88/100\n",
      "38/38 [==============================] - 6s 153ms/step - loss: 0.0017 - accuracy: 0.0017\n",
      "Epoch 89/100\n",
      "38/38 [==============================] - 6s 162ms/step - loss: 0.0017 - accuracy: 0.0017\n",
      "Epoch 90/100\n",
      "38/38 [==============================] - 6s 160ms/step - loss: 0.0017 - accuracy: 0.0017\n",
      "Epoch 91/100\n",
      "38/38 [==============================] - 6s 163ms/step - loss: 0.0014 - accuracy: 0.0017\n",
      "Epoch 92/100\n",
      "38/38 [==============================] - 6s 165ms/step - loss: 0.0015 - accuracy: 0.0017\n",
      "Epoch 93/100\n",
      "38/38 [==============================] - 6s 162ms/step - loss: 0.0015 - accuracy: 0.0017\n",
      "Epoch 94/100\n",
      "38/38 [==============================] - 6s 163ms/step - loss: 0.0014 - accuracy: 0.0017\n",
      "Epoch 95/100\n",
      "38/38 [==============================] - 6s 163ms/step - loss: 0.0016 - accuracy: 0.0017\n",
      "Epoch 96/100\n",
      "38/38 [==============================] - 6s 163ms/step - loss: 0.0016 - accuracy: 0.0017\n",
      "Epoch 97/100\n",
      "38/38 [==============================] - 6s 157ms/step - loss: 0.0015 - accuracy: 0.0017\n",
      "Epoch 98/100\n",
      "38/38 [==============================] - 6s 158ms/step - loss: 0.0016 - accuracy: 0.0017\n",
      "Epoch 99/100\n",
      "38/38 [==============================] - 6s 167ms/step - loss: 0.0014 - accuracy: 0.0017\n",
      "Epoch 100/100\n",
      "38/38 [==============================] - 6s 159ms/step - loss: 0.0014 - accuracy: 0.0017\n"
     ]
    },
    {
     "data": {
      "text/plain": [
       "<tensorflow.python.keras.callbacks.History at 0x1842742c130>"
      ]
     },
     "execution_count": 28,
     "metadata": {},
     "output_type": "execute_result"
    }
   ],
   "source": [
    "rnn_model.fit(X_train,y_train,epochs = 100,batch_size = 32)"
   ]
  },
  {
   "cell_type": "code",
   "execution_count": 29,
   "id": "5a338bee",
   "metadata": {},
   "outputs": [],
   "source": [
    "#we hacve trained our model on stock prices of google of 5 years(2012-16).\n",
    "#now we have to predict the price for the jan month of year 2017"
   ]
  },
  {
   "cell_type": "code",
   "execution_count": 45,
   "id": "7acdfc5f",
   "metadata": {},
   "outputs": [],
   "source": [
    "dataset_test = pd.read_csv('Google_Stock_Price_Test.csv')"
   ]
  },
  {
   "cell_type": "code",
   "execution_count": 46,
   "id": "66f4de47",
   "metadata": {},
   "outputs": [],
   "source": [
    "real_stock_price = dataset_test['Open']"
   ]
  },
  {
   "cell_type": "code",
   "execution_count": 47,
   "id": "d2845f71",
   "metadata": {},
   "outputs": [],
   "source": [
    "real_stock_price = real_stock_price.values"
   ]
  },
  {
   "cell_type": "code",
   "execution_count": 48,
   "id": "da98e3e7",
   "metadata": {},
   "outputs": [
    {
     "data": {
      "text/plain": [
       "20"
      ]
     },
     "execution_count": 48,
     "metadata": {},
     "output_type": "execute_result"
    }
   ],
   "source": [
    "len(real_stock_price)"
   ]
  },
  {
   "cell_type": "code",
   "execution_count": 52,
   "id": "41fe7e5e",
   "metadata": {},
   "outputs": [],
   "source": [
    "real_stock_price = real_stock_price.reshape((20,1))"
   ]
  },
  {
   "cell_type": "code",
   "execution_count": 54,
   "id": "8fe18657",
   "metadata": {},
   "outputs": [],
   "source": [
    "#as we have trained our model in 60 time steps so we would need previous 60 days data to predict the stock price on particular day\n",
    "# so for predicting stock price on 5th jan 2017 , some data of 2017 and some data of 2016 is required\n",
    "#so we need to concatenate test and train set"
   ]
  },
  {
   "cell_type": "code",
   "execution_count": 58,
   "id": "f65fa748",
   "metadata": {},
   "outputs": [],
   "source": [
    "dataset_total = pd.concat((dataset['Open'],dataset_test['Open']),axis = 0)"
   ]
  },
  {
   "cell_type": "code",
   "execution_count": 63,
   "id": "93742606",
   "metadata": {
    "scrolled": false
   },
   "outputs": [],
   "source": [
    "dataset_total = dataset_total.reset_index()"
   ]
  },
  {
   "cell_type": "code",
   "execution_count": 66,
   "id": "9c8bc7ac",
   "metadata": {},
   "outputs": [],
   "source": [
    "dataset_total = dataset_total.drop('index',axis=1)"
   ]
  },
  {
   "cell_type": "code",
   "execution_count": 71,
   "id": "01ff9bdf",
   "metadata": {},
   "outputs": [],
   "source": [
    "dataset_total = dataset_total['Open']"
   ]
  },
  {
   "cell_type": "code",
   "execution_count": 75,
   "id": "8d5eafdb",
   "metadata": {},
   "outputs": [
    {
     "data": {
      "text/plain": [
       "1258"
      ]
     },
     "execution_count": 75,
     "metadata": {},
     "output_type": "execute_result"
    }
   ],
   "source": [
    "len(dataset_total) - len(dataset_test)"
   ]
  },
  {
   "cell_type": "code",
   "execution_count": 76,
   "id": "e2b7c7e1",
   "metadata": {},
   "outputs": [
    {
     "data": {
      "text/plain": [
       "1198"
      ]
     },
     "execution_count": 76,
     "metadata": {},
     "output_type": "execute_result"
    }
   ],
   "source": [
    "1258-60"
   ]
  },
  {
   "cell_type": "code",
   "execution_count": 77,
   "id": "0bb66c64",
   "metadata": {},
   "outputs": [],
   "source": [
    "inputs = dataset_total[1198:].values"
   ]
  },
  {
   "cell_type": "code",
   "execution_count": 80,
   "id": "d724deb7",
   "metadata": {},
   "outputs": [],
   "source": [
    "inputs = inputs.reshape(-1,1)"
   ]
  },
  {
   "cell_type": "code",
   "execution_count": 81,
   "id": "d6bdab65",
   "metadata": {},
   "outputs": [],
   "source": [
    "inputs =  scaler.transform(inputs)"
   ]
  },
  {
   "cell_type": "code",
   "execution_count": 84,
   "id": "c2be7419",
   "metadata": {},
   "outputs": [
    {
     "data": {
      "text/plain": [
       "(80, 1)"
      ]
     },
     "execution_count": 84,
     "metadata": {},
     "output_type": "execute_result"
    }
   ],
   "source": [
    "inputs.shape"
   ]
  },
  {
   "cell_type": "code",
   "execution_count": 91,
   "id": "0dba77fb",
   "metadata": {},
   "outputs": [],
   "source": [
    "X_test = []\n",
    "for i in range(60,80):\n",
    "    X_test.append(inputs[i-60:i,0])"
   ]
  },
  {
   "cell_type": "code",
   "execution_count": 96,
   "id": "eee8eef9",
   "metadata": {},
   "outputs": [],
   "source": [
    "X_test = np.array(X_test)"
   ]
  },
  {
   "cell_type": "code",
   "execution_count": 97,
   "id": "9ba0b8b4",
   "metadata": {},
   "outputs": [
    {
     "data": {
      "text/plain": [
       "array([[0.9299055 , 0.93113327, 0.92750577, ..., 0.95725128, 0.93796041,\n",
       "        0.93688146],\n",
       "       [0.93113327, 0.92750577, 0.94415507, ..., 0.93796041, 0.93688146,\n",
       "        0.92955205],\n",
       "       [0.92750577, 0.94415507, 0.93876032, ..., 0.93688146, 0.92955205,\n",
       "        0.94731751],\n",
       "       ...,\n",
       "       [0.96054394, 0.9371419 , 0.92841729, ..., 1.01045465, 1.02407173,\n",
       "        1.03930724],\n",
       "       [0.9371419 , 0.92841729, 0.90804747, ..., 1.02407173, 1.03930724,\n",
       "        1.03354044],\n",
       "       [0.92841729, 0.90804747, 0.8771858 , ..., 1.03930724, 1.03354044,\n",
       "        0.99624228]])"
      ]
     },
     "execution_count": 97,
     "metadata": {},
     "output_type": "execute_result"
    }
   ],
   "source": [
    "X_test"
   ]
  },
  {
   "cell_type": "code",
   "execution_count": 98,
   "id": "f365d976",
   "metadata": {},
   "outputs": [
    {
     "data": {
      "text/plain": [
       "(20, 60)"
      ]
     },
     "execution_count": 98,
     "metadata": {},
     "output_type": "execute_result"
    }
   ],
   "source": [
    "X_test.shape"
   ]
  },
  {
   "cell_type": "code",
   "execution_count": 100,
   "id": "3b058d16",
   "metadata": {},
   "outputs": [],
   "source": [
    "X_test = np.reshape(X_test,(X_test.shape[0],X_test.shape[1],1))"
   ]
  },
  {
   "cell_type": "code",
   "execution_count": 101,
   "id": "47176ca2",
   "metadata": {},
   "outputs": [],
   "source": [
    "predicted_stock_price = rnn_model.predict(X_test)"
   ]
  },
  {
   "cell_type": "code",
   "execution_count": 103,
   "id": "b543ab9d",
   "metadata": {},
   "outputs": [],
   "source": [
    "predicted_stock_price = scaler.inverse_transform(predicted_stock_price)"
   ]
  },
  {
   "cell_type": "code",
   "execution_count": 104,
   "id": "b9f2d6ec",
   "metadata": {},
   "outputs": [
    {
     "data": {
      "text/plain": [
       "array([[772.2035 ],\n",
       "       [769.66   ],\n",
       "       [769.71094],\n",
       "       [770.7269 ],\n",
       "       [773.67847],\n",
       "       [779.1865 ],\n",
       "       [784.5124 ],\n",
       "       [787.169  ],\n",
       "       [788.14594],\n",
       "       [788.31354],\n",
       "       [788.1276 ],\n",
       "       [787.6839 ],\n",
       "       [787.2254 ],\n",
       "       [787.4401 ],\n",
       "       [788.1354 ],\n",
       "       [792.32025],\n",
       "       [798.7782 ],\n",
       "       [806.01544],\n",
       "       [810.42755],\n",
       "       [807.4263 ]], dtype=float32)"
      ]
     },
     "execution_count": 104,
     "metadata": {},
     "output_type": "execute_result"
    }
   ],
   "source": [
    "predicted_stock_price"
   ]
  },
  {
   "cell_type": "code",
   "execution_count": 107,
   "id": "7879a77b",
   "metadata": {},
   "outputs": [
    {
     "data": {
      "text/plain": [
       "array([[778.81],\n",
       "       [788.36],\n",
       "       [786.08],\n",
       "       [795.26],\n",
       "       [806.4 ],\n",
       "       [807.86],\n",
       "       [805.  ],\n",
       "       [807.14],\n",
       "       [807.48],\n",
       "       [807.08],\n",
       "       [805.81],\n",
       "       [805.12],\n",
       "       [806.91],\n",
       "       [807.25],\n",
       "       [822.3 ],\n",
       "       [829.62],\n",
       "       [837.81],\n",
       "       [834.71],\n",
       "       [814.66],\n",
       "       [796.86]])"
      ]
     },
     "execution_count": 107,
     "metadata": {},
     "output_type": "execute_result"
    }
   ],
   "source": [
    "real_stock_price"
   ]
  },
  {
   "cell_type": "code",
   "execution_count": 114,
   "id": "f0e0ab73",
   "metadata": {},
   "outputs": [
    {
     "data": {
      "text/plain": [
       "<matplotlib.legend.Legend at 0x1843397b850>"
      ]
     },
     "execution_count": 114,
     "metadata": {},
     "output_type": "execute_result"
    },
    {
     "data": {
      "image/png": "[encoded data removed]",
      "text/plain": [
       "<Figure size 432x288 with 1 Axes>"
      ]
     },
     "metadata": {
      "needs_background": "light"
     },
     "output_type": "display_data"
    }
   ],
   "source": [
    "plt.plot(real_stock_price,label = 'Real Stock Price')\n",
    "plt.plot(predicted_stock_price,label = 'Predicted Stock Price')\n",
    "plt.title('GOOGLE STOCK PRICE PREDICTION')\n",
    "plt.xlabel('Time')\n",
    "plt.ylabel('Stock Price')\n",
    "plt.legend()"
   ]
  }
 ],
 "metadata": {
  "kernelspec": {
   "display_name": "Python 3",
   "language": "python",
   "name": "python3"
  },
  "language_info": {
   "codemirror_mode": {
    "name": "ipython",
    "version": 3
   },
   "file_extension": ".py",
   "mimetype": "text/x-python",
   "name": "python",
   "nbconvert_exporter": "python",
   "pygments_lexer": "ipython3",
   "version": "3.8.10"
  }
 },
 "nbformat": 4,
 "nbformat_minor": 5
}
