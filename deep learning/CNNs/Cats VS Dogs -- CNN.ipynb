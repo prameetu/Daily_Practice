{
 "cells": [
  {
   "cell_type": "code",
   "execution_count": 1,
   "id": "effb310b",
   "metadata": {},
   "outputs": [],
   "source": [
    "import tensorflow as tf\n",
    "import numpy as np\n",
    "import pandas as pd"
   ]
  },
  {
   "cell_type": "code",
   "execution_count": 4,
   "id": "f2487160",
   "metadata": {},
   "outputs": [],
   "source": [
    "from tensorflow.keras.preprocessing.image import ImageDataGenerator"
   ]
  },
  {
   "cell_type": "code",
   "execution_count": 6,
   "id": "9e16146b",
   "metadata": {
    "scrolled": true
   },
   "outputs": [
    {
     "data": {
      "text/plain": [
       "'2.3.0'"
      ]
     },
     "execution_count": 6,
     "metadata": {},
     "output_type": "execute_result"
    }
   ],
   "source": [
    "tf.__version__"
   ]
  },
  {
   "cell_type": "code",
   "execution_count": 7,
   "id": "7a392cef",
   "metadata": {},
   "outputs": [
    {
     "name": "stdout",
     "output_type": "stream",
     "text": [
      "Found 8000 images belonging to 2 classes.\n"
     ]
    }
   ],
   "source": [
    "#Preprocessing the training set\n",
    "\n",
    "train_datagen = ImageDataGenerator(\n",
    "        rescale=1./255,       #feature training\n",
    "        shear_range=0.2,\n",
    "        zoom_range=0.2,\n",
    "        horizontal_flip=True)\n",
    "\n",
    "training_set = train_datagen.flow_from_directory(\n",
    "        'data/training_set/',\n",
    "        target_size=(64, 64),\n",
    "        batch_size=32,\n",
    "        class_mode='binary')"
   ]
  },
  {
   "cell_type": "code",
   "execution_count": 8,
   "id": "02891564",
   "metadata": {},
   "outputs": [
    {
     "name": "stdout",
     "output_type": "stream",
     "text": [
      "Found 2000 images belonging to 2 classes.\n"
     ]
    }
   ],
   "source": [
    "#Preprocessing the test set\n",
    "\n",
    "test_datagen = ImageDataGenerator(rescale=1./255)\n",
    "\n",
    "test_set = test_datagen.flow_from_directory(\n",
    "        'data/test_set/',\n",
    "        target_size=(64, 64),\n",
    "        batch_size=32,\n",
    "        class_mode='binary')"
   ]
  },
  {
   "cell_type": "code",
   "execution_count": 16,
   "id": "d406c7bd",
   "metadata": {},
   "outputs": [],
   "source": [
    "from tensorflow.keras.models import Sequential\n",
    "from tensorflow.keras.layers import Dense,Dropout,Conv2D,MaxPool2D,Flatten"
   ]
  },
  {
   "cell_type": "code",
   "execution_count": 17,
   "id": "5ee0c587",
   "metadata": {},
   "outputs": [],
   "source": [
    "model = Sequential()\n",
    "\n",
    "model.add(Conv2D(filters=32,kernel_size=3,activation='relu',input_shape = [64,64,3]))\n",
    "\n",
    "model.add(MaxPool2D(pool_size=2,strides=2))\n",
    "\n",
    "model.add(Conv2D(filters=32,kernel_size=3,activation='relu'))\n",
    "\n",
    "model.add(MaxPool2D(pool_size=2,strides=2))\n",
    "\n",
    "model.add(Flatten())\n",
    "\n",
    "model.add(Dense(128,activation = 'relu'))\n",
    "\n",
    "model.add(Dense(1,activation = 'sigmoid'))"
   ]
  },
  {
   "cell_type": "code",
   "execution_count": 18,
   "id": "e2ecc125",
   "metadata": {},
   "outputs": [],
   "source": [
    "model.compile(optimizer = 'adam',loss = 'binary_crossentropy',metrics=['accuracy'])"
   ]
  },
  {
   "cell_type": "code",
   "execution_count": 20,
   "id": "c8d004ab",
   "metadata": {
    "scrolled": true
   },
   "outputs": [
    {
     "name": "stdout",
     "output_type": "stream",
     "text": [
      "Epoch 1/25\n",
      "250/250 [==============================] - 123s 492ms/step - loss: 0.6617 - accuracy: 0.6019 - val_loss: 0.6123 - val_accuracy: 0.6831\n",
      "Epoch 2/25\n",
      "250/250 [==============================] - 124s 495ms/step - loss: 0.5813 - accuracy: 0.6945 - val_loss: 0.5664 - val_accuracy: 0.7120\n",
      "Epoch 3/25\n",
      "250/250 [==============================] - 127s 507ms/step - loss: 0.5414 - accuracy: 0.7220 - val_loss: 0.5121 - val_accuracy: 0.7448\n",
      "Epoch 4/25\n",
      "250/250 [==============================] - 116s 466ms/step - loss: 0.5096 - accuracy: 0.7491 - val_loss: 0.4679 - val_accuracy: 0.7764\n",
      "Epoch 5/25\n",
      "250/250 [==============================] - 116s 462ms/step - loss: 0.4923 - accuracy: 0.7590 - val_loss: 0.4682 - val_accuracy: 0.7761\n",
      "Epoch 6/25\n",
      "250/250 [==============================] - 123s 493ms/step - loss: 0.4654 - accuracy: 0.7732 - val_loss: 0.4242 - val_accuracy: 0.8074\n",
      "Epoch 7/25\n",
      "250/250 [==============================] - 120s 478ms/step - loss: 0.4482 - accuracy: 0.7905 - val_loss: 0.4144 - val_accuracy: 0.8106\n",
      "Epoch 8/25\n",
      "250/250 [==============================] - 116s 464ms/step - loss: 0.4325 - accuracy: 0.7964 - val_loss: 0.4131 - val_accuracy: 0.8146\n",
      "Epoch 9/25\n",
      "250/250 [==============================] - 115s 460ms/step - loss: 0.4189 - accuracy: 0.8031 - val_loss: 0.3964 - val_accuracy: 0.8170\n",
      "Epoch 10/25\n",
      "250/250 [==============================] - 118s 472ms/step - loss: 0.4072 - accuracy: 0.8106 - val_loss: 0.4179 - val_accuracy: 0.8006\n",
      "Epoch 11/25\n",
      "250/250 [==============================] - 131s 523ms/step - loss: 0.3864 - accuracy: 0.8244 - val_loss: 0.3689 - val_accuracy: 0.8328\n",
      "Epoch 12/25\n",
      "250/250 [==============================] - 98s 391ms/step - loss: 0.3778 - accuracy: 0.8234 - val_loss: 0.3582 - val_accuracy: 0.8445\n",
      "Epoch 13/25\n",
      "250/250 [==============================] - 95s 380ms/step - loss: 0.3716 - accuracy: 0.8280 - val_loss: 0.3529 - val_accuracy: 0.8444\n",
      "Epoch 14/25\n",
      "250/250 [==============================] - 96s 383ms/step - loss: 0.3476 - accuracy: 0.8410 - val_loss: 0.3377 - val_accuracy: 0.8511\n",
      "Epoch 15/25\n",
      "250/250 [==============================] - 96s 386ms/step - loss: 0.3378 - accuracy: 0.8500 - val_loss: 0.3189 - val_accuracy: 0.8583\n",
      "Epoch 16/25\n",
      "250/250 [==============================] - 96s 384ms/step - loss: 0.3382 - accuracy: 0.8479 - val_loss: 0.3132 - val_accuracy: 0.8634\n",
      "Epoch 17/25\n",
      "250/250 [==============================] - 95s 382ms/step - loss: 0.3172 - accuracy: 0.8636 - val_loss: 0.2969 - val_accuracy: 0.8756\n",
      "Epoch 18/25\n",
      "250/250 [==============================] - 95s 380ms/step - loss: 0.3035 - accuracy: 0.8695 - val_loss: 0.3025 - val_accuracy: 0.8702\n",
      "Epoch 19/25\n",
      "250/250 [==============================] - 95s 381ms/step - loss: 0.2995 - accuracy: 0.8696 - val_loss: 0.2591 - val_accuracy: 0.8934\n",
      "Epoch 20/25\n",
      "250/250 [==============================] - 94s 374ms/step - loss: 0.2687 - accuracy: 0.8865 - val_loss: 0.2425 - val_accuracy: 0.9018\n",
      "Epoch 21/25\n",
      "250/250 [==============================] - 232s 929ms/step - loss: 0.2681 - accuracy: 0.8879 - val_loss: 0.2496 - val_accuracy: 0.8946\n",
      "Epoch 22/25\n",
      "250/250 [==============================] - 90s 362ms/step - loss: 0.2609 - accuracy: 0.8892 - val_loss: 0.2301 - val_accuracy: 0.9056\n",
      "Epoch 23/25\n",
      "250/250 [==============================] - 97s 387ms/step - loss: 0.2435 - accuracy: 0.8992 - val_loss: 0.2467 - val_accuracy: 0.8932\n",
      "Epoch 24/25\n",
      "250/250 [==============================] - 96s 383ms/step - loss: 0.2409 - accuracy: 0.8960 - val_loss: 0.2192 - val_accuracy: 0.9121\n",
      "Epoch 25/25\n",
      "250/250 [==============================] - 96s 384ms/step - loss: 0.2189 - accuracy: 0.9076 - val_loss: 0.1989 - val_accuracy: 0.9202\n"
     ]
    },
    {
     "data": {
      "text/plain": [
       "<tensorflow.python.keras.callbacks.History at 0x1a12ef54850>"
      ]
     },
     "execution_count": 20,
     "metadata": {},
     "output_type": "execute_result"
    }
   ],
   "source": [
    "model.fit(x = training_set,validation_data = training_set,epochs = 25)"
   ]
  },
  {
   "cell_type": "code",
   "execution_count": 21,
   "id": "d20e3d02",
   "metadata": {},
   "outputs": [],
   "source": [
    "from tensorflow.keras.preprocessing import image"
   ]
  },
  {
   "cell_type": "code",
   "execution_count": 32,
   "id": "41e71e30",
   "metadata": {},
   "outputs": [],
   "source": [
    "import numpy as np\n",
    "from tensorflow.keras.preprocessing import image\n",
    "test_image = image.load_img('data/single_prediction/cat_or_dog_1.jpg', target_size = (64, 64))\n",
    "test_image = image.img_to_array(test_image)\n",
    "test_image = np.expand_dims(test_image, axis = 0)\n",
    "result = model.predict(test_image)\n",
    "training_set.class_indices\n",
    "if result[0][0] == 1:\n",
    "  prediction = 'dog'\n",
    "else:\n",
    "  prediction = 'cat'"
   ]
  },
  {
   "cell_type": "code",
   "execution_count": 33,
   "id": "bd70577a",
   "metadata": {},
   "outputs": [
    {
     "name": "stdout",
     "output_type": "stream",
     "text": [
      "dog\n"
     ]
    }
   ],
   "source": [
    "print(prediction)"
   ]
  }
 ],
 "metadata": {
  "kernelspec": {
   "display_name": "Python 3",
   "language": "python",
   "name": "python3"
  },
  "language_info": {
   "codemirror_mode": {
    "name": "ipython",
    "version": 3
   },
   "file_extension": ".py",
   "mimetype": "text/x-python",
   "name": "python",
   "nbconvert_exporter": "python",
   "pygments_lexer": "ipython3",
   "version": "3.8.8"
  }
 },
 "nbformat": 4,
 "nbformat_minor": 5
}
