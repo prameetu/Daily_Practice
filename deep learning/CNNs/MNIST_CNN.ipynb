{
 "cells": [
  {
   "cell_type": "code",
   "execution_count": 1,
   "id": "6e2ab523",
   "metadata": {},
   "outputs": [],
   "source": [
    "import tensorflow as tf"
   ]
  },
  {
   "cell_type": "code",
   "execution_count": 3,
   "id": "a408df78",
   "metadata": {},
   "outputs": [],
   "source": [
    "import numpy as np\n",
    "import pandas as pd \n",
    "import matplotlib.pyplot as plt"
   ]
  },
  {
   "cell_type": "code",
   "execution_count": 5,
   "id": "c169c9a7",
   "metadata": {},
   "outputs": [],
   "source": [
    "mnist = tf.keras.datasets.mnist"
   ]
  },
  {
   "cell_type": "code",
   "execution_count": 6,
   "id": "14bc4d44",
   "metadata": {},
   "outputs": [],
   "source": [
    "(X_train, y_train), (X_test, y_test) = mnist.load_data()"
   ]
  },
  {
   "cell_type": "code",
   "execution_count": 7,
   "id": "7f60b97d",
   "metadata": {},
   "outputs": [
    {
     "data": {
      "text/plain": [
       "(60000, 28, 28)"
      ]
     },
     "execution_count": 7,
     "metadata": {},
     "output_type": "execute_result"
    }
   ],
   "source": [
    "X_train.shape"
   ]
  },
  {
   "cell_type": "code",
   "execution_count": 11,
   "id": "98595c9c",
   "metadata": {
    "scrolled": true
   },
   "outputs": [
    {
     "data": {
      "text/plain": [
       "(10000, 28, 28)"
      ]
     },
     "execution_count": 11,
     "metadata": {},
     "output_type": "execute_result"
    }
   ],
   "source": [
    "X_test.shape"
   ]
  },
  {
   "cell_type": "code",
   "execution_count": 15,
   "id": "ddcb8582",
   "metadata": {},
   "outputs": [
    {
     "data": {
      "text/plain": [
       "5"
      ]
     },
     "execution_count": 15,
     "metadata": {},
     "output_type": "execute_result"
    }
   ],
   "source": [
    "y_train[0]"
   ]
  },
  {
   "cell_type": "code",
   "execution_count": 16,
   "id": "8d08ef8b",
   "metadata": {},
   "outputs": [],
   "source": [
    "def plot_sample(X,y,index):\n",
    "    plt.figure(figsize=(12,2))\n",
    "    plt.imshow(X[index])\n",
    "    plt.xlabel([y[index]])"
   ]
  },
  {
   "cell_type": "code",
   "execution_count": 17,
   "id": "5a7f63a2",
   "metadata": {
    "scrolled": true
   },
   "outputs": [
    {
     "data": {
      "image/png": "[encoded data removed]",
      "text/plain": [
       "<Figure size 864x144 with 1 Axes>"
      ]
     },
     "metadata": {
      "needs_background": "light"
     },
     "output_type": "display_data"
    }
   ],
   "source": [
    "plot_sample(X_train,y_train,7)"
   ]
  },
  {
   "cell_type": "code",
   "execution_count": 18,
   "id": "755a2ed2",
   "metadata": {},
   "outputs": [],
   "source": [
    "#Processing the data"
   ]
  },
  {
   "cell_type": "code",
   "execution_count": 19,
   "id": "c37ff76e",
   "metadata": {},
   "outputs": [],
   "source": [
    "X_train = X_train.reshape(60000,28,28,1)"
   ]
  },
  {
   "cell_type": "code",
   "execution_count": 20,
   "id": "46364ee1",
   "metadata": {},
   "outputs": [],
   "source": [
    "X_test = X_test.reshape(10000,28,28,1)"
   ]
  },
  {
   "cell_type": "code",
   "execution_count": 21,
   "id": "4aa7ec2a",
   "metadata": {},
   "outputs": [],
   "source": [
    "y_train_one_hot = tf.keras.utils.to_categorical(y_train)"
   ]
  },
  {
   "cell_type": "code",
   "execution_count": 23,
   "id": "ba28af03",
   "metadata": {},
   "outputs": [],
   "source": [
    "y_test_one_hot = tf.keras.utils.to_categorical(y_test)"
   ]
  },
  {
   "cell_type": "code",
   "execution_count": 25,
   "id": "3b2d229d",
   "metadata": {
    "scrolled": true
   },
   "outputs": [
    {
     "data": {
      "text/plain": [
       "array([0., 0., 0., 0., 0., 1., 0., 0., 0., 0.], dtype=float32)"
      ]
     },
     "execution_count": 25,
     "metadata": {},
     "output_type": "execute_result"
    }
   ],
   "source": [
    "y_train_one_hot[0]"
   ]
  },
  {
   "cell_type": "code",
   "execution_count": 45,
   "id": "b14b9198",
   "metadata": {},
   "outputs": [],
   "source": [
    "from tensorflow.keras.models import Sequential\n",
    "from tensorflow.keras.layers import Dense,Flatten,Conv2D,MaxPool2D"
   ]
  },
  {
   "cell_type": "code",
   "execution_count": 46,
   "id": "3c541aa9",
   "metadata": {},
   "outputs": [],
   "source": [
    "model = Sequential()"
   ]
  },
  {
   "cell_type": "code",
   "execution_count": 47,
   "id": "a97f4c72",
   "metadata": {},
   "outputs": [],
   "source": [
    "model.add(Conv2D(64,kernel_size = 3,activation = 'relu',input_shape = (28,28,1) ))\n",
    "model.add(MaxPool2D(pool_size = 2,strides = 2))\n",
    "\n",
    "model.add(Conv2D(32,kernel_size = 3,activation = 'relu'))\n",
    "model.add(MaxPool2D(pool_size = 2,strides = 2))\n",
    "\n",
    "model.add(Flatten())\n",
    "model.add(Dense(128,activation = 'relu'))\n",
    "model.add(Dense(64,activation = 'relu'))\n",
    "model.add(Dense(10,activation = 'softmax'))"
   ]
  },
  {
   "cell_type": "code",
   "execution_count": 48,
   "id": "3abd4ce4",
   "metadata": {},
   "outputs": [],
   "source": [
    "model.compile(optimizer = 'adam',\n",
    "             loss = 'categorical_crossentropy', \n",
    "             metrics = ['accuracy'])"
   ]
  },
  {
   "cell_type": "code",
   "execution_count": 49,
   "id": "010d4679",
   "metadata": {
    "scrolled": true
   },
   "outputs": [
    {
     "name": "stdout",
     "output_type": "stream",
     "text": [
      "Epoch 1/10\n",
      "1875/1875 [==============================] - 64s 34ms/step - loss: 0.2057 - accuracy: 0.9526 - val_loss: 0.0552 - val_accuracy: 0.9820\n",
      "Epoch 2/10\n",
      "1875/1875 [==============================] - 60s 32ms/step - loss: 0.0636 - accuracy: 0.9812 - val_loss: 0.0564 - val_accuracy: 0.9836\n",
      "Epoch 3/10\n",
      "1875/1875 [==============================] - 60s 32ms/step - loss: 0.0507 - accuracy: 0.9846 - val_loss: 0.0577 - val_accuracy: 0.9816\n",
      "Epoch 4/10\n",
      "1875/1875 [==============================] - 60s 32ms/step - loss: 0.0437 - accuracy: 0.9871 - val_loss: 0.0537 - val_accuracy: 0.9854\n",
      "Epoch 5/10\n",
      "1875/1875 [==============================] - 60s 32ms/step - loss: 0.0369 - accuracy: 0.9884 - val_loss: 0.0466 - val_accuracy: 0.9871\n",
      "Epoch 6/10\n",
      "1875/1875 [==============================] - 60s 32ms/step - loss: 0.0314 - accuracy: 0.9904 - val_loss: 0.0545 - val_accuracy: 0.9852\n",
      "Epoch 7/10\n",
      "1875/1875 [==============================] - 60s 32ms/step - loss: 0.0245 - accuracy: 0.9924 - val_loss: 0.0502 - val_accuracy: 0.9872\n",
      "Epoch 8/10\n",
      "1875/1875 [==============================] - 60s 32ms/step - loss: 0.0229 - accuracy: 0.9931 - val_loss: 0.0459 - val_accuracy: 0.9887\n",
      "Epoch 9/10\n",
      "1875/1875 [==============================] - 61s 32ms/step - loss: 0.0189 - accuracy: 0.9942 - val_loss: 0.0490 - val_accuracy: 0.9886\n",
      "Epoch 10/10\n",
      "1875/1875 [==============================] - 61s 32ms/step - loss: 0.0205 - accuracy: 0.9941 - val_loss: 0.0597 - val_accuracy: 0.9870\n"
     ]
    }
   ],
   "source": [
    "hist = model.fit(X_train,y_train_one_hot,validation_data = (X_test,y_test_one_hot),epochs = 10)"
   ]
  },
  {
   "cell_type": "code",
   "execution_count": 51,
   "id": "ed72e4d9",
   "metadata": {},
   "outputs": [],
   "source": [
    "df = pd.DataFrame(hist.history)"
   ]
  },
  {
   "cell_type": "code",
   "execution_count": 56,
   "id": "411bcb20",
   "metadata": {
    "scrolled": true
   },
   "outputs": [
    {
     "data": {
      "text/plain": [
       "<matplotlib.legend.Legend at 0x18c63b11940>"
      ]
     },
     "execution_count": 56,
     "metadata": {},
     "output_type": "execute_result"
    },
    {
     "data": {
      "image/png": "[encoded data removed]",
      "text/plain": [
       "<Figure size 432x288 with 1 Axes>"
      ]
     },
     "metadata": {
      "needs_background": "light"
     },
     "output_type": "display_data"
    }
   ],
   "source": [
    "plt.plot(df['accuracy'])\n",
    "plt.plot(df['val_accuracy'])\n",
    "plt.title('Model Accuracy')\n",
    "plt.legend(['Train','Val'])"
   ]
  },
  {
   "cell_type": "code",
   "execution_count": 57,
   "id": "2ee985cd",
   "metadata": {},
   "outputs": [],
   "source": [
    "pred = model.predict(X_test[:4])"
   ]
  },
  {
   "cell_type": "code",
   "execution_count": 60,
   "id": "c3645d5f",
   "metadata": {},
   "outputs": [],
   "source": [
    "predictions = [np.argmax(ele) for ele in pred]"
   ]
  },
  {
   "cell_type": "code",
   "execution_count": 61,
   "id": "cef14bd5",
   "metadata": {
    "scrolled": true
   },
   "outputs": [
    {
     "data": {
      "text/plain": [
       "[7, 2, 1, 0]"
      ]
     },
     "execution_count": 61,
     "metadata": {},
     "output_type": "execute_result"
    }
   ],
   "source": [
    "predictions"
   ]
  },
  {
   "cell_type": "code",
   "execution_count": 62,
   "id": "fa3026dc",
   "metadata": {},
   "outputs": [
    {
     "data": {
      "text/plain": [
       "array([7, 2, 1, 0], dtype=uint8)"
      ]
     },
     "execution_count": 62,
     "metadata": {},
     "output_type": "execute_result"
    }
   ],
   "source": [
    "y_test[:4]"
   ]
  },
  {
   "cell_type": "code",
   "execution_count": 64,
   "id": "aa1aa7cc",
   "metadata": {},
   "outputs": [
    {
     "data": {
      "image/png": "[encoded data removed]",
      "text/plain": [
       "<Figure size 864x144 with 1 Axes>"
      ]
     },
     "metadata": {
      "needs_background": "light"
     },
     "output_type": "display_data"
    },
    {
     "data": {
      "image/png": "[encoded data removed]",
      "text/plain": [
       "<Figure size 864x144 with 1 Axes>"
      ]
     },
     "metadata": {
      "needs_background": "light"
     },
     "output_type": "display_data"
    },
    {
     "data": {
      "image/png": "[encoded data removed]",
      "text/plain": [
       "<Figure size 864x144 with 1 Axes>"
      ]
     },
     "metadata": {
      "needs_background": "light"
     },
     "output_type": "display_data"
    },
    {
     "data": {
      "image/png": "[encoded data removed]",
      "text/plain": [
       "<Figure size 864x144 with 1 Axes>"
      ]
     },
     "metadata": {
      "needs_background": "light"
     },
     "output_type": "display_data"
    }
   ],
   "source": [
    "for i in range(4):\n",
    "    plot_sample(X_test,y_test,i)"
   ]
  }
 ],
 "metadata": {
  "kernelspec": {
   "display_name": "Python 3",
   "language": "python",
   "name": "python3"
  },
  "language_info": {
   "codemirror_mode": {
    "name": "ipython",
    "version": 3
   },
   "file_extension": ".py",
   "mimetype": "text/x-python",
   "name": "python",
   "nbconvert_exporter": "python",
   "pygments_lexer": "ipython3",
   "version": "3.8.8"
  }
 },
 "nbformat": 4,
 "nbformat_minor": 5
}
