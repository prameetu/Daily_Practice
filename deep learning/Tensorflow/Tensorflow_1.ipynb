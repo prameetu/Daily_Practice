{
 "cells": [
  {
   "cell_type": "code",
   "execution_count": 1,
   "id": "f15ca103",
   "metadata": {},
   "outputs": [],
   "source": [
    "import tensorflow as tf"
   ]
  },
  {
   "cell_type": "code",
   "execution_count": 2,
   "id": "51fbcb95",
   "metadata": {
    "scrolled": true
   },
   "outputs": [
    {
     "name": "stdout",
     "output_type": "stream",
     "text": [
      "<module 'tensorflow._api.v2.version' from 'D:\\\\anaconda\\\\envs\\\\tensorflow\\\\lib\\\\site-packages\\\\tensorflow\\\\_api\\\\v2\\\\version\\\\__init__.py'>\n"
     ]
    }
   ],
   "source": [
    "print(tf.version)"
   ]
  },
  {
   "cell_type": "markdown",
   "id": "924578f6",
   "metadata": {},
   "source": [
    " TENSORS"
   ]
  },
  {
   "cell_type": "code",
   "execution_count": 6,
   "id": "fcf855ac",
   "metadata": {},
   "outputs": [],
   "source": [
    "string = tf.Variable('Prameet',tf.string)\n",
    "num = tf.Variable(1106,tf.int16)"
   ]
  },
  {
   "cell_type": "code",
   "execution_count": 27,
   "id": "d65c6656",
   "metadata": {},
   "outputs": [
    {
     "data": {
      "text/plain": [
       "<tf.Tensor: shape=(), dtype=int32, numpy=0>"
      ]
     },
     "execution_count": 27,
     "metadata": {},
     "output_type": "execute_result"
    }
   ],
   "source": [
    "tf.rank(string)"
   ]
  },
  {
   "cell_type": "code",
   "execution_count": 7,
   "id": "d4a6c4cc",
   "metadata": {},
   "outputs": [],
   "source": [
    "#Rank of tensors\n",
    "rank_1_tensor = tf.Variable(['Prameet','1106'],tf.string)"
   ]
  },
  {
   "cell_type": "code",
   "execution_count": 8,
   "id": "b7368f63",
   "metadata": {},
   "outputs": [],
   "source": [
    "rank_2_tensor = tf.Variable([['Prashant','1107'],['Prameet','1106']],tf.string)"
   ]
  },
  {
   "cell_type": "code",
   "execution_count": 15,
   "id": "746d6ae3",
   "metadata": {},
   "outputs": [
    {
     "data": {
      "text/plain": [
       "<tf.Tensor: shape=(), dtype=int32, numpy=1>"
      ]
     },
     "execution_count": 15,
     "metadata": {},
     "output_type": "execute_result"
    }
   ],
   "source": [
    "tf.rank(rank_1_tensor)\n"
   ]
  },
  {
   "cell_type": "code",
   "execution_count": 16,
   "id": "65cc94cf",
   "metadata": {},
   "outputs": [
    {
     "data": {
      "text/plain": [
       "<tf.Tensor: shape=(), dtype=int32, numpy=2>"
      ]
     },
     "execution_count": 16,
     "metadata": {},
     "output_type": "execute_result"
    }
   ],
   "source": [
    "tf.rank(rank_2_tensor)"
   ]
  },
  {
   "cell_type": "code",
   "execution_count": 17,
   "id": "9b20b337",
   "metadata": {},
   "outputs": [
    {
     "data": {
      "text/plain": [
       "TensorShape([2])"
      ]
     },
     "execution_count": 17,
     "metadata": {},
     "output_type": "execute_result"
    }
   ],
   "source": [
    "#shapes of tensor\n",
    "rank_1_tensor.shape"
   ]
  },
  {
   "cell_type": "code",
   "execution_count": 18,
   "id": "fe5e6714",
   "metadata": {},
   "outputs": [
    {
     "data": {
      "text/plain": [
       "TensorShape([2, 2])"
      ]
     },
     "execution_count": 18,
     "metadata": {},
     "output_type": "execute_result"
    }
   ],
   "source": [
    "rank_2_tensor.shape"
   ]
  },
  {
   "cell_type": "code",
   "execution_count": 19,
   "id": "7f084c80",
   "metadata": {},
   "outputs": [],
   "source": [
    "t1 =tf.ones([1,2,3])"
   ]
  },
  {
   "cell_type": "code",
   "execution_count": 20,
   "id": "a1c6d9c5",
   "metadata": {},
   "outputs": [],
   "source": [
    "#changing shape\n",
    "t2 = tf.reshape(t1,[2,3,1])"
   ]
  },
  {
   "cell_type": "code",
   "execution_count": 21,
   "id": "0c4021a9",
   "metadata": {
    "scrolled": true
   },
   "outputs": [
    {
     "name": "stdout",
     "output_type": "stream",
     "text": [
      "tf.Tensor(\n",
      "[[[1. 1. 1.]\n",
      "  [1. 1. 1.]]], shape=(1, 2, 3), dtype=float32)\n"
     ]
    }
   ],
   "source": [
    "print(t1)"
   ]
  },
  {
   "cell_type": "code",
   "execution_count": 22,
   "id": "16de84bc",
   "metadata": {
    "scrolled": true
   },
   "outputs": [
    {
     "name": "stdout",
     "output_type": "stream",
     "text": [
      "tf.Tensor(\n",
      "[[[1.]\n",
      "  [1.]\n",
      "  [1.]]\n",
      "\n",
      " [[1.]\n",
      "  [1.]\n",
      "  [1.]]], shape=(2, 3, 1), dtype=float32)\n"
     ]
    }
   ],
   "source": [
    "print(t2)"
   ]
  },
  {
   "cell_type": "code",
   "execution_count": 23,
   "id": "d4084618",
   "metadata": {},
   "outputs": [],
   "source": [
    "t3 = tf.reshape(t1,[3,-1])"
   ]
  },
  {
   "cell_type": "code",
   "execution_count": 25,
   "id": "f889908b",
   "metadata": {
    "scrolled": true
   },
   "outputs": [
    {
     "name": "stdout",
     "output_type": "stream",
     "text": [
      "tf.Tensor(\n",
      "[[1. 1.]\n",
      " [1. 1.]\n",
      " [1. 1.]], shape=(3, 2), dtype=float32)\n"
     ]
    }
   ],
   "source": [
    "print(t3)"
   ]
  },
  {
   "cell_type": "code",
   "execution_count": 51,
   "id": "e20c4348",
   "metadata": {},
   "outputs": [],
   "source": [
    "a = tf.constant(7)\n",
    "b = tf.constant(8)"
   ]
  },
  {
   "cell_type": "code",
   "execution_count": 52,
   "id": "df9715b7",
   "metadata": {},
   "outputs": [
    {
     "name": "stdout",
     "output_type": "stream",
     "text": [
      "15\r\n"
     ]
    }
   ],
   "source": [
    "tf.print(a+b)"
   ]
  },
  {
   "cell_type": "code",
   "execution_count": 34,
   "id": "dc475c4d",
   "metadata": {},
   "outputs": [],
   "source": [
    "const = tf.constant(10)"
   ]
  },
  {
   "cell_type": "code",
   "execution_count": 35,
   "id": "4cdcd20c",
   "metadata": {},
   "outputs": [],
   "source": [
    "fill_mat = tf.fill((4,4),10)"
   ]
  },
  {
   "cell_type": "code",
   "execution_count": 36,
   "id": "f307d3f2",
   "metadata": {},
   "outputs": [],
   "source": [
    "zeros = tf.zeros((4,4))\n",
    "ones = tf.ones((4,4))"
   ]
  },
  {
   "cell_type": "code",
   "execution_count": 39,
   "id": "961bb317",
   "metadata": {},
   "outputs": [],
   "source": [
    "randn = tf.random.normal((4,4),mean=0,stddev=1)"
   ]
  },
  {
   "cell_type": "code",
   "execution_count": 57,
   "id": "6d062592",
   "metadata": {},
   "outputs": [],
   "source": [
    "randu = tf.random.uniform((4,4),minval=0,maxval=1)"
   ]
  },
  {
   "cell_type": "code",
   "execution_count": 41,
   "id": "8ac638ab",
   "metadata": {
    "scrolled": true
   },
   "outputs": [
    {
     "data": {
      "text/plain": [
       "<tf.Tensor: shape=(4, 4), dtype=float32, numpy=\n",
       "array([[0., 0., 0., 0.],\n",
       "       [0., 0., 0., 0.],\n",
       "       [0., 0., 0., 0.],\n",
       "       [0., 0., 0., 0.]], dtype=float32)>"
      ]
     },
     "execution_count": 41,
     "metadata": {},
     "output_type": "execute_result"
    }
   ],
   "source": [
    "zeros"
   ]
  },
  {
   "cell_type": "code",
   "execution_count": 42,
   "id": "ea0e97b2",
   "metadata": {
    "scrolled": true
   },
   "outputs": [
    {
     "name": "stdout",
     "output_type": "stream",
     "text": [
      "[[0 0 0 0]\n",
      " [0 0 0 0]\n",
      " [0 0 0 0]\n",
      " [0 0 0 0]]\r\n"
     ]
    }
   ],
   "source": [
    "tf.print(zeros*ones)"
   ]
  },
  {
   "cell_type": "code",
   "execution_count": 43,
   "id": "cdfcf860",
   "metadata": {
    "scrolled": true
   },
   "outputs": [
    {
     "name": "stdout",
     "output_type": "stream",
     "text": [
      "[[0.987793803 1.13582373 1.42735648 0.498756766]\n",
      " [0.133504316 -1.63901305 1.77280796 -0.066622071]\n",
      " [-0.512644947 -1.5706284 0.320747226 0.180636331]\n",
      " [0.139723152 0.51674962 0.228682011 -1.14733601]]\r\n"
     ]
    }
   ],
   "source": [
    "tf.print(randn)"
   ]
  },
  {
   "cell_type": "code",
   "execution_count": 44,
   "id": "bade61be",
   "metadata": {},
   "outputs": [],
   "source": [
    "a = tf.constant([[1,2],\n",
    "                 [3,4]])"
   ]
  },
  {
   "cell_type": "code",
   "execution_count": 45,
   "id": "4e701bd8",
   "metadata": {
    "scrolled": true
   },
   "outputs": [
    {
     "data": {
      "text/plain": [
       "TensorShape([2, 2])"
      ]
     },
     "execution_count": 45,
     "metadata": {},
     "output_type": "execute_result"
    }
   ],
   "source": [
    "a.shape"
   ]
  },
  {
   "cell_type": "code",
   "execution_count": 46,
   "id": "99ae547e",
   "metadata": {},
   "outputs": [],
   "source": [
    "b = tf.constant([[10],\n",
    "                 [100]])"
   ]
  },
  {
   "cell_type": "code",
   "execution_count": 47,
   "id": "02237089",
   "metadata": {},
   "outputs": [
    {
     "data": {
      "text/plain": [
       "TensorShape([2, 1])"
      ]
     },
     "execution_count": 47,
     "metadata": {},
     "output_type": "execute_result"
    }
   ],
   "source": [
    "b.shape"
   ]
  },
  {
   "cell_type": "code",
   "execution_count": 50,
   "id": "f866101f",
   "metadata": {
    "scrolled": true
   },
   "outputs": [
    {
     "name": "stdout",
     "output_type": "stream",
     "text": [
      "tf.Tensor(\n",
      "[[210]\n",
      " [430]], shape=(2, 1), dtype=int32)\n"
     ]
    }
   ],
   "source": [
    "print(tf.matmul(a,b))"
   ]
  },
  {
   "cell_type": "code",
   "execution_count": 58,
   "id": "b20d4fe9",
   "metadata": {},
   "outputs": [
    {
     "data": {
      "text/plain": [
       "<tf.Tensor: shape=(4, 4), dtype=float32, numpy=\n",
       "array([[0.8527492 , 0.24671483, 0.91290486, 0.6417724 ],\n",
       "       [0.3981732 , 0.92306566, 0.9595978 , 0.81887674],\n",
       "       [0.18782866, 0.9457263 , 0.8535509 , 0.5153438 ],\n",
       "       [0.5488645 , 0.7689625 , 0.44320428, 0.35148227]], dtype=float32)>"
      ]
     },
     "execution_count": 58,
     "metadata": {},
     "output_type": "execute_result"
    }
   ],
   "source": [
    "randu"
   ]
  },
  {
   "cell_type": "code",
   "execution_count": 59,
   "id": "66ec1a72",
   "metadata": {},
   "outputs": [],
   "source": [
    "var = tf.Variable(randu)"
   ]
  },
  {
   "cell_type": "code",
   "execution_count": 60,
   "id": "c647592a",
   "metadata": {
    "scrolled": true
   },
   "outputs": [
    {
     "data": {
      "text/plain": [
       "<tf.Variable 'Variable:0' shape=(4, 4) dtype=float32, numpy=\n",
       "array([[0.8527492 , 0.24671483, 0.91290486, 0.6417724 ],\n",
       "       [0.3981732 , 0.92306566, 0.9595978 , 0.81887674],\n",
       "       [0.18782866, 0.9457263 , 0.8535509 , 0.5153438 ],\n",
       "       [0.5488645 , 0.7689625 , 0.44320428, 0.35148227]], dtype=float32)>"
      ]
     },
     "execution_count": 60,
     "metadata": {},
     "output_type": "execute_result"
    }
   ],
   "source": [
    "var"
   ]
  }
 ],
 "metadata": {
  "kernelspec": {
   "display_name": "Python 3",
   "language": "python",
   "name": "python3"
  },
  "language_info": {
   "codemirror_mode": {
    "name": "ipython",
    "version": 3
   },
   "file_extension": ".py",
   "mimetype": "text/x-python",
   "name": "python",
   "nbconvert_exporter": "python",
   "pygments_lexer": "ipython3",
   "version": "3.8.8"
  }
 },
 "nbformat": 4,
 "nbformat_minor": 5
}
