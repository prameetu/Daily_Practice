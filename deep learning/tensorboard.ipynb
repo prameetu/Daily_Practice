{
 "cells": [
  {
   "cell_type": "code",
   "execution_count": 1,
   "id": "cee5c55e",
   "metadata": {},
   "outputs": [],
   "source": [
    "import tensorflow as tf"
   ]
  },
  {
   "cell_type": "code",
   "execution_count": 2,
   "id": "7226515f",
   "metadata": {},
   "outputs": [],
   "source": [
    "import numpy as np\n",
    "import pandas as pd"
   ]
  },
  {
   "cell_type": "code",
   "execution_count": 3,
   "id": "129e4fb0",
   "metadata": {},
   "outputs": [],
   "source": [
    "df = pd.read_csv('cancer_classification.csv')"
   ]
  },
  {
   "cell_type": "code",
   "execution_count": 10,
   "id": "5096608b",
   "metadata": {
    "scrolled": true
   },
   "outputs": [
    {
     "name": "stdout",
     "output_type": "stream",
     "text": [
      "<class 'pandas.core.frame.DataFrame'>\n",
      "RangeIndex: 569 entries, 0 to 568\n",
      "Data columns (total 31 columns):\n",
      " #   Column                   Non-Null Count  Dtype  \n",
      "---  ------                   --------------  -----  \n",
      " 0   mean radius              569 non-null    float64\n",
      " 1   mean texture             569 non-null    float64\n",
      " 2   mean perimeter           569 non-null    float64\n",
      " 3   mean area                569 non-null    float64\n",
      " 4   mean smoothness          569 non-null    float64\n",
      " 5   mean compactness         569 non-null    float64\n",
      " 6   mean concavity           569 non-null    float64\n",
      " 7   mean concave points      569 non-null    float64\n",
      " 8   mean symmetry            569 non-null    float64\n",
      " 9   mean fractal dimension   569 non-null    float64\n",
      " 10  radius error             569 non-null    float64\n",
      " 11  texture error            569 non-null    float64\n",
      " 12  perimeter error          569 non-null    float64\n",
      " 13  area error               569 non-null    float64\n",
      " 14  smoothness error         569 non-null    float64\n",
      " 15  compactness error        569 non-null    float64\n",
      " 16  concavity error          569 non-null    float64\n",
      " 17  concave points error     569 non-null    float64\n",
      " 18  symmetry error           569 non-null    float64\n",
      " 19  fractal dimension error  569 non-null    float64\n",
      " 20  worst radius             569 non-null    float64\n",
      " 21  worst texture            569 non-null    float64\n",
      " 22  worst perimeter          569 non-null    float64\n",
      " 23  worst area               569 non-null    float64\n",
      " 24  worst smoothness         569 non-null    float64\n",
      " 25  worst compactness        569 non-null    float64\n",
      " 26  worst concavity          569 non-null    float64\n",
      " 27  worst concave points     569 non-null    float64\n",
      " 28  worst symmetry           569 non-null    float64\n",
      " 29  worst fractal dimension  569 non-null    float64\n",
      " 30  benign_0__mal_1          569 non-null    int64  \n",
      "dtypes: float64(30), int64(1)\n",
      "memory usage: 137.9 KB\n"
     ]
    }
   ],
   "source": [
    "df.info()"
   ]
  },
  {
   "cell_type": "code",
   "execution_count": 14,
   "id": "3d61e35e",
   "metadata": {},
   "outputs": [],
   "source": [
    "X = df.drop('benign_0__mal_1',axis=1).values"
   ]
  },
  {
   "cell_type": "code",
   "execution_count": 15,
   "id": "a1781b73",
   "metadata": {},
   "outputs": [],
   "source": [
    "y = df['benign_0__mal_1'].values"
   ]
  },
  {
   "cell_type": "code",
   "execution_count": 16,
   "id": "caa05e17",
   "metadata": {},
   "outputs": [],
   "source": [
    "from sklearn.model_selection import train_test_split"
   ]
  },
  {
   "cell_type": "code",
   "execution_count": 17,
   "id": "57891ccf",
   "metadata": {},
   "outputs": [],
   "source": [
    "X_train, X_test, y_train, y_test = train_test_split(X, y, test_size=0.25, random_state=101)"
   ]
  },
  {
   "cell_type": "code",
   "execution_count": 18,
   "id": "bdb94ab4",
   "metadata": {},
   "outputs": [],
   "source": [
    "from sklearn.preprocessing import MinMaxScaler"
   ]
  },
  {
   "cell_type": "code",
   "execution_count": 19,
   "id": "5a6bd653",
   "metadata": {},
   "outputs": [],
   "source": [
    "scaler = MinMaxScaler()"
   ]
  },
  {
   "cell_type": "code",
   "execution_count": 20,
   "id": "51e0794c",
   "metadata": {},
   "outputs": [],
   "source": [
    "X_train = scaler.fit_transform(X_train)"
   ]
  },
  {
   "cell_type": "code",
   "execution_count": 21,
   "id": "57d525b7",
   "metadata": {},
   "outputs": [],
   "source": [
    "X_test =  scaler.transform(X_test)"
   ]
  },
  {
   "cell_type": "code",
   "execution_count": 23,
   "id": "84501db7",
   "metadata": {},
   "outputs": [],
   "source": [
    "import tensorflow as tf\n",
    "from tensorflow.keras.models import Sequential\n",
    "from tensorflow.keras.layers import Dense,Activation,Dropout"
   ]
  },
  {
   "cell_type": "code",
   "execution_count": 24,
   "id": "fdc79fb8",
   "metadata": {},
   "outputs": [],
   "source": [
    "from tensorflow.keras.callbacks import EarlyStopping,TensorBoard"
   ]
  },
  {
   "cell_type": "code",
   "execution_count": 25,
   "id": "0bfd07c1",
   "metadata": {},
   "outputs": [],
   "source": [
    "early_stop = EarlyStopping(monitor='val_loss',mode='min',patience=25)"
   ]
  },
  {
   "cell_type": "code",
   "execution_count": 26,
   "id": "dd06a75d",
   "metadata": {
    "scrolled": true
   },
   "outputs": [
    {
     "data": {
      "text/plain": [
       "'C:\\\\Users\\\\Prameet Upaddhyay\\\\Jupyter_Files\\\\deep learning'"
      ]
     },
     "execution_count": 26,
     "metadata": {},
     "output_type": "execute_result"
    }
   ],
   "source": [
    "pwd"
   ]
  },
  {
   "cell_type": "code",
   "execution_count": 27,
   "id": "1e66a54d",
   "metadata": {},
   "outputs": [],
   "source": [
    "log_directory = 'logs\\\\fit'"
   ]
  },
  {
   "cell_type": "code",
   "execution_count": 28,
   "id": "bfa59f9f",
   "metadata": {},
   "outputs": [],
   "source": [
    "board = TensorBoard(log_dir= log_directory,\n",
    "                    histogram_freq=1,\n",
    "                    write_graph=1,\n",
    "                    write_images=1,\n",
    "                    update_freq='epoch',\n",
    "                    profile_batch=2,\n",
    "                    embeddings_freq=1)"
   ]
  },
  {
   "cell_type": "code",
   "execution_count": 29,
   "id": "93e206ee",
   "metadata": {},
   "outputs": [],
   "source": [
    "model = Sequential()\n",
    "\n",
    "model.add(Dense(units=30,activation='relu'))\n",
    "model.add(Dropout(0.5))\n",
    "model.add(Dense(units=15,activation='relu'))\n",
    "model.add(Dropout(0.5))\n",
    "model.add(Dense(units=1,activation='sigmoid'))\n",
    "\n",
    "model.compile(loss='binary_crossentropy',optimizer='adam')"
   ]
  },
  {
   "cell_type": "code",
   "execution_count": 30,
   "id": "885075c1",
   "metadata": {
    "scrolled": false
   },
   "outputs": [
    {
     "name": "stdout",
     "output_type": "stream",
     "text": [
      "Epoch 1/600\n",
      " 1/14 [=>............................] - ETA: 0s - loss: 0.7415WARNING:tensorflow:From D:\\anaconda\\envs\\tensorflow\\lib\\site-packages\\tensorflow\\python\\ops\\summary_ops_v2.py:1277: stop (from tensorflow.python.eager.profiler) is deprecated and will be removed after 2020-07-01.\n",
      "Instructions for updating:\n",
      "use `tf.profiler.experimental.stop` instead.\n",
      " 2/14 [===>..........................] - ETA: 0s - loss: 0.7209WARNING:tensorflow:Callbacks method `on_train_batch_end` is slow compared to the batch time (batch time: 0.0069s vs `on_train_batch_end` time: 0.1090s). Check your callbacks.\n",
      "14/14 [==============================] - 1s 59ms/step - loss: 0.7201 - val_loss: 0.7003\n",
      "Epoch 2/600\n",
      "14/14 [==============================] - 0s 17ms/step - loss: 0.6918 - val_loss: 0.6723\n",
      "Epoch 3/600\n",
      "14/14 [==============================] - 0s 14ms/step - loss: 0.6652 - val_loss: 0.6498\n",
      "Epoch 4/600\n",
      "14/14 [==============================] - 0s 14ms/step - loss: 0.6292 - val_loss: 0.6225\n",
      "Epoch 5/600\n",
      "14/14 [==============================] - 0s 10ms/step - loss: 0.6254 - val_loss: 0.5934\n",
      "Epoch 6/600\n",
      "14/14 [==============================] - 0s 12ms/step - loss: 0.6032 - val_loss: 0.5638\n",
      "Epoch 7/600\n",
      "14/14 [==============================] - 0s 22ms/step - loss: 0.5915 - val_loss: 0.5334\n",
      "Epoch 8/600\n",
      "14/14 [==============================] - 0s 20ms/step - loss: 0.5671 - val_loss: 0.5051\n",
      "Epoch 9/600\n",
      "14/14 [==============================] - 0s 17ms/step - loss: 0.5196 - val_loss: 0.4750\n",
      "Epoch 10/600\n",
      "14/14 [==============================] - 0s 18ms/step - loss: 0.5146 - val_loss: 0.4459\n",
      "Epoch 11/600\n",
      "14/14 [==============================] - 0s 18ms/step - loss: 0.5043 - val_loss: 0.4220\n",
      "Epoch 12/600\n",
      "14/14 [==============================] - 0s 18ms/step - loss: 0.4750 - val_loss: 0.4027\n",
      "Epoch 13/600\n",
      "14/14 [==============================] - 0s 22ms/step - loss: 0.4781 - val_loss: 0.3818\n",
      "Epoch 14/600\n",
      "14/14 [==============================] - 0s 20ms/step - loss: 0.4443 - val_loss: 0.3612\n",
      "Epoch 15/600\n",
      "14/14 [==============================] - 0s 18ms/step - loss: 0.4408 - val_loss: 0.3409\n",
      "Epoch 16/600\n",
      "14/14 [==============================] - 0s 18ms/step - loss: 0.4137 - val_loss: 0.3247\n",
      "Epoch 17/600\n",
      "14/14 [==============================] - 0s 20ms/step - loss: 0.3849 - val_loss: 0.3021\n",
      "Epoch 18/600\n",
      "14/14 [==============================] - 0s 19ms/step - loss: 0.3471 - val_loss: 0.2752\n",
      "Epoch 19/600\n",
      "14/14 [==============================] - 0s 17ms/step - loss: 0.3594 - val_loss: 0.2638\n",
      "Epoch 20/600\n",
      "14/14 [==============================] - 0s 21ms/step - loss: 0.3459 - val_loss: 0.2526\n",
      "Epoch 21/600\n",
      "14/14 [==============================] - 0s 20ms/step - loss: 0.3433 - val_loss: 0.2411\n",
      "Epoch 22/600\n",
      "14/14 [==============================] - 0s 18ms/step - loss: 0.3357 - val_loss: 0.2324\n",
      "Epoch 23/600\n",
      "14/14 [==============================] - 0s 20ms/step - loss: 0.3329 - val_loss: 0.2275\n",
      "Epoch 24/600\n",
      "14/14 [==============================] - 0s 21ms/step - loss: 0.3159 - val_loss: 0.2241\n",
      "Epoch 25/600\n",
      "14/14 [==============================] - 0s 21ms/step - loss: 0.3110 - val_loss: 0.2086\n",
      "Epoch 26/600\n",
      "14/14 [==============================] - 0s 19ms/step - loss: 0.3158 - val_loss: 0.2039\n",
      "Epoch 27/600\n",
      "14/14 [==============================] - 0s 19ms/step - loss: 0.2765 - val_loss: 0.1942\n",
      "Epoch 28/600\n",
      "14/14 [==============================] - 0s 18ms/step - loss: 0.2622 - val_loss: 0.1877\n",
      "Epoch 29/600\n",
      "14/14 [==============================] - 0s 18ms/step - loss: 0.2653 - val_loss: 0.1753\n",
      "Epoch 30/600\n",
      "14/14 [==============================] - 0s 17ms/step - loss: 0.2441 - val_loss: 0.1709\n",
      "Epoch 31/600\n",
      "14/14 [==============================] - 0s 16ms/step - loss: 0.2445 - val_loss: 0.1692\n",
      "Epoch 32/600\n",
      "14/14 [==============================] - 0s 10ms/step - loss: 0.2679 - val_loss: 0.1624\n",
      "Epoch 33/600\n",
      "14/14 [==============================] - 0s 14ms/step - loss: 0.2162 - val_loss: 0.1606\n",
      "Epoch 34/600\n",
      "14/14 [==============================] - 0s 20ms/step - loss: 0.2490 - val_loss: 0.1573\n",
      "Epoch 35/600\n",
      "14/14 [==============================] - 0s 19ms/step - loss: 0.2252 - val_loss: 0.1557\n",
      "Epoch 36/600\n",
      "14/14 [==============================] - 0s 21ms/step - loss: 0.2238 - val_loss: 0.1507\n",
      "Epoch 37/600\n",
      "14/14 [==============================] - 0s 19ms/step - loss: 0.2288 - val_loss: 0.1423\n",
      "Epoch 38/600\n",
      "14/14 [==============================] - 0s 21ms/step - loss: 0.2298 - val_loss: 0.1568\n",
      "Epoch 39/600\n",
      "14/14 [==============================] - 0s 11ms/step - loss: 0.2049 - val_loss: 0.1409\n",
      "Epoch 40/600\n",
      "14/14 [==============================] - 0s 10ms/step - loss: 0.1996 - val_loss: 0.1384\n",
      "Epoch 41/600\n",
      "14/14 [==============================] - 0s 11ms/step - loss: 0.2088 - val_loss: 0.1333\n",
      "Epoch 42/600\n",
      "14/14 [==============================] - 0s 20ms/step - loss: 0.2101 - val_loss: 0.1412\n",
      "Epoch 43/600\n",
      "14/14 [==============================] - 0s 21ms/step - loss: 0.1888 - val_loss: 0.1325\n",
      "Epoch 44/600\n",
      "14/14 [==============================] - 0s 19ms/step - loss: 0.2108 - val_loss: 0.1254\n",
      "Epoch 45/600\n",
      "14/14 [==============================] - 0s 17ms/step - loss: 0.2003 - val_loss: 0.1318\n",
      "Epoch 46/600\n",
      "14/14 [==============================] - 0s 17ms/step - loss: 0.1950 - val_loss: 0.1241\n",
      "Epoch 47/600\n",
      "14/14 [==============================] - 0s 21ms/step - loss: 0.1744 - val_loss: 0.1262\n",
      "Epoch 48/600\n",
      "14/14 [==============================] - 0s 19ms/step - loss: 0.1906 - val_loss: 0.1252\n",
      "Epoch 49/600\n",
      "14/14 [==============================] - 0s 19ms/step - loss: 0.1799 - val_loss: 0.1198\n",
      "Epoch 50/600\n",
      "14/14 [==============================] - 0s 20ms/step - loss: 0.1821 - val_loss: 0.1230\n",
      "Epoch 51/600\n",
      "14/14 [==============================] - 0s 19ms/step - loss: 0.1576 - val_loss: 0.1142\n",
      "Epoch 52/600\n",
      "14/14 [==============================] - 0s 20ms/step - loss: 0.1599 - val_loss: 0.1097\n",
      "Epoch 53/600\n",
      "14/14 [==============================] - 0s 20ms/step - loss: 0.1413 - val_loss: 0.1202\n",
      "Epoch 54/600\n",
      "14/14 [==============================] - 0s 20ms/step - loss: 0.1810 - val_loss: 0.1180\n",
      "Epoch 55/600\n",
      "14/14 [==============================] - 0s 20ms/step - loss: 0.1727 - val_loss: 0.1088\n",
      "Epoch 56/600\n",
      "14/14 [==============================] - 0s 22ms/step - loss: 0.1442 - val_loss: 0.1083\n",
      "Epoch 57/600\n",
      "14/14 [==============================] - 0s 18ms/step - loss: 0.1573 - val_loss: 0.1134\n",
      "Epoch 58/600\n",
      "14/14 [==============================] - 0s 22ms/step - loss: 0.1423 - val_loss: 0.1089\n",
      "Epoch 59/600\n",
      "14/14 [==============================] - 0s 20ms/step - loss: 0.1777 - val_loss: 0.1164\n",
      "Epoch 60/600\n",
      "14/14 [==============================] - 0s 19ms/step - loss: 0.1566 - val_loss: 0.1059\n",
      "Epoch 61/600\n",
      "14/14 [==============================] - 0s 20ms/step - loss: 0.1458 - val_loss: 0.1040\n",
      "Epoch 62/600\n",
      "14/14 [==============================] - 0s 19ms/step - loss: 0.1417 - val_loss: 0.1012\n",
      "Epoch 63/600\n",
      "14/14 [==============================] - 0s 20ms/step - loss: 0.1410 - val_loss: 0.1085\n",
      "Epoch 64/600\n",
      "14/14 [==============================] - 0s 18ms/step - loss: 0.1112 - val_loss: 0.1121\n",
      "Epoch 65/600\n",
      "14/14 [==============================] - 0s 19ms/step - loss: 0.1500 - val_loss: 0.1014\n",
      "Epoch 66/600\n",
      "14/14 [==============================] - 0s 20ms/step - loss: 0.1397 - val_loss: 0.0934\n",
      "Epoch 67/600\n",
      "14/14 [==============================] - 0s 19ms/step - loss: 0.1428 - val_loss: 0.0997\n",
      "Epoch 68/600\n",
      "14/14 [==============================] - 0s 18ms/step - loss: 0.1495 - val_loss: 0.0991\n",
      "Epoch 69/600\n",
      "14/14 [==============================] - 0s 20ms/step - loss: 0.1297 - val_loss: 0.1010\n",
      "Epoch 70/600\n",
      "14/14 [==============================] - 0s 19ms/step - loss: 0.1491 - val_loss: 0.1055\n",
      "Epoch 71/600\n",
      "14/14 [==============================] - 0s 18ms/step - loss: 0.1312 - val_loss: 0.0981\n",
      "Epoch 72/600\n",
      "14/14 [==============================] - 0s 19ms/step - loss: 0.1223 - val_loss: 0.1033\n",
      "Epoch 73/600\n",
      "14/14 [==============================] - 0s 20ms/step - loss: 0.1105 - val_loss: 0.0953\n",
      "Epoch 74/600\n",
      "14/14 [==============================] - 0s 19ms/step - loss: 0.1260 - val_loss: 0.1053\n",
      "Epoch 75/600\n",
      "14/14 [==============================] - 0s 20ms/step - loss: 0.1384 - val_loss: 0.1012\n",
      "Epoch 76/600\n"
     ]
    },
    {
     "name": "stdout",
     "output_type": "stream",
     "text": [
      "14/14 [==============================] - 0s 20ms/step - loss: 0.1402 - val_loss: 0.0897\n",
      "Epoch 77/600\n",
      "14/14 [==============================] - 0s 19ms/step - loss: 0.1227 - val_loss: 0.0967\n",
      "Epoch 78/600\n",
      "14/14 [==============================] - 0s 18ms/step - loss: 0.1091 - val_loss: 0.1061\n",
      "Epoch 79/600\n",
      "14/14 [==============================] - 0s 18ms/step - loss: 0.1052 - val_loss: 0.0966\n",
      "Epoch 80/600\n",
      "14/14 [==============================] - 0s 18ms/step - loss: 0.1256 - val_loss: 0.0926\n",
      "Epoch 81/600\n",
      "14/14 [==============================] - 0s 18ms/step - loss: 0.1112 - val_loss: 0.1125\n",
      "Epoch 82/600\n",
      "14/14 [==============================] - 0s 18ms/step - loss: 0.1383 - val_loss: 0.1000\n",
      "Epoch 83/600\n",
      "14/14 [==============================] - 0s 18ms/step - loss: 0.1299 - val_loss: 0.1054\n",
      "Epoch 84/600\n",
      "14/14 [==============================] - 0s 18ms/step - loss: 0.1199 - val_loss: 0.0992\n",
      "Epoch 85/600\n",
      "14/14 [==============================] - 0s 18ms/step - loss: 0.1161 - val_loss: 0.0953\n",
      "Epoch 86/600\n",
      "14/14 [==============================] - 0s 18ms/step - loss: 0.1153 - val_loss: 0.1110\n",
      "Epoch 87/600\n",
      "14/14 [==============================] - 0s 18ms/step - loss: 0.0986 - val_loss: 0.0940\n",
      "Epoch 88/600\n",
      "14/14 [==============================] - 0s 19ms/step - loss: 0.1022 - val_loss: 0.0880\n",
      "Epoch 89/600\n",
      "14/14 [==============================] - 0s 18ms/step - loss: 0.1110 - val_loss: 0.0907\n",
      "Epoch 90/600\n",
      "14/14 [==============================] - 0s 19ms/step - loss: 0.1270 - val_loss: 0.0922\n",
      "Epoch 91/600\n",
      "14/14 [==============================] - 0s 18ms/step - loss: 0.1132 - val_loss: 0.1050\n",
      "Epoch 92/600\n",
      "14/14 [==============================] - 0s 20ms/step - loss: 0.1035 - val_loss: 0.0978\n",
      "Epoch 93/600\n",
      "14/14 [==============================] - 0s 19ms/step - loss: 0.1113 - val_loss: 0.0864\n",
      "Epoch 94/600\n",
      "14/14 [==============================] - 0s 19ms/step - loss: 0.1111 - val_loss: 0.0951\n",
      "Epoch 95/600\n",
      "14/14 [==============================] - 0s 19ms/step - loss: 0.1382 - val_loss: 0.0957\n",
      "Epoch 96/600\n",
      "14/14 [==============================] - 0s 21ms/step - loss: 0.1155 - val_loss: 0.0965\n",
      "Epoch 97/600\n",
      "14/14 [==============================] - 0s 20ms/step - loss: 0.0925 - val_loss: 0.0841\n",
      "Epoch 98/600\n",
      "14/14 [==============================] - 0s 20ms/step - loss: 0.1093 - val_loss: 0.0967\n",
      "Epoch 99/600\n",
      "14/14 [==============================] - 0s 21ms/step - loss: 0.0806 - val_loss: 0.0901\n",
      "Epoch 100/600\n",
      "14/14 [==============================] - 0s 18ms/step - loss: 0.1005 - val_loss: 0.0933\n",
      "Epoch 101/600\n",
      "14/14 [==============================] - 0s 20ms/step - loss: 0.1090 - val_loss: 0.0857\n",
      "Epoch 102/600\n",
      "14/14 [==============================] - 0s 19ms/step - loss: 0.1195 - val_loss: 0.1166\n",
      "Epoch 103/600\n",
      "14/14 [==============================] - 0s 19ms/step - loss: 0.1058 - val_loss: 0.0932\n",
      "Epoch 104/600\n",
      "14/14 [==============================] - 0s 19ms/step - loss: 0.0946 - val_loss: 0.0855\n",
      "Epoch 105/600\n",
      "14/14 [==============================] - 0s 19ms/step - loss: 0.0991 - val_loss: 0.1077\n",
      "Epoch 106/600\n",
      "14/14 [==============================] - 0s 19ms/step - loss: 0.0992 - val_loss: 0.0948\n",
      "Epoch 107/600\n",
      "14/14 [==============================] - 0s 18ms/step - loss: 0.0991 - val_loss: 0.0839\n",
      "Epoch 108/600\n",
      "14/14 [==============================] - 0s 19ms/step - loss: 0.0984 - val_loss: 0.1039\n",
      "Epoch 109/600\n",
      "14/14 [==============================] - 0s 19ms/step - loss: 0.1029 - val_loss: 0.0947\n",
      "Epoch 110/600\n",
      "14/14 [==============================] - 0s 17ms/step - loss: 0.1046 - val_loss: 0.1071\n",
      "Epoch 111/600\n",
      "14/14 [==============================] - 0s 12ms/step - loss: 0.0980 - val_loss: 0.0820\n",
      "Epoch 112/600\n",
      "14/14 [==============================] - 0s 12ms/step - loss: 0.1192 - val_loss: 0.0914\n",
      "Epoch 113/600\n",
      "14/14 [==============================] - 0s 17ms/step - loss: 0.1003 - val_loss: 0.0929\n",
      "Epoch 114/600\n",
      "14/14 [==============================] - 0s 19ms/step - loss: 0.0997 - val_loss: 0.0898\n",
      "Epoch 115/600\n",
      "14/14 [==============================] - 0s 20ms/step - loss: 0.0918 - val_loss: 0.0931\n",
      "Epoch 116/600\n",
      "14/14 [==============================] - 0s 19ms/step - loss: 0.1004 - val_loss: 0.0864\n",
      "Epoch 117/600\n",
      "14/14 [==============================] - 0s 19ms/step - loss: 0.1015 - val_loss: 0.0861\n",
      "Epoch 118/600\n",
      "14/14 [==============================] - 0s 19ms/step - loss: 0.1146 - val_loss: 0.0854\n",
      "Epoch 119/600\n",
      "14/14 [==============================] - 0s 19ms/step - loss: 0.0795 - val_loss: 0.0853\n",
      "Epoch 120/600\n",
      "14/14 [==============================] - 0s 19ms/step - loss: 0.0962 - val_loss: 0.1019\n",
      "Epoch 121/600\n",
      "14/14 [==============================] - 0s 19ms/step - loss: 0.1056 - val_loss: 0.0963\n",
      "Epoch 122/600\n",
      "14/14 [==============================] - 0s 21ms/step - loss: 0.0975 - val_loss: 0.0787\n",
      "Epoch 123/600\n",
      "14/14 [==============================] - 0s 20ms/step - loss: 0.0933 - val_loss: 0.0944\n",
      "Epoch 124/600\n",
      "14/14 [==============================] - 0s 20ms/step - loss: 0.1042 - val_loss: 0.1047\n",
      "Epoch 125/600\n",
      "14/14 [==============================] - 0s 20ms/step - loss: 0.1127 - val_loss: 0.0989\n",
      "Epoch 126/600\n",
      "14/14 [==============================] - 0s 21ms/step - loss: 0.0928 - val_loss: 0.0860\n",
      "Epoch 127/600\n",
      "14/14 [==============================] - 0s 19ms/step - loss: 0.0829 - val_loss: 0.0893\n",
      "Epoch 128/600\n",
      "14/14 [==============================] - 0s 20ms/step - loss: 0.0895 - val_loss: 0.0934\n",
      "Epoch 129/600\n",
      "14/14 [==============================] - 0s 18ms/step - loss: 0.0929 - val_loss: 0.0839\n",
      "Epoch 130/600\n",
      "14/14 [==============================] - 0s 20ms/step - loss: 0.0918 - val_loss: 0.0917\n",
      "Epoch 131/600\n",
      "14/14 [==============================] - 0s 18ms/step - loss: 0.0951 - val_loss: 0.0780\n",
      "Epoch 132/600\n",
      "14/14 [==============================] - 0s 19ms/step - loss: 0.0783 - val_loss: 0.0942\n",
      "Epoch 133/600\n",
      "14/14 [==============================] - 0s 21ms/step - loss: 0.0842 - val_loss: 0.0804\n",
      "Epoch 134/600\n",
      "14/14 [==============================] - 0s 20ms/step - loss: 0.0918 - val_loss: 0.0841\n",
      "Epoch 135/600\n",
      "14/14 [==============================] - 0s 20ms/step - loss: 0.0940 - val_loss: 0.0806\n",
      "Epoch 136/600\n",
      "14/14 [==============================] - 0s 19ms/step - loss: 0.0730 - val_loss: 0.0890\n",
      "Epoch 137/600\n",
      "14/14 [==============================] - 0s 18ms/step - loss: 0.1089 - val_loss: 0.1030\n",
      "Epoch 138/600\n",
      "14/14 [==============================] - 0s 20ms/step - loss: 0.0790 - val_loss: 0.0816\n",
      "Epoch 139/600\n",
      "14/14 [==============================] - 0s 10ms/step - loss: 0.0788 - val_loss: 0.0884\n",
      "Epoch 140/600\n",
      "14/14 [==============================] - 0s 19ms/step - loss: 0.0969 - val_loss: 0.0933\n",
      "Epoch 141/600\n",
      "14/14 [==============================] - 0s 20ms/step - loss: 0.0726 - val_loss: 0.1045\n",
      "Epoch 142/600\n",
      "14/14 [==============================] - 0s 19ms/step - loss: 0.0761 - val_loss: 0.1084\n",
      "Epoch 143/600\n",
      "14/14 [==============================] - 0s 20ms/step - loss: 0.0802 - val_loss: 0.1043\n",
      "Epoch 144/600\n",
      "14/14 [==============================] - 0s 19ms/step - loss: 0.0712 - val_loss: 0.0815\n",
      "Epoch 145/600\n",
      "14/14 [==============================] - 0s 18ms/step - loss: 0.0910 - val_loss: 0.0900\n",
      "Epoch 146/600\n",
      "14/14 [==============================] - 0s 18ms/step - loss: 0.0821 - val_loss: 0.1154\n",
      "Epoch 147/600\n",
      "14/14 [==============================] - 0s 19ms/step - loss: 0.0918 - val_loss: 0.0915\n",
      "Epoch 148/600\n",
      "14/14 [==============================] - 0s 20ms/step - loss: 0.0680 - val_loss: 0.1017\n",
      "Epoch 149/600\n",
      "14/14 [==============================] - 0s 17ms/step - loss: 0.0880 - val_loss: 0.1053\n",
      "Epoch 150/600\n",
      "14/14 [==============================] - 0s 19ms/step - loss: 0.0907 - val_loss: 0.0931\n",
      "Epoch 151/600\n",
      "14/14 [==============================] - 0s 18ms/step - loss: 0.0795 - val_loss: 0.0931\n",
      "Epoch 152/600\n",
      "14/14 [==============================] - 0s 19ms/step - loss: 0.0762 - val_loss: 0.1001\n",
      "Epoch 153/600\n",
      "14/14 [==============================] - 0s 20ms/step - loss: 0.0683 - val_loss: 0.1021\n",
      "Epoch 154/600\n",
      "14/14 [==============================] - 0s 19ms/step - loss: 0.0928 - val_loss: 0.1104\n",
      "Epoch 155/600\n",
      "14/14 [==============================] - 0s 19ms/step - loss: 0.0881 - val_loss: 0.1006\n",
      "Epoch 156/600\n"
     ]
    },
    {
     "name": "stdout",
     "output_type": "stream",
     "text": [
      "14/14 [==============================] - 0s 19ms/step - loss: 0.0855 - val_loss: 0.0921\n"
     ]
    },
    {
     "data": {
      "text/plain": [
       "<tensorflow.python.keras.callbacks.History at 0x19b105a3790>"
      ]
     },
     "execution_count": 30,
     "metadata": {},
     "output_type": "execute_result"
    }
   ],
   "source": [
    "model.fit(x=X_train,\n",
    "          y=y_train,\n",
    "         epochs=600,\n",
    "         validation_data=(X_test,y_test),\n",
    "         callbacks=[early_stop,board])\n"
   ]
  },
  {
   "cell_type": "code",
   "execution_count": 32,
   "id": "bbf60664",
   "metadata": {},
   "outputs": [
    {
     "name": "stdout",
     "output_type": "stream",
     "text": [
      "logs\\fit\n"
     ]
    }
   ],
   "source": [
    "print(log_directory)"
   ]
  },
  {
   "cell_type": "code",
   "execution_count": 33,
   "id": "19a6191d",
   "metadata": {},
   "outputs": [
    {
     "data": {
      "text/plain": [
       "'C:\\\\Users\\\\Prameet Upaddhyay\\\\Jupyter_Files\\\\deep learning'"
      ]
     },
     "execution_count": 33,
     "metadata": {},
     "output_type": "execute_result"
    }
   ],
   "source": [
    "pwd"
   ]
  },
  {
   "cell_type": "code",
   "execution_count": 34,
   "id": "ec76a2a3",
   "metadata": {},
   "outputs": [],
   "source": [
    "#ensorboard will run locally in your browser at http://localhost:6006/"
   ]
  }
 ],
 "metadata": {
  "kernelspec": {
   "display_name": "Python 3",
   "language": "python",
   "name": "python3"
  },
  "language_info": {
   "codemirror_mode": {
    "name": "ipython",
    "version": 3
   },
   "file_extension": ".py",
   "mimetype": "text/x-python",
   "name": "python",
   "nbconvert_exporter": "python",
   "pygments_lexer": "ipython3",
   "version": "3.8.8"
  }
 },
 "nbformat": 4,
 "nbformat_minor": 5
}
