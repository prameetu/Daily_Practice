{
 "cells": [
  {
   "cell_type": "code",
   "execution_count": 4,
   "metadata": {},
   "outputs": [
    {
     "name": "stdout",
     "output_type": "stream",
     "text": [
      "4.14.3\n"
     ]
    }
   ],
   "source": [
    "import pandas as pd\n",
    "import numpy as np\n",
    "from plotly import __version__\n",
    "print(__version__)\n",
    "\n",
    "\n",
    "from plotly.offline import download_plotlyjs,init_notebook_mode,plot,iplot\n"
   ]
  },
  {
   "cell_type": "code",
   "execution_count": 6,
   "metadata": {},
   "outputs": [
    {
     "data": {
      "text/html": [
       "        <script type=\"text/javascript\">\n",
       "        window.PlotlyConfig = {MathJaxConfig: 'local'};\n",
       "        if (window.MathJax) {MathJax.Hub.Config({SVG: {font: \"STIX-Web\"}});}\n",
       "        if (typeof require !== 'undefined') {\n",
       "        require.undef(\"plotly\");\n",
       "        requirejs.config({\n",
       "            paths: {\n",
       "                'plotly': ['https://cdn.plot.ly/plotly-latest.min']\n",
       "            }\n",
       "        });\n",
       "        require(['plotly'], function(Plotly) {\n",
       "            window._Plotly = Plotly;\n",
       "        });\n",
       "        }\n",
       "        </script>\n",
       "        "
      ]
     },
     "metadata": {},
     "output_type": "display_data"
    }
   ],
   "source": [
    "import cufflinks as cf\n",
    "init_notebook_mode(connected=True)"
   ]
  },
  {
   "cell_type": "code",
   "execution_count": 7,
   "metadata": {},
   "outputs": [
    {
     "data": {
      "text/html": [
       "        <script type=\"text/javascript\">\n",
       "        window.PlotlyConfig = {MathJaxConfig: 'local'};\n",
       "        if (window.MathJax) {MathJax.Hub.Config({SVG: {font: \"STIX-Web\"}});}\n",
       "        if (typeof require !== 'undefined') {\n",
       "        require.undef(\"plotly\");\n",
       "        requirejs.config({\n",
       "            paths: {\n",
       "                'plotly': ['https://cdn.plot.ly/plotly-latest.min']\n",
       "            }\n",
       "        });\n",
       "        require(['plotly'], function(Plotly) {\n",
       "            window._Plotly = Plotly;\n",
       "        });\n",
       "        }\n",
       "        </script>\n",
       "        "
      ]
     },
     "metadata": {},
     "output_type": "display_data"
    }
   ],
   "source": [
    "cf.go_offline()"
   ]
  },
  {
   "cell_type": "code",
   "execution_count": 10,
   "metadata": {
    "scrolled": true
   },
   "outputs": [
    {
     "data": {
      "text/html": [
       "<div>\n",
       "<style scoped>\n",
       "    .dataframe tbody tr th:only-of-type {\n",
       "        vertical-align: middle;\n",
       "    }\n",
       "\n",
       "    .dataframe tbody tr th {\n",
       "        vertical-align: top;\n",
       "    }\n",
       "\n",
       "    .dataframe thead th {\n",
       "        text-align: right;\n",
       "    }\n",
       "</style>\n",
       "<table border=\"1\" class=\"dataframe\">\n",
       "  <thead>\n",
       "    <tr style=\"text-align: right;\">\n",
       "      <th></th>\n",
       "      <th>A</th>\n",
       "      <th>B</th>\n",
       "      <th>C</th>\n",
       "      <th>D</th>\n",
       "    </tr>\n",
       "  </thead>\n",
       "  <tbody>\n",
       "    <tr>\n",
       "      <th>0</th>\n",
       "      <td>-1.972209</td>\n",
       "      <td>-0.154674</td>\n",
       "      <td>0.080365</td>\n",
       "      <td>0.209991</td>\n",
       "    </tr>\n",
       "    <tr>\n",
       "      <th>1</th>\n",
       "      <td>-0.011672</td>\n",
       "      <td>-1.103714</td>\n",
       "      <td>-1.180316</td>\n",
       "      <td>-1.199058</td>\n",
       "    </tr>\n",
       "    <tr>\n",
       "      <th>2</th>\n",
       "      <td>-1.581096</td>\n",
       "      <td>-0.054168</td>\n",
       "      <td>1.882445</td>\n",
       "      <td>-0.101083</td>\n",
       "    </tr>\n",
       "    <tr>\n",
       "      <th>3</th>\n",
       "      <td>-0.346551</td>\n",
       "      <td>0.414222</td>\n",
       "      <td>1.134999</td>\n",
       "      <td>0.811292</td>\n",
       "    </tr>\n",
       "    <tr>\n",
       "      <th>4</th>\n",
       "      <td>-2.477227</td>\n",
       "      <td>-0.473120</td>\n",
       "      <td>-1.557561</td>\n",
       "      <td>0.831329</td>\n",
       "    </tr>\n",
       "    <tr>\n",
       "      <th>...</th>\n",
       "      <td>...</td>\n",
       "      <td>...</td>\n",
       "      <td>...</td>\n",
       "      <td>...</td>\n",
       "    </tr>\n",
       "    <tr>\n",
       "      <th>95</th>\n",
       "      <td>1.747981</td>\n",
       "      <td>-0.499823</td>\n",
       "      <td>0.261726</td>\n",
       "      <td>-1.064922</td>\n",
       "    </tr>\n",
       "    <tr>\n",
       "      <th>96</th>\n",
       "      <td>1.299652</td>\n",
       "      <td>0.470284</td>\n",
       "      <td>-1.575773</td>\n",
       "      <td>0.568131</td>\n",
       "    </tr>\n",
       "    <tr>\n",
       "      <th>97</th>\n",
       "      <td>0.171777</td>\n",
       "      <td>0.778648</td>\n",
       "      <td>-0.142084</td>\n",
       "      <td>-1.539391</td>\n",
       "    </tr>\n",
       "    <tr>\n",
       "      <th>98</th>\n",
       "      <td>0.942376</td>\n",
       "      <td>-0.735734</td>\n",
       "      <td>0.323894</td>\n",
       "      <td>-0.318332</td>\n",
       "    </tr>\n",
       "    <tr>\n",
       "      <th>99</th>\n",
       "      <td>-1.487555</td>\n",
       "      <td>-1.346494</td>\n",
       "      <td>-0.339482</td>\n",
       "      <td>-0.308352</td>\n",
       "    </tr>\n",
       "  </tbody>\n",
       "</table>\n",
       "<p>100 rows × 4 columns</p>\n",
       "</div>"
      ],
      "text/plain": [
       "           A         B         C         D\n",
       "0  -1.972209 -0.154674  0.080365  0.209991\n",
       "1  -0.011672 -1.103714 -1.180316 -1.199058\n",
       "2  -1.581096 -0.054168  1.882445 -0.101083\n",
       "3  -0.346551  0.414222  1.134999  0.811292\n",
       "4  -2.477227 -0.473120 -1.557561  0.831329\n",
       "..       ...       ...       ...       ...\n",
       "95  1.747981 -0.499823  0.261726 -1.064922\n",
       "96  1.299652  0.470284 -1.575773  0.568131\n",
       "97  0.171777  0.778648 -0.142084 -1.539391\n",
       "98  0.942376 -0.735734  0.323894 -0.318332\n",
       "99 -1.487555 -1.346494 -0.339482 -0.308352\n",
       "\n",
       "[100 rows x 4 columns]"
      ]
     },
     "execution_count": 10,
     "metadata": {},
     "output_type": "execute_result"
    }
   ],
   "source": [
    "df = pd.DataFrame(np.random.randn(100,4),columns='A B C D'.split())\n",
    "df"
   ]
  },
  {
   "cell_type": "code",
   "execution_count": 12,
   "metadata": {},
   "outputs": [],
   "source": [
    "df2 = pd.DataFrame({'Category':['A','B','C'],'Values':[32,43,50]})"
   ]
  },
  {
   "cell_type": "code",
   "execution_count": 13,
   "metadata": {},
   "outputs": [
    {
     "data": {
      "text/html": [
       "<div>\n",
       "<style scoped>\n",
       "    .dataframe tbody tr th:only-of-type {\n",
       "        vertical-align: middle;\n",
       "    }\n",
       "\n",
       "    .dataframe tbody tr th {\n",
       "        vertical-align: top;\n",
       "    }\n",
       "\n",
       "    .dataframe thead th {\n",
       "        text-align: right;\n",
       "    }\n",
       "</style>\n",
       "<table border=\"1\" class=\"dataframe\">\n",
       "  <thead>\n",
       "    <tr style=\"text-align: right;\">\n",
       "      <th></th>\n",
       "      <th>Category</th>\n",
       "      <th>Values</th>\n",
       "    </tr>\n",
       "  </thead>\n",
       "  <tbody>\n",
       "    <tr>\n",
       "      <th>0</th>\n",
       "      <td>A</td>\n",
       "      <td>32</td>\n",
       "    </tr>\n",
       "    <tr>\n",
       "      <th>1</th>\n",
       "      <td>B</td>\n",
       "      <td>43</td>\n",
       "    </tr>\n",
       "    <tr>\n",
       "      <th>2</th>\n",
       "      <td>C</td>\n",
       "      <td>50</td>\n",
       "    </tr>\n",
       "  </tbody>\n",
       "</table>\n",
       "</div>"
      ],
      "text/plain": [
       "  Category  Values\n",
       "0        A      32\n",
       "1        B      43\n",
       "2        C      50"
      ]
     },
     "execution_count": 13,
     "metadata": {},
     "output_type": "execute_result"
    }
   ],
   "source": [
    "df2"
   ]
  },
  {
   "cell_type": "code",
   "execution_count": 14,
   "metadata": {},
   "outputs": [
    {
     "data": {
      "text/plain": [
       "<AxesSubplot:>"
      ]
     },
     "execution_count": 14,
     "metadata": {},
     "output_type": "execute_result"
    },
    {
     "data": {
      "image/png": "[encoded data removed]",
      "text/plain": [
       "<Figure size 432x288 with 1 Axes>"
      ]
     },
     "metadata": {
      "needs_background": "light"
     },
     "output_type": "display_data"
    }
   ],
   "source": [
    "df.plot()"
   ]
  },
  {
   "cell_type": "code",
   "execution_count": 15,
   "metadata": {
    "scrolled": true
   },
   "outputs": [
    {
     "data": {
      "application/vnd.plotly.v1+json": {
       "config": {
        "linkText": "Export to plot.ly",
        "plotlyServerURL": "https://plot.ly",
        "showLink": true
       },
       "data": [
        {
         "line": {
          "color": "rgba(255, 153, 51, 1.0)",
          "dash": "solid",
          "shape": "linear",
          "width": 1.3
         },
         "mode": "lines",
         "name": "A",
         "text": "",
         "type": "scatter",
         "x": [
          0,
          1,
          2,
          3,
          4,
          5,
          6,
          7,
          8,
          9,
          10,
          11,
          12,
          13,
          14,
          15,
          16,
          17,
          18,
          19,
          20,
          21,
          22,
          23,
          24,
          25,
          26,
          27,
          28,
          29,
          30,
          31,
          32,
          33,
          34,
          35,
          36,
          37,
          38,
          39,
          40,
          41,
          42,
          43,
          44,
          45,
          46,
          47,
          48,
          49,
          50,
          51,
          52,
          53,
          54,
          55,
          56,
          57,
          58,
          59,
          60,
          61,
          62,
          63,
          64,
          65,
          66,
          67,
          68,
          69,
          70,
          71,
          72,
          73,
          74,
          75,
          76,
          77,
          78,
          79,
          80,
          81,
          82,
          83,
          84,
          85,
          86,
          87,
          88,
          89,
          90,
          91,
          92,
          93,
          94,
          95,
          96,
          97,
          98,
          99
         ],
         "y": [
          -1.9722087496969223,
          -0.011671936731851002,
          -1.581095695462608,
          -0.34655125540727333,
          -2.477227183550656,
          1.0941645349574753,
          1.0229529172073148,
          -0.2598830879365222,
          -0.03408300204513225,
          0.316552878256426,
          -0.9560391300790448,
          0.03686863729565844,
          -1.057002166096782,
          1.1269640029188206,
          -2.9267062941867423,
          -0.746704279766539,
          0.05041994672178217,
          0.48710115962661305,
          0.4411562042292949,
          1.9586541598607206,
          -1.1264446501035439,
          -0.8893264007516325,
          -0.912797025545708,
          -0.6764986758310823,
          0.060741922825052995,
          -1.8449685175213293,
          -0.2581939666458554,
          -1.0845735336268134,
          1.3092149762046064,
          -0.3066644272536902,
          2.6272020454447893,
          1.9776080885194243,
          0.5668461448153023,
          0.14871793417682036,
          0.5589477908589175,
          1.569395013601064,
          0.6903765899355268,
          -0.9624507753100264,
          -1.1982377774156872,
          0.3460526200922986,
          -1.5813823853788058,
          -0.060380627009908705,
          -0.45301810031688394,
          -0.8874355334946187,
          -0.08069904562752264,
          0.9892325935849244,
          -0.4402405812651847,
          0.9062225085353147,
          0.051935187991758267,
          -0.7749692187429894,
          0.20663577894552076,
          -2.6432173202033327,
          0.428142633290837,
          0.28064340537672056,
          0.49998815039368866,
          -2.282375457843157,
          -0.2636867903407214,
          -0.8818468535001559,
          -0.3507863058950262,
          -0.3459010474609139,
          -0.2537435919563658,
          0.7534214071578663,
          -0.9475830799767535,
          -1.275468885966171,
          -1.0661714834592064,
          -0.9048886981411098,
          0.25326937641655517,
          2.1839204484406034,
          -0.8272174280292035,
          -0.4645040193133396,
          0.8445505137052899,
          0.36733557594376404,
          -0.21495587739570762,
          -0.2147215789481739,
          -1.014567110997098,
          -0.5200774799937841,
          -0.6299002021429765,
          -0.018567917997282603,
          -1.0129723040910823,
          -1.244448617322104,
          0.9101942921335867,
          0.14653083392106686,
          -0.4696844835441938,
          0.25679717959833154,
          -0.26913999204070016,
          0.49298478979236415,
          -1.7553400104436443,
          -0.32567192940690426,
          0.4963013251259451,
          0.33715228833004396,
          -0.48702644670754175,
          0.583173722625296,
          -0.13151299514984052,
          -0.17277039856468238,
          -0.3932252217320785,
          1.747981066541866,
          1.2996522287381982,
          0.17177685124461037,
          0.942376140480576,
          -1.4875548956939744
         ]
        },
        {
         "line": {
          "color": "rgba(55, 128, 191, 1.0)",
          "dash": "solid",
          "shape": "linear",
          "width": 1.3
         },
         "mode": "lines",
         "name": "B",
         "text": "",
         "type": "scatter",
         "x": [
          0,
          1,
          2,
          3,
          4,
          5,
          6,
          7,
          8,
          9,
          10,
          11,
          12,
          13,
          14,
          15,
          16,
          17,
          18,
          19,
          20,
          21,
          22,
          23,
          24,
          25,
          26,
          27,
          28,
          29,
          30,
          31,
          32,
          33,
          34,
          35,
          36,
          37,
          38,
          39,
          40,
          41,
          42,
          43,
          44,
          45,
          46,
          47,
          48,
          49,
          50,
          51,
          52,
          53,
          54,
          55,
          56,
          57,
          58,
          59,
          60,
          61,
          62,
          63,
          64,
          65,
          66,
          67,
          68,
          69,
          70,
          71,
          72,
          73,
          74,
          75,
          76,
          77,
          78,
          79,
          80,
          81,
          82,
          83,
          84,
          85,
          86,
          87,
          88,
          89,
          90,
          91,
          92,
          93,
          94,
          95,
          96,
          97,
          98,
          99
         ],
         "y": [
          -0.15467443438003167,
          -1.103714486619362,
          -0.0541684553591224,
          0.41422239107560715,
          -0.47311978978456737,
          0.08890758298241469,
          0.6542883889705488,
          0.1526791972817478,
          -1.0761625495932814,
          0.4108953551780461,
          0.8849114941005151,
          -1.7404564207865973,
          -0.2834726233350443,
          -0.7225958554493189,
          -0.3360213951887905,
          -0.43360752963912125,
          -0.28610770283411324,
          0.5140475923376779,
          0.6498272394533989,
          -0.1880381648673378,
          3.029906110373341,
          -0.655023507621413,
          -0.29993908275112585,
          0.17257175369280023,
          -0.8252449189026975,
          -0.5068002853772337,
          0.7260798014189815,
          -0.3890204893183104,
          -0.42350519981926266,
          -0.9830897847082721,
          -0.745081495310831,
          0.5885934793538804,
          1.3819602740760888,
          -0.6052431371727914,
          -0.795447989408926,
          -0.36279193604862736,
          0.6507982198529062,
          0.26554271337673624,
          0.4278905943406648,
          0.7667337976267404,
          -1.009477598035802,
          1.7868695252714277,
          0.07238439431084817,
          -0.2921642502366185,
          0.8037729291547354,
          -0.2997123802579395,
          0.5540178206043035,
          0.4378922178605772,
          0.516907689763789,
          -0.7489107442737745,
          0.3042169050027822,
          -1.2286144224027291,
          -1.4768661895797555,
          -0.5706672119608341,
          1.4961773942937893,
          -0.15560187954158308,
          0.03247288091238335,
          0.3121279723427983,
          1.2036174628101248,
          -1.8149602214495568,
          -0.25267277264871385,
          -0.31891897183935325,
          -0.47381322603680753,
          0.9177839120362744,
          -0.6619439676220062,
          -0.22228104761216375,
          0.5167188779834639,
          -0.5886601441588484,
          -0.49111226630245897,
          0.2442643888637009,
          -0.04507916296916212,
          0.9049845080788567,
          0.49394996349843406,
          0.202128923957163,
          0.9149650220094239,
          0.20786740242860877,
          1.2558499203678959,
          -0.8882369239533632,
          -0.5665994304015882,
          -2.52713736735959,
          -0.40202525070563416,
          0.42337816477791873,
          2.930189646869836,
          -0.29870561060645767,
          1.0259894736560005,
          -0.5434596778354565,
          -0.48187202723754213,
          -0.7849654446928984,
          0.5354112571672852,
          -0.12100382967481559,
          -1.288362701278329,
          -1.3144891120780753,
          -0.3190835777670386,
          -0.9499938842804496,
          -1.3683098023592501,
          -0.4998233472993743,
          0.47028413887107634,
          0.7786479452061807,
          -0.7357339189416259,
          -1.3464941644058384
         ]
        },
        {
         "line": {
          "color": "rgba(50, 171, 96, 1.0)",
          "dash": "solid",
          "shape": "linear",
          "width": 1.3
         },
         "mode": "lines",
         "name": "C",
         "text": "",
         "type": "scatter",
         "x": [
          0,
          1,
          2,
          3,
          4,
          5,
          6,
          7,
          8,
          9,
          10,
          11,
          12,
          13,
          14,
          15,
          16,
          17,
          18,
          19,
          20,
          21,
          22,
          23,
          24,
          25,
          26,
          27,
          28,
          29,
          30,
          31,
          32,
          33,
          34,
          35,
          36,
          37,
          38,
          39,
          40,
          41,
          42,
          43,
          44,
          45,
          46,
          47,
          48,
          49,
          50,
          51,
          52,
          53,
          54,
          55,
          56,
          57,
          58,
          59,
          60,
          61,
          62,
          63,
          64,
          65,
          66,
          67,
          68,
          69,
          70,
          71,
          72,
          73,
          74,
          75,
          76,
          77,
          78,
          79,
          80,
          81,
          82,
          83,
          84,
          85,
          86,
          87,
          88,
          89,
          90,
          91,
          92,
          93,
          94,
          95,
          96,
          97,
          98,
          99
         ],
         "y": [
          0.08036546985632058,
          -1.1803155619663286,
          1.882445236348399,
          1.1349992260603332,
          -1.5575608308528395,
          -0.1527564653318407,
          -0.2961188984253155,
          -0.026937775969907905,
          -1.272905763155189,
          -0.8549352977883783,
          -1.281847057260825,
          -2.1210640768169333,
          1.6893630865327454,
          -0.017578634697911624,
          -2.1020556307911615,
          0.0361393847450922,
          0.43746097392298783,
          0.032676108775102256,
          -0.09844484635896847,
          -0.27085031154451733,
          -0.733682783176024,
          -0.5705352930326113,
          1.2726524082477522,
          1.139118304742565,
          -0.11064228540091595,
          0.2208218083646103,
          0.6867117699875392,
          0.847024875757954,
          -0.03593499862944182,
          0.962558874587534,
          -0.1188249528546015,
          -0.13773714151826094,
          0.45722579151212817,
          -0.34509916618804953,
          1.1844240688176957,
          -0.19633186981606932,
          -0.7862381639616858,
          1.07559665304353,
          1.4480044078476682,
          1.3654346413378435,
          0.681486730473982,
          0.3383458494068617,
          0.7739998117437695,
          -2.220518442027511,
          -1.6675281060620841,
          -0.1064622488395936,
          -0.7380040394225079,
          -0.5486295217974224,
          -0.8342851154825762,
          0.026766363250262055,
          -0.35301171647407226,
          -0.5579776604277544,
          0.09076406349955296,
          -3.4553709450226386,
          0.42250861039899773,
          -0.6316855409000489,
          0.3271975344870533,
          -2.1169700697305354,
          0.9962451550083548,
          -0.7109591216011675,
          -0.046305530851667644,
          1.637218972882313,
          0.08862159816983804,
          -2.131416983846675,
          -0.40077384108346514,
          -0.8231628591052247,
          -0.1374738716032662,
          -1.4636837083336742,
          0.5472867160388108,
          -0.3775955732256513,
          -0.9218552005147901,
          0.43162654815156065,
          -0.08272021026159287,
          0.7126733858239472,
          1.447354762450443,
          -0.02446321498869171,
          0.399983377804818,
          0.759018420519252,
          -0.22801770574102007,
          0.5927528149081085,
          0.38592588849566395,
          -0.5702766186066185,
          -0.7624535972326412,
          1.285628408186062,
          -0.667138216464985,
          -1.133126898002318,
          1.4621189512665256,
          -0.38156381185423577,
          1.3007360231295444,
          -1.242078435474785,
          0.8316549080676471,
          -1.449271121165556,
          1.1220898286898993,
          -0.2972658671592852,
          -0.08960631746997277,
          0.2617264232895819,
          -1.5757729109547811,
          -0.14208364014828903,
          0.32389404113691356,
          -0.33948227156482397
         ]
        },
        {
         "line": {
          "color": "rgba(128, 0, 128, 1.0)",
          "dash": "solid",
          "shape": "linear",
          "width": 1.3
         },
         "mode": "lines",
         "name": "D",
         "text": "",
         "type": "scatter",
         "x": [
          0,
          1,
          2,
          3,
          4,
          5,
          6,
          7,
          8,
          9,
          10,
          11,
          12,
          13,
          14,
          15,
          16,
          17,
          18,
          19,
          20,
          21,
          22,
          23,
          24,
          25,
          26,
          27,
          28,
          29,
          30,
          31,
          32,
          33,
          34,
          35,
          36,
          37,
          38,
          39,
          40,
          41,
          42,
          43,
          44,
          45,
          46,
          47,
          48,
          49,
          50,
          51,
          52,
          53,
          54,
          55,
          56,
          57,
          58,
          59,
          60,
          61,
          62,
          63,
          64,
          65,
          66,
          67,
          68,
          69,
          70,
          71,
          72,
          73,
          74,
          75,
          76,
          77,
          78,
          79,
          80,
          81,
          82,
          83,
          84,
          85,
          86,
          87,
          88,
          89,
          90,
          91,
          92,
          93,
          94,
          95,
          96,
          97,
          98,
          99
         ],
         "y": [
          0.2099912171818562,
          -1.1990577012263692,
          -0.10108308904370543,
          0.8112918719255539,
          0.8313292393664062,
          -0.1609187788658841,
          -1.2892556331200071,
          0.9732044973804842,
          -1.1028627677307659,
          2.59152389882196,
          1.8278949849904982,
          0.09666258307375825,
          -1.8698416412189955,
          -0.4667341426156331,
          1.4031952918004071,
          -0.6303345038130095,
          0.22875513735396286,
          -0.6052468375175506,
          -1.0033180221842917,
          -0.23701021798356048,
          0.26034119125003896,
          2.273447162989823,
          -0.7364967757641886,
          -0.7212268788942579,
          1.4032812419505187,
          -1.657082576262926,
          1.2980658002357384,
          -0.6299324027125981,
          -0.1545833811130906,
          -0.5825103619109648,
          0.6928695396899978,
          -0.5133582454624704,
          -0.2913421611333826,
          -1.6635086452655068,
          -0.2020484429785352,
          0.6856592512667734,
          0.5239777192162516,
          -0.7065993959550226,
          -0.5098123119401131,
          0.1641257050238636,
          -0.29725165110797663,
          1.5528862134289545,
          0.24750879328359607,
          0.4805183246295481,
          -0.41749943539773393,
          1.7702402084916669,
          0.09658312042565893,
          -0.08997675886994944,
          0.3285274976468807,
          1.247695297338725,
          1.495774506601597,
          1.069691061446215,
          0.7552018458688805,
          0.2281391096504319,
          1.2789791912760797,
          -1.8295558769667868,
          0.11636660987779016,
          -0.2229977057008248,
          0.6033630281600153,
          0.35992973484009283,
          -1.5823384178952768,
          -0.1468527788638083,
          0.14460305750459343,
          -0.8494544248877588,
          0.7275331259041663,
          -1.1586340637121935,
          -0.041287814093800224,
          0.9280295950246412,
          0.3810274945493502,
          0.5498487750737486,
          0.22177455039431346,
          -0.5834077247799289,
          -1.1329855240956723,
          1.2252793444619456,
          -1.409537567130078,
          1.7704383751548867,
          -0.8399884873146362,
          1.4508778811621514,
          -0.07945956920141474,
          0.514019250535904,
          1.14091575698579,
          -0.44447442783136815,
          -0.6902998179887635,
          -1.1323460320590162,
          0.44171435496756867,
          -0.9748005885661352,
          -0.004717678081116911,
          1.210811559025089,
          -0.3057156300025935,
          0.09408566042173429,
          -1.3093042861597297,
          0.8642257090072247,
          -0.4602704927209007,
          1.1425853788847717,
          0.3122916358920499,
          -1.0649219085134165,
          0.5681313958119188,
          -1.5393910822689814,
          -0.3183315654749651,
          -0.3083516229304344
         ]
        }
       ],
       "layout": {
        "legend": {
         "bgcolor": "#F5F6F9",
         "font": {
          "color": "#4D5663"
         }
        },
        "paper_bgcolor": "#F5F6F9",
        "plot_bgcolor": "#F5F6F9",
        "template": {
         "data": {
          "bar": [
           {
            "error_x": {
             "color": "#2a3f5f"
            },
            "error_y": {
             "color": "#2a3f5f"
            },
            "marker": {
             "line": {
              "color": "#E5ECF6",
              "width": 0.5
             }
            },
            "type": "bar"
           }
          ],
          "barpolar": [
           {
            "marker": {
             "line": {
              "color": "#E5ECF6",
              "width": 0.5
             }
            },
            "type": "barpolar"
           }
          ],
          "carpet": [
           {
            "aaxis": {
             "endlinecolor": "#2a3f5f",
             "gridcolor": "white",
             "linecolor": "white",
             "minorgridcolor": "white",
             "startlinecolor": "#2a3f5f"
            },
            "baxis": {
             "endlinecolor": "#2a3f5f",
             "gridcolor": "white",
             "linecolor": "white",
             "minorgridcolor": "white",
             "startlinecolor": "#2a3f5f"
            },
            "type": "carpet"
           }
          ],
          "choropleth": [
           {
            "colorbar": {
             "outlinewidth": 0,
             "ticks": ""
            },
            "type": "choropleth"
           }
          ],
          "contour": [
           {
            "colorbar": {
             "outlinewidth": 0,
             "ticks": ""
            },
            "colorscale": [
             [
              0,
              "#0d0887"
             ],
             [
              0.1111111111111111,
              "#46039f"
             ],
             [
              0.2222222222222222,
              "#7201a8"
             ],
             [
              0.3333333333333333,
              "#9c179e"
             ],
             [
              0.4444444444444444,
              "#bd3786"
             ],
             [
              0.5555555555555556,
              "#d8576b"
             ],
             [
              0.6666666666666666,
              "#ed7953"
             ],
             [
              0.7777777777777778,
              "#fb9f3a"
             ],
             [
              0.8888888888888888,
              "#fdca26"
             ],
             [
              1,
              "#f0f921"
             ]
            ],
            "type": "contour"
           }
          ],
          "contourcarpet": [
           {
            "colorbar": {
             "outlinewidth": 0,
             "ticks": ""
            },
            "type": "contourcarpet"
           }
          ],
          "heatmap": [
           {
            "colorbar": {
             "outlinewidth": 0,
             "ticks": ""
            },
            "colorscale": [
             [
              0,
              "#0d0887"
             ],
             [
              0.1111111111111111,
              "#46039f"
             ],
             [
              0.2222222222222222,
              "#7201a8"
             ],
             [
              0.3333333333333333,
              "#9c179e"
             ],
             [
              0.4444444444444444,
              "#bd3786"
             ],
             [
              0.5555555555555556,
              "#d8576b"
             ],
             [
              0.6666666666666666,
              "#ed7953"
             ],
             [
              0.7777777777777778,
              "#fb9f3a"
             ],
             [
              0.8888888888888888,
              "#fdca26"
             ],
             [
              1,
              "#f0f921"
             ]
            ],
            "type": "heatmap"
           }
          ],
          "heatmapgl": [
           {
            "colorbar": {
             "outlinewidth": 0,
             "ticks": ""
            },
            "colorscale": [
             [
              0,
              "#0d0887"
             ],
             [
              0.1111111111111111,
              "#46039f"
             ],
             [
              0.2222222222222222,
              "#7201a8"
             ],
             [
              0.3333333333333333,
              "#9c179e"
             ],
             [
              0.4444444444444444,
              "#bd3786"
             ],
             [
              0.5555555555555556,
              "#d8576b"
             ],
             [
              0.6666666666666666,
              "#ed7953"
             ],
             [
              0.7777777777777778,
              "#fb9f3a"
             ],
             [
              0.8888888888888888,
              "#fdca26"
             ],
             [
              1,
              "#f0f921"
             ]
            ],
            "type": "heatmapgl"
           }
          ],
          "histogram": [
           {
            "marker": {
             "colorbar": {
              "outlinewidth": 0,
              "ticks": ""
             }
            },
            "type": "histogram"
           }
          ],
          "histogram2d": [
           {
            "colorbar": {
             "outlinewidth": 0,
             "ticks": ""
            },
            "colorscale": [
             [
              0,
              "#0d0887"
             ],
             [
              0.1111111111111111,
              "#46039f"
             ],
             [
              0.2222222222222222,
              "#7201a8"
             ],
             [
              0.3333333333333333,
              "#9c179e"
             ],
             [
              0.4444444444444444,
              "#bd3786"
             ],
             [
              0.5555555555555556,
              "#d8576b"
             ],
             [
              0.6666666666666666,
              "#ed7953"
             ],
             [
              0.7777777777777778,
              "#fb9f3a"
             ],
             [
              0.8888888888888888,
              "#fdca26"
             ],
             [
              1,
              "#f0f921"
             ]
            ],
            "type": "histogram2d"
           }
          ],
          "histogram2dcontour": [
           {
            "colorbar": {
             "outlinewidth": 0,
             "ticks": ""
            },
            "colorscale": [
             [
              0,
              "#0d0887"
             ],
             [
              0.1111111111111111,
              "#46039f"
             ],
             [
              0.2222222222222222,
              "#7201a8"
             ],
             [
              0.3333333333333333,
              "#9c179e"
             ],
             [
              0.4444444444444444,
              "#bd3786"
             ],
             [
              0.5555555555555556,
              "#d8576b"
             ],
             [
              0.6666666666666666,
              "#ed7953"
             ],
             [
              0.7777777777777778,
              "#fb9f3a"
             ],
             [
              0.8888888888888888,
              "#fdca26"
             ],
             [
              1,
              "#f0f921"
             ]
            ],
            "type": "histogram2dcontour"
           }
          ],
          "mesh3d": [
           {
            "colorbar": {
             "outlinewidth": 0,
             "ticks": ""
            },
            "type": "mesh3d"
           }
          ],
          "parcoords": [
           {
            "line": {
             "colorbar": {
              "outlinewidth": 0,
              "ticks": ""
             }
            },
            "type": "parcoords"
           }
          ],
          "pie": [
           {
            "automargin": true,
            "type": "pie"
           }
          ],
          "scatter": [
           {
            "marker": {
             "colorbar": {
              "outlinewidth": 0,
              "ticks": ""
             }
            },
            "type": "scatter"
           }
          ],
          "scatter3d": [
           {
            "line": {
             "colorbar": {
              "outlinewidth": 0,
              "ticks": ""
             }
            },
            "marker": {
             "colorbar": {
              "outlinewidth": 0,
              "ticks": ""
             }
            },
            "type": "scatter3d"
           }
          ],
          "scattercarpet": [
           {
            "marker": {
             "colorbar": {
              "outlinewidth": 0,
              "ticks": ""
             }
            },
            "type": "scattercarpet"
           }
          ],
          "scattergeo": [
           {
            "marker": {
             "colorbar": {
              "outlinewidth": 0,
              "ticks": ""
             }
            },
            "type": "scattergeo"
           }
          ],
          "scattergl": [
           {
            "marker": {
             "colorbar": {
              "outlinewidth": 0,
              "ticks": ""
             }
            },
            "type": "scattergl"
           }
          ],
          "scattermapbox": [
           {
            "marker": {
             "colorbar": {
              "outlinewidth": 0,
              "ticks": ""
             }
            },
            "type": "scattermapbox"
           }
          ],
          "scatterpolar": [
           {
            "marker": {
             "colorbar": {
              "outlinewidth": 0,
              "ticks": ""
             }
            },
            "type": "scatterpolar"
           }
          ],
          "scatterpolargl": [
           {
            "marker": {
             "colorbar": {
              "outlinewidth": 0,
              "ticks": ""
             }
            },
            "type": "scatterpolargl"
           }
          ],
          "scatterternary": [
           {
            "marker": {
             "colorbar": {
              "outlinewidth": 0,
              "ticks": ""
             }
            },
            "type": "scatterternary"
           }
          ],
          "surface": [
           {
            "colorbar": {
             "outlinewidth": 0,
             "ticks": ""
            },
            "colorscale": [
             [
              0,
              "#0d0887"
             ],
             [
              0.1111111111111111,
              "#46039f"
             ],
             [
              0.2222222222222222,
              "#7201a8"
             ],
             [
              0.3333333333333333,
              "#9c179e"
             ],
             [
              0.4444444444444444,
              "#bd3786"
             ],
             [
              0.5555555555555556,
              "#d8576b"
             ],
             [
              0.6666666666666666,
              "#ed7953"
             ],
             [
              0.7777777777777778,
              "#fb9f3a"
             ],
             [
              0.8888888888888888,
              "#fdca26"
             ],
             [
              1,
              "#f0f921"
             ]
            ],
            "type": "surface"
           }
          ],
          "table": [
           {
            "cells": {
             "fill": {
              "color": "#EBF0F8"
             },
             "line": {
              "color": "white"
             }
            },
            "header": {
             "fill": {
              "color": "#C8D4E3"
             },
             "line": {
              "color": "white"
             }
            },
            "type": "table"
           }
          ]
         },
         "layout": {
          "annotationdefaults": {
           "arrowcolor": "#2a3f5f",
           "arrowhead": 0,
           "arrowwidth": 1
          },
          "autotypenumbers": "strict",
          "coloraxis": {
           "colorbar": {
            "outlinewidth": 0,
            "ticks": ""
           }
          },
          "colorscale": {
           "diverging": [
            [
             0,
             "#8e0152"
            ],
            [
             0.1,
             "#c51b7d"
            ],
            [
             0.2,
             "#de77ae"
            ],
            [
             0.3,
             "#f1b6da"
            ],
            [
             0.4,
             "#fde0ef"
            ],
            [
             0.5,
             "#f7f7f7"
            ],
            [
             0.6,
             "#e6f5d0"
            ],
            [
             0.7,
             "#b8e186"
            ],
            [
             0.8,
             "#7fbc41"
            ],
            [
             0.9,
             "#4d9221"
            ],
            [
             1,
             "#276419"
            ]
           ],
           "sequential": [
            [
             0,
             "#0d0887"
            ],
            [
             0.1111111111111111,
             "#46039f"
            ],
            [
             0.2222222222222222,
             "#7201a8"
            ],
            [
             0.3333333333333333,
             "#9c179e"
            ],
            [
             0.4444444444444444,
             "#bd3786"
            ],
            [
             0.5555555555555556,
             "#d8576b"
            ],
            [
             0.6666666666666666,
             "#ed7953"
            ],
            [
             0.7777777777777778,
             "#fb9f3a"
            ],
            [
             0.8888888888888888,
             "#fdca26"
            ],
            [
             1,
             "#f0f921"
            ]
           ],
           "sequentialminus": [
            [
             0,
             "#0d0887"
            ],
            [
             0.1111111111111111,
             "#46039f"
            ],
            [
             0.2222222222222222,
             "#7201a8"
            ],
            [
             0.3333333333333333,
             "#9c179e"
            ],
            [
             0.4444444444444444,
             "#bd3786"
            ],
            [
             0.5555555555555556,
             "#d8576b"
            ],
            [
             0.6666666666666666,
             "#ed7953"
            ],
            [
             0.7777777777777778,
             "#fb9f3a"
            ],
            [
             0.8888888888888888,
             "#fdca26"
            ],
            [
             1,
             "#f0f921"
            ]
           ]
          },
          "colorway": [
           "#636efa",
           "#EF553B",
           "#00cc96",
           "#ab63fa",
           "#FFA15A",
           "#19d3f3",
           "#FF6692",
           "#B6E880",
           "#FF97FF",
           "#FECB52"
          ],
          "font": {
           "color": "#2a3f5f"
          },
          "geo": {
           "bgcolor": "white",
           "lakecolor": "white",
           "landcolor": "#E5ECF6",
           "showlakes": true,
           "showland": true,
           "subunitcolor": "white"
          },
          "hoverlabel": {
           "align": "left"
          },
          "hovermode": "closest",
          "mapbox": {
           "style": "light"
          },
          "paper_bgcolor": "white",
          "plot_bgcolor": "#E5ECF6",
          "polar": {
           "angularaxis": {
            "gridcolor": "white",
            "linecolor": "white",
            "ticks": ""
           },
           "bgcolor": "#E5ECF6",
           "radialaxis": {
            "gridcolor": "white",
            "linecolor": "white",
            "ticks": ""
           }
          },
          "scene": {
           "xaxis": {
            "backgroundcolor": "#E5ECF6",
            "gridcolor": "white",
            "gridwidth": 2,
            "linecolor": "white",
            "showbackground": true,
            "ticks": "",
            "zerolinecolor": "white"
           },
           "yaxis": {
            "backgroundcolor": "#E5ECF6",
            "gridcolor": "white",
            "gridwidth": 2,
            "linecolor": "white",
            "showbackground": true,
            "ticks": "",
            "zerolinecolor": "white"
           },
           "zaxis": {
            "backgroundcolor": "#E5ECF6",
            "gridcolor": "white",
            "gridwidth": 2,
            "linecolor": "white",
            "showbackground": true,
            "ticks": "",
            "zerolinecolor": "white"
           }
          },
          "shapedefaults": {
           "line": {
            "color": "#2a3f5f"
           }
          },
          "ternary": {
           "aaxis": {
            "gridcolor": "white",
            "linecolor": "white",
            "ticks": ""
           },
           "baxis": {
            "gridcolor": "white",
            "linecolor": "white",
            "ticks": ""
           },
           "bgcolor": "#E5ECF6",
           "caxis": {
            "gridcolor": "white",
            "linecolor": "white",
            "ticks": ""
           }
          },
          "title": {
           "x": 0.05
          },
          "xaxis": {
           "automargin": true,
           "gridcolor": "white",
           "linecolor": "white",
           "ticks": "",
           "title": {
            "standoff": 15
           },
           "zerolinecolor": "white",
           "zerolinewidth": 2
          },
          "yaxis": {
           "automargin": true,
           "gridcolor": "white",
           "linecolor": "white",
           "ticks": "",
           "title": {
            "standoff": 15
           },
           "zerolinecolor": "white",
           "zerolinewidth": 2
          }
         }
        },
        "title": {
         "font": {
          "color": "#4D5663"
         }
        },
        "xaxis": {
         "gridcolor": "#E1E5ED",
         "showgrid": true,
         "tickfont": {
          "color": "#4D5663"
         },
         "title": {
          "font": {
           "color": "#4D5663"
          },
          "text": ""
         },
         "zerolinecolor": "#E1E5ED"
        },
        "yaxis": {
         "gridcolor": "#E1E5ED",
         "showgrid": true,
         "tickfont": {
          "color": "#4D5663"
         },
         "title": {
          "font": {
           "color": "#4D5663"
          },
          "text": ""
         },
         "zerolinecolor": "#E1E5ED"
        }
       }
      },
      "text/html": [
       "<div>                            <div id=\"071a04cf-4ee0-4d62-bf21-f843ff2fbadd\" class=\"plotly-graph-div\" style=\"height:525px; width:100%;\"></div>            <script type=\"text/javascript\">                require([\"plotly\"], function(Plotly) {                    window.PLOTLYENV=window.PLOTLYENV || {};\n",
       "                    window.PLOTLYENV.BASE_URL='https://plot.ly';                                    if (document.getElementById(\"071a04cf-4ee0-4d62-bf21-f843ff2fbadd\")) {                    Plotly.newPlot(                        \"071a04cf-4ee0-4d62-bf21-f843ff2fbadd\",                        [{\"line\": {\"color\": \"rgba(255, 153, 51, 1.0)\", \"dash\": \"solid\", \"shape\": \"linear\", \"width\": 1.3}, \"mode\": \"lines\", \"name\": \"A\", \"text\": \"\", \"type\": \"scatter\", \"x\": [0, 1, 2, 3, 4, 5, 6, 7, 8, 9, 10, 11, 12, 13, 14, 15, 16, 17, 18, 19, 20, 21, 22, 23, 24, 25, 26, 27, 28, 29, 30, 31, 32, 33, 34, 35, 36, 37, 38, 39, 40, 41, 42, 43, 44, 45, 46, 47, 48, 49, 50, 51, 52, 53, 54, 55, 56, 57, 58, 59, 60, 61, 62, 63, 64, 65, 66, 67, 68, 69, 70, 71, 72, 73, 74, 75, 76, 77, 78, 79, 80, 81, 82, 83, 84, 85, 86, 87, 88, 89, 90, 91, 92, 93, 94, 95, 96, 97, 98, 99], \"y\": [-1.9722087496969223, -0.011671936731851002, -1.581095695462608, -0.34655125540727333, -2.477227183550656, 1.0941645349574753, 1.0229529172073148, -0.2598830879365222, -0.03408300204513225, 0.316552878256426, -0.9560391300790448, 0.03686863729565844, -1.057002166096782, 1.1269640029188206, -2.9267062941867423, -0.746704279766539, 0.05041994672178217, 0.48710115962661305, 0.4411562042292949, 1.9586541598607206, -1.1264446501035439, -0.8893264007516325, -0.912797025545708, -0.6764986758310823, 0.060741922825052995, -1.8449685175213293, -0.2581939666458554, -1.0845735336268134, 1.3092149762046064, -0.3066644272536902, 2.6272020454447893, 1.9776080885194243, 0.5668461448153023, 0.14871793417682036, 0.5589477908589175, 1.569395013601064, 0.6903765899355268, -0.9624507753100264, -1.1982377774156872, 0.3460526200922986, -1.5813823853788058, -0.060380627009908705, -0.45301810031688394, -0.8874355334946187, -0.08069904562752264, 0.9892325935849244, -0.4402405812651847, 0.9062225085353147, 0.051935187991758267, -0.7749692187429894, 0.20663577894552076, -2.6432173202033327, 0.428142633290837, 0.28064340537672056, 0.49998815039368866, -2.282375457843157, -0.2636867903407214, -0.8818468535001559, -0.3507863058950262, -0.3459010474609139, -0.2537435919563658, 0.7534214071578663, -0.9475830799767535, -1.275468885966171, -1.0661714834592064, -0.9048886981411098, 0.25326937641655517, 2.1839204484406034, -0.8272174280292035, -0.4645040193133396, 0.8445505137052899, 0.36733557594376404, -0.21495587739570762, -0.2147215789481739, -1.014567110997098, -0.5200774799937841, -0.6299002021429765, -0.018567917997282603, -1.0129723040910823, -1.244448617322104, 0.9101942921335867, 0.14653083392106686, -0.4696844835441938, 0.25679717959833154, -0.26913999204070016, 0.49298478979236415, -1.7553400104436443, -0.32567192940690426, 0.4963013251259451, 0.33715228833004396, -0.48702644670754175, 0.583173722625296, -0.13151299514984052, -0.17277039856468238, -0.3932252217320785, 1.747981066541866, 1.2996522287381982, 0.17177685124461037, 0.942376140480576, -1.4875548956939744]}, {\"line\": {\"color\": \"rgba(55, 128, 191, 1.0)\", \"dash\": \"solid\", \"shape\": \"linear\", \"width\": 1.3}, \"mode\": \"lines\", \"name\": \"B\", \"text\": \"\", \"type\": \"scatter\", \"x\": [0, 1, 2, 3, 4, 5, 6, 7, 8, 9, 10, 11, 12, 13, 14, 15, 16, 17, 18, 19, 20, 21, 22, 23, 24, 25, 26, 27, 28, 29, 30, 31, 32, 33, 34, 35, 36, 37, 38, 39, 40, 41, 42, 43, 44, 45, 46, 47, 48, 49, 50, 51, 52, 53, 54, 55, 56, 57, 58, 59, 60, 61, 62, 63, 64, 65, 66, 67, 68, 69, 70, 71, 72, 73, 74, 75, 76, 77, 78, 79, 80, 81, 82, 83, 84, 85, 86, 87, 88, 89, 90, 91, 92, 93, 94, 95, 96, 97, 98, 99], \"y\": [-0.15467443438003167, -1.103714486619362, -0.0541684553591224, 0.41422239107560715, -0.47311978978456737, 0.08890758298241469, 0.6542883889705488, 0.1526791972817478, -1.0761625495932814, 0.4108953551780461, 0.8849114941005151, -1.7404564207865973, -0.2834726233350443, -0.7225958554493189, -0.3360213951887905, -0.43360752963912125, -0.28610770283411324, 0.5140475923376779, 0.6498272394533989, -0.1880381648673378, 3.029906110373341, -0.655023507621413, -0.29993908275112585, 0.17257175369280023, -0.8252449189026975, -0.5068002853772337, 0.7260798014189815, -0.3890204893183104, -0.42350519981926266, -0.9830897847082721, -0.745081495310831, 0.5885934793538804, 1.3819602740760888, -0.6052431371727914, -0.795447989408926, -0.36279193604862736, 0.6507982198529062, 0.26554271337673624, 0.4278905943406648, 0.7667337976267404, -1.009477598035802, 1.7868695252714277, 0.07238439431084817, -0.2921642502366185, 0.8037729291547354, -0.2997123802579395, 0.5540178206043035, 0.4378922178605772, 0.516907689763789, -0.7489107442737745, 0.3042169050027822, -1.2286144224027291, -1.4768661895797555, -0.5706672119608341, 1.4961773942937893, -0.15560187954158308, 0.03247288091238335, 0.3121279723427983, 1.2036174628101248, -1.8149602214495568, -0.25267277264871385, -0.31891897183935325, -0.47381322603680753, 0.9177839120362744, -0.6619439676220062, -0.22228104761216375, 0.5167188779834639, -0.5886601441588484, -0.49111226630245897, 0.2442643888637009, -0.04507916296916212, 0.9049845080788567, 0.49394996349843406, 0.202128923957163, 0.9149650220094239, 0.20786740242860877, 1.2558499203678959, -0.8882369239533632, -0.5665994304015882, -2.52713736735959, -0.40202525070563416, 0.42337816477791873, 2.930189646869836, -0.29870561060645767, 1.0259894736560005, -0.5434596778354565, -0.48187202723754213, -0.7849654446928984, 0.5354112571672852, -0.12100382967481559, -1.288362701278329, -1.3144891120780753, -0.3190835777670386, -0.9499938842804496, -1.3683098023592501, -0.4998233472993743, 0.47028413887107634, 0.7786479452061807, -0.7357339189416259, -1.3464941644058384]}, {\"line\": {\"color\": \"rgba(50, 171, 96, 1.0)\", \"dash\": \"solid\", \"shape\": \"linear\", \"width\": 1.3}, \"mode\": \"lines\", \"name\": \"C\", \"text\": \"\", \"type\": \"scatter\", \"x\": [0, 1, 2, 3, 4, 5, 6, 7, 8, 9, 10, 11, 12, 13, 14, 15, 16, 17, 18, 19, 20, 21, 22, 23, 24, 25, 26, 27, 28, 29, 30, 31, 32, 33, 34, 35, 36, 37, 38, 39, 40, 41, 42, 43, 44, 45, 46, 47, 48, 49, 50, 51, 52, 53, 54, 55, 56, 57, 58, 59, 60, 61, 62, 63, 64, 65, 66, 67, 68, 69, 70, 71, 72, 73, 74, 75, 76, 77, 78, 79, 80, 81, 82, 83, 84, 85, 86, 87, 88, 89, 90, 91, 92, 93, 94, 95, 96, 97, 98, 99], \"y\": [0.08036546985632058, -1.1803155619663286, 1.882445236348399, 1.1349992260603332, -1.5575608308528395, -0.1527564653318407, -0.2961188984253155, -0.026937775969907905, -1.272905763155189, -0.8549352977883783, -1.281847057260825, -2.1210640768169333, 1.6893630865327454, -0.017578634697911624, -2.1020556307911615, 0.0361393847450922, 0.43746097392298783, 0.032676108775102256, -0.09844484635896847, -0.27085031154451733, -0.733682783176024, -0.5705352930326113, 1.2726524082477522, 1.139118304742565, -0.11064228540091595, 0.2208218083646103, 0.6867117699875392, 0.847024875757954, -0.03593499862944182, 0.962558874587534, -0.1188249528546015, -0.13773714151826094, 0.45722579151212817, -0.34509916618804953, 1.1844240688176957, -0.19633186981606932, -0.7862381639616858, 1.07559665304353, 1.4480044078476682, 1.3654346413378435, 0.681486730473982, 0.3383458494068617, 0.7739998117437695, -2.220518442027511, -1.6675281060620841, -0.1064622488395936, -0.7380040394225079, -0.5486295217974224, -0.8342851154825762, 0.026766363250262055, -0.35301171647407226, -0.5579776604277544, 0.09076406349955296, -3.4553709450226386, 0.42250861039899773, -0.6316855409000489, 0.3271975344870533, -2.1169700697305354, 0.9962451550083548, -0.7109591216011675, -0.046305530851667644, 1.637218972882313, 0.08862159816983804, -2.131416983846675, -0.40077384108346514, -0.8231628591052247, -0.1374738716032662, -1.4636837083336742, 0.5472867160388108, -0.3775955732256513, -0.9218552005147901, 0.43162654815156065, -0.08272021026159287, 0.7126733858239472, 1.447354762450443, -0.02446321498869171, 0.399983377804818, 0.759018420519252, -0.22801770574102007, 0.5927528149081085, 0.38592588849566395, -0.5702766186066185, -0.7624535972326412, 1.285628408186062, -0.667138216464985, -1.133126898002318, 1.4621189512665256, -0.38156381185423577, 1.3007360231295444, -1.242078435474785, 0.8316549080676471, -1.449271121165556, 1.1220898286898993, -0.2972658671592852, -0.08960631746997277, 0.2617264232895819, -1.5757729109547811, -0.14208364014828903, 0.32389404113691356, -0.33948227156482397]}, {\"line\": {\"color\": \"rgba(128, 0, 128, 1.0)\", \"dash\": \"solid\", \"shape\": \"linear\", \"width\": 1.3}, \"mode\": \"lines\", \"name\": \"D\", \"text\": \"\", \"type\": \"scatter\", \"x\": [0, 1, 2, 3, 4, 5, 6, 7, 8, 9, 10, 11, 12, 13, 14, 15, 16, 17, 18, 19, 20, 21, 22, 23, 24, 25, 26, 27, 28, 29, 30, 31, 32, 33, 34, 35, 36, 37, 38, 39, 40, 41, 42, 43, 44, 45, 46, 47, 48, 49, 50, 51, 52, 53, 54, 55, 56, 57, 58, 59, 60, 61, 62, 63, 64, 65, 66, 67, 68, 69, 70, 71, 72, 73, 74, 75, 76, 77, 78, 79, 80, 81, 82, 83, 84, 85, 86, 87, 88, 89, 90, 91, 92, 93, 94, 95, 96, 97, 98, 99], \"y\": [0.2099912171818562, -1.1990577012263692, -0.10108308904370543, 0.8112918719255539, 0.8313292393664062, -0.1609187788658841, -1.2892556331200071, 0.9732044973804842, -1.1028627677307659, 2.59152389882196, 1.8278949849904982, 0.09666258307375825, -1.8698416412189955, -0.4667341426156331, 1.4031952918004071, -0.6303345038130095, 0.22875513735396286, -0.6052468375175506, -1.0033180221842917, -0.23701021798356048, 0.26034119125003896, 2.273447162989823, -0.7364967757641886, -0.7212268788942579, 1.4032812419505187, -1.657082576262926, 1.2980658002357384, -0.6299324027125981, -0.1545833811130906, -0.5825103619109648, 0.6928695396899978, -0.5133582454624704, -0.2913421611333826, -1.6635086452655068, -0.2020484429785352, 0.6856592512667734, 0.5239777192162516, -0.7065993959550226, -0.5098123119401131, 0.1641257050238636, -0.29725165110797663, 1.5528862134289545, 0.24750879328359607, 0.4805183246295481, -0.41749943539773393, 1.7702402084916669, 0.09658312042565893, -0.08997675886994944, 0.3285274976468807, 1.247695297338725, 1.495774506601597, 1.069691061446215, 0.7552018458688805, 0.2281391096504319, 1.2789791912760797, -1.8295558769667868, 0.11636660987779016, -0.2229977057008248, 0.6033630281600153, 0.35992973484009283, -1.5823384178952768, -0.1468527788638083, 0.14460305750459343, -0.8494544248877588, 0.7275331259041663, -1.1586340637121935, -0.041287814093800224, 0.9280295950246412, 0.3810274945493502, 0.5498487750737486, 0.22177455039431346, -0.5834077247799289, -1.1329855240956723, 1.2252793444619456, -1.409537567130078, 1.7704383751548867, -0.8399884873146362, 1.4508778811621514, -0.07945956920141474, 0.514019250535904, 1.14091575698579, -0.44447442783136815, -0.6902998179887635, -1.1323460320590162, 0.44171435496756867, -0.9748005885661352, -0.004717678081116911, 1.210811559025089, -0.3057156300025935, 0.09408566042173429, -1.3093042861597297, 0.8642257090072247, -0.4602704927209007, 1.1425853788847717, 0.3122916358920499, -1.0649219085134165, 0.5681313958119188, -1.5393910822689814, -0.3183315654749651, -0.3083516229304344]}],                        {\"legend\": {\"bgcolor\": \"#F5F6F9\", \"font\": {\"color\": \"#4D5663\"}}, \"paper_bgcolor\": \"#F5F6F9\", \"plot_bgcolor\": \"#F5F6F9\", \"template\": {\"data\": {\"bar\": [{\"error_x\": {\"color\": \"#2a3f5f\"}, \"error_y\": {\"color\": \"#2a3f5f\"}, \"marker\": {\"line\": {\"color\": \"#E5ECF6\", \"width\": 0.5}}, \"type\": \"bar\"}], \"barpolar\": [{\"marker\": {\"line\": {\"color\": \"#E5ECF6\", \"width\": 0.5}}, \"type\": \"barpolar\"}], \"carpet\": [{\"aaxis\": {\"endlinecolor\": \"#2a3f5f\", \"gridcolor\": \"white\", \"linecolor\": \"white\", \"minorgridcolor\": \"white\", \"startlinecolor\": \"#2a3f5f\"}, \"baxis\": {\"endlinecolor\": \"#2a3f5f\", \"gridcolor\": \"white\", \"linecolor\": \"white\", \"minorgridcolor\": \"white\", \"startlinecolor\": \"#2a3f5f\"}, \"type\": \"carpet\"}], \"choropleth\": [{\"colorbar\": {\"outlinewidth\": 0, \"ticks\": \"\"}, \"type\": \"choropleth\"}], \"contour\": [{\"colorbar\": {\"outlinewidth\": 0, \"ticks\": \"\"}, \"colorscale\": [[0.0, \"#0d0887\"], [0.1111111111111111, \"#46039f\"], [0.2222222222222222, \"#7201a8\"], [0.3333333333333333, \"#9c179e\"], [0.4444444444444444, \"#bd3786\"], [0.5555555555555556, \"#d8576b\"], [0.6666666666666666, \"#ed7953\"], [0.7777777777777778, \"#fb9f3a\"], [0.8888888888888888, \"#fdca26\"], [1.0, \"#f0f921\"]], \"type\": \"contour\"}], \"contourcarpet\": [{\"colorbar\": {\"outlinewidth\": 0, \"ticks\": \"\"}, \"type\": \"contourcarpet\"}], \"heatmap\": [{\"colorbar\": {\"outlinewidth\": 0, \"ticks\": \"\"}, \"colorscale\": [[0.0, \"#0d0887\"], [0.1111111111111111, \"#46039f\"], [0.2222222222222222, \"#7201a8\"], [0.3333333333333333, \"#9c179e\"], [0.4444444444444444, \"#bd3786\"], [0.5555555555555556, \"#d8576b\"], [0.6666666666666666, \"#ed7953\"], [0.7777777777777778, \"#fb9f3a\"], [0.8888888888888888, \"#fdca26\"], [1.0, \"#f0f921\"]], \"type\": \"heatmap\"}], \"heatmapgl\": [{\"colorbar\": {\"outlinewidth\": 0, \"ticks\": \"\"}, \"colorscale\": [[0.0, \"#0d0887\"], [0.1111111111111111, \"#46039f\"], [0.2222222222222222, \"#7201a8\"], [0.3333333333333333, \"#9c179e\"], [0.4444444444444444, \"#bd3786\"], [0.5555555555555556, \"#d8576b\"], [0.6666666666666666, \"#ed7953\"], [0.7777777777777778, \"#fb9f3a\"], [0.8888888888888888, \"#fdca26\"], [1.0, \"#f0f921\"]], \"type\": \"heatmapgl\"}], \"histogram\": [{\"marker\": {\"colorbar\": {\"outlinewidth\": 0, \"ticks\": \"\"}}, \"type\": \"histogram\"}], \"histogram2d\": [{\"colorbar\": {\"outlinewidth\": 0, \"ticks\": \"\"}, \"colorscale\": [[0.0, \"#0d0887\"], [0.1111111111111111, \"#46039f\"], [0.2222222222222222, \"#7201a8\"], [0.3333333333333333, \"#9c179e\"], [0.4444444444444444, \"#bd3786\"], [0.5555555555555556, \"#d8576b\"], [0.6666666666666666, \"#ed7953\"], [0.7777777777777778, \"#fb9f3a\"], [0.8888888888888888, \"#fdca26\"], [1.0, \"#f0f921\"]], \"type\": \"histogram2d\"}], \"histogram2dcontour\": [{\"colorbar\": {\"outlinewidth\": 0, \"ticks\": \"\"}, \"colorscale\": [[0.0, \"#0d0887\"], [0.1111111111111111, \"#46039f\"], [0.2222222222222222, \"#7201a8\"], [0.3333333333333333, \"#9c179e\"], [0.4444444444444444, \"#bd3786\"], [0.5555555555555556, \"#d8576b\"], [0.6666666666666666, \"#ed7953\"], [0.7777777777777778, \"#fb9f3a\"], [0.8888888888888888, \"#fdca26\"], [1.0, \"#f0f921\"]], \"type\": \"histogram2dcontour\"}], \"mesh3d\": [{\"colorbar\": {\"outlinewidth\": 0, \"ticks\": \"\"}, \"type\": \"mesh3d\"}], \"parcoords\": [{\"line\": {\"colorbar\": {\"outlinewidth\": 0, \"ticks\": \"\"}}, \"type\": \"parcoords\"}], \"pie\": [{\"automargin\": true, \"type\": \"pie\"}], \"scatter\": [{\"marker\": {\"colorbar\": {\"outlinewidth\": 0, \"ticks\": \"\"}}, \"type\": \"scatter\"}], \"scatter3d\": [{\"line\": {\"colorbar\": {\"outlinewidth\": 0, \"ticks\": \"\"}}, \"marker\": {\"colorbar\": {\"outlinewidth\": 0, \"ticks\": \"\"}}, \"type\": \"scatter3d\"}], \"scattercarpet\": [{\"marker\": {\"colorbar\": {\"outlinewidth\": 0, \"ticks\": \"\"}}, \"type\": \"scattercarpet\"}], \"scattergeo\": [{\"marker\": {\"colorbar\": {\"outlinewidth\": 0, \"ticks\": \"\"}}, \"type\": \"scattergeo\"}], \"scattergl\": [{\"marker\": {\"colorbar\": {\"outlinewidth\": 0, \"ticks\": \"\"}}, \"type\": \"scattergl\"}], \"scattermapbox\": [{\"marker\": {\"colorbar\": {\"outlinewidth\": 0, \"ticks\": \"\"}}, \"type\": \"scattermapbox\"}], \"scatterpolar\": [{\"marker\": {\"colorbar\": {\"outlinewidth\": 0, \"ticks\": \"\"}}, \"type\": \"scatterpolar\"}], \"scatterpolargl\": [{\"marker\": {\"colorbar\": {\"outlinewidth\": 0, \"ticks\": \"\"}}, \"type\": \"scatterpolargl\"}], \"scatterternary\": [{\"marker\": {\"colorbar\": {\"outlinewidth\": 0, \"ticks\": \"\"}}, \"type\": \"scatterternary\"}], \"surface\": [{\"colorbar\": {\"outlinewidth\": 0, \"ticks\": \"\"}, \"colorscale\": [[0.0, \"#0d0887\"], [0.1111111111111111, \"#46039f\"], [0.2222222222222222, \"#7201a8\"], [0.3333333333333333, \"#9c179e\"], [0.4444444444444444, \"#bd3786\"], [0.5555555555555556, \"#d8576b\"], [0.6666666666666666, \"#ed7953\"], [0.7777777777777778, \"#fb9f3a\"], [0.8888888888888888, \"#fdca26\"], [1.0, \"#f0f921\"]], \"type\": \"surface\"}], \"table\": [{\"cells\": {\"fill\": {\"color\": \"#EBF0F8\"}, \"line\": {\"color\": \"white\"}}, \"header\": {\"fill\": {\"color\": \"#C8D4E3\"}, \"line\": {\"color\": \"white\"}}, \"type\": \"table\"}]}, \"layout\": {\"annotationdefaults\": {\"arrowcolor\": \"#2a3f5f\", \"arrowhead\": 0, \"arrowwidth\": 1}, \"autotypenumbers\": \"strict\", \"coloraxis\": {\"colorbar\": {\"outlinewidth\": 0, \"ticks\": \"\"}}, \"colorscale\": {\"diverging\": [[0, \"#8e0152\"], [0.1, \"#c51b7d\"], [0.2, \"#de77ae\"], [0.3, \"#f1b6da\"], [0.4, \"#fde0ef\"], [0.5, \"#f7f7f7\"], [0.6, \"#e6f5d0\"], [0.7, \"#b8e186\"], [0.8, \"#7fbc41\"], [0.9, \"#4d9221\"], [1, \"#276419\"]], \"sequential\": [[0.0, \"#0d0887\"], [0.1111111111111111, \"#46039f\"], [0.2222222222222222, \"#7201a8\"], [0.3333333333333333, \"#9c179e\"], [0.4444444444444444, \"#bd3786\"], [0.5555555555555556, \"#d8576b\"], [0.6666666666666666, \"#ed7953\"], [0.7777777777777778, \"#fb9f3a\"], [0.8888888888888888, \"#fdca26\"], [1.0, \"#f0f921\"]], \"sequentialminus\": [[0.0, \"#0d0887\"], [0.1111111111111111, \"#46039f\"], [0.2222222222222222, \"#7201a8\"], [0.3333333333333333, \"#9c179e\"], [0.4444444444444444, \"#bd3786\"], [0.5555555555555556, \"#d8576b\"], [0.6666666666666666, \"#ed7953\"], [0.7777777777777778, \"#fb9f3a\"], [0.8888888888888888, \"#fdca26\"], [1.0, \"#f0f921\"]]}, \"colorway\": [\"#636efa\", \"#EF553B\", \"#00cc96\", \"#ab63fa\", \"#FFA15A\", \"#19d3f3\", \"#FF6692\", \"#B6E880\", \"#FF97FF\", \"#FECB52\"], \"font\": {\"color\": \"#2a3f5f\"}, \"geo\": {\"bgcolor\": \"white\", \"lakecolor\": \"white\", \"landcolor\": \"#E5ECF6\", \"showlakes\": true, \"showland\": true, \"subunitcolor\": \"white\"}, \"hoverlabel\": {\"align\": \"left\"}, \"hovermode\": \"closest\", \"mapbox\": {\"style\": \"light\"}, \"paper_bgcolor\": \"white\", \"plot_bgcolor\": \"#E5ECF6\", \"polar\": {\"angularaxis\": {\"gridcolor\": \"white\", \"linecolor\": \"white\", \"ticks\": \"\"}, \"bgcolor\": \"#E5ECF6\", \"radialaxis\": {\"gridcolor\": \"white\", \"linecolor\": \"white\", \"ticks\": \"\"}}, \"scene\": {\"xaxis\": {\"backgroundcolor\": \"#E5ECF6\", \"gridcolor\": \"white\", \"gridwidth\": 2, \"linecolor\": \"white\", \"showbackground\": true, \"ticks\": \"\", \"zerolinecolor\": \"white\"}, \"yaxis\": {\"backgroundcolor\": \"#E5ECF6\", \"gridcolor\": \"white\", \"gridwidth\": 2, \"linecolor\": \"white\", \"showbackground\": true, \"ticks\": \"\", \"zerolinecolor\": \"white\"}, \"zaxis\": {\"backgroundcolor\": \"#E5ECF6\", \"gridcolor\": \"white\", \"gridwidth\": 2, \"linecolor\": \"white\", \"showbackground\": true, \"ticks\": \"\", \"zerolinecolor\": \"white\"}}, \"shapedefaults\": {\"line\": {\"color\": \"#2a3f5f\"}}, \"ternary\": {\"aaxis\": {\"gridcolor\": \"white\", \"linecolor\": \"white\", \"ticks\": \"\"}, \"baxis\": {\"gridcolor\": \"white\", \"linecolor\": \"white\", \"ticks\": \"\"}, \"bgcolor\": \"#E5ECF6\", \"caxis\": {\"gridcolor\": \"white\", \"linecolor\": \"white\", \"ticks\": \"\"}}, \"title\": {\"x\": 0.05}, \"xaxis\": {\"automargin\": true, \"gridcolor\": \"white\", \"linecolor\": \"white\", \"ticks\": \"\", \"title\": {\"standoff\": 15}, \"zerolinecolor\": \"white\", \"zerolinewidth\": 2}, \"yaxis\": {\"automargin\": true, \"gridcolor\": \"white\", \"linecolor\": \"white\", \"ticks\": \"\", \"title\": {\"standoff\": 15}, \"zerolinecolor\": \"white\", \"zerolinewidth\": 2}}}, \"title\": {\"font\": {\"color\": \"#4D5663\"}}, \"xaxis\": {\"gridcolor\": \"#E1E5ED\", \"showgrid\": true, \"tickfont\": {\"color\": \"#4D5663\"}, \"title\": {\"font\": {\"color\": \"#4D5663\"}, \"text\": \"\"}, \"zerolinecolor\": \"#E1E5ED\"}, \"yaxis\": {\"gridcolor\": \"#E1E5ED\", \"showgrid\": true, \"tickfont\": {\"color\": \"#4D5663\"}, \"title\": {\"font\": {\"color\": \"#4D5663\"}, \"text\": \"\"}, \"zerolinecolor\": \"#E1E5ED\"}},                        {\"showLink\": true, \"linkText\": \"Export to plot.ly\", \"plotlyServerURL\": \"https://plot.ly\", \"responsive\": true}                    ).then(function(){\n",
       "                            \n",
       "var gd = document.getElementById('071a04cf-4ee0-4d62-bf21-f843ff2fbadd');\n",
       "var x = new MutationObserver(function (mutations, observer) {{\n",
       "        var display = window.getComputedStyle(gd).display;\n",
       "        if (!display || display === 'none') {{\n",
       "            console.log([gd, 'removed!']);\n",
       "            Plotly.purge(gd);\n",
       "            observer.disconnect();\n",
       "        }}\n",
       "}});\n",
       "\n",
       "// Listen for the removal of the full notebook cells\n",
       "var notebookContainer = gd.closest('#notebook-container');\n",
       "if (notebookContainer) {{\n",
       "    x.observe(notebookContainer, {childList: true});\n",
       "}}\n",
       "\n",
       "// Listen for the clearing of the current output cell\n",
       "var outputEl = gd.closest('.output');\n",
       "if (outputEl) {{\n",
       "    x.observe(outputEl, {childList: true});\n",
       "}}\n",
       "\n",
       "                        })                };                });            </script>        </div>"
      ]
     },
     "metadata": {},
     "output_type": "display_data"
    }
   ],
   "source": [
    "df.iplot()"
   ]
  },
  {
   "cell_type": "code",
   "execution_count": 18,
   "metadata": {
    "scrolled": true
   },
   "outputs": [
    {
     "data": {
      "application/vnd.plotly.v1+json": {
       "config": {
        "linkText": "Export to plot.ly",
        "plotlyServerURL": "https://plot.ly",
        "showLink": true
       },
       "data": [
        {
         "line": {
          "color": "rgba(255, 153, 51, 1.0)",
          "dash": "solid",
          "shape": "linear",
          "width": 1.3
         },
         "mode": "lines",
         "name": "B",
         "text": "",
         "type": "scatter",
         "x": [
          -1.9722087496969223,
          -0.011671936731851002,
          -1.581095695462608,
          -0.34655125540727333,
          -2.477227183550656,
          1.0941645349574753,
          1.0229529172073148,
          -0.2598830879365222,
          -0.03408300204513225,
          0.316552878256426,
          -0.9560391300790448,
          0.03686863729565844,
          -1.057002166096782,
          1.1269640029188206,
          -2.9267062941867423,
          -0.746704279766539,
          0.05041994672178217,
          0.48710115962661305,
          0.4411562042292949,
          1.9586541598607206,
          -1.1264446501035439,
          -0.8893264007516325,
          -0.912797025545708,
          -0.6764986758310823,
          0.060741922825052995,
          -1.8449685175213293,
          -0.2581939666458554,
          -1.0845735336268134,
          1.3092149762046064,
          -0.3066644272536902,
          2.6272020454447893,
          1.9776080885194243,
          0.5668461448153023,
          0.14871793417682036,
          0.5589477908589175,
          1.569395013601064,
          0.6903765899355268,
          -0.9624507753100264,
          -1.1982377774156872,
          0.3460526200922986,
          -1.5813823853788058,
          -0.060380627009908705,
          -0.45301810031688394,
          -0.8874355334946187,
          -0.08069904562752264,
          0.9892325935849244,
          -0.4402405812651847,
          0.9062225085353147,
          0.051935187991758267,
          -0.7749692187429894,
          0.20663577894552076,
          -2.6432173202033327,
          0.428142633290837,
          0.28064340537672056,
          0.49998815039368866,
          -2.282375457843157,
          -0.2636867903407214,
          -0.8818468535001559,
          -0.3507863058950262,
          -0.3459010474609139,
          -0.2537435919563658,
          0.7534214071578663,
          -0.9475830799767535,
          -1.275468885966171,
          -1.0661714834592064,
          -0.9048886981411098,
          0.25326937641655517,
          2.1839204484406034,
          -0.8272174280292035,
          -0.4645040193133396,
          0.8445505137052899,
          0.36733557594376404,
          -0.21495587739570762,
          -0.2147215789481739,
          -1.014567110997098,
          -0.5200774799937841,
          -0.6299002021429765,
          -0.018567917997282603,
          -1.0129723040910823,
          -1.244448617322104,
          0.9101942921335867,
          0.14653083392106686,
          -0.4696844835441938,
          0.25679717959833154,
          -0.26913999204070016,
          0.49298478979236415,
          -1.7553400104436443,
          -0.32567192940690426,
          0.4963013251259451,
          0.33715228833004396,
          -0.48702644670754175,
          0.583173722625296,
          -0.13151299514984052,
          -0.17277039856468238,
          -0.3932252217320785,
          1.747981066541866,
          1.2996522287381982,
          0.17177685124461037,
          0.942376140480576,
          -1.4875548956939744
         ],
         "y": [
          -0.15467443438003167,
          -1.103714486619362,
          -0.0541684553591224,
          0.41422239107560715,
          -0.47311978978456737,
          0.08890758298241469,
          0.6542883889705488,
          0.1526791972817478,
          -1.0761625495932814,
          0.4108953551780461,
          0.8849114941005151,
          -1.7404564207865973,
          -0.2834726233350443,
          -0.7225958554493189,
          -0.3360213951887905,
          -0.43360752963912125,
          -0.28610770283411324,
          0.5140475923376779,
          0.6498272394533989,
          -0.1880381648673378,
          3.029906110373341,
          -0.655023507621413,
          -0.29993908275112585,
          0.17257175369280023,
          -0.8252449189026975,
          -0.5068002853772337,
          0.7260798014189815,
          -0.3890204893183104,
          -0.42350519981926266,
          -0.9830897847082721,
          -0.745081495310831,
          0.5885934793538804,
          1.3819602740760888,
          -0.6052431371727914,
          -0.795447989408926,
          -0.36279193604862736,
          0.6507982198529062,
          0.26554271337673624,
          0.4278905943406648,
          0.7667337976267404,
          -1.009477598035802,
          1.7868695252714277,
          0.07238439431084817,
          -0.2921642502366185,
          0.8037729291547354,
          -0.2997123802579395,
          0.5540178206043035,
          0.4378922178605772,
          0.516907689763789,
          -0.7489107442737745,
          0.3042169050027822,
          -1.2286144224027291,
          -1.4768661895797555,
          -0.5706672119608341,
          1.4961773942937893,
          -0.15560187954158308,
          0.03247288091238335,
          0.3121279723427983,
          1.2036174628101248,
          -1.8149602214495568,
          -0.25267277264871385,
          -0.31891897183935325,
          -0.47381322603680753,
          0.9177839120362744,
          -0.6619439676220062,
          -0.22228104761216375,
          0.5167188779834639,
          -0.5886601441588484,
          -0.49111226630245897,
          0.2442643888637009,
          -0.04507916296916212,
          0.9049845080788567,
          0.49394996349843406,
          0.202128923957163,
          0.9149650220094239,
          0.20786740242860877,
          1.2558499203678959,
          -0.8882369239533632,
          -0.5665994304015882,
          -2.52713736735959,
          -0.40202525070563416,
          0.42337816477791873,
          2.930189646869836,
          -0.29870561060645767,
          1.0259894736560005,
          -0.5434596778354565,
          -0.48187202723754213,
          -0.7849654446928984,
          0.5354112571672852,
          -0.12100382967481559,
          -1.288362701278329,
          -1.3144891120780753,
          -0.3190835777670386,
          -0.9499938842804496,
          -1.3683098023592501,
          -0.4998233472993743,
          0.47028413887107634,
          0.7786479452061807,
          -0.7357339189416259,
          -1.3464941644058384
         ]
        }
       ],
       "layout": {
        "legend": {
         "bgcolor": "#F5F6F9",
         "font": {
          "color": "#4D5663"
         }
        },
        "paper_bgcolor": "#F5F6F9",
        "plot_bgcolor": "#F5F6F9",
        "template": {
         "data": {
          "bar": [
           {
            "error_x": {
             "color": "#2a3f5f"
            },
            "error_y": {
             "color": "#2a3f5f"
            },
            "marker": {
             "line": {
              "color": "#E5ECF6",
              "width": 0.5
             }
            },
            "type": "bar"
           }
          ],
          "barpolar": [
           {
            "marker": {
             "line": {
              "color": "#E5ECF6",
              "width": 0.5
             }
            },
            "type": "barpolar"
           }
          ],
          "carpet": [
           {
            "aaxis": {
             "endlinecolor": "#2a3f5f",
             "gridcolor": "white",
             "linecolor": "white",
             "minorgridcolor": "white",
             "startlinecolor": "#2a3f5f"
            },
            "baxis": {
             "endlinecolor": "#2a3f5f",
             "gridcolor": "white",
             "linecolor": "white",
             "minorgridcolor": "white",
             "startlinecolor": "#2a3f5f"
            },
            "type": "carpet"
           }
          ],
          "choropleth": [
           {
            "colorbar": {
             "outlinewidth": 0,
             "ticks": ""
            },
            "type": "choropleth"
           }
          ],
          "contour": [
           {
            "colorbar": {
             "outlinewidth": 0,
             "ticks": ""
            },
            "colorscale": [
             [
              0,
              "#0d0887"
             ],
             [
              0.1111111111111111,
              "#46039f"
             ],
             [
              0.2222222222222222,
              "#7201a8"
             ],
             [
              0.3333333333333333,
              "#9c179e"
             ],
             [
              0.4444444444444444,
              "#bd3786"
             ],
             [
              0.5555555555555556,
              "#d8576b"
             ],
             [
              0.6666666666666666,
              "#ed7953"
             ],
             [
              0.7777777777777778,
              "#fb9f3a"
             ],
             [
              0.8888888888888888,
              "#fdca26"
             ],
             [
              1,
              "#f0f921"
             ]
            ],
            "type": "contour"
           }
          ],
          "contourcarpet": [
           {
            "colorbar": {
             "outlinewidth": 0,
             "ticks": ""
            },
            "type": "contourcarpet"
           }
          ],
          "heatmap": [
           {
            "colorbar": {
             "outlinewidth": 0,
             "ticks": ""
            },
            "colorscale": [
             [
              0,
              "#0d0887"
             ],
             [
              0.1111111111111111,
              "#46039f"
             ],
             [
              0.2222222222222222,
              "#7201a8"
             ],
             [
              0.3333333333333333,
              "#9c179e"
             ],
             [
              0.4444444444444444,
              "#bd3786"
             ],
             [
              0.5555555555555556,
              "#d8576b"
             ],
             [
              0.6666666666666666,
              "#ed7953"
             ],
             [
              0.7777777777777778,
              "#fb9f3a"
             ],
             [
              0.8888888888888888,
              "#fdca26"
             ],
             [
              1,
              "#f0f921"
             ]
            ],
            "type": "heatmap"
           }
          ],
          "heatmapgl": [
           {
            "colorbar": {
             "outlinewidth": 0,
             "ticks": ""
            },
            "colorscale": [
             [
              0,
              "#0d0887"
             ],
             [
              0.1111111111111111,
              "#46039f"
             ],
             [
              0.2222222222222222,
              "#7201a8"
             ],
             [
              0.3333333333333333,
              "#9c179e"
             ],
             [
              0.4444444444444444,
              "#bd3786"
             ],
             [
              0.5555555555555556,
              "#d8576b"
             ],
             [
              0.6666666666666666,
              "#ed7953"
             ],
             [
              0.7777777777777778,
              "#fb9f3a"
             ],
             [
              0.8888888888888888,
              "#fdca26"
             ],
             [
              1,
              "#f0f921"
             ]
            ],
            "type": "heatmapgl"
           }
          ],
          "histogram": [
           {
            "marker": {
             "colorbar": {
              "outlinewidth": 0,
              "ticks": ""
             }
            },
            "type": "histogram"
           }
          ],
          "histogram2d": [
           {
            "colorbar": {
             "outlinewidth": 0,
             "ticks": ""
            },
            "colorscale": [
             [
              0,
              "#0d0887"
             ],
             [
              0.1111111111111111,
              "#46039f"
             ],
             [
              0.2222222222222222,
              "#7201a8"
             ],
             [
              0.3333333333333333,
              "#9c179e"
             ],
             [
              0.4444444444444444,
              "#bd3786"
             ],
             [
              0.5555555555555556,
              "#d8576b"
             ],
             [
              0.6666666666666666,
              "#ed7953"
             ],
             [
              0.7777777777777778,
              "#fb9f3a"
             ],
             [
              0.8888888888888888,
              "#fdca26"
             ],
             [
              1,
              "#f0f921"
             ]
            ],
            "type": "histogram2d"
           }
          ],
          "histogram2dcontour": [
           {
            "colorbar": {
             "outlinewidth": 0,
             "ticks": ""
            },
            "colorscale": [
             [
              0,
              "#0d0887"
             ],
             [
              0.1111111111111111,
              "#46039f"
             ],
             [
              0.2222222222222222,
              "#7201a8"
             ],
             [
              0.3333333333333333,
              "#9c179e"
             ],
             [
              0.4444444444444444,
              "#bd3786"
             ],
             [
              0.5555555555555556,
              "#d8576b"
             ],
             [
              0.6666666666666666,
              "#ed7953"
             ],
             [
              0.7777777777777778,
              "#fb9f3a"
             ],
             [
              0.8888888888888888,
              "#fdca26"
             ],
             [
              1,
              "#f0f921"
             ]
            ],
            "type": "histogram2dcontour"
           }
          ],
          "mesh3d": [
           {
            "colorbar": {
             "outlinewidth": 0,
             "ticks": ""
            },
            "type": "mesh3d"
           }
          ],
          "parcoords": [
           {
            "line": {
             "colorbar": {
              "outlinewidth": 0,
              "ticks": ""
             }
            },
            "type": "parcoords"
           }
          ],
          "pie": [
           {
            "automargin": true,
            "type": "pie"
           }
          ],
          "scatter": [
           {
            "marker": {
             "colorbar": {
              "outlinewidth": 0,
              "ticks": ""
             }
            },
            "type": "scatter"
           }
          ],
          "scatter3d": [
           {
            "line": {
             "colorbar": {
              "outlinewidth": 0,
              "ticks": ""
             }
            },
            "marker": {
             "colorbar": {
              "outlinewidth": 0,
              "ticks": ""
             }
            },
            "type": "scatter3d"
           }
          ],
          "scattercarpet": [
           {
            "marker": {
             "colorbar": {
              "outlinewidth": 0,
              "ticks": ""
             }
            },
            "type": "scattercarpet"
           }
          ],
          "scattergeo": [
           {
            "marker": {
             "colorbar": {
              "outlinewidth": 0,
              "ticks": ""
             }
            },
            "type": "scattergeo"
           }
          ],
          "scattergl": [
           {
            "marker": {
             "colorbar": {
              "outlinewidth": 0,
              "ticks": ""
             }
            },
            "type": "scattergl"
           }
          ],
          "scattermapbox": [
           {
            "marker": {
             "colorbar": {
              "outlinewidth": 0,
              "ticks": ""
             }
            },
            "type": "scattermapbox"
           }
          ],
          "scatterpolar": [
           {
            "marker": {
             "colorbar": {
              "outlinewidth": 0,
              "ticks": ""
             }
            },
            "type": "scatterpolar"
           }
          ],
          "scatterpolargl": [
           {
            "marker": {
             "colorbar": {
              "outlinewidth": 0,
              "ticks": ""
             }
            },
            "type": "scatterpolargl"
           }
          ],
          "scatterternary": [
           {
            "marker": {
             "colorbar": {
              "outlinewidth": 0,
              "ticks": ""
             }
            },
            "type": "scatterternary"
           }
          ],
          "surface": [
           {
            "colorbar": {
             "outlinewidth": 0,
             "ticks": ""
            },
            "colorscale": [
             [
              0,
              "#0d0887"
             ],
             [
              0.1111111111111111,
              "#46039f"
             ],
             [
              0.2222222222222222,
              "#7201a8"
             ],
             [
              0.3333333333333333,
              "#9c179e"
             ],
             [
              0.4444444444444444,
              "#bd3786"
             ],
             [
              0.5555555555555556,
              "#d8576b"
             ],
             [
              0.6666666666666666,
              "#ed7953"
             ],
             [
              0.7777777777777778,
              "#fb9f3a"
             ],
             [
              0.8888888888888888,
              "#fdca26"
             ],
             [
              1,
              "#f0f921"
             ]
            ],
            "type": "surface"
           }
          ],
          "table": [
           {
            "cells": {
             "fill": {
              "color": "#EBF0F8"
             },
             "line": {
              "color": "white"
             }
            },
            "header": {
             "fill": {
              "color": "#C8D4E3"
             },
             "line": {
              "color": "white"
             }
            },
            "type": "table"
           }
          ]
         },
         "layout": {
          "annotationdefaults": {
           "arrowcolor": "#2a3f5f",
           "arrowhead": 0,
           "arrowwidth": 1
          },
          "autotypenumbers": "strict",
          "coloraxis": {
           "colorbar": {
            "outlinewidth": 0,
            "ticks": ""
           }
          },
          "colorscale": {
           "diverging": [
            [
             0,
             "#8e0152"
            ],
            [
             0.1,
             "#c51b7d"
            ],
            [
             0.2,
             "#de77ae"
            ],
            [
             0.3,
             "#f1b6da"
            ],
            [
             0.4,
             "#fde0ef"
            ],
            [
             0.5,
             "#f7f7f7"
            ],
            [
             0.6,
             "#e6f5d0"
            ],
            [
             0.7,
             "#b8e186"
            ],
            [
             0.8,
             "#7fbc41"
            ],
            [
             0.9,
             "#4d9221"
            ],
            [
             1,
             "#276419"
            ]
           ],
           "sequential": [
            [
             0,
             "#0d0887"
            ],
            [
             0.1111111111111111,
             "#46039f"
            ],
            [
             0.2222222222222222,
             "#7201a8"
            ],
            [
             0.3333333333333333,
             "#9c179e"
            ],
            [
             0.4444444444444444,
             "#bd3786"
            ],
            [
             0.5555555555555556,
             "#d8576b"
            ],
            [
             0.6666666666666666,
             "#ed7953"
            ],
            [
             0.7777777777777778,
             "#fb9f3a"
            ],
            [
             0.8888888888888888,
             "#fdca26"
            ],
            [
             1,
             "#f0f921"
            ]
           ],
           "sequentialminus": [
            [
             0,
             "#0d0887"
            ],
            [
             0.1111111111111111,
             "#46039f"
            ],
            [
             0.2222222222222222,
             "#7201a8"
            ],
            [
             0.3333333333333333,
             "#9c179e"
            ],
            [
             0.4444444444444444,
             "#bd3786"
            ],
            [
             0.5555555555555556,
             "#d8576b"
            ],
            [
             0.6666666666666666,
             "#ed7953"
            ],
            [
             0.7777777777777778,
             "#fb9f3a"
            ],
            [
             0.8888888888888888,
             "#fdca26"
            ],
            [
             1,
             "#f0f921"
            ]
           ]
          },
          "colorway": [
           "#636efa",
           "#EF553B",
           "#00cc96",
           "#ab63fa",
           "#FFA15A",
           "#19d3f3",
           "#FF6692",
           "#B6E880",
           "#FF97FF",
           "#FECB52"
          ],
          "font": {
           "color": "#2a3f5f"
          },
          "geo": {
           "bgcolor": "white",
           "lakecolor": "white",
           "landcolor": "#E5ECF6",
           "showlakes": true,
           "showland": true,
           "subunitcolor": "white"
          },
          "hoverlabel": {
           "align": "left"
          },
          "hovermode": "closest",
          "mapbox": {
           "style": "light"
          },
          "paper_bgcolor": "white",
          "plot_bgcolor": "#E5ECF6",
          "polar": {
           "angularaxis": {
            "gridcolor": "white",
            "linecolor": "white",
            "ticks": ""
           },
           "bgcolor": "#E5ECF6",
           "radialaxis": {
            "gridcolor": "white",
            "linecolor": "white",
            "ticks": ""
           }
          },
          "scene": {
           "xaxis": {
            "backgroundcolor": "#E5ECF6",
            "gridcolor": "white",
            "gridwidth": 2,
            "linecolor": "white",
            "showbackground": true,
            "ticks": "",
            "zerolinecolor": "white"
           },
           "yaxis": {
            "backgroundcolor": "#E5ECF6",
            "gridcolor": "white",
            "gridwidth": 2,
            "linecolor": "white",
            "showbackground": true,
            "ticks": "",
            "zerolinecolor": "white"
           },
           "zaxis": {
            "backgroundcolor": "#E5ECF6",
            "gridcolor": "white",
            "gridwidth": 2,
            "linecolor": "white",
            "showbackground": true,
            "ticks": "",
            "zerolinecolor": "white"
           }
          },
          "shapedefaults": {
           "line": {
            "color": "#2a3f5f"
           }
          },
          "ternary": {
           "aaxis": {
            "gridcolor": "white",
            "linecolor": "white",
            "ticks": ""
           },
           "baxis": {
            "gridcolor": "white",
            "linecolor": "white",
            "ticks": ""
           },
           "bgcolor": "#E5ECF6",
           "caxis": {
            "gridcolor": "white",
            "linecolor": "white",
            "ticks": ""
           }
          },
          "title": {
           "x": 0.05
          },
          "xaxis": {
           "automargin": true,
           "gridcolor": "white",
           "linecolor": "white",
           "ticks": "",
           "title": {
            "standoff": 15
           },
           "zerolinecolor": "white",
           "zerolinewidth": 2
          },
          "yaxis": {
           "automargin": true,
           "gridcolor": "white",
           "linecolor": "white",
           "ticks": "",
           "title": {
            "standoff": 15
           },
           "zerolinecolor": "white",
           "zerolinewidth": 2
          }
         }
        },
        "title": {
         "font": {
          "color": "#4D5663"
         }
        },
        "xaxis": {
         "gridcolor": "#E1E5ED",
         "showgrid": true,
         "tickfont": {
          "color": "#4D5663"
         },
         "title": {
          "font": {
           "color": "#4D5663"
          },
          "text": ""
         },
         "zerolinecolor": "#E1E5ED"
        },
        "yaxis": {
         "gridcolor": "#E1E5ED",
         "showgrid": true,
         "tickfont": {
          "color": "#4D5663"
         },
         "title": {
          "font": {
           "color": "#4D5663"
          },
          "text": ""
         },
         "zerolinecolor": "#E1E5ED"
        }
       }
      },
      "text/html": [
       "<div>                            <div id=\"405624a1-84a3-4b52-9cde-b5662a68d54d\" class=\"plotly-graph-div\" style=\"height:525px; width:100%;\"></div>            <script type=\"text/javascript\">                require([\"plotly\"], function(Plotly) {                    window.PLOTLYENV=window.PLOTLYENV || {};\n",
       "                    window.PLOTLYENV.BASE_URL='https://plot.ly';                                    if (document.getElementById(\"405624a1-84a3-4b52-9cde-b5662a68d54d\")) {                    Plotly.newPlot(                        \"405624a1-84a3-4b52-9cde-b5662a68d54d\",                        [{\"line\": {\"color\": \"rgba(255, 153, 51, 1.0)\", \"dash\": \"solid\", \"shape\": \"linear\", \"width\": 1.3}, \"mode\": \"lines\", \"name\": \"B\", \"text\": \"\", \"type\": \"scatter\", \"x\": [-1.9722087496969223, -0.011671936731851002, -1.581095695462608, -0.34655125540727333, -2.477227183550656, 1.0941645349574753, 1.0229529172073148, -0.2598830879365222, -0.03408300204513225, 0.316552878256426, -0.9560391300790448, 0.03686863729565844, -1.057002166096782, 1.1269640029188206, -2.9267062941867423, -0.746704279766539, 0.05041994672178217, 0.48710115962661305, 0.4411562042292949, 1.9586541598607206, -1.1264446501035439, -0.8893264007516325, -0.912797025545708, -0.6764986758310823, 0.060741922825052995, -1.8449685175213293, -0.2581939666458554, -1.0845735336268134, 1.3092149762046064, -0.3066644272536902, 2.6272020454447893, 1.9776080885194243, 0.5668461448153023, 0.14871793417682036, 0.5589477908589175, 1.569395013601064, 0.6903765899355268, -0.9624507753100264, -1.1982377774156872, 0.3460526200922986, -1.5813823853788058, -0.060380627009908705, -0.45301810031688394, -0.8874355334946187, -0.08069904562752264, 0.9892325935849244, -0.4402405812651847, 0.9062225085353147, 0.051935187991758267, -0.7749692187429894, 0.20663577894552076, -2.6432173202033327, 0.428142633290837, 0.28064340537672056, 0.49998815039368866, -2.282375457843157, -0.2636867903407214, -0.8818468535001559, -0.3507863058950262, -0.3459010474609139, -0.2537435919563658, 0.7534214071578663, -0.9475830799767535, -1.275468885966171, -1.0661714834592064, -0.9048886981411098, 0.25326937641655517, 2.1839204484406034, -0.8272174280292035, -0.4645040193133396, 0.8445505137052899, 0.36733557594376404, -0.21495587739570762, -0.2147215789481739, -1.014567110997098, -0.5200774799937841, -0.6299002021429765, -0.018567917997282603, -1.0129723040910823, -1.244448617322104, 0.9101942921335867, 0.14653083392106686, -0.4696844835441938, 0.25679717959833154, -0.26913999204070016, 0.49298478979236415, -1.7553400104436443, -0.32567192940690426, 0.4963013251259451, 0.33715228833004396, -0.48702644670754175, 0.583173722625296, -0.13151299514984052, -0.17277039856468238, -0.3932252217320785, 1.747981066541866, 1.2996522287381982, 0.17177685124461037, 0.942376140480576, -1.4875548956939744], \"y\": [-0.15467443438003167, -1.103714486619362, -0.0541684553591224, 0.41422239107560715, -0.47311978978456737, 0.08890758298241469, 0.6542883889705488, 0.1526791972817478, -1.0761625495932814, 0.4108953551780461, 0.8849114941005151, -1.7404564207865973, -0.2834726233350443, -0.7225958554493189, -0.3360213951887905, -0.43360752963912125, -0.28610770283411324, 0.5140475923376779, 0.6498272394533989, -0.1880381648673378, 3.029906110373341, -0.655023507621413, -0.29993908275112585, 0.17257175369280023, -0.8252449189026975, -0.5068002853772337, 0.7260798014189815, -0.3890204893183104, -0.42350519981926266, -0.9830897847082721, -0.745081495310831, 0.5885934793538804, 1.3819602740760888, -0.6052431371727914, -0.795447989408926, -0.36279193604862736, 0.6507982198529062, 0.26554271337673624, 0.4278905943406648, 0.7667337976267404, -1.009477598035802, 1.7868695252714277, 0.07238439431084817, -0.2921642502366185, 0.8037729291547354, -0.2997123802579395, 0.5540178206043035, 0.4378922178605772, 0.516907689763789, -0.7489107442737745, 0.3042169050027822, -1.2286144224027291, -1.4768661895797555, -0.5706672119608341, 1.4961773942937893, -0.15560187954158308, 0.03247288091238335, 0.3121279723427983, 1.2036174628101248, -1.8149602214495568, -0.25267277264871385, -0.31891897183935325, -0.47381322603680753, 0.9177839120362744, -0.6619439676220062, -0.22228104761216375, 0.5167188779834639, -0.5886601441588484, -0.49111226630245897, 0.2442643888637009, -0.04507916296916212, 0.9049845080788567, 0.49394996349843406, 0.202128923957163, 0.9149650220094239, 0.20786740242860877, 1.2558499203678959, -0.8882369239533632, -0.5665994304015882, -2.52713736735959, -0.40202525070563416, 0.42337816477791873, 2.930189646869836, -0.29870561060645767, 1.0259894736560005, -0.5434596778354565, -0.48187202723754213, -0.7849654446928984, 0.5354112571672852, -0.12100382967481559, -1.288362701278329, -1.3144891120780753, -0.3190835777670386, -0.9499938842804496, -1.3683098023592501, -0.4998233472993743, 0.47028413887107634, 0.7786479452061807, -0.7357339189416259, -1.3464941644058384]}],                        {\"legend\": {\"bgcolor\": \"#F5F6F9\", \"font\": {\"color\": \"#4D5663\"}}, \"paper_bgcolor\": \"#F5F6F9\", \"plot_bgcolor\": \"#F5F6F9\", \"template\": {\"data\": {\"bar\": [{\"error_x\": {\"color\": \"#2a3f5f\"}, \"error_y\": {\"color\": \"#2a3f5f\"}, \"marker\": {\"line\": {\"color\": \"#E5ECF6\", \"width\": 0.5}}, \"type\": \"bar\"}], \"barpolar\": [{\"marker\": {\"line\": {\"color\": \"#E5ECF6\", \"width\": 0.5}}, \"type\": \"barpolar\"}], \"carpet\": [{\"aaxis\": {\"endlinecolor\": \"#2a3f5f\", \"gridcolor\": \"white\", \"linecolor\": \"white\", \"minorgridcolor\": \"white\", \"startlinecolor\": \"#2a3f5f\"}, \"baxis\": {\"endlinecolor\": \"#2a3f5f\", \"gridcolor\": \"white\", \"linecolor\": \"white\", \"minorgridcolor\": \"white\", \"startlinecolor\": \"#2a3f5f\"}, \"type\": \"carpet\"}], \"choropleth\": [{\"colorbar\": {\"outlinewidth\": 0, \"ticks\": \"\"}, \"type\": \"choropleth\"}], \"contour\": [{\"colorbar\": {\"outlinewidth\": 0, \"ticks\": \"\"}, \"colorscale\": [[0.0, \"#0d0887\"], [0.1111111111111111, \"#46039f\"], [0.2222222222222222, \"#7201a8\"], [0.3333333333333333, \"#9c179e\"], [0.4444444444444444, \"#bd3786\"], [0.5555555555555556, \"#d8576b\"], [0.6666666666666666, \"#ed7953\"], [0.7777777777777778, \"#fb9f3a\"], [0.8888888888888888, \"#fdca26\"], [1.0, \"#f0f921\"]], \"type\": \"contour\"}], \"contourcarpet\": [{\"colorbar\": {\"outlinewidth\": 0, \"ticks\": \"\"}, \"type\": \"contourcarpet\"}], \"heatmap\": [{\"colorbar\": {\"outlinewidth\": 0, \"ticks\": \"\"}, \"colorscale\": [[0.0, \"#0d0887\"], [0.1111111111111111, \"#46039f\"], [0.2222222222222222, \"#7201a8\"], [0.3333333333333333, \"#9c179e\"], [0.4444444444444444, \"#bd3786\"], [0.5555555555555556, \"#d8576b\"], [0.6666666666666666, \"#ed7953\"], [0.7777777777777778, \"#fb9f3a\"], [0.8888888888888888, \"#fdca26\"], [1.0, \"#f0f921\"]], \"type\": \"heatmap\"}], \"heatmapgl\": [{\"colorbar\": {\"outlinewidth\": 0, \"ticks\": \"\"}, \"colorscale\": [[0.0, \"#0d0887\"], [0.1111111111111111, \"#46039f\"], [0.2222222222222222, \"#7201a8\"], [0.3333333333333333, \"#9c179e\"], [0.4444444444444444, \"#bd3786\"], [0.5555555555555556, \"#d8576b\"], [0.6666666666666666, \"#ed7953\"], [0.7777777777777778, \"#fb9f3a\"], [0.8888888888888888, \"#fdca26\"], [1.0, \"#f0f921\"]], \"type\": \"heatmapgl\"}], \"histogram\": [{\"marker\": {\"colorbar\": {\"outlinewidth\": 0, \"ticks\": \"\"}}, \"type\": \"histogram\"}], \"histogram2d\": [{\"colorbar\": {\"outlinewidth\": 0, \"ticks\": \"\"}, \"colorscale\": [[0.0, \"#0d0887\"], [0.1111111111111111, \"#46039f\"], [0.2222222222222222, \"#7201a8\"], [0.3333333333333333, \"#9c179e\"], [0.4444444444444444, \"#bd3786\"], [0.5555555555555556, \"#d8576b\"], [0.6666666666666666, \"#ed7953\"], [0.7777777777777778, \"#fb9f3a\"], [0.8888888888888888, \"#fdca26\"], [1.0, \"#f0f921\"]], \"type\": \"histogram2d\"}], \"histogram2dcontour\": [{\"colorbar\": {\"outlinewidth\": 0, \"ticks\": \"\"}, \"colorscale\": [[0.0, \"#0d0887\"], [0.1111111111111111, \"#46039f\"], [0.2222222222222222, \"#7201a8\"], [0.3333333333333333, \"#9c179e\"], [0.4444444444444444, \"#bd3786\"], [0.5555555555555556, \"#d8576b\"], [0.6666666666666666, \"#ed7953\"], [0.7777777777777778, \"#fb9f3a\"], [0.8888888888888888, \"#fdca26\"], [1.0, \"#f0f921\"]], \"type\": \"histogram2dcontour\"}], \"mesh3d\": [{\"colorbar\": {\"outlinewidth\": 0, \"ticks\": \"\"}, \"type\": \"mesh3d\"}], \"parcoords\": [{\"line\": {\"colorbar\": {\"outlinewidth\": 0, \"ticks\": \"\"}}, \"type\": \"parcoords\"}], \"pie\": [{\"automargin\": true, \"type\": \"pie\"}], \"scatter\": [{\"marker\": {\"colorbar\": {\"outlinewidth\": 0, \"ticks\": \"\"}}, \"type\": \"scatter\"}], \"scatter3d\": [{\"line\": {\"colorbar\": {\"outlinewidth\": 0, \"ticks\": \"\"}}, \"marker\": {\"colorbar\": {\"outlinewidth\": 0, \"ticks\": \"\"}}, \"type\": \"scatter3d\"}], \"scattercarpet\": [{\"marker\": {\"colorbar\": {\"outlinewidth\": 0, \"ticks\": \"\"}}, \"type\": \"scattercarpet\"}], \"scattergeo\": [{\"marker\": {\"colorbar\": {\"outlinewidth\": 0, \"ticks\": \"\"}}, \"type\": \"scattergeo\"}], \"scattergl\": [{\"marker\": {\"colorbar\": {\"outlinewidth\": 0, \"ticks\": \"\"}}, \"type\": \"scattergl\"}], \"scattermapbox\": [{\"marker\": {\"colorbar\": {\"outlinewidth\": 0, \"ticks\": \"\"}}, \"type\": \"scattermapbox\"}], \"scatterpolar\": [{\"marker\": {\"colorbar\": {\"outlinewidth\": 0, \"ticks\": \"\"}}, \"type\": \"scatterpolar\"}], \"scatterpolargl\": [{\"marker\": {\"colorbar\": {\"outlinewidth\": 0, \"ticks\": \"\"}}, \"type\": \"scatterpolargl\"}], \"scatterternary\": [{\"marker\": {\"colorbar\": {\"outlinewidth\": 0, \"ticks\": \"\"}}, \"type\": \"scatterternary\"}], \"surface\": [{\"colorbar\": {\"outlinewidth\": 0, \"ticks\": \"\"}, \"colorscale\": [[0.0, \"#0d0887\"], [0.1111111111111111, \"#46039f\"], [0.2222222222222222, \"#7201a8\"], [0.3333333333333333, \"#9c179e\"], [0.4444444444444444, \"#bd3786\"], [0.5555555555555556, \"#d8576b\"], [0.6666666666666666, \"#ed7953\"], [0.7777777777777778, \"#fb9f3a\"], [0.8888888888888888, \"#fdca26\"], [1.0, \"#f0f921\"]], \"type\": \"surface\"}], \"table\": [{\"cells\": {\"fill\": {\"color\": \"#EBF0F8\"}, \"line\": {\"color\": \"white\"}}, \"header\": {\"fill\": {\"color\": \"#C8D4E3\"}, \"line\": {\"color\": \"white\"}}, \"type\": \"table\"}]}, \"layout\": {\"annotationdefaults\": {\"arrowcolor\": \"#2a3f5f\", \"arrowhead\": 0, \"arrowwidth\": 1}, \"autotypenumbers\": \"strict\", \"coloraxis\": {\"colorbar\": {\"outlinewidth\": 0, \"ticks\": \"\"}}, \"colorscale\": {\"diverging\": [[0, \"#8e0152\"], [0.1, \"#c51b7d\"], [0.2, \"#de77ae\"], [0.3, \"#f1b6da\"], [0.4, \"#fde0ef\"], [0.5, \"#f7f7f7\"], [0.6, \"#e6f5d0\"], [0.7, \"#b8e186\"], [0.8, \"#7fbc41\"], [0.9, \"#4d9221\"], [1, \"#276419\"]], \"sequential\": [[0.0, \"#0d0887\"], [0.1111111111111111, \"#46039f\"], [0.2222222222222222, \"#7201a8\"], [0.3333333333333333, \"#9c179e\"], [0.4444444444444444, \"#bd3786\"], [0.5555555555555556, \"#d8576b\"], [0.6666666666666666, \"#ed7953\"], [0.7777777777777778, \"#fb9f3a\"], [0.8888888888888888, \"#fdca26\"], [1.0, \"#f0f921\"]], \"sequentialminus\": [[0.0, \"#0d0887\"], [0.1111111111111111, \"#46039f\"], [0.2222222222222222, \"#7201a8\"], [0.3333333333333333, \"#9c179e\"], [0.4444444444444444, \"#bd3786\"], [0.5555555555555556, \"#d8576b\"], [0.6666666666666666, \"#ed7953\"], [0.7777777777777778, \"#fb9f3a\"], [0.8888888888888888, \"#fdca26\"], [1.0, \"#f0f921\"]]}, \"colorway\": [\"#636efa\", \"#EF553B\", \"#00cc96\", \"#ab63fa\", \"#FFA15A\", \"#19d3f3\", \"#FF6692\", \"#B6E880\", \"#FF97FF\", \"#FECB52\"], \"font\": {\"color\": \"#2a3f5f\"}, \"geo\": {\"bgcolor\": \"white\", \"lakecolor\": \"white\", \"landcolor\": \"#E5ECF6\", \"showlakes\": true, \"showland\": true, \"subunitcolor\": \"white\"}, \"hoverlabel\": {\"align\": \"left\"}, \"hovermode\": \"closest\", \"mapbox\": {\"style\": \"light\"}, \"paper_bgcolor\": \"white\", \"plot_bgcolor\": \"#E5ECF6\", \"polar\": {\"angularaxis\": {\"gridcolor\": \"white\", \"linecolor\": \"white\", \"ticks\": \"\"}, \"bgcolor\": \"#E5ECF6\", \"radialaxis\": {\"gridcolor\": \"white\", \"linecolor\": \"white\", \"ticks\": \"\"}}, \"scene\": {\"xaxis\": {\"backgroundcolor\": \"#E5ECF6\", \"gridcolor\": \"white\", \"gridwidth\": 2, \"linecolor\": \"white\", \"showbackground\": true, \"ticks\": \"\", \"zerolinecolor\": \"white\"}, \"yaxis\": {\"backgroundcolor\": \"#E5ECF6\", \"gridcolor\": \"white\", \"gridwidth\": 2, \"linecolor\": \"white\", \"showbackground\": true, \"ticks\": \"\", \"zerolinecolor\": \"white\"}, \"zaxis\": {\"backgroundcolor\": \"#E5ECF6\", \"gridcolor\": \"white\", \"gridwidth\": 2, \"linecolor\": \"white\", \"showbackground\": true, \"ticks\": \"\", \"zerolinecolor\": \"white\"}}, \"shapedefaults\": {\"line\": {\"color\": \"#2a3f5f\"}}, \"ternary\": {\"aaxis\": {\"gridcolor\": \"white\", \"linecolor\": \"white\", \"ticks\": \"\"}, \"baxis\": {\"gridcolor\": \"white\", \"linecolor\": \"white\", \"ticks\": \"\"}, \"bgcolor\": \"#E5ECF6\", \"caxis\": {\"gridcolor\": \"white\", \"linecolor\": \"white\", \"ticks\": \"\"}}, \"title\": {\"x\": 0.05}, \"xaxis\": {\"automargin\": true, \"gridcolor\": \"white\", \"linecolor\": \"white\", \"ticks\": \"\", \"title\": {\"standoff\": 15}, \"zerolinecolor\": \"white\", \"zerolinewidth\": 2}, \"yaxis\": {\"automargin\": true, \"gridcolor\": \"white\", \"linecolor\": \"white\", \"ticks\": \"\", \"title\": {\"standoff\": 15}, \"zerolinecolor\": \"white\", \"zerolinewidth\": 2}}}, \"title\": {\"font\": {\"color\": \"#4D5663\"}}, \"xaxis\": {\"gridcolor\": \"#E1E5ED\", \"showgrid\": true, \"tickfont\": {\"color\": \"#4D5663\"}, \"title\": {\"font\": {\"color\": \"#4D5663\"}, \"text\": \"\"}, \"zerolinecolor\": \"#E1E5ED\"}, \"yaxis\": {\"gridcolor\": \"#E1E5ED\", \"showgrid\": true, \"tickfont\": {\"color\": \"#4D5663\"}, \"title\": {\"font\": {\"color\": \"#4D5663\"}, \"text\": \"\"}, \"zerolinecolor\": \"#E1E5ED\"}},                        {\"showLink\": true, \"linkText\": \"Export to plot.ly\", \"plotlyServerURL\": \"https://plot.ly\", \"responsive\": true}                    ).then(function(){\n",
       "                            \n",
       "var gd = document.getElementById('405624a1-84a3-4b52-9cde-b5662a68d54d');\n",
       "var x = new MutationObserver(function (mutations, observer) {{\n",
       "        var display = window.getComputedStyle(gd).display;\n",
       "        if (!display || display === 'none') {{\n",
       "            console.log([gd, 'removed!']);\n",
       "            Plotly.purge(gd);\n",
       "            observer.disconnect();\n",
       "        }}\n",
       "}});\n",
       "\n",
       "// Listen for the removal of the full notebook cells\n",
       "var notebookContainer = gd.closest('#notebook-container');\n",
       "if (notebookContainer) {{\n",
       "    x.observe(notebookContainer, {childList: true});\n",
       "}}\n",
       "\n",
       "// Listen for the clearing of the current output cell\n",
       "var outputEl = gd.closest('.output');\n",
       "if (outputEl) {{\n",
       "    x.observe(outputEl, {childList: true});\n",
       "}}\n",
       "\n",
       "                        })                };                });            </script>        </div>"
      ]
     },
     "metadata": {},
     "output_type": "display_data"
    }
   ],
   "source": [
    "df.iplot(kind='scatter',x='A',y='B')"
   ]
  },
  {
   "cell_type": "code",
   "execution_count": 19,
   "metadata": {
    "scrolled": true
   },
   "outputs": [
    {
     "data": {
      "application/vnd.plotly.v1+json": {
       "config": {
        "linkText": "Export to plot.ly",
        "plotlyServerURL": "https://plot.ly",
        "showLink": true
       },
       "data": [
        {
         "line": {
          "color": "rgba(255, 153, 51, 1.0)",
          "dash": "solid",
          "shape": "linear",
          "width": 1.3
         },
         "marker": {
          "size": 12,
          "symbol": "circle"
         },
         "mode": "markers",
         "name": "B",
         "text": "",
         "type": "scatter",
         "x": [
          -1.9722087496969223,
          -0.011671936731851002,
          -1.581095695462608,
          -0.34655125540727333,
          -2.477227183550656,
          1.0941645349574753,
          1.0229529172073148,
          -0.2598830879365222,
          -0.03408300204513225,
          0.316552878256426,
          -0.9560391300790448,
          0.03686863729565844,
          -1.057002166096782,
          1.1269640029188206,
          -2.9267062941867423,
          -0.746704279766539,
          0.05041994672178217,
          0.48710115962661305,
          0.4411562042292949,
          1.9586541598607206,
          -1.1264446501035439,
          -0.8893264007516325,
          -0.912797025545708,
          -0.6764986758310823,
          0.060741922825052995,
          -1.8449685175213293,
          -0.2581939666458554,
          -1.0845735336268134,
          1.3092149762046064,
          -0.3066644272536902,
          2.6272020454447893,
          1.9776080885194243,
          0.5668461448153023,
          0.14871793417682036,
          0.5589477908589175,
          1.569395013601064,
          0.6903765899355268,
          -0.9624507753100264,
          -1.1982377774156872,
          0.3460526200922986,
          -1.5813823853788058,
          -0.060380627009908705,
          -0.45301810031688394,
          -0.8874355334946187,
          -0.08069904562752264,
          0.9892325935849244,
          -0.4402405812651847,
          0.9062225085353147,
          0.051935187991758267,
          -0.7749692187429894,
          0.20663577894552076,
          -2.6432173202033327,
          0.428142633290837,
          0.28064340537672056,
          0.49998815039368866,
          -2.282375457843157,
          -0.2636867903407214,
          -0.8818468535001559,
          -0.3507863058950262,
          -0.3459010474609139,
          -0.2537435919563658,
          0.7534214071578663,
          -0.9475830799767535,
          -1.275468885966171,
          -1.0661714834592064,
          -0.9048886981411098,
          0.25326937641655517,
          2.1839204484406034,
          -0.8272174280292035,
          -0.4645040193133396,
          0.8445505137052899,
          0.36733557594376404,
          -0.21495587739570762,
          -0.2147215789481739,
          -1.014567110997098,
          -0.5200774799937841,
          -0.6299002021429765,
          -0.018567917997282603,
          -1.0129723040910823,
          -1.244448617322104,
          0.9101942921335867,
          0.14653083392106686,
          -0.4696844835441938,
          0.25679717959833154,
          -0.26913999204070016,
          0.49298478979236415,
          -1.7553400104436443,
          -0.32567192940690426,
          0.4963013251259451,
          0.33715228833004396,
          -0.48702644670754175,
          0.583173722625296,
          -0.13151299514984052,
          -0.17277039856468238,
          -0.3932252217320785,
          1.747981066541866,
          1.2996522287381982,
          0.17177685124461037,
          0.942376140480576,
          -1.4875548956939744
         ],
         "y": [
          -0.15467443438003167,
          -1.103714486619362,
          -0.0541684553591224,
          0.41422239107560715,
          -0.47311978978456737,
          0.08890758298241469,
          0.6542883889705488,
          0.1526791972817478,
          -1.0761625495932814,
          0.4108953551780461,
          0.8849114941005151,
          -1.7404564207865973,
          -0.2834726233350443,
          -0.7225958554493189,
          -0.3360213951887905,
          -0.43360752963912125,
          -0.28610770283411324,
          0.5140475923376779,
          0.6498272394533989,
          -0.1880381648673378,
          3.029906110373341,
          -0.655023507621413,
          -0.29993908275112585,
          0.17257175369280023,
          -0.8252449189026975,
          -0.5068002853772337,
          0.7260798014189815,
          -0.3890204893183104,
          -0.42350519981926266,
          -0.9830897847082721,
          -0.745081495310831,
          0.5885934793538804,
          1.3819602740760888,
          -0.6052431371727914,
          -0.795447989408926,
          -0.36279193604862736,
          0.6507982198529062,
          0.26554271337673624,
          0.4278905943406648,
          0.7667337976267404,
          -1.009477598035802,
          1.7868695252714277,
          0.07238439431084817,
          -0.2921642502366185,
          0.8037729291547354,
          -0.2997123802579395,
          0.5540178206043035,
          0.4378922178605772,
          0.516907689763789,
          -0.7489107442737745,
          0.3042169050027822,
          -1.2286144224027291,
          -1.4768661895797555,
          -0.5706672119608341,
          1.4961773942937893,
          -0.15560187954158308,
          0.03247288091238335,
          0.3121279723427983,
          1.2036174628101248,
          -1.8149602214495568,
          -0.25267277264871385,
          -0.31891897183935325,
          -0.47381322603680753,
          0.9177839120362744,
          -0.6619439676220062,
          -0.22228104761216375,
          0.5167188779834639,
          -0.5886601441588484,
          -0.49111226630245897,
          0.2442643888637009,
          -0.04507916296916212,
          0.9049845080788567,
          0.49394996349843406,
          0.202128923957163,
          0.9149650220094239,
          0.20786740242860877,
          1.2558499203678959,
          -0.8882369239533632,
          -0.5665994304015882,
          -2.52713736735959,
          -0.40202525070563416,
          0.42337816477791873,
          2.930189646869836,
          -0.29870561060645767,
          1.0259894736560005,
          -0.5434596778354565,
          -0.48187202723754213,
          -0.7849654446928984,
          0.5354112571672852,
          -0.12100382967481559,
          -1.288362701278329,
          -1.3144891120780753,
          -0.3190835777670386,
          -0.9499938842804496,
          -1.3683098023592501,
          -0.4998233472993743,
          0.47028413887107634,
          0.7786479452061807,
          -0.7357339189416259,
          -1.3464941644058384
         ]
        }
       ],
       "layout": {
        "legend": {
         "bgcolor": "#F5F6F9",
         "font": {
          "color": "#4D5663"
         }
        },
        "paper_bgcolor": "#F5F6F9",
        "plot_bgcolor": "#F5F6F9",
        "template": {
         "data": {
          "bar": [
           {
            "error_x": {
             "color": "#2a3f5f"
            },
            "error_y": {
             "color": "#2a3f5f"
            },
            "marker": {
             "line": {
              "color": "#E5ECF6",
              "width": 0.5
             }
            },
            "type": "bar"
           }
          ],
          "barpolar": [
           {
            "marker": {
             "line": {
              "color": "#E5ECF6",
              "width": 0.5
             }
            },
            "type": "barpolar"
           }
          ],
          "carpet": [
           {
            "aaxis": {
             "endlinecolor": "#2a3f5f",
             "gridcolor": "white",
             "linecolor": "white",
             "minorgridcolor": "white",
             "startlinecolor": "#2a3f5f"
            },
            "baxis": {
             "endlinecolor": "#2a3f5f",
             "gridcolor": "white",
             "linecolor": "white",
             "minorgridcolor": "white",
             "startlinecolor": "#2a3f5f"
            },
            "type": "carpet"
           }
          ],
          "choropleth": [
           {
            "colorbar": {
             "outlinewidth": 0,
             "ticks": ""
            },
            "type": "choropleth"
           }
          ],
          "contour": [
           {
            "colorbar": {
             "outlinewidth": 0,
             "ticks": ""
            },
            "colorscale": [
             [
              0,
              "#0d0887"
             ],
             [
              0.1111111111111111,
              "#46039f"
             ],
             [
              0.2222222222222222,
              "#7201a8"
             ],
             [
              0.3333333333333333,
              "#9c179e"
             ],
             [
              0.4444444444444444,
              "#bd3786"
             ],
             [
              0.5555555555555556,
              "#d8576b"
             ],
             [
              0.6666666666666666,
              "#ed7953"
             ],
             [
              0.7777777777777778,
              "#fb9f3a"
             ],
             [
              0.8888888888888888,
              "#fdca26"
             ],
             [
              1,
              "#f0f921"
             ]
            ],
            "type": "contour"
           }
          ],
          "contourcarpet": [
           {
            "colorbar": {
             "outlinewidth": 0,
             "ticks": ""
            },
            "type": "contourcarpet"
           }
          ],
          "heatmap": [
           {
            "colorbar": {
             "outlinewidth": 0,
             "ticks": ""
            },
            "colorscale": [
             [
              0,
              "#0d0887"
             ],
             [
              0.1111111111111111,
              "#46039f"
             ],
             [
              0.2222222222222222,
              "#7201a8"
             ],
             [
              0.3333333333333333,
              "#9c179e"
             ],
             [
              0.4444444444444444,
              "#bd3786"
             ],
             [
              0.5555555555555556,
              "#d8576b"
             ],
             [
              0.6666666666666666,
              "#ed7953"
             ],
             [
              0.7777777777777778,
              "#fb9f3a"
             ],
             [
              0.8888888888888888,
              "#fdca26"
             ],
             [
              1,
              "#f0f921"
             ]
            ],
            "type": "heatmap"
           }
          ],
          "heatmapgl": [
           {
            "colorbar": {
             "outlinewidth": 0,
             "ticks": ""
            },
            "colorscale": [
             [
              0,
              "#0d0887"
             ],
             [
              0.1111111111111111,
              "#46039f"
             ],
             [
              0.2222222222222222,
              "#7201a8"
             ],
             [
              0.3333333333333333,
              "#9c179e"
             ],
             [
              0.4444444444444444,
              "#bd3786"
             ],
             [
              0.5555555555555556,
              "#d8576b"
             ],
             [
              0.6666666666666666,
              "#ed7953"
             ],
             [
              0.7777777777777778,
              "#fb9f3a"
             ],
             [
              0.8888888888888888,
              "#fdca26"
             ],
             [
              1,
              "#f0f921"
             ]
            ],
            "type": "heatmapgl"
           }
          ],
          "histogram": [
           {
            "marker": {
             "colorbar": {
              "outlinewidth": 0,
              "ticks": ""
             }
            },
            "type": "histogram"
           }
          ],
          "histogram2d": [
           {
            "colorbar": {
             "outlinewidth": 0,
             "ticks": ""
            },
            "colorscale": [
             [
              0,
              "#0d0887"
             ],
             [
              0.1111111111111111,
              "#46039f"
             ],
             [
              0.2222222222222222,
              "#7201a8"
             ],
             [
              0.3333333333333333,
              "#9c179e"
             ],
             [
              0.4444444444444444,
              "#bd3786"
             ],
             [
              0.5555555555555556,
              "#d8576b"
             ],
             [
              0.6666666666666666,
              "#ed7953"
             ],
             [
              0.7777777777777778,
              "#fb9f3a"
             ],
             [
              0.8888888888888888,
              "#fdca26"
             ],
             [
              1,
              "#f0f921"
             ]
            ],
            "type": "histogram2d"
           }
          ],
          "histogram2dcontour": [
           {
            "colorbar": {
             "outlinewidth": 0,
             "ticks": ""
            },
            "colorscale": [
             [
              0,
              "#0d0887"
             ],
             [
              0.1111111111111111,
              "#46039f"
             ],
             [
              0.2222222222222222,
              "#7201a8"
             ],
             [
              0.3333333333333333,
              "#9c179e"
             ],
             [
              0.4444444444444444,
              "#bd3786"
             ],
             [
              0.5555555555555556,
              "#d8576b"
             ],
             [
              0.6666666666666666,
              "#ed7953"
             ],
             [
              0.7777777777777778,
              "#fb9f3a"
             ],
             [
              0.8888888888888888,
              "#fdca26"
             ],
             [
              1,
              "#f0f921"
             ]
            ],
            "type": "histogram2dcontour"
           }
          ],
          "mesh3d": [
           {
            "colorbar": {
             "outlinewidth": 0,
             "ticks": ""
            },
            "type": "mesh3d"
           }
          ],
          "parcoords": [
           {
            "line": {
             "colorbar": {
              "outlinewidth": 0,
              "ticks": ""
             }
            },
            "type": "parcoords"
           }
          ],
          "pie": [
           {
            "automargin": true,
            "type": "pie"
           }
          ],
          "scatter": [
           {
            "marker": {
             "colorbar": {
              "outlinewidth": 0,
              "ticks": ""
             }
            },
            "type": "scatter"
           }
          ],
          "scatter3d": [
           {
            "line": {
             "colorbar": {
              "outlinewidth": 0,
              "ticks": ""
             }
            },
            "marker": {
             "colorbar": {
              "outlinewidth": 0,
              "ticks": ""
             }
            },
            "type": "scatter3d"
           }
          ],
          "scattercarpet": [
           {
            "marker": {
             "colorbar": {
              "outlinewidth": 0,
              "ticks": ""
             }
            },
            "type": "scattercarpet"
           }
          ],
          "scattergeo": [
           {
            "marker": {
             "colorbar": {
              "outlinewidth": 0,
              "ticks": ""
             }
            },
            "type": "scattergeo"
           }
          ],
          "scattergl": [
           {
            "marker": {
             "colorbar": {
              "outlinewidth": 0,
              "ticks": ""
             }
            },
            "type": "scattergl"
           }
          ],
          "scattermapbox": [
           {
            "marker": {
             "colorbar": {
              "outlinewidth": 0,
              "ticks": ""
             }
            },
            "type": "scattermapbox"
           }
          ],
          "scatterpolar": [
           {
            "marker": {
             "colorbar": {
              "outlinewidth": 0,
              "ticks": ""
             }
            },
            "type": "scatterpolar"
           }
          ],
          "scatterpolargl": [
           {
            "marker": {
             "colorbar": {
              "outlinewidth": 0,
              "ticks": ""
             }
            },
            "type": "scatterpolargl"
           }
          ],
          "scatterternary": [
           {
            "marker": {
             "colorbar": {
              "outlinewidth": 0,
              "ticks": ""
             }
            },
            "type": "scatterternary"
           }
          ],
          "surface": [
           {
            "colorbar": {
             "outlinewidth": 0,
             "ticks": ""
            },
            "colorscale": [
             [
              0,
              "#0d0887"
             ],
             [
              0.1111111111111111,
              "#46039f"
             ],
             [
              0.2222222222222222,
              "#7201a8"
             ],
             [
              0.3333333333333333,
              "#9c179e"
             ],
             [
              0.4444444444444444,
              "#bd3786"
             ],
             [
              0.5555555555555556,
              "#d8576b"
             ],
             [
              0.6666666666666666,
              "#ed7953"
             ],
             [
              0.7777777777777778,
              "#fb9f3a"
             ],
             [
              0.8888888888888888,
              "#fdca26"
             ],
             [
              1,
              "#f0f921"
             ]
            ],
            "type": "surface"
           }
          ],
          "table": [
           {
            "cells": {
             "fill": {
              "color": "#EBF0F8"
             },
             "line": {
              "color": "white"
             }
            },
            "header": {
             "fill": {
              "color": "#C8D4E3"
             },
             "line": {
              "color": "white"
             }
            },
            "type": "table"
           }
          ]
         },
         "layout": {
          "annotationdefaults": {
           "arrowcolor": "#2a3f5f",
           "arrowhead": 0,
           "arrowwidth": 1
          },
          "autotypenumbers": "strict",
          "coloraxis": {
           "colorbar": {
            "outlinewidth": 0,
            "ticks": ""
           }
          },
          "colorscale": {
           "diverging": [
            [
             0,
             "#8e0152"
            ],
            [
             0.1,
             "#c51b7d"
            ],
            [
             0.2,
             "#de77ae"
            ],
            [
             0.3,
             "#f1b6da"
            ],
            [
             0.4,
             "#fde0ef"
            ],
            [
             0.5,
             "#f7f7f7"
            ],
            [
             0.6,
             "#e6f5d0"
            ],
            [
             0.7,
             "#b8e186"
            ],
            [
             0.8,
             "#7fbc41"
            ],
            [
             0.9,
             "#4d9221"
            ],
            [
             1,
             "#276419"
            ]
           ],
           "sequential": [
            [
             0,
             "#0d0887"
            ],
            [
             0.1111111111111111,
             "#46039f"
            ],
            [
             0.2222222222222222,
             "#7201a8"
            ],
            [
             0.3333333333333333,
             "#9c179e"
            ],
            [
             0.4444444444444444,
             "#bd3786"
            ],
            [
             0.5555555555555556,
             "#d8576b"
            ],
            [
             0.6666666666666666,
             "#ed7953"
            ],
            [
             0.7777777777777778,
             "#fb9f3a"
            ],
            [
             0.8888888888888888,
             "#fdca26"
            ],
            [
             1,
             "#f0f921"
            ]
           ],
           "sequentialminus": [
            [
             0,
             "#0d0887"
            ],
            [
             0.1111111111111111,
             "#46039f"
            ],
            [
             0.2222222222222222,
             "#7201a8"
            ],
            [
             0.3333333333333333,
             "#9c179e"
            ],
            [
             0.4444444444444444,
             "#bd3786"
            ],
            [
             0.5555555555555556,
             "#d8576b"
            ],
            [
             0.6666666666666666,
             "#ed7953"
            ],
            [
             0.7777777777777778,
             "#fb9f3a"
            ],
            [
             0.8888888888888888,
             "#fdca26"
            ],
            [
             1,
             "#f0f921"
            ]
           ]
          },
          "colorway": [
           "#636efa",
           "#EF553B",
           "#00cc96",
           "#ab63fa",
           "#FFA15A",
           "#19d3f3",
           "#FF6692",
           "#B6E880",
           "#FF97FF",
           "#FECB52"
          ],
          "font": {
           "color": "#2a3f5f"
          },
          "geo": {
           "bgcolor": "white",
           "lakecolor": "white",
           "landcolor": "#E5ECF6",
           "showlakes": true,
           "showland": true,
           "subunitcolor": "white"
          },
          "hoverlabel": {
           "align": "left"
          },
          "hovermode": "closest",
          "mapbox": {
           "style": "light"
          },
          "paper_bgcolor": "white",
          "plot_bgcolor": "#E5ECF6",
          "polar": {
           "angularaxis": {
            "gridcolor": "white",
            "linecolor": "white",
            "ticks": ""
           },
           "bgcolor": "#E5ECF6",
           "radialaxis": {
            "gridcolor": "white",
            "linecolor": "white",
            "ticks": ""
           }
          },
          "scene": {
           "xaxis": {
            "backgroundcolor": "#E5ECF6",
            "gridcolor": "white",
            "gridwidth": 2,
            "linecolor": "white",
            "showbackground": true,
            "ticks": "",
            "zerolinecolor": "white"
           },
           "yaxis": {
            "backgroundcolor": "#E5ECF6",
            "gridcolor": "white",
            "gridwidth": 2,
            "linecolor": "white",
            "showbackground": true,
            "ticks": "",
            "zerolinecolor": "white"
           },
           "zaxis": {
            "backgroundcolor": "#E5ECF6",
            "gridcolor": "white",
            "gridwidth": 2,
            "linecolor": "white",
            "showbackground": true,
            "ticks": "",
            "zerolinecolor": "white"
           }
          },
          "shapedefaults": {
           "line": {
            "color": "#2a3f5f"
           }
          },
          "ternary": {
           "aaxis": {
            "gridcolor": "white",
            "linecolor": "white",
            "ticks": ""
           },
           "baxis": {
            "gridcolor": "white",
            "linecolor": "white",
            "ticks": ""
           },
           "bgcolor": "#E5ECF6",
           "caxis": {
            "gridcolor": "white",
            "linecolor": "white",
            "ticks": ""
           }
          },
          "title": {
           "x": 0.05
          },
          "xaxis": {
           "automargin": true,
           "gridcolor": "white",
           "linecolor": "white",
           "ticks": "",
           "title": {
            "standoff": 15
           },
           "zerolinecolor": "white",
           "zerolinewidth": 2
          },
          "yaxis": {
           "automargin": true,
           "gridcolor": "white",
           "linecolor": "white",
           "ticks": "",
           "title": {
            "standoff": 15
           },
           "zerolinecolor": "white",
           "zerolinewidth": 2
          }
         }
        },
        "title": {
         "font": {
          "color": "#4D5663"
         }
        },
        "xaxis": {
         "gridcolor": "#E1E5ED",
         "showgrid": true,
         "tickfont": {
          "color": "#4D5663"
         },
         "title": {
          "font": {
           "color": "#4D5663"
          },
          "text": ""
         },
         "zerolinecolor": "#E1E5ED"
        },
        "yaxis": {
         "gridcolor": "#E1E5ED",
         "showgrid": true,
         "tickfont": {
          "color": "#4D5663"
         },
         "title": {
          "font": {
           "color": "#4D5663"
          },
          "text": ""
         },
         "zerolinecolor": "#E1E5ED"
        }
       }
      },
      "text/html": [
       "<div>                            <div id=\"b7ea9b01-fd18-46a4-a2ff-bd2cffe1622c\" class=\"plotly-graph-div\" style=\"height:525px; width:100%;\"></div>            <script type=\"text/javascript\">                require([\"plotly\"], function(Plotly) {                    window.PLOTLYENV=window.PLOTLYENV || {};\n",
       "                    window.PLOTLYENV.BASE_URL='https://plot.ly';                                    if (document.getElementById(\"b7ea9b01-fd18-46a4-a2ff-bd2cffe1622c\")) {                    Plotly.newPlot(                        \"b7ea9b01-fd18-46a4-a2ff-bd2cffe1622c\",                        [{\"line\": {\"color\": \"rgba(255, 153, 51, 1.0)\", \"dash\": \"solid\", \"shape\": \"linear\", \"width\": 1.3}, \"marker\": {\"size\": 12, \"symbol\": \"circle\"}, \"mode\": \"markers\", \"name\": \"B\", \"text\": \"\", \"type\": \"scatter\", \"x\": [-1.9722087496969223, -0.011671936731851002, -1.581095695462608, -0.34655125540727333, -2.477227183550656, 1.0941645349574753, 1.0229529172073148, -0.2598830879365222, -0.03408300204513225, 0.316552878256426, -0.9560391300790448, 0.03686863729565844, -1.057002166096782, 1.1269640029188206, -2.9267062941867423, -0.746704279766539, 0.05041994672178217, 0.48710115962661305, 0.4411562042292949, 1.9586541598607206, -1.1264446501035439, -0.8893264007516325, -0.912797025545708, -0.6764986758310823, 0.060741922825052995, -1.8449685175213293, -0.2581939666458554, -1.0845735336268134, 1.3092149762046064, -0.3066644272536902, 2.6272020454447893, 1.9776080885194243, 0.5668461448153023, 0.14871793417682036, 0.5589477908589175, 1.569395013601064, 0.6903765899355268, -0.9624507753100264, -1.1982377774156872, 0.3460526200922986, -1.5813823853788058, -0.060380627009908705, -0.45301810031688394, -0.8874355334946187, -0.08069904562752264, 0.9892325935849244, -0.4402405812651847, 0.9062225085353147, 0.051935187991758267, -0.7749692187429894, 0.20663577894552076, -2.6432173202033327, 0.428142633290837, 0.28064340537672056, 0.49998815039368866, -2.282375457843157, -0.2636867903407214, -0.8818468535001559, -0.3507863058950262, -0.3459010474609139, -0.2537435919563658, 0.7534214071578663, -0.9475830799767535, -1.275468885966171, -1.0661714834592064, -0.9048886981411098, 0.25326937641655517, 2.1839204484406034, -0.8272174280292035, -0.4645040193133396, 0.8445505137052899, 0.36733557594376404, -0.21495587739570762, -0.2147215789481739, -1.014567110997098, -0.5200774799937841, -0.6299002021429765, -0.018567917997282603, -1.0129723040910823, -1.244448617322104, 0.9101942921335867, 0.14653083392106686, -0.4696844835441938, 0.25679717959833154, -0.26913999204070016, 0.49298478979236415, -1.7553400104436443, -0.32567192940690426, 0.4963013251259451, 0.33715228833004396, -0.48702644670754175, 0.583173722625296, -0.13151299514984052, -0.17277039856468238, -0.3932252217320785, 1.747981066541866, 1.2996522287381982, 0.17177685124461037, 0.942376140480576, -1.4875548956939744], \"y\": [-0.15467443438003167, -1.103714486619362, -0.0541684553591224, 0.41422239107560715, -0.47311978978456737, 0.08890758298241469, 0.6542883889705488, 0.1526791972817478, -1.0761625495932814, 0.4108953551780461, 0.8849114941005151, -1.7404564207865973, -0.2834726233350443, -0.7225958554493189, -0.3360213951887905, -0.43360752963912125, -0.28610770283411324, 0.5140475923376779, 0.6498272394533989, -0.1880381648673378, 3.029906110373341, -0.655023507621413, -0.29993908275112585, 0.17257175369280023, -0.8252449189026975, -0.5068002853772337, 0.7260798014189815, -0.3890204893183104, -0.42350519981926266, -0.9830897847082721, -0.745081495310831, 0.5885934793538804, 1.3819602740760888, -0.6052431371727914, -0.795447989408926, -0.36279193604862736, 0.6507982198529062, 0.26554271337673624, 0.4278905943406648, 0.7667337976267404, -1.009477598035802, 1.7868695252714277, 0.07238439431084817, -0.2921642502366185, 0.8037729291547354, -0.2997123802579395, 0.5540178206043035, 0.4378922178605772, 0.516907689763789, -0.7489107442737745, 0.3042169050027822, -1.2286144224027291, -1.4768661895797555, -0.5706672119608341, 1.4961773942937893, -0.15560187954158308, 0.03247288091238335, 0.3121279723427983, 1.2036174628101248, -1.8149602214495568, -0.25267277264871385, -0.31891897183935325, -0.47381322603680753, 0.9177839120362744, -0.6619439676220062, -0.22228104761216375, 0.5167188779834639, -0.5886601441588484, -0.49111226630245897, 0.2442643888637009, -0.04507916296916212, 0.9049845080788567, 0.49394996349843406, 0.202128923957163, 0.9149650220094239, 0.20786740242860877, 1.2558499203678959, -0.8882369239533632, -0.5665994304015882, -2.52713736735959, -0.40202525070563416, 0.42337816477791873, 2.930189646869836, -0.29870561060645767, 1.0259894736560005, -0.5434596778354565, -0.48187202723754213, -0.7849654446928984, 0.5354112571672852, -0.12100382967481559, -1.288362701278329, -1.3144891120780753, -0.3190835777670386, -0.9499938842804496, -1.3683098023592501, -0.4998233472993743, 0.47028413887107634, 0.7786479452061807, -0.7357339189416259, -1.3464941644058384]}],                        {\"legend\": {\"bgcolor\": \"#F5F6F9\", \"font\": {\"color\": \"#4D5663\"}}, \"paper_bgcolor\": \"#F5F6F9\", \"plot_bgcolor\": \"#F5F6F9\", \"template\": {\"data\": {\"bar\": [{\"error_x\": {\"color\": \"#2a3f5f\"}, \"error_y\": {\"color\": \"#2a3f5f\"}, \"marker\": {\"line\": {\"color\": \"#E5ECF6\", \"width\": 0.5}}, \"type\": \"bar\"}], \"barpolar\": [{\"marker\": {\"line\": {\"color\": \"#E5ECF6\", \"width\": 0.5}}, \"type\": \"barpolar\"}], \"carpet\": [{\"aaxis\": {\"endlinecolor\": \"#2a3f5f\", \"gridcolor\": \"white\", \"linecolor\": \"white\", \"minorgridcolor\": \"white\", \"startlinecolor\": \"#2a3f5f\"}, \"baxis\": {\"endlinecolor\": \"#2a3f5f\", \"gridcolor\": \"white\", \"linecolor\": \"white\", \"minorgridcolor\": \"white\", \"startlinecolor\": \"#2a3f5f\"}, \"type\": \"carpet\"}], \"choropleth\": [{\"colorbar\": {\"outlinewidth\": 0, \"ticks\": \"\"}, \"type\": \"choropleth\"}], \"contour\": [{\"colorbar\": {\"outlinewidth\": 0, \"ticks\": \"\"}, \"colorscale\": [[0.0, \"#0d0887\"], [0.1111111111111111, \"#46039f\"], [0.2222222222222222, \"#7201a8\"], [0.3333333333333333, \"#9c179e\"], [0.4444444444444444, \"#bd3786\"], [0.5555555555555556, \"#d8576b\"], [0.6666666666666666, \"#ed7953\"], [0.7777777777777778, \"#fb9f3a\"], [0.8888888888888888, \"#fdca26\"], [1.0, \"#f0f921\"]], \"type\": \"contour\"}], \"contourcarpet\": [{\"colorbar\": {\"outlinewidth\": 0, \"ticks\": \"\"}, \"type\": \"contourcarpet\"}], \"heatmap\": [{\"colorbar\": {\"outlinewidth\": 0, \"ticks\": \"\"}, \"colorscale\": [[0.0, \"#0d0887\"], [0.1111111111111111, \"#46039f\"], [0.2222222222222222, \"#7201a8\"], [0.3333333333333333, \"#9c179e\"], [0.4444444444444444, \"#bd3786\"], [0.5555555555555556, \"#d8576b\"], [0.6666666666666666, \"#ed7953\"], [0.7777777777777778, \"#fb9f3a\"], [0.8888888888888888, \"#fdca26\"], [1.0, \"#f0f921\"]], \"type\": \"heatmap\"}], \"heatmapgl\": [{\"colorbar\": {\"outlinewidth\": 0, \"ticks\": \"\"}, \"colorscale\": [[0.0, \"#0d0887\"], [0.1111111111111111, \"#46039f\"], [0.2222222222222222, \"#7201a8\"], [0.3333333333333333, \"#9c179e\"], [0.4444444444444444, \"#bd3786\"], [0.5555555555555556, \"#d8576b\"], [0.6666666666666666, \"#ed7953\"], [0.7777777777777778, \"#fb9f3a\"], [0.8888888888888888, \"#fdca26\"], [1.0, \"#f0f921\"]], \"type\": \"heatmapgl\"}], \"histogram\": [{\"marker\": {\"colorbar\": {\"outlinewidth\": 0, \"ticks\": \"\"}}, \"type\": \"histogram\"}], \"histogram2d\": [{\"colorbar\": {\"outlinewidth\": 0, \"ticks\": \"\"}, \"colorscale\": [[0.0, \"#0d0887\"], [0.1111111111111111, \"#46039f\"], [0.2222222222222222, \"#7201a8\"], [0.3333333333333333, \"#9c179e\"], [0.4444444444444444, \"#bd3786\"], [0.5555555555555556, \"#d8576b\"], [0.6666666666666666, \"#ed7953\"], [0.7777777777777778, \"#fb9f3a\"], [0.8888888888888888, \"#fdca26\"], [1.0, \"#f0f921\"]], \"type\": \"histogram2d\"}], \"histogram2dcontour\": [{\"colorbar\": {\"outlinewidth\": 0, \"ticks\": \"\"}, \"colorscale\": [[0.0, \"#0d0887\"], [0.1111111111111111, \"#46039f\"], [0.2222222222222222, \"#7201a8\"], [0.3333333333333333, \"#9c179e\"], [0.4444444444444444, \"#bd3786\"], [0.5555555555555556, \"#d8576b\"], [0.6666666666666666, \"#ed7953\"], [0.7777777777777778, \"#fb9f3a\"], [0.8888888888888888, \"#fdca26\"], [1.0, \"#f0f921\"]], \"type\": \"histogram2dcontour\"}], \"mesh3d\": [{\"colorbar\": {\"outlinewidth\": 0, \"ticks\": \"\"}, \"type\": \"mesh3d\"}], \"parcoords\": [{\"line\": {\"colorbar\": {\"outlinewidth\": 0, \"ticks\": \"\"}}, \"type\": \"parcoords\"}], \"pie\": [{\"automargin\": true, \"type\": \"pie\"}], \"scatter\": [{\"marker\": {\"colorbar\": {\"outlinewidth\": 0, \"ticks\": \"\"}}, \"type\": \"scatter\"}], \"scatter3d\": [{\"line\": {\"colorbar\": {\"outlinewidth\": 0, \"ticks\": \"\"}}, \"marker\": {\"colorbar\": {\"outlinewidth\": 0, \"ticks\": \"\"}}, \"type\": \"scatter3d\"}], \"scattercarpet\": [{\"marker\": {\"colorbar\": {\"outlinewidth\": 0, \"ticks\": \"\"}}, \"type\": \"scattercarpet\"}], \"scattergeo\": [{\"marker\": {\"colorbar\": {\"outlinewidth\": 0, \"ticks\": \"\"}}, \"type\": \"scattergeo\"}], \"scattergl\": [{\"marker\": {\"colorbar\": {\"outlinewidth\": 0, \"ticks\": \"\"}}, \"type\": \"scattergl\"}], \"scattermapbox\": [{\"marker\": {\"colorbar\": {\"outlinewidth\": 0, \"ticks\": \"\"}}, \"type\": \"scattermapbox\"}], \"scatterpolar\": [{\"marker\": {\"colorbar\": {\"outlinewidth\": 0, \"ticks\": \"\"}}, \"type\": \"scatterpolar\"}], \"scatterpolargl\": [{\"marker\": {\"colorbar\": {\"outlinewidth\": 0, \"ticks\": \"\"}}, \"type\": \"scatterpolargl\"}], \"scatterternary\": [{\"marker\": {\"colorbar\": {\"outlinewidth\": 0, \"ticks\": \"\"}}, \"type\": \"scatterternary\"}], \"surface\": [{\"colorbar\": {\"outlinewidth\": 0, \"ticks\": \"\"}, \"colorscale\": [[0.0, \"#0d0887\"], [0.1111111111111111, \"#46039f\"], [0.2222222222222222, \"#7201a8\"], [0.3333333333333333, \"#9c179e\"], [0.4444444444444444, \"#bd3786\"], [0.5555555555555556, \"#d8576b\"], [0.6666666666666666, \"#ed7953\"], [0.7777777777777778, \"#fb9f3a\"], [0.8888888888888888, \"#fdca26\"], [1.0, \"#f0f921\"]], \"type\": \"surface\"}], \"table\": [{\"cells\": {\"fill\": {\"color\": \"#EBF0F8\"}, \"line\": {\"color\": \"white\"}}, \"header\": {\"fill\": {\"color\": \"#C8D4E3\"}, \"line\": {\"color\": \"white\"}}, \"type\": \"table\"}]}, \"layout\": {\"annotationdefaults\": {\"arrowcolor\": \"#2a3f5f\", \"arrowhead\": 0, \"arrowwidth\": 1}, \"autotypenumbers\": \"strict\", \"coloraxis\": {\"colorbar\": {\"outlinewidth\": 0, \"ticks\": \"\"}}, \"colorscale\": {\"diverging\": [[0, \"#8e0152\"], [0.1, \"#c51b7d\"], [0.2, \"#de77ae\"], [0.3, \"#f1b6da\"], [0.4, \"#fde0ef\"], [0.5, \"#f7f7f7\"], [0.6, \"#e6f5d0\"], [0.7, \"#b8e186\"], [0.8, \"#7fbc41\"], [0.9, \"#4d9221\"], [1, \"#276419\"]], \"sequential\": [[0.0, \"#0d0887\"], [0.1111111111111111, \"#46039f\"], [0.2222222222222222, \"#7201a8\"], [0.3333333333333333, \"#9c179e\"], [0.4444444444444444, \"#bd3786\"], [0.5555555555555556, \"#d8576b\"], [0.6666666666666666, \"#ed7953\"], [0.7777777777777778, \"#fb9f3a\"], [0.8888888888888888, \"#fdca26\"], [1.0, \"#f0f921\"]], \"sequentialminus\": [[0.0, \"#0d0887\"], [0.1111111111111111, \"#46039f\"], [0.2222222222222222, \"#7201a8\"], [0.3333333333333333, \"#9c179e\"], [0.4444444444444444, \"#bd3786\"], [0.5555555555555556, \"#d8576b\"], [0.6666666666666666, \"#ed7953\"], [0.7777777777777778, \"#fb9f3a\"], [0.8888888888888888, \"#fdca26\"], [1.0, \"#f0f921\"]]}, \"colorway\": [\"#636efa\", \"#EF553B\", \"#00cc96\", \"#ab63fa\", \"#FFA15A\", \"#19d3f3\", \"#FF6692\", \"#B6E880\", \"#FF97FF\", \"#FECB52\"], \"font\": {\"color\": \"#2a3f5f\"}, \"geo\": {\"bgcolor\": \"white\", \"lakecolor\": \"white\", \"landcolor\": \"#E5ECF6\", \"showlakes\": true, \"showland\": true, \"subunitcolor\": \"white\"}, \"hoverlabel\": {\"align\": \"left\"}, \"hovermode\": \"closest\", \"mapbox\": {\"style\": \"light\"}, \"paper_bgcolor\": \"white\", \"plot_bgcolor\": \"#E5ECF6\", \"polar\": {\"angularaxis\": {\"gridcolor\": \"white\", \"linecolor\": \"white\", \"ticks\": \"\"}, \"bgcolor\": \"#E5ECF6\", \"radialaxis\": {\"gridcolor\": \"white\", \"linecolor\": \"white\", \"ticks\": \"\"}}, \"scene\": {\"xaxis\": {\"backgroundcolor\": \"#E5ECF6\", \"gridcolor\": \"white\", \"gridwidth\": 2, \"linecolor\": \"white\", \"showbackground\": true, \"ticks\": \"\", \"zerolinecolor\": \"white\"}, \"yaxis\": {\"backgroundcolor\": \"#E5ECF6\", \"gridcolor\": \"white\", \"gridwidth\": 2, \"linecolor\": \"white\", \"showbackground\": true, \"ticks\": \"\", \"zerolinecolor\": \"white\"}, \"zaxis\": {\"backgroundcolor\": \"#E5ECF6\", \"gridcolor\": \"white\", \"gridwidth\": 2, \"linecolor\": \"white\", \"showbackground\": true, \"ticks\": \"\", \"zerolinecolor\": \"white\"}}, \"shapedefaults\": {\"line\": {\"color\": \"#2a3f5f\"}}, \"ternary\": {\"aaxis\": {\"gridcolor\": \"white\", \"linecolor\": \"white\", \"ticks\": \"\"}, \"baxis\": {\"gridcolor\": \"white\", \"linecolor\": \"white\", \"ticks\": \"\"}, \"bgcolor\": \"#E5ECF6\", \"caxis\": {\"gridcolor\": \"white\", \"linecolor\": \"white\", \"ticks\": \"\"}}, \"title\": {\"x\": 0.05}, \"xaxis\": {\"automargin\": true, \"gridcolor\": \"white\", \"linecolor\": \"white\", \"ticks\": \"\", \"title\": {\"standoff\": 15}, \"zerolinecolor\": \"white\", \"zerolinewidth\": 2}, \"yaxis\": {\"automargin\": true, \"gridcolor\": \"white\", \"linecolor\": \"white\", \"ticks\": \"\", \"title\": {\"standoff\": 15}, \"zerolinecolor\": \"white\", \"zerolinewidth\": 2}}}, \"title\": {\"font\": {\"color\": \"#4D5663\"}}, \"xaxis\": {\"gridcolor\": \"#E1E5ED\", \"showgrid\": true, \"tickfont\": {\"color\": \"#4D5663\"}, \"title\": {\"font\": {\"color\": \"#4D5663\"}, \"text\": \"\"}, \"zerolinecolor\": \"#E1E5ED\"}, \"yaxis\": {\"gridcolor\": \"#E1E5ED\", \"showgrid\": true, \"tickfont\": {\"color\": \"#4D5663\"}, \"title\": {\"font\": {\"color\": \"#4D5663\"}, \"text\": \"\"}, \"zerolinecolor\": \"#E1E5ED\"}},                        {\"showLink\": true, \"linkText\": \"Export to plot.ly\", \"plotlyServerURL\": \"https://plot.ly\", \"responsive\": true}                    ).then(function(){\n",
       "                            \n",
       "var gd = document.getElementById('b7ea9b01-fd18-46a4-a2ff-bd2cffe1622c');\n",
       "var x = new MutationObserver(function (mutations, observer) {{\n",
       "        var display = window.getComputedStyle(gd).display;\n",
       "        if (!display || display === 'none') {{\n",
       "            console.log([gd, 'removed!']);\n",
       "            Plotly.purge(gd);\n",
       "            observer.disconnect();\n",
       "        }}\n",
       "}});\n",
       "\n",
       "// Listen for the removal of the full notebook cells\n",
       "var notebookContainer = gd.closest('#notebook-container');\n",
       "if (notebookContainer) {{\n",
       "    x.observe(notebookContainer, {childList: true});\n",
       "}}\n",
       "\n",
       "// Listen for the clearing of the current output cell\n",
       "var outputEl = gd.closest('.output');\n",
       "if (outputEl) {{\n",
       "    x.observe(outputEl, {childList: true});\n",
       "}}\n",
       "\n",
       "                        })                };                });            </script>        </div>"
      ]
     },
     "metadata": {},
     "output_type": "display_data"
    }
   ],
   "source": [
    "df.iplot(kind='scatter',x='A',y='B',mode='markers')"
   ]
  },
  {
   "cell_type": "code",
   "execution_count": 32,
   "metadata": {},
   "outputs": [
    {
     "data": {
      "application/vnd.plotly.v1+json": {
       "config": {
        "linkText": "Export to plot.ly",
        "plotlyServerURL": "https://plot.ly",
        "showLink": true
       },
       "data": [
        {
         "marker": {
          "color": "rgba(255, 153, 51, 0.6)",
          "line": {
           "color": "rgba(255, 153, 51, 1.0)",
           "width": 1
          }
         },
         "name": "Values",
         "orientation": "v",
         "text": "",
         "type": "bar",
         "x": [
          "A",
          "B",
          "C"
         ],
         "y": [
          32,
          43,
          50
         ]
        }
       ],
       "layout": {
        "legend": {
         "bgcolor": "#F5F6F9",
         "font": {
          "color": "#4D5663"
         }
        },
        "paper_bgcolor": "#F5F6F9",
        "plot_bgcolor": "#F5F6F9",
        "template": {
         "data": {
          "bar": [
           {
            "error_x": {
             "color": "#2a3f5f"
            },
            "error_y": {
             "color": "#2a3f5f"
            },
            "marker": {
             "line": {
              "color": "#E5ECF6",
              "width": 0.5
             }
            },
            "type": "bar"
           }
          ],
          "barpolar": [
           {
            "marker": {
             "line": {
              "color": "#E5ECF6",
              "width": 0.5
             }
            },
            "type": "barpolar"
           }
          ],
          "carpet": [
           {
            "aaxis": {
             "endlinecolor": "#2a3f5f",
             "gridcolor": "white",
             "linecolor": "white",
             "minorgridcolor": "white",
             "startlinecolor": "#2a3f5f"
            },
            "baxis": {
             "endlinecolor": "#2a3f5f",
             "gridcolor": "white",
             "linecolor": "white",
             "minorgridcolor": "white",
             "startlinecolor": "#2a3f5f"
            },
            "type": "carpet"
           }
          ],
          "choropleth": [
           {
            "colorbar": {
             "outlinewidth": 0,
             "ticks": ""
            },
            "type": "choropleth"
           }
          ],
          "contour": [
           {
            "colorbar": {
             "outlinewidth": 0,
             "ticks": ""
            },
            "colorscale": [
             [
              0,
              "#0d0887"
             ],
             [
              0.1111111111111111,
              "#46039f"
             ],
             [
              0.2222222222222222,
              "#7201a8"
             ],
             [
              0.3333333333333333,
              "#9c179e"
             ],
             [
              0.4444444444444444,
              "#bd3786"
             ],
             [
              0.5555555555555556,
              "#d8576b"
             ],
             [
              0.6666666666666666,
              "#ed7953"
             ],
             [
              0.7777777777777778,
              "#fb9f3a"
             ],
             [
              0.8888888888888888,
              "#fdca26"
             ],
             [
              1,
              "#f0f921"
             ]
            ],
            "type": "contour"
           }
          ],
          "contourcarpet": [
           {
            "colorbar": {
             "outlinewidth": 0,
             "ticks": ""
            },
            "type": "contourcarpet"
           }
          ],
          "heatmap": [
           {
            "colorbar": {
             "outlinewidth": 0,
             "ticks": ""
            },
            "colorscale": [
             [
              0,
              "#0d0887"
             ],
             [
              0.1111111111111111,
              "#46039f"
             ],
             [
              0.2222222222222222,
              "#7201a8"
             ],
             [
              0.3333333333333333,
              "#9c179e"
             ],
             [
              0.4444444444444444,
              "#bd3786"
             ],
             [
              0.5555555555555556,
              "#d8576b"
             ],
             [
              0.6666666666666666,
              "#ed7953"
             ],
             [
              0.7777777777777778,
              "#fb9f3a"
             ],
             [
              0.8888888888888888,
              "#fdca26"
             ],
             [
              1,
              "#f0f921"
             ]
            ],
            "type": "heatmap"
           }
          ],
          "heatmapgl": [
           {
            "colorbar": {
             "outlinewidth": 0,
             "ticks": ""
            },
            "colorscale": [
             [
              0,
              "#0d0887"
             ],
             [
              0.1111111111111111,
              "#46039f"
             ],
             [
              0.2222222222222222,
              "#7201a8"
             ],
             [
              0.3333333333333333,
              "#9c179e"
             ],
             [
              0.4444444444444444,
              "#bd3786"
             ],
             [
              0.5555555555555556,
              "#d8576b"
             ],
             [
              0.6666666666666666,
              "#ed7953"
             ],
             [
              0.7777777777777778,
              "#fb9f3a"
             ],
             [
              0.8888888888888888,
              "#fdca26"
             ],
             [
              1,
              "#f0f921"
             ]
            ],
            "type": "heatmapgl"
           }
          ],
          "histogram": [
           {
            "marker": {
             "colorbar": {
              "outlinewidth": 0,
              "ticks": ""
             }
            },
            "type": "histogram"
           }
          ],
          "histogram2d": [
           {
            "colorbar": {
             "outlinewidth": 0,
             "ticks": ""
            },
            "colorscale": [
             [
              0,
              "#0d0887"
             ],
             [
              0.1111111111111111,
              "#46039f"
             ],
             [
              0.2222222222222222,
              "#7201a8"
             ],
             [
              0.3333333333333333,
              "#9c179e"
             ],
             [
              0.4444444444444444,
              "#bd3786"
             ],
             [
              0.5555555555555556,
              "#d8576b"
             ],
             [
              0.6666666666666666,
              "#ed7953"
             ],
             [
              0.7777777777777778,
              "#fb9f3a"
             ],
             [
              0.8888888888888888,
              "#fdca26"
             ],
             [
              1,
              "#f0f921"
             ]
            ],
            "type": "histogram2d"
           }
          ],
          "histogram2dcontour": [
           {
            "colorbar": {
             "outlinewidth": 0,
             "ticks": ""
            },
            "colorscale": [
             [
              0,
              "#0d0887"
             ],
             [
              0.1111111111111111,
              "#46039f"
             ],
             [
              0.2222222222222222,
              "#7201a8"
             ],
             [
              0.3333333333333333,
              "#9c179e"
             ],
             [
              0.4444444444444444,
              "#bd3786"
             ],
             [
              0.5555555555555556,
              "#d8576b"
             ],
             [
              0.6666666666666666,
              "#ed7953"
             ],
             [
              0.7777777777777778,
              "#fb9f3a"
             ],
             [
              0.8888888888888888,
              "#fdca26"
             ],
             [
              1,
              "#f0f921"
             ]
            ],
            "type": "histogram2dcontour"
           }
          ],
          "mesh3d": [
           {
            "colorbar": {
             "outlinewidth": 0,
             "ticks": ""
            },
            "type": "mesh3d"
           }
          ],
          "parcoords": [
           {
            "line": {
             "colorbar": {
              "outlinewidth": 0,
              "ticks": ""
             }
            },
            "type": "parcoords"
           }
          ],
          "pie": [
           {
            "automargin": true,
            "type": "pie"
           }
          ],
          "scatter": [
           {
            "marker": {
             "colorbar": {
              "outlinewidth": 0,
              "ticks": ""
             }
            },
            "type": "scatter"
           }
          ],
          "scatter3d": [
           {
            "line": {
             "colorbar": {
              "outlinewidth": 0,
              "ticks": ""
             }
            },
            "marker": {
             "colorbar": {
              "outlinewidth": 0,
              "ticks": ""
             }
            },
            "type": "scatter3d"
           }
          ],
          "scattercarpet": [
           {
            "marker": {
             "colorbar": {
              "outlinewidth": 0,
              "ticks": ""
             }
            },
            "type": "scattercarpet"
           }
          ],
          "scattergeo": [
           {
            "marker": {
             "colorbar": {
              "outlinewidth": 0,
              "ticks": ""
             }
            },
            "type": "scattergeo"
           }
          ],
          "scattergl": [
           {
            "marker": {
             "colorbar": {
              "outlinewidth": 0,
              "ticks": ""
             }
            },
            "type": "scattergl"
           }
          ],
          "scattermapbox": [
           {
            "marker": {
             "colorbar": {
              "outlinewidth": 0,
              "ticks": ""
             }
            },
            "type": "scattermapbox"
           }
          ],
          "scatterpolar": [
           {
            "marker": {
             "colorbar": {
              "outlinewidth": 0,
              "ticks": ""
             }
            },
            "type": "scatterpolar"
           }
          ],
          "scatterpolargl": [
           {
            "marker": {
             "colorbar": {
              "outlinewidth": 0,
              "ticks": ""
             }
            },
            "type": "scatterpolargl"
           }
          ],
          "scatterternary": [
           {
            "marker": {
             "colorbar": {
              "outlinewidth": 0,
              "ticks": ""
             }
            },
            "type": "scatterternary"
           }
          ],
          "surface": [
           {
            "colorbar": {
             "outlinewidth": 0,
             "ticks": ""
            },
            "colorscale": [
             [
              0,
              "#0d0887"
             ],
             [
              0.1111111111111111,
              "#46039f"
             ],
             [
              0.2222222222222222,
              "#7201a8"
             ],
             [
              0.3333333333333333,
              "#9c179e"
             ],
             [
              0.4444444444444444,
              "#bd3786"
             ],
             [
              0.5555555555555556,
              "#d8576b"
             ],
             [
              0.6666666666666666,
              "#ed7953"
             ],
             [
              0.7777777777777778,
              "#fb9f3a"
             ],
             [
              0.8888888888888888,
              "#fdca26"
             ],
             [
              1,
              "#f0f921"
             ]
            ],
            "type": "surface"
           }
          ],
          "table": [
           {
            "cells": {
             "fill": {
              "color": "#EBF0F8"
             },
             "line": {
              "color": "white"
             }
            },
            "header": {
             "fill": {
              "color": "#C8D4E3"
             },
             "line": {
              "color": "white"
             }
            },
            "type": "table"
           }
          ]
         },
         "layout": {
          "annotationdefaults": {
           "arrowcolor": "#2a3f5f",
           "arrowhead": 0,
           "arrowwidth": 1
          },
          "autotypenumbers": "strict",
          "coloraxis": {
           "colorbar": {
            "outlinewidth": 0,
            "ticks": ""
           }
          },
          "colorscale": {
           "diverging": [
            [
             0,
             "#8e0152"
            ],
            [
             0.1,
             "#c51b7d"
            ],
            [
             0.2,
             "#de77ae"
            ],
            [
             0.3,
             "#f1b6da"
            ],
            [
             0.4,
             "#fde0ef"
            ],
            [
             0.5,
             "#f7f7f7"
            ],
            [
             0.6,
             "#e6f5d0"
            ],
            [
             0.7,
             "#b8e186"
            ],
            [
             0.8,
             "#7fbc41"
            ],
            [
             0.9,
             "#4d9221"
            ],
            [
             1,
             "#276419"
            ]
           ],
           "sequential": [
            [
             0,
             "#0d0887"
            ],
            [
             0.1111111111111111,
             "#46039f"
            ],
            [
             0.2222222222222222,
             "#7201a8"
            ],
            [
             0.3333333333333333,
             "#9c179e"
            ],
            [
             0.4444444444444444,
             "#bd3786"
            ],
            [
             0.5555555555555556,
             "#d8576b"
            ],
            [
             0.6666666666666666,
             "#ed7953"
            ],
            [
             0.7777777777777778,
             "#fb9f3a"
            ],
            [
             0.8888888888888888,
             "#fdca26"
            ],
            [
             1,
             "#f0f921"
            ]
           ],
           "sequentialminus": [
            [
             0,
             "#0d0887"
            ],
            [
             0.1111111111111111,
             "#46039f"
            ],
            [
             0.2222222222222222,
             "#7201a8"
            ],
            [
             0.3333333333333333,
             "#9c179e"
            ],
            [
             0.4444444444444444,
             "#bd3786"
            ],
            [
             0.5555555555555556,
             "#d8576b"
            ],
            [
             0.6666666666666666,
             "#ed7953"
            ],
            [
             0.7777777777777778,
             "#fb9f3a"
            ],
            [
             0.8888888888888888,
             "#fdca26"
            ],
            [
             1,
             "#f0f921"
            ]
           ]
          },
          "colorway": [
           "#636efa",
           "#EF553B",
           "#00cc96",
           "#ab63fa",
           "#FFA15A",
           "#19d3f3",
           "#FF6692",
           "#B6E880",
           "#FF97FF",
           "#FECB52"
          ],
          "font": {
           "color": "#2a3f5f"
          },
          "geo": {
           "bgcolor": "white",
           "lakecolor": "white",
           "landcolor": "#E5ECF6",
           "showlakes": true,
           "showland": true,
           "subunitcolor": "white"
          },
          "hoverlabel": {
           "align": "left"
          },
          "hovermode": "closest",
          "mapbox": {
           "style": "light"
          },
          "paper_bgcolor": "white",
          "plot_bgcolor": "#E5ECF6",
          "polar": {
           "angularaxis": {
            "gridcolor": "white",
            "linecolor": "white",
            "ticks": ""
           },
           "bgcolor": "#E5ECF6",
           "radialaxis": {
            "gridcolor": "white",
            "linecolor": "white",
            "ticks": ""
           }
          },
          "scene": {
           "xaxis": {
            "backgroundcolor": "#E5ECF6",
            "gridcolor": "white",
            "gridwidth": 2,
            "linecolor": "white",
            "showbackground": true,
            "ticks": "",
            "zerolinecolor": "white"
           },
           "yaxis": {
            "backgroundcolor": "#E5ECF6",
            "gridcolor": "white",
            "gridwidth": 2,
            "linecolor": "white",
            "showbackground": true,
            "ticks": "",
            "zerolinecolor": "white"
           },
           "zaxis": {
            "backgroundcolor": "#E5ECF6",
            "gridcolor": "white",
            "gridwidth": 2,
            "linecolor": "white",
            "showbackground": true,
            "ticks": "",
            "zerolinecolor": "white"
           }
          },
          "shapedefaults": {
           "line": {
            "color": "#2a3f5f"
           }
          },
          "ternary": {
           "aaxis": {
            "gridcolor": "white",
            "linecolor": "white",
            "ticks": ""
           },
           "baxis": {
            "gridcolor": "white",
            "linecolor": "white",
            "ticks": ""
           },
           "bgcolor": "#E5ECF6",
           "caxis": {
            "gridcolor": "white",
            "linecolor": "white",
            "ticks": ""
           }
          },
          "title": {
           "x": 0.05
          },
          "xaxis": {
           "automargin": true,
           "gridcolor": "white",
           "linecolor": "white",
           "ticks": "",
           "title": {
            "standoff": 15
           },
           "zerolinecolor": "white",
           "zerolinewidth": 2
          },
          "yaxis": {
           "automargin": true,
           "gridcolor": "white",
           "linecolor": "white",
           "ticks": "",
           "title": {
            "standoff": 15
           },
           "zerolinecolor": "white",
           "zerolinewidth": 2
          }
         }
        },
        "title": {
         "font": {
          "color": "#4D5663"
         }
        },
        "xaxis": {
         "gridcolor": "#E1E5ED",
         "showgrid": true,
         "tickfont": {
          "color": "#4D5663"
         },
         "title": {
          "font": {
           "color": "#4D5663"
          },
          "text": ""
         },
         "zerolinecolor": "#E1E5ED"
        },
        "yaxis": {
         "gridcolor": "#E1E5ED",
         "showgrid": true,
         "tickfont": {
          "color": "#4D5663"
         },
         "title": {
          "font": {
           "color": "#4D5663"
          },
          "text": ""
         },
         "zerolinecolor": "#E1E5ED"
        }
       }
      },
      "text/html": [
       "<div>                            <div id=\"3bf6b214-ec30-4abd-b28b-ec4d6e5c34c3\" class=\"plotly-graph-div\" style=\"height:525px; width:100%;\"></div>            <script type=\"text/javascript\">                require([\"plotly\"], function(Plotly) {                    window.PLOTLYENV=window.PLOTLYENV || {};\n",
       "                    window.PLOTLYENV.BASE_URL='https://plot.ly';                                    if (document.getElementById(\"3bf6b214-ec30-4abd-b28b-ec4d6e5c34c3\")) {                    Plotly.newPlot(                        \"3bf6b214-ec30-4abd-b28b-ec4d6e5c34c3\",                        [{\"marker\": {\"color\": \"rgba(255, 153, 51, 0.6)\", \"line\": {\"color\": \"rgba(255, 153, 51, 1.0)\", \"width\": 1}}, \"name\": \"Values\", \"orientation\": \"v\", \"text\": \"\", \"type\": \"bar\", \"x\": [\"A\", \"B\", \"C\"], \"y\": [32, 43, 50]}],                        {\"legend\": {\"bgcolor\": \"#F5F6F9\", \"font\": {\"color\": \"#4D5663\"}}, \"paper_bgcolor\": \"#F5F6F9\", \"plot_bgcolor\": \"#F5F6F9\", \"template\": {\"data\": {\"bar\": [{\"error_x\": {\"color\": \"#2a3f5f\"}, \"error_y\": {\"color\": \"#2a3f5f\"}, \"marker\": {\"line\": {\"color\": \"#E5ECF6\", \"width\": 0.5}}, \"type\": \"bar\"}], \"barpolar\": [{\"marker\": {\"line\": {\"color\": \"#E5ECF6\", \"width\": 0.5}}, \"type\": \"barpolar\"}], \"carpet\": [{\"aaxis\": {\"endlinecolor\": \"#2a3f5f\", \"gridcolor\": \"white\", \"linecolor\": \"white\", \"minorgridcolor\": \"white\", \"startlinecolor\": \"#2a3f5f\"}, \"baxis\": {\"endlinecolor\": \"#2a3f5f\", \"gridcolor\": \"white\", \"linecolor\": \"white\", \"minorgridcolor\": \"white\", \"startlinecolor\": \"#2a3f5f\"}, \"type\": \"carpet\"}], \"choropleth\": [{\"colorbar\": {\"outlinewidth\": 0, \"ticks\": \"\"}, \"type\": \"choropleth\"}], \"contour\": [{\"colorbar\": {\"outlinewidth\": 0, \"ticks\": \"\"}, \"colorscale\": [[0.0, \"#0d0887\"], [0.1111111111111111, \"#46039f\"], [0.2222222222222222, \"#7201a8\"], [0.3333333333333333, \"#9c179e\"], [0.4444444444444444, \"#bd3786\"], [0.5555555555555556, \"#d8576b\"], [0.6666666666666666, \"#ed7953\"], [0.7777777777777778, \"#fb9f3a\"], [0.8888888888888888, \"#fdca26\"], [1.0, \"#f0f921\"]], \"type\": \"contour\"}], \"contourcarpet\": [{\"colorbar\": {\"outlinewidth\": 0, \"ticks\": \"\"}, \"type\": \"contourcarpet\"}], \"heatmap\": [{\"colorbar\": {\"outlinewidth\": 0, \"ticks\": \"\"}, \"colorscale\": [[0.0, \"#0d0887\"], [0.1111111111111111, \"#46039f\"], [0.2222222222222222, \"#7201a8\"], [0.3333333333333333, \"#9c179e\"], [0.4444444444444444, \"#bd3786\"], [0.5555555555555556, \"#d8576b\"], [0.6666666666666666, \"#ed7953\"], [0.7777777777777778, \"#fb9f3a\"], [0.8888888888888888, \"#fdca26\"], [1.0, \"#f0f921\"]], \"type\": \"heatmap\"}], \"heatmapgl\": [{\"colorbar\": {\"outlinewidth\": 0, \"ticks\": \"\"}, \"colorscale\": [[0.0, \"#0d0887\"], [0.1111111111111111, \"#46039f\"], [0.2222222222222222, \"#7201a8\"], [0.3333333333333333, \"#9c179e\"], [0.4444444444444444, \"#bd3786\"], [0.5555555555555556, \"#d8576b\"], [0.6666666666666666, \"#ed7953\"], [0.7777777777777778, \"#fb9f3a\"], [0.8888888888888888, \"#fdca26\"], [1.0, \"#f0f921\"]], \"type\": \"heatmapgl\"}], \"histogram\": [{\"marker\": {\"colorbar\": {\"outlinewidth\": 0, \"ticks\": \"\"}}, \"type\": \"histogram\"}], \"histogram2d\": [{\"colorbar\": {\"outlinewidth\": 0, \"ticks\": \"\"}, \"colorscale\": [[0.0, \"#0d0887\"], [0.1111111111111111, \"#46039f\"], [0.2222222222222222, \"#7201a8\"], [0.3333333333333333, \"#9c179e\"], [0.4444444444444444, \"#bd3786\"], [0.5555555555555556, \"#d8576b\"], [0.6666666666666666, \"#ed7953\"], [0.7777777777777778, \"#fb9f3a\"], [0.8888888888888888, \"#fdca26\"], [1.0, \"#f0f921\"]], \"type\": \"histogram2d\"}], \"histogram2dcontour\": [{\"colorbar\": {\"outlinewidth\": 0, \"ticks\": \"\"}, \"colorscale\": [[0.0, \"#0d0887\"], [0.1111111111111111, \"#46039f\"], [0.2222222222222222, \"#7201a8\"], [0.3333333333333333, \"#9c179e\"], [0.4444444444444444, \"#bd3786\"], [0.5555555555555556, \"#d8576b\"], [0.6666666666666666, \"#ed7953\"], [0.7777777777777778, \"#fb9f3a\"], [0.8888888888888888, \"#fdca26\"], [1.0, \"#f0f921\"]], \"type\": \"histogram2dcontour\"}], \"mesh3d\": [{\"colorbar\": {\"outlinewidth\": 0, \"ticks\": \"\"}, \"type\": \"mesh3d\"}], \"parcoords\": [{\"line\": {\"colorbar\": {\"outlinewidth\": 0, \"ticks\": \"\"}}, \"type\": \"parcoords\"}], \"pie\": [{\"automargin\": true, \"type\": \"pie\"}], \"scatter\": [{\"marker\": {\"colorbar\": {\"outlinewidth\": 0, \"ticks\": \"\"}}, \"type\": \"scatter\"}], \"scatter3d\": [{\"line\": {\"colorbar\": {\"outlinewidth\": 0, \"ticks\": \"\"}}, \"marker\": {\"colorbar\": {\"outlinewidth\": 0, \"ticks\": \"\"}}, \"type\": \"scatter3d\"}], \"scattercarpet\": [{\"marker\": {\"colorbar\": {\"outlinewidth\": 0, \"ticks\": \"\"}}, \"type\": \"scattercarpet\"}], \"scattergeo\": [{\"marker\": {\"colorbar\": {\"outlinewidth\": 0, \"ticks\": \"\"}}, \"type\": \"scattergeo\"}], \"scattergl\": [{\"marker\": {\"colorbar\": {\"outlinewidth\": 0, \"ticks\": \"\"}}, \"type\": \"scattergl\"}], \"scattermapbox\": [{\"marker\": {\"colorbar\": {\"outlinewidth\": 0, \"ticks\": \"\"}}, \"type\": \"scattermapbox\"}], \"scatterpolar\": [{\"marker\": {\"colorbar\": {\"outlinewidth\": 0, \"ticks\": \"\"}}, \"type\": \"scatterpolar\"}], \"scatterpolargl\": [{\"marker\": {\"colorbar\": {\"outlinewidth\": 0, \"ticks\": \"\"}}, \"type\": \"scatterpolargl\"}], \"scatterternary\": [{\"marker\": {\"colorbar\": {\"outlinewidth\": 0, \"ticks\": \"\"}}, \"type\": \"scatterternary\"}], \"surface\": [{\"colorbar\": {\"outlinewidth\": 0, \"ticks\": \"\"}, \"colorscale\": [[0.0, \"#0d0887\"], [0.1111111111111111, \"#46039f\"], [0.2222222222222222, \"#7201a8\"], [0.3333333333333333, \"#9c179e\"], [0.4444444444444444, \"#bd3786\"], [0.5555555555555556, \"#d8576b\"], [0.6666666666666666, \"#ed7953\"], [0.7777777777777778, \"#fb9f3a\"], [0.8888888888888888, \"#fdca26\"], [1.0, \"#f0f921\"]], \"type\": \"surface\"}], \"table\": [{\"cells\": {\"fill\": {\"color\": \"#EBF0F8\"}, \"line\": {\"color\": \"white\"}}, \"header\": {\"fill\": {\"color\": \"#C8D4E3\"}, \"line\": {\"color\": \"white\"}}, \"type\": \"table\"}]}, \"layout\": {\"annotationdefaults\": {\"arrowcolor\": \"#2a3f5f\", \"arrowhead\": 0, \"arrowwidth\": 1}, \"autotypenumbers\": \"strict\", \"coloraxis\": {\"colorbar\": {\"outlinewidth\": 0, \"ticks\": \"\"}}, \"colorscale\": {\"diverging\": [[0, \"#8e0152\"], [0.1, \"#c51b7d\"], [0.2, \"#de77ae\"], [0.3, \"#f1b6da\"], [0.4, \"#fde0ef\"], [0.5, \"#f7f7f7\"], [0.6, \"#e6f5d0\"], [0.7, \"#b8e186\"], [0.8, \"#7fbc41\"], [0.9, \"#4d9221\"], [1, \"#276419\"]], \"sequential\": [[0.0, \"#0d0887\"], [0.1111111111111111, \"#46039f\"], [0.2222222222222222, \"#7201a8\"], [0.3333333333333333, \"#9c179e\"], [0.4444444444444444, \"#bd3786\"], [0.5555555555555556, \"#d8576b\"], [0.6666666666666666, \"#ed7953\"], [0.7777777777777778, \"#fb9f3a\"], [0.8888888888888888, \"#fdca26\"], [1.0, \"#f0f921\"]], \"sequentialminus\": [[0.0, \"#0d0887\"], [0.1111111111111111, \"#46039f\"], [0.2222222222222222, \"#7201a8\"], [0.3333333333333333, \"#9c179e\"], [0.4444444444444444, \"#bd3786\"], [0.5555555555555556, \"#d8576b\"], [0.6666666666666666, \"#ed7953\"], [0.7777777777777778, \"#fb9f3a\"], [0.8888888888888888, \"#fdca26\"], [1.0, \"#f0f921\"]]}, \"colorway\": [\"#636efa\", \"#EF553B\", \"#00cc96\", \"#ab63fa\", \"#FFA15A\", \"#19d3f3\", \"#FF6692\", \"#B6E880\", \"#FF97FF\", \"#FECB52\"], \"font\": {\"color\": \"#2a3f5f\"}, \"geo\": {\"bgcolor\": \"white\", \"lakecolor\": \"white\", \"landcolor\": \"#E5ECF6\", \"showlakes\": true, \"showland\": true, \"subunitcolor\": \"white\"}, \"hoverlabel\": {\"align\": \"left\"}, \"hovermode\": \"closest\", \"mapbox\": {\"style\": \"light\"}, \"paper_bgcolor\": \"white\", \"plot_bgcolor\": \"#E5ECF6\", \"polar\": {\"angularaxis\": {\"gridcolor\": \"white\", \"linecolor\": \"white\", \"ticks\": \"\"}, \"bgcolor\": \"#E5ECF6\", \"radialaxis\": {\"gridcolor\": \"white\", \"linecolor\": \"white\", \"ticks\": \"\"}}, \"scene\": {\"xaxis\": {\"backgroundcolor\": \"#E5ECF6\", \"gridcolor\": \"white\", \"gridwidth\": 2, \"linecolor\": \"white\", \"showbackground\": true, \"ticks\": \"\", \"zerolinecolor\": \"white\"}, \"yaxis\": {\"backgroundcolor\": \"#E5ECF6\", \"gridcolor\": \"white\", \"gridwidth\": 2, \"linecolor\": \"white\", \"showbackground\": true, \"ticks\": \"\", \"zerolinecolor\": \"white\"}, \"zaxis\": {\"backgroundcolor\": \"#E5ECF6\", \"gridcolor\": \"white\", \"gridwidth\": 2, \"linecolor\": \"white\", \"showbackground\": true, \"ticks\": \"\", \"zerolinecolor\": \"white\"}}, \"shapedefaults\": {\"line\": {\"color\": \"#2a3f5f\"}}, \"ternary\": {\"aaxis\": {\"gridcolor\": \"white\", \"linecolor\": \"white\", \"ticks\": \"\"}, \"baxis\": {\"gridcolor\": \"white\", \"linecolor\": \"white\", \"ticks\": \"\"}, \"bgcolor\": \"#E5ECF6\", \"caxis\": {\"gridcolor\": \"white\", \"linecolor\": \"white\", \"ticks\": \"\"}}, \"title\": {\"x\": 0.05}, \"xaxis\": {\"automargin\": true, \"gridcolor\": \"white\", \"linecolor\": \"white\", \"ticks\": \"\", \"title\": {\"standoff\": 15}, \"zerolinecolor\": \"white\", \"zerolinewidth\": 2}, \"yaxis\": {\"automargin\": true, \"gridcolor\": \"white\", \"linecolor\": \"white\", \"ticks\": \"\", \"title\": {\"standoff\": 15}, \"zerolinecolor\": \"white\", \"zerolinewidth\": 2}}}, \"title\": {\"font\": {\"color\": \"#4D5663\"}}, \"xaxis\": {\"gridcolor\": \"#E1E5ED\", \"showgrid\": true, \"tickfont\": {\"color\": \"#4D5663\"}, \"title\": {\"font\": {\"color\": \"#4D5663\"}, \"text\": \"\"}, \"zerolinecolor\": \"#E1E5ED\"}, \"yaxis\": {\"gridcolor\": \"#E1E5ED\", \"showgrid\": true, \"tickfont\": {\"color\": \"#4D5663\"}, \"title\": {\"font\": {\"color\": \"#4D5663\"}, \"text\": \"\"}, \"zerolinecolor\": \"#E1E5ED\"}},                        {\"showLink\": true, \"linkText\": \"Export to plot.ly\", \"plotlyServerURL\": \"https://plot.ly\", \"responsive\": true}                    ).then(function(){\n",
       "                            \n",
       "var gd = document.getElementById('3bf6b214-ec30-4abd-b28b-ec4d6e5c34c3');\n",
       "var x = new MutationObserver(function (mutations, observer) {{\n",
       "        var display = window.getComputedStyle(gd).display;\n",
       "        if (!display || display === 'none') {{\n",
       "            console.log([gd, 'removed!']);\n",
       "            Plotly.purge(gd);\n",
       "            observer.disconnect();\n",
       "        }}\n",
       "}});\n",
       "\n",
       "// Listen for the removal of the full notebook cells\n",
       "var notebookContainer = gd.closest('#notebook-container');\n",
       "if (notebookContainer) {{\n",
       "    x.observe(notebookContainer, {childList: true});\n",
       "}}\n",
       "\n",
       "// Listen for the clearing of the current output cell\n",
       "var outputEl = gd.closest('.output');\n",
       "if (outputEl) {{\n",
       "    x.observe(outputEl, {childList: true});\n",
       "}}\n",
       "\n",
       "                        })                };                });            </script>        </div>"
      ]
     },
     "metadata": {},
     "output_type": "display_data"
    }
   ],
   "source": [
    "df2.iplot(kind='bar',x='Category',y='Values')"
   ]
  },
  {
   "cell_type": "code",
   "execution_count": 30,
   "metadata": {
    "scrolled": true
   },
   "outputs": [
    {
     "data": {
      "application/vnd.plotly.v1+json": {
       "config": {
        "linkText": "Export to plot.ly",
        "plotlyServerURL": "https://plot.ly",
        "showLink": true
       },
       "data": [
        {
         "marker": {
          "color": "rgba(255, 153, 51, 0.6)",
          "line": {
           "color": "rgba(255, 153, 51, 1.0)",
           "width": 1
          }
         },
         "name": "None",
         "orientation": "v",
         "text": "",
         "type": "bar",
         "x": [
          "A",
          "B",
          "C",
          "D"
         ],
         "y": [
          100,
          100,
          100,
          100
         ]
        }
       ],
       "layout": {
        "legend": {
         "bgcolor": "#F5F6F9",
         "font": {
          "color": "#4D5663"
         }
        },
        "paper_bgcolor": "#F5F6F9",
        "plot_bgcolor": "#F5F6F9",
        "template": {
         "data": {
          "bar": [
           {
            "error_x": {
             "color": "#2a3f5f"
            },
            "error_y": {
             "color": "#2a3f5f"
            },
            "marker": {
             "line": {
              "color": "#E5ECF6",
              "width": 0.5
             }
            },
            "type": "bar"
           }
          ],
          "barpolar": [
           {
            "marker": {
             "line": {
              "color": "#E5ECF6",
              "width": 0.5
             }
            },
            "type": "barpolar"
           }
          ],
          "carpet": [
           {
            "aaxis": {
             "endlinecolor": "#2a3f5f",
             "gridcolor": "white",
             "linecolor": "white",
             "minorgridcolor": "white",
             "startlinecolor": "#2a3f5f"
            },
            "baxis": {
             "endlinecolor": "#2a3f5f",
             "gridcolor": "white",
             "linecolor": "white",
             "minorgridcolor": "white",
             "startlinecolor": "#2a3f5f"
            },
            "type": "carpet"
           }
          ],
          "choropleth": [
           {
            "colorbar": {
             "outlinewidth": 0,
             "ticks": ""
            },
            "type": "choropleth"
           }
          ],
          "contour": [
           {
            "colorbar": {
             "outlinewidth": 0,
             "ticks": ""
            },
            "colorscale": [
             [
              0,
              "#0d0887"
             ],
             [
              0.1111111111111111,
              "#46039f"
             ],
             [
              0.2222222222222222,
              "#7201a8"
             ],
             [
              0.3333333333333333,
              "#9c179e"
             ],
             [
              0.4444444444444444,
              "#bd3786"
             ],
             [
              0.5555555555555556,
              "#d8576b"
             ],
             [
              0.6666666666666666,
              "#ed7953"
             ],
             [
              0.7777777777777778,
              "#fb9f3a"
             ],
             [
              0.8888888888888888,
              "#fdca26"
             ],
             [
              1,
              "#f0f921"
             ]
            ],
            "type": "contour"
           }
          ],
          "contourcarpet": [
           {
            "colorbar": {
             "outlinewidth": 0,
             "ticks": ""
            },
            "type": "contourcarpet"
           }
          ],
          "heatmap": [
           {
            "colorbar": {
             "outlinewidth": 0,
             "ticks": ""
            },
            "colorscale": [
             [
              0,
              "#0d0887"
             ],
             [
              0.1111111111111111,
              "#46039f"
             ],
             [
              0.2222222222222222,
              "#7201a8"
             ],
             [
              0.3333333333333333,
              "#9c179e"
             ],
             [
              0.4444444444444444,
              "#bd3786"
             ],
             [
              0.5555555555555556,
              "#d8576b"
             ],
             [
              0.6666666666666666,
              "#ed7953"
             ],
             [
              0.7777777777777778,
              "#fb9f3a"
             ],
             [
              0.8888888888888888,
              "#fdca26"
             ],
             [
              1,
              "#f0f921"
             ]
            ],
            "type": "heatmap"
           }
          ],
          "heatmapgl": [
           {
            "colorbar": {
             "outlinewidth": 0,
             "ticks": ""
            },
            "colorscale": [
             [
              0,
              "#0d0887"
             ],
             [
              0.1111111111111111,
              "#46039f"
             ],
             [
              0.2222222222222222,
              "#7201a8"
             ],
             [
              0.3333333333333333,
              "#9c179e"
             ],
             [
              0.4444444444444444,
              "#bd3786"
             ],
             [
              0.5555555555555556,
              "#d8576b"
             ],
             [
              0.6666666666666666,
              "#ed7953"
             ],
             [
              0.7777777777777778,
              "#fb9f3a"
             ],
             [
              0.8888888888888888,
              "#fdca26"
             ],
             [
              1,
              "#f0f921"
             ]
            ],
            "type": "heatmapgl"
           }
          ],
          "histogram": [
           {
            "marker": {
             "colorbar": {
              "outlinewidth": 0,
              "ticks": ""
             }
            },
            "type": "histogram"
           }
          ],
          "histogram2d": [
           {
            "colorbar": {
             "outlinewidth": 0,
             "ticks": ""
            },
            "colorscale": [
             [
              0,
              "#0d0887"
             ],
             [
              0.1111111111111111,
              "#46039f"
             ],
             [
              0.2222222222222222,
              "#7201a8"
             ],
             [
              0.3333333333333333,
              "#9c179e"
             ],
             [
              0.4444444444444444,
              "#bd3786"
             ],
             [
              0.5555555555555556,
              "#d8576b"
             ],
             [
              0.6666666666666666,
              "#ed7953"
             ],
             [
              0.7777777777777778,
              "#fb9f3a"
             ],
             [
              0.8888888888888888,
              "#fdca26"
             ],
             [
              1,
              "#f0f921"
             ]
            ],
            "type": "histogram2d"
           }
          ],
          "histogram2dcontour": [
           {
            "colorbar": {
             "outlinewidth": 0,
             "ticks": ""
            },
            "colorscale": [
             [
              0,
              "#0d0887"
             ],
             [
              0.1111111111111111,
              "#46039f"
             ],
             [
              0.2222222222222222,
              "#7201a8"
             ],
             [
              0.3333333333333333,
              "#9c179e"
             ],
             [
              0.4444444444444444,
              "#bd3786"
             ],
             [
              0.5555555555555556,
              "#d8576b"
             ],
             [
              0.6666666666666666,
              "#ed7953"
             ],
             [
              0.7777777777777778,
              "#fb9f3a"
             ],
             [
              0.8888888888888888,
              "#fdca26"
             ],
             [
              1,
              "#f0f921"
             ]
            ],
            "type": "histogram2dcontour"
           }
          ],
          "mesh3d": [
           {
            "colorbar": {
             "outlinewidth": 0,
             "ticks": ""
            },
            "type": "mesh3d"
           }
          ],
          "parcoords": [
           {
            "line": {
             "colorbar": {
              "outlinewidth": 0,
              "ticks": ""
             }
            },
            "type": "parcoords"
           }
          ],
          "pie": [
           {
            "automargin": true,
            "type": "pie"
           }
          ],
          "scatter": [
           {
            "marker": {
             "colorbar": {
              "outlinewidth": 0,
              "ticks": ""
             }
            },
            "type": "scatter"
           }
          ],
          "scatter3d": [
           {
            "line": {
             "colorbar": {
              "outlinewidth": 0,
              "ticks": ""
             }
            },
            "marker": {
             "colorbar": {
              "outlinewidth": 0,
              "ticks": ""
             }
            },
            "type": "scatter3d"
           }
          ],
          "scattercarpet": [
           {
            "marker": {
             "colorbar": {
              "outlinewidth": 0,
              "ticks": ""
             }
            },
            "type": "scattercarpet"
           }
          ],
          "scattergeo": [
           {
            "marker": {
             "colorbar": {
              "outlinewidth": 0,
              "ticks": ""
             }
            },
            "type": "scattergeo"
           }
          ],
          "scattergl": [
           {
            "marker": {
             "colorbar": {
              "outlinewidth": 0,
              "ticks": ""
             }
            },
            "type": "scattergl"
           }
          ],
          "scattermapbox": [
           {
            "marker": {
             "colorbar": {
              "outlinewidth": 0,
              "ticks": ""
             }
            },
            "type": "scattermapbox"
           }
          ],
          "scatterpolar": [
           {
            "marker": {
             "colorbar": {
              "outlinewidth": 0,
              "ticks": ""
             }
            },
            "type": "scatterpolar"
           }
          ],
          "scatterpolargl": [
           {
            "marker": {
             "colorbar": {
              "outlinewidth": 0,
              "ticks": ""
             }
            },
            "type": "scatterpolargl"
           }
          ],
          "scatterternary": [
           {
            "marker": {
             "colorbar": {
              "outlinewidth": 0,
              "ticks": ""
             }
            },
            "type": "scatterternary"
           }
          ],
          "surface": [
           {
            "colorbar": {
             "outlinewidth": 0,
             "ticks": ""
            },
            "colorscale": [
             [
              0,
              "#0d0887"
             ],
             [
              0.1111111111111111,
              "#46039f"
             ],
             [
              0.2222222222222222,
              "#7201a8"
             ],
             [
              0.3333333333333333,
              "#9c179e"
             ],
             [
              0.4444444444444444,
              "#bd3786"
             ],
             [
              0.5555555555555556,
              "#d8576b"
             ],
             [
              0.6666666666666666,
              "#ed7953"
             ],
             [
              0.7777777777777778,
              "#fb9f3a"
             ],
             [
              0.8888888888888888,
              "#fdca26"
             ],
             [
              1,
              "#f0f921"
             ]
            ],
            "type": "surface"
           }
          ],
          "table": [
           {
            "cells": {
             "fill": {
              "color": "#EBF0F8"
             },
             "line": {
              "color": "white"
             }
            },
            "header": {
             "fill": {
              "color": "#C8D4E3"
             },
             "line": {
              "color": "white"
             }
            },
            "type": "table"
           }
          ]
         },
         "layout": {
          "annotationdefaults": {
           "arrowcolor": "#2a3f5f",
           "arrowhead": 0,
           "arrowwidth": 1
          },
          "autotypenumbers": "strict",
          "coloraxis": {
           "colorbar": {
            "outlinewidth": 0,
            "ticks": ""
           }
          },
          "colorscale": {
           "diverging": [
            [
             0,
             "#8e0152"
            ],
            [
             0.1,
             "#c51b7d"
            ],
            [
             0.2,
             "#de77ae"
            ],
            [
             0.3,
             "#f1b6da"
            ],
            [
             0.4,
             "#fde0ef"
            ],
            [
             0.5,
             "#f7f7f7"
            ],
            [
             0.6,
             "#e6f5d0"
            ],
            [
             0.7,
             "#b8e186"
            ],
            [
             0.8,
             "#7fbc41"
            ],
            [
             0.9,
             "#4d9221"
            ],
            [
             1,
             "#276419"
            ]
           ],
           "sequential": [
            [
             0,
             "#0d0887"
            ],
            [
             0.1111111111111111,
             "#46039f"
            ],
            [
             0.2222222222222222,
             "#7201a8"
            ],
            [
             0.3333333333333333,
             "#9c179e"
            ],
            [
             0.4444444444444444,
             "#bd3786"
            ],
            [
             0.5555555555555556,
             "#d8576b"
            ],
            [
             0.6666666666666666,
             "#ed7953"
            ],
            [
             0.7777777777777778,
             "#fb9f3a"
            ],
            [
             0.8888888888888888,
             "#fdca26"
            ],
            [
             1,
             "#f0f921"
            ]
           ],
           "sequentialminus": [
            [
             0,
             "#0d0887"
            ],
            [
             0.1111111111111111,
             "#46039f"
            ],
            [
             0.2222222222222222,
             "#7201a8"
            ],
            [
             0.3333333333333333,
             "#9c179e"
            ],
            [
             0.4444444444444444,
             "#bd3786"
            ],
            [
             0.5555555555555556,
             "#d8576b"
            ],
            [
             0.6666666666666666,
             "#ed7953"
            ],
            [
             0.7777777777777778,
             "#fb9f3a"
            ],
            [
             0.8888888888888888,
             "#fdca26"
            ],
            [
             1,
             "#f0f921"
            ]
           ]
          },
          "colorway": [
           "#636efa",
           "#EF553B",
           "#00cc96",
           "#ab63fa",
           "#FFA15A",
           "#19d3f3",
           "#FF6692",
           "#B6E880",
           "#FF97FF",
           "#FECB52"
          ],
          "font": {
           "color": "#2a3f5f"
          },
          "geo": {
           "bgcolor": "white",
           "lakecolor": "white",
           "landcolor": "#E5ECF6",
           "showlakes": true,
           "showland": true,
           "subunitcolor": "white"
          },
          "hoverlabel": {
           "align": "left"
          },
          "hovermode": "closest",
          "mapbox": {
           "style": "light"
          },
          "paper_bgcolor": "white",
          "plot_bgcolor": "#E5ECF6",
          "polar": {
           "angularaxis": {
            "gridcolor": "white",
            "linecolor": "white",
            "ticks": ""
           },
           "bgcolor": "#E5ECF6",
           "radialaxis": {
            "gridcolor": "white",
            "linecolor": "white",
            "ticks": ""
           }
          },
          "scene": {
           "xaxis": {
            "backgroundcolor": "#E5ECF6",
            "gridcolor": "white",
            "gridwidth": 2,
            "linecolor": "white",
            "showbackground": true,
            "ticks": "",
            "zerolinecolor": "white"
           },
           "yaxis": {
            "backgroundcolor": "#E5ECF6",
            "gridcolor": "white",
            "gridwidth": 2,
            "linecolor": "white",
            "showbackground": true,
            "ticks": "",
            "zerolinecolor": "white"
           },
           "zaxis": {
            "backgroundcolor": "#E5ECF6",
            "gridcolor": "white",
            "gridwidth": 2,
            "linecolor": "white",
            "showbackground": true,
            "ticks": "",
            "zerolinecolor": "white"
           }
          },
          "shapedefaults": {
           "line": {
            "color": "#2a3f5f"
           }
          },
          "ternary": {
           "aaxis": {
            "gridcolor": "white",
            "linecolor": "white",
            "ticks": ""
           },
           "baxis": {
            "gridcolor": "white",
            "linecolor": "white",
            "ticks": ""
           },
           "bgcolor": "#E5ECF6",
           "caxis": {
            "gridcolor": "white",
            "linecolor": "white",
            "ticks": ""
           }
          },
          "title": {
           "x": 0.05
          },
          "xaxis": {
           "automargin": true,
           "gridcolor": "white",
           "linecolor": "white",
           "ticks": "",
           "title": {
            "standoff": 15
           },
           "zerolinecolor": "white",
           "zerolinewidth": 2
          },
          "yaxis": {
           "automargin": true,
           "gridcolor": "white",
           "linecolor": "white",
           "ticks": "",
           "title": {
            "standoff": 15
           },
           "zerolinecolor": "white",
           "zerolinewidth": 2
          }
         }
        },
        "title": {
         "font": {
          "color": "#4D5663"
         }
        },
        "xaxis": {
         "gridcolor": "#E1E5ED",
         "showgrid": true,
         "tickfont": {
          "color": "#4D5663"
         },
         "title": {
          "font": {
           "color": "#4D5663"
          },
          "text": ""
         },
         "zerolinecolor": "#E1E5ED"
        },
        "yaxis": {
         "gridcolor": "#E1E5ED",
         "showgrid": true,
         "tickfont": {
          "color": "#4D5663"
         },
         "title": {
          "font": {
           "color": "#4D5663"
          },
          "text": ""
         },
         "zerolinecolor": "#E1E5ED"
        }
       }
      },
      "text/html": [
       "<div>                            <div id=\"3b8b355e-c2af-4e4c-9877-ec857144f276\" class=\"plotly-graph-div\" style=\"height:525px; width:100%;\"></div>            <script type=\"text/javascript\">                require([\"plotly\"], function(Plotly) {                    window.PLOTLYENV=window.PLOTLYENV || {};\n",
       "                    window.PLOTLYENV.BASE_URL='https://plot.ly';                                    if (document.getElementById(\"3b8b355e-c2af-4e4c-9877-ec857144f276\")) {                    Plotly.newPlot(                        \"3b8b355e-c2af-4e4c-9877-ec857144f276\",                        [{\"marker\": {\"color\": \"rgba(255, 153, 51, 0.6)\", \"line\": {\"color\": \"rgba(255, 153, 51, 1.0)\", \"width\": 1}}, \"name\": \"None\", \"orientation\": \"v\", \"text\": \"\", \"type\": \"bar\", \"x\": [\"A\", \"B\", \"C\", \"D\"], \"y\": [100, 100, 100, 100]}],                        {\"legend\": {\"bgcolor\": \"#F5F6F9\", \"font\": {\"color\": \"#4D5663\"}}, \"paper_bgcolor\": \"#F5F6F9\", \"plot_bgcolor\": \"#F5F6F9\", \"template\": {\"data\": {\"bar\": [{\"error_x\": {\"color\": \"#2a3f5f\"}, \"error_y\": {\"color\": \"#2a3f5f\"}, \"marker\": {\"line\": {\"color\": \"#E5ECF6\", \"width\": 0.5}}, \"type\": \"bar\"}], \"barpolar\": [{\"marker\": {\"line\": {\"color\": \"#E5ECF6\", \"width\": 0.5}}, \"type\": \"barpolar\"}], \"carpet\": [{\"aaxis\": {\"endlinecolor\": \"#2a3f5f\", \"gridcolor\": \"white\", \"linecolor\": \"white\", \"minorgridcolor\": \"white\", \"startlinecolor\": \"#2a3f5f\"}, \"baxis\": {\"endlinecolor\": \"#2a3f5f\", \"gridcolor\": \"white\", \"linecolor\": \"white\", \"minorgridcolor\": \"white\", \"startlinecolor\": \"#2a3f5f\"}, \"type\": \"carpet\"}], \"choropleth\": [{\"colorbar\": {\"outlinewidth\": 0, \"ticks\": \"\"}, \"type\": \"choropleth\"}], \"contour\": [{\"colorbar\": {\"outlinewidth\": 0, \"ticks\": \"\"}, \"colorscale\": [[0.0, \"#0d0887\"], [0.1111111111111111, \"#46039f\"], [0.2222222222222222, \"#7201a8\"], [0.3333333333333333, \"#9c179e\"], [0.4444444444444444, \"#bd3786\"], [0.5555555555555556, \"#d8576b\"], [0.6666666666666666, \"#ed7953\"], [0.7777777777777778, \"#fb9f3a\"], [0.8888888888888888, \"#fdca26\"], [1.0, \"#f0f921\"]], \"type\": \"contour\"}], \"contourcarpet\": [{\"colorbar\": {\"outlinewidth\": 0, \"ticks\": \"\"}, \"type\": \"contourcarpet\"}], \"heatmap\": [{\"colorbar\": {\"outlinewidth\": 0, \"ticks\": \"\"}, \"colorscale\": [[0.0, \"#0d0887\"], [0.1111111111111111, \"#46039f\"], [0.2222222222222222, \"#7201a8\"], [0.3333333333333333, \"#9c179e\"], [0.4444444444444444, \"#bd3786\"], [0.5555555555555556, \"#d8576b\"], [0.6666666666666666, \"#ed7953\"], [0.7777777777777778, \"#fb9f3a\"], [0.8888888888888888, \"#fdca26\"], [1.0, \"#f0f921\"]], \"type\": \"heatmap\"}], \"heatmapgl\": [{\"colorbar\": {\"outlinewidth\": 0, \"ticks\": \"\"}, \"colorscale\": [[0.0, \"#0d0887\"], [0.1111111111111111, \"#46039f\"], [0.2222222222222222, \"#7201a8\"], [0.3333333333333333, \"#9c179e\"], [0.4444444444444444, \"#bd3786\"], [0.5555555555555556, \"#d8576b\"], [0.6666666666666666, \"#ed7953\"], [0.7777777777777778, \"#fb9f3a\"], [0.8888888888888888, \"#fdca26\"], [1.0, \"#f0f921\"]], \"type\": \"heatmapgl\"}], \"histogram\": [{\"marker\": {\"colorbar\": {\"outlinewidth\": 0, \"ticks\": \"\"}}, \"type\": \"histogram\"}], \"histogram2d\": [{\"colorbar\": {\"outlinewidth\": 0, \"ticks\": \"\"}, \"colorscale\": [[0.0, \"#0d0887\"], [0.1111111111111111, \"#46039f\"], [0.2222222222222222, \"#7201a8\"], [0.3333333333333333, \"#9c179e\"], [0.4444444444444444, \"#bd3786\"], [0.5555555555555556, \"#d8576b\"], [0.6666666666666666, \"#ed7953\"], [0.7777777777777778, \"#fb9f3a\"], [0.8888888888888888, \"#fdca26\"], [1.0, \"#f0f921\"]], \"type\": \"histogram2d\"}], \"histogram2dcontour\": [{\"colorbar\": {\"outlinewidth\": 0, \"ticks\": \"\"}, \"colorscale\": [[0.0, \"#0d0887\"], [0.1111111111111111, \"#46039f\"], [0.2222222222222222, \"#7201a8\"], [0.3333333333333333, \"#9c179e\"], [0.4444444444444444, \"#bd3786\"], [0.5555555555555556, \"#d8576b\"], [0.6666666666666666, \"#ed7953\"], [0.7777777777777778, \"#fb9f3a\"], [0.8888888888888888, \"#fdca26\"], [1.0, \"#f0f921\"]], \"type\": \"histogram2dcontour\"}], \"mesh3d\": [{\"colorbar\": {\"outlinewidth\": 0, \"ticks\": \"\"}, \"type\": \"mesh3d\"}], \"parcoords\": [{\"line\": {\"colorbar\": {\"outlinewidth\": 0, \"ticks\": \"\"}}, \"type\": \"parcoords\"}], \"pie\": [{\"automargin\": true, \"type\": \"pie\"}], \"scatter\": [{\"marker\": {\"colorbar\": {\"outlinewidth\": 0, \"ticks\": \"\"}}, \"type\": \"scatter\"}], \"scatter3d\": [{\"line\": {\"colorbar\": {\"outlinewidth\": 0, \"ticks\": \"\"}}, \"marker\": {\"colorbar\": {\"outlinewidth\": 0, \"ticks\": \"\"}}, \"type\": \"scatter3d\"}], \"scattercarpet\": [{\"marker\": {\"colorbar\": {\"outlinewidth\": 0, \"ticks\": \"\"}}, \"type\": \"scattercarpet\"}], \"scattergeo\": [{\"marker\": {\"colorbar\": {\"outlinewidth\": 0, \"ticks\": \"\"}}, \"type\": \"scattergeo\"}], \"scattergl\": [{\"marker\": {\"colorbar\": {\"outlinewidth\": 0, \"ticks\": \"\"}}, \"type\": \"scattergl\"}], \"scattermapbox\": [{\"marker\": {\"colorbar\": {\"outlinewidth\": 0, \"ticks\": \"\"}}, \"type\": \"scattermapbox\"}], \"scatterpolar\": [{\"marker\": {\"colorbar\": {\"outlinewidth\": 0, \"ticks\": \"\"}}, \"type\": \"scatterpolar\"}], \"scatterpolargl\": [{\"marker\": {\"colorbar\": {\"outlinewidth\": 0, \"ticks\": \"\"}}, \"type\": \"scatterpolargl\"}], \"scatterternary\": [{\"marker\": {\"colorbar\": {\"outlinewidth\": 0, \"ticks\": \"\"}}, \"type\": \"scatterternary\"}], \"surface\": [{\"colorbar\": {\"outlinewidth\": 0, \"ticks\": \"\"}, \"colorscale\": [[0.0, \"#0d0887\"], [0.1111111111111111, \"#46039f\"], [0.2222222222222222, \"#7201a8\"], [0.3333333333333333, \"#9c179e\"], [0.4444444444444444, \"#bd3786\"], [0.5555555555555556, \"#d8576b\"], [0.6666666666666666, \"#ed7953\"], [0.7777777777777778, \"#fb9f3a\"], [0.8888888888888888, \"#fdca26\"], [1.0, \"#f0f921\"]], \"type\": \"surface\"}], \"table\": [{\"cells\": {\"fill\": {\"color\": \"#EBF0F8\"}, \"line\": {\"color\": \"white\"}}, \"header\": {\"fill\": {\"color\": \"#C8D4E3\"}, \"line\": {\"color\": \"white\"}}, \"type\": \"table\"}]}, \"layout\": {\"annotationdefaults\": {\"arrowcolor\": \"#2a3f5f\", \"arrowhead\": 0, \"arrowwidth\": 1}, \"autotypenumbers\": \"strict\", \"coloraxis\": {\"colorbar\": {\"outlinewidth\": 0, \"ticks\": \"\"}}, \"colorscale\": {\"diverging\": [[0, \"#8e0152\"], [0.1, \"#c51b7d\"], [0.2, \"#de77ae\"], [0.3, \"#f1b6da\"], [0.4, \"#fde0ef\"], [0.5, \"#f7f7f7\"], [0.6, \"#e6f5d0\"], [0.7, \"#b8e186\"], [0.8, \"#7fbc41\"], [0.9, \"#4d9221\"], [1, \"#276419\"]], \"sequential\": [[0.0, \"#0d0887\"], [0.1111111111111111, \"#46039f\"], [0.2222222222222222, \"#7201a8\"], [0.3333333333333333, \"#9c179e\"], [0.4444444444444444, \"#bd3786\"], [0.5555555555555556, \"#d8576b\"], [0.6666666666666666, \"#ed7953\"], [0.7777777777777778, \"#fb9f3a\"], [0.8888888888888888, \"#fdca26\"], [1.0, \"#f0f921\"]], \"sequentialminus\": [[0.0, \"#0d0887\"], [0.1111111111111111, \"#46039f\"], [0.2222222222222222, \"#7201a8\"], [0.3333333333333333, \"#9c179e\"], [0.4444444444444444, \"#bd3786\"], [0.5555555555555556, \"#d8576b\"], [0.6666666666666666, \"#ed7953\"], [0.7777777777777778, \"#fb9f3a\"], [0.8888888888888888, \"#fdca26\"], [1.0, \"#f0f921\"]]}, \"colorway\": [\"#636efa\", \"#EF553B\", \"#00cc96\", \"#ab63fa\", \"#FFA15A\", \"#19d3f3\", \"#FF6692\", \"#B6E880\", \"#FF97FF\", \"#FECB52\"], \"font\": {\"color\": \"#2a3f5f\"}, \"geo\": {\"bgcolor\": \"white\", \"lakecolor\": \"white\", \"landcolor\": \"#E5ECF6\", \"showlakes\": true, \"showland\": true, \"subunitcolor\": \"white\"}, \"hoverlabel\": {\"align\": \"left\"}, \"hovermode\": \"closest\", \"mapbox\": {\"style\": \"light\"}, \"paper_bgcolor\": \"white\", \"plot_bgcolor\": \"#E5ECF6\", \"polar\": {\"angularaxis\": {\"gridcolor\": \"white\", \"linecolor\": \"white\", \"ticks\": \"\"}, \"bgcolor\": \"#E5ECF6\", \"radialaxis\": {\"gridcolor\": \"white\", \"linecolor\": \"white\", \"ticks\": \"\"}}, \"scene\": {\"xaxis\": {\"backgroundcolor\": \"#E5ECF6\", \"gridcolor\": \"white\", \"gridwidth\": 2, \"linecolor\": \"white\", \"showbackground\": true, \"ticks\": \"\", \"zerolinecolor\": \"white\"}, \"yaxis\": {\"backgroundcolor\": \"#E5ECF6\", \"gridcolor\": \"white\", \"gridwidth\": 2, \"linecolor\": \"white\", \"showbackground\": true, \"ticks\": \"\", \"zerolinecolor\": \"white\"}, \"zaxis\": {\"backgroundcolor\": \"#E5ECF6\", \"gridcolor\": \"white\", \"gridwidth\": 2, \"linecolor\": \"white\", \"showbackground\": true, \"ticks\": \"\", \"zerolinecolor\": \"white\"}}, \"shapedefaults\": {\"line\": {\"color\": \"#2a3f5f\"}}, \"ternary\": {\"aaxis\": {\"gridcolor\": \"white\", \"linecolor\": \"white\", \"ticks\": \"\"}, \"baxis\": {\"gridcolor\": \"white\", \"linecolor\": \"white\", \"ticks\": \"\"}, \"bgcolor\": \"#E5ECF6\", \"caxis\": {\"gridcolor\": \"white\", \"linecolor\": \"white\", \"ticks\": \"\"}}, \"title\": {\"x\": 0.05}, \"xaxis\": {\"automargin\": true, \"gridcolor\": \"white\", \"linecolor\": \"white\", \"ticks\": \"\", \"title\": {\"standoff\": 15}, \"zerolinecolor\": \"white\", \"zerolinewidth\": 2}, \"yaxis\": {\"automargin\": true, \"gridcolor\": \"white\", \"linecolor\": \"white\", \"ticks\": \"\", \"title\": {\"standoff\": 15}, \"zerolinecolor\": \"white\", \"zerolinewidth\": 2}}}, \"title\": {\"font\": {\"color\": \"#4D5663\"}}, \"xaxis\": {\"gridcolor\": \"#E1E5ED\", \"showgrid\": true, \"tickfont\": {\"color\": \"#4D5663\"}, \"title\": {\"font\": {\"color\": \"#4D5663\"}, \"text\": \"\"}, \"zerolinecolor\": \"#E1E5ED\"}, \"yaxis\": {\"gridcolor\": \"#E1E5ED\", \"showgrid\": true, \"tickfont\": {\"color\": \"#4D5663\"}, \"title\": {\"font\": {\"color\": \"#4D5663\"}, \"text\": \"\"}, \"zerolinecolor\": \"#E1E5ED\"}},                        {\"showLink\": true, \"linkText\": \"Export to plot.ly\", \"plotlyServerURL\": \"https://plot.ly\", \"responsive\": true}                    ).then(function(){\n",
       "                            \n",
       "var gd = document.getElementById('3b8b355e-c2af-4e4c-9877-ec857144f276');\n",
       "var x = new MutationObserver(function (mutations, observer) {{\n",
       "        var display = window.getComputedStyle(gd).display;\n",
       "        if (!display || display === 'none') {{\n",
       "            console.log([gd, 'removed!']);\n",
       "            Plotly.purge(gd);\n",
       "            observer.disconnect();\n",
       "        }}\n",
       "}});\n",
       "\n",
       "// Listen for the removal of the full notebook cells\n",
       "var notebookContainer = gd.closest('#notebook-container');\n",
       "if (notebookContainer) {{\n",
       "    x.observe(notebookContainer, {childList: true});\n",
       "}}\n",
       "\n",
       "// Listen for the clearing of the current output cell\n",
       "var outputEl = gd.closest('.output');\n",
       "if (outputEl) {{\n",
       "    x.observe(outputEl, {childList: true});\n",
       "}}\n",
       "\n",
       "                        })                };                });            </script>        </div>"
      ]
     },
     "metadata": {},
     "output_type": "display_data"
    }
   ],
   "source": [
    "df\n",
    "df.count().iplot(kind='bar')\n"
   ]
  },
  {
   "cell_type": "code",
   "execution_count": 33,
   "metadata": {
    "scrolled": true
   },
   "outputs": [
    {
     "data": {
      "application/vnd.plotly.v1+json": {
       "config": {
        "linkText": "Export to plot.ly",
        "plotlyServerURL": "https://plot.ly",
        "showLink": true
       },
       "data": [
        {
         "boxpoints": false,
         "line": {
          "width": 1.3
         },
         "marker": {
          "color": "rgba(255, 153, 51, 1.0)"
         },
         "name": "A",
         "orientation": "v",
         "type": "box",
         "y": [
          -1.9722087496969223,
          -0.011671936731851002,
          -1.581095695462608,
          -0.34655125540727333,
          -2.477227183550656,
          1.0941645349574753,
          1.0229529172073148,
          -0.2598830879365222,
          -0.03408300204513225,
          0.316552878256426,
          -0.9560391300790448,
          0.03686863729565844,
          -1.057002166096782,
          1.1269640029188206,
          -2.9267062941867423,
          -0.746704279766539,
          0.05041994672178217,
          0.48710115962661305,
          0.4411562042292949,
          1.9586541598607206,
          -1.1264446501035439,
          -0.8893264007516325,
          -0.912797025545708,
          -0.6764986758310823,
          0.060741922825052995,
          -1.8449685175213293,
          -0.2581939666458554,
          -1.0845735336268134,
          1.3092149762046064,
          -0.3066644272536902,
          2.6272020454447893,
          1.9776080885194243,
          0.5668461448153023,
          0.14871793417682036,
          0.5589477908589175,
          1.569395013601064,
          0.6903765899355268,
          -0.9624507753100264,
          -1.1982377774156872,
          0.3460526200922986,
          -1.5813823853788058,
          -0.060380627009908705,
          -0.45301810031688394,
          -0.8874355334946187,
          -0.08069904562752264,
          0.9892325935849244,
          -0.4402405812651847,
          0.9062225085353147,
          0.051935187991758267,
          -0.7749692187429894,
          0.20663577894552076,
          -2.6432173202033327,
          0.428142633290837,
          0.28064340537672056,
          0.49998815039368866,
          -2.282375457843157,
          -0.2636867903407214,
          -0.8818468535001559,
          -0.3507863058950262,
          -0.3459010474609139,
          -0.2537435919563658,
          0.7534214071578663,
          -0.9475830799767535,
          -1.275468885966171,
          -1.0661714834592064,
          -0.9048886981411098,
          0.25326937641655517,
          2.1839204484406034,
          -0.8272174280292035,
          -0.4645040193133396,
          0.8445505137052899,
          0.36733557594376404,
          -0.21495587739570762,
          -0.2147215789481739,
          -1.014567110997098,
          -0.5200774799937841,
          -0.6299002021429765,
          -0.018567917997282603,
          -1.0129723040910823,
          -1.244448617322104,
          0.9101942921335867,
          0.14653083392106686,
          -0.4696844835441938,
          0.25679717959833154,
          -0.26913999204070016,
          0.49298478979236415,
          -1.7553400104436443,
          -0.32567192940690426,
          0.4963013251259451,
          0.33715228833004396,
          -0.48702644670754175,
          0.583173722625296,
          -0.13151299514984052,
          -0.17277039856468238,
          -0.3932252217320785,
          1.747981066541866,
          1.2996522287381982,
          0.17177685124461037,
          0.942376140480576,
          -1.4875548956939744
         ]
        },
        {
         "boxpoints": false,
         "line": {
          "width": 1.3
         },
         "marker": {
          "color": "rgba(55, 128, 191, 1.0)"
         },
         "name": "B",
         "orientation": "v",
         "type": "box",
         "y": [
          -0.15467443438003167,
          -1.103714486619362,
          -0.0541684553591224,
          0.41422239107560715,
          -0.47311978978456737,
          0.08890758298241469,
          0.6542883889705488,
          0.1526791972817478,
          -1.0761625495932814,
          0.4108953551780461,
          0.8849114941005151,
          -1.7404564207865973,
          -0.2834726233350443,
          -0.7225958554493189,
          -0.3360213951887905,
          -0.43360752963912125,
          -0.28610770283411324,
          0.5140475923376779,
          0.6498272394533989,
          -0.1880381648673378,
          3.029906110373341,
          -0.655023507621413,
          -0.29993908275112585,
          0.17257175369280023,
          -0.8252449189026975,
          -0.5068002853772337,
          0.7260798014189815,
          -0.3890204893183104,
          -0.42350519981926266,
          -0.9830897847082721,
          -0.745081495310831,
          0.5885934793538804,
          1.3819602740760888,
          -0.6052431371727914,
          -0.795447989408926,
          -0.36279193604862736,
          0.6507982198529062,
          0.26554271337673624,
          0.4278905943406648,
          0.7667337976267404,
          -1.009477598035802,
          1.7868695252714277,
          0.07238439431084817,
          -0.2921642502366185,
          0.8037729291547354,
          -0.2997123802579395,
          0.5540178206043035,
          0.4378922178605772,
          0.516907689763789,
          -0.7489107442737745,
          0.3042169050027822,
          -1.2286144224027291,
          -1.4768661895797555,
          -0.5706672119608341,
          1.4961773942937893,
          -0.15560187954158308,
          0.03247288091238335,
          0.3121279723427983,
          1.2036174628101248,
          -1.8149602214495568,
          -0.25267277264871385,
          -0.31891897183935325,
          -0.47381322603680753,
          0.9177839120362744,
          -0.6619439676220062,
          -0.22228104761216375,
          0.5167188779834639,
          -0.5886601441588484,
          -0.49111226630245897,
          0.2442643888637009,
          -0.04507916296916212,
          0.9049845080788567,
          0.49394996349843406,
          0.202128923957163,
          0.9149650220094239,
          0.20786740242860877,
          1.2558499203678959,
          -0.8882369239533632,
          -0.5665994304015882,
          -2.52713736735959,
          -0.40202525070563416,
          0.42337816477791873,
          2.930189646869836,
          -0.29870561060645767,
          1.0259894736560005,
          -0.5434596778354565,
          -0.48187202723754213,
          -0.7849654446928984,
          0.5354112571672852,
          -0.12100382967481559,
          -1.288362701278329,
          -1.3144891120780753,
          -0.3190835777670386,
          -0.9499938842804496,
          -1.3683098023592501,
          -0.4998233472993743,
          0.47028413887107634,
          0.7786479452061807,
          -0.7357339189416259,
          -1.3464941644058384
         ]
        },
        {
         "boxpoints": false,
         "line": {
          "width": 1.3
         },
         "marker": {
          "color": "rgba(50, 171, 96, 1.0)"
         },
         "name": "C",
         "orientation": "v",
         "type": "box",
         "y": [
          0.08036546985632058,
          -1.1803155619663286,
          1.882445236348399,
          1.1349992260603332,
          -1.5575608308528395,
          -0.1527564653318407,
          -0.2961188984253155,
          -0.026937775969907905,
          -1.272905763155189,
          -0.8549352977883783,
          -1.281847057260825,
          -2.1210640768169333,
          1.6893630865327454,
          -0.017578634697911624,
          -2.1020556307911615,
          0.0361393847450922,
          0.43746097392298783,
          0.032676108775102256,
          -0.09844484635896847,
          -0.27085031154451733,
          -0.733682783176024,
          -0.5705352930326113,
          1.2726524082477522,
          1.139118304742565,
          -0.11064228540091595,
          0.2208218083646103,
          0.6867117699875392,
          0.847024875757954,
          -0.03593499862944182,
          0.962558874587534,
          -0.1188249528546015,
          -0.13773714151826094,
          0.45722579151212817,
          -0.34509916618804953,
          1.1844240688176957,
          -0.19633186981606932,
          -0.7862381639616858,
          1.07559665304353,
          1.4480044078476682,
          1.3654346413378435,
          0.681486730473982,
          0.3383458494068617,
          0.7739998117437695,
          -2.220518442027511,
          -1.6675281060620841,
          -0.1064622488395936,
          -0.7380040394225079,
          -0.5486295217974224,
          -0.8342851154825762,
          0.026766363250262055,
          -0.35301171647407226,
          -0.5579776604277544,
          0.09076406349955296,
          -3.4553709450226386,
          0.42250861039899773,
          -0.6316855409000489,
          0.3271975344870533,
          -2.1169700697305354,
          0.9962451550083548,
          -0.7109591216011675,
          -0.046305530851667644,
          1.637218972882313,
          0.08862159816983804,
          -2.131416983846675,
          -0.40077384108346514,
          -0.8231628591052247,
          -0.1374738716032662,
          -1.4636837083336742,
          0.5472867160388108,
          -0.3775955732256513,
          -0.9218552005147901,
          0.43162654815156065,
          -0.08272021026159287,
          0.7126733858239472,
          1.447354762450443,
          -0.02446321498869171,
          0.399983377804818,
          0.759018420519252,
          -0.22801770574102007,
          0.5927528149081085,
          0.38592588849566395,
          -0.5702766186066185,
          -0.7624535972326412,
          1.285628408186062,
          -0.667138216464985,
          -1.133126898002318,
          1.4621189512665256,
          -0.38156381185423577,
          1.3007360231295444,
          -1.242078435474785,
          0.8316549080676471,
          -1.449271121165556,
          1.1220898286898993,
          -0.2972658671592852,
          -0.08960631746997277,
          0.2617264232895819,
          -1.5757729109547811,
          -0.14208364014828903,
          0.32389404113691356,
          -0.33948227156482397
         ]
        },
        {
         "boxpoints": false,
         "line": {
          "width": 1.3
         },
         "marker": {
          "color": "rgba(128, 0, 128, 1.0)"
         },
         "name": "D",
         "orientation": "v",
         "type": "box",
         "y": [
          0.2099912171818562,
          -1.1990577012263692,
          -0.10108308904370543,
          0.8112918719255539,
          0.8313292393664062,
          -0.1609187788658841,
          -1.2892556331200071,
          0.9732044973804842,
          -1.1028627677307659,
          2.59152389882196,
          1.8278949849904982,
          0.09666258307375825,
          -1.8698416412189955,
          -0.4667341426156331,
          1.4031952918004071,
          -0.6303345038130095,
          0.22875513735396286,
          -0.6052468375175506,
          -1.0033180221842917,
          -0.23701021798356048,
          0.26034119125003896,
          2.273447162989823,
          -0.7364967757641886,
          -0.7212268788942579,
          1.4032812419505187,
          -1.657082576262926,
          1.2980658002357384,
          -0.6299324027125981,
          -0.1545833811130906,
          -0.5825103619109648,
          0.6928695396899978,
          -0.5133582454624704,
          -0.2913421611333826,
          -1.6635086452655068,
          -0.2020484429785352,
          0.6856592512667734,
          0.5239777192162516,
          -0.7065993959550226,
          -0.5098123119401131,
          0.1641257050238636,
          -0.29725165110797663,
          1.5528862134289545,
          0.24750879328359607,
          0.4805183246295481,
          -0.41749943539773393,
          1.7702402084916669,
          0.09658312042565893,
          -0.08997675886994944,
          0.3285274976468807,
          1.247695297338725,
          1.495774506601597,
          1.069691061446215,
          0.7552018458688805,
          0.2281391096504319,
          1.2789791912760797,
          -1.8295558769667868,
          0.11636660987779016,
          -0.2229977057008248,
          0.6033630281600153,
          0.35992973484009283,
          -1.5823384178952768,
          -0.1468527788638083,
          0.14460305750459343,
          -0.8494544248877588,
          0.7275331259041663,
          -1.1586340637121935,
          -0.041287814093800224,
          0.9280295950246412,
          0.3810274945493502,
          0.5498487750737486,
          0.22177455039431346,
          -0.5834077247799289,
          -1.1329855240956723,
          1.2252793444619456,
          -1.409537567130078,
          1.7704383751548867,
          -0.8399884873146362,
          1.4508778811621514,
          -0.07945956920141474,
          0.514019250535904,
          1.14091575698579,
          -0.44447442783136815,
          -0.6902998179887635,
          -1.1323460320590162,
          0.44171435496756867,
          -0.9748005885661352,
          -0.004717678081116911,
          1.210811559025089,
          -0.3057156300025935,
          0.09408566042173429,
          -1.3093042861597297,
          0.8642257090072247,
          -0.4602704927209007,
          1.1425853788847717,
          0.3122916358920499,
          -1.0649219085134165,
          0.5681313958119188,
          -1.5393910822689814,
          -0.3183315654749651,
          -0.3083516229304344
         ]
        }
       ],
       "layout": {
        "legend": {
         "bgcolor": "#F5F6F9",
         "font": {
          "color": "#4D5663"
         }
        },
        "paper_bgcolor": "#F5F6F9",
        "plot_bgcolor": "#F5F6F9",
        "template": {
         "data": {
          "bar": [
           {
            "error_x": {
             "color": "#2a3f5f"
            },
            "error_y": {
             "color": "#2a3f5f"
            },
            "marker": {
             "line": {
              "color": "#E5ECF6",
              "width": 0.5
             }
            },
            "type": "bar"
           }
          ],
          "barpolar": [
           {
            "marker": {
             "line": {
              "color": "#E5ECF6",
              "width": 0.5
             }
            },
            "type": "barpolar"
           }
          ],
          "carpet": [
           {
            "aaxis": {
             "endlinecolor": "#2a3f5f",
             "gridcolor": "white",
             "linecolor": "white",
             "minorgridcolor": "white",
             "startlinecolor": "#2a3f5f"
            },
            "baxis": {
             "endlinecolor": "#2a3f5f",
             "gridcolor": "white",
             "linecolor": "white",
             "minorgridcolor": "white",
             "startlinecolor": "#2a3f5f"
            },
            "type": "carpet"
           }
          ],
          "choropleth": [
           {
            "colorbar": {
             "outlinewidth": 0,
             "ticks": ""
            },
            "type": "choropleth"
           }
          ],
          "contour": [
           {
            "colorbar": {
             "outlinewidth": 0,
             "ticks": ""
            },
            "colorscale": [
             [
              0,
              "#0d0887"
             ],
             [
              0.1111111111111111,
              "#46039f"
             ],
             [
              0.2222222222222222,
              "#7201a8"
             ],
             [
              0.3333333333333333,
              "#9c179e"
             ],
             [
              0.4444444444444444,
              "#bd3786"
             ],
             [
              0.5555555555555556,
              "#d8576b"
             ],
             [
              0.6666666666666666,
              "#ed7953"
             ],
             [
              0.7777777777777778,
              "#fb9f3a"
             ],
             [
              0.8888888888888888,
              "#fdca26"
             ],
             [
              1,
              "#f0f921"
             ]
            ],
            "type": "contour"
           }
          ],
          "contourcarpet": [
           {
            "colorbar": {
             "outlinewidth": 0,
             "ticks": ""
            },
            "type": "contourcarpet"
           }
          ],
          "heatmap": [
           {
            "colorbar": {
             "outlinewidth": 0,
             "ticks": ""
            },
            "colorscale": [
             [
              0,
              "#0d0887"
             ],
             [
              0.1111111111111111,
              "#46039f"
             ],
             [
              0.2222222222222222,
              "#7201a8"
             ],
             [
              0.3333333333333333,
              "#9c179e"
             ],
             [
              0.4444444444444444,
              "#bd3786"
             ],
             [
              0.5555555555555556,
              "#d8576b"
             ],
             [
              0.6666666666666666,
              "#ed7953"
             ],
             [
              0.7777777777777778,
              "#fb9f3a"
             ],
             [
              0.8888888888888888,
              "#fdca26"
             ],
             [
              1,
              "#f0f921"
             ]
            ],
            "type": "heatmap"
           }
          ],
          "heatmapgl": [
           {
            "colorbar": {
             "outlinewidth": 0,
             "ticks": ""
            },
            "colorscale": [
             [
              0,
              "#0d0887"
             ],
             [
              0.1111111111111111,
              "#46039f"
             ],
             [
              0.2222222222222222,
              "#7201a8"
             ],
             [
              0.3333333333333333,
              "#9c179e"
             ],
             [
              0.4444444444444444,
              "#bd3786"
             ],
             [
              0.5555555555555556,
              "#d8576b"
             ],
             [
              0.6666666666666666,
              "#ed7953"
             ],
             [
              0.7777777777777778,
              "#fb9f3a"
             ],
             [
              0.8888888888888888,
              "#fdca26"
             ],
             [
              1,
              "#f0f921"
             ]
            ],
            "type": "heatmapgl"
           }
          ],
          "histogram": [
           {
            "marker": {
             "colorbar": {
              "outlinewidth": 0,
              "ticks": ""
             }
            },
            "type": "histogram"
           }
          ],
          "histogram2d": [
           {
            "colorbar": {
             "outlinewidth": 0,
             "ticks": ""
            },
            "colorscale": [
             [
              0,
              "#0d0887"
             ],
             [
              0.1111111111111111,
              "#46039f"
             ],
             [
              0.2222222222222222,
              "#7201a8"
             ],
             [
              0.3333333333333333,
              "#9c179e"
             ],
             [
              0.4444444444444444,
              "#bd3786"
             ],
             [
              0.5555555555555556,
              "#d8576b"
             ],
             [
              0.6666666666666666,
              "#ed7953"
             ],
             [
              0.7777777777777778,
              "#fb9f3a"
             ],
             [
              0.8888888888888888,
              "#fdca26"
             ],
             [
              1,
              "#f0f921"
             ]
            ],
            "type": "histogram2d"
           }
          ],
          "histogram2dcontour": [
           {
            "colorbar": {
             "outlinewidth": 0,
             "ticks": ""
            },
            "colorscale": [
             [
              0,
              "#0d0887"
             ],
             [
              0.1111111111111111,
              "#46039f"
             ],
             [
              0.2222222222222222,
              "#7201a8"
             ],
             [
              0.3333333333333333,
              "#9c179e"
             ],
             [
              0.4444444444444444,
              "#bd3786"
             ],
             [
              0.5555555555555556,
              "#d8576b"
             ],
             [
              0.6666666666666666,
              "#ed7953"
             ],
             [
              0.7777777777777778,
              "#fb9f3a"
             ],
             [
              0.8888888888888888,
              "#fdca26"
             ],
             [
              1,
              "#f0f921"
             ]
            ],
            "type": "histogram2dcontour"
           }
          ],
          "mesh3d": [
           {
            "colorbar": {
             "outlinewidth": 0,
             "ticks": ""
            },
            "type": "mesh3d"
           }
          ],
          "parcoords": [
           {
            "line": {
             "colorbar": {
              "outlinewidth": 0,
              "ticks": ""
             }
            },
            "type": "parcoords"
           }
          ],
          "pie": [
           {
            "automargin": true,
            "type": "pie"
           }
          ],
          "scatter": [
           {
            "marker": {
             "colorbar": {
              "outlinewidth": 0,
              "ticks": ""
             }
            },
            "type": "scatter"
           }
          ],
          "scatter3d": [
           {
            "line": {
             "colorbar": {
              "outlinewidth": 0,
              "ticks": ""
             }
            },
            "marker": {
             "colorbar": {
              "outlinewidth": 0,
              "ticks": ""
             }
            },
            "type": "scatter3d"
           }
          ],
          "scattercarpet": [
           {
            "marker": {
             "colorbar": {
              "outlinewidth": 0,
              "ticks": ""
             }
            },
            "type": "scattercarpet"
           }
          ],
          "scattergeo": [
           {
            "marker": {
             "colorbar": {
              "outlinewidth": 0,
              "ticks": ""
             }
            },
            "type": "scattergeo"
           }
          ],
          "scattergl": [
           {
            "marker": {
             "colorbar": {
              "outlinewidth": 0,
              "ticks": ""
             }
            },
            "type": "scattergl"
           }
          ],
          "scattermapbox": [
           {
            "marker": {
             "colorbar": {
              "outlinewidth": 0,
              "ticks": ""
             }
            },
            "type": "scattermapbox"
           }
          ],
          "scatterpolar": [
           {
            "marker": {
             "colorbar": {
              "outlinewidth": 0,
              "ticks": ""
             }
            },
            "type": "scatterpolar"
           }
          ],
          "scatterpolargl": [
           {
            "marker": {
             "colorbar": {
              "outlinewidth": 0,
              "ticks": ""
             }
            },
            "type": "scatterpolargl"
           }
          ],
          "scatterternary": [
           {
            "marker": {
             "colorbar": {
              "outlinewidth": 0,
              "ticks": ""
             }
            },
            "type": "scatterternary"
           }
          ],
          "surface": [
           {
            "colorbar": {
             "outlinewidth": 0,
             "ticks": ""
            },
            "colorscale": [
             [
              0,
              "#0d0887"
             ],
             [
              0.1111111111111111,
              "#46039f"
             ],
             [
              0.2222222222222222,
              "#7201a8"
             ],
             [
              0.3333333333333333,
              "#9c179e"
             ],
             [
              0.4444444444444444,
              "#bd3786"
             ],
             [
              0.5555555555555556,
              "#d8576b"
             ],
             [
              0.6666666666666666,
              "#ed7953"
             ],
             [
              0.7777777777777778,
              "#fb9f3a"
             ],
             [
              0.8888888888888888,
              "#fdca26"
             ],
             [
              1,
              "#f0f921"
             ]
            ],
            "type": "surface"
           }
          ],
          "table": [
           {
            "cells": {
             "fill": {
              "color": "#EBF0F8"
             },
             "line": {
              "color": "white"
             }
            },
            "header": {
             "fill": {
              "color": "#C8D4E3"
             },
             "line": {
              "color": "white"
             }
            },
            "type": "table"
           }
          ]
         },
         "layout": {
          "annotationdefaults": {
           "arrowcolor": "#2a3f5f",
           "arrowhead": 0,
           "arrowwidth": 1
          },
          "autotypenumbers": "strict",
          "coloraxis": {
           "colorbar": {
            "outlinewidth": 0,
            "ticks": ""
           }
          },
          "colorscale": {
           "diverging": [
            [
             0,
             "#8e0152"
            ],
            [
             0.1,
             "#c51b7d"
            ],
            [
             0.2,
             "#de77ae"
            ],
            [
             0.3,
             "#f1b6da"
            ],
            [
             0.4,
             "#fde0ef"
            ],
            [
             0.5,
             "#f7f7f7"
            ],
            [
             0.6,
             "#e6f5d0"
            ],
            [
             0.7,
             "#b8e186"
            ],
            [
             0.8,
             "#7fbc41"
            ],
            [
             0.9,
             "#4d9221"
            ],
            [
             1,
             "#276419"
            ]
           ],
           "sequential": [
            [
             0,
             "#0d0887"
            ],
            [
             0.1111111111111111,
             "#46039f"
            ],
            [
             0.2222222222222222,
             "#7201a8"
            ],
            [
             0.3333333333333333,
             "#9c179e"
            ],
            [
             0.4444444444444444,
             "#bd3786"
            ],
            [
             0.5555555555555556,
             "#d8576b"
            ],
            [
             0.6666666666666666,
             "#ed7953"
            ],
            [
             0.7777777777777778,
             "#fb9f3a"
            ],
            [
             0.8888888888888888,
             "#fdca26"
            ],
            [
             1,
             "#f0f921"
            ]
           ],
           "sequentialminus": [
            [
             0,
             "#0d0887"
            ],
            [
             0.1111111111111111,
             "#46039f"
            ],
            [
             0.2222222222222222,
             "#7201a8"
            ],
            [
             0.3333333333333333,
             "#9c179e"
            ],
            [
             0.4444444444444444,
             "#bd3786"
            ],
            [
             0.5555555555555556,
             "#d8576b"
            ],
            [
             0.6666666666666666,
             "#ed7953"
            ],
            [
             0.7777777777777778,
             "#fb9f3a"
            ],
            [
             0.8888888888888888,
             "#fdca26"
            ],
            [
             1,
             "#f0f921"
            ]
           ]
          },
          "colorway": [
           "#636efa",
           "#EF553B",
           "#00cc96",
           "#ab63fa",
           "#FFA15A",
           "#19d3f3",
           "#FF6692",
           "#B6E880",
           "#FF97FF",
           "#FECB52"
          ],
          "font": {
           "color": "#2a3f5f"
          },
          "geo": {
           "bgcolor": "white",
           "lakecolor": "white",
           "landcolor": "#E5ECF6",
           "showlakes": true,
           "showland": true,
           "subunitcolor": "white"
          },
          "hoverlabel": {
           "align": "left"
          },
          "hovermode": "closest",
          "mapbox": {
           "style": "light"
          },
          "paper_bgcolor": "white",
          "plot_bgcolor": "#E5ECF6",
          "polar": {
           "angularaxis": {
            "gridcolor": "white",
            "linecolor": "white",
            "ticks": ""
           },
           "bgcolor": "#E5ECF6",
           "radialaxis": {
            "gridcolor": "white",
            "linecolor": "white",
            "ticks": ""
           }
          },
          "scene": {
           "xaxis": {
            "backgroundcolor": "#E5ECF6",
            "gridcolor": "white",
            "gridwidth": 2,
            "linecolor": "white",
            "showbackground": true,
            "ticks": "",
            "zerolinecolor": "white"
           },
           "yaxis": {
            "backgroundcolor": "#E5ECF6",
            "gridcolor": "white",
            "gridwidth": 2,
            "linecolor": "white",
            "showbackground": true,
            "ticks": "",
            "zerolinecolor": "white"
           },
           "zaxis": {
            "backgroundcolor": "#E5ECF6",
            "gridcolor": "white",
            "gridwidth": 2,
            "linecolor": "white",
            "showbackground": true,
            "ticks": "",
            "zerolinecolor": "white"
           }
          },
          "shapedefaults": {
           "line": {
            "color": "#2a3f5f"
           }
          },
          "ternary": {
           "aaxis": {
            "gridcolor": "white",
            "linecolor": "white",
            "ticks": ""
           },
           "baxis": {
            "gridcolor": "white",
            "linecolor": "white",
            "ticks": ""
           },
           "bgcolor": "#E5ECF6",
           "caxis": {
            "gridcolor": "white",
            "linecolor": "white",
            "ticks": ""
           }
          },
          "title": {
           "x": 0.05
          },
          "xaxis": {
           "automargin": true,
           "gridcolor": "white",
           "linecolor": "white",
           "ticks": "",
           "title": {
            "standoff": 15
           },
           "zerolinecolor": "white",
           "zerolinewidth": 2
          },
          "yaxis": {
           "automargin": true,
           "gridcolor": "white",
           "linecolor": "white",
           "ticks": "",
           "title": {
            "standoff": 15
           },
           "zerolinecolor": "white",
           "zerolinewidth": 2
          }
         }
        },
        "title": {
         "font": {
          "color": "#4D5663"
         }
        },
        "xaxis": {
         "gridcolor": "#E1E5ED",
         "showgrid": true,
         "tickfont": {
          "color": "#4D5663"
         },
         "title": {
          "font": {
           "color": "#4D5663"
          },
          "text": ""
         },
         "zerolinecolor": "#E1E5ED"
        },
        "yaxis": {
         "gridcolor": "#E1E5ED",
         "showgrid": true,
         "tickfont": {
          "color": "#4D5663"
         },
         "title": {
          "font": {
           "color": "#4D5663"
          },
          "text": ""
         },
         "zerolinecolor": "#E1E5ED"
        }
       }
      },
      "text/html": [
       "<div>                            <div id=\"6e7699b9-fadd-4f01-be97-a2357c6e4169\" class=\"plotly-graph-div\" style=\"height:525px; width:100%;\"></div>            <script type=\"text/javascript\">                require([\"plotly\"], function(Plotly) {                    window.PLOTLYENV=window.PLOTLYENV || {};\n",
       "                    window.PLOTLYENV.BASE_URL='https://plot.ly';                                    if (document.getElementById(\"6e7699b9-fadd-4f01-be97-a2357c6e4169\")) {                    Plotly.newPlot(                        \"6e7699b9-fadd-4f01-be97-a2357c6e4169\",                        [{\"boxpoints\": false, \"line\": {\"width\": 1.3}, \"marker\": {\"color\": \"rgba(255, 153, 51, 1.0)\"}, \"name\": \"A\", \"orientation\": \"v\", \"type\": \"box\", \"y\": [-1.9722087496969223, -0.011671936731851002, -1.581095695462608, -0.34655125540727333, -2.477227183550656, 1.0941645349574753, 1.0229529172073148, -0.2598830879365222, -0.03408300204513225, 0.316552878256426, -0.9560391300790448, 0.03686863729565844, -1.057002166096782, 1.1269640029188206, -2.9267062941867423, -0.746704279766539, 0.05041994672178217, 0.48710115962661305, 0.4411562042292949, 1.9586541598607206, -1.1264446501035439, -0.8893264007516325, -0.912797025545708, -0.6764986758310823, 0.060741922825052995, -1.8449685175213293, -0.2581939666458554, -1.0845735336268134, 1.3092149762046064, -0.3066644272536902, 2.6272020454447893, 1.9776080885194243, 0.5668461448153023, 0.14871793417682036, 0.5589477908589175, 1.569395013601064, 0.6903765899355268, -0.9624507753100264, -1.1982377774156872, 0.3460526200922986, -1.5813823853788058, -0.060380627009908705, -0.45301810031688394, -0.8874355334946187, -0.08069904562752264, 0.9892325935849244, -0.4402405812651847, 0.9062225085353147, 0.051935187991758267, -0.7749692187429894, 0.20663577894552076, -2.6432173202033327, 0.428142633290837, 0.28064340537672056, 0.49998815039368866, -2.282375457843157, -0.2636867903407214, -0.8818468535001559, -0.3507863058950262, -0.3459010474609139, -0.2537435919563658, 0.7534214071578663, -0.9475830799767535, -1.275468885966171, -1.0661714834592064, -0.9048886981411098, 0.25326937641655517, 2.1839204484406034, -0.8272174280292035, -0.4645040193133396, 0.8445505137052899, 0.36733557594376404, -0.21495587739570762, -0.2147215789481739, -1.014567110997098, -0.5200774799937841, -0.6299002021429765, -0.018567917997282603, -1.0129723040910823, -1.244448617322104, 0.9101942921335867, 0.14653083392106686, -0.4696844835441938, 0.25679717959833154, -0.26913999204070016, 0.49298478979236415, -1.7553400104436443, -0.32567192940690426, 0.4963013251259451, 0.33715228833004396, -0.48702644670754175, 0.583173722625296, -0.13151299514984052, -0.17277039856468238, -0.3932252217320785, 1.747981066541866, 1.2996522287381982, 0.17177685124461037, 0.942376140480576, -1.4875548956939744]}, {\"boxpoints\": false, \"line\": {\"width\": 1.3}, \"marker\": {\"color\": \"rgba(55, 128, 191, 1.0)\"}, \"name\": \"B\", \"orientation\": \"v\", \"type\": \"box\", \"y\": [-0.15467443438003167, -1.103714486619362, -0.0541684553591224, 0.41422239107560715, -0.47311978978456737, 0.08890758298241469, 0.6542883889705488, 0.1526791972817478, -1.0761625495932814, 0.4108953551780461, 0.8849114941005151, -1.7404564207865973, -0.2834726233350443, -0.7225958554493189, -0.3360213951887905, -0.43360752963912125, -0.28610770283411324, 0.5140475923376779, 0.6498272394533989, -0.1880381648673378, 3.029906110373341, -0.655023507621413, -0.29993908275112585, 0.17257175369280023, -0.8252449189026975, -0.5068002853772337, 0.7260798014189815, -0.3890204893183104, -0.42350519981926266, -0.9830897847082721, -0.745081495310831, 0.5885934793538804, 1.3819602740760888, -0.6052431371727914, -0.795447989408926, -0.36279193604862736, 0.6507982198529062, 0.26554271337673624, 0.4278905943406648, 0.7667337976267404, -1.009477598035802, 1.7868695252714277, 0.07238439431084817, -0.2921642502366185, 0.8037729291547354, -0.2997123802579395, 0.5540178206043035, 0.4378922178605772, 0.516907689763789, -0.7489107442737745, 0.3042169050027822, -1.2286144224027291, -1.4768661895797555, -0.5706672119608341, 1.4961773942937893, -0.15560187954158308, 0.03247288091238335, 0.3121279723427983, 1.2036174628101248, -1.8149602214495568, -0.25267277264871385, -0.31891897183935325, -0.47381322603680753, 0.9177839120362744, -0.6619439676220062, -0.22228104761216375, 0.5167188779834639, -0.5886601441588484, -0.49111226630245897, 0.2442643888637009, -0.04507916296916212, 0.9049845080788567, 0.49394996349843406, 0.202128923957163, 0.9149650220094239, 0.20786740242860877, 1.2558499203678959, -0.8882369239533632, -0.5665994304015882, -2.52713736735959, -0.40202525070563416, 0.42337816477791873, 2.930189646869836, -0.29870561060645767, 1.0259894736560005, -0.5434596778354565, -0.48187202723754213, -0.7849654446928984, 0.5354112571672852, -0.12100382967481559, -1.288362701278329, -1.3144891120780753, -0.3190835777670386, -0.9499938842804496, -1.3683098023592501, -0.4998233472993743, 0.47028413887107634, 0.7786479452061807, -0.7357339189416259, -1.3464941644058384]}, {\"boxpoints\": false, \"line\": {\"width\": 1.3}, \"marker\": {\"color\": \"rgba(50, 171, 96, 1.0)\"}, \"name\": \"C\", \"orientation\": \"v\", \"type\": \"box\", \"y\": [0.08036546985632058, -1.1803155619663286, 1.882445236348399, 1.1349992260603332, -1.5575608308528395, -0.1527564653318407, -0.2961188984253155, -0.026937775969907905, -1.272905763155189, -0.8549352977883783, -1.281847057260825, -2.1210640768169333, 1.6893630865327454, -0.017578634697911624, -2.1020556307911615, 0.0361393847450922, 0.43746097392298783, 0.032676108775102256, -0.09844484635896847, -0.27085031154451733, -0.733682783176024, -0.5705352930326113, 1.2726524082477522, 1.139118304742565, -0.11064228540091595, 0.2208218083646103, 0.6867117699875392, 0.847024875757954, -0.03593499862944182, 0.962558874587534, -0.1188249528546015, -0.13773714151826094, 0.45722579151212817, -0.34509916618804953, 1.1844240688176957, -0.19633186981606932, -0.7862381639616858, 1.07559665304353, 1.4480044078476682, 1.3654346413378435, 0.681486730473982, 0.3383458494068617, 0.7739998117437695, -2.220518442027511, -1.6675281060620841, -0.1064622488395936, -0.7380040394225079, -0.5486295217974224, -0.8342851154825762, 0.026766363250262055, -0.35301171647407226, -0.5579776604277544, 0.09076406349955296, -3.4553709450226386, 0.42250861039899773, -0.6316855409000489, 0.3271975344870533, -2.1169700697305354, 0.9962451550083548, -0.7109591216011675, -0.046305530851667644, 1.637218972882313, 0.08862159816983804, -2.131416983846675, -0.40077384108346514, -0.8231628591052247, -0.1374738716032662, -1.4636837083336742, 0.5472867160388108, -0.3775955732256513, -0.9218552005147901, 0.43162654815156065, -0.08272021026159287, 0.7126733858239472, 1.447354762450443, -0.02446321498869171, 0.399983377804818, 0.759018420519252, -0.22801770574102007, 0.5927528149081085, 0.38592588849566395, -0.5702766186066185, -0.7624535972326412, 1.285628408186062, -0.667138216464985, -1.133126898002318, 1.4621189512665256, -0.38156381185423577, 1.3007360231295444, -1.242078435474785, 0.8316549080676471, -1.449271121165556, 1.1220898286898993, -0.2972658671592852, -0.08960631746997277, 0.2617264232895819, -1.5757729109547811, -0.14208364014828903, 0.32389404113691356, -0.33948227156482397]}, {\"boxpoints\": false, \"line\": {\"width\": 1.3}, \"marker\": {\"color\": \"rgba(128, 0, 128, 1.0)\"}, \"name\": \"D\", \"orientation\": \"v\", \"type\": \"box\", \"y\": [0.2099912171818562, -1.1990577012263692, -0.10108308904370543, 0.8112918719255539, 0.8313292393664062, -0.1609187788658841, -1.2892556331200071, 0.9732044973804842, -1.1028627677307659, 2.59152389882196, 1.8278949849904982, 0.09666258307375825, -1.8698416412189955, -0.4667341426156331, 1.4031952918004071, -0.6303345038130095, 0.22875513735396286, -0.6052468375175506, -1.0033180221842917, -0.23701021798356048, 0.26034119125003896, 2.273447162989823, -0.7364967757641886, -0.7212268788942579, 1.4032812419505187, -1.657082576262926, 1.2980658002357384, -0.6299324027125981, -0.1545833811130906, -0.5825103619109648, 0.6928695396899978, -0.5133582454624704, -0.2913421611333826, -1.6635086452655068, -0.2020484429785352, 0.6856592512667734, 0.5239777192162516, -0.7065993959550226, -0.5098123119401131, 0.1641257050238636, -0.29725165110797663, 1.5528862134289545, 0.24750879328359607, 0.4805183246295481, -0.41749943539773393, 1.7702402084916669, 0.09658312042565893, -0.08997675886994944, 0.3285274976468807, 1.247695297338725, 1.495774506601597, 1.069691061446215, 0.7552018458688805, 0.2281391096504319, 1.2789791912760797, -1.8295558769667868, 0.11636660987779016, -0.2229977057008248, 0.6033630281600153, 0.35992973484009283, -1.5823384178952768, -0.1468527788638083, 0.14460305750459343, -0.8494544248877588, 0.7275331259041663, -1.1586340637121935, -0.041287814093800224, 0.9280295950246412, 0.3810274945493502, 0.5498487750737486, 0.22177455039431346, -0.5834077247799289, -1.1329855240956723, 1.2252793444619456, -1.409537567130078, 1.7704383751548867, -0.8399884873146362, 1.4508778811621514, -0.07945956920141474, 0.514019250535904, 1.14091575698579, -0.44447442783136815, -0.6902998179887635, -1.1323460320590162, 0.44171435496756867, -0.9748005885661352, -0.004717678081116911, 1.210811559025089, -0.3057156300025935, 0.09408566042173429, -1.3093042861597297, 0.8642257090072247, -0.4602704927209007, 1.1425853788847717, 0.3122916358920499, -1.0649219085134165, 0.5681313958119188, -1.5393910822689814, -0.3183315654749651, -0.3083516229304344]}],                        {\"legend\": {\"bgcolor\": \"#F5F6F9\", \"font\": {\"color\": \"#4D5663\"}}, \"paper_bgcolor\": \"#F5F6F9\", \"plot_bgcolor\": \"#F5F6F9\", \"template\": {\"data\": {\"bar\": [{\"error_x\": {\"color\": \"#2a3f5f\"}, \"error_y\": {\"color\": \"#2a3f5f\"}, \"marker\": {\"line\": {\"color\": \"#E5ECF6\", \"width\": 0.5}}, \"type\": \"bar\"}], \"barpolar\": [{\"marker\": {\"line\": {\"color\": \"#E5ECF6\", \"width\": 0.5}}, \"type\": \"barpolar\"}], \"carpet\": [{\"aaxis\": {\"endlinecolor\": \"#2a3f5f\", \"gridcolor\": \"white\", \"linecolor\": \"white\", \"minorgridcolor\": \"white\", \"startlinecolor\": \"#2a3f5f\"}, \"baxis\": {\"endlinecolor\": \"#2a3f5f\", \"gridcolor\": \"white\", \"linecolor\": \"white\", \"minorgridcolor\": \"white\", \"startlinecolor\": \"#2a3f5f\"}, \"type\": \"carpet\"}], \"choropleth\": [{\"colorbar\": {\"outlinewidth\": 0, \"ticks\": \"\"}, \"type\": \"choropleth\"}], \"contour\": [{\"colorbar\": {\"outlinewidth\": 0, \"ticks\": \"\"}, \"colorscale\": [[0.0, \"#0d0887\"], [0.1111111111111111, \"#46039f\"], [0.2222222222222222, \"#7201a8\"], [0.3333333333333333, \"#9c179e\"], [0.4444444444444444, \"#bd3786\"], [0.5555555555555556, \"#d8576b\"], [0.6666666666666666, \"#ed7953\"], [0.7777777777777778, \"#fb9f3a\"], [0.8888888888888888, \"#fdca26\"], [1.0, \"#f0f921\"]], \"type\": \"contour\"}], \"contourcarpet\": [{\"colorbar\": {\"outlinewidth\": 0, \"ticks\": \"\"}, \"type\": \"contourcarpet\"}], \"heatmap\": [{\"colorbar\": {\"outlinewidth\": 0, \"ticks\": \"\"}, \"colorscale\": [[0.0, \"#0d0887\"], [0.1111111111111111, \"#46039f\"], [0.2222222222222222, \"#7201a8\"], [0.3333333333333333, \"#9c179e\"], [0.4444444444444444, \"#bd3786\"], [0.5555555555555556, \"#d8576b\"], [0.6666666666666666, \"#ed7953\"], [0.7777777777777778, \"#fb9f3a\"], [0.8888888888888888, \"#fdca26\"], [1.0, \"#f0f921\"]], \"type\": \"heatmap\"}], \"heatmapgl\": [{\"colorbar\": {\"outlinewidth\": 0, \"ticks\": \"\"}, \"colorscale\": [[0.0, \"#0d0887\"], [0.1111111111111111, \"#46039f\"], [0.2222222222222222, \"#7201a8\"], [0.3333333333333333, \"#9c179e\"], [0.4444444444444444, \"#bd3786\"], [0.5555555555555556, \"#d8576b\"], [0.6666666666666666, \"#ed7953\"], [0.7777777777777778, \"#fb9f3a\"], [0.8888888888888888, \"#fdca26\"], [1.0, \"#f0f921\"]], \"type\": \"heatmapgl\"}], \"histogram\": [{\"marker\": {\"colorbar\": {\"outlinewidth\": 0, \"ticks\": \"\"}}, \"type\": \"histogram\"}], \"histogram2d\": [{\"colorbar\": {\"outlinewidth\": 0, \"ticks\": \"\"}, \"colorscale\": [[0.0, \"#0d0887\"], [0.1111111111111111, \"#46039f\"], [0.2222222222222222, \"#7201a8\"], [0.3333333333333333, \"#9c179e\"], [0.4444444444444444, \"#bd3786\"], [0.5555555555555556, \"#d8576b\"], [0.6666666666666666, \"#ed7953\"], [0.7777777777777778, \"#fb9f3a\"], [0.8888888888888888, \"#fdca26\"], [1.0, \"#f0f921\"]], \"type\": \"histogram2d\"}], \"histogram2dcontour\": [{\"colorbar\": {\"outlinewidth\": 0, \"ticks\": \"\"}, \"colorscale\": [[0.0, \"#0d0887\"], [0.1111111111111111, \"#46039f\"], [0.2222222222222222, \"#7201a8\"], [0.3333333333333333, \"#9c179e\"], [0.4444444444444444, \"#bd3786\"], [0.5555555555555556, \"#d8576b\"], [0.6666666666666666, \"#ed7953\"], [0.7777777777777778, \"#fb9f3a\"], [0.8888888888888888, \"#fdca26\"], [1.0, \"#f0f921\"]], \"type\": \"histogram2dcontour\"}], \"mesh3d\": [{\"colorbar\": {\"outlinewidth\": 0, \"ticks\": \"\"}, \"type\": \"mesh3d\"}], \"parcoords\": [{\"line\": {\"colorbar\": {\"outlinewidth\": 0, \"ticks\": \"\"}}, \"type\": \"parcoords\"}], \"pie\": [{\"automargin\": true, \"type\": \"pie\"}], \"scatter\": [{\"marker\": {\"colorbar\": {\"outlinewidth\": 0, \"ticks\": \"\"}}, \"type\": \"scatter\"}], \"scatter3d\": [{\"line\": {\"colorbar\": {\"outlinewidth\": 0, \"ticks\": \"\"}}, \"marker\": {\"colorbar\": {\"outlinewidth\": 0, \"ticks\": \"\"}}, \"type\": \"scatter3d\"}], \"scattercarpet\": [{\"marker\": {\"colorbar\": {\"outlinewidth\": 0, \"ticks\": \"\"}}, \"type\": \"scattercarpet\"}], \"scattergeo\": [{\"marker\": {\"colorbar\": {\"outlinewidth\": 0, \"ticks\": \"\"}}, \"type\": \"scattergeo\"}], \"scattergl\": [{\"marker\": {\"colorbar\": {\"outlinewidth\": 0, \"ticks\": \"\"}}, \"type\": \"scattergl\"}], \"scattermapbox\": [{\"marker\": {\"colorbar\": {\"outlinewidth\": 0, \"ticks\": \"\"}}, \"type\": \"scattermapbox\"}], \"scatterpolar\": [{\"marker\": {\"colorbar\": {\"outlinewidth\": 0, \"ticks\": \"\"}}, \"type\": \"scatterpolar\"}], \"scatterpolargl\": [{\"marker\": {\"colorbar\": {\"outlinewidth\": 0, \"ticks\": \"\"}}, \"type\": \"scatterpolargl\"}], \"scatterternary\": [{\"marker\": {\"colorbar\": {\"outlinewidth\": 0, \"ticks\": \"\"}}, \"type\": \"scatterternary\"}], \"surface\": [{\"colorbar\": {\"outlinewidth\": 0, \"ticks\": \"\"}, \"colorscale\": [[0.0, \"#0d0887\"], [0.1111111111111111, \"#46039f\"], [0.2222222222222222, \"#7201a8\"], [0.3333333333333333, \"#9c179e\"], [0.4444444444444444, \"#bd3786\"], [0.5555555555555556, \"#d8576b\"], [0.6666666666666666, \"#ed7953\"], [0.7777777777777778, \"#fb9f3a\"], [0.8888888888888888, \"#fdca26\"], [1.0, \"#f0f921\"]], \"type\": \"surface\"}], \"table\": [{\"cells\": {\"fill\": {\"color\": \"#EBF0F8\"}, \"line\": {\"color\": \"white\"}}, \"header\": {\"fill\": {\"color\": \"#C8D4E3\"}, \"line\": {\"color\": \"white\"}}, \"type\": \"table\"}]}, \"layout\": {\"annotationdefaults\": {\"arrowcolor\": \"#2a3f5f\", \"arrowhead\": 0, \"arrowwidth\": 1}, \"autotypenumbers\": \"strict\", \"coloraxis\": {\"colorbar\": {\"outlinewidth\": 0, \"ticks\": \"\"}}, \"colorscale\": {\"diverging\": [[0, \"#8e0152\"], [0.1, \"#c51b7d\"], [0.2, \"#de77ae\"], [0.3, \"#f1b6da\"], [0.4, \"#fde0ef\"], [0.5, \"#f7f7f7\"], [0.6, \"#e6f5d0\"], [0.7, \"#b8e186\"], [0.8, \"#7fbc41\"], [0.9, \"#4d9221\"], [1, \"#276419\"]], \"sequential\": [[0.0, \"#0d0887\"], [0.1111111111111111, \"#46039f\"], [0.2222222222222222, \"#7201a8\"], [0.3333333333333333, \"#9c179e\"], [0.4444444444444444, \"#bd3786\"], [0.5555555555555556, \"#d8576b\"], [0.6666666666666666, \"#ed7953\"], [0.7777777777777778, \"#fb9f3a\"], [0.8888888888888888, \"#fdca26\"], [1.0, \"#f0f921\"]], \"sequentialminus\": [[0.0, \"#0d0887\"], [0.1111111111111111, \"#46039f\"], [0.2222222222222222, \"#7201a8\"], [0.3333333333333333, \"#9c179e\"], [0.4444444444444444, \"#bd3786\"], [0.5555555555555556, \"#d8576b\"], [0.6666666666666666, \"#ed7953\"], [0.7777777777777778, \"#fb9f3a\"], [0.8888888888888888, \"#fdca26\"], [1.0, \"#f0f921\"]]}, \"colorway\": [\"#636efa\", \"#EF553B\", \"#00cc96\", \"#ab63fa\", \"#FFA15A\", \"#19d3f3\", \"#FF6692\", \"#B6E880\", \"#FF97FF\", \"#FECB52\"], \"font\": {\"color\": \"#2a3f5f\"}, \"geo\": {\"bgcolor\": \"white\", \"lakecolor\": \"white\", \"landcolor\": \"#E5ECF6\", \"showlakes\": true, \"showland\": true, \"subunitcolor\": \"white\"}, \"hoverlabel\": {\"align\": \"left\"}, \"hovermode\": \"closest\", \"mapbox\": {\"style\": \"light\"}, \"paper_bgcolor\": \"white\", \"plot_bgcolor\": \"#E5ECF6\", \"polar\": {\"angularaxis\": {\"gridcolor\": \"white\", \"linecolor\": \"white\", \"ticks\": \"\"}, \"bgcolor\": \"#E5ECF6\", \"radialaxis\": {\"gridcolor\": \"white\", \"linecolor\": \"white\", \"ticks\": \"\"}}, \"scene\": {\"xaxis\": {\"backgroundcolor\": \"#E5ECF6\", \"gridcolor\": \"white\", \"gridwidth\": 2, \"linecolor\": \"white\", \"showbackground\": true, \"ticks\": \"\", \"zerolinecolor\": \"white\"}, \"yaxis\": {\"backgroundcolor\": \"#E5ECF6\", \"gridcolor\": \"white\", \"gridwidth\": 2, \"linecolor\": \"white\", \"showbackground\": true, \"ticks\": \"\", \"zerolinecolor\": \"white\"}, \"zaxis\": {\"backgroundcolor\": \"#E5ECF6\", \"gridcolor\": \"white\", \"gridwidth\": 2, \"linecolor\": \"white\", \"showbackground\": true, \"ticks\": \"\", \"zerolinecolor\": \"white\"}}, \"shapedefaults\": {\"line\": {\"color\": \"#2a3f5f\"}}, \"ternary\": {\"aaxis\": {\"gridcolor\": \"white\", \"linecolor\": \"white\", \"ticks\": \"\"}, \"baxis\": {\"gridcolor\": \"white\", \"linecolor\": \"white\", \"ticks\": \"\"}, \"bgcolor\": \"#E5ECF6\", \"caxis\": {\"gridcolor\": \"white\", \"linecolor\": \"white\", \"ticks\": \"\"}}, \"title\": {\"x\": 0.05}, \"xaxis\": {\"automargin\": true, \"gridcolor\": \"white\", \"linecolor\": \"white\", \"ticks\": \"\", \"title\": {\"standoff\": 15}, \"zerolinecolor\": \"white\", \"zerolinewidth\": 2}, \"yaxis\": {\"automargin\": true, \"gridcolor\": \"white\", \"linecolor\": \"white\", \"ticks\": \"\", \"title\": {\"standoff\": 15}, \"zerolinecolor\": \"white\", \"zerolinewidth\": 2}}}, \"title\": {\"font\": {\"color\": \"#4D5663\"}}, \"xaxis\": {\"gridcolor\": \"#E1E5ED\", \"showgrid\": true, \"tickfont\": {\"color\": \"#4D5663\"}, \"title\": {\"font\": {\"color\": \"#4D5663\"}, \"text\": \"\"}, \"zerolinecolor\": \"#E1E5ED\"}, \"yaxis\": {\"gridcolor\": \"#E1E5ED\", \"showgrid\": true, \"tickfont\": {\"color\": \"#4D5663\"}, \"title\": {\"font\": {\"color\": \"#4D5663\"}, \"text\": \"\"}, \"zerolinecolor\": \"#E1E5ED\"}},                        {\"showLink\": true, \"linkText\": \"Export to plot.ly\", \"plotlyServerURL\": \"https://plot.ly\", \"responsive\": true}                    ).then(function(){\n",
       "                            \n",
       "var gd = document.getElementById('6e7699b9-fadd-4f01-be97-a2357c6e4169');\n",
       "var x = new MutationObserver(function (mutations, observer) {{\n",
       "        var display = window.getComputedStyle(gd).display;\n",
       "        if (!display || display === 'none') {{\n",
       "            console.log([gd, 'removed!']);\n",
       "            Plotly.purge(gd);\n",
       "            observer.disconnect();\n",
       "        }}\n",
       "}});\n",
       "\n",
       "// Listen for the removal of the full notebook cells\n",
       "var notebookContainer = gd.closest('#notebook-container');\n",
       "if (notebookContainer) {{\n",
       "    x.observe(notebookContainer, {childList: true});\n",
       "}}\n",
       "\n",
       "// Listen for the clearing of the current output cell\n",
       "var outputEl = gd.closest('.output');\n",
       "if (outputEl) {{\n",
       "    x.observe(outputEl, {childList: true});\n",
       "}}\n",
       "\n",
       "                        })                };                });            </script>        </div>"
      ]
     },
     "metadata": {},
     "output_type": "display_data"
    }
   ],
   "source": [
    "df.iplot(kind='box')"
   ]
  },
  {
   "cell_type": "code",
   "execution_count": 38,
   "metadata": {},
   "outputs": [],
   "source": [
    "df3 = pd.DataFrame({'x':[1,2,3,4,5],'y':[10,20,30,20,10],'z':[5,4,3,2,1]})"
   ]
  },
  {
   "cell_type": "code",
   "execution_count": 39,
   "metadata": {
    "scrolled": false
   },
   "outputs": [
    {
     "data": {
      "text/html": [
       "<div>\n",
       "<style scoped>\n",
       "    .dataframe tbody tr th:only-of-type {\n",
       "        vertical-align: middle;\n",
       "    }\n",
       "\n",
       "    .dataframe tbody tr th {\n",
       "        vertical-align: top;\n",
       "    }\n",
       "\n",
       "    .dataframe thead th {\n",
       "        text-align: right;\n",
       "    }\n",
       "</style>\n",
       "<table border=\"1\" class=\"dataframe\">\n",
       "  <thead>\n",
       "    <tr style=\"text-align: right;\">\n",
       "      <th></th>\n",
       "      <th>x</th>\n",
       "      <th>y</th>\n",
       "      <th>z</th>\n",
       "    </tr>\n",
       "  </thead>\n",
       "  <tbody>\n",
       "    <tr>\n",
       "      <th>0</th>\n",
       "      <td>1</td>\n",
       "      <td>10</td>\n",
       "      <td>5</td>\n",
       "    </tr>\n",
       "    <tr>\n",
       "      <th>1</th>\n",
       "      <td>2</td>\n",
       "      <td>20</td>\n",
       "      <td>4</td>\n",
       "    </tr>\n",
       "    <tr>\n",
       "      <th>2</th>\n",
       "      <td>3</td>\n",
       "      <td>30</td>\n",
       "      <td>3</td>\n",
       "    </tr>\n",
       "    <tr>\n",
       "      <th>3</th>\n",
       "      <td>4</td>\n",
       "      <td>20</td>\n",
       "      <td>2</td>\n",
       "    </tr>\n",
       "    <tr>\n",
       "      <th>4</th>\n",
       "      <td>5</td>\n",
       "      <td>10</td>\n",
       "      <td>1</td>\n",
       "    </tr>\n",
       "  </tbody>\n",
       "</table>\n",
       "</div>"
      ],
      "text/plain": [
       "   x   y  z\n",
       "0  1  10  5\n",
       "1  2  20  4\n",
       "2  3  30  3\n",
       "3  4  20  2\n",
       "4  5  10  1"
      ]
     },
     "execution_count": 39,
     "metadata": {},
     "output_type": "execute_result"
    }
   ],
   "source": [
    "df3\n"
   ]
  },
  {
   "cell_type": "code",
   "execution_count": 40,
   "metadata": {},
   "outputs": [
    {
     "data": {
      "application/vnd.plotly.v1+json": {
       "config": {
        "linkText": "Export to plot.ly",
        "plotlyServerURL": "https://plot.ly",
        "showLink": true
       },
       "data": [
        {
         "colorscale": [
          [
           0,
           "rgb(255, 153, 51)"
          ],
          [
           0.1111111111111111,
           "rgb(55, 128, 191)"
          ],
          [
           0.2222222222222222,
           "rgb(50, 171, 96)"
          ],
          [
           0.3333333333333333,
           "rgb(128, 0, 128)"
          ],
          [
           0.4444444444444444,
           "rgb(219, 64, 82)"
          ],
          [
           0.5555555555555556,
           "rgb(0, 128, 128)"
          ],
          [
           0.6666666666666666,
           "rgb(255, 255, 51)"
          ],
          [
           0.7777777777777778,
           "rgb(128, 128, 0)"
          ],
          [
           0.8888888888888888,
           "rgb(251, 128, 114)"
          ],
          [
           1,
           "rgb(128, 177, 211)"
          ]
         ],
         "type": "surface",
         "x": [
          0,
          1,
          2,
          3,
          4
         ],
         "y": [
          "x",
          "y",
          "z"
         ],
         "z": [
          [
           1,
           2,
           3,
           4,
           5
          ],
          [
           10,
           20,
           30,
           20,
           10
          ],
          [
           5,
           4,
           3,
           2,
           1
          ]
         ]
        }
       ],
       "layout": {
        "legend": {
         "bgcolor": "#F5F6F9",
         "font": {
          "color": "#4D5663"
         }
        },
        "paper_bgcolor": "#F5F6F9",
        "plot_bgcolor": "#F5F6F9",
        "template": {
         "data": {
          "bar": [
           {
            "error_x": {
             "color": "#2a3f5f"
            },
            "error_y": {
             "color": "#2a3f5f"
            },
            "marker": {
             "line": {
              "color": "#E5ECF6",
              "width": 0.5
             }
            },
            "type": "bar"
           }
          ],
          "barpolar": [
           {
            "marker": {
             "line": {
              "color": "#E5ECF6",
              "width": 0.5
             }
            },
            "type": "barpolar"
           }
          ],
          "carpet": [
           {
            "aaxis": {
             "endlinecolor": "#2a3f5f",
             "gridcolor": "white",
             "linecolor": "white",
             "minorgridcolor": "white",
             "startlinecolor": "#2a3f5f"
            },
            "baxis": {
             "endlinecolor": "#2a3f5f",
             "gridcolor": "white",
             "linecolor": "white",
             "minorgridcolor": "white",
             "startlinecolor": "#2a3f5f"
            },
            "type": "carpet"
           }
          ],
          "choropleth": [
           {
            "colorbar": {
             "outlinewidth": 0,
             "ticks": ""
            },
            "type": "choropleth"
           }
          ],
          "contour": [
           {
            "colorbar": {
             "outlinewidth": 0,
             "ticks": ""
            },
            "colorscale": [
             [
              0,
              "#0d0887"
             ],
             [
              0.1111111111111111,
              "#46039f"
             ],
             [
              0.2222222222222222,
              "#7201a8"
             ],
             [
              0.3333333333333333,
              "#9c179e"
             ],
             [
              0.4444444444444444,
              "#bd3786"
             ],
             [
              0.5555555555555556,
              "#d8576b"
             ],
             [
              0.6666666666666666,
              "#ed7953"
             ],
             [
              0.7777777777777778,
              "#fb9f3a"
             ],
             [
              0.8888888888888888,
              "#fdca26"
             ],
             [
              1,
              "#f0f921"
             ]
            ],
            "type": "contour"
           }
          ],
          "contourcarpet": [
           {
            "colorbar": {
             "outlinewidth": 0,
             "ticks": ""
            },
            "type": "contourcarpet"
           }
          ],
          "heatmap": [
           {
            "colorbar": {
             "outlinewidth": 0,
             "ticks": ""
            },
            "colorscale": [
             [
              0,
              "#0d0887"
             ],
             [
              0.1111111111111111,
              "#46039f"
             ],
             [
              0.2222222222222222,
              "#7201a8"
             ],
             [
              0.3333333333333333,
              "#9c179e"
             ],
             [
              0.4444444444444444,
              "#bd3786"
             ],
             [
              0.5555555555555556,
              "#d8576b"
             ],
             [
              0.6666666666666666,
              "#ed7953"
             ],
             [
              0.7777777777777778,
              "#fb9f3a"
             ],
             [
              0.8888888888888888,
              "#fdca26"
             ],
             [
              1,
              "#f0f921"
             ]
            ],
            "type": "heatmap"
           }
          ],
          "heatmapgl": [
           {
            "colorbar": {
             "outlinewidth": 0,
             "ticks": ""
            },
            "colorscale": [
             [
              0,
              "#0d0887"
             ],
             [
              0.1111111111111111,
              "#46039f"
             ],
             [
              0.2222222222222222,
              "#7201a8"
             ],
             [
              0.3333333333333333,
              "#9c179e"
             ],
             [
              0.4444444444444444,
              "#bd3786"
             ],
             [
              0.5555555555555556,
              "#d8576b"
             ],
             [
              0.6666666666666666,
              "#ed7953"
             ],
             [
              0.7777777777777778,
              "#fb9f3a"
             ],
             [
              0.8888888888888888,
              "#fdca26"
             ],
             [
              1,
              "#f0f921"
             ]
            ],
            "type": "heatmapgl"
           }
          ],
          "histogram": [
           {
            "marker": {
             "colorbar": {
              "outlinewidth": 0,
              "ticks": ""
             }
            },
            "type": "histogram"
           }
          ],
          "histogram2d": [
           {
            "colorbar": {
             "outlinewidth": 0,
             "ticks": ""
            },
            "colorscale": [
             [
              0,
              "#0d0887"
             ],
             [
              0.1111111111111111,
              "#46039f"
             ],
             [
              0.2222222222222222,
              "#7201a8"
             ],
             [
              0.3333333333333333,
              "#9c179e"
             ],
             [
              0.4444444444444444,
              "#bd3786"
             ],
             [
              0.5555555555555556,
              "#d8576b"
             ],
             [
              0.6666666666666666,
              "#ed7953"
             ],
             [
              0.7777777777777778,
              "#fb9f3a"
             ],
             [
              0.8888888888888888,
              "#fdca26"
             ],
             [
              1,
              "#f0f921"
             ]
            ],
            "type": "histogram2d"
           }
          ],
          "histogram2dcontour": [
           {
            "colorbar": {
             "outlinewidth": 0,
             "ticks": ""
            },
            "colorscale": [
             [
              0,
              "#0d0887"
             ],
             [
              0.1111111111111111,
              "#46039f"
             ],
             [
              0.2222222222222222,
              "#7201a8"
             ],
             [
              0.3333333333333333,
              "#9c179e"
             ],
             [
              0.4444444444444444,
              "#bd3786"
             ],
             [
              0.5555555555555556,
              "#d8576b"
             ],
             [
              0.6666666666666666,
              "#ed7953"
             ],
             [
              0.7777777777777778,
              "#fb9f3a"
             ],
             [
              0.8888888888888888,
              "#fdca26"
             ],
             [
              1,
              "#f0f921"
             ]
            ],
            "type": "histogram2dcontour"
           }
          ],
          "mesh3d": [
           {
            "colorbar": {
             "outlinewidth": 0,
             "ticks": ""
            },
            "type": "mesh3d"
           }
          ],
          "parcoords": [
           {
            "line": {
             "colorbar": {
              "outlinewidth": 0,
              "ticks": ""
             }
            },
            "type": "parcoords"
           }
          ],
          "pie": [
           {
            "automargin": true,
            "type": "pie"
           }
          ],
          "scatter": [
           {
            "marker": {
             "colorbar": {
              "outlinewidth": 0,
              "ticks": ""
             }
            },
            "type": "scatter"
           }
          ],
          "scatter3d": [
           {
            "line": {
             "colorbar": {
              "outlinewidth": 0,
              "ticks": ""
             }
            },
            "marker": {
             "colorbar": {
              "outlinewidth": 0,
              "ticks": ""
             }
            },
            "type": "scatter3d"
           }
          ],
          "scattercarpet": [
           {
            "marker": {
             "colorbar": {
              "outlinewidth": 0,
              "ticks": ""
             }
            },
            "type": "scattercarpet"
           }
          ],
          "scattergeo": [
           {
            "marker": {
             "colorbar": {
              "outlinewidth": 0,
              "ticks": ""
             }
            },
            "type": "scattergeo"
           }
          ],
          "scattergl": [
           {
            "marker": {
             "colorbar": {
              "outlinewidth": 0,
              "ticks": ""
             }
            },
            "type": "scattergl"
           }
          ],
          "scattermapbox": [
           {
            "marker": {
             "colorbar": {
              "outlinewidth": 0,
              "ticks": ""
             }
            },
            "type": "scattermapbox"
           }
          ],
          "scatterpolar": [
           {
            "marker": {
             "colorbar": {
              "outlinewidth": 0,
              "ticks": ""
             }
            },
            "type": "scatterpolar"
           }
          ],
          "scatterpolargl": [
           {
            "marker": {
             "colorbar": {
              "outlinewidth": 0,
              "ticks": ""
             }
            },
            "type": "scatterpolargl"
           }
          ],
          "scatterternary": [
           {
            "marker": {
             "colorbar": {
              "outlinewidth": 0,
              "ticks": ""
             }
            },
            "type": "scatterternary"
           }
          ],
          "surface": [
           {
            "colorbar": {
             "outlinewidth": 0,
             "ticks": ""
            },
            "colorscale": [
             [
              0,
              "#0d0887"
             ],
             [
              0.1111111111111111,
              "#46039f"
             ],
             [
              0.2222222222222222,
              "#7201a8"
             ],
             [
              0.3333333333333333,
              "#9c179e"
             ],
             [
              0.4444444444444444,
              "#bd3786"
             ],
             [
              0.5555555555555556,
              "#d8576b"
             ],
             [
              0.6666666666666666,
              "#ed7953"
             ],
             [
              0.7777777777777778,
              "#fb9f3a"
             ],
             [
              0.8888888888888888,
              "#fdca26"
             ],
             [
              1,
              "#f0f921"
             ]
            ],
            "type": "surface"
           }
          ],
          "table": [
           {
            "cells": {
             "fill": {
              "color": "#EBF0F8"
             },
             "line": {
              "color": "white"
             }
            },
            "header": {
             "fill": {
              "color": "#C8D4E3"
             },
             "line": {
              "color": "white"
             }
            },
            "type": "table"
           }
          ]
         },
         "layout": {
          "annotationdefaults": {
           "arrowcolor": "#2a3f5f",
           "arrowhead": 0,
           "arrowwidth": 1
          },
          "autotypenumbers": "strict",
          "coloraxis": {
           "colorbar": {
            "outlinewidth": 0,
            "ticks": ""
           }
          },
          "colorscale": {
           "diverging": [
            [
             0,
             "#8e0152"
            ],
            [
             0.1,
             "#c51b7d"
            ],
            [
             0.2,
             "#de77ae"
            ],
            [
             0.3,
             "#f1b6da"
            ],
            [
             0.4,
             "#fde0ef"
            ],
            [
             0.5,
             "#f7f7f7"
            ],
            [
             0.6,
             "#e6f5d0"
            ],
            [
             0.7,
             "#b8e186"
            ],
            [
             0.8,
             "#7fbc41"
            ],
            [
             0.9,
             "#4d9221"
            ],
            [
             1,
             "#276419"
            ]
           ],
           "sequential": [
            [
             0,
             "#0d0887"
            ],
            [
             0.1111111111111111,
             "#46039f"
            ],
            [
             0.2222222222222222,
             "#7201a8"
            ],
            [
             0.3333333333333333,
             "#9c179e"
            ],
            [
             0.4444444444444444,
             "#bd3786"
            ],
            [
             0.5555555555555556,
             "#d8576b"
            ],
            [
             0.6666666666666666,
             "#ed7953"
            ],
            [
             0.7777777777777778,
             "#fb9f3a"
            ],
            [
             0.8888888888888888,
             "#fdca26"
            ],
            [
             1,
             "#f0f921"
            ]
           ],
           "sequentialminus": [
            [
             0,
             "#0d0887"
            ],
            [
             0.1111111111111111,
             "#46039f"
            ],
            [
             0.2222222222222222,
             "#7201a8"
            ],
            [
             0.3333333333333333,
             "#9c179e"
            ],
            [
             0.4444444444444444,
             "#bd3786"
            ],
            [
             0.5555555555555556,
             "#d8576b"
            ],
            [
             0.6666666666666666,
             "#ed7953"
            ],
            [
             0.7777777777777778,
             "#fb9f3a"
            ],
            [
             0.8888888888888888,
             "#fdca26"
            ],
            [
             1,
             "#f0f921"
            ]
           ]
          },
          "colorway": [
           "#636efa",
           "#EF553B",
           "#00cc96",
           "#ab63fa",
           "#FFA15A",
           "#19d3f3",
           "#FF6692",
           "#B6E880",
           "#FF97FF",
           "#FECB52"
          ],
          "font": {
           "color": "#2a3f5f"
          },
          "geo": {
           "bgcolor": "white",
           "lakecolor": "white",
           "landcolor": "#E5ECF6",
           "showlakes": true,
           "showland": true,
           "subunitcolor": "white"
          },
          "hoverlabel": {
           "align": "left"
          },
          "hovermode": "closest",
          "mapbox": {
           "style": "light"
          },
          "paper_bgcolor": "white",
          "plot_bgcolor": "#E5ECF6",
          "polar": {
           "angularaxis": {
            "gridcolor": "white",
            "linecolor": "white",
            "ticks": ""
           },
           "bgcolor": "#E5ECF6",
           "radialaxis": {
            "gridcolor": "white",
            "linecolor": "white",
            "ticks": ""
           }
          },
          "scene": {
           "xaxis": {
            "backgroundcolor": "#E5ECF6",
            "gridcolor": "white",
            "gridwidth": 2,
            "linecolor": "white",
            "showbackground": true,
            "ticks": "",
            "zerolinecolor": "white"
           },
           "yaxis": {
            "backgroundcolor": "#E5ECF6",
            "gridcolor": "white",
            "gridwidth": 2,
            "linecolor": "white",
            "showbackground": true,
            "ticks": "",
            "zerolinecolor": "white"
           },
           "zaxis": {
            "backgroundcolor": "#E5ECF6",
            "gridcolor": "white",
            "gridwidth": 2,
            "linecolor": "white",
            "showbackground": true,
            "ticks": "",
            "zerolinecolor": "white"
           }
          },
          "shapedefaults": {
           "line": {
            "color": "#2a3f5f"
           }
          },
          "ternary": {
           "aaxis": {
            "gridcolor": "white",
            "linecolor": "white",
            "ticks": ""
           },
           "baxis": {
            "gridcolor": "white",
            "linecolor": "white",
            "ticks": ""
           },
           "bgcolor": "#E5ECF6",
           "caxis": {
            "gridcolor": "white",
            "linecolor": "white",
            "ticks": ""
           }
          },
          "title": {
           "x": 0.05
          },
          "xaxis": {
           "automargin": true,
           "gridcolor": "white",
           "linecolor": "white",
           "ticks": "",
           "title": {
            "standoff": 15
           },
           "zerolinecolor": "white",
           "zerolinewidth": 2
          },
          "yaxis": {
           "automargin": true,
           "gridcolor": "white",
           "linecolor": "white",
           "ticks": "",
           "title": {
            "standoff": 15
           },
           "zerolinecolor": "white",
           "zerolinewidth": 2
          }
         }
        },
        "title": {
         "font": {
          "color": "#4D5663"
         }
        },
        "xaxis": {
         "gridcolor": "#E1E5ED",
         "showgrid": true,
         "tickfont": {
          "color": "#4D5663"
         },
         "title": {
          "font": {
           "color": "#4D5663"
          },
          "text": ""
         },
         "zerolinecolor": "#E1E5ED"
        },
        "yaxis": {
         "gridcolor": "#E1E5ED",
         "showgrid": true,
         "tickfont": {
          "color": "#4D5663"
         },
         "title": {
          "font": {
           "color": "#4D5663"
          },
          "text": ""
         },
         "zerolinecolor": "#E1E5ED"
        }
       }
      },
      "text/html": [
       "<div>                            <div id=\"6391e362-0d4a-4e81-a1e1-f657bb92acea\" class=\"plotly-graph-div\" style=\"height:525px; width:100%;\"></div>            <script type=\"text/javascript\">                require([\"plotly\"], function(Plotly) {                    window.PLOTLYENV=window.PLOTLYENV || {};\n",
       "                    window.PLOTLYENV.BASE_URL='https://plot.ly';                                    if (document.getElementById(\"6391e362-0d4a-4e81-a1e1-f657bb92acea\")) {                    Plotly.newPlot(                        \"6391e362-0d4a-4e81-a1e1-f657bb92acea\",                        [{\"colorscale\": [[0.0, \"rgb(255, 153, 51)\"], [0.1111111111111111, \"rgb(55, 128, 191)\"], [0.2222222222222222, \"rgb(50, 171, 96)\"], [0.3333333333333333, \"rgb(128, 0, 128)\"], [0.4444444444444444, \"rgb(219, 64, 82)\"], [0.5555555555555556, \"rgb(0, 128, 128)\"], [0.6666666666666666, \"rgb(255, 255, 51)\"], [0.7777777777777778, \"rgb(128, 128, 0)\"], [0.8888888888888888, \"rgb(251, 128, 114)\"], [1.0, \"rgb(128, 177, 211)\"]], \"type\": \"surface\", \"x\": [0, 1, 2, 3, 4], \"y\": [\"x\", \"y\", \"z\"], \"z\": [[1, 2, 3, 4, 5], [10, 20, 30, 20, 10], [5, 4, 3, 2, 1]]}],                        {\"legend\": {\"bgcolor\": \"#F5F6F9\", \"font\": {\"color\": \"#4D5663\"}}, \"paper_bgcolor\": \"#F5F6F9\", \"plot_bgcolor\": \"#F5F6F9\", \"template\": {\"data\": {\"bar\": [{\"error_x\": {\"color\": \"#2a3f5f\"}, \"error_y\": {\"color\": \"#2a3f5f\"}, \"marker\": {\"line\": {\"color\": \"#E5ECF6\", \"width\": 0.5}}, \"type\": \"bar\"}], \"barpolar\": [{\"marker\": {\"line\": {\"color\": \"#E5ECF6\", \"width\": 0.5}}, \"type\": \"barpolar\"}], \"carpet\": [{\"aaxis\": {\"endlinecolor\": \"#2a3f5f\", \"gridcolor\": \"white\", \"linecolor\": \"white\", \"minorgridcolor\": \"white\", \"startlinecolor\": \"#2a3f5f\"}, \"baxis\": {\"endlinecolor\": \"#2a3f5f\", \"gridcolor\": \"white\", \"linecolor\": \"white\", \"minorgridcolor\": \"white\", \"startlinecolor\": \"#2a3f5f\"}, \"type\": \"carpet\"}], \"choropleth\": [{\"colorbar\": {\"outlinewidth\": 0, \"ticks\": \"\"}, \"type\": \"choropleth\"}], \"contour\": [{\"colorbar\": {\"outlinewidth\": 0, \"ticks\": \"\"}, \"colorscale\": [[0.0, \"#0d0887\"], [0.1111111111111111, \"#46039f\"], [0.2222222222222222, \"#7201a8\"], [0.3333333333333333, \"#9c179e\"], [0.4444444444444444, \"#bd3786\"], [0.5555555555555556, \"#d8576b\"], [0.6666666666666666, \"#ed7953\"], [0.7777777777777778, \"#fb9f3a\"], [0.8888888888888888, \"#fdca26\"], [1.0, \"#f0f921\"]], \"type\": \"contour\"}], \"contourcarpet\": [{\"colorbar\": {\"outlinewidth\": 0, \"ticks\": \"\"}, \"type\": \"contourcarpet\"}], \"heatmap\": [{\"colorbar\": {\"outlinewidth\": 0, \"ticks\": \"\"}, \"colorscale\": [[0.0, \"#0d0887\"], [0.1111111111111111, \"#46039f\"], [0.2222222222222222, \"#7201a8\"], [0.3333333333333333, \"#9c179e\"], [0.4444444444444444, \"#bd3786\"], [0.5555555555555556, \"#d8576b\"], [0.6666666666666666, \"#ed7953\"], [0.7777777777777778, \"#fb9f3a\"], [0.8888888888888888, \"#fdca26\"], [1.0, \"#f0f921\"]], \"type\": \"heatmap\"}], \"heatmapgl\": [{\"colorbar\": {\"outlinewidth\": 0, \"ticks\": \"\"}, \"colorscale\": [[0.0, \"#0d0887\"], [0.1111111111111111, \"#46039f\"], [0.2222222222222222, \"#7201a8\"], [0.3333333333333333, \"#9c179e\"], [0.4444444444444444, \"#bd3786\"], [0.5555555555555556, \"#d8576b\"], [0.6666666666666666, \"#ed7953\"], [0.7777777777777778, \"#fb9f3a\"], [0.8888888888888888, \"#fdca26\"], [1.0, \"#f0f921\"]], \"type\": \"heatmapgl\"}], \"histogram\": [{\"marker\": {\"colorbar\": {\"outlinewidth\": 0, \"ticks\": \"\"}}, \"type\": \"histogram\"}], \"histogram2d\": [{\"colorbar\": {\"outlinewidth\": 0, \"ticks\": \"\"}, \"colorscale\": [[0.0, \"#0d0887\"], [0.1111111111111111, \"#46039f\"], [0.2222222222222222, \"#7201a8\"], [0.3333333333333333, \"#9c179e\"], [0.4444444444444444, \"#bd3786\"], [0.5555555555555556, \"#d8576b\"], [0.6666666666666666, \"#ed7953\"], [0.7777777777777778, \"#fb9f3a\"], [0.8888888888888888, \"#fdca26\"], [1.0, \"#f0f921\"]], \"type\": \"histogram2d\"}], \"histogram2dcontour\": [{\"colorbar\": {\"outlinewidth\": 0, \"ticks\": \"\"}, \"colorscale\": [[0.0, \"#0d0887\"], [0.1111111111111111, \"#46039f\"], [0.2222222222222222, \"#7201a8\"], [0.3333333333333333, \"#9c179e\"], [0.4444444444444444, \"#bd3786\"], [0.5555555555555556, \"#d8576b\"], [0.6666666666666666, \"#ed7953\"], [0.7777777777777778, \"#fb9f3a\"], [0.8888888888888888, \"#fdca26\"], [1.0, \"#f0f921\"]], \"type\": \"histogram2dcontour\"}], \"mesh3d\": [{\"colorbar\": {\"outlinewidth\": 0, \"ticks\": \"\"}, \"type\": \"mesh3d\"}], \"parcoords\": [{\"line\": {\"colorbar\": {\"outlinewidth\": 0, \"ticks\": \"\"}}, \"type\": \"parcoords\"}], \"pie\": [{\"automargin\": true, \"type\": \"pie\"}], \"scatter\": [{\"marker\": {\"colorbar\": {\"outlinewidth\": 0, \"ticks\": \"\"}}, \"type\": \"scatter\"}], \"scatter3d\": [{\"line\": {\"colorbar\": {\"outlinewidth\": 0, \"ticks\": \"\"}}, \"marker\": {\"colorbar\": {\"outlinewidth\": 0, \"ticks\": \"\"}}, \"type\": \"scatter3d\"}], \"scattercarpet\": [{\"marker\": {\"colorbar\": {\"outlinewidth\": 0, \"ticks\": \"\"}}, \"type\": \"scattercarpet\"}], \"scattergeo\": [{\"marker\": {\"colorbar\": {\"outlinewidth\": 0, \"ticks\": \"\"}}, \"type\": \"scattergeo\"}], \"scattergl\": [{\"marker\": {\"colorbar\": {\"outlinewidth\": 0, \"ticks\": \"\"}}, \"type\": \"scattergl\"}], \"scattermapbox\": [{\"marker\": {\"colorbar\": {\"outlinewidth\": 0, \"ticks\": \"\"}}, \"type\": \"scattermapbox\"}], \"scatterpolar\": [{\"marker\": {\"colorbar\": {\"outlinewidth\": 0, \"ticks\": \"\"}}, \"type\": \"scatterpolar\"}], \"scatterpolargl\": [{\"marker\": {\"colorbar\": {\"outlinewidth\": 0, \"ticks\": \"\"}}, \"type\": \"scatterpolargl\"}], \"scatterternary\": [{\"marker\": {\"colorbar\": {\"outlinewidth\": 0, \"ticks\": \"\"}}, \"type\": \"scatterternary\"}], \"surface\": [{\"colorbar\": {\"outlinewidth\": 0, \"ticks\": \"\"}, \"colorscale\": [[0.0, \"#0d0887\"], [0.1111111111111111, \"#46039f\"], [0.2222222222222222, \"#7201a8\"], [0.3333333333333333, \"#9c179e\"], [0.4444444444444444, \"#bd3786\"], [0.5555555555555556, \"#d8576b\"], [0.6666666666666666, \"#ed7953\"], [0.7777777777777778, \"#fb9f3a\"], [0.8888888888888888, \"#fdca26\"], [1.0, \"#f0f921\"]], \"type\": \"surface\"}], \"table\": [{\"cells\": {\"fill\": {\"color\": \"#EBF0F8\"}, \"line\": {\"color\": \"white\"}}, \"header\": {\"fill\": {\"color\": \"#C8D4E3\"}, \"line\": {\"color\": \"white\"}}, \"type\": \"table\"}]}, \"layout\": {\"annotationdefaults\": {\"arrowcolor\": \"#2a3f5f\", \"arrowhead\": 0, \"arrowwidth\": 1}, \"autotypenumbers\": \"strict\", \"coloraxis\": {\"colorbar\": {\"outlinewidth\": 0, \"ticks\": \"\"}}, \"colorscale\": {\"diverging\": [[0, \"#8e0152\"], [0.1, \"#c51b7d\"], [0.2, \"#de77ae\"], [0.3, \"#f1b6da\"], [0.4, \"#fde0ef\"], [0.5, \"#f7f7f7\"], [0.6, \"#e6f5d0\"], [0.7, \"#b8e186\"], [0.8, \"#7fbc41\"], [0.9, \"#4d9221\"], [1, \"#276419\"]], \"sequential\": [[0.0, \"#0d0887\"], [0.1111111111111111, \"#46039f\"], [0.2222222222222222, \"#7201a8\"], [0.3333333333333333, \"#9c179e\"], [0.4444444444444444, \"#bd3786\"], [0.5555555555555556, \"#d8576b\"], [0.6666666666666666, \"#ed7953\"], [0.7777777777777778, \"#fb9f3a\"], [0.8888888888888888, \"#fdca26\"], [1.0, \"#f0f921\"]], \"sequentialminus\": [[0.0, \"#0d0887\"], [0.1111111111111111, \"#46039f\"], [0.2222222222222222, \"#7201a8\"], [0.3333333333333333, \"#9c179e\"], [0.4444444444444444, \"#bd3786\"], [0.5555555555555556, \"#d8576b\"], [0.6666666666666666, \"#ed7953\"], [0.7777777777777778, \"#fb9f3a\"], [0.8888888888888888, \"#fdca26\"], [1.0, \"#f0f921\"]]}, \"colorway\": [\"#636efa\", \"#EF553B\", \"#00cc96\", \"#ab63fa\", \"#FFA15A\", \"#19d3f3\", \"#FF6692\", \"#B6E880\", \"#FF97FF\", \"#FECB52\"], \"font\": {\"color\": \"#2a3f5f\"}, \"geo\": {\"bgcolor\": \"white\", \"lakecolor\": \"white\", \"landcolor\": \"#E5ECF6\", \"showlakes\": true, \"showland\": true, \"subunitcolor\": \"white\"}, \"hoverlabel\": {\"align\": \"left\"}, \"hovermode\": \"closest\", \"mapbox\": {\"style\": \"light\"}, \"paper_bgcolor\": \"white\", \"plot_bgcolor\": \"#E5ECF6\", \"polar\": {\"angularaxis\": {\"gridcolor\": \"white\", \"linecolor\": \"white\", \"ticks\": \"\"}, \"bgcolor\": \"#E5ECF6\", \"radialaxis\": {\"gridcolor\": \"white\", \"linecolor\": \"white\", \"ticks\": \"\"}}, \"scene\": {\"xaxis\": {\"backgroundcolor\": \"#E5ECF6\", \"gridcolor\": \"white\", \"gridwidth\": 2, \"linecolor\": \"white\", \"showbackground\": true, \"ticks\": \"\", \"zerolinecolor\": \"white\"}, \"yaxis\": {\"backgroundcolor\": \"#E5ECF6\", \"gridcolor\": \"white\", \"gridwidth\": 2, \"linecolor\": \"white\", \"showbackground\": true, \"ticks\": \"\", \"zerolinecolor\": \"white\"}, \"zaxis\": {\"backgroundcolor\": \"#E5ECF6\", \"gridcolor\": \"white\", \"gridwidth\": 2, \"linecolor\": \"white\", \"showbackground\": true, \"ticks\": \"\", \"zerolinecolor\": \"white\"}}, \"shapedefaults\": {\"line\": {\"color\": \"#2a3f5f\"}}, \"ternary\": {\"aaxis\": {\"gridcolor\": \"white\", \"linecolor\": \"white\", \"ticks\": \"\"}, \"baxis\": {\"gridcolor\": \"white\", \"linecolor\": \"white\", \"ticks\": \"\"}, \"bgcolor\": \"#E5ECF6\", \"caxis\": {\"gridcolor\": \"white\", \"linecolor\": \"white\", \"ticks\": \"\"}}, \"title\": {\"x\": 0.05}, \"xaxis\": {\"automargin\": true, \"gridcolor\": \"white\", \"linecolor\": \"white\", \"ticks\": \"\", \"title\": {\"standoff\": 15}, \"zerolinecolor\": \"white\", \"zerolinewidth\": 2}, \"yaxis\": {\"automargin\": true, \"gridcolor\": \"white\", \"linecolor\": \"white\", \"ticks\": \"\", \"title\": {\"standoff\": 15}, \"zerolinecolor\": \"white\", \"zerolinewidth\": 2}}}, \"title\": {\"font\": {\"color\": \"#4D5663\"}}, \"xaxis\": {\"gridcolor\": \"#E1E5ED\", \"showgrid\": true, \"tickfont\": {\"color\": \"#4D5663\"}, \"title\": {\"font\": {\"color\": \"#4D5663\"}, \"text\": \"\"}, \"zerolinecolor\": \"#E1E5ED\"}, \"yaxis\": {\"gridcolor\": \"#E1E5ED\", \"showgrid\": true, \"tickfont\": {\"color\": \"#4D5663\"}, \"title\": {\"font\": {\"color\": \"#4D5663\"}, \"text\": \"\"}, \"zerolinecolor\": \"#E1E5ED\"}},                        {\"showLink\": true, \"linkText\": \"Export to plot.ly\", \"plotlyServerURL\": \"https://plot.ly\", \"responsive\": true}                    ).then(function(){\n",
       "                            \n",
       "var gd = document.getElementById('6391e362-0d4a-4e81-a1e1-f657bb92acea');\n",
       "var x = new MutationObserver(function (mutations, observer) {{\n",
       "        var display = window.getComputedStyle(gd).display;\n",
       "        if (!display || display === 'none') {{\n",
       "            console.log([gd, 'removed!']);\n",
       "            Plotly.purge(gd);\n",
       "            observer.disconnect();\n",
       "        }}\n",
       "}});\n",
       "\n",
       "// Listen for the removal of the full notebook cells\n",
       "var notebookContainer = gd.closest('#notebook-container');\n",
       "if (notebookContainer) {{\n",
       "    x.observe(notebookContainer, {childList: true});\n",
       "}}\n",
       "\n",
       "// Listen for the clearing of the current output cell\n",
       "var outputEl = gd.closest('.output');\n",
       "if (outputEl) {{\n",
       "    x.observe(outputEl, {childList: true});\n",
       "}}\n",
       "\n",
       "                        })                };                });            </script>        </div>"
      ]
     },
     "metadata": {},
     "output_type": "display_data"
    }
   ],
   "source": [
    "df3.iplot(kind='surface')"
   ]
  },
  {
   "cell_type": "code",
   "execution_count": 42,
   "metadata": {},
   "outputs": [
    {
     "data": {
      "application/vnd.plotly.v1+json": {
       "config": {
        "linkText": "Export to plot.ly",
        "plotlyServerURL": "https://plot.ly",
        "showLink": true
       },
       "data": [
        {
         "histfunc": "count",
         "histnorm": "",
         "marker": {
          "color": "rgba(255, 153, 51, 1.0)",
          "line": {
           "color": "#4D5663",
           "width": 1.3
          }
         },
         "name": "A",
         "opacity": 0.8,
         "orientation": "v",
         "type": "histogram",
         "x": [
          -1.9722087496969223,
          -0.011671936731851002,
          -1.581095695462608,
          -0.34655125540727333,
          -2.477227183550656,
          1.0941645349574753,
          1.0229529172073148,
          -0.2598830879365222,
          -0.03408300204513225,
          0.316552878256426,
          -0.9560391300790448,
          0.03686863729565844,
          -1.057002166096782,
          1.1269640029188206,
          -2.9267062941867423,
          -0.746704279766539,
          0.05041994672178217,
          0.48710115962661305,
          0.4411562042292949,
          1.9586541598607206,
          -1.1264446501035439,
          -0.8893264007516325,
          -0.912797025545708,
          -0.6764986758310823,
          0.060741922825052995,
          -1.8449685175213293,
          -0.2581939666458554,
          -1.0845735336268134,
          1.3092149762046064,
          -0.3066644272536902,
          2.6272020454447893,
          1.9776080885194243,
          0.5668461448153023,
          0.14871793417682036,
          0.5589477908589175,
          1.569395013601064,
          0.6903765899355268,
          -0.9624507753100264,
          -1.1982377774156872,
          0.3460526200922986,
          -1.5813823853788058,
          -0.060380627009908705,
          -0.45301810031688394,
          -0.8874355334946187,
          -0.08069904562752264,
          0.9892325935849244,
          -0.4402405812651847,
          0.9062225085353147,
          0.051935187991758267,
          -0.7749692187429894,
          0.20663577894552076,
          -2.6432173202033327,
          0.428142633290837,
          0.28064340537672056,
          0.49998815039368866,
          -2.282375457843157,
          -0.2636867903407214,
          -0.8818468535001559,
          -0.3507863058950262,
          -0.3459010474609139,
          -0.2537435919563658,
          0.7534214071578663,
          -0.9475830799767535,
          -1.275468885966171,
          -1.0661714834592064,
          -0.9048886981411098,
          0.25326937641655517,
          2.1839204484406034,
          -0.8272174280292035,
          -0.4645040193133396,
          0.8445505137052899,
          0.36733557594376404,
          -0.21495587739570762,
          -0.2147215789481739,
          -1.014567110997098,
          -0.5200774799937841,
          -0.6299002021429765,
          -0.018567917997282603,
          -1.0129723040910823,
          -1.244448617322104,
          0.9101942921335867,
          0.14653083392106686,
          -0.4696844835441938,
          0.25679717959833154,
          -0.26913999204070016,
          0.49298478979236415,
          -1.7553400104436443,
          -0.32567192940690426,
          0.4963013251259451,
          0.33715228833004396,
          -0.48702644670754175,
          0.583173722625296,
          -0.13151299514984052,
          -0.17277039856468238,
          -0.3932252217320785,
          1.747981066541866,
          1.2996522287381982,
          0.17177685124461037,
          0.942376140480576,
          -1.4875548956939744
         ]
        },
        {
         "histfunc": "count",
         "histnorm": "",
         "marker": {
          "color": "rgba(55, 128, 191, 1.0)",
          "line": {
           "color": "#4D5663",
           "width": 1.3
          }
         },
         "name": "B",
         "opacity": 0.8,
         "orientation": "v",
         "type": "histogram",
         "x": [
          -0.15467443438003167,
          -1.103714486619362,
          -0.0541684553591224,
          0.41422239107560715,
          -0.47311978978456737,
          0.08890758298241469,
          0.6542883889705488,
          0.1526791972817478,
          -1.0761625495932814,
          0.4108953551780461,
          0.8849114941005151,
          -1.7404564207865973,
          -0.2834726233350443,
          -0.7225958554493189,
          -0.3360213951887905,
          -0.43360752963912125,
          -0.28610770283411324,
          0.5140475923376779,
          0.6498272394533989,
          -0.1880381648673378,
          3.029906110373341,
          -0.655023507621413,
          -0.29993908275112585,
          0.17257175369280023,
          -0.8252449189026975,
          -0.5068002853772337,
          0.7260798014189815,
          -0.3890204893183104,
          -0.42350519981926266,
          -0.9830897847082721,
          -0.745081495310831,
          0.5885934793538804,
          1.3819602740760888,
          -0.6052431371727914,
          -0.795447989408926,
          -0.36279193604862736,
          0.6507982198529062,
          0.26554271337673624,
          0.4278905943406648,
          0.7667337976267404,
          -1.009477598035802,
          1.7868695252714277,
          0.07238439431084817,
          -0.2921642502366185,
          0.8037729291547354,
          -0.2997123802579395,
          0.5540178206043035,
          0.4378922178605772,
          0.516907689763789,
          -0.7489107442737745,
          0.3042169050027822,
          -1.2286144224027291,
          -1.4768661895797555,
          -0.5706672119608341,
          1.4961773942937893,
          -0.15560187954158308,
          0.03247288091238335,
          0.3121279723427983,
          1.2036174628101248,
          -1.8149602214495568,
          -0.25267277264871385,
          -0.31891897183935325,
          -0.47381322603680753,
          0.9177839120362744,
          -0.6619439676220062,
          -0.22228104761216375,
          0.5167188779834639,
          -0.5886601441588484,
          -0.49111226630245897,
          0.2442643888637009,
          -0.04507916296916212,
          0.9049845080788567,
          0.49394996349843406,
          0.202128923957163,
          0.9149650220094239,
          0.20786740242860877,
          1.2558499203678959,
          -0.8882369239533632,
          -0.5665994304015882,
          -2.52713736735959,
          -0.40202525070563416,
          0.42337816477791873,
          2.930189646869836,
          -0.29870561060645767,
          1.0259894736560005,
          -0.5434596778354565,
          -0.48187202723754213,
          -0.7849654446928984,
          0.5354112571672852,
          -0.12100382967481559,
          -1.288362701278329,
          -1.3144891120780753,
          -0.3190835777670386,
          -0.9499938842804496,
          -1.3683098023592501,
          -0.4998233472993743,
          0.47028413887107634,
          0.7786479452061807,
          -0.7357339189416259,
          -1.3464941644058384
         ]
        },
        {
         "histfunc": "count",
         "histnorm": "",
         "marker": {
          "color": "rgba(50, 171, 96, 1.0)",
          "line": {
           "color": "#4D5663",
           "width": 1.3
          }
         },
         "name": "C",
         "opacity": 0.8,
         "orientation": "v",
         "type": "histogram",
         "x": [
          0.08036546985632058,
          -1.1803155619663286,
          1.882445236348399,
          1.1349992260603332,
          -1.5575608308528395,
          -0.1527564653318407,
          -0.2961188984253155,
          -0.026937775969907905,
          -1.272905763155189,
          -0.8549352977883783,
          -1.281847057260825,
          -2.1210640768169333,
          1.6893630865327454,
          -0.017578634697911624,
          -2.1020556307911615,
          0.0361393847450922,
          0.43746097392298783,
          0.032676108775102256,
          -0.09844484635896847,
          -0.27085031154451733,
          -0.733682783176024,
          -0.5705352930326113,
          1.2726524082477522,
          1.139118304742565,
          -0.11064228540091595,
          0.2208218083646103,
          0.6867117699875392,
          0.847024875757954,
          -0.03593499862944182,
          0.962558874587534,
          -0.1188249528546015,
          -0.13773714151826094,
          0.45722579151212817,
          -0.34509916618804953,
          1.1844240688176957,
          -0.19633186981606932,
          -0.7862381639616858,
          1.07559665304353,
          1.4480044078476682,
          1.3654346413378435,
          0.681486730473982,
          0.3383458494068617,
          0.7739998117437695,
          -2.220518442027511,
          -1.6675281060620841,
          -0.1064622488395936,
          -0.7380040394225079,
          -0.5486295217974224,
          -0.8342851154825762,
          0.026766363250262055,
          -0.35301171647407226,
          -0.5579776604277544,
          0.09076406349955296,
          -3.4553709450226386,
          0.42250861039899773,
          -0.6316855409000489,
          0.3271975344870533,
          -2.1169700697305354,
          0.9962451550083548,
          -0.7109591216011675,
          -0.046305530851667644,
          1.637218972882313,
          0.08862159816983804,
          -2.131416983846675,
          -0.40077384108346514,
          -0.8231628591052247,
          -0.1374738716032662,
          -1.4636837083336742,
          0.5472867160388108,
          -0.3775955732256513,
          -0.9218552005147901,
          0.43162654815156065,
          -0.08272021026159287,
          0.7126733858239472,
          1.447354762450443,
          -0.02446321498869171,
          0.399983377804818,
          0.759018420519252,
          -0.22801770574102007,
          0.5927528149081085,
          0.38592588849566395,
          -0.5702766186066185,
          -0.7624535972326412,
          1.285628408186062,
          -0.667138216464985,
          -1.133126898002318,
          1.4621189512665256,
          -0.38156381185423577,
          1.3007360231295444,
          -1.242078435474785,
          0.8316549080676471,
          -1.449271121165556,
          1.1220898286898993,
          -0.2972658671592852,
          -0.08960631746997277,
          0.2617264232895819,
          -1.5757729109547811,
          -0.14208364014828903,
          0.32389404113691356,
          -0.33948227156482397
         ]
        },
        {
         "histfunc": "count",
         "histnorm": "",
         "marker": {
          "color": "rgba(128, 0, 128, 1.0)",
          "line": {
           "color": "#4D5663",
           "width": 1.3
          }
         },
         "name": "D",
         "opacity": 0.8,
         "orientation": "v",
         "type": "histogram",
         "x": [
          0.2099912171818562,
          -1.1990577012263692,
          -0.10108308904370543,
          0.8112918719255539,
          0.8313292393664062,
          -0.1609187788658841,
          -1.2892556331200071,
          0.9732044973804842,
          -1.1028627677307659,
          2.59152389882196,
          1.8278949849904982,
          0.09666258307375825,
          -1.8698416412189955,
          -0.4667341426156331,
          1.4031952918004071,
          -0.6303345038130095,
          0.22875513735396286,
          -0.6052468375175506,
          -1.0033180221842917,
          -0.23701021798356048,
          0.26034119125003896,
          2.273447162989823,
          -0.7364967757641886,
          -0.7212268788942579,
          1.4032812419505187,
          -1.657082576262926,
          1.2980658002357384,
          -0.6299324027125981,
          -0.1545833811130906,
          -0.5825103619109648,
          0.6928695396899978,
          -0.5133582454624704,
          -0.2913421611333826,
          -1.6635086452655068,
          -0.2020484429785352,
          0.6856592512667734,
          0.5239777192162516,
          -0.7065993959550226,
          -0.5098123119401131,
          0.1641257050238636,
          -0.29725165110797663,
          1.5528862134289545,
          0.24750879328359607,
          0.4805183246295481,
          -0.41749943539773393,
          1.7702402084916669,
          0.09658312042565893,
          -0.08997675886994944,
          0.3285274976468807,
          1.247695297338725,
          1.495774506601597,
          1.069691061446215,
          0.7552018458688805,
          0.2281391096504319,
          1.2789791912760797,
          -1.8295558769667868,
          0.11636660987779016,
          -0.2229977057008248,
          0.6033630281600153,
          0.35992973484009283,
          -1.5823384178952768,
          -0.1468527788638083,
          0.14460305750459343,
          -0.8494544248877588,
          0.7275331259041663,
          -1.1586340637121935,
          -0.041287814093800224,
          0.9280295950246412,
          0.3810274945493502,
          0.5498487750737486,
          0.22177455039431346,
          -0.5834077247799289,
          -1.1329855240956723,
          1.2252793444619456,
          -1.409537567130078,
          1.7704383751548867,
          -0.8399884873146362,
          1.4508778811621514,
          -0.07945956920141474,
          0.514019250535904,
          1.14091575698579,
          -0.44447442783136815,
          -0.6902998179887635,
          -1.1323460320590162,
          0.44171435496756867,
          -0.9748005885661352,
          -0.004717678081116911,
          1.210811559025089,
          -0.3057156300025935,
          0.09408566042173429,
          -1.3093042861597297,
          0.8642257090072247,
          -0.4602704927209007,
          1.1425853788847717,
          0.3122916358920499,
          -1.0649219085134165,
          0.5681313958119188,
          -1.5393910822689814,
          -0.3183315654749651,
          -0.3083516229304344
         ]
        }
       ],
       "layout": {
        "barmode": "overlay",
        "legend": {
         "bgcolor": "#F5F6F9",
         "font": {
          "color": "#4D5663"
         }
        },
        "paper_bgcolor": "#F5F6F9",
        "plot_bgcolor": "#F5F6F9",
        "template": {
         "data": {
          "bar": [
           {
            "error_x": {
             "color": "#2a3f5f"
            },
            "error_y": {
             "color": "#2a3f5f"
            },
            "marker": {
             "line": {
              "color": "#E5ECF6",
              "width": 0.5
             }
            },
            "type": "bar"
           }
          ],
          "barpolar": [
           {
            "marker": {
             "line": {
              "color": "#E5ECF6",
              "width": 0.5
             }
            },
            "type": "barpolar"
           }
          ],
          "carpet": [
           {
            "aaxis": {
             "endlinecolor": "#2a3f5f",
             "gridcolor": "white",
             "linecolor": "white",
             "minorgridcolor": "white",
             "startlinecolor": "#2a3f5f"
            },
            "baxis": {
             "endlinecolor": "#2a3f5f",
             "gridcolor": "white",
             "linecolor": "white",
             "minorgridcolor": "white",
             "startlinecolor": "#2a3f5f"
            },
            "type": "carpet"
           }
          ],
          "choropleth": [
           {
            "colorbar": {
             "outlinewidth": 0,
             "ticks": ""
            },
            "type": "choropleth"
           }
          ],
          "contour": [
           {
            "colorbar": {
             "outlinewidth": 0,
             "ticks": ""
            },
            "colorscale": [
             [
              0,
              "#0d0887"
             ],
             [
              0.1111111111111111,
              "#46039f"
             ],
             [
              0.2222222222222222,
              "#7201a8"
             ],
             [
              0.3333333333333333,
              "#9c179e"
             ],
             [
              0.4444444444444444,
              "#bd3786"
             ],
             [
              0.5555555555555556,
              "#d8576b"
             ],
             [
              0.6666666666666666,
              "#ed7953"
             ],
             [
              0.7777777777777778,
              "#fb9f3a"
             ],
             [
              0.8888888888888888,
              "#fdca26"
             ],
             [
              1,
              "#f0f921"
             ]
            ],
            "type": "contour"
           }
          ],
          "contourcarpet": [
           {
            "colorbar": {
             "outlinewidth": 0,
             "ticks": ""
            },
            "type": "contourcarpet"
           }
          ],
          "heatmap": [
           {
            "colorbar": {
             "outlinewidth": 0,
             "ticks": ""
            },
            "colorscale": [
             [
              0,
              "#0d0887"
             ],
             [
              0.1111111111111111,
              "#46039f"
             ],
             [
              0.2222222222222222,
              "#7201a8"
             ],
             [
              0.3333333333333333,
              "#9c179e"
             ],
             [
              0.4444444444444444,
              "#bd3786"
             ],
             [
              0.5555555555555556,
              "#d8576b"
             ],
             [
              0.6666666666666666,
              "#ed7953"
             ],
             [
              0.7777777777777778,
              "#fb9f3a"
             ],
             [
              0.8888888888888888,
              "#fdca26"
             ],
             [
              1,
              "#f0f921"
             ]
            ],
            "type": "heatmap"
           }
          ],
          "heatmapgl": [
           {
            "colorbar": {
             "outlinewidth": 0,
             "ticks": ""
            },
            "colorscale": [
             [
              0,
              "#0d0887"
             ],
             [
              0.1111111111111111,
              "#46039f"
             ],
             [
              0.2222222222222222,
              "#7201a8"
             ],
             [
              0.3333333333333333,
              "#9c179e"
             ],
             [
              0.4444444444444444,
              "#bd3786"
             ],
             [
              0.5555555555555556,
              "#d8576b"
             ],
             [
              0.6666666666666666,
              "#ed7953"
             ],
             [
              0.7777777777777778,
              "#fb9f3a"
             ],
             [
              0.8888888888888888,
              "#fdca26"
             ],
             [
              1,
              "#f0f921"
             ]
            ],
            "type": "heatmapgl"
           }
          ],
          "histogram": [
           {
            "marker": {
             "colorbar": {
              "outlinewidth": 0,
              "ticks": ""
             }
            },
            "type": "histogram"
           }
          ],
          "histogram2d": [
           {
            "colorbar": {
             "outlinewidth": 0,
             "ticks": ""
            },
            "colorscale": [
             [
              0,
              "#0d0887"
             ],
             [
              0.1111111111111111,
              "#46039f"
             ],
             [
              0.2222222222222222,
              "#7201a8"
             ],
             [
              0.3333333333333333,
              "#9c179e"
             ],
             [
              0.4444444444444444,
              "#bd3786"
             ],
             [
              0.5555555555555556,
              "#d8576b"
             ],
             [
              0.6666666666666666,
              "#ed7953"
             ],
             [
              0.7777777777777778,
              "#fb9f3a"
             ],
             [
              0.8888888888888888,
              "#fdca26"
             ],
             [
              1,
              "#f0f921"
             ]
            ],
            "type": "histogram2d"
           }
          ],
          "histogram2dcontour": [
           {
            "colorbar": {
             "outlinewidth": 0,
             "ticks": ""
            },
            "colorscale": [
             [
              0,
              "#0d0887"
             ],
             [
              0.1111111111111111,
              "#46039f"
             ],
             [
              0.2222222222222222,
              "#7201a8"
             ],
             [
              0.3333333333333333,
              "#9c179e"
             ],
             [
              0.4444444444444444,
              "#bd3786"
             ],
             [
              0.5555555555555556,
              "#d8576b"
             ],
             [
              0.6666666666666666,
              "#ed7953"
             ],
             [
              0.7777777777777778,
              "#fb9f3a"
             ],
             [
              0.8888888888888888,
              "#fdca26"
             ],
             [
              1,
              "#f0f921"
             ]
            ],
            "type": "histogram2dcontour"
           }
          ],
          "mesh3d": [
           {
            "colorbar": {
             "outlinewidth": 0,
             "ticks": ""
            },
            "type": "mesh3d"
           }
          ],
          "parcoords": [
           {
            "line": {
             "colorbar": {
              "outlinewidth": 0,
              "ticks": ""
             }
            },
            "type": "parcoords"
           }
          ],
          "pie": [
           {
            "automargin": true,
            "type": "pie"
           }
          ],
          "scatter": [
           {
            "marker": {
             "colorbar": {
              "outlinewidth": 0,
              "ticks": ""
             }
            },
            "type": "scatter"
           }
          ],
          "scatter3d": [
           {
            "line": {
             "colorbar": {
              "outlinewidth": 0,
              "ticks": ""
             }
            },
            "marker": {
             "colorbar": {
              "outlinewidth": 0,
              "ticks": ""
             }
            },
            "type": "scatter3d"
           }
          ],
          "scattercarpet": [
           {
            "marker": {
             "colorbar": {
              "outlinewidth": 0,
              "ticks": ""
             }
            },
            "type": "scattercarpet"
           }
          ],
          "scattergeo": [
           {
            "marker": {
             "colorbar": {
              "outlinewidth": 0,
              "ticks": ""
             }
            },
            "type": "scattergeo"
           }
          ],
          "scattergl": [
           {
            "marker": {
             "colorbar": {
              "outlinewidth": 0,
              "ticks": ""
             }
            },
            "type": "scattergl"
           }
          ],
          "scattermapbox": [
           {
            "marker": {
             "colorbar": {
              "outlinewidth": 0,
              "ticks": ""
             }
            },
            "type": "scattermapbox"
           }
          ],
          "scatterpolar": [
           {
            "marker": {
             "colorbar": {
              "outlinewidth": 0,
              "ticks": ""
             }
            },
            "type": "scatterpolar"
           }
          ],
          "scatterpolargl": [
           {
            "marker": {
             "colorbar": {
              "outlinewidth": 0,
              "ticks": ""
             }
            },
            "type": "scatterpolargl"
           }
          ],
          "scatterternary": [
           {
            "marker": {
             "colorbar": {
              "outlinewidth": 0,
              "ticks": ""
             }
            },
            "type": "scatterternary"
           }
          ],
          "surface": [
           {
            "colorbar": {
             "outlinewidth": 0,
             "ticks": ""
            },
            "colorscale": [
             [
              0,
              "#0d0887"
             ],
             [
              0.1111111111111111,
              "#46039f"
             ],
             [
              0.2222222222222222,
              "#7201a8"
             ],
             [
              0.3333333333333333,
              "#9c179e"
             ],
             [
              0.4444444444444444,
              "#bd3786"
             ],
             [
              0.5555555555555556,
              "#d8576b"
             ],
             [
              0.6666666666666666,
              "#ed7953"
             ],
             [
              0.7777777777777778,
              "#fb9f3a"
             ],
             [
              0.8888888888888888,
              "#fdca26"
             ],
             [
              1,
              "#f0f921"
             ]
            ],
            "type": "surface"
           }
          ],
          "table": [
           {
            "cells": {
             "fill": {
              "color": "#EBF0F8"
             },
             "line": {
              "color": "white"
             }
            },
            "header": {
             "fill": {
              "color": "#C8D4E3"
             },
             "line": {
              "color": "white"
             }
            },
            "type": "table"
           }
          ]
         },
         "layout": {
          "annotationdefaults": {
           "arrowcolor": "#2a3f5f",
           "arrowhead": 0,
           "arrowwidth": 1
          },
          "autotypenumbers": "strict",
          "coloraxis": {
           "colorbar": {
            "outlinewidth": 0,
            "ticks": ""
           }
          },
          "colorscale": {
           "diverging": [
            [
             0,
             "#8e0152"
            ],
            [
             0.1,
             "#c51b7d"
            ],
            [
             0.2,
             "#de77ae"
            ],
            [
             0.3,
             "#f1b6da"
            ],
            [
             0.4,
             "#fde0ef"
            ],
            [
             0.5,
             "#f7f7f7"
            ],
            [
             0.6,
             "#e6f5d0"
            ],
            [
             0.7,
             "#b8e186"
            ],
            [
             0.8,
             "#7fbc41"
            ],
            [
             0.9,
             "#4d9221"
            ],
            [
             1,
             "#276419"
            ]
           ],
           "sequential": [
            [
             0,
             "#0d0887"
            ],
            [
             0.1111111111111111,
             "#46039f"
            ],
            [
             0.2222222222222222,
             "#7201a8"
            ],
            [
             0.3333333333333333,
             "#9c179e"
            ],
            [
             0.4444444444444444,
             "#bd3786"
            ],
            [
             0.5555555555555556,
             "#d8576b"
            ],
            [
             0.6666666666666666,
             "#ed7953"
            ],
            [
             0.7777777777777778,
             "#fb9f3a"
            ],
            [
             0.8888888888888888,
             "#fdca26"
            ],
            [
             1,
             "#f0f921"
            ]
           ],
           "sequentialminus": [
            [
             0,
             "#0d0887"
            ],
            [
             0.1111111111111111,
             "#46039f"
            ],
            [
             0.2222222222222222,
             "#7201a8"
            ],
            [
             0.3333333333333333,
             "#9c179e"
            ],
            [
             0.4444444444444444,
             "#bd3786"
            ],
            [
             0.5555555555555556,
             "#d8576b"
            ],
            [
             0.6666666666666666,
             "#ed7953"
            ],
            [
             0.7777777777777778,
             "#fb9f3a"
            ],
            [
             0.8888888888888888,
             "#fdca26"
            ],
            [
             1,
             "#f0f921"
            ]
           ]
          },
          "colorway": [
           "#636efa",
           "#EF553B",
           "#00cc96",
           "#ab63fa",
           "#FFA15A",
           "#19d3f3",
           "#FF6692",
           "#B6E880",
           "#FF97FF",
           "#FECB52"
          ],
          "font": {
           "color": "#2a3f5f"
          },
          "geo": {
           "bgcolor": "white",
           "lakecolor": "white",
           "landcolor": "#E5ECF6",
           "showlakes": true,
           "showland": true,
           "subunitcolor": "white"
          },
          "hoverlabel": {
           "align": "left"
          },
          "hovermode": "closest",
          "mapbox": {
           "style": "light"
          },
          "paper_bgcolor": "white",
          "plot_bgcolor": "#E5ECF6",
          "polar": {
           "angularaxis": {
            "gridcolor": "white",
            "linecolor": "white",
            "ticks": ""
           },
           "bgcolor": "#E5ECF6",
           "radialaxis": {
            "gridcolor": "white",
            "linecolor": "white",
            "ticks": ""
           }
          },
          "scene": {
           "xaxis": {
            "backgroundcolor": "#E5ECF6",
            "gridcolor": "white",
            "gridwidth": 2,
            "linecolor": "white",
            "showbackground": true,
            "ticks": "",
            "zerolinecolor": "white"
           },
           "yaxis": {
            "backgroundcolor": "#E5ECF6",
            "gridcolor": "white",
            "gridwidth": 2,
            "linecolor": "white",
            "showbackground": true,
            "ticks": "",
            "zerolinecolor": "white"
           },
           "zaxis": {
            "backgroundcolor": "#E5ECF6",
            "gridcolor": "white",
            "gridwidth": 2,
            "linecolor": "white",
            "showbackground": true,
            "ticks": "",
            "zerolinecolor": "white"
           }
          },
          "shapedefaults": {
           "line": {
            "color": "#2a3f5f"
           }
          },
          "ternary": {
           "aaxis": {
            "gridcolor": "white",
            "linecolor": "white",
            "ticks": ""
           },
           "baxis": {
            "gridcolor": "white",
            "linecolor": "white",
            "ticks": ""
           },
           "bgcolor": "#E5ECF6",
           "caxis": {
            "gridcolor": "white",
            "linecolor": "white",
            "ticks": ""
           }
          },
          "title": {
           "x": 0.05
          },
          "xaxis": {
           "automargin": true,
           "gridcolor": "white",
           "linecolor": "white",
           "ticks": "",
           "title": {
            "standoff": 15
           },
           "zerolinecolor": "white",
           "zerolinewidth": 2
          },
          "yaxis": {
           "automargin": true,
           "gridcolor": "white",
           "linecolor": "white",
           "ticks": "",
           "title": {
            "standoff": 15
           },
           "zerolinecolor": "white",
           "zerolinewidth": 2
          }
         }
        },
        "title": {
         "font": {
          "color": "#4D5663"
         }
        },
        "xaxis": {
         "gridcolor": "#E1E5ED",
         "showgrid": true,
         "tickfont": {
          "color": "#4D5663"
         },
         "title": {
          "font": {
           "color": "#4D5663"
          },
          "text": ""
         },
         "zerolinecolor": "#E1E5ED"
        },
        "yaxis": {
         "gridcolor": "#E1E5ED",
         "showgrid": true,
         "tickfont": {
          "color": "#4D5663"
         },
         "title": {
          "font": {
           "color": "#4D5663"
          },
          "text": ""
         },
         "zerolinecolor": "#E1E5ED"
        }
       }
      },
      "text/html": [
       "<div>                            <div id=\"7fa59a56-2e70-4cb7-8855-2abab46db6e6\" class=\"plotly-graph-div\" style=\"height:525px; width:100%;\"></div>            <script type=\"text/javascript\">                require([\"plotly\"], function(Plotly) {                    window.PLOTLYENV=window.PLOTLYENV || {};\n",
       "                    window.PLOTLYENV.BASE_URL='https://plot.ly';                                    if (document.getElementById(\"7fa59a56-2e70-4cb7-8855-2abab46db6e6\")) {                    Plotly.newPlot(                        \"7fa59a56-2e70-4cb7-8855-2abab46db6e6\",                        [{\"histfunc\": \"count\", \"histnorm\": \"\", \"marker\": {\"color\": \"rgba(255, 153, 51, 1.0)\", \"line\": {\"color\": \"#4D5663\", \"width\": 1.3}}, \"name\": \"A\", \"opacity\": 0.8, \"orientation\": \"v\", \"type\": \"histogram\", \"x\": [-1.9722087496969223, -0.011671936731851002, -1.581095695462608, -0.34655125540727333, -2.477227183550656, 1.0941645349574753, 1.0229529172073148, -0.2598830879365222, -0.03408300204513225, 0.316552878256426, -0.9560391300790448, 0.03686863729565844, -1.057002166096782, 1.1269640029188206, -2.9267062941867423, -0.746704279766539, 0.05041994672178217, 0.48710115962661305, 0.4411562042292949, 1.9586541598607206, -1.1264446501035439, -0.8893264007516325, -0.912797025545708, -0.6764986758310823, 0.060741922825052995, -1.8449685175213293, -0.2581939666458554, -1.0845735336268134, 1.3092149762046064, -0.3066644272536902, 2.6272020454447893, 1.9776080885194243, 0.5668461448153023, 0.14871793417682036, 0.5589477908589175, 1.569395013601064, 0.6903765899355268, -0.9624507753100264, -1.1982377774156872, 0.3460526200922986, -1.5813823853788058, -0.060380627009908705, -0.45301810031688394, -0.8874355334946187, -0.08069904562752264, 0.9892325935849244, -0.4402405812651847, 0.9062225085353147, 0.051935187991758267, -0.7749692187429894, 0.20663577894552076, -2.6432173202033327, 0.428142633290837, 0.28064340537672056, 0.49998815039368866, -2.282375457843157, -0.2636867903407214, -0.8818468535001559, -0.3507863058950262, -0.3459010474609139, -0.2537435919563658, 0.7534214071578663, -0.9475830799767535, -1.275468885966171, -1.0661714834592064, -0.9048886981411098, 0.25326937641655517, 2.1839204484406034, -0.8272174280292035, -0.4645040193133396, 0.8445505137052899, 0.36733557594376404, -0.21495587739570762, -0.2147215789481739, -1.014567110997098, -0.5200774799937841, -0.6299002021429765, -0.018567917997282603, -1.0129723040910823, -1.244448617322104, 0.9101942921335867, 0.14653083392106686, -0.4696844835441938, 0.25679717959833154, -0.26913999204070016, 0.49298478979236415, -1.7553400104436443, -0.32567192940690426, 0.4963013251259451, 0.33715228833004396, -0.48702644670754175, 0.583173722625296, -0.13151299514984052, -0.17277039856468238, -0.3932252217320785, 1.747981066541866, 1.2996522287381982, 0.17177685124461037, 0.942376140480576, -1.4875548956939744]}, {\"histfunc\": \"count\", \"histnorm\": \"\", \"marker\": {\"color\": \"rgba(55, 128, 191, 1.0)\", \"line\": {\"color\": \"#4D5663\", \"width\": 1.3}}, \"name\": \"B\", \"opacity\": 0.8, \"orientation\": \"v\", \"type\": \"histogram\", \"x\": [-0.15467443438003167, -1.103714486619362, -0.0541684553591224, 0.41422239107560715, -0.47311978978456737, 0.08890758298241469, 0.6542883889705488, 0.1526791972817478, -1.0761625495932814, 0.4108953551780461, 0.8849114941005151, -1.7404564207865973, -0.2834726233350443, -0.7225958554493189, -0.3360213951887905, -0.43360752963912125, -0.28610770283411324, 0.5140475923376779, 0.6498272394533989, -0.1880381648673378, 3.029906110373341, -0.655023507621413, -0.29993908275112585, 0.17257175369280023, -0.8252449189026975, -0.5068002853772337, 0.7260798014189815, -0.3890204893183104, -0.42350519981926266, -0.9830897847082721, -0.745081495310831, 0.5885934793538804, 1.3819602740760888, -0.6052431371727914, -0.795447989408926, -0.36279193604862736, 0.6507982198529062, 0.26554271337673624, 0.4278905943406648, 0.7667337976267404, -1.009477598035802, 1.7868695252714277, 0.07238439431084817, -0.2921642502366185, 0.8037729291547354, -0.2997123802579395, 0.5540178206043035, 0.4378922178605772, 0.516907689763789, -0.7489107442737745, 0.3042169050027822, -1.2286144224027291, -1.4768661895797555, -0.5706672119608341, 1.4961773942937893, -0.15560187954158308, 0.03247288091238335, 0.3121279723427983, 1.2036174628101248, -1.8149602214495568, -0.25267277264871385, -0.31891897183935325, -0.47381322603680753, 0.9177839120362744, -0.6619439676220062, -0.22228104761216375, 0.5167188779834639, -0.5886601441588484, -0.49111226630245897, 0.2442643888637009, -0.04507916296916212, 0.9049845080788567, 0.49394996349843406, 0.202128923957163, 0.9149650220094239, 0.20786740242860877, 1.2558499203678959, -0.8882369239533632, -0.5665994304015882, -2.52713736735959, -0.40202525070563416, 0.42337816477791873, 2.930189646869836, -0.29870561060645767, 1.0259894736560005, -0.5434596778354565, -0.48187202723754213, -0.7849654446928984, 0.5354112571672852, -0.12100382967481559, -1.288362701278329, -1.3144891120780753, -0.3190835777670386, -0.9499938842804496, -1.3683098023592501, -0.4998233472993743, 0.47028413887107634, 0.7786479452061807, -0.7357339189416259, -1.3464941644058384]}, {\"histfunc\": \"count\", \"histnorm\": \"\", \"marker\": {\"color\": \"rgba(50, 171, 96, 1.0)\", \"line\": {\"color\": \"#4D5663\", \"width\": 1.3}}, \"name\": \"C\", \"opacity\": 0.8, \"orientation\": \"v\", \"type\": \"histogram\", \"x\": [0.08036546985632058, -1.1803155619663286, 1.882445236348399, 1.1349992260603332, -1.5575608308528395, -0.1527564653318407, -0.2961188984253155, -0.026937775969907905, -1.272905763155189, -0.8549352977883783, -1.281847057260825, -2.1210640768169333, 1.6893630865327454, -0.017578634697911624, -2.1020556307911615, 0.0361393847450922, 0.43746097392298783, 0.032676108775102256, -0.09844484635896847, -0.27085031154451733, -0.733682783176024, -0.5705352930326113, 1.2726524082477522, 1.139118304742565, -0.11064228540091595, 0.2208218083646103, 0.6867117699875392, 0.847024875757954, -0.03593499862944182, 0.962558874587534, -0.1188249528546015, -0.13773714151826094, 0.45722579151212817, -0.34509916618804953, 1.1844240688176957, -0.19633186981606932, -0.7862381639616858, 1.07559665304353, 1.4480044078476682, 1.3654346413378435, 0.681486730473982, 0.3383458494068617, 0.7739998117437695, -2.220518442027511, -1.6675281060620841, -0.1064622488395936, -0.7380040394225079, -0.5486295217974224, -0.8342851154825762, 0.026766363250262055, -0.35301171647407226, -0.5579776604277544, 0.09076406349955296, -3.4553709450226386, 0.42250861039899773, -0.6316855409000489, 0.3271975344870533, -2.1169700697305354, 0.9962451550083548, -0.7109591216011675, -0.046305530851667644, 1.637218972882313, 0.08862159816983804, -2.131416983846675, -0.40077384108346514, -0.8231628591052247, -0.1374738716032662, -1.4636837083336742, 0.5472867160388108, -0.3775955732256513, -0.9218552005147901, 0.43162654815156065, -0.08272021026159287, 0.7126733858239472, 1.447354762450443, -0.02446321498869171, 0.399983377804818, 0.759018420519252, -0.22801770574102007, 0.5927528149081085, 0.38592588849566395, -0.5702766186066185, -0.7624535972326412, 1.285628408186062, -0.667138216464985, -1.133126898002318, 1.4621189512665256, -0.38156381185423577, 1.3007360231295444, -1.242078435474785, 0.8316549080676471, -1.449271121165556, 1.1220898286898993, -0.2972658671592852, -0.08960631746997277, 0.2617264232895819, -1.5757729109547811, -0.14208364014828903, 0.32389404113691356, -0.33948227156482397]}, {\"histfunc\": \"count\", \"histnorm\": \"\", \"marker\": {\"color\": \"rgba(128, 0, 128, 1.0)\", \"line\": {\"color\": \"#4D5663\", \"width\": 1.3}}, \"name\": \"D\", \"opacity\": 0.8, \"orientation\": \"v\", \"type\": \"histogram\", \"x\": [0.2099912171818562, -1.1990577012263692, -0.10108308904370543, 0.8112918719255539, 0.8313292393664062, -0.1609187788658841, -1.2892556331200071, 0.9732044973804842, -1.1028627677307659, 2.59152389882196, 1.8278949849904982, 0.09666258307375825, -1.8698416412189955, -0.4667341426156331, 1.4031952918004071, -0.6303345038130095, 0.22875513735396286, -0.6052468375175506, -1.0033180221842917, -0.23701021798356048, 0.26034119125003896, 2.273447162989823, -0.7364967757641886, -0.7212268788942579, 1.4032812419505187, -1.657082576262926, 1.2980658002357384, -0.6299324027125981, -0.1545833811130906, -0.5825103619109648, 0.6928695396899978, -0.5133582454624704, -0.2913421611333826, -1.6635086452655068, -0.2020484429785352, 0.6856592512667734, 0.5239777192162516, -0.7065993959550226, -0.5098123119401131, 0.1641257050238636, -0.29725165110797663, 1.5528862134289545, 0.24750879328359607, 0.4805183246295481, -0.41749943539773393, 1.7702402084916669, 0.09658312042565893, -0.08997675886994944, 0.3285274976468807, 1.247695297338725, 1.495774506601597, 1.069691061446215, 0.7552018458688805, 0.2281391096504319, 1.2789791912760797, -1.8295558769667868, 0.11636660987779016, -0.2229977057008248, 0.6033630281600153, 0.35992973484009283, -1.5823384178952768, -0.1468527788638083, 0.14460305750459343, -0.8494544248877588, 0.7275331259041663, -1.1586340637121935, -0.041287814093800224, 0.9280295950246412, 0.3810274945493502, 0.5498487750737486, 0.22177455039431346, -0.5834077247799289, -1.1329855240956723, 1.2252793444619456, -1.409537567130078, 1.7704383751548867, -0.8399884873146362, 1.4508778811621514, -0.07945956920141474, 0.514019250535904, 1.14091575698579, -0.44447442783136815, -0.6902998179887635, -1.1323460320590162, 0.44171435496756867, -0.9748005885661352, -0.004717678081116911, 1.210811559025089, -0.3057156300025935, 0.09408566042173429, -1.3093042861597297, 0.8642257090072247, -0.4602704927209007, 1.1425853788847717, 0.3122916358920499, -1.0649219085134165, 0.5681313958119188, -1.5393910822689814, -0.3183315654749651, -0.3083516229304344]}],                        {\"barmode\": \"overlay\", \"legend\": {\"bgcolor\": \"#F5F6F9\", \"font\": {\"color\": \"#4D5663\"}}, \"paper_bgcolor\": \"#F5F6F9\", \"plot_bgcolor\": \"#F5F6F9\", \"template\": {\"data\": {\"bar\": [{\"error_x\": {\"color\": \"#2a3f5f\"}, \"error_y\": {\"color\": \"#2a3f5f\"}, \"marker\": {\"line\": {\"color\": \"#E5ECF6\", \"width\": 0.5}}, \"type\": \"bar\"}], \"barpolar\": [{\"marker\": {\"line\": {\"color\": \"#E5ECF6\", \"width\": 0.5}}, \"type\": \"barpolar\"}], \"carpet\": [{\"aaxis\": {\"endlinecolor\": \"#2a3f5f\", \"gridcolor\": \"white\", \"linecolor\": \"white\", \"minorgridcolor\": \"white\", \"startlinecolor\": \"#2a3f5f\"}, \"baxis\": {\"endlinecolor\": \"#2a3f5f\", \"gridcolor\": \"white\", \"linecolor\": \"white\", \"minorgridcolor\": \"white\", \"startlinecolor\": \"#2a3f5f\"}, \"type\": \"carpet\"}], \"choropleth\": [{\"colorbar\": {\"outlinewidth\": 0, \"ticks\": \"\"}, \"type\": \"choropleth\"}], \"contour\": [{\"colorbar\": {\"outlinewidth\": 0, \"ticks\": \"\"}, \"colorscale\": [[0.0, \"#0d0887\"], [0.1111111111111111, \"#46039f\"], [0.2222222222222222, \"#7201a8\"], [0.3333333333333333, \"#9c179e\"], [0.4444444444444444, \"#bd3786\"], [0.5555555555555556, \"#d8576b\"], [0.6666666666666666, \"#ed7953\"], [0.7777777777777778, \"#fb9f3a\"], [0.8888888888888888, \"#fdca26\"], [1.0, \"#f0f921\"]], \"type\": \"contour\"}], \"contourcarpet\": [{\"colorbar\": {\"outlinewidth\": 0, \"ticks\": \"\"}, \"type\": \"contourcarpet\"}], \"heatmap\": [{\"colorbar\": {\"outlinewidth\": 0, \"ticks\": \"\"}, \"colorscale\": [[0.0, \"#0d0887\"], [0.1111111111111111, \"#46039f\"], [0.2222222222222222, \"#7201a8\"], [0.3333333333333333, \"#9c179e\"], [0.4444444444444444, \"#bd3786\"], [0.5555555555555556, \"#d8576b\"], [0.6666666666666666, \"#ed7953\"], [0.7777777777777778, \"#fb9f3a\"], [0.8888888888888888, \"#fdca26\"], [1.0, \"#f0f921\"]], \"type\": \"heatmap\"}], \"heatmapgl\": [{\"colorbar\": {\"outlinewidth\": 0, \"ticks\": \"\"}, \"colorscale\": [[0.0, \"#0d0887\"], [0.1111111111111111, \"#46039f\"], [0.2222222222222222, \"#7201a8\"], [0.3333333333333333, \"#9c179e\"], [0.4444444444444444, \"#bd3786\"], [0.5555555555555556, \"#d8576b\"], [0.6666666666666666, \"#ed7953\"], [0.7777777777777778, \"#fb9f3a\"], [0.8888888888888888, \"#fdca26\"], [1.0, \"#f0f921\"]], \"type\": \"heatmapgl\"}], \"histogram\": [{\"marker\": {\"colorbar\": {\"outlinewidth\": 0, \"ticks\": \"\"}}, \"type\": \"histogram\"}], \"histogram2d\": [{\"colorbar\": {\"outlinewidth\": 0, \"ticks\": \"\"}, \"colorscale\": [[0.0, \"#0d0887\"], [0.1111111111111111, \"#46039f\"], [0.2222222222222222, \"#7201a8\"], [0.3333333333333333, \"#9c179e\"], [0.4444444444444444, \"#bd3786\"], [0.5555555555555556, \"#d8576b\"], [0.6666666666666666, \"#ed7953\"], [0.7777777777777778, \"#fb9f3a\"], [0.8888888888888888, \"#fdca26\"], [1.0, \"#f0f921\"]], \"type\": \"histogram2d\"}], \"histogram2dcontour\": [{\"colorbar\": {\"outlinewidth\": 0, \"ticks\": \"\"}, \"colorscale\": [[0.0, \"#0d0887\"], [0.1111111111111111, \"#46039f\"], [0.2222222222222222, \"#7201a8\"], [0.3333333333333333, \"#9c179e\"], [0.4444444444444444, \"#bd3786\"], [0.5555555555555556, \"#d8576b\"], [0.6666666666666666, \"#ed7953\"], [0.7777777777777778, \"#fb9f3a\"], [0.8888888888888888, \"#fdca26\"], [1.0, \"#f0f921\"]], \"type\": \"histogram2dcontour\"}], \"mesh3d\": [{\"colorbar\": {\"outlinewidth\": 0, \"ticks\": \"\"}, \"type\": \"mesh3d\"}], \"parcoords\": [{\"line\": {\"colorbar\": {\"outlinewidth\": 0, \"ticks\": \"\"}}, \"type\": \"parcoords\"}], \"pie\": [{\"automargin\": true, \"type\": \"pie\"}], \"scatter\": [{\"marker\": {\"colorbar\": {\"outlinewidth\": 0, \"ticks\": \"\"}}, \"type\": \"scatter\"}], \"scatter3d\": [{\"line\": {\"colorbar\": {\"outlinewidth\": 0, \"ticks\": \"\"}}, \"marker\": {\"colorbar\": {\"outlinewidth\": 0, \"ticks\": \"\"}}, \"type\": \"scatter3d\"}], \"scattercarpet\": [{\"marker\": {\"colorbar\": {\"outlinewidth\": 0, \"ticks\": \"\"}}, \"type\": \"scattercarpet\"}], \"scattergeo\": [{\"marker\": {\"colorbar\": {\"outlinewidth\": 0, \"ticks\": \"\"}}, \"type\": \"scattergeo\"}], \"scattergl\": [{\"marker\": {\"colorbar\": {\"outlinewidth\": 0, \"ticks\": \"\"}}, \"type\": \"scattergl\"}], \"scattermapbox\": [{\"marker\": {\"colorbar\": {\"outlinewidth\": 0, \"ticks\": \"\"}}, \"type\": \"scattermapbox\"}], \"scatterpolar\": [{\"marker\": {\"colorbar\": {\"outlinewidth\": 0, \"ticks\": \"\"}}, \"type\": \"scatterpolar\"}], \"scatterpolargl\": [{\"marker\": {\"colorbar\": {\"outlinewidth\": 0, \"ticks\": \"\"}}, \"type\": \"scatterpolargl\"}], \"scatterternary\": [{\"marker\": {\"colorbar\": {\"outlinewidth\": 0, \"ticks\": \"\"}}, \"type\": \"scatterternary\"}], \"surface\": [{\"colorbar\": {\"outlinewidth\": 0, \"ticks\": \"\"}, \"colorscale\": [[0.0, \"#0d0887\"], [0.1111111111111111, \"#46039f\"], [0.2222222222222222, \"#7201a8\"], [0.3333333333333333, \"#9c179e\"], [0.4444444444444444, \"#bd3786\"], [0.5555555555555556, \"#d8576b\"], [0.6666666666666666, \"#ed7953\"], [0.7777777777777778, \"#fb9f3a\"], [0.8888888888888888, \"#fdca26\"], [1.0, \"#f0f921\"]], \"type\": \"surface\"}], \"table\": [{\"cells\": {\"fill\": {\"color\": \"#EBF0F8\"}, \"line\": {\"color\": \"white\"}}, \"header\": {\"fill\": {\"color\": \"#C8D4E3\"}, \"line\": {\"color\": \"white\"}}, \"type\": \"table\"}]}, \"layout\": {\"annotationdefaults\": {\"arrowcolor\": \"#2a3f5f\", \"arrowhead\": 0, \"arrowwidth\": 1}, \"autotypenumbers\": \"strict\", \"coloraxis\": {\"colorbar\": {\"outlinewidth\": 0, \"ticks\": \"\"}}, \"colorscale\": {\"diverging\": [[0, \"#8e0152\"], [0.1, \"#c51b7d\"], [0.2, \"#de77ae\"], [0.3, \"#f1b6da\"], [0.4, \"#fde0ef\"], [0.5, \"#f7f7f7\"], [0.6, \"#e6f5d0\"], [0.7, \"#b8e186\"], [0.8, \"#7fbc41\"], [0.9, \"#4d9221\"], [1, \"#276419\"]], \"sequential\": [[0.0, \"#0d0887\"], [0.1111111111111111, \"#46039f\"], [0.2222222222222222, \"#7201a8\"], [0.3333333333333333, \"#9c179e\"], [0.4444444444444444, \"#bd3786\"], [0.5555555555555556, \"#d8576b\"], [0.6666666666666666, \"#ed7953\"], [0.7777777777777778, \"#fb9f3a\"], [0.8888888888888888, \"#fdca26\"], [1.0, \"#f0f921\"]], \"sequentialminus\": [[0.0, \"#0d0887\"], [0.1111111111111111, \"#46039f\"], [0.2222222222222222, \"#7201a8\"], [0.3333333333333333, \"#9c179e\"], [0.4444444444444444, \"#bd3786\"], [0.5555555555555556, \"#d8576b\"], [0.6666666666666666, \"#ed7953\"], [0.7777777777777778, \"#fb9f3a\"], [0.8888888888888888, \"#fdca26\"], [1.0, \"#f0f921\"]]}, \"colorway\": [\"#636efa\", \"#EF553B\", \"#00cc96\", \"#ab63fa\", \"#FFA15A\", \"#19d3f3\", \"#FF6692\", \"#B6E880\", \"#FF97FF\", \"#FECB52\"], \"font\": {\"color\": \"#2a3f5f\"}, \"geo\": {\"bgcolor\": \"white\", \"lakecolor\": \"white\", \"landcolor\": \"#E5ECF6\", \"showlakes\": true, \"showland\": true, \"subunitcolor\": \"white\"}, \"hoverlabel\": {\"align\": \"left\"}, \"hovermode\": \"closest\", \"mapbox\": {\"style\": \"light\"}, \"paper_bgcolor\": \"white\", \"plot_bgcolor\": \"#E5ECF6\", \"polar\": {\"angularaxis\": {\"gridcolor\": \"white\", \"linecolor\": \"white\", \"ticks\": \"\"}, \"bgcolor\": \"#E5ECF6\", \"radialaxis\": {\"gridcolor\": \"white\", \"linecolor\": \"white\", \"ticks\": \"\"}}, \"scene\": {\"xaxis\": {\"backgroundcolor\": \"#E5ECF6\", \"gridcolor\": \"white\", \"gridwidth\": 2, \"linecolor\": \"white\", \"showbackground\": true, \"ticks\": \"\", \"zerolinecolor\": \"white\"}, \"yaxis\": {\"backgroundcolor\": \"#E5ECF6\", \"gridcolor\": \"white\", \"gridwidth\": 2, \"linecolor\": \"white\", \"showbackground\": true, \"ticks\": \"\", \"zerolinecolor\": \"white\"}, \"zaxis\": {\"backgroundcolor\": \"#E5ECF6\", \"gridcolor\": \"white\", \"gridwidth\": 2, \"linecolor\": \"white\", \"showbackground\": true, \"ticks\": \"\", \"zerolinecolor\": \"white\"}}, \"shapedefaults\": {\"line\": {\"color\": \"#2a3f5f\"}}, \"ternary\": {\"aaxis\": {\"gridcolor\": \"white\", \"linecolor\": \"white\", \"ticks\": \"\"}, \"baxis\": {\"gridcolor\": \"white\", \"linecolor\": \"white\", \"ticks\": \"\"}, \"bgcolor\": \"#E5ECF6\", \"caxis\": {\"gridcolor\": \"white\", \"linecolor\": \"white\", \"ticks\": \"\"}}, \"title\": {\"x\": 0.05}, \"xaxis\": {\"automargin\": true, \"gridcolor\": \"white\", \"linecolor\": \"white\", \"ticks\": \"\", \"title\": {\"standoff\": 15}, \"zerolinecolor\": \"white\", \"zerolinewidth\": 2}, \"yaxis\": {\"automargin\": true, \"gridcolor\": \"white\", \"linecolor\": \"white\", \"ticks\": \"\", \"title\": {\"standoff\": 15}, \"zerolinecolor\": \"white\", \"zerolinewidth\": 2}}}, \"title\": {\"font\": {\"color\": \"#4D5663\"}}, \"xaxis\": {\"gridcolor\": \"#E1E5ED\", \"showgrid\": true, \"tickfont\": {\"color\": \"#4D5663\"}, \"title\": {\"font\": {\"color\": \"#4D5663\"}, \"text\": \"\"}, \"zerolinecolor\": \"#E1E5ED\"}, \"yaxis\": {\"gridcolor\": \"#E1E5ED\", \"showgrid\": true, \"tickfont\": {\"color\": \"#4D5663\"}, \"title\": {\"font\": {\"color\": \"#4D5663\"}, \"text\": \"\"}, \"zerolinecolor\": \"#E1E5ED\"}},                        {\"showLink\": true, \"linkText\": \"Export to plot.ly\", \"plotlyServerURL\": \"https://plot.ly\", \"responsive\": true}                    ).then(function(){\n",
       "                            \n",
       "var gd = document.getElementById('7fa59a56-2e70-4cb7-8855-2abab46db6e6');\n",
       "var x = new MutationObserver(function (mutations, observer) {{\n",
       "        var display = window.getComputedStyle(gd).display;\n",
       "        if (!display || display === 'none') {{\n",
       "            console.log([gd, 'removed!']);\n",
       "            Plotly.purge(gd);\n",
       "            observer.disconnect();\n",
       "        }}\n",
       "}});\n",
       "\n",
       "// Listen for the removal of the full notebook cells\n",
       "var notebookContainer = gd.closest('#notebook-container');\n",
       "if (notebookContainer) {{\n",
       "    x.observe(notebookContainer, {childList: true});\n",
       "}}\n",
       "\n",
       "// Listen for the clearing of the current output cell\n",
       "var outputEl = gd.closest('.output');\n",
       "if (outputEl) {{\n",
       "    x.observe(outputEl, {childList: true});\n",
       "}}\n",
       "\n",
       "                        })                };                });            </script>        </div>"
      ]
     },
     "metadata": {},
     "output_type": "display_data"
    }
   ],
   "source": [
    "df.iplot(kind='hist')"
   ]
  },
  {
   "cell_type": "code",
   "execution_count": 43,
   "metadata": {},
   "outputs": [
    {
     "data": {
      "application/vnd.plotly.v1+json": {
       "config": {
        "linkText": "Export to plot.ly",
        "plotlyServerURL": "https://plot.ly",
        "showLink": true
       },
       "data": [
        {
         "histfunc": "count",
         "histnorm": "",
         "marker": {
          "color": "rgba(255, 153, 51, 1.0)",
          "line": {
           "color": "#4D5663",
           "width": 1.3
          }
         },
         "name": "A",
         "opacity": 0.8,
         "orientation": "v",
         "type": "histogram",
         "x": [
          -1.9722087496969223,
          -0.011671936731851002,
          -1.581095695462608,
          -0.34655125540727333,
          -2.477227183550656,
          1.0941645349574753,
          1.0229529172073148,
          -0.2598830879365222,
          -0.03408300204513225,
          0.316552878256426,
          -0.9560391300790448,
          0.03686863729565844,
          -1.057002166096782,
          1.1269640029188206,
          -2.9267062941867423,
          -0.746704279766539,
          0.05041994672178217,
          0.48710115962661305,
          0.4411562042292949,
          1.9586541598607206,
          -1.1264446501035439,
          -0.8893264007516325,
          -0.912797025545708,
          -0.6764986758310823,
          0.060741922825052995,
          -1.8449685175213293,
          -0.2581939666458554,
          -1.0845735336268134,
          1.3092149762046064,
          -0.3066644272536902,
          2.6272020454447893,
          1.9776080885194243,
          0.5668461448153023,
          0.14871793417682036,
          0.5589477908589175,
          1.569395013601064,
          0.6903765899355268,
          -0.9624507753100264,
          -1.1982377774156872,
          0.3460526200922986,
          -1.5813823853788058,
          -0.060380627009908705,
          -0.45301810031688394,
          -0.8874355334946187,
          -0.08069904562752264,
          0.9892325935849244,
          -0.4402405812651847,
          0.9062225085353147,
          0.051935187991758267,
          -0.7749692187429894,
          0.20663577894552076,
          -2.6432173202033327,
          0.428142633290837,
          0.28064340537672056,
          0.49998815039368866,
          -2.282375457843157,
          -0.2636867903407214,
          -0.8818468535001559,
          -0.3507863058950262,
          -0.3459010474609139,
          -0.2537435919563658,
          0.7534214071578663,
          -0.9475830799767535,
          -1.275468885966171,
          -1.0661714834592064,
          -0.9048886981411098,
          0.25326937641655517,
          2.1839204484406034,
          -0.8272174280292035,
          -0.4645040193133396,
          0.8445505137052899,
          0.36733557594376404,
          -0.21495587739570762,
          -0.2147215789481739,
          -1.014567110997098,
          -0.5200774799937841,
          -0.6299002021429765,
          -0.018567917997282603,
          -1.0129723040910823,
          -1.244448617322104,
          0.9101942921335867,
          0.14653083392106686,
          -0.4696844835441938,
          0.25679717959833154,
          -0.26913999204070016,
          0.49298478979236415,
          -1.7553400104436443,
          -0.32567192940690426,
          0.4963013251259451,
          0.33715228833004396,
          -0.48702644670754175,
          0.583173722625296,
          -0.13151299514984052,
          -0.17277039856468238,
          -0.3932252217320785,
          1.747981066541866,
          1.2996522287381982,
          0.17177685124461037,
          0.942376140480576,
          -1.4875548956939744
         ]
        }
       ],
       "layout": {
        "barmode": "overlay",
        "legend": {
         "bgcolor": "#F5F6F9",
         "font": {
          "color": "#4D5663"
         }
        },
        "paper_bgcolor": "#F5F6F9",
        "plot_bgcolor": "#F5F6F9",
        "template": {
         "data": {
          "bar": [
           {
            "error_x": {
             "color": "#2a3f5f"
            },
            "error_y": {
             "color": "#2a3f5f"
            },
            "marker": {
             "line": {
              "color": "#E5ECF6",
              "width": 0.5
             }
            },
            "type": "bar"
           }
          ],
          "barpolar": [
           {
            "marker": {
             "line": {
              "color": "#E5ECF6",
              "width": 0.5
             }
            },
            "type": "barpolar"
           }
          ],
          "carpet": [
           {
            "aaxis": {
             "endlinecolor": "#2a3f5f",
             "gridcolor": "white",
             "linecolor": "white",
             "minorgridcolor": "white",
             "startlinecolor": "#2a3f5f"
            },
            "baxis": {
             "endlinecolor": "#2a3f5f",
             "gridcolor": "white",
             "linecolor": "white",
             "minorgridcolor": "white",
             "startlinecolor": "#2a3f5f"
            },
            "type": "carpet"
           }
          ],
          "choropleth": [
           {
            "colorbar": {
             "outlinewidth": 0,
             "ticks": ""
            },
            "type": "choropleth"
           }
          ],
          "contour": [
           {
            "colorbar": {
             "outlinewidth": 0,
             "ticks": ""
            },
            "colorscale": [
             [
              0,
              "#0d0887"
             ],
             [
              0.1111111111111111,
              "#46039f"
             ],
             [
              0.2222222222222222,
              "#7201a8"
             ],
             [
              0.3333333333333333,
              "#9c179e"
             ],
             [
              0.4444444444444444,
              "#bd3786"
             ],
             [
              0.5555555555555556,
              "#d8576b"
             ],
             [
              0.6666666666666666,
              "#ed7953"
             ],
             [
              0.7777777777777778,
              "#fb9f3a"
             ],
             [
              0.8888888888888888,
              "#fdca26"
             ],
             [
              1,
              "#f0f921"
             ]
            ],
            "type": "contour"
           }
          ],
          "contourcarpet": [
           {
            "colorbar": {
             "outlinewidth": 0,
             "ticks": ""
            },
            "type": "contourcarpet"
           }
          ],
          "heatmap": [
           {
            "colorbar": {
             "outlinewidth": 0,
             "ticks": ""
            },
            "colorscale": [
             [
              0,
              "#0d0887"
             ],
             [
              0.1111111111111111,
              "#46039f"
             ],
             [
              0.2222222222222222,
              "#7201a8"
             ],
             [
              0.3333333333333333,
              "#9c179e"
             ],
             [
              0.4444444444444444,
              "#bd3786"
             ],
             [
              0.5555555555555556,
              "#d8576b"
             ],
             [
              0.6666666666666666,
              "#ed7953"
             ],
             [
              0.7777777777777778,
              "#fb9f3a"
             ],
             [
              0.8888888888888888,
              "#fdca26"
             ],
             [
              1,
              "#f0f921"
             ]
            ],
            "type": "heatmap"
           }
          ],
          "heatmapgl": [
           {
            "colorbar": {
             "outlinewidth": 0,
             "ticks": ""
            },
            "colorscale": [
             [
              0,
              "#0d0887"
             ],
             [
              0.1111111111111111,
              "#46039f"
             ],
             [
              0.2222222222222222,
              "#7201a8"
             ],
             [
              0.3333333333333333,
              "#9c179e"
             ],
             [
              0.4444444444444444,
              "#bd3786"
             ],
             [
              0.5555555555555556,
              "#d8576b"
             ],
             [
              0.6666666666666666,
              "#ed7953"
             ],
             [
              0.7777777777777778,
              "#fb9f3a"
             ],
             [
              0.8888888888888888,
              "#fdca26"
             ],
             [
              1,
              "#f0f921"
             ]
            ],
            "type": "heatmapgl"
           }
          ],
          "histogram": [
           {
            "marker": {
             "colorbar": {
              "outlinewidth": 0,
              "ticks": ""
             }
            },
            "type": "histogram"
           }
          ],
          "histogram2d": [
           {
            "colorbar": {
             "outlinewidth": 0,
             "ticks": ""
            },
            "colorscale": [
             [
              0,
              "#0d0887"
             ],
             [
              0.1111111111111111,
              "#46039f"
             ],
             [
              0.2222222222222222,
              "#7201a8"
             ],
             [
              0.3333333333333333,
              "#9c179e"
             ],
             [
              0.4444444444444444,
              "#bd3786"
             ],
             [
              0.5555555555555556,
              "#d8576b"
             ],
             [
              0.6666666666666666,
              "#ed7953"
             ],
             [
              0.7777777777777778,
              "#fb9f3a"
             ],
             [
              0.8888888888888888,
              "#fdca26"
             ],
             [
              1,
              "#f0f921"
             ]
            ],
            "type": "histogram2d"
           }
          ],
          "histogram2dcontour": [
           {
            "colorbar": {
             "outlinewidth": 0,
             "ticks": ""
            },
            "colorscale": [
             [
              0,
              "#0d0887"
             ],
             [
              0.1111111111111111,
              "#46039f"
             ],
             [
              0.2222222222222222,
              "#7201a8"
             ],
             [
              0.3333333333333333,
              "#9c179e"
             ],
             [
              0.4444444444444444,
              "#bd3786"
             ],
             [
              0.5555555555555556,
              "#d8576b"
             ],
             [
              0.6666666666666666,
              "#ed7953"
             ],
             [
              0.7777777777777778,
              "#fb9f3a"
             ],
             [
              0.8888888888888888,
              "#fdca26"
             ],
             [
              1,
              "#f0f921"
             ]
            ],
            "type": "histogram2dcontour"
           }
          ],
          "mesh3d": [
           {
            "colorbar": {
             "outlinewidth": 0,
             "ticks": ""
            },
            "type": "mesh3d"
           }
          ],
          "parcoords": [
           {
            "line": {
             "colorbar": {
              "outlinewidth": 0,
              "ticks": ""
             }
            },
            "type": "parcoords"
           }
          ],
          "pie": [
           {
            "automargin": true,
            "type": "pie"
           }
          ],
          "scatter": [
           {
            "marker": {
             "colorbar": {
              "outlinewidth": 0,
              "ticks": ""
             }
            },
            "type": "scatter"
           }
          ],
          "scatter3d": [
           {
            "line": {
             "colorbar": {
              "outlinewidth": 0,
              "ticks": ""
             }
            },
            "marker": {
             "colorbar": {
              "outlinewidth": 0,
              "ticks": ""
             }
            },
            "type": "scatter3d"
           }
          ],
          "scattercarpet": [
           {
            "marker": {
             "colorbar": {
              "outlinewidth": 0,
              "ticks": ""
             }
            },
            "type": "scattercarpet"
           }
          ],
          "scattergeo": [
           {
            "marker": {
             "colorbar": {
              "outlinewidth": 0,
              "ticks": ""
             }
            },
            "type": "scattergeo"
           }
          ],
          "scattergl": [
           {
            "marker": {
             "colorbar": {
              "outlinewidth": 0,
              "ticks": ""
             }
            },
            "type": "scattergl"
           }
          ],
          "scattermapbox": [
           {
            "marker": {
             "colorbar": {
              "outlinewidth": 0,
              "ticks": ""
             }
            },
            "type": "scattermapbox"
           }
          ],
          "scatterpolar": [
           {
            "marker": {
             "colorbar": {
              "outlinewidth": 0,
              "ticks": ""
             }
            },
            "type": "scatterpolar"
           }
          ],
          "scatterpolargl": [
           {
            "marker": {
             "colorbar": {
              "outlinewidth": 0,
              "ticks": ""
             }
            },
            "type": "scatterpolargl"
           }
          ],
          "scatterternary": [
           {
            "marker": {
             "colorbar": {
              "outlinewidth": 0,
              "ticks": ""
             }
            },
            "type": "scatterternary"
           }
          ],
          "surface": [
           {
            "colorbar": {
             "outlinewidth": 0,
             "ticks": ""
            },
            "colorscale": [
             [
              0,
              "#0d0887"
             ],
             [
              0.1111111111111111,
              "#46039f"
             ],
             [
              0.2222222222222222,
              "#7201a8"
             ],
             [
              0.3333333333333333,
              "#9c179e"
             ],
             [
              0.4444444444444444,
              "#bd3786"
             ],
             [
              0.5555555555555556,
              "#d8576b"
             ],
             [
              0.6666666666666666,
              "#ed7953"
             ],
             [
              0.7777777777777778,
              "#fb9f3a"
             ],
             [
              0.8888888888888888,
              "#fdca26"
             ],
             [
              1,
              "#f0f921"
             ]
            ],
            "type": "surface"
           }
          ],
          "table": [
           {
            "cells": {
             "fill": {
              "color": "#EBF0F8"
             },
             "line": {
              "color": "white"
             }
            },
            "header": {
             "fill": {
              "color": "#C8D4E3"
             },
             "line": {
              "color": "white"
             }
            },
            "type": "table"
           }
          ]
         },
         "layout": {
          "annotationdefaults": {
           "arrowcolor": "#2a3f5f",
           "arrowhead": 0,
           "arrowwidth": 1
          },
          "autotypenumbers": "strict",
          "coloraxis": {
           "colorbar": {
            "outlinewidth": 0,
            "ticks": ""
           }
          },
          "colorscale": {
           "diverging": [
            [
             0,
             "#8e0152"
            ],
            [
             0.1,
             "#c51b7d"
            ],
            [
             0.2,
             "#de77ae"
            ],
            [
             0.3,
             "#f1b6da"
            ],
            [
             0.4,
             "#fde0ef"
            ],
            [
             0.5,
             "#f7f7f7"
            ],
            [
             0.6,
             "#e6f5d0"
            ],
            [
             0.7,
             "#b8e186"
            ],
            [
             0.8,
             "#7fbc41"
            ],
            [
             0.9,
             "#4d9221"
            ],
            [
             1,
             "#276419"
            ]
           ],
           "sequential": [
            [
             0,
             "#0d0887"
            ],
            [
             0.1111111111111111,
             "#46039f"
            ],
            [
             0.2222222222222222,
             "#7201a8"
            ],
            [
             0.3333333333333333,
             "#9c179e"
            ],
            [
             0.4444444444444444,
             "#bd3786"
            ],
            [
             0.5555555555555556,
             "#d8576b"
            ],
            [
             0.6666666666666666,
             "#ed7953"
            ],
            [
             0.7777777777777778,
             "#fb9f3a"
            ],
            [
             0.8888888888888888,
             "#fdca26"
            ],
            [
             1,
             "#f0f921"
            ]
           ],
           "sequentialminus": [
            [
             0,
             "#0d0887"
            ],
            [
             0.1111111111111111,
             "#46039f"
            ],
            [
             0.2222222222222222,
             "#7201a8"
            ],
            [
             0.3333333333333333,
             "#9c179e"
            ],
            [
             0.4444444444444444,
             "#bd3786"
            ],
            [
             0.5555555555555556,
             "#d8576b"
            ],
            [
             0.6666666666666666,
             "#ed7953"
            ],
            [
             0.7777777777777778,
             "#fb9f3a"
            ],
            [
             0.8888888888888888,
             "#fdca26"
            ],
            [
             1,
             "#f0f921"
            ]
           ]
          },
          "colorway": [
           "#636efa",
           "#EF553B",
           "#00cc96",
           "#ab63fa",
           "#FFA15A",
           "#19d3f3",
           "#FF6692",
           "#B6E880",
           "#FF97FF",
           "#FECB52"
          ],
          "font": {
           "color": "#2a3f5f"
          },
          "geo": {
           "bgcolor": "white",
           "lakecolor": "white",
           "landcolor": "#E5ECF6",
           "showlakes": true,
           "showland": true,
           "subunitcolor": "white"
          },
          "hoverlabel": {
           "align": "left"
          },
          "hovermode": "closest",
          "mapbox": {
           "style": "light"
          },
          "paper_bgcolor": "white",
          "plot_bgcolor": "#E5ECF6",
          "polar": {
           "angularaxis": {
            "gridcolor": "white",
            "linecolor": "white",
            "ticks": ""
           },
           "bgcolor": "#E5ECF6",
           "radialaxis": {
            "gridcolor": "white",
            "linecolor": "white",
            "ticks": ""
           }
          },
          "scene": {
           "xaxis": {
            "backgroundcolor": "#E5ECF6",
            "gridcolor": "white",
            "gridwidth": 2,
            "linecolor": "white",
            "showbackground": true,
            "ticks": "",
            "zerolinecolor": "white"
           },
           "yaxis": {
            "backgroundcolor": "#E5ECF6",
            "gridcolor": "white",
            "gridwidth": 2,
            "linecolor": "white",
            "showbackground": true,
            "ticks": "",
            "zerolinecolor": "white"
           },
           "zaxis": {
            "backgroundcolor": "#E5ECF6",
            "gridcolor": "white",
            "gridwidth": 2,
            "linecolor": "white",
            "showbackground": true,
            "ticks": "",
            "zerolinecolor": "white"
           }
          },
          "shapedefaults": {
           "line": {
            "color": "#2a3f5f"
           }
          },
          "ternary": {
           "aaxis": {
            "gridcolor": "white",
            "linecolor": "white",
            "ticks": ""
           },
           "baxis": {
            "gridcolor": "white",
            "linecolor": "white",
            "ticks": ""
           },
           "bgcolor": "#E5ECF6",
           "caxis": {
            "gridcolor": "white",
            "linecolor": "white",
            "ticks": ""
           }
          },
          "title": {
           "x": 0.05
          },
          "xaxis": {
           "automargin": true,
           "gridcolor": "white",
           "linecolor": "white",
           "ticks": "",
           "title": {
            "standoff": 15
           },
           "zerolinecolor": "white",
           "zerolinewidth": 2
          },
          "yaxis": {
           "automargin": true,
           "gridcolor": "white",
           "linecolor": "white",
           "ticks": "",
           "title": {
            "standoff": 15
           },
           "zerolinecolor": "white",
           "zerolinewidth": 2
          }
         }
        },
        "title": {
         "font": {
          "color": "#4D5663"
         }
        },
        "xaxis": {
         "gridcolor": "#E1E5ED",
         "showgrid": true,
         "tickfont": {
          "color": "#4D5663"
         },
         "title": {
          "font": {
           "color": "#4D5663"
          },
          "text": ""
         },
         "zerolinecolor": "#E1E5ED"
        },
        "yaxis": {
         "gridcolor": "#E1E5ED",
         "showgrid": true,
         "tickfont": {
          "color": "#4D5663"
         },
         "title": {
          "font": {
           "color": "#4D5663"
          },
          "text": ""
         },
         "zerolinecolor": "#E1E5ED"
        }
       }
      },
      "text/html": [
       "<div>                            <div id=\"ccf9f743-7341-4140-9929-5bb6a10280cc\" class=\"plotly-graph-div\" style=\"height:525px; width:100%;\"></div>            <script type=\"text/javascript\">                require([\"plotly\"], function(Plotly) {                    window.PLOTLYENV=window.PLOTLYENV || {};\n",
       "                    window.PLOTLYENV.BASE_URL='https://plot.ly';                                    if (document.getElementById(\"ccf9f743-7341-4140-9929-5bb6a10280cc\")) {                    Plotly.newPlot(                        \"ccf9f743-7341-4140-9929-5bb6a10280cc\",                        [{\"histfunc\": \"count\", \"histnorm\": \"\", \"marker\": {\"color\": \"rgba(255, 153, 51, 1.0)\", \"line\": {\"color\": \"#4D5663\", \"width\": 1.3}}, \"name\": \"A\", \"opacity\": 0.8, \"orientation\": \"v\", \"type\": \"histogram\", \"x\": [-1.9722087496969223, -0.011671936731851002, -1.581095695462608, -0.34655125540727333, -2.477227183550656, 1.0941645349574753, 1.0229529172073148, -0.2598830879365222, -0.03408300204513225, 0.316552878256426, -0.9560391300790448, 0.03686863729565844, -1.057002166096782, 1.1269640029188206, -2.9267062941867423, -0.746704279766539, 0.05041994672178217, 0.48710115962661305, 0.4411562042292949, 1.9586541598607206, -1.1264446501035439, -0.8893264007516325, -0.912797025545708, -0.6764986758310823, 0.060741922825052995, -1.8449685175213293, -0.2581939666458554, -1.0845735336268134, 1.3092149762046064, -0.3066644272536902, 2.6272020454447893, 1.9776080885194243, 0.5668461448153023, 0.14871793417682036, 0.5589477908589175, 1.569395013601064, 0.6903765899355268, -0.9624507753100264, -1.1982377774156872, 0.3460526200922986, -1.5813823853788058, -0.060380627009908705, -0.45301810031688394, -0.8874355334946187, -0.08069904562752264, 0.9892325935849244, -0.4402405812651847, 0.9062225085353147, 0.051935187991758267, -0.7749692187429894, 0.20663577894552076, -2.6432173202033327, 0.428142633290837, 0.28064340537672056, 0.49998815039368866, -2.282375457843157, -0.2636867903407214, -0.8818468535001559, -0.3507863058950262, -0.3459010474609139, -0.2537435919563658, 0.7534214071578663, -0.9475830799767535, -1.275468885966171, -1.0661714834592064, -0.9048886981411098, 0.25326937641655517, 2.1839204484406034, -0.8272174280292035, -0.4645040193133396, 0.8445505137052899, 0.36733557594376404, -0.21495587739570762, -0.2147215789481739, -1.014567110997098, -0.5200774799937841, -0.6299002021429765, -0.018567917997282603, -1.0129723040910823, -1.244448617322104, 0.9101942921335867, 0.14653083392106686, -0.4696844835441938, 0.25679717959833154, -0.26913999204070016, 0.49298478979236415, -1.7553400104436443, -0.32567192940690426, 0.4963013251259451, 0.33715228833004396, -0.48702644670754175, 0.583173722625296, -0.13151299514984052, -0.17277039856468238, -0.3932252217320785, 1.747981066541866, 1.2996522287381982, 0.17177685124461037, 0.942376140480576, -1.4875548956939744]}],                        {\"barmode\": \"overlay\", \"legend\": {\"bgcolor\": \"#F5F6F9\", \"font\": {\"color\": \"#4D5663\"}}, \"paper_bgcolor\": \"#F5F6F9\", \"plot_bgcolor\": \"#F5F6F9\", \"template\": {\"data\": {\"bar\": [{\"error_x\": {\"color\": \"#2a3f5f\"}, \"error_y\": {\"color\": \"#2a3f5f\"}, \"marker\": {\"line\": {\"color\": \"#E5ECF6\", \"width\": 0.5}}, \"type\": \"bar\"}], \"barpolar\": [{\"marker\": {\"line\": {\"color\": \"#E5ECF6\", \"width\": 0.5}}, \"type\": \"barpolar\"}], \"carpet\": [{\"aaxis\": {\"endlinecolor\": \"#2a3f5f\", \"gridcolor\": \"white\", \"linecolor\": \"white\", \"minorgridcolor\": \"white\", \"startlinecolor\": \"#2a3f5f\"}, \"baxis\": {\"endlinecolor\": \"#2a3f5f\", \"gridcolor\": \"white\", \"linecolor\": \"white\", \"minorgridcolor\": \"white\", \"startlinecolor\": \"#2a3f5f\"}, \"type\": \"carpet\"}], \"choropleth\": [{\"colorbar\": {\"outlinewidth\": 0, \"ticks\": \"\"}, \"type\": \"choropleth\"}], \"contour\": [{\"colorbar\": {\"outlinewidth\": 0, \"ticks\": \"\"}, \"colorscale\": [[0.0, \"#0d0887\"], [0.1111111111111111, \"#46039f\"], [0.2222222222222222, \"#7201a8\"], [0.3333333333333333, \"#9c179e\"], [0.4444444444444444, \"#bd3786\"], [0.5555555555555556, \"#d8576b\"], [0.6666666666666666, \"#ed7953\"], [0.7777777777777778, \"#fb9f3a\"], [0.8888888888888888, \"#fdca26\"], [1.0, \"#f0f921\"]], \"type\": \"contour\"}], \"contourcarpet\": [{\"colorbar\": {\"outlinewidth\": 0, \"ticks\": \"\"}, \"type\": \"contourcarpet\"}], \"heatmap\": [{\"colorbar\": {\"outlinewidth\": 0, \"ticks\": \"\"}, \"colorscale\": [[0.0, \"#0d0887\"], [0.1111111111111111, \"#46039f\"], [0.2222222222222222, \"#7201a8\"], [0.3333333333333333, \"#9c179e\"], [0.4444444444444444, \"#bd3786\"], [0.5555555555555556, \"#d8576b\"], [0.6666666666666666, \"#ed7953\"], [0.7777777777777778, \"#fb9f3a\"], [0.8888888888888888, \"#fdca26\"], [1.0, \"#f0f921\"]], \"type\": \"heatmap\"}], \"heatmapgl\": [{\"colorbar\": {\"outlinewidth\": 0, \"ticks\": \"\"}, \"colorscale\": [[0.0, \"#0d0887\"], [0.1111111111111111, \"#46039f\"], [0.2222222222222222, \"#7201a8\"], [0.3333333333333333, \"#9c179e\"], [0.4444444444444444, \"#bd3786\"], [0.5555555555555556, \"#d8576b\"], [0.6666666666666666, \"#ed7953\"], [0.7777777777777778, \"#fb9f3a\"], [0.8888888888888888, \"#fdca26\"], [1.0, \"#f0f921\"]], \"type\": \"heatmapgl\"}], \"histogram\": [{\"marker\": {\"colorbar\": {\"outlinewidth\": 0, \"ticks\": \"\"}}, \"type\": \"histogram\"}], \"histogram2d\": [{\"colorbar\": {\"outlinewidth\": 0, \"ticks\": \"\"}, \"colorscale\": [[0.0, \"#0d0887\"], [0.1111111111111111, \"#46039f\"], [0.2222222222222222, \"#7201a8\"], [0.3333333333333333, \"#9c179e\"], [0.4444444444444444, \"#bd3786\"], [0.5555555555555556, \"#d8576b\"], [0.6666666666666666, \"#ed7953\"], [0.7777777777777778, \"#fb9f3a\"], [0.8888888888888888, \"#fdca26\"], [1.0, \"#f0f921\"]], \"type\": \"histogram2d\"}], \"histogram2dcontour\": [{\"colorbar\": {\"outlinewidth\": 0, \"ticks\": \"\"}, \"colorscale\": [[0.0, \"#0d0887\"], [0.1111111111111111, \"#46039f\"], [0.2222222222222222, \"#7201a8\"], [0.3333333333333333, \"#9c179e\"], [0.4444444444444444, \"#bd3786\"], [0.5555555555555556, \"#d8576b\"], [0.6666666666666666, \"#ed7953\"], [0.7777777777777778, \"#fb9f3a\"], [0.8888888888888888, \"#fdca26\"], [1.0, \"#f0f921\"]], \"type\": \"histogram2dcontour\"}], \"mesh3d\": [{\"colorbar\": {\"outlinewidth\": 0, \"ticks\": \"\"}, \"type\": \"mesh3d\"}], \"parcoords\": [{\"line\": {\"colorbar\": {\"outlinewidth\": 0, \"ticks\": \"\"}}, \"type\": \"parcoords\"}], \"pie\": [{\"automargin\": true, \"type\": \"pie\"}], \"scatter\": [{\"marker\": {\"colorbar\": {\"outlinewidth\": 0, \"ticks\": \"\"}}, \"type\": \"scatter\"}], \"scatter3d\": [{\"line\": {\"colorbar\": {\"outlinewidth\": 0, \"ticks\": \"\"}}, \"marker\": {\"colorbar\": {\"outlinewidth\": 0, \"ticks\": \"\"}}, \"type\": \"scatter3d\"}], \"scattercarpet\": [{\"marker\": {\"colorbar\": {\"outlinewidth\": 0, \"ticks\": \"\"}}, \"type\": \"scattercarpet\"}], \"scattergeo\": [{\"marker\": {\"colorbar\": {\"outlinewidth\": 0, \"ticks\": \"\"}}, \"type\": \"scattergeo\"}], \"scattergl\": [{\"marker\": {\"colorbar\": {\"outlinewidth\": 0, \"ticks\": \"\"}}, \"type\": \"scattergl\"}], \"scattermapbox\": [{\"marker\": {\"colorbar\": {\"outlinewidth\": 0, \"ticks\": \"\"}}, \"type\": \"scattermapbox\"}], \"scatterpolar\": [{\"marker\": {\"colorbar\": {\"outlinewidth\": 0, \"ticks\": \"\"}}, \"type\": \"scatterpolar\"}], \"scatterpolargl\": [{\"marker\": {\"colorbar\": {\"outlinewidth\": 0, \"ticks\": \"\"}}, \"type\": \"scatterpolargl\"}], \"scatterternary\": [{\"marker\": {\"colorbar\": {\"outlinewidth\": 0, \"ticks\": \"\"}}, \"type\": \"scatterternary\"}], \"surface\": [{\"colorbar\": {\"outlinewidth\": 0, \"ticks\": \"\"}, \"colorscale\": [[0.0, \"#0d0887\"], [0.1111111111111111, \"#46039f\"], [0.2222222222222222, \"#7201a8\"], [0.3333333333333333, \"#9c179e\"], [0.4444444444444444, \"#bd3786\"], [0.5555555555555556, \"#d8576b\"], [0.6666666666666666, \"#ed7953\"], [0.7777777777777778, \"#fb9f3a\"], [0.8888888888888888, \"#fdca26\"], [1.0, \"#f0f921\"]], \"type\": \"surface\"}], \"table\": [{\"cells\": {\"fill\": {\"color\": \"#EBF0F8\"}, \"line\": {\"color\": \"white\"}}, \"header\": {\"fill\": {\"color\": \"#C8D4E3\"}, \"line\": {\"color\": \"white\"}}, \"type\": \"table\"}]}, \"layout\": {\"annotationdefaults\": {\"arrowcolor\": \"#2a3f5f\", \"arrowhead\": 0, \"arrowwidth\": 1}, \"autotypenumbers\": \"strict\", \"coloraxis\": {\"colorbar\": {\"outlinewidth\": 0, \"ticks\": \"\"}}, \"colorscale\": {\"diverging\": [[0, \"#8e0152\"], [0.1, \"#c51b7d\"], [0.2, \"#de77ae\"], [0.3, \"#f1b6da\"], [0.4, \"#fde0ef\"], [0.5, \"#f7f7f7\"], [0.6, \"#e6f5d0\"], [0.7, \"#b8e186\"], [0.8, \"#7fbc41\"], [0.9, \"#4d9221\"], [1, \"#276419\"]], \"sequential\": [[0.0, \"#0d0887\"], [0.1111111111111111, \"#46039f\"], [0.2222222222222222, \"#7201a8\"], [0.3333333333333333, \"#9c179e\"], [0.4444444444444444, \"#bd3786\"], [0.5555555555555556, \"#d8576b\"], [0.6666666666666666, \"#ed7953\"], [0.7777777777777778, \"#fb9f3a\"], [0.8888888888888888, \"#fdca26\"], [1.0, \"#f0f921\"]], \"sequentialminus\": [[0.0, \"#0d0887\"], [0.1111111111111111, \"#46039f\"], [0.2222222222222222, \"#7201a8\"], [0.3333333333333333, \"#9c179e\"], [0.4444444444444444, \"#bd3786\"], [0.5555555555555556, \"#d8576b\"], [0.6666666666666666, \"#ed7953\"], [0.7777777777777778, \"#fb9f3a\"], [0.8888888888888888, \"#fdca26\"], [1.0, \"#f0f921\"]]}, \"colorway\": [\"#636efa\", \"#EF553B\", \"#00cc96\", \"#ab63fa\", \"#FFA15A\", \"#19d3f3\", \"#FF6692\", \"#B6E880\", \"#FF97FF\", \"#FECB52\"], \"font\": {\"color\": \"#2a3f5f\"}, \"geo\": {\"bgcolor\": \"white\", \"lakecolor\": \"white\", \"landcolor\": \"#E5ECF6\", \"showlakes\": true, \"showland\": true, \"subunitcolor\": \"white\"}, \"hoverlabel\": {\"align\": \"left\"}, \"hovermode\": \"closest\", \"mapbox\": {\"style\": \"light\"}, \"paper_bgcolor\": \"white\", \"plot_bgcolor\": \"#E5ECF6\", \"polar\": {\"angularaxis\": {\"gridcolor\": \"white\", \"linecolor\": \"white\", \"ticks\": \"\"}, \"bgcolor\": \"#E5ECF6\", \"radialaxis\": {\"gridcolor\": \"white\", \"linecolor\": \"white\", \"ticks\": \"\"}}, \"scene\": {\"xaxis\": {\"backgroundcolor\": \"#E5ECF6\", \"gridcolor\": \"white\", \"gridwidth\": 2, \"linecolor\": \"white\", \"showbackground\": true, \"ticks\": \"\", \"zerolinecolor\": \"white\"}, \"yaxis\": {\"backgroundcolor\": \"#E5ECF6\", \"gridcolor\": \"white\", \"gridwidth\": 2, \"linecolor\": \"white\", \"showbackground\": true, \"ticks\": \"\", \"zerolinecolor\": \"white\"}, \"zaxis\": {\"backgroundcolor\": \"#E5ECF6\", \"gridcolor\": \"white\", \"gridwidth\": 2, \"linecolor\": \"white\", \"showbackground\": true, \"ticks\": \"\", \"zerolinecolor\": \"white\"}}, \"shapedefaults\": {\"line\": {\"color\": \"#2a3f5f\"}}, \"ternary\": {\"aaxis\": {\"gridcolor\": \"white\", \"linecolor\": \"white\", \"ticks\": \"\"}, \"baxis\": {\"gridcolor\": \"white\", \"linecolor\": \"white\", \"ticks\": \"\"}, \"bgcolor\": \"#E5ECF6\", \"caxis\": {\"gridcolor\": \"white\", \"linecolor\": \"white\", \"ticks\": \"\"}}, \"title\": {\"x\": 0.05}, \"xaxis\": {\"automargin\": true, \"gridcolor\": \"white\", \"linecolor\": \"white\", \"ticks\": \"\", \"title\": {\"standoff\": 15}, \"zerolinecolor\": \"white\", \"zerolinewidth\": 2}, \"yaxis\": {\"automargin\": true, \"gridcolor\": \"white\", \"linecolor\": \"white\", \"ticks\": \"\", \"title\": {\"standoff\": 15}, \"zerolinecolor\": \"white\", \"zerolinewidth\": 2}}}, \"title\": {\"font\": {\"color\": \"#4D5663\"}}, \"xaxis\": {\"gridcolor\": \"#E1E5ED\", \"showgrid\": true, \"tickfont\": {\"color\": \"#4D5663\"}, \"title\": {\"font\": {\"color\": \"#4D5663\"}, \"text\": \"\"}, \"zerolinecolor\": \"#E1E5ED\"}, \"yaxis\": {\"gridcolor\": \"#E1E5ED\", \"showgrid\": true, \"tickfont\": {\"color\": \"#4D5663\"}, \"title\": {\"font\": {\"color\": \"#4D5663\"}, \"text\": \"\"}, \"zerolinecolor\": \"#E1E5ED\"}},                        {\"showLink\": true, \"linkText\": \"Export to plot.ly\", \"plotlyServerURL\": \"https://plot.ly\", \"responsive\": true}                    ).then(function(){\n",
       "                            \n",
       "var gd = document.getElementById('ccf9f743-7341-4140-9929-5bb6a10280cc');\n",
       "var x = new MutationObserver(function (mutations, observer) {{\n",
       "        var display = window.getComputedStyle(gd).display;\n",
       "        if (!display || display === 'none') {{\n",
       "            console.log([gd, 'removed!']);\n",
       "            Plotly.purge(gd);\n",
       "            observer.disconnect();\n",
       "        }}\n",
       "}});\n",
       "\n",
       "// Listen for the removal of the full notebook cells\n",
       "var notebookContainer = gd.closest('#notebook-container');\n",
       "if (notebookContainer) {{\n",
       "    x.observe(notebookContainer, {childList: true});\n",
       "}}\n",
       "\n",
       "// Listen for the clearing of the current output cell\n",
       "var outputEl = gd.closest('.output');\n",
       "if (outputEl) {{\n",
       "    x.observe(outputEl, {childList: true});\n",
       "}}\n",
       "\n",
       "                        })                };                });            </script>        </div>"
      ]
     },
     "metadata": {},
     "output_type": "display_data"
    }
   ],
   "source": [
    "df['A'].iplot(kind='hist')"
   ]
  },
  {
   "cell_type": "code",
   "execution_count": 44,
   "metadata": {
    "scrolled": true
   },
   "outputs": [
    {
     "name": "stderr",
     "output_type": "stream",
     "text": [
      "D:\\anaconda\\lib\\site-packages\\cufflinks\\plotlytools.py:849: FutureWarning:\n",
      "\n",
      "The pandas.np module is deprecated and will be removed from pandas in a future version. Import numpy directly instead\n",
      "\n",
      "D:\\anaconda\\lib\\site-packages\\cufflinks\\plotlytools.py:850: FutureWarning:\n",
      "\n",
      "The pandas.np module is deprecated and will be removed from pandas in a future version. Import numpy directly instead\n",
      "\n"
     ]
    },
    {
     "data": {
      "application/vnd.plotly.v1+json": {
       "config": {
        "linkText": "Export to plot.ly",
        "plotlyServerURL": "https://plot.ly",
        "showLink": true
       },
       "data": [
        {
         "line": {
          "color": "rgba(255, 153, 51, 1.0)",
          "dash": "solid",
          "shape": "linear",
          "width": 1.3
         },
         "mode": "lines",
         "name": "A",
         "text": "",
         "type": "scatter",
         "x": [
          0,
          1,
          2,
          3,
          4,
          5,
          6,
          7,
          8,
          9,
          10,
          11,
          12,
          13,
          14,
          15,
          16,
          17,
          18,
          19,
          20,
          21,
          22,
          23,
          24,
          25,
          26,
          27,
          28,
          29,
          30,
          31,
          32,
          33,
          34,
          35,
          36,
          37,
          38,
          39,
          40,
          41,
          42,
          43,
          44,
          45,
          46,
          47,
          48,
          49,
          50,
          51,
          52,
          53,
          54,
          55,
          56,
          57,
          58,
          59,
          60,
          61,
          62,
          63,
          64,
          65,
          66,
          67,
          68,
          69,
          70,
          71,
          72,
          73,
          74,
          75,
          76,
          77,
          78,
          79,
          80,
          81,
          82,
          83,
          84,
          85,
          86,
          87,
          88,
          89,
          90,
          91,
          92,
          93,
          94,
          95,
          96,
          97,
          98,
          99
         ],
         "y": [
          -1.9722087496969223,
          -0.011671936731851002,
          -1.581095695462608,
          -0.34655125540727333,
          -2.477227183550656,
          1.0941645349574753,
          1.0229529172073148,
          -0.2598830879365222,
          -0.03408300204513225,
          0.316552878256426,
          -0.9560391300790448,
          0.03686863729565844,
          -1.057002166096782,
          1.1269640029188206,
          -2.9267062941867423,
          -0.746704279766539,
          0.05041994672178217,
          0.48710115962661305,
          0.4411562042292949,
          1.9586541598607206,
          -1.1264446501035439,
          -0.8893264007516325,
          -0.912797025545708,
          -0.6764986758310823,
          0.060741922825052995,
          -1.8449685175213293,
          -0.2581939666458554,
          -1.0845735336268134,
          1.3092149762046064,
          -0.3066644272536902,
          2.6272020454447893,
          1.9776080885194243,
          0.5668461448153023,
          0.14871793417682036,
          0.5589477908589175,
          1.569395013601064,
          0.6903765899355268,
          -0.9624507753100264,
          -1.1982377774156872,
          0.3460526200922986,
          -1.5813823853788058,
          -0.060380627009908705,
          -0.45301810031688394,
          -0.8874355334946187,
          -0.08069904562752264,
          0.9892325935849244,
          -0.4402405812651847,
          0.9062225085353147,
          0.051935187991758267,
          -0.7749692187429894,
          0.20663577894552076,
          -2.6432173202033327,
          0.428142633290837,
          0.28064340537672056,
          0.49998815039368866,
          -2.282375457843157,
          -0.2636867903407214,
          -0.8818468535001559,
          -0.3507863058950262,
          -0.3459010474609139,
          -0.2537435919563658,
          0.7534214071578663,
          -0.9475830799767535,
          -1.275468885966171,
          -1.0661714834592064,
          -0.9048886981411098,
          0.25326937641655517,
          2.1839204484406034,
          -0.8272174280292035,
          -0.4645040193133396,
          0.8445505137052899,
          0.36733557594376404,
          -0.21495587739570762,
          -0.2147215789481739,
          -1.014567110997098,
          -0.5200774799937841,
          -0.6299002021429765,
          -0.018567917997282603,
          -1.0129723040910823,
          -1.244448617322104,
          0.9101942921335867,
          0.14653083392106686,
          -0.4696844835441938,
          0.25679717959833154,
          -0.26913999204070016,
          0.49298478979236415,
          -1.7553400104436443,
          -0.32567192940690426,
          0.4963013251259451,
          0.33715228833004396,
          -0.48702644670754175,
          0.583173722625296,
          -0.13151299514984052,
          -0.17277039856468238,
          -0.3932252217320785,
          1.747981066541866,
          1.2996522287381982,
          0.17177685124461037,
          0.942376140480576,
          -1.4875548956939744
         ]
        },
        {
         "line": {
          "color": "rgba(55, 128, 191, 1.0)",
          "dash": "solid",
          "shape": "linear",
          "width": 1.3
         },
         "mode": "lines",
         "name": "B",
         "text": "",
         "type": "scatter",
         "x": [
          0,
          1,
          2,
          3,
          4,
          5,
          6,
          7,
          8,
          9,
          10,
          11,
          12,
          13,
          14,
          15,
          16,
          17,
          18,
          19,
          20,
          21,
          22,
          23,
          24,
          25,
          26,
          27,
          28,
          29,
          30,
          31,
          32,
          33,
          34,
          35,
          36,
          37,
          38,
          39,
          40,
          41,
          42,
          43,
          44,
          45,
          46,
          47,
          48,
          49,
          50,
          51,
          52,
          53,
          54,
          55,
          56,
          57,
          58,
          59,
          60,
          61,
          62,
          63,
          64,
          65,
          66,
          67,
          68,
          69,
          70,
          71,
          72,
          73,
          74,
          75,
          76,
          77,
          78,
          79,
          80,
          81,
          82,
          83,
          84,
          85,
          86,
          87,
          88,
          89,
          90,
          91,
          92,
          93,
          94,
          95,
          96,
          97,
          98,
          99
         ],
         "y": [
          -0.15467443438003167,
          -1.103714486619362,
          -0.0541684553591224,
          0.41422239107560715,
          -0.47311978978456737,
          0.08890758298241469,
          0.6542883889705488,
          0.1526791972817478,
          -1.0761625495932814,
          0.4108953551780461,
          0.8849114941005151,
          -1.7404564207865973,
          -0.2834726233350443,
          -0.7225958554493189,
          -0.3360213951887905,
          -0.43360752963912125,
          -0.28610770283411324,
          0.5140475923376779,
          0.6498272394533989,
          -0.1880381648673378,
          3.029906110373341,
          -0.655023507621413,
          -0.29993908275112585,
          0.17257175369280023,
          -0.8252449189026975,
          -0.5068002853772337,
          0.7260798014189815,
          -0.3890204893183104,
          -0.42350519981926266,
          -0.9830897847082721,
          -0.745081495310831,
          0.5885934793538804,
          1.3819602740760888,
          -0.6052431371727914,
          -0.795447989408926,
          -0.36279193604862736,
          0.6507982198529062,
          0.26554271337673624,
          0.4278905943406648,
          0.7667337976267404,
          -1.009477598035802,
          1.7868695252714277,
          0.07238439431084817,
          -0.2921642502366185,
          0.8037729291547354,
          -0.2997123802579395,
          0.5540178206043035,
          0.4378922178605772,
          0.516907689763789,
          -0.7489107442737745,
          0.3042169050027822,
          -1.2286144224027291,
          -1.4768661895797555,
          -0.5706672119608341,
          1.4961773942937893,
          -0.15560187954158308,
          0.03247288091238335,
          0.3121279723427983,
          1.2036174628101248,
          -1.8149602214495568,
          -0.25267277264871385,
          -0.31891897183935325,
          -0.47381322603680753,
          0.9177839120362744,
          -0.6619439676220062,
          -0.22228104761216375,
          0.5167188779834639,
          -0.5886601441588484,
          -0.49111226630245897,
          0.2442643888637009,
          -0.04507916296916212,
          0.9049845080788567,
          0.49394996349843406,
          0.202128923957163,
          0.9149650220094239,
          0.20786740242860877,
          1.2558499203678959,
          -0.8882369239533632,
          -0.5665994304015882,
          -2.52713736735959,
          -0.40202525070563416,
          0.42337816477791873,
          2.930189646869836,
          -0.29870561060645767,
          1.0259894736560005,
          -0.5434596778354565,
          -0.48187202723754213,
          -0.7849654446928984,
          0.5354112571672852,
          -0.12100382967481559,
          -1.288362701278329,
          -1.3144891120780753,
          -0.3190835777670386,
          -0.9499938842804496,
          -1.3683098023592501,
          -0.4998233472993743,
          0.47028413887107634,
          0.7786479452061807,
          -0.7357339189416259,
          -1.3464941644058384
         ]
        },
        {
         "connectgaps": false,
         "fill": "tozeroy",
         "line": {
          "color": "green",
          "dash": "solid",
          "shape": "linear",
          "width": 0.5
         },
         "mode": "lines",
         "name": "Spread",
         "showlegend": false,
         "type": "scatter",
         "x": [
          0,
          1,
          2,
          3,
          4,
          5,
          6,
          7,
          8,
          9,
          10,
          11,
          12,
          13,
          14,
          15,
          16,
          17,
          18,
          19,
          20,
          21,
          22,
          23,
          24,
          25,
          26,
          27,
          28,
          29,
          30,
          31,
          32,
          33,
          34,
          35,
          36,
          37,
          38,
          39,
          40,
          41,
          42,
          43,
          44,
          45,
          46,
          47,
          48,
          49,
          50,
          51,
          52,
          53,
          54,
          55,
          56,
          57,
          58,
          59,
          60,
          61,
          62,
          63,
          64,
          65,
          66,
          67,
          68,
          69,
          70,
          71,
          72,
          73,
          74,
          75,
          76,
          77,
          78,
          79,
          80,
          81,
          82,
          83,
          84,
          85,
          86,
          87,
          88,
          89,
          90,
          91,
          92,
          93,
          94,
          95,
          96,
          97,
          98,
          99
         ],
         "xaxis": "x2",
         "y": [
          "",
          1.092042549887511,
          "",
          "",
          "",
          1.0052569519750607,
          0.3686645282367661,
          "",
          1.0420795475481492,
          "",
          "",
          1.7773250580822557,
          "",
          1.8495598583681394,
          "",
          "",
          0.3365276495558954,
          "",
          "",
          2.1466923247280585,
          "",
          "",
          "",
          "",
          0.8859868417277504,
          "",
          "",
          "",
          1.732720176023869,
          0.676425357454582,
          3.37228354075562,
          1.3890146091655438,
          "",
          0.7539610713496118,
          1.3543957802678435,
          1.9321869496496913,
          0.03957837008262055,
          "",
          "",
          "",
          "",
          "",
          "",
          "",
          "",
          1.288944973842864,
          "",
          0.4683302906747375,
          "",
          "",
          "",
          "",
          1.9050088228705926,
          0.8513106173375546,
          "",
          "",
          "",
          "",
          "",
          1.469059173988643,
          "",
          1.0723403789972195,
          "",
          "",
          "",
          "",
          "",
          2.7725805925994518,
          "",
          "",
          0.889629676674452,
          "",
          "",
          "",
          "",
          "",
          "",
          0.8696690059560805,
          "",
          1.282688750037486,
          1.312219542839221,
          "",
          "",
          0.5555027902047892,
          "",
          1.0364444676278206,
          "",
          0.45929351528599416,
          "",
          0.45815611800485956,
          0.8013362545707872,
          1.8976628347033713,
          0.18757058261719808,
          0.7772234857157673,
          0.9750845806271716,
          2.2478044138412403,
          0.8293680898671218,
          "",
          1.678110059422202,
          ""
         ],
         "yaxis": "y2"
        },
        {
         "connectgaps": false,
         "fill": "tozeroy",
         "line": {
          "color": "red",
          "dash": "solid",
          "shape": "linear",
          "width": 0.5
         },
         "mode": "lines",
         "name": "Spread",
         "showlegend": false,
         "type": "scatter",
         "x": [
          0,
          1,
          2,
          3,
          4,
          5,
          6,
          7,
          8,
          9,
          10,
          11,
          12,
          13,
          14,
          15,
          16,
          17,
          18,
          19,
          20,
          21,
          22,
          23,
          24,
          25,
          26,
          27,
          28,
          29,
          30,
          31,
          32,
          33,
          34,
          35,
          36,
          37,
          38,
          39,
          40,
          41,
          42,
          43,
          44,
          45,
          46,
          47,
          48,
          49,
          50,
          51,
          52,
          53,
          54,
          55,
          56,
          57,
          58,
          59,
          60,
          61,
          62,
          63,
          64,
          65,
          66,
          67,
          68,
          69,
          70,
          71,
          72,
          73,
          74,
          75,
          76,
          77,
          78,
          79,
          80,
          81,
          82,
          83,
          84,
          85,
          86,
          87,
          88,
          89,
          90,
          91,
          92,
          93,
          94,
          95,
          96,
          97,
          98,
          99
         ],
         "xaxis": "x2",
         "y": [
          -1.8175343153168906,
          "",
          -1.5269272401034857,
          -0.7607736464828805,
          -2.0041073937660885,
          "",
          "",
          -0.41256228521827,
          "",
          -0.09434247692162012,
          -1.84095062417956,
          "",
          -0.7735295427617378,
          "",
          -2.590684898997952,
          -0.3130967501274177,
          "",
          -0.026946432711064894,
          -0.20867103522410402,
          "",
          -4.156350760476885,
          -0.23430289313021946,
          -0.6128579427945822,
          -0.8490704295238825,
          "",
          -1.3381682321440955,
          -0.984273768064837,
          -0.695553044308503,
          "",
          "",
          "",
          "",
          -0.8151141292607865,
          "",
          "",
          "",
          "",
          -1.2279934886867627,
          -1.626128371756352,
          -0.42068117753444184,
          -0.5719047873430039,
          -1.8472501522813365,
          -0.5254024946277321,
          -0.5952712832580002,
          -0.884471974782258,
          "",
          -0.9942584018694882,
          "",
          -0.4649725017720307,
          -0.026058474469214943,
          -0.09758112605726144,
          -1.4146028978006036,
          "",
          "",
          -0.9961892439001006,
          -2.126773578301574,
          -0.2961596712531048,
          -1.1939748258429543,
          -1.554403768705151,
          "",
          -0.00107081930765196,
          "",
          -0.473769853939946,
          -2.193252798002445,
          -0.4042275158372002,
          -0.6826076505289461,
          -0.2634495015669088,
          "",
          -0.33610516172674454,
          -0.7087684081770405,
          "",
          -0.5376489321350926,
          -0.7089058408941417,
          -0.4168505029053369,
          -1.9295321330065218,
          -0.7279448824223929,
          -1.8857501225108724,
          "",
          -0.4463728736894941,
          "",
          "",
          -0.27684733085685187,
          -3.3998741304140294,
          "",
          -1.2951294656967005,
          "",
          -1.2734679832061022,
          "",
          -0.03910993204134011,
          "",
          "",
          "",
          "",
          "",
          "",
          "",
          "",
          -0.6068710939615704,
          "",
          -0.141060731288136
         ],
         "yaxis": "y2"
        }
       ],
       "layout": {
        "hovermode": "x",
        "legend": {
         "bgcolor": "#F5F6F9",
         "font": {
          "color": "#4D5663"
         }
        },
        "paper_bgcolor": "#F5F6F9",
        "plot_bgcolor": "#F5F6F9",
        "template": {
         "data": {
          "bar": [
           {
            "error_x": {
             "color": "#2a3f5f"
            },
            "error_y": {
             "color": "#2a3f5f"
            },
            "marker": {
             "line": {
              "color": "#E5ECF6",
              "width": 0.5
             }
            },
            "type": "bar"
           }
          ],
          "barpolar": [
           {
            "marker": {
             "line": {
              "color": "#E5ECF6",
              "width": 0.5
             }
            },
            "type": "barpolar"
           }
          ],
          "carpet": [
           {
            "aaxis": {
             "endlinecolor": "#2a3f5f",
             "gridcolor": "white",
             "linecolor": "white",
             "minorgridcolor": "white",
             "startlinecolor": "#2a3f5f"
            },
            "baxis": {
             "endlinecolor": "#2a3f5f",
             "gridcolor": "white",
             "linecolor": "white",
             "minorgridcolor": "white",
             "startlinecolor": "#2a3f5f"
            },
            "type": "carpet"
           }
          ],
          "choropleth": [
           {
            "colorbar": {
             "outlinewidth": 0,
             "ticks": ""
            },
            "type": "choropleth"
           }
          ],
          "contour": [
           {
            "colorbar": {
             "outlinewidth": 0,
             "ticks": ""
            },
            "colorscale": [
             [
              0,
              "#0d0887"
             ],
             [
              0.1111111111111111,
              "#46039f"
             ],
             [
              0.2222222222222222,
              "#7201a8"
             ],
             [
              0.3333333333333333,
              "#9c179e"
             ],
             [
              0.4444444444444444,
              "#bd3786"
             ],
             [
              0.5555555555555556,
              "#d8576b"
             ],
             [
              0.6666666666666666,
              "#ed7953"
             ],
             [
              0.7777777777777778,
              "#fb9f3a"
             ],
             [
              0.8888888888888888,
              "#fdca26"
             ],
             [
              1,
              "#f0f921"
             ]
            ],
            "type": "contour"
           }
          ],
          "contourcarpet": [
           {
            "colorbar": {
             "outlinewidth": 0,
             "ticks": ""
            },
            "type": "contourcarpet"
           }
          ],
          "heatmap": [
           {
            "colorbar": {
             "outlinewidth": 0,
             "ticks": ""
            },
            "colorscale": [
             [
              0,
              "#0d0887"
             ],
             [
              0.1111111111111111,
              "#46039f"
             ],
             [
              0.2222222222222222,
              "#7201a8"
             ],
             [
              0.3333333333333333,
              "#9c179e"
             ],
             [
              0.4444444444444444,
              "#bd3786"
             ],
             [
              0.5555555555555556,
              "#d8576b"
             ],
             [
              0.6666666666666666,
              "#ed7953"
             ],
             [
              0.7777777777777778,
              "#fb9f3a"
             ],
             [
              0.8888888888888888,
              "#fdca26"
             ],
             [
              1,
              "#f0f921"
             ]
            ],
            "type": "heatmap"
           }
          ],
          "heatmapgl": [
           {
            "colorbar": {
             "outlinewidth": 0,
             "ticks": ""
            },
            "colorscale": [
             [
              0,
              "#0d0887"
             ],
             [
              0.1111111111111111,
              "#46039f"
             ],
             [
              0.2222222222222222,
              "#7201a8"
             ],
             [
              0.3333333333333333,
              "#9c179e"
             ],
             [
              0.4444444444444444,
              "#bd3786"
             ],
             [
              0.5555555555555556,
              "#d8576b"
             ],
             [
              0.6666666666666666,
              "#ed7953"
             ],
             [
              0.7777777777777778,
              "#fb9f3a"
             ],
             [
              0.8888888888888888,
              "#fdca26"
             ],
             [
              1,
              "#f0f921"
             ]
            ],
            "type": "heatmapgl"
           }
          ],
          "histogram": [
           {
            "marker": {
             "colorbar": {
              "outlinewidth": 0,
              "ticks": ""
             }
            },
            "type": "histogram"
           }
          ],
          "histogram2d": [
           {
            "colorbar": {
             "outlinewidth": 0,
             "ticks": ""
            },
            "colorscale": [
             [
              0,
              "#0d0887"
             ],
             [
              0.1111111111111111,
              "#46039f"
             ],
             [
              0.2222222222222222,
              "#7201a8"
             ],
             [
              0.3333333333333333,
              "#9c179e"
             ],
             [
              0.4444444444444444,
              "#bd3786"
             ],
             [
              0.5555555555555556,
              "#d8576b"
             ],
             [
              0.6666666666666666,
              "#ed7953"
             ],
             [
              0.7777777777777778,
              "#fb9f3a"
             ],
             [
              0.8888888888888888,
              "#fdca26"
             ],
             [
              1,
              "#f0f921"
             ]
            ],
            "type": "histogram2d"
           }
          ],
          "histogram2dcontour": [
           {
            "colorbar": {
             "outlinewidth": 0,
             "ticks": ""
            },
            "colorscale": [
             [
              0,
              "#0d0887"
             ],
             [
              0.1111111111111111,
              "#46039f"
             ],
             [
              0.2222222222222222,
              "#7201a8"
             ],
             [
              0.3333333333333333,
              "#9c179e"
             ],
             [
              0.4444444444444444,
              "#bd3786"
             ],
             [
              0.5555555555555556,
              "#d8576b"
             ],
             [
              0.6666666666666666,
              "#ed7953"
             ],
             [
              0.7777777777777778,
              "#fb9f3a"
             ],
             [
              0.8888888888888888,
              "#fdca26"
             ],
             [
              1,
              "#f0f921"
             ]
            ],
            "type": "histogram2dcontour"
           }
          ],
          "mesh3d": [
           {
            "colorbar": {
             "outlinewidth": 0,
             "ticks": ""
            },
            "type": "mesh3d"
           }
          ],
          "parcoords": [
           {
            "line": {
             "colorbar": {
              "outlinewidth": 0,
              "ticks": ""
             }
            },
            "type": "parcoords"
           }
          ],
          "pie": [
           {
            "automargin": true,
            "type": "pie"
           }
          ],
          "scatter": [
           {
            "marker": {
             "colorbar": {
              "outlinewidth": 0,
              "ticks": ""
             }
            },
            "type": "scatter"
           }
          ],
          "scatter3d": [
           {
            "line": {
             "colorbar": {
              "outlinewidth": 0,
              "ticks": ""
             }
            },
            "marker": {
             "colorbar": {
              "outlinewidth": 0,
              "ticks": ""
             }
            },
            "type": "scatter3d"
           }
          ],
          "scattercarpet": [
           {
            "marker": {
             "colorbar": {
              "outlinewidth": 0,
              "ticks": ""
             }
            },
            "type": "scattercarpet"
           }
          ],
          "scattergeo": [
           {
            "marker": {
             "colorbar": {
              "outlinewidth": 0,
              "ticks": ""
             }
            },
            "type": "scattergeo"
           }
          ],
          "scattergl": [
           {
            "marker": {
             "colorbar": {
              "outlinewidth": 0,
              "ticks": ""
             }
            },
            "type": "scattergl"
           }
          ],
          "scattermapbox": [
           {
            "marker": {
             "colorbar": {
              "outlinewidth": 0,
              "ticks": ""
             }
            },
            "type": "scattermapbox"
           }
          ],
          "scatterpolar": [
           {
            "marker": {
             "colorbar": {
              "outlinewidth": 0,
              "ticks": ""
             }
            },
            "type": "scatterpolar"
           }
          ],
          "scatterpolargl": [
           {
            "marker": {
             "colorbar": {
              "outlinewidth": 0,
              "ticks": ""
             }
            },
            "type": "scatterpolargl"
           }
          ],
          "scatterternary": [
           {
            "marker": {
             "colorbar": {
              "outlinewidth": 0,
              "ticks": ""
             }
            },
            "type": "scatterternary"
           }
          ],
          "surface": [
           {
            "colorbar": {
             "outlinewidth": 0,
             "ticks": ""
            },
            "colorscale": [
             [
              0,
              "#0d0887"
             ],
             [
              0.1111111111111111,
              "#46039f"
             ],
             [
              0.2222222222222222,
              "#7201a8"
             ],
             [
              0.3333333333333333,
              "#9c179e"
             ],
             [
              0.4444444444444444,
              "#bd3786"
             ],
             [
              0.5555555555555556,
              "#d8576b"
             ],
             [
              0.6666666666666666,
              "#ed7953"
             ],
             [
              0.7777777777777778,
              "#fb9f3a"
             ],
             [
              0.8888888888888888,
              "#fdca26"
             ],
             [
              1,
              "#f0f921"
             ]
            ],
            "type": "surface"
           }
          ],
          "table": [
           {
            "cells": {
             "fill": {
              "color": "#EBF0F8"
             },
             "line": {
              "color": "white"
             }
            },
            "header": {
             "fill": {
              "color": "#C8D4E3"
             },
             "line": {
              "color": "white"
             }
            },
            "type": "table"
           }
          ]
         },
         "layout": {
          "annotationdefaults": {
           "arrowcolor": "#2a3f5f",
           "arrowhead": 0,
           "arrowwidth": 1
          },
          "autotypenumbers": "strict",
          "coloraxis": {
           "colorbar": {
            "outlinewidth": 0,
            "ticks": ""
           }
          },
          "colorscale": {
           "diverging": [
            [
             0,
             "#8e0152"
            ],
            [
             0.1,
             "#c51b7d"
            ],
            [
             0.2,
             "#de77ae"
            ],
            [
             0.3,
             "#f1b6da"
            ],
            [
             0.4,
             "#fde0ef"
            ],
            [
             0.5,
             "#f7f7f7"
            ],
            [
             0.6,
             "#e6f5d0"
            ],
            [
             0.7,
             "#b8e186"
            ],
            [
             0.8,
             "#7fbc41"
            ],
            [
             0.9,
             "#4d9221"
            ],
            [
             1,
             "#276419"
            ]
           ],
           "sequential": [
            [
             0,
             "#0d0887"
            ],
            [
             0.1111111111111111,
             "#46039f"
            ],
            [
             0.2222222222222222,
             "#7201a8"
            ],
            [
             0.3333333333333333,
             "#9c179e"
            ],
            [
             0.4444444444444444,
             "#bd3786"
            ],
            [
             0.5555555555555556,
             "#d8576b"
            ],
            [
             0.6666666666666666,
             "#ed7953"
            ],
            [
             0.7777777777777778,
             "#fb9f3a"
            ],
            [
             0.8888888888888888,
             "#fdca26"
            ],
            [
             1,
             "#f0f921"
            ]
           ],
           "sequentialminus": [
            [
             0,
             "#0d0887"
            ],
            [
             0.1111111111111111,
             "#46039f"
            ],
            [
             0.2222222222222222,
             "#7201a8"
            ],
            [
             0.3333333333333333,
             "#9c179e"
            ],
            [
             0.4444444444444444,
             "#bd3786"
            ],
            [
             0.5555555555555556,
             "#d8576b"
            ],
            [
             0.6666666666666666,
             "#ed7953"
            ],
            [
             0.7777777777777778,
             "#fb9f3a"
            ],
            [
             0.8888888888888888,
             "#fdca26"
            ],
            [
             1,
             "#f0f921"
            ]
           ]
          },
          "colorway": [
           "#636efa",
           "#EF553B",
           "#00cc96",
           "#ab63fa",
           "#FFA15A",
           "#19d3f3",
           "#FF6692",
           "#B6E880",
           "#FF97FF",
           "#FECB52"
          ],
          "font": {
           "color": "#2a3f5f"
          },
          "geo": {
           "bgcolor": "white",
           "lakecolor": "white",
           "landcolor": "#E5ECF6",
           "showlakes": true,
           "showland": true,
           "subunitcolor": "white"
          },
          "hoverlabel": {
           "align": "left"
          },
          "hovermode": "closest",
          "mapbox": {
           "style": "light"
          },
          "paper_bgcolor": "white",
          "plot_bgcolor": "#E5ECF6",
          "polar": {
           "angularaxis": {
            "gridcolor": "white",
            "linecolor": "white",
            "ticks": ""
           },
           "bgcolor": "#E5ECF6",
           "radialaxis": {
            "gridcolor": "white",
            "linecolor": "white",
            "ticks": ""
           }
          },
          "scene": {
           "xaxis": {
            "backgroundcolor": "#E5ECF6",
            "gridcolor": "white",
            "gridwidth": 2,
            "linecolor": "white",
            "showbackground": true,
            "ticks": "",
            "zerolinecolor": "white"
           },
           "yaxis": {
            "backgroundcolor": "#E5ECF6",
            "gridcolor": "white",
            "gridwidth": 2,
            "linecolor": "white",
            "showbackground": true,
            "ticks": "",
            "zerolinecolor": "white"
           },
           "zaxis": {
            "backgroundcolor": "#E5ECF6",
            "gridcolor": "white",
            "gridwidth": 2,
            "linecolor": "white",
            "showbackground": true,
            "ticks": "",
            "zerolinecolor": "white"
           }
          },
          "shapedefaults": {
           "line": {
            "color": "#2a3f5f"
           }
          },
          "ternary": {
           "aaxis": {
            "gridcolor": "white",
            "linecolor": "white",
            "ticks": ""
           },
           "baxis": {
            "gridcolor": "white",
            "linecolor": "white",
            "ticks": ""
           },
           "bgcolor": "#E5ECF6",
           "caxis": {
            "gridcolor": "white",
            "linecolor": "white",
            "ticks": ""
           }
          },
          "title": {
           "x": 0.05
          },
          "xaxis": {
           "automargin": true,
           "gridcolor": "white",
           "linecolor": "white",
           "ticks": "",
           "title": {
            "standoff": 15
           },
           "zerolinecolor": "white",
           "zerolinewidth": 2
          },
          "yaxis": {
           "automargin": true,
           "gridcolor": "white",
           "linecolor": "white",
           "ticks": "",
           "title": {
            "standoff": 15
           },
           "zerolinecolor": "white",
           "zerolinewidth": 2
          }
         }
        },
        "title": {
         "font": {
          "color": "#4D5663"
         }
        },
        "xaxis": {
         "gridcolor": "#E1E5ED",
         "showgrid": true,
         "tickfont": {
          "color": "#4D5663"
         },
         "title": {
          "font": {
           "color": "#4D5663"
          },
          "text": ""
         },
         "zerolinecolor": "#E1E5ED"
        },
        "xaxis2": {
         "anchor": "y2",
         "gridcolor": "#E1E5ED",
         "showgrid": true,
         "showticklabels": false,
         "tickfont": {
          "color": "#4D5663"
         },
         "title": {
          "font": {
           "color": "#4D5663"
          },
          "text": ""
         },
         "zerolinecolor": "#E1E5ED"
        },
        "yaxis": {
         "domain": [
          0.3,
          1
         ],
         "gridcolor": "#E1E5ED",
         "showgrid": true,
         "tickfont": {
          "color": "#4D5663"
         },
         "title": {
          "font": {
           "color": "#4D5663"
          },
          "text": ""
         },
         "zerolinecolor": "#E1E5ED"
        },
        "yaxis2": {
         "domain": [
          0,
          0.25
         ],
         "gridcolor": "#E1E5ED",
         "showgrid": true,
         "tickfont": {
          "color": "#4D5663"
         },
         "title": {
          "font": {
           "color": "#4D5663"
          },
          "text": "Spread"
         },
         "zerolinecolor": "#E1E5ED"
        }
       }
      },
      "text/html": [
       "<div>                            <div id=\"21a624a1-f898-4fb0-9b58-17d8f0dbec25\" class=\"plotly-graph-div\" style=\"height:525px; width:100%;\"></div>            <script type=\"text/javascript\">                require([\"plotly\"], function(Plotly) {                    window.PLOTLYENV=window.PLOTLYENV || {};\n",
       "                    window.PLOTLYENV.BASE_URL='https://plot.ly';                                    if (document.getElementById(\"21a624a1-f898-4fb0-9b58-17d8f0dbec25\")) {                    Plotly.newPlot(                        \"21a624a1-f898-4fb0-9b58-17d8f0dbec25\",                        [{\"line\": {\"color\": \"rgba(255, 153, 51, 1.0)\", \"dash\": \"solid\", \"shape\": \"linear\", \"width\": 1.3}, \"mode\": \"lines\", \"name\": \"A\", \"text\": \"\", \"type\": \"scatter\", \"x\": [0, 1, 2, 3, 4, 5, 6, 7, 8, 9, 10, 11, 12, 13, 14, 15, 16, 17, 18, 19, 20, 21, 22, 23, 24, 25, 26, 27, 28, 29, 30, 31, 32, 33, 34, 35, 36, 37, 38, 39, 40, 41, 42, 43, 44, 45, 46, 47, 48, 49, 50, 51, 52, 53, 54, 55, 56, 57, 58, 59, 60, 61, 62, 63, 64, 65, 66, 67, 68, 69, 70, 71, 72, 73, 74, 75, 76, 77, 78, 79, 80, 81, 82, 83, 84, 85, 86, 87, 88, 89, 90, 91, 92, 93, 94, 95, 96, 97, 98, 99], \"y\": [-1.9722087496969223, -0.011671936731851002, -1.581095695462608, -0.34655125540727333, -2.477227183550656, 1.0941645349574753, 1.0229529172073148, -0.2598830879365222, -0.03408300204513225, 0.316552878256426, -0.9560391300790448, 0.03686863729565844, -1.057002166096782, 1.1269640029188206, -2.9267062941867423, -0.746704279766539, 0.05041994672178217, 0.48710115962661305, 0.4411562042292949, 1.9586541598607206, -1.1264446501035439, -0.8893264007516325, -0.912797025545708, -0.6764986758310823, 0.060741922825052995, -1.8449685175213293, -0.2581939666458554, -1.0845735336268134, 1.3092149762046064, -0.3066644272536902, 2.6272020454447893, 1.9776080885194243, 0.5668461448153023, 0.14871793417682036, 0.5589477908589175, 1.569395013601064, 0.6903765899355268, -0.9624507753100264, -1.1982377774156872, 0.3460526200922986, -1.5813823853788058, -0.060380627009908705, -0.45301810031688394, -0.8874355334946187, -0.08069904562752264, 0.9892325935849244, -0.4402405812651847, 0.9062225085353147, 0.051935187991758267, -0.7749692187429894, 0.20663577894552076, -2.6432173202033327, 0.428142633290837, 0.28064340537672056, 0.49998815039368866, -2.282375457843157, -0.2636867903407214, -0.8818468535001559, -0.3507863058950262, -0.3459010474609139, -0.2537435919563658, 0.7534214071578663, -0.9475830799767535, -1.275468885966171, -1.0661714834592064, -0.9048886981411098, 0.25326937641655517, 2.1839204484406034, -0.8272174280292035, -0.4645040193133396, 0.8445505137052899, 0.36733557594376404, -0.21495587739570762, -0.2147215789481739, -1.014567110997098, -0.5200774799937841, -0.6299002021429765, -0.018567917997282603, -1.0129723040910823, -1.244448617322104, 0.9101942921335867, 0.14653083392106686, -0.4696844835441938, 0.25679717959833154, -0.26913999204070016, 0.49298478979236415, -1.7553400104436443, -0.32567192940690426, 0.4963013251259451, 0.33715228833004396, -0.48702644670754175, 0.583173722625296, -0.13151299514984052, -0.17277039856468238, -0.3932252217320785, 1.747981066541866, 1.2996522287381982, 0.17177685124461037, 0.942376140480576, -1.4875548956939744]}, {\"line\": {\"color\": \"rgba(55, 128, 191, 1.0)\", \"dash\": \"solid\", \"shape\": \"linear\", \"width\": 1.3}, \"mode\": \"lines\", \"name\": \"B\", \"text\": \"\", \"type\": \"scatter\", \"x\": [0, 1, 2, 3, 4, 5, 6, 7, 8, 9, 10, 11, 12, 13, 14, 15, 16, 17, 18, 19, 20, 21, 22, 23, 24, 25, 26, 27, 28, 29, 30, 31, 32, 33, 34, 35, 36, 37, 38, 39, 40, 41, 42, 43, 44, 45, 46, 47, 48, 49, 50, 51, 52, 53, 54, 55, 56, 57, 58, 59, 60, 61, 62, 63, 64, 65, 66, 67, 68, 69, 70, 71, 72, 73, 74, 75, 76, 77, 78, 79, 80, 81, 82, 83, 84, 85, 86, 87, 88, 89, 90, 91, 92, 93, 94, 95, 96, 97, 98, 99], \"y\": [-0.15467443438003167, -1.103714486619362, -0.0541684553591224, 0.41422239107560715, -0.47311978978456737, 0.08890758298241469, 0.6542883889705488, 0.1526791972817478, -1.0761625495932814, 0.4108953551780461, 0.8849114941005151, -1.7404564207865973, -0.2834726233350443, -0.7225958554493189, -0.3360213951887905, -0.43360752963912125, -0.28610770283411324, 0.5140475923376779, 0.6498272394533989, -0.1880381648673378, 3.029906110373341, -0.655023507621413, -0.29993908275112585, 0.17257175369280023, -0.8252449189026975, -0.5068002853772337, 0.7260798014189815, -0.3890204893183104, -0.42350519981926266, -0.9830897847082721, -0.745081495310831, 0.5885934793538804, 1.3819602740760888, -0.6052431371727914, -0.795447989408926, -0.36279193604862736, 0.6507982198529062, 0.26554271337673624, 0.4278905943406648, 0.7667337976267404, -1.009477598035802, 1.7868695252714277, 0.07238439431084817, -0.2921642502366185, 0.8037729291547354, -0.2997123802579395, 0.5540178206043035, 0.4378922178605772, 0.516907689763789, -0.7489107442737745, 0.3042169050027822, -1.2286144224027291, -1.4768661895797555, -0.5706672119608341, 1.4961773942937893, -0.15560187954158308, 0.03247288091238335, 0.3121279723427983, 1.2036174628101248, -1.8149602214495568, -0.25267277264871385, -0.31891897183935325, -0.47381322603680753, 0.9177839120362744, -0.6619439676220062, -0.22228104761216375, 0.5167188779834639, -0.5886601441588484, -0.49111226630245897, 0.2442643888637009, -0.04507916296916212, 0.9049845080788567, 0.49394996349843406, 0.202128923957163, 0.9149650220094239, 0.20786740242860877, 1.2558499203678959, -0.8882369239533632, -0.5665994304015882, -2.52713736735959, -0.40202525070563416, 0.42337816477791873, 2.930189646869836, -0.29870561060645767, 1.0259894736560005, -0.5434596778354565, -0.48187202723754213, -0.7849654446928984, 0.5354112571672852, -0.12100382967481559, -1.288362701278329, -1.3144891120780753, -0.3190835777670386, -0.9499938842804496, -1.3683098023592501, -0.4998233472993743, 0.47028413887107634, 0.7786479452061807, -0.7357339189416259, -1.3464941644058384]}, {\"connectgaps\": false, \"fill\": \"tozeroy\", \"line\": {\"color\": \"green\", \"dash\": \"solid\", \"shape\": \"linear\", \"width\": 0.5}, \"mode\": \"lines\", \"name\": \"Spread\", \"showlegend\": false, \"type\": \"scatter\", \"x\": [0, 1, 2, 3, 4, 5, 6, 7, 8, 9, 10, 11, 12, 13, 14, 15, 16, 17, 18, 19, 20, 21, 22, 23, 24, 25, 26, 27, 28, 29, 30, 31, 32, 33, 34, 35, 36, 37, 38, 39, 40, 41, 42, 43, 44, 45, 46, 47, 48, 49, 50, 51, 52, 53, 54, 55, 56, 57, 58, 59, 60, 61, 62, 63, 64, 65, 66, 67, 68, 69, 70, 71, 72, 73, 74, 75, 76, 77, 78, 79, 80, 81, 82, 83, 84, 85, 86, 87, 88, 89, 90, 91, 92, 93, 94, 95, 96, 97, 98, 99], \"xaxis\": \"x2\", \"y\": [\"\", 1.092042549887511, \"\", \"\", \"\", 1.0052569519750607, 0.3686645282367661, \"\", 1.0420795475481492, \"\", \"\", 1.7773250580822557, \"\", 1.8495598583681394, \"\", \"\", 0.3365276495558954, \"\", \"\", 2.1466923247280585, \"\", \"\", \"\", \"\", 0.8859868417277504, \"\", \"\", \"\", 1.732720176023869, 0.676425357454582, 3.37228354075562, 1.3890146091655438, \"\", 0.7539610713496118, 1.3543957802678435, 1.9321869496496913, 0.03957837008262055, \"\", \"\", \"\", \"\", \"\", \"\", \"\", \"\", 1.288944973842864, \"\", 0.4683302906747375, \"\", \"\", \"\", \"\", 1.9050088228705926, 0.8513106173375546, \"\", \"\", \"\", \"\", \"\", 1.469059173988643, \"\", 1.0723403789972195, \"\", \"\", \"\", \"\", \"\", 2.7725805925994518, \"\", \"\", 0.889629676674452, \"\", \"\", \"\", \"\", \"\", \"\", 0.8696690059560805, \"\", 1.282688750037486, 1.312219542839221, \"\", \"\", 0.5555027902047892, \"\", 1.0364444676278206, \"\", 0.45929351528599416, \"\", 0.45815611800485956, 0.8013362545707872, 1.8976628347033713, 0.18757058261719808, 0.7772234857157673, 0.9750845806271716, 2.2478044138412403, 0.8293680898671218, \"\", 1.678110059422202, \"\"], \"yaxis\": \"y2\"}, {\"connectgaps\": false, \"fill\": \"tozeroy\", \"line\": {\"color\": \"red\", \"dash\": \"solid\", \"shape\": \"linear\", \"width\": 0.5}, \"mode\": \"lines\", \"name\": \"Spread\", \"showlegend\": false, \"type\": \"scatter\", \"x\": [0, 1, 2, 3, 4, 5, 6, 7, 8, 9, 10, 11, 12, 13, 14, 15, 16, 17, 18, 19, 20, 21, 22, 23, 24, 25, 26, 27, 28, 29, 30, 31, 32, 33, 34, 35, 36, 37, 38, 39, 40, 41, 42, 43, 44, 45, 46, 47, 48, 49, 50, 51, 52, 53, 54, 55, 56, 57, 58, 59, 60, 61, 62, 63, 64, 65, 66, 67, 68, 69, 70, 71, 72, 73, 74, 75, 76, 77, 78, 79, 80, 81, 82, 83, 84, 85, 86, 87, 88, 89, 90, 91, 92, 93, 94, 95, 96, 97, 98, 99], \"xaxis\": \"x2\", \"y\": [-1.8175343153168906, \"\", -1.5269272401034857, -0.7607736464828805, -2.0041073937660885, \"\", \"\", -0.41256228521827, \"\", -0.09434247692162012, -1.84095062417956, \"\", -0.7735295427617378, \"\", -2.590684898997952, -0.3130967501274177, \"\", -0.026946432711064894, -0.20867103522410402, \"\", -4.156350760476885, -0.23430289313021946, -0.6128579427945822, -0.8490704295238825, \"\", -1.3381682321440955, -0.984273768064837, -0.695553044308503, \"\", \"\", \"\", \"\", -0.8151141292607865, \"\", \"\", \"\", \"\", -1.2279934886867627, -1.626128371756352, -0.42068117753444184, -0.5719047873430039, -1.8472501522813365, -0.5254024946277321, -0.5952712832580002, -0.884471974782258, \"\", -0.9942584018694882, \"\", -0.4649725017720307, -0.026058474469214943, -0.09758112605726144, -1.4146028978006036, \"\", \"\", -0.9961892439001006, -2.126773578301574, -0.2961596712531048, -1.1939748258429543, -1.554403768705151, \"\", -0.00107081930765196, \"\", -0.473769853939946, -2.193252798002445, -0.4042275158372002, -0.6826076505289461, -0.2634495015669088, \"\", -0.33610516172674454, -0.7087684081770405, \"\", -0.5376489321350926, -0.7089058408941417, -0.4168505029053369, -1.9295321330065218, -0.7279448824223929, -1.8857501225108724, \"\", -0.4463728736894941, \"\", \"\", -0.27684733085685187, -3.3998741304140294, \"\", -1.2951294656967005, \"\", -1.2734679832061022, \"\", -0.03910993204134011, \"\", \"\", \"\", \"\", \"\", \"\", \"\", \"\", -0.6068710939615704, \"\", -0.141060731288136], \"yaxis\": \"y2\"}],                        {\"hovermode\": \"x\", \"legend\": {\"bgcolor\": \"#F5F6F9\", \"font\": {\"color\": \"#4D5663\"}}, \"paper_bgcolor\": \"#F5F6F9\", \"plot_bgcolor\": \"#F5F6F9\", \"template\": {\"data\": {\"bar\": [{\"error_x\": {\"color\": \"#2a3f5f\"}, \"error_y\": {\"color\": \"#2a3f5f\"}, \"marker\": {\"line\": {\"color\": \"#E5ECF6\", \"width\": 0.5}}, \"type\": \"bar\"}], \"barpolar\": [{\"marker\": {\"line\": {\"color\": \"#E5ECF6\", \"width\": 0.5}}, \"type\": \"barpolar\"}], \"carpet\": [{\"aaxis\": {\"endlinecolor\": \"#2a3f5f\", \"gridcolor\": \"white\", \"linecolor\": \"white\", \"minorgridcolor\": \"white\", \"startlinecolor\": \"#2a3f5f\"}, \"baxis\": {\"endlinecolor\": \"#2a3f5f\", \"gridcolor\": \"white\", \"linecolor\": \"white\", \"minorgridcolor\": \"white\", \"startlinecolor\": \"#2a3f5f\"}, \"type\": \"carpet\"}], \"choropleth\": [{\"colorbar\": {\"outlinewidth\": 0, \"ticks\": \"\"}, \"type\": \"choropleth\"}], \"contour\": [{\"colorbar\": {\"outlinewidth\": 0, \"ticks\": \"\"}, \"colorscale\": [[0.0, \"#0d0887\"], [0.1111111111111111, \"#46039f\"], [0.2222222222222222, \"#7201a8\"], [0.3333333333333333, \"#9c179e\"], [0.4444444444444444, \"#bd3786\"], [0.5555555555555556, \"#d8576b\"], [0.6666666666666666, \"#ed7953\"], [0.7777777777777778, \"#fb9f3a\"], [0.8888888888888888, \"#fdca26\"], [1.0, \"#f0f921\"]], \"type\": \"contour\"}], \"contourcarpet\": [{\"colorbar\": {\"outlinewidth\": 0, \"ticks\": \"\"}, \"type\": \"contourcarpet\"}], \"heatmap\": [{\"colorbar\": {\"outlinewidth\": 0, \"ticks\": \"\"}, \"colorscale\": [[0.0, \"#0d0887\"], [0.1111111111111111, \"#46039f\"], [0.2222222222222222, \"#7201a8\"], [0.3333333333333333, \"#9c179e\"], [0.4444444444444444, \"#bd3786\"], [0.5555555555555556, \"#d8576b\"], [0.6666666666666666, \"#ed7953\"], [0.7777777777777778, \"#fb9f3a\"], [0.8888888888888888, \"#fdca26\"], [1.0, \"#f0f921\"]], \"type\": \"heatmap\"}], \"heatmapgl\": [{\"colorbar\": {\"outlinewidth\": 0, \"ticks\": \"\"}, \"colorscale\": [[0.0, \"#0d0887\"], [0.1111111111111111, \"#46039f\"], [0.2222222222222222, \"#7201a8\"], [0.3333333333333333, \"#9c179e\"], [0.4444444444444444, \"#bd3786\"], [0.5555555555555556, \"#d8576b\"], [0.6666666666666666, \"#ed7953\"], [0.7777777777777778, \"#fb9f3a\"], [0.8888888888888888, \"#fdca26\"], [1.0, \"#f0f921\"]], \"type\": \"heatmapgl\"}], \"histogram\": [{\"marker\": {\"colorbar\": {\"outlinewidth\": 0, \"ticks\": \"\"}}, \"type\": \"histogram\"}], \"histogram2d\": [{\"colorbar\": {\"outlinewidth\": 0, \"ticks\": \"\"}, \"colorscale\": [[0.0, \"#0d0887\"], [0.1111111111111111, \"#46039f\"], [0.2222222222222222, \"#7201a8\"], [0.3333333333333333, \"#9c179e\"], [0.4444444444444444, \"#bd3786\"], [0.5555555555555556, \"#d8576b\"], [0.6666666666666666, \"#ed7953\"], [0.7777777777777778, \"#fb9f3a\"], [0.8888888888888888, \"#fdca26\"], [1.0, \"#f0f921\"]], \"type\": \"histogram2d\"}], \"histogram2dcontour\": [{\"colorbar\": {\"outlinewidth\": 0, \"ticks\": \"\"}, \"colorscale\": [[0.0, \"#0d0887\"], [0.1111111111111111, \"#46039f\"], [0.2222222222222222, \"#7201a8\"], [0.3333333333333333, \"#9c179e\"], [0.4444444444444444, \"#bd3786\"], [0.5555555555555556, \"#d8576b\"], [0.6666666666666666, \"#ed7953\"], [0.7777777777777778, \"#fb9f3a\"], [0.8888888888888888, \"#fdca26\"], [1.0, \"#f0f921\"]], \"type\": \"histogram2dcontour\"}], \"mesh3d\": [{\"colorbar\": {\"outlinewidth\": 0, \"ticks\": \"\"}, \"type\": \"mesh3d\"}], \"parcoords\": [{\"line\": {\"colorbar\": {\"outlinewidth\": 0, \"ticks\": \"\"}}, \"type\": \"parcoords\"}], \"pie\": [{\"automargin\": true, \"type\": \"pie\"}], \"scatter\": [{\"marker\": {\"colorbar\": {\"outlinewidth\": 0, \"ticks\": \"\"}}, \"type\": \"scatter\"}], \"scatter3d\": [{\"line\": {\"colorbar\": {\"outlinewidth\": 0, \"ticks\": \"\"}}, \"marker\": {\"colorbar\": {\"outlinewidth\": 0, \"ticks\": \"\"}}, \"type\": \"scatter3d\"}], \"scattercarpet\": [{\"marker\": {\"colorbar\": {\"outlinewidth\": 0, \"ticks\": \"\"}}, \"type\": \"scattercarpet\"}], \"scattergeo\": [{\"marker\": {\"colorbar\": {\"outlinewidth\": 0, \"ticks\": \"\"}}, \"type\": \"scattergeo\"}], \"scattergl\": [{\"marker\": {\"colorbar\": {\"outlinewidth\": 0, \"ticks\": \"\"}}, \"type\": \"scattergl\"}], \"scattermapbox\": [{\"marker\": {\"colorbar\": {\"outlinewidth\": 0, \"ticks\": \"\"}}, \"type\": \"scattermapbox\"}], \"scatterpolar\": [{\"marker\": {\"colorbar\": {\"outlinewidth\": 0, \"ticks\": \"\"}}, \"type\": \"scatterpolar\"}], \"scatterpolargl\": [{\"marker\": {\"colorbar\": {\"outlinewidth\": 0, \"ticks\": \"\"}}, \"type\": \"scatterpolargl\"}], \"scatterternary\": [{\"marker\": {\"colorbar\": {\"outlinewidth\": 0, \"ticks\": \"\"}}, \"type\": \"scatterternary\"}], \"surface\": [{\"colorbar\": {\"outlinewidth\": 0, \"ticks\": \"\"}, \"colorscale\": [[0.0, \"#0d0887\"], [0.1111111111111111, \"#46039f\"], [0.2222222222222222, \"#7201a8\"], [0.3333333333333333, \"#9c179e\"], [0.4444444444444444, \"#bd3786\"], [0.5555555555555556, \"#d8576b\"], [0.6666666666666666, \"#ed7953\"], [0.7777777777777778, \"#fb9f3a\"], [0.8888888888888888, \"#fdca26\"], [1.0, \"#f0f921\"]], \"type\": \"surface\"}], \"table\": [{\"cells\": {\"fill\": {\"color\": \"#EBF0F8\"}, \"line\": {\"color\": \"white\"}}, \"header\": {\"fill\": {\"color\": \"#C8D4E3\"}, \"line\": {\"color\": \"white\"}}, \"type\": \"table\"}]}, \"layout\": {\"annotationdefaults\": {\"arrowcolor\": \"#2a3f5f\", \"arrowhead\": 0, \"arrowwidth\": 1}, \"autotypenumbers\": \"strict\", \"coloraxis\": {\"colorbar\": {\"outlinewidth\": 0, \"ticks\": \"\"}}, \"colorscale\": {\"diverging\": [[0, \"#8e0152\"], [0.1, \"#c51b7d\"], [0.2, \"#de77ae\"], [0.3, \"#f1b6da\"], [0.4, \"#fde0ef\"], [0.5, \"#f7f7f7\"], [0.6, \"#e6f5d0\"], [0.7, \"#b8e186\"], [0.8, \"#7fbc41\"], [0.9, \"#4d9221\"], [1, \"#276419\"]], \"sequential\": [[0.0, \"#0d0887\"], [0.1111111111111111, \"#46039f\"], [0.2222222222222222, \"#7201a8\"], [0.3333333333333333, \"#9c179e\"], [0.4444444444444444, \"#bd3786\"], [0.5555555555555556, \"#d8576b\"], [0.6666666666666666, \"#ed7953\"], [0.7777777777777778, \"#fb9f3a\"], [0.8888888888888888, \"#fdca26\"], [1.0, \"#f0f921\"]], \"sequentialminus\": [[0.0, \"#0d0887\"], [0.1111111111111111, \"#46039f\"], [0.2222222222222222, \"#7201a8\"], [0.3333333333333333, \"#9c179e\"], [0.4444444444444444, \"#bd3786\"], [0.5555555555555556, \"#d8576b\"], [0.6666666666666666, \"#ed7953\"], [0.7777777777777778, \"#fb9f3a\"], [0.8888888888888888, \"#fdca26\"], [1.0, \"#f0f921\"]]}, \"colorway\": [\"#636efa\", \"#EF553B\", \"#00cc96\", \"#ab63fa\", \"#FFA15A\", \"#19d3f3\", \"#FF6692\", \"#B6E880\", \"#FF97FF\", \"#FECB52\"], \"font\": {\"color\": \"#2a3f5f\"}, \"geo\": {\"bgcolor\": \"white\", \"lakecolor\": \"white\", \"landcolor\": \"#E5ECF6\", \"showlakes\": true, \"showland\": true, \"subunitcolor\": \"white\"}, \"hoverlabel\": {\"align\": \"left\"}, \"hovermode\": \"closest\", \"mapbox\": {\"style\": \"light\"}, \"paper_bgcolor\": \"white\", \"plot_bgcolor\": \"#E5ECF6\", \"polar\": {\"angularaxis\": {\"gridcolor\": \"white\", \"linecolor\": \"white\", \"ticks\": \"\"}, \"bgcolor\": \"#E5ECF6\", \"radialaxis\": {\"gridcolor\": \"white\", \"linecolor\": \"white\", \"ticks\": \"\"}}, \"scene\": {\"xaxis\": {\"backgroundcolor\": \"#E5ECF6\", \"gridcolor\": \"white\", \"gridwidth\": 2, \"linecolor\": \"white\", \"showbackground\": true, \"ticks\": \"\", \"zerolinecolor\": \"white\"}, \"yaxis\": {\"backgroundcolor\": \"#E5ECF6\", \"gridcolor\": \"white\", \"gridwidth\": 2, \"linecolor\": \"white\", \"showbackground\": true, \"ticks\": \"\", \"zerolinecolor\": \"white\"}, \"zaxis\": {\"backgroundcolor\": \"#E5ECF6\", \"gridcolor\": \"white\", \"gridwidth\": 2, \"linecolor\": \"white\", \"showbackground\": true, \"ticks\": \"\", \"zerolinecolor\": \"white\"}}, \"shapedefaults\": {\"line\": {\"color\": \"#2a3f5f\"}}, \"ternary\": {\"aaxis\": {\"gridcolor\": \"white\", \"linecolor\": \"white\", \"ticks\": \"\"}, \"baxis\": {\"gridcolor\": \"white\", \"linecolor\": \"white\", \"ticks\": \"\"}, \"bgcolor\": \"#E5ECF6\", \"caxis\": {\"gridcolor\": \"white\", \"linecolor\": \"white\", \"ticks\": \"\"}}, \"title\": {\"x\": 0.05}, \"xaxis\": {\"automargin\": true, \"gridcolor\": \"white\", \"linecolor\": \"white\", \"ticks\": \"\", \"title\": {\"standoff\": 15}, \"zerolinecolor\": \"white\", \"zerolinewidth\": 2}, \"yaxis\": {\"automargin\": true, \"gridcolor\": \"white\", \"linecolor\": \"white\", \"ticks\": \"\", \"title\": {\"standoff\": 15}, \"zerolinecolor\": \"white\", \"zerolinewidth\": 2}}}, \"title\": {\"font\": {\"color\": \"#4D5663\"}}, \"xaxis\": {\"gridcolor\": \"#E1E5ED\", \"showgrid\": true, \"tickfont\": {\"color\": \"#4D5663\"}, \"title\": {\"font\": {\"color\": \"#4D5663\"}, \"text\": \"\"}, \"zerolinecolor\": \"#E1E5ED\"}, \"xaxis2\": {\"anchor\": \"y2\", \"gridcolor\": \"#E1E5ED\", \"showgrid\": true, \"showticklabels\": false, \"tickfont\": {\"color\": \"#4D5663\"}, \"title\": {\"font\": {\"color\": \"#4D5663\"}, \"text\": \"\"}, \"zerolinecolor\": \"#E1E5ED\"}, \"yaxis\": {\"domain\": [0.3, 1], \"gridcolor\": \"#E1E5ED\", \"showgrid\": true, \"tickfont\": {\"color\": \"#4D5663\"}, \"title\": {\"font\": {\"color\": \"#4D5663\"}, \"text\": \"\"}, \"zerolinecolor\": \"#E1E5ED\"}, \"yaxis2\": {\"domain\": [0, 0.25], \"gridcolor\": \"#E1E5ED\", \"showgrid\": true, \"tickfont\": {\"color\": \"#4D5663\"}, \"title\": {\"font\": {\"color\": \"#4D5663\"}, \"text\": \"Spread\"}, \"zerolinecolor\": \"#E1E5ED\"}},                        {\"showLink\": true, \"linkText\": \"Export to plot.ly\", \"plotlyServerURL\": \"https://plot.ly\", \"responsive\": true}                    ).then(function(){\n",
       "                            \n",
       "var gd = document.getElementById('21a624a1-f898-4fb0-9b58-17d8f0dbec25');\n",
       "var x = new MutationObserver(function (mutations, observer) {{\n",
       "        var display = window.getComputedStyle(gd).display;\n",
       "        if (!display || display === 'none') {{\n",
       "            console.log([gd, 'removed!']);\n",
       "            Plotly.purge(gd);\n",
       "            observer.disconnect();\n",
       "        }}\n",
       "}});\n",
       "\n",
       "// Listen for the removal of the full notebook cells\n",
       "var notebookContainer = gd.closest('#notebook-container');\n",
       "if (notebookContainer) {{\n",
       "    x.observe(notebookContainer, {childList: true});\n",
       "}}\n",
       "\n",
       "// Listen for the clearing of the current output cell\n",
       "var outputEl = gd.closest('.output');\n",
       "if (outputEl) {{\n",
       "    x.observe(outputEl, {childList: true});\n",
       "}}\n",
       "\n",
       "                        })                };                });            </script>        </div>"
      ]
     },
     "metadata": {},
     "output_type": "display_data"
    }
   ],
   "source": [
    "df[['A','B']].iplot(kind='spread')"
   ]
  },
  {
   "cell_type": "code",
   "execution_count": 46,
   "metadata": {
    "scrolled": false
   },
   "outputs": [
    {
     "data": {
      "application/vnd.plotly.v1+json": {
       "config": {
        "linkText": "Export to plot.ly",
        "plotlyServerURL": "https://plot.ly",
        "showLink": true
       },
       "data": [
        {
         "marker": {
          "color": [
           "rgb(255, 153, 51)",
           "rgb(55, 128, 191)",
           "rgb(50, 171, 96)",
           "rgb(128, 0, 128)",
           "rgb(219, 64, 82)",
           "rgb(0, 128, 128)",
           "rgb(255, 255, 51)",
           "rgb(128, 128, 0)",
           "rgb(251, 128, 114)",
           "rgb(128, 177, 211)"
          ],
          "line": {
           "width": 1.3
          },
          "size": [
           78,
           54,
           111,
           97,
           47,
           73,
           71,
           76,
           52,
           60,
           52,
           36,
           108,
           76,
           37,
           77,
           84,
           77,
           74,
           71,
           62,
           66,
           100,
           98,
           74,
           80,
           89,
           92,
           76,
           94,
           74,
           74,
           85,
           70,
           98,
           73,
           62,
           96,
           103,
           102,
           89,
           83,
           91,
           35,
           45,
           74,
           62,
           66,
           61,
           77,
           70,
           66,
           78,
           12,
           84,
           64,
           82,
           37,
           95,
           63,
           75,
           107,
           78,
           36,
           69,
           61,
           74,
           49,
           86,
           69,
           59,
           84,
           75,
           90,
           103,
           76,
           84,
           90,
           72,
           87,
           83,
           66,
           62,
           100,
           64,
           55,
           104,
           69,
           101,
           53,
           92,
           49,
           97,
           71,
           75,
           81,
           47,
           74,
           82,
           70
          ],
          "symbol": "circle"
         },
         "mode": "markers",
         "text": "",
         "type": "scatter",
         "x": [
          -1.9722087496969223,
          -0.011671936731851002,
          -1.581095695462608,
          -0.34655125540727333,
          -2.477227183550656,
          1.0941645349574753,
          1.0229529172073148,
          -0.2598830879365222,
          -0.03408300204513225,
          0.316552878256426,
          -0.9560391300790448,
          0.03686863729565844,
          -1.057002166096782,
          1.1269640029188206,
          -2.9267062941867423,
          -0.746704279766539,
          0.05041994672178217,
          0.48710115962661305,
          0.4411562042292949,
          1.9586541598607206,
          -1.1264446501035439,
          -0.8893264007516325,
          -0.912797025545708,
          -0.6764986758310823,
          0.060741922825052995,
          -1.8449685175213293,
          -0.2581939666458554,
          -1.0845735336268134,
          1.3092149762046064,
          -0.3066644272536902,
          2.6272020454447893,
          1.9776080885194243,
          0.5668461448153023,
          0.14871793417682036,
          0.5589477908589175,
          1.569395013601064,
          0.6903765899355268,
          -0.9624507753100264,
          -1.1982377774156872,
          0.3460526200922986,
          -1.5813823853788058,
          -0.060380627009908705,
          -0.45301810031688394,
          -0.8874355334946187,
          -0.08069904562752264,
          0.9892325935849244,
          -0.4402405812651847,
          0.9062225085353147,
          0.051935187991758267,
          -0.7749692187429894,
          0.20663577894552076,
          -2.6432173202033327,
          0.428142633290837,
          0.28064340537672056,
          0.49998815039368866,
          -2.282375457843157,
          -0.2636867903407214,
          -0.8818468535001559,
          -0.3507863058950262,
          -0.3459010474609139,
          -0.2537435919563658,
          0.7534214071578663,
          -0.9475830799767535,
          -1.275468885966171,
          -1.0661714834592064,
          -0.9048886981411098,
          0.25326937641655517,
          2.1839204484406034,
          -0.8272174280292035,
          -0.4645040193133396,
          0.8445505137052899,
          0.36733557594376404,
          -0.21495587739570762,
          -0.2147215789481739,
          -1.014567110997098,
          -0.5200774799937841,
          -0.6299002021429765,
          -0.018567917997282603,
          -1.0129723040910823,
          -1.244448617322104,
          0.9101942921335867,
          0.14653083392106686,
          -0.4696844835441938,
          0.25679717959833154,
          -0.26913999204070016,
          0.49298478979236415,
          -1.7553400104436443,
          -0.32567192940690426,
          0.4963013251259451,
          0.33715228833004396,
          -0.48702644670754175,
          0.583173722625296,
          -0.13151299514984052,
          -0.17277039856468238,
          -0.3932252217320785,
          1.747981066541866,
          1.2996522287381982,
          0.17177685124461037,
          0.942376140480576,
          -1.4875548956939744
         ],
         "y": [
          -0.15467443438003167,
          -1.103714486619362,
          -0.0541684553591224,
          0.41422239107560715,
          -0.47311978978456737,
          0.08890758298241469,
          0.6542883889705488,
          0.1526791972817478,
          -1.0761625495932814,
          0.4108953551780461,
          0.8849114941005151,
          -1.7404564207865973,
          -0.2834726233350443,
          -0.7225958554493189,
          -0.3360213951887905,
          -0.43360752963912125,
          -0.28610770283411324,
          0.5140475923376779,
          0.6498272394533989,
          -0.1880381648673378,
          3.029906110373341,
          -0.655023507621413,
          -0.29993908275112585,
          0.17257175369280023,
          -0.8252449189026975,
          -0.5068002853772337,
          0.7260798014189815,
          -0.3890204893183104,
          -0.42350519981926266,
          -0.9830897847082721,
          -0.745081495310831,
          0.5885934793538804,
          1.3819602740760888,
          -0.6052431371727914,
          -0.795447989408926,
          -0.36279193604862736,
          0.6507982198529062,
          0.26554271337673624,
          0.4278905943406648,
          0.7667337976267404,
          -1.009477598035802,
          1.7868695252714277,
          0.07238439431084817,
          -0.2921642502366185,
          0.8037729291547354,
          -0.2997123802579395,
          0.5540178206043035,
          0.4378922178605772,
          0.516907689763789,
          -0.7489107442737745,
          0.3042169050027822,
          -1.2286144224027291,
          -1.4768661895797555,
          -0.5706672119608341,
          1.4961773942937893,
          -0.15560187954158308,
          0.03247288091238335,
          0.3121279723427983,
          1.2036174628101248,
          -1.8149602214495568,
          -0.25267277264871385,
          -0.31891897183935325,
          -0.47381322603680753,
          0.9177839120362744,
          -0.6619439676220062,
          -0.22228104761216375,
          0.5167188779834639,
          -0.5886601441588484,
          -0.49111226630245897,
          0.2442643888637009,
          -0.04507916296916212,
          0.9049845080788567,
          0.49394996349843406,
          0.202128923957163,
          0.9149650220094239,
          0.20786740242860877,
          1.2558499203678959,
          -0.8882369239533632,
          -0.5665994304015882,
          -2.52713736735959,
          -0.40202525070563416,
          0.42337816477791873,
          2.930189646869836,
          -0.29870561060645767,
          1.0259894736560005,
          -0.5434596778354565,
          -0.48187202723754213,
          -0.7849654446928984,
          0.5354112571672852,
          -0.12100382967481559,
          -1.288362701278329,
          -1.3144891120780753,
          -0.3190835777670386,
          -0.9499938842804496,
          -1.3683098023592501,
          -0.4998233472993743,
          0.47028413887107634,
          0.7786479452061807,
          -0.7357339189416259,
          -1.3464941644058384
         ]
        }
       ],
       "layout": {
        "legend": {
         "bgcolor": "#F5F6F9",
         "font": {
          "color": "#4D5663"
         }
        },
        "paper_bgcolor": "#F5F6F9",
        "plot_bgcolor": "#F5F6F9",
        "template": {
         "data": {
          "bar": [
           {
            "error_x": {
             "color": "#2a3f5f"
            },
            "error_y": {
             "color": "#2a3f5f"
            },
            "marker": {
             "line": {
              "color": "#E5ECF6",
              "width": 0.5
             }
            },
            "type": "bar"
           }
          ],
          "barpolar": [
           {
            "marker": {
             "line": {
              "color": "#E5ECF6",
              "width": 0.5
             }
            },
            "type": "barpolar"
           }
          ],
          "carpet": [
           {
            "aaxis": {
             "endlinecolor": "#2a3f5f",
             "gridcolor": "white",
             "linecolor": "white",
             "minorgridcolor": "white",
             "startlinecolor": "#2a3f5f"
            },
            "baxis": {
             "endlinecolor": "#2a3f5f",
             "gridcolor": "white",
             "linecolor": "white",
             "minorgridcolor": "white",
             "startlinecolor": "#2a3f5f"
            },
            "type": "carpet"
           }
          ],
          "choropleth": [
           {
            "colorbar": {
             "outlinewidth": 0,
             "ticks": ""
            },
            "type": "choropleth"
           }
          ],
          "contour": [
           {
            "colorbar": {
             "outlinewidth": 0,
             "ticks": ""
            },
            "colorscale": [
             [
              0,
              "#0d0887"
             ],
             [
              0.1111111111111111,
              "#46039f"
             ],
             [
              0.2222222222222222,
              "#7201a8"
             ],
             [
              0.3333333333333333,
              "#9c179e"
             ],
             [
              0.4444444444444444,
              "#bd3786"
             ],
             [
              0.5555555555555556,
              "#d8576b"
             ],
             [
              0.6666666666666666,
              "#ed7953"
             ],
             [
              0.7777777777777778,
              "#fb9f3a"
             ],
             [
              0.8888888888888888,
              "#fdca26"
             ],
             [
              1,
              "#f0f921"
             ]
            ],
            "type": "contour"
           }
          ],
          "contourcarpet": [
           {
            "colorbar": {
             "outlinewidth": 0,
             "ticks": ""
            },
            "type": "contourcarpet"
           }
          ],
          "heatmap": [
           {
            "colorbar": {
             "outlinewidth": 0,
             "ticks": ""
            },
            "colorscale": [
             [
              0,
              "#0d0887"
             ],
             [
              0.1111111111111111,
              "#46039f"
             ],
             [
              0.2222222222222222,
              "#7201a8"
             ],
             [
              0.3333333333333333,
              "#9c179e"
             ],
             [
              0.4444444444444444,
              "#bd3786"
             ],
             [
              0.5555555555555556,
              "#d8576b"
             ],
             [
              0.6666666666666666,
              "#ed7953"
             ],
             [
              0.7777777777777778,
              "#fb9f3a"
             ],
             [
              0.8888888888888888,
              "#fdca26"
             ],
             [
              1,
              "#f0f921"
             ]
            ],
            "type": "heatmap"
           }
          ],
          "heatmapgl": [
           {
            "colorbar": {
             "outlinewidth": 0,
             "ticks": ""
            },
            "colorscale": [
             [
              0,
              "#0d0887"
             ],
             [
              0.1111111111111111,
              "#46039f"
             ],
             [
              0.2222222222222222,
              "#7201a8"
             ],
             [
              0.3333333333333333,
              "#9c179e"
             ],
             [
              0.4444444444444444,
              "#bd3786"
             ],
             [
              0.5555555555555556,
              "#d8576b"
             ],
             [
              0.6666666666666666,
              "#ed7953"
             ],
             [
              0.7777777777777778,
              "#fb9f3a"
             ],
             [
              0.8888888888888888,
              "#fdca26"
             ],
             [
              1,
              "#f0f921"
             ]
            ],
            "type": "heatmapgl"
           }
          ],
          "histogram": [
           {
            "marker": {
             "colorbar": {
              "outlinewidth": 0,
              "ticks": ""
             }
            },
            "type": "histogram"
           }
          ],
          "histogram2d": [
           {
            "colorbar": {
             "outlinewidth": 0,
             "ticks": ""
            },
            "colorscale": [
             [
              0,
              "#0d0887"
             ],
             [
              0.1111111111111111,
              "#46039f"
             ],
             [
              0.2222222222222222,
              "#7201a8"
             ],
             [
              0.3333333333333333,
              "#9c179e"
             ],
             [
              0.4444444444444444,
              "#bd3786"
             ],
             [
              0.5555555555555556,
              "#d8576b"
             ],
             [
              0.6666666666666666,
              "#ed7953"
             ],
             [
              0.7777777777777778,
              "#fb9f3a"
             ],
             [
              0.8888888888888888,
              "#fdca26"
             ],
             [
              1,
              "#f0f921"
             ]
            ],
            "type": "histogram2d"
           }
          ],
          "histogram2dcontour": [
           {
            "colorbar": {
             "outlinewidth": 0,
             "ticks": ""
            },
            "colorscale": [
             [
              0,
              "#0d0887"
             ],
             [
              0.1111111111111111,
              "#46039f"
             ],
             [
              0.2222222222222222,
              "#7201a8"
             ],
             [
              0.3333333333333333,
              "#9c179e"
             ],
             [
              0.4444444444444444,
              "#bd3786"
             ],
             [
              0.5555555555555556,
              "#d8576b"
             ],
             [
              0.6666666666666666,
              "#ed7953"
             ],
             [
              0.7777777777777778,
              "#fb9f3a"
             ],
             [
              0.8888888888888888,
              "#fdca26"
             ],
             [
              1,
              "#f0f921"
             ]
            ],
            "type": "histogram2dcontour"
           }
          ],
          "mesh3d": [
           {
            "colorbar": {
             "outlinewidth": 0,
             "ticks": ""
            },
            "type": "mesh3d"
           }
          ],
          "parcoords": [
           {
            "line": {
             "colorbar": {
              "outlinewidth": 0,
              "ticks": ""
             }
            },
            "type": "parcoords"
           }
          ],
          "pie": [
           {
            "automargin": true,
            "type": "pie"
           }
          ],
          "scatter": [
           {
            "marker": {
             "colorbar": {
              "outlinewidth": 0,
              "ticks": ""
             }
            },
            "type": "scatter"
           }
          ],
          "scatter3d": [
           {
            "line": {
             "colorbar": {
              "outlinewidth": 0,
              "ticks": ""
             }
            },
            "marker": {
             "colorbar": {
              "outlinewidth": 0,
              "ticks": ""
             }
            },
            "type": "scatter3d"
           }
          ],
          "scattercarpet": [
           {
            "marker": {
             "colorbar": {
              "outlinewidth": 0,
              "ticks": ""
             }
            },
            "type": "scattercarpet"
           }
          ],
          "scattergeo": [
           {
            "marker": {
             "colorbar": {
              "outlinewidth": 0,
              "ticks": ""
             }
            },
            "type": "scattergeo"
           }
          ],
          "scattergl": [
           {
            "marker": {
             "colorbar": {
              "outlinewidth": 0,
              "ticks": ""
             }
            },
            "type": "scattergl"
           }
          ],
          "scattermapbox": [
           {
            "marker": {
             "colorbar": {
              "outlinewidth": 0,
              "ticks": ""
             }
            },
            "type": "scattermapbox"
           }
          ],
          "scatterpolar": [
           {
            "marker": {
             "colorbar": {
              "outlinewidth": 0,
              "ticks": ""
             }
            },
            "type": "scatterpolar"
           }
          ],
          "scatterpolargl": [
           {
            "marker": {
             "colorbar": {
              "outlinewidth": 0,
              "ticks": ""
             }
            },
            "type": "scatterpolargl"
           }
          ],
          "scatterternary": [
           {
            "marker": {
             "colorbar": {
              "outlinewidth": 0,
              "ticks": ""
             }
            },
            "type": "scatterternary"
           }
          ],
          "surface": [
           {
            "colorbar": {
             "outlinewidth": 0,
             "ticks": ""
            },
            "colorscale": [
             [
              0,
              "#0d0887"
             ],
             [
              0.1111111111111111,
              "#46039f"
             ],
             [
              0.2222222222222222,
              "#7201a8"
             ],
             [
              0.3333333333333333,
              "#9c179e"
             ],
             [
              0.4444444444444444,
              "#bd3786"
             ],
             [
              0.5555555555555556,
              "#d8576b"
             ],
             [
              0.6666666666666666,
              "#ed7953"
             ],
             [
              0.7777777777777778,
              "#fb9f3a"
             ],
             [
              0.8888888888888888,
              "#fdca26"
             ],
             [
              1,
              "#f0f921"
             ]
            ],
            "type": "surface"
           }
          ],
          "table": [
           {
            "cells": {
             "fill": {
              "color": "#EBF0F8"
             },
             "line": {
              "color": "white"
             }
            },
            "header": {
             "fill": {
              "color": "#C8D4E3"
             },
             "line": {
              "color": "white"
             }
            },
            "type": "table"
           }
          ]
         },
         "layout": {
          "annotationdefaults": {
           "arrowcolor": "#2a3f5f",
           "arrowhead": 0,
           "arrowwidth": 1
          },
          "autotypenumbers": "strict",
          "coloraxis": {
           "colorbar": {
            "outlinewidth": 0,
            "ticks": ""
           }
          },
          "colorscale": {
           "diverging": [
            [
             0,
             "#8e0152"
            ],
            [
             0.1,
             "#c51b7d"
            ],
            [
             0.2,
             "#de77ae"
            ],
            [
             0.3,
             "#f1b6da"
            ],
            [
             0.4,
             "#fde0ef"
            ],
            [
             0.5,
             "#f7f7f7"
            ],
            [
             0.6,
             "#e6f5d0"
            ],
            [
             0.7,
             "#b8e186"
            ],
            [
             0.8,
             "#7fbc41"
            ],
            [
             0.9,
             "#4d9221"
            ],
            [
             1,
             "#276419"
            ]
           ],
           "sequential": [
            [
             0,
             "#0d0887"
            ],
            [
             0.1111111111111111,
             "#46039f"
            ],
            [
             0.2222222222222222,
             "#7201a8"
            ],
            [
             0.3333333333333333,
             "#9c179e"
            ],
            [
             0.4444444444444444,
             "#bd3786"
            ],
            [
             0.5555555555555556,
             "#d8576b"
            ],
            [
             0.6666666666666666,
             "#ed7953"
            ],
            [
             0.7777777777777778,
             "#fb9f3a"
            ],
            [
             0.8888888888888888,
             "#fdca26"
            ],
            [
             1,
             "#f0f921"
            ]
           ],
           "sequentialminus": [
            [
             0,
             "#0d0887"
            ],
            [
             0.1111111111111111,
             "#46039f"
            ],
            [
             0.2222222222222222,
             "#7201a8"
            ],
            [
             0.3333333333333333,
             "#9c179e"
            ],
            [
             0.4444444444444444,
             "#bd3786"
            ],
            [
             0.5555555555555556,
             "#d8576b"
            ],
            [
             0.6666666666666666,
             "#ed7953"
            ],
            [
             0.7777777777777778,
             "#fb9f3a"
            ],
            [
             0.8888888888888888,
             "#fdca26"
            ],
            [
             1,
             "#f0f921"
            ]
           ]
          },
          "colorway": [
           "#636efa",
           "#EF553B",
           "#00cc96",
           "#ab63fa",
           "#FFA15A",
           "#19d3f3",
           "#FF6692",
           "#B6E880",
           "#FF97FF",
           "#FECB52"
          ],
          "font": {
           "color": "#2a3f5f"
          },
          "geo": {
           "bgcolor": "white",
           "lakecolor": "white",
           "landcolor": "#E5ECF6",
           "showlakes": true,
           "showland": true,
           "subunitcolor": "white"
          },
          "hoverlabel": {
           "align": "left"
          },
          "hovermode": "closest",
          "mapbox": {
           "style": "light"
          },
          "paper_bgcolor": "white",
          "plot_bgcolor": "#E5ECF6",
          "polar": {
           "angularaxis": {
            "gridcolor": "white",
            "linecolor": "white",
            "ticks": ""
           },
           "bgcolor": "#E5ECF6",
           "radialaxis": {
            "gridcolor": "white",
            "linecolor": "white",
            "ticks": ""
           }
          },
          "scene": {
           "xaxis": {
            "backgroundcolor": "#E5ECF6",
            "gridcolor": "white",
            "gridwidth": 2,
            "linecolor": "white",
            "showbackground": true,
            "ticks": "",
            "zerolinecolor": "white"
           },
           "yaxis": {
            "backgroundcolor": "#E5ECF6",
            "gridcolor": "white",
            "gridwidth": 2,
            "linecolor": "white",
            "showbackground": true,
            "ticks": "",
            "zerolinecolor": "white"
           },
           "zaxis": {
            "backgroundcolor": "#E5ECF6",
            "gridcolor": "white",
            "gridwidth": 2,
            "linecolor": "white",
            "showbackground": true,
            "ticks": "",
            "zerolinecolor": "white"
           }
          },
          "shapedefaults": {
           "line": {
            "color": "#2a3f5f"
           }
          },
          "ternary": {
           "aaxis": {
            "gridcolor": "white",
            "linecolor": "white",
            "ticks": ""
           },
           "baxis": {
            "gridcolor": "white",
            "linecolor": "white",
            "ticks": ""
           },
           "bgcolor": "#E5ECF6",
           "caxis": {
            "gridcolor": "white",
            "linecolor": "white",
            "ticks": ""
           }
          },
          "title": {
           "x": 0.05
          },
          "xaxis": {
           "automargin": true,
           "gridcolor": "white",
           "linecolor": "white",
           "ticks": "",
           "title": {
            "standoff": 15
           },
           "zerolinecolor": "white",
           "zerolinewidth": 2
          },
          "yaxis": {
           "automargin": true,
           "gridcolor": "white",
           "linecolor": "white",
           "ticks": "",
           "title": {
            "standoff": 15
           },
           "zerolinecolor": "white",
           "zerolinewidth": 2
          }
         }
        },
        "title": {
         "font": {
          "color": "#4D5663"
         }
        },
        "xaxis": {
         "gridcolor": "#E1E5ED",
         "showgrid": true,
         "tickfont": {
          "color": "#4D5663"
         },
         "title": {
          "font": {
           "color": "#4D5663"
          },
          "text": ""
         },
         "zerolinecolor": "#E1E5ED"
        },
        "yaxis": {
         "gridcolor": "#E1E5ED",
         "showgrid": true,
         "tickfont": {
          "color": "#4D5663"
         },
         "title": {
          "font": {
           "color": "#4D5663"
          },
          "text": ""
         },
         "zerolinecolor": "#E1E5ED"
        }
       }
      },
      "text/html": [
       "<div>                            <div id=\"1e61991a-2386-44af-9f39-28a3588ac936\" class=\"plotly-graph-div\" style=\"height:525px; width:100%;\"></div>            <script type=\"text/javascript\">                require([\"plotly\"], function(Plotly) {                    window.PLOTLYENV=window.PLOTLYENV || {};\n",
       "                    window.PLOTLYENV.BASE_URL='https://plot.ly';                                    if (document.getElementById(\"1e61991a-2386-44af-9f39-28a3588ac936\")) {                    Plotly.newPlot(                        \"1e61991a-2386-44af-9f39-28a3588ac936\",                        [{\"marker\": {\"color\": [\"rgb(255, 153, 51)\", \"rgb(55, 128, 191)\", \"rgb(50, 171, 96)\", \"rgb(128, 0, 128)\", \"rgb(219, 64, 82)\", \"rgb(0, 128, 128)\", \"rgb(255, 255, 51)\", \"rgb(128, 128, 0)\", \"rgb(251, 128, 114)\", \"rgb(128, 177, 211)\"], \"line\": {\"width\": 1.3}, \"size\": [78, 54, 111, 97, 47, 73, 71, 76, 52, 60, 52, 36, 108, 76, 37, 77, 84, 77, 74, 71, 62, 66, 100, 98, 74, 80, 89, 92, 76, 94, 74, 74, 85, 70, 98, 73, 62, 96, 103, 102, 89, 83, 91, 35, 45, 74, 62, 66, 61, 77, 70, 66, 78, 12, 84, 64, 82, 37, 95, 63, 75, 107, 78, 36, 69, 61, 74, 49, 86, 69, 59, 84, 75, 90, 103, 76, 84, 90, 72, 87, 83, 66, 62, 100, 64, 55, 104, 69, 101, 53, 92, 49, 97, 71, 75, 81, 47, 74, 82, 70], \"symbol\": \"circle\"}, \"mode\": \"markers\", \"text\": \"\", \"type\": \"scatter\", \"x\": [-1.9722087496969223, -0.011671936731851002, -1.581095695462608, -0.34655125540727333, -2.477227183550656, 1.0941645349574753, 1.0229529172073148, -0.2598830879365222, -0.03408300204513225, 0.316552878256426, -0.9560391300790448, 0.03686863729565844, -1.057002166096782, 1.1269640029188206, -2.9267062941867423, -0.746704279766539, 0.05041994672178217, 0.48710115962661305, 0.4411562042292949, 1.9586541598607206, -1.1264446501035439, -0.8893264007516325, -0.912797025545708, -0.6764986758310823, 0.060741922825052995, -1.8449685175213293, -0.2581939666458554, -1.0845735336268134, 1.3092149762046064, -0.3066644272536902, 2.6272020454447893, 1.9776080885194243, 0.5668461448153023, 0.14871793417682036, 0.5589477908589175, 1.569395013601064, 0.6903765899355268, -0.9624507753100264, -1.1982377774156872, 0.3460526200922986, -1.5813823853788058, -0.060380627009908705, -0.45301810031688394, -0.8874355334946187, -0.08069904562752264, 0.9892325935849244, -0.4402405812651847, 0.9062225085353147, 0.051935187991758267, -0.7749692187429894, 0.20663577894552076, -2.6432173202033327, 0.428142633290837, 0.28064340537672056, 0.49998815039368866, -2.282375457843157, -0.2636867903407214, -0.8818468535001559, -0.3507863058950262, -0.3459010474609139, -0.2537435919563658, 0.7534214071578663, -0.9475830799767535, -1.275468885966171, -1.0661714834592064, -0.9048886981411098, 0.25326937641655517, 2.1839204484406034, -0.8272174280292035, -0.4645040193133396, 0.8445505137052899, 0.36733557594376404, -0.21495587739570762, -0.2147215789481739, -1.014567110997098, -0.5200774799937841, -0.6299002021429765, -0.018567917997282603, -1.0129723040910823, -1.244448617322104, 0.9101942921335867, 0.14653083392106686, -0.4696844835441938, 0.25679717959833154, -0.26913999204070016, 0.49298478979236415, -1.7553400104436443, -0.32567192940690426, 0.4963013251259451, 0.33715228833004396, -0.48702644670754175, 0.583173722625296, -0.13151299514984052, -0.17277039856468238, -0.3932252217320785, 1.747981066541866, 1.2996522287381982, 0.17177685124461037, 0.942376140480576, -1.4875548956939744], \"y\": [-0.15467443438003167, -1.103714486619362, -0.0541684553591224, 0.41422239107560715, -0.47311978978456737, 0.08890758298241469, 0.6542883889705488, 0.1526791972817478, -1.0761625495932814, 0.4108953551780461, 0.8849114941005151, -1.7404564207865973, -0.2834726233350443, -0.7225958554493189, -0.3360213951887905, -0.43360752963912125, -0.28610770283411324, 0.5140475923376779, 0.6498272394533989, -0.1880381648673378, 3.029906110373341, -0.655023507621413, -0.29993908275112585, 0.17257175369280023, -0.8252449189026975, -0.5068002853772337, 0.7260798014189815, -0.3890204893183104, -0.42350519981926266, -0.9830897847082721, -0.745081495310831, 0.5885934793538804, 1.3819602740760888, -0.6052431371727914, -0.795447989408926, -0.36279193604862736, 0.6507982198529062, 0.26554271337673624, 0.4278905943406648, 0.7667337976267404, -1.009477598035802, 1.7868695252714277, 0.07238439431084817, -0.2921642502366185, 0.8037729291547354, -0.2997123802579395, 0.5540178206043035, 0.4378922178605772, 0.516907689763789, -0.7489107442737745, 0.3042169050027822, -1.2286144224027291, -1.4768661895797555, -0.5706672119608341, 1.4961773942937893, -0.15560187954158308, 0.03247288091238335, 0.3121279723427983, 1.2036174628101248, -1.8149602214495568, -0.25267277264871385, -0.31891897183935325, -0.47381322603680753, 0.9177839120362744, -0.6619439676220062, -0.22228104761216375, 0.5167188779834639, -0.5886601441588484, -0.49111226630245897, 0.2442643888637009, -0.04507916296916212, 0.9049845080788567, 0.49394996349843406, 0.202128923957163, 0.9149650220094239, 0.20786740242860877, 1.2558499203678959, -0.8882369239533632, -0.5665994304015882, -2.52713736735959, -0.40202525070563416, 0.42337816477791873, 2.930189646869836, -0.29870561060645767, 1.0259894736560005, -0.5434596778354565, -0.48187202723754213, -0.7849654446928984, 0.5354112571672852, -0.12100382967481559, -1.288362701278329, -1.3144891120780753, -0.3190835777670386, -0.9499938842804496, -1.3683098023592501, -0.4998233472993743, 0.47028413887107634, 0.7786479452061807, -0.7357339189416259, -1.3464941644058384]}],                        {\"legend\": {\"bgcolor\": \"#F5F6F9\", \"font\": {\"color\": \"#4D5663\"}}, \"paper_bgcolor\": \"#F5F6F9\", \"plot_bgcolor\": \"#F5F6F9\", \"template\": {\"data\": {\"bar\": [{\"error_x\": {\"color\": \"#2a3f5f\"}, \"error_y\": {\"color\": \"#2a3f5f\"}, \"marker\": {\"line\": {\"color\": \"#E5ECF6\", \"width\": 0.5}}, \"type\": \"bar\"}], \"barpolar\": [{\"marker\": {\"line\": {\"color\": \"#E5ECF6\", \"width\": 0.5}}, \"type\": \"barpolar\"}], \"carpet\": [{\"aaxis\": {\"endlinecolor\": \"#2a3f5f\", \"gridcolor\": \"white\", \"linecolor\": \"white\", \"minorgridcolor\": \"white\", \"startlinecolor\": \"#2a3f5f\"}, \"baxis\": {\"endlinecolor\": \"#2a3f5f\", \"gridcolor\": \"white\", \"linecolor\": \"white\", \"minorgridcolor\": \"white\", \"startlinecolor\": \"#2a3f5f\"}, \"type\": \"carpet\"}], \"choropleth\": [{\"colorbar\": {\"outlinewidth\": 0, \"ticks\": \"\"}, \"type\": \"choropleth\"}], \"contour\": [{\"colorbar\": {\"outlinewidth\": 0, \"ticks\": \"\"}, \"colorscale\": [[0.0, \"#0d0887\"], [0.1111111111111111, \"#46039f\"], [0.2222222222222222, \"#7201a8\"], [0.3333333333333333, \"#9c179e\"], [0.4444444444444444, \"#bd3786\"], [0.5555555555555556, \"#d8576b\"], [0.6666666666666666, \"#ed7953\"], [0.7777777777777778, \"#fb9f3a\"], [0.8888888888888888, \"#fdca26\"], [1.0, \"#f0f921\"]], \"type\": \"contour\"}], \"contourcarpet\": [{\"colorbar\": {\"outlinewidth\": 0, \"ticks\": \"\"}, \"type\": \"contourcarpet\"}], \"heatmap\": [{\"colorbar\": {\"outlinewidth\": 0, \"ticks\": \"\"}, \"colorscale\": [[0.0, \"#0d0887\"], [0.1111111111111111, \"#46039f\"], [0.2222222222222222, \"#7201a8\"], [0.3333333333333333, \"#9c179e\"], [0.4444444444444444, \"#bd3786\"], [0.5555555555555556, \"#d8576b\"], [0.6666666666666666, \"#ed7953\"], [0.7777777777777778, \"#fb9f3a\"], [0.8888888888888888, \"#fdca26\"], [1.0, \"#f0f921\"]], \"type\": \"heatmap\"}], \"heatmapgl\": [{\"colorbar\": {\"outlinewidth\": 0, \"ticks\": \"\"}, \"colorscale\": [[0.0, \"#0d0887\"], [0.1111111111111111, \"#46039f\"], [0.2222222222222222, \"#7201a8\"], [0.3333333333333333, \"#9c179e\"], [0.4444444444444444, \"#bd3786\"], [0.5555555555555556, \"#d8576b\"], [0.6666666666666666, \"#ed7953\"], [0.7777777777777778, \"#fb9f3a\"], [0.8888888888888888, \"#fdca26\"], [1.0, \"#f0f921\"]], \"type\": \"heatmapgl\"}], \"histogram\": [{\"marker\": {\"colorbar\": {\"outlinewidth\": 0, \"ticks\": \"\"}}, \"type\": \"histogram\"}], \"histogram2d\": [{\"colorbar\": {\"outlinewidth\": 0, \"ticks\": \"\"}, \"colorscale\": [[0.0, \"#0d0887\"], [0.1111111111111111, \"#46039f\"], [0.2222222222222222, \"#7201a8\"], [0.3333333333333333, \"#9c179e\"], [0.4444444444444444, \"#bd3786\"], [0.5555555555555556, \"#d8576b\"], [0.6666666666666666, \"#ed7953\"], [0.7777777777777778, \"#fb9f3a\"], [0.8888888888888888, \"#fdca26\"], [1.0, \"#f0f921\"]], \"type\": \"histogram2d\"}], \"histogram2dcontour\": [{\"colorbar\": {\"outlinewidth\": 0, \"ticks\": \"\"}, \"colorscale\": [[0.0, \"#0d0887\"], [0.1111111111111111, \"#46039f\"], [0.2222222222222222, \"#7201a8\"], [0.3333333333333333, \"#9c179e\"], [0.4444444444444444, \"#bd3786\"], [0.5555555555555556, \"#d8576b\"], [0.6666666666666666, \"#ed7953\"], [0.7777777777777778, \"#fb9f3a\"], [0.8888888888888888, \"#fdca26\"], [1.0, \"#f0f921\"]], \"type\": \"histogram2dcontour\"}], \"mesh3d\": [{\"colorbar\": {\"outlinewidth\": 0, \"ticks\": \"\"}, \"type\": \"mesh3d\"}], \"parcoords\": [{\"line\": {\"colorbar\": {\"outlinewidth\": 0, \"ticks\": \"\"}}, \"type\": \"parcoords\"}], \"pie\": [{\"automargin\": true, \"type\": \"pie\"}], \"scatter\": [{\"marker\": {\"colorbar\": {\"outlinewidth\": 0, \"ticks\": \"\"}}, \"type\": \"scatter\"}], \"scatter3d\": [{\"line\": {\"colorbar\": {\"outlinewidth\": 0, \"ticks\": \"\"}}, \"marker\": {\"colorbar\": {\"outlinewidth\": 0, \"ticks\": \"\"}}, \"type\": \"scatter3d\"}], \"scattercarpet\": [{\"marker\": {\"colorbar\": {\"outlinewidth\": 0, \"ticks\": \"\"}}, \"type\": \"scattercarpet\"}], \"scattergeo\": [{\"marker\": {\"colorbar\": {\"outlinewidth\": 0, \"ticks\": \"\"}}, \"type\": \"scattergeo\"}], \"scattergl\": [{\"marker\": {\"colorbar\": {\"outlinewidth\": 0, \"ticks\": \"\"}}, \"type\": \"scattergl\"}], \"scattermapbox\": [{\"marker\": {\"colorbar\": {\"outlinewidth\": 0, \"ticks\": \"\"}}, \"type\": \"scattermapbox\"}], \"scatterpolar\": [{\"marker\": {\"colorbar\": {\"outlinewidth\": 0, \"ticks\": \"\"}}, \"type\": \"scatterpolar\"}], \"scatterpolargl\": [{\"marker\": {\"colorbar\": {\"outlinewidth\": 0, \"ticks\": \"\"}}, \"type\": \"scatterpolargl\"}], \"scatterternary\": [{\"marker\": {\"colorbar\": {\"outlinewidth\": 0, \"ticks\": \"\"}}, \"type\": \"scatterternary\"}], \"surface\": [{\"colorbar\": {\"outlinewidth\": 0, \"ticks\": \"\"}, \"colorscale\": [[0.0, \"#0d0887\"], [0.1111111111111111, \"#46039f\"], [0.2222222222222222, \"#7201a8\"], [0.3333333333333333, \"#9c179e\"], [0.4444444444444444, \"#bd3786\"], [0.5555555555555556, \"#d8576b\"], [0.6666666666666666, \"#ed7953\"], [0.7777777777777778, \"#fb9f3a\"], [0.8888888888888888, \"#fdca26\"], [1.0, \"#f0f921\"]], \"type\": \"surface\"}], \"table\": [{\"cells\": {\"fill\": {\"color\": \"#EBF0F8\"}, \"line\": {\"color\": \"white\"}}, \"header\": {\"fill\": {\"color\": \"#C8D4E3\"}, \"line\": {\"color\": \"white\"}}, \"type\": \"table\"}]}, \"layout\": {\"annotationdefaults\": {\"arrowcolor\": \"#2a3f5f\", \"arrowhead\": 0, \"arrowwidth\": 1}, \"autotypenumbers\": \"strict\", \"coloraxis\": {\"colorbar\": {\"outlinewidth\": 0, \"ticks\": \"\"}}, \"colorscale\": {\"diverging\": [[0, \"#8e0152\"], [0.1, \"#c51b7d\"], [0.2, \"#de77ae\"], [0.3, \"#f1b6da\"], [0.4, \"#fde0ef\"], [0.5, \"#f7f7f7\"], [0.6, \"#e6f5d0\"], [0.7, \"#b8e186\"], [0.8, \"#7fbc41\"], [0.9, \"#4d9221\"], [1, \"#276419\"]], \"sequential\": [[0.0, \"#0d0887\"], [0.1111111111111111, \"#46039f\"], [0.2222222222222222, \"#7201a8\"], [0.3333333333333333, \"#9c179e\"], [0.4444444444444444, \"#bd3786\"], [0.5555555555555556, \"#d8576b\"], [0.6666666666666666, \"#ed7953\"], [0.7777777777777778, \"#fb9f3a\"], [0.8888888888888888, \"#fdca26\"], [1.0, \"#f0f921\"]], \"sequentialminus\": [[0.0, \"#0d0887\"], [0.1111111111111111, \"#46039f\"], [0.2222222222222222, \"#7201a8\"], [0.3333333333333333, \"#9c179e\"], [0.4444444444444444, \"#bd3786\"], [0.5555555555555556, \"#d8576b\"], [0.6666666666666666, \"#ed7953\"], [0.7777777777777778, \"#fb9f3a\"], [0.8888888888888888, \"#fdca26\"], [1.0, \"#f0f921\"]]}, \"colorway\": [\"#636efa\", \"#EF553B\", \"#00cc96\", \"#ab63fa\", \"#FFA15A\", \"#19d3f3\", \"#FF6692\", \"#B6E880\", \"#FF97FF\", \"#FECB52\"], \"font\": {\"color\": \"#2a3f5f\"}, \"geo\": {\"bgcolor\": \"white\", \"lakecolor\": \"white\", \"landcolor\": \"#E5ECF6\", \"showlakes\": true, \"showland\": true, \"subunitcolor\": \"white\"}, \"hoverlabel\": {\"align\": \"left\"}, \"hovermode\": \"closest\", \"mapbox\": {\"style\": \"light\"}, \"paper_bgcolor\": \"white\", \"plot_bgcolor\": \"#E5ECF6\", \"polar\": {\"angularaxis\": {\"gridcolor\": \"white\", \"linecolor\": \"white\", \"ticks\": \"\"}, \"bgcolor\": \"#E5ECF6\", \"radialaxis\": {\"gridcolor\": \"white\", \"linecolor\": \"white\", \"ticks\": \"\"}}, \"scene\": {\"xaxis\": {\"backgroundcolor\": \"#E5ECF6\", \"gridcolor\": \"white\", \"gridwidth\": 2, \"linecolor\": \"white\", \"showbackground\": true, \"ticks\": \"\", \"zerolinecolor\": \"white\"}, \"yaxis\": {\"backgroundcolor\": \"#E5ECF6\", \"gridcolor\": \"white\", \"gridwidth\": 2, \"linecolor\": \"white\", \"showbackground\": true, \"ticks\": \"\", \"zerolinecolor\": \"white\"}, \"zaxis\": {\"backgroundcolor\": \"#E5ECF6\", \"gridcolor\": \"white\", \"gridwidth\": 2, \"linecolor\": \"white\", \"showbackground\": true, \"ticks\": \"\", \"zerolinecolor\": \"white\"}}, \"shapedefaults\": {\"line\": {\"color\": \"#2a3f5f\"}}, \"ternary\": {\"aaxis\": {\"gridcolor\": \"white\", \"linecolor\": \"white\", \"ticks\": \"\"}, \"baxis\": {\"gridcolor\": \"white\", \"linecolor\": \"white\", \"ticks\": \"\"}, \"bgcolor\": \"#E5ECF6\", \"caxis\": {\"gridcolor\": \"white\", \"linecolor\": \"white\", \"ticks\": \"\"}}, \"title\": {\"x\": 0.05}, \"xaxis\": {\"automargin\": true, \"gridcolor\": \"white\", \"linecolor\": \"white\", \"ticks\": \"\", \"title\": {\"standoff\": 15}, \"zerolinecolor\": \"white\", \"zerolinewidth\": 2}, \"yaxis\": {\"automargin\": true, \"gridcolor\": \"white\", \"linecolor\": \"white\", \"ticks\": \"\", \"title\": {\"standoff\": 15}, \"zerolinecolor\": \"white\", \"zerolinewidth\": 2}}}, \"title\": {\"font\": {\"color\": \"#4D5663\"}}, \"xaxis\": {\"gridcolor\": \"#E1E5ED\", \"showgrid\": true, \"tickfont\": {\"color\": \"#4D5663\"}, \"title\": {\"font\": {\"color\": \"#4D5663\"}, \"text\": \"\"}, \"zerolinecolor\": \"#E1E5ED\"}, \"yaxis\": {\"gridcolor\": \"#E1E5ED\", \"showgrid\": true, \"tickfont\": {\"color\": \"#4D5663\"}, \"title\": {\"font\": {\"color\": \"#4D5663\"}, \"text\": \"\"}, \"zerolinecolor\": \"#E1E5ED\"}},                        {\"showLink\": true, \"linkText\": \"Export to plot.ly\", \"plotlyServerURL\": \"https://plot.ly\", \"responsive\": true}                    ).then(function(){\n",
       "                            \n",
       "var gd = document.getElementById('1e61991a-2386-44af-9f39-28a3588ac936');\n",
       "var x = new MutationObserver(function (mutations, observer) {{\n",
       "        var display = window.getComputedStyle(gd).display;\n",
       "        if (!display || display === 'none') {{\n",
       "            console.log([gd, 'removed!']);\n",
       "            Plotly.purge(gd);\n",
       "            observer.disconnect();\n",
       "        }}\n",
       "}});\n",
       "\n",
       "// Listen for the removal of the full notebook cells\n",
       "var notebookContainer = gd.closest('#notebook-container');\n",
       "if (notebookContainer) {{\n",
       "    x.observe(notebookContainer, {childList: true});\n",
       "}}\n",
       "\n",
       "// Listen for the clearing of the current output cell\n",
       "var outputEl = gd.closest('.output');\n",
       "if (outputEl) {{\n",
       "    x.observe(outputEl, {childList: true});\n",
       "}}\n",
       "\n",
       "                        })                };                });            </script>        </div>"
      ]
     },
     "metadata": {},
     "output_type": "display_data"
    }
   ],
   "source": [
    "df.iplot(kind='bubble',x='A',y='B',size='C')"
   ]
  },
  {
   "cell_type": "code",
   "execution_count": 47,
   "metadata": {},
   "outputs": [
    {
     "data": {
      "application/vnd.plotly.v1+json": {
       "config": {
        "linkText": "Export to plot.ly",
        "plotlyServerURL": "https://plot.ly",
        "showLink": true
       },
       "data": [
        {
         "histfunc": "count",
         "histnorm": "",
         "marker": {
          "color": "rgba(255, 153, 51, 1.0)",
          "line": {
           "color": "#4D5663",
           "width": 1.3
          }
         },
         "name": "A",
         "nbinsx": 10,
         "opacity": 0.8,
         "orientation": "v",
         "type": "histogram",
         "x": [
          -1.9722087496969223,
          -0.011671936731851002,
          -1.581095695462608,
          -0.34655125540727333,
          -2.477227183550656,
          1.0941645349574753,
          1.0229529172073148,
          -0.2598830879365222,
          -0.03408300204513225,
          0.316552878256426,
          -0.9560391300790448,
          0.03686863729565844,
          -1.057002166096782,
          1.1269640029188206,
          -2.9267062941867423,
          -0.746704279766539,
          0.05041994672178217,
          0.48710115962661305,
          0.4411562042292949,
          1.9586541598607206,
          -1.1264446501035439,
          -0.8893264007516325,
          -0.912797025545708,
          -0.6764986758310823,
          0.060741922825052995,
          -1.8449685175213293,
          -0.2581939666458554,
          -1.0845735336268134,
          1.3092149762046064,
          -0.3066644272536902,
          2.6272020454447893,
          1.9776080885194243,
          0.5668461448153023,
          0.14871793417682036,
          0.5589477908589175,
          1.569395013601064,
          0.6903765899355268,
          -0.9624507753100264,
          -1.1982377774156872,
          0.3460526200922986,
          -1.5813823853788058,
          -0.060380627009908705,
          -0.45301810031688394,
          -0.8874355334946187,
          -0.08069904562752264,
          0.9892325935849244,
          -0.4402405812651847,
          0.9062225085353147,
          0.051935187991758267,
          -0.7749692187429894,
          0.20663577894552076,
          -2.6432173202033327,
          0.428142633290837,
          0.28064340537672056,
          0.49998815039368866,
          -2.282375457843157,
          -0.2636867903407214,
          -0.8818468535001559,
          -0.3507863058950262,
          -0.3459010474609139,
          -0.2537435919563658,
          0.7534214071578663,
          -0.9475830799767535,
          -1.275468885966171,
          -1.0661714834592064,
          -0.9048886981411098,
          0.25326937641655517,
          2.1839204484406034,
          -0.8272174280292035,
          -0.4645040193133396,
          0.8445505137052899,
          0.36733557594376404,
          -0.21495587739570762,
          -0.2147215789481739,
          -1.014567110997098,
          -0.5200774799937841,
          -0.6299002021429765,
          -0.018567917997282603,
          -1.0129723040910823,
          -1.244448617322104,
          0.9101942921335867,
          0.14653083392106686,
          -0.4696844835441938,
          0.25679717959833154,
          -0.26913999204070016,
          0.49298478979236415,
          -1.7553400104436443,
          -0.32567192940690426,
          0.4963013251259451,
          0.33715228833004396,
          -0.48702644670754175,
          0.583173722625296,
          -0.13151299514984052,
          -0.17277039856468238,
          -0.3932252217320785,
          1.747981066541866,
          1.2996522287381982,
          0.17177685124461037,
          0.942376140480576,
          -1.4875548956939744
         ],
         "xaxis": "x",
         "yaxis": "y"
        },
        {
         "line": {
          "color": "rgba(128, 128, 128, 1.0)",
          "dash": "solid",
          "shape": "linear",
          "width": 1.3
         },
         "marker": {
          "size": 2,
          "symbol": "circle"
         },
         "mode": "markers",
         "name": "A",
         "text": "",
         "type": "scatter",
         "x": [
          -0.15467443438003167,
          -1.103714486619362,
          -0.0541684553591224,
          0.41422239107560715,
          -0.47311978978456737,
          0.08890758298241469,
          0.6542883889705488,
          0.1526791972817478,
          -1.0761625495932814,
          0.4108953551780461,
          0.8849114941005151,
          -1.7404564207865973,
          -0.2834726233350443,
          -0.7225958554493189,
          -0.3360213951887905,
          -0.43360752963912125,
          -0.28610770283411324,
          0.5140475923376779,
          0.6498272394533989,
          -0.1880381648673378,
          3.029906110373341,
          -0.655023507621413,
          -0.29993908275112585,
          0.17257175369280023,
          -0.8252449189026975,
          -0.5068002853772337,
          0.7260798014189815,
          -0.3890204893183104,
          -0.42350519981926266,
          -0.9830897847082721,
          -0.745081495310831,
          0.5885934793538804,
          1.3819602740760888,
          -0.6052431371727914,
          -0.795447989408926,
          -0.36279193604862736,
          0.6507982198529062,
          0.26554271337673624,
          0.4278905943406648,
          0.7667337976267404,
          -1.009477598035802,
          1.7868695252714277,
          0.07238439431084817,
          -0.2921642502366185,
          0.8037729291547354,
          -0.2997123802579395,
          0.5540178206043035,
          0.4378922178605772,
          0.516907689763789,
          -0.7489107442737745,
          0.3042169050027822,
          -1.2286144224027291,
          -1.4768661895797555,
          -0.5706672119608341,
          1.4961773942937893,
          -0.15560187954158308,
          0.03247288091238335,
          0.3121279723427983,
          1.2036174628101248,
          -1.8149602214495568,
          -0.25267277264871385,
          -0.31891897183935325,
          -0.47381322603680753,
          0.9177839120362744,
          -0.6619439676220062,
          -0.22228104761216375,
          0.5167188779834639,
          -0.5886601441588484,
          -0.49111226630245897,
          0.2442643888637009,
          -0.04507916296916212,
          0.9049845080788567,
          0.49394996349843406,
          0.202128923957163,
          0.9149650220094239,
          0.20786740242860877,
          1.2558499203678959,
          -0.8882369239533632,
          -0.5665994304015882,
          -2.52713736735959,
          -0.40202525070563416,
          0.42337816477791873,
          2.930189646869836,
          -0.29870561060645767,
          1.0259894736560005,
          -0.5434596778354565,
          -0.48187202723754213,
          -0.7849654446928984,
          0.5354112571672852,
          -0.12100382967481559,
          -1.288362701278329,
          -1.3144891120780753,
          -0.3190835777670386,
          -0.9499938842804496,
          -1.3683098023592501,
          -0.4998233472993743,
          0.47028413887107634,
          0.7786479452061807,
          -0.7357339189416259,
          -1.3464941644058384
         ],
         "xaxis": "x2",
         "y": [
          -1.9722087496969223,
          -0.011671936731851002,
          -1.581095695462608,
          -0.34655125540727333,
          -2.477227183550656,
          1.0941645349574753,
          1.0229529172073148,
          -0.2598830879365222,
          -0.03408300204513225,
          0.316552878256426,
          -0.9560391300790448,
          0.03686863729565844,
          -1.057002166096782,
          1.1269640029188206,
          -2.9267062941867423,
          -0.746704279766539,
          0.05041994672178217,
          0.48710115962661305,
          0.4411562042292949,
          1.9586541598607206,
          -1.1264446501035439,
          -0.8893264007516325,
          -0.912797025545708,
          -0.6764986758310823,
          0.060741922825052995,
          -1.8449685175213293,
          -0.2581939666458554,
          -1.0845735336268134,
          1.3092149762046064,
          -0.3066644272536902,
          2.6272020454447893,
          1.9776080885194243,
          0.5668461448153023,
          0.14871793417682036,
          0.5589477908589175,
          1.569395013601064,
          0.6903765899355268,
          -0.9624507753100264,
          -1.1982377774156872,
          0.3460526200922986,
          -1.5813823853788058,
          -0.060380627009908705,
          -0.45301810031688394,
          -0.8874355334946187,
          -0.08069904562752264,
          0.9892325935849244,
          -0.4402405812651847,
          0.9062225085353147,
          0.051935187991758267,
          -0.7749692187429894,
          0.20663577894552076,
          -2.6432173202033327,
          0.428142633290837,
          0.28064340537672056,
          0.49998815039368866,
          -2.282375457843157,
          -0.2636867903407214,
          -0.8818468535001559,
          -0.3507863058950262,
          -0.3459010474609139,
          -0.2537435919563658,
          0.7534214071578663,
          -0.9475830799767535,
          -1.275468885966171,
          -1.0661714834592064,
          -0.9048886981411098,
          0.25326937641655517,
          2.1839204484406034,
          -0.8272174280292035,
          -0.4645040193133396,
          0.8445505137052899,
          0.36733557594376404,
          -0.21495587739570762,
          -0.2147215789481739,
          -1.014567110997098,
          -0.5200774799937841,
          -0.6299002021429765,
          -0.018567917997282603,
          -1.0129723040910823,
          -1.244448617322104,
          0.9101942921335867,
          0.14653083392106686,
          -0.4696844835441938,
          0.25679717959833154,
          -0.26913999204070016,
          0.49298478979236415,
          -1.7553400104436443,
          -0.32567192940690426,
          0.4963013251259451,
          0.33715228833004396,
          -0.48702644670754175,
          0.583173722625296,
          -0.13151299514984052,
          -0.17277039856468238,
          -0.3932252217320785,
          1.747981066541866,
          1.2996522287381982,
          0.17177685124461037,
          0.942376140480576,
          -1.4875548956939744
         ],
         "yaxis": "y2"
        },
        {
         "line": {
          "color": "rgba(128, 128, 128, 1.0)",
          "dash": "solid",
          "shape": "linear",
          "width": 1.3
         },
         "marker": {
          "size": 2,
          "symbol": "circle"
         },
         "mode": "markers",
         "name": "A",
         "text": "",
         "type": "scatter",
         "x": [
          0.08036546985632058,
          -1.1803155619663286,
          1.882445236348399,
          1.1349992260603332,
          -1.5575608308528395,
          -0.1527564653318407,
          -0.2961188984253155,
          -0.026937775969907905,
          -1.272905763155189,
          -0.8549352977883783,
          -1.281847057260825,
          -2.1210640768169333,
          1.6893630865327454,
          -0.017578634697911624,
          -2.1020556307911615,
          0.0361393847450922,
          0.43746097392298783,
          0.032676108775102256,
          -0.09844484635896847,
          -0.27085031154451733,
          -0.733682783176024,
          -0.5705352930326113,
          1.2726524082477522,
          1.139118304742565,
          -0.11064228540091595,
          0.2208218083646103,
          0.6867117699875392,
          0.847024875757954,
          -0.03593499862944182,
          0.962558874587534,
          -0.1188249528546015,
          -0.13773714151826094,
          0.45722579151212817,
          -0.34509916618804953,
          1.1844240688176957,
          -0.19633186981606932,
          -0.7862381639616858,
          1.07559665304353,
          1.4480044078476682,
          1.3654346413378435,
          0.681486730473982,
          0.3383458494068617,
          0.7739998117437695,
          -2.220518442027511,
          -1.6675281060620841,
          -0.1064622488395936,
          -0.7380040394225079,
          -0.5486295217974224,
          -0.8342851154825762,
          0.026766363250262055,
          -0.35301171647407226,
          -0.5579776604277544,
          0.09076406349955296,
          -3.4553709450226386,
          0.42250861039899773,
          -0.6316855409000489,
          0.3271975344870533,
          -2.1169700697305354,
          0.9962451550083548,
          -0.7109591216011675,
          -0.046305530851667644,
          1.637218972882313,
          0.08862159816983804,
          -2.131416983846675,
          -0.40077384108346514,
          -0.8231628591052247,
          -0.1374738716032662,
          -1.4636837083336742,
          0.5472867160388108,
          -0.3775955732256513,
          -0.9218552005147901,
          0.43162654815156065,
          -0.08272021026159287,
          0.7126733858239472,
          1.447354762450443,
          -0.02446321498869171,
          0.399983377804818,
          0.759018420519252,
          -0.22801770574102007,
          0.5927528149081085,
          0.38592588849566395,
          -0.5702766186066185,
          -0.7624535972326412,
          1.285628408186062,
          -0.667138216464985,
          -1.133126898002318,
          1.4621189512665256,
          -0.38156381185423577,
          1.3007360231295444,
          -1.242078435474785,
          0.8316549080676471,
          -1.449271121165556,
          1.1220898286898993,
          -0.2972658671592852,
          -0.08960631746997277,
          0.2617264232895819,
          -1.5757729109547811,
          -0.14208364014828903,
          0.32389404113691356,
          -0.33948227156482397
         ],
         "xaxis": "x3",
         "y": [
          -1.9722087496969223,
          -0.011671936731851002,
          -1.581095695462608,
          -0.34655125540727333,
          -2.477227183550656,
          1.0941645349574753,
          1.0229529172073148,
          -0.2598830879365222,
          -0.03408300204513225,
          0.316552878256426,
          -0.9560391300790448,
          0.03686863729565844,
          -1.057002166096782,
          1.1269640029188206,
          -2.9267062941867423,
          -0.746704279766539,
          0.05041994672178217,
          0.48710115962661305,
          0.4411562042292949,
          1.9586541598607206,
          -1.1264446501035439,
          -0.8893264007516325,
          -0.912797025545708,
          -0.6764986758310823,
          0.060741922825052995,
          -1.8449685175213293,
          -0.2581939666458554,
          -1.0845735336268134,
          1.3092149762046064,
          -0.3066644272536902,
          2.6272020454447893,
          1.9776080885194243,
          0.5668461448153023,
          0.14871793417682036,
          0.5589477908589175,
          1.569395013601064,
          0.6903765899355268,
          -0.9624507753100264,
          -1.1982377774156872,
          0.3460526200922986,
          -1.5813823853788058,
          -0.060380627009908705,
          -0.45301810031688394,
          -0.8874355334946187,
          -0.08069904562752264,
          0.9892325935849244,
          -0.4402405812651847,
          0.9062225085353147,
          0.051935187991758267,
          -0.7749692187429894,
          0.20663577894552076,
          -2.6432173202033327,
          0.428142633290837,
          0.28064340537672056,
          0.49998815039368866,
          -2.282375457843157,
          -0.2636867903407214,
          -0.8818468535001559,
          -0.3507863058950262,
          -0.3459010474609139,
          -0.2537435919563658,
          0.7534214071578663,
          -0.9475830799767535,
          -1.275468885966171,
          -1.0661714834592064,
          -0.9048886981411098,
          0.25326937641655517,
          2.1839204484406034,
          -0.8272174280292035,
          -0.4645040193133396,
          0.8445505137052899,
          0.36733557594376404,
          -0.21495587739570762,
          -0.2147215789481739,
          -1.014567110997098,
          -0.5200774799937841,
          -0.6299002021429765,
          -0.018567917997282603,
          -1.0129723040910823,
          -1.244448617322104,
          0.9101942921335867,
          0.14653083392106686,
          -0.4696844835441938,
          0.25679717959833154,
          -0.26913999204070016,
          0.49298478979236415,
          -1.7553400104436443,
          -0.32567192940690426,
          0.4963013251259451,
          0.33715228833004396,
          -0.48702644670754175,
          0.583173722625296,
          -0.13151299514984052,
          -0.17277039856468238,
          -0.3932252217320785,
          1.747981066541866,
          1.2996522287381982,
          0.17177685124461037,
          0.942376140480576,
          -1.4875548956939744
         ],
         "yaxis": "y3"
        },
        {
         "line": {
          "color": "rgba(128, 128, 128, 1.0)",
          "dash": "solid",
          "shape": "linear",
          "width": 1.3
         },
         "marker": {
          "size": 2,
          "symbol": "circle"
         },
         "mode": "markers",
         "name": "A",
         "text": "",
         "type": "scatter",
         "x": [
          0.2099912171818562,
          -1.1990577012263692,
          -0.10108308904370543,
          0.8112918719255539,
          0.8313292393664062,
          -0.1609187788658841,
          -1.2892556331200071,
          0.9732044973804842,
          -1.1028627677307659,
          2.59152389882196,
          1.8278949849904982,
          0.09666258307375825,
          -1.8698416412189955,
          -0.4667341426156331,
          1.4031952918004071,
          -0.6303345038130095,
          0.22875513735396286,
          -0.6052468375175506,
          -1.0033180221842917,
          -0.23701021798356048,
          0.26034119125003896,
          2.273447162989823,
          -0.7364967757641886,
          -0.7212268788942579,
          1.4032812419505187,
          -1.657082576262926,
          1.2980658002357384,
          -0.6299324027125981,
          -0.1545833811130906,
          -0.5825103619109648,
          0.6928695396899978,
          -0.5133582454624704,
          -0.2913421611333826,
          -1.6635086452655068,
          -0.2020484429785352,
          0.6856592512667734,
          0.5239777192162516,
          -0.7065993959550226,
          -0.5098123119401131,
          0.1641257050238636,
          -0.29725165110797663,
          1.5528862134289545,
          0.24750879328359607,
          0.4805183246295481,
          -0.41749943539773393,
          1.7702402084916669,
          0.09658312042565893,
          -0.08997675886994944,
          0.3285274976468807,
          1.247695297338725,
          1.495774506601597,
          1.069691061446215,
          0.7552018458688805,
          0.2281391096504319,
          1.2789791912760797,
          -1.8295558769667868,
          0.11636660987779016,
          -0.2229977057008248,
          0.6033630281600153,
          0.35992973484009283,
          -1.5823384178952768,
          -0.1468527788638083,
          0.14460305750459343,
          -0.8494544248877588,
          0.7275331259041663,
          -1.1586340637121935,
          -0.041287814093800224,
          0.9280295950246412,
          0.3810274945493502,
          0.5498487750737486,
          0.22177455039431346,
          -0.5834077247799289,
          -1.1329855240956723,
          1.2252793444619456,
          -1.409537567130078,
          1.7704383751548867,
          -0.8399884873146362,
          1.4508778811621514,
          -0.07945956920141474,
          0.514019250535904,
          1.14091575698579,
          -0.44447442783136815,
          -0.6902998179887635,
          -1.1323460320590162,
          0.44171435496756867,
          -0.9748005885661352,
          -0.004717678081116911,
          1.210811559025089,
          -0.3057156300025935,
          0.09408566042173429,
          -1.3093042861597297,
          0.8642257090072247,
          -0.4602704927209007,
          1.1425853788847717,
          0.3122916358920499,
          -1.0649219085134165,
          0.5681313958119188,
          -1.5393910822689814,
          -0.3183315654749651,
          -0.3083516229304344
         ],
         "xaxis": "x4",
         "y": [
          -1.9722087496969223,
          -0.011671936731851002,
          -1.581095695462608,
          -0.34655125540727333,
          -2.477227183550656,
          1.0941645349574753,
          1.0229529172073148,
          -0.2598830879365222,
          -0.03408300204513225,
          0.316552878256426,
          -0.9560391300790448,
          0.03686863729565844,
          -1.057002166096782,
          1.1269640029188206,
          -2.9267062941867423,
          -0.746704279766539,
          0.05041994672178217,
          0.48710115962661305,
          0.4411562042292949,
          1.9586541598607206,
          -1.1264446501035439,
          -0.8893264007516325,
          -0.912797025545708,
          -0.6764986758310823,
          0.060741922825052995,
          -1.8449685175213293,
          -0.2581939666458554,
          -1.0845735336268134,
          1.3092149762046064,
          -0.3066644272536902,
          2.6272020454447893,
          1.9776080885194243,
          0.5668461448153023,
          0.14871793417682036,
          0.5589477908589175,
          1.569395013601064,
          0.6903765899355268,
          -0.9624507753100264,
          -1.1982377774156872,
          0.3460526200922986,
          -1.5813823853788058,
          -0.060380627009908705,
          -0.45301810031688394,
          -0.8874355334946187,
          -0.08069904562752264,
          0.9892325935849244,
          -0.4402405812651847,
          0.9062225085353147,
          0.051935187991758267,
          -0.7749692187429894,
          0.20663577894552076,
          -2.6432173202033327,
          0.428142633290837,
          0.28064340537672056,
          0.49998815039368866,
          -2.282375457843157,
          -0.2636867903407214,
          -0.8818468535001559,
          -0.3507863058950262,
          -0.3459010474609139,
          -0.2537435919563658,
          0.7534214071578663,
          -0.9475830799767535,
          -1.275468885966171,
          -1.0661714834592064,
          -0.9048886981411098,
          0.25326937641655517,
          2.1839204484406034,
          -0.8272174280292035,
          -0.4645040193133396,
          0.8445505137052899,
          0.36733557594376404,
          -0.21495587739570762,
          -0.2147215789481739,
          -1.014567110997098,
          -0.5200774799937841,
          -0.6299002021429765,
          -0.018567917997282603,
          -1.0129723040910823,
          -1.244448617322104,
          0.9101942921335867,
          0.14653083392106686,
          -0.4696844835441938,
          0.25679717959833154,
          -0.26913999204070016,
          0.49298478979236415,
          -1.7553400104436443,
          -0.32567192940690426,
          0.4963013251259451,
          0.33715228833004396,
          -0.48702644670754175,
          0.583173722625296,
          -0.13151299514984052,
          -0.17277039856468238,
          -0.3932252217320785,
          1.747981066541866,
          1.2996522287381982,
          0.17177685124461037,
          0.942376140480576,
          -1.4875548956939744
         ],
         "yaxis": "y4"
        },
        {
         "line": {
          "color": "rgba(128, 128, 128, 1.0)",
          "dash": "solid",
          "shape": "linear",
          "width": 1.3
         },
         "marker": {
          "size": 2,
          "symbol": "circle"
         },
         "mode": "markers",
         "name": "B",
         "text": "",
         "type": "scatter",
         "x": [
          -1.9722087496969223,
          -0.011671936731851002,
          -1.581095695462608,
          -0.34655125540727333,
          -2.477227183550656,
          1.0941645349574753,
          1.0229529172073148,
          -0.2598830879365222,
          -0.03408300204513225,
          0.316552878256426,
          -0.9560391300790448,
          0.03686863729565844,
          -1.057002166096782,
          1.1269640029188206,
          -2.9267062941867423,
          -0.746704279766539,
          0.05041994672178217,
          0.48710115962661305,
          0.4411562042292949,
          1.9586541598607206,
          -1.1264446501035439,
          -0.8893264007516325,
          -0.912797025545708,
          -0.6764986758310823,
          0.060741922825052995,
          -1.8449685175213293,
          -0.2581939666458554,
          -1.0845735336268134,
          1.3092149762046064,
          -0.3066644272536902,
          2.6272020454447893,
          1.9776080885194243,
          0.5668461448153023,
          0.14871793417682036,
          0.5589477908589175,
          1.569395013601064,
          0.6903765899355268,
          -0.9624507753100264,
          -1.1982377774156872,
          0.3460526200922986,
          -1.5813823853788058,
          -0.060380627009908705,
          -0.45301810031688394,
          -0.8874355334946187,
          -0.08069904562752264,
          0.9892325935849244,
          -0.4402405812651847,
          0.9062225085353147,
          0.051935187991758267,
          -0.7749692187429894,
          0.20663577894552076,
          -2.6432173202033327,
          0.428142633290837,
          0.28064340537672056,
          0.49998815039368866,
          -2.282375457843157,
          -0.2636867903407214,
          -0.8818468535001559,
          -0.3507863058950262,
          -0.3459010474609139,
          -0.2537435919563658,
          0.7534214071578663,
          -0.9475830799767535,
          -1.275468885966171,
          -1.0661714834592064,
          -0.9048886981411098,
          0.25326937641655517,
          2.1839204484406034,
          -0.8272174280292035,
          -0.4645040193133396,
          0.8445505137052899,
          0.36733557594376404,
          -0.21495587739570762,
          -0.2147215789481739,
          -1.014567110997098,
          -0.5200774799937841,
          -0.6299002021429765,
          -0.018567917997282603,
          -1.0129723040910823,
          -1.244448617322104,
          0.9101942921335867,
          0.14653083392106686,
          -0.4696844835441938,
          0.25679717959833154,
          -0.26913999204070016,
          0.49298478979236415,
          -1.7553400104436443,
          -0.32567192940690426,
          0.4963013251259451,
          0.33715228833004396,
          -0.48702644670754175,
          0.583173722625296,
          -0.13151299514984052,
          -0.17277039856468238,
          -0.3932252217320785,
          1.747981066541866,
          1.2996522287381982,
          0.17177685124461037,
          0.942376140480576,
          -1.4875548956939744
         ],
         "xaxis": "x5",
         "y": [
          -0.15467443438003167,
          -1.103714486619362,
          -0.0541684553591224,
          0.41422239107560715,
          -0.47311978978456737,
          0.08890758298241469,
          0.6542883889705488,
          0.1526791972817478,
          -1.0761625495932814,
          0.4108953551780461,
          0.8849114941005151,
          -1.7404564207865973,
          -0.2834726233350443,
          -0.7225958554493189,
          -0.3360213951887905,
          -0.43360752963912125,
          -0.28610770283411324,
          0.5140475923376779,
          0.6498272394533989,
          -0.1880381648673378,
          3.029906110373341,
          -0.655023507621413,
          -0.29993908275112585,
          0.17257175369280023,
          -0.8252449189026975,
          -0.5068002853772337,
          0.7260798014189815,
          -0.3890204893183104,
          -0.42350519981926266,
          -0.9830897847082721,
          -0.745081495310831,
          0.5885934793538804,
          1.3819602740760888,
          -0.6052431371727914,
          -0.795447989408926,
          -0.36279193604862736,
          0.6507982198529062,
          0.26554271337673624,
          0.4278905943406648,
          0.7667337976267404,
          -1.009477598035802,
          1.7868695252714277,
          0.07238439431084817,
          -0.2921642502366185,
          0.8037729291547354,
          -0.2997123802579395,
          0.5540178206043035,
          0.4378922178605772,
          0.516907689763789,
          -0.7489107442737745,
          0.3042169050027822,
          -1.2286144224027291,
          -1.4768661895797555,
          -0.5706672119608341,
          1.4961773942937893,
          -0.15560187954158308,
          0.03247288091238335,
          0.3121279723427983,
          1.2036174628101248,
          -1.8149602214495568,
          -0.25267277264871385,
          -0.31891897183935325,
          -0.47381322603680753,
          0.9177839120362744,
          -0.6619439676220062,
          -0.22228104761216375,
          0.5167188779834639,
          -0.5886601441588484,
          -0.49111226630245897,
          0.2442643888637009,
          -0.04507916296916212,
          0.9049845080788567,
          0.49394996349843406,
          0.202128923957163,
          0.9149650220094239,
          0.20786740242860877,
          1.2558499203678959,
          -0.8882369239533632,
          -0.5665994304015882,
          -2.52713736735959,
          -0.40202525070563416,
          0.42337816477791873,
          2.930189646869836,
          -0.29870561060645767,
          1.0259894736560005,
          -0.5434596778354565,
          -0.48187202723754213,
          -0.7849654446928984,
          0.5354112571672852,
          -0.12100382967481559,
          -1.288362701278329,
          -1.3144891120780753,
          -0.3190835777670386,
          -0.9499938842804496,
          -1.3683098023592501,
          -0.4998233472993743,
          0.47028413887107634,
          0.7786479452061807,
          -0.7357339189416259,
          -1.3464941644058384
         ],
         "yaxis": "y5"
        },
        {
         "histfunc": "count",
         "histnorm": "",
         "marker": {
          "color": "rgba(55, 128, 191, 1.0)",
          "line": {
           "color": "#4D5663",
           "width": 1.3
          }
         },
         "name": "B",
         "nbinsx": 10,
         "opacity": 0.8,
         "orientation": "v",
         "type": "histogram",
         "x": [
          -0.15467443438003167,
          -1.103714486619362,
          -0.0541684553591224,
          0.41422239107560715,
          -0.47311978978456737,
          0.08890758298241469,
          0.6542883889705488,
          0.1526791972817478,
          -1.0761625495932814,
          0.4108953551780461,
          0.8849114941005151,
          -1.7404564207865973,
          -0.2834726233350443,
          -0.7225958554493189,
          -0.3360213951887905,
          -0.43360752963912125,
          -0.28610770283411324,
          0.5140475923376779,
          0.6498272394533989,
          -0.1880381648673378,
          3.029906110373341,
          -0.655023507621413,
          -0.29993908275112585,
          0.17257175369280023,
          -0.8252449189026975,
          -0.5068002853772337,
          0.7260798014189815,
          -0.3890204893183104,
          -0.42350519981926266,
          -0.9830897847082721,
          -0.745081495310831,
          0.5885934793538804,
          1.3819602740760888,
          -0.6052431371727914,
          -0.795447989408926,
          -0.36279193604862736,
          0.6507982198529062,
          0.26554271337673624,
          0.4278905943406648,
          0.7667337976267404,
          -1.009477598035802,
          1.7868695252714277,
          0.07238439431084817,
          -0.2921642502366185,
          0.8037729291547354,
          -0.2997123802579395,
          0.5540178206043035,
          0.4378922178605772,
          0.516907689763789,
          -0.7489107442737745,
          0.3042169050027822,
          -1.2286144224027291,
          -1.4768661895797555,
          -0.5706672119608341,
          1.4961773942937893,
          -0.15560187954158308,
          0.03247288091238335,
          0.3121279723427983,
          1.2036174628101248,
          -1.8149602214495568,
          -0.25267277264871385,
          -0.31891897183935325,
          -0.47381322603680753,
          0.9177839120362744,
          -0.6619439676220062,
          -0.22228104761216375,
          0.5167188779834639,
          -0.5886601441588484,
          -0.49111226630245897,
          0.2442643888637009,
          -0.04507916296916212,
          0.9049845080788567,
          0.49394996349843406,
          0.202128923957163,
          0.9149650220094239,
          0.20786740242860877,
          1.2558499203678959,
          -0.8882369239533632,
          -0.5665994304015882,
          -2.52713736735959,
          -0.40202525070563416,
          0.42337816477791873,
          2.930189646869836,
          -0.29870561060645767,
          1.0259894736560005,
          -0.5434596778354565,
          -0.48187202723754213,
          -0.7849654446928984,
          0.5354112571672852,
          -0.12100382967481559,
          -1.288362701278329,
          -1.3144891120780753,
          -0.3190835777670386,
          -0.9499938842804496,
          -1.3683098023592501,
          -0.4998233472993743,
          0.47028413887107634,
          0.7786479452061807,
          -0.7357339189416259,
          -1.3464941644058384
         ],
         "xaxis": "x6",
         "yaxis": "y6"
        },
        {
         "line": {
          "color": "rgba(128, 128, 128, 1.0)",
          "dash": "solid",
          "shape": "linear",
          "width": 1.3
         },
         "marker": {
          "size": 2,
          "symbol": "circle"
         },
         "mode": "markers",
         "name": "B",
         "text": "",
         "type": "scatter",
         "x": [
          0.08036546985632058,
          -1.1803155619663286,
          1.882445236348399,
          1.1349992260603332,
          -1.5575608308528395,
          -0.1527564653318407,
          -0.2961188984253155,
          -0.026937775969907905,
          -1.272905763155189,
          -0.8549352977883783,
          -1.281847057260825,
          -2.1210640768169333,
          1.6893630865327454,
          -0.017578634697911624,
          -2.1020556307911615,
          0.0361393847450922,
          0.43746097392298783,
          0.032676108775102256,
          -0.09844484635896847,
          -0.27085031154451733,
          -0.733682783176024,
          -0.5705352930326113,
          1.2726524082477522,
          1.139118304742565,
          -0.11064228540091595,
          0.2208218083646103,
          0.6867117699875392,
          0.847024875757954,
          -0.03593499862944182,
          0.962558874587534,
          -0.1188249528546015,
          -0.13773714151826094,
          0.45722579151212817,
          -0.34509916618804953,
          1.1844240688176957,
          -0.19633186981606932,
          -0.7862381639616858,
          1.07559665304353,
          1.4480044078476682,
          1.3654346413378435,
          0.681486730473982,
          0.3383458494068617,
          0.7739998117437695,
          -2.220518442027511,
          -1.6675281060620841,
          -0.1064622488395936,
          -0.7380040394225079,
          -0.5486295217974224,
          -0.8342851154825762,
          0.026766363250262055,
          -0.35301171647407226,
          -0.5579776604277544,
          0.09076406349955296,
          -3.4553709450226386,
          0.42250861039899773,
          -0.6316855409000489,
          0.3271975344870533,
          -2.1169700697305354,
          0.9962451550083548,
          -0.7109591216011675,
          -0.046305530851667644,
          1.637218972882313,
          0.08862159816983804,
          -2.131416983846675,
          -0.40077384108346514,
          -0.8231628591052247,
          -0.1374738716032662,
          -1.4636837083336742,
          0.5472867160388108,
          -0.3775955732256513,
          -0.9218552005147901,
          0.43162654815156065,
          -0.08272021026159287,
          0.7126733858239472,
          1.447354762450443,
          -0.02446321498869171,
          0.399983377804818,
          0.759018420519252,
          -0.22801770574102007,
          0.5927528149081085,
          0.38592588849566395,
          -0.5702766186066185,
          -0.7624535972326412,
          1.285628408186062,
          -0.667138216464985,
          -1.133126898002318,
          1.4621189512665256,
          -0.38156381185423577,
          1.3007360231295444,
          -1.242078435474785,
          0.8316549080676471,
          -1.449271121165556,
          1.1220898286898993,
          -0.2972658671592852,
          -0.08960631746997277,
          0.2617264232895819,
          -1.5757729109547811,
          -0.14208364014828903,
          0.32389404113691356,
          -0.33948227156482397
         ],
         "xaxis": "x7",
         "y": [
          -0.15467443438003167,
          -1.103714486619362,
          -0.0541684553591224,
          0.41422239107560715,
          -0.47311978978456737,
          0.08890758298241469,
          0.6542883889705488,
          0.1526791972817478,
          -1.0761625495932814,
          0.4108953551780461,
          0.8849114941005151,
          -1.7404564207865973,
          -0.2834726233350443,
          -0.7225958554493189,
          -0.3360213951887905,
          -0.43360752963912125,
          -0.28610770283411324,
          0.5140475923376779,
          0.6498272394533989,
          -0.1880381648673378,
          3.029906110373341,
          -0.655023507621413,
          -0.29993908275112585,
          0.17257175369280023,
          -0.8252449189026975,
          -0.5068002853772337,
          0.7260798014189815,
          -0.3890204893183104,
          -0.42350519981926266,
          -0.9830897847082721,
          -0.745081495310831,
          0.5885934793538804,
          1.3819602740760888,
          -0.6052431371727914,
          -0.795447989408926,
          -0.36279193604862736,
          0.6507982198529062,
          0.26554271337673624,
          0.4278905943406648,
          0.7667337976267404,
          -1.009477598035802,
          1.7868695252714277,
          0.07238439431084817,
          -0.2921642502366185,
          0.8037729291547354,
          -0.2997123802579395,
          0.5540178206043035,
          0.4378922178605772,
          0.516907689763789,
          -0.7489107442737745,
          0.3042169050027822,
          -1.2286144224027291,
          -1.4768661895797555,
          -0.5706672119608341,
          1.4961773942937893,
          -0.15560187954158308,
          0.03247288091238335,
          0.3121279723427983,
          1.2036174628101248,
          -1.8149602214495568,
          -0.25267277264871385,
          -0.31891897183935325,
          -0.47381322603680753,
          0.9177839120362744,
          -0.6619439676220062,
          -0.22228104761216375,
          0.5167188779834639,
          -0.5886601441588484,
          -0.49111226630245897,
          0.2442643888637009,
          -0.04507916296916212,
          0.9049845080788567,
          0.49394996349843406,
          0.202128923957163,
          0.9149650220094239,
          0.20786740242860877,
          1.2558499203678959,
          -0.8882369239533632,
          -0.5665994304015882,
          -2.52713736735959,
          -0.40202525070563416,
          0.42337816477791873,
          2.930189646869836,
          -0.29870561060645767,
          1.0259894736560005,
          -0.5434596778354565,
          -0.48187202723754213,
          -0.7849654446928984,
          0.5354112571672852,
          -0.12100382967481559,
          -1.288362701278329,
          -1.3144891120780753,
          -0.3190835777670386,
          -0.9499938842804496,
          -1.3683098023592501,
          -0.4998233472993743,
          0.47028413887107634,
          0.7786479452061807,
          -0.7357339189416259,
          -1.3464941644058384
         ],
         "yaxis": "y7"
        },
        {
         "line": {
          "color": "rgba(128, 128, 128, 1.0)",
          "dash": "solid",
          "shape": "linear",
          "width": 1.3
         },
         "marker": {
          "size": 2,
          "symbol": "circle"
         },
         "mode": "markers",
         "name": "B",
         "text": "",
         "type": "scatter",
         "x": [
          0.2099912171818562,
          -1.1990577012263692,
          -0.10108308904370543,
          0.8112918719255539,
          0.8313292393664062,
          -0.1609187788658841,
          -1.2892556331200071,
          0.9732044973804842,
          -1.1028627677307659,
          2.59152389882196,
          1.8278949849904982,
          0.09666258307375825,
          -1.8698416412189955,
          -0.4667341426156331,
          1.4031952918004071,
          -0.6303345038130095,
          0.22875513735396286,
          -0.6052468375175506,
          -1.0033180221842917,
          -0.23701021798356048,
          0.26034119125003896,
          2.273447162989823,
          -0.7364967757641886,
          -0.7212268788942579,
          1.4032812419505187,
          -1.657082576262926,
          1.2980658002357384,
          -0.6299324027125981,
          -0.1545833811130906,
          -0.5825103619109648,
          0.6928695396899978,
          -0.5133582454624704,
          -0.2913421611333826,
          -1.6635086452655068,
          -0.2020484429785352,
          0.6856592512667734,
          0.5239777192162516,
          -0.7065993959550226,
          -0.5098123119401131,
          0.1641257050238636,
          -0.29725165110797663,
          1.5528862134289545,
          0.24750879328359607,
          0.4805183246295481,
          -0.41749943539773393,
          1.7702402084916669,
          0.09658312042565893,
          -0.08997675886994944,
          0.3285274976468807,
          1.247695297338725,
          1.495774506601597,
          1.069691061446215,
          0.7552018458688805,
          0.2281391096504319,
          1.2789791912760797,
          -1.8295558769667868,
          0.11636660987779016,
          -0.2229977057008248,
          0.6033630281600153,
          0.35992973484009283,
          -1.5823384178952768,
          -0.1468527788638083,
          0.14460305750459343,
          -0.8494544248877588,
          0.7275331259041663,
          -1.1586340637121935,
          -0.041287814093800224,
          0.9280295950246412,
          0.3810274945493502,
          0.5498487750737486,
          0.22177455039431346,
          -0.5834077247799289,
          -1.1329855240956723,
          1.2252793444619456,
          -1.409537567130078,
          1.7704383751548867,
          -0.8399884873146362,
          1.4508778811621514,
          -0.07945956920141474,
          0.514019250535904,
          1.14091575698579,
          -0.44447442783136815,
          -0.6902998179887635,
          -1.1323460320590162,
          0.44171435496756867,
          -0.9748005885661352,
          -0.004717678081116911,
          1.210811559025089,
          -0.3057156300025935,
          0.09408566042173429,
          -1.3093042861597297,
          0.8642257090072247,
          -0.4602704927209007,
          1.1425853788847717,
          0.3122916358920499,
          -1.0649219085134165,
          0.5681313958119188,
          -1.5393910822689814,
          -0.3183315654749651,
          -0.3083516229304344
         ],
         "xaxis": "x8",
         "y": [
          -0.15467443438003167,
          -1.103714486619362,
          -0.0541684553591224,
          0.41422239107560715,
          -0.47311978978456737,
          0.08890758298241469,
          0.6542883889705488,
          0.1526791972817478,
          -1.0761625495932814,
          0.4108953551780461,
          0.8849114941005151,
          -1.7404564207865973,
          -0.2834726233350443,
          -0.7225958554493189,
          -0.3360213951887905,
          -0.43360752963912125,
          -0.28610770283411324,
          0.5140475923376779,
          0.6498272394533989,
          -0.1880381648673378,
          3.029906110373341,
          -0.655023507621413,
          -0.29993908275112585,
          0.17257175369280023,
          -0.8252449189026975,
          -0.5068002853772337,
          0.7260798014189815,
          -0.3890204893183104,
          -0.42350519981926266,
          -0.9830897847082721,
          -0.745081495310831,
          0.5885934793538804,
          1.3819602740760888,
          -0.6052431371727914,
          -0.795447989408926,
          -0.36279193604862736,
          0.6507982198529062,
          0.26554271337673624,
          0.4278905943406648,
          0.7667337976267404,
          -1.009477598035802,
          1.7868695252714277,
          0.07238439431084817,
          -0.2921642502366185,
          0.8037729291547354,
          -0.2997123802579395,
          0.5540178206043035,
          0.4378922178605772,
          0.516907689763789,
          -0.7489107442737745,
          0.3042169050027822,
          -1.2286144224027291,
          -1.4768661895797555,
          -0.5706672119608341,
          1.4961773942937893,
          -0.15560187954158308,
          0.03247288091238335,
          0.3121279723427983,
          1.2036174628101248,
          -1.8149602214495568,
          -0.25267277264871385,
          -0.31891897183935325,
          -0.47381322603680753,
          0.9177839120362744,
          -0.6619439676220062,
          -0.22228104761216375,
          0.5167188779834639,
          -0.5886601441588484,
          -0.49111226630245897,
          0.2442643888637009,
          -0.04507916296916212,
          0.9049845080788567,
          0.49394996349843406,
          0.202128923957163,
          0.9149650220094239,
          0.20786740242860877,
          1.2558499203678959,
          -0.8882369239533632,
          -0.5665994304015882,
          -2.52713736735959,
          -0.40202525070563416,
          0.42337816477791873,
          2.930189646869836,
          -0.29870561060645767,
          1.0259894736560005,
          -0.5434596778354565,
          -0.48187202723754213,
          -0.7849654446928984,
          0.5354112571672852,
          -0.12100382967481559,
          -1.288362701278329,
          -1.3144891120780753,
          -0.3190835777670386,
          -0.9499938842804496,
          -1.3683098023592501,
          -0.4998233472993743,
          0.47028413887107634,
          0.7786479452061807,
          -0.7357339189416259,
          -1.3464941644058384
         ],
         "yaxis": "y8"
        },
        {
         "line": {
          "color": "rgba(128, 128, 128, 1.0)",
          "dash": "solid",
          "shape": "linear",
          "width": 1.3
         },
         "marker": {
          "size": 2,
          "symbol": "circle"
         },
         "mode": "markers",
         "name": "C",
         "text": "",
         "type": "scatter",
         "x": [
          -1.9722087496969223,
          -0.011671936731851002,
          -1.581095695462608,
          -0.34655125540727333,
          -2.477227183550656,
          1.0941645349574753,
          1.0229529172073148,
          -0.2598830879365222,
          -0.03408300204513225,
          0.316552878256426,
          -0.9560391300790448,
          0.03686863729565844,
          -1.057002166096782,
          1.1269640029188206,
          -2.9267062941867423,
          -0.746704279766539,
          0.05041994672178217,
          0.48710115962661305,
          0.4411562042292949,
          1.9586541598607206,
          -1.1264446501035439,
          -0.8893264007516325,
          -0.912797025545708,
          -0.6764986758310823,
          0.060741922825052995,
          -1.8449685175213293,
          -0.2581939666458554,
          -1.0845735336268134,
          1.3092149762046064,
          -0.3066644272536902,
          2.6272020454447893,
          1.9776080885194243,
          0.5668461448153023,
          0.14871793417682036,
          0.5589477908589175,
          1.569395013601064,
          0.6903765899355268,
          -0.9624507753100264,
          -1.1982377774156872,
          0.3460526200922986,
          -1.5813823853788058,
          -0.060380627009908705,
          -0.45301810031688394,
          -0.8874355334946187,
          -0.08069904562752264,
          0.9892325935849244,
          -0.4402405812651847,
          0.9062225085353147,
          0.051935187991758267,
          -0.7749692187429894,
          0.20663577894552076,
          -2.6432173202033327,
          0.428142633290837,
          0.28064340537672056,
          0.49998815039368866,
          -2.282375457843157,
          -0.2636867903407214,
          -0.8818468535001559,
          -0.3507863058950262,
          -0.3459010474609139,
          -0.2537435919563658,
          0.7534214071578663,
          -0.9475830799767535,
          -1.275468885966171,
          -1.0661714834592064,
          -0.9048886981411098,
          0.25326937641655517,
          2.1839204484406034,
          -0.8272174280292035,
          -0.4645040193133396,
          0.8445505137052899,
          0.36733557594376404,
          -0.21495587739570762,
          -0.2147215789481739,
          -1.014567110997098,
          -0.5200774799937841,
          -0.6299002021429765,
          -0.018567917997282603,
          -1.0129723040910823,
          -1.244448617322104,
          0.9101942921335867,
          0.14653083392106686,
          -0.4696844835441938,
          0.25679717959833154,
          -0.26913999204070016,
          0.49298478979236415,
          -1.7553400104436443,
          -0.32567192940690426,
          0.4963013251259451,
          0.33715228833004396,
          -0.48702644670754175,
          0.583173722625296,
          -0.13151299514984052,
          -0.17277039856468238,
          -0.3932252217320785,
          1.747981066541866,
          1.2996522287381982,
          0.17177685124461037,
          0.942376140480576,
          -1.4875548956939744
         ],
         "xaxis": "x9",
         "y": [
          0.08036546985632058,
          -1.1803155619663286,
          1.882445236348399,
          1.1349992260603332,
          -1.5575608308528395,
          -0.1527564653318407,
          -0.2961188984253155,
          -0.026937775969907905,
          -1.272905763155189,
          -0.8549352977883783,
          -1.281847057260825,
          -2.1210640768169333,
          1.6893630865327454,
          -0.017578634697911624,
          -2.1020556307911615,
          0.0361393847450922,
          0.43746097392298783,
          0.032676108775102256,
          -0.09844484635896847,
          -0.27085031154451733,
          -0.733682783176024,
          -0.5705352930326113,
          1.2726524082477522,
          1.139118304742565,
          -0.11064228540091595,
          0.2208218083646103,
          0.6867117699875392,
          0.847024875757954,
          -0.03593499862944182,
          0.962558874587534,
          -0.1188249528546015,
          -0.13773714151826094,
          0.45722579151212817,
          -0.34509916618804953,
          1.1844240688176957,
          -0.19633186981606932,
          -0.7862381639616858,
          1.07559665304353,
          1.4480044078476682,
          1.3654346413378435,
          0.681486730473982,
          0.3383458494068617,
          0.7739998117437695,
          -2.220518442027511,
          -1.6675281060620841,
          -0.1064622488395936,
          -0.7380040394225079,
          -0.5486295217974224,
          -0.8342851154825762,
          0.026766363250262055,
          -0.35301171647407226,
          -0.5579776604277544,
          0.09076406349955296,
          -3.4553709450226386,
          0.42250861039899773,
          -0.6316855409000489,
          0.3271975344870533,
          -2.1169700697305354,
          0.9962451550083548,
          -0.7109591216011675,
          -0.046305530851667644,
          1.637218972882313,
          0.08862159816983804,
          -2.131416983846675,
          -0.40077384108346514,
          -0.8231628591052247,
          -0.1374738716032662,
          -1.4636837083336742,
          0.5472867160388108,
          -0.3775955732256513,
          -0.9218552005147901,
          0.43162654815156065,
          -0.08272021026159287,
          0.7126733858239472,
          1.447354762450443,
          -0.02446321498869171,
          0.399983377804818,
          0.759018420519252,
          -0.22801770574102007,
          0.5927528149081085,
          0.38592588849566395,
          -0.5702766186066185,
          -0.7624535972326412,
          1.285628408186062,
          -0.667138216464985,
          -1.133126898002318,
          1.4621189512665256,
          -0.38156381185423577,
          1.3007360231295444,
          -1.242078435474785,
          0.8316549080676471,
          -1.449271121165556,
          1.1220898286898993,
          -0.2972658671592852,
          -0.08960631746997277,
          0.2617264232895819,
          -1.5757729109547811,
          -0.14208364014828903,
          0.32389404113691356,
          -0.33948227156482397
         ],
         "yaxis": "y9"
        },
        {
         "line": {
          "color": "rgba(128, 128, 128, 1.0)",
          "dash": "solid",
          "shape": "linear",
          "width": 1.3
         },
         "marker": {
          "size": 2,
          "symbol": "circle"
         },
         "mode": "markers",
         "name": "C",
         "text": "",
         "type": "scatter",
         "x": [
          -0.15467443438003167,
          -1.103714486619362,
          -0.0541684553591224,
          0.41422239107560715,
          -0.47311978978456737,
          0.08890758298241469,
          0.6542883889705488,
          0.1526791972817478,
          -1.0761625495932814,
          0.4108953551780461,
          0.8849114941005151,
          -1.7404564207865973,
          -0.2834726233350443,
          -0.7225958554493189,
          -0.3360213951887905,
          -0.43360752963912125,
          -0.28610770283411324,
          0.5140475923376779,
          0.6498272394533989,
          -0.1880381648673378,
          3.029906110373341,
          -0.655023507621413,
          -0.29993908275112585,
          0.17257175369280023,
          -0.8252449189026975,
          -0.5068002853772337,
          0.7260798014189815,
          -0.3890204893183104,
          -0.42350519981926266,
          -0.9830897847082721,
          -0.745081495310831,
          0.5885934793538804,
          1.3819602740760888,
          -0.6052431371727914,
          -0.795447989408926,
          -0.36279193604862736,
          0.6507982198529062,
          0.26554271337673624,
          0.4278905943406648,
          0.7667337976267404,
          -1.009477598035802,
          1.7868695252714277,
          0.07238439431084817,
          -0.2921642502366185,
          0.8037729291547354,
          -0.2997123802579395,
          0.5540178206043035,
          0.4378922178605772,
          0.516907689763789,
          -0.7489107442737745,
          0.3042169050027822,
          -1.2286144224027291,
          -1.4768661895797555,
          -0.5706672119608341,
          1.4961773942937893,
          -0.15560187954158308,
          0.03247288091238335,
          0.3121279723427983,
          1.2036174628101248,
          -1.8149602214495568,
          -0.25267277264871385,
          -0.31891897183935325,
          -0.47381322603680753,
          0.9177839120362744,
          -0.6619439676220062,
          -0.22228104761216375,
          0.5167188779834639,
          -0.5886601441588484,
          -0.49111226630245897,
          0.2442643888637009,
          -0.04507916296916212,
          0.9049845080788567,
          0.49394996349843406,
          0.202128923957163,
          0.9149650220094239,
          0.20786740242860877,
          1.2558499203678959,
          -0.8882369239533632,
          -0.5665994304015882,
          -2.52713736735959,
          -0.40202525070563416,
          0.42337816477791873,
          2.930189646869836,
          -0.29870561060645767,
          1.0259894736560005,
          -0.5434596778354565,
          -0.48187202723754213,
          -0.7849654446928984,
          0.5354112571672852,
          -0.12100382967481559,
          -1.288362701278329,
          -1.3144891120780753,
          -0.3190835777670386,
          -0.9499938842804496,
          -1.3683098023592501,
          -0.4998233472993743,
          0.47028413887107634,
          0.7786479452061807,
          -0.7357339189416259,
          -1.3464941644058384
         ],
         "xaxis": "x10",
         "y": [
          0.08036546985632058,
          -1.1803155619663286,
          1.882445236348399,
          1.1349992260603332,
          -1.5575608308528395,
          -0.1527564653318407,
          -0.2961188984253155,
          -0.026937775969907905,
          -1.272905763155189,
          -0.8549352977883783,
          -1.281847057260825,
          -2.1210640768169333,
          1.6893630865327454,
          -0.017578634697911624,
          -2.1020556307911615,
          0.0361393847450922,
          0.43746097392298783,
          0.032676108775102256,
          -0.09844484635896847,
          -0.27085031154451733,
          -0.733682783176024,
          -0.5705352930326113,
          1.2726524082477522,
          1.139118304742565,
          -0.11064228540091595,
          0.2208218083646103,
          0.6867117699875392,
          0.847024875757954,
          -0.03593499862944182,
          0.962558874587534,
          -0.1188249528546015,
          -0.13773714151826094,
          0.45722579151212817,
          -0.34509916618804953,
          1.1844240688176957,
          -0.19633186981606932,
          -0.7862381639616858,
          1.07559665304353,
          1.4480044078476682,
          1.3654346413378435,
          0.681486730473982,
          0.3383458494068617,
          0.7739998117437695,
          -2.220518442027511,
          -1.6675281060620841,
          -0.1064622488395936,
          -0.7380040394225079,
          -0.5486295217974224,
          -0.8342851154825762,
          0.026766363250262055,
          -0.35301171647407226,
          -0.5579776604277544,
          0.09076406349955296,
          -3.4553709450226386,
          0.42250861039899773,
          -0.6316855409000489,
          0.3271975344870533,
          -2.1169700697305354,
          0.9962451550083548,
          -0.7109591216011675,
          -0.046305530851667644,
          1.637218972882313,
          0.08862159816983804,
          -2.131416983846675,
          -0.40077384108346514,
          -0.8231628591052247,
          -0.1374738716032662,
          -1.4636837083336742,
          0.5472867160388108,
          -0.3775955732256513,
          -0.9218552005147901,
          0.43162654815156065,
          -0.08272021026159287,
          0.7126733858239472,
          1.447354762450443,
          -0.02446321498869171,
          0.399983377804818,
          0.759018420519252,
          -0.22801770574102007,
          0.5927528149081085,
          0.38592588849566395,
          -0.5702766186066185,
          -0.7624535972326412,
          1.285628408186062,
          -0.667138216464985,
          -1.133126898002318,
          1.4621189512665256,
          -0.38156381185423577,
          1.3007360231295444,
          -1.242078435474785,
          0.8316549080676471,
          -1.449271121165556,
          1.1220898286898993,
          -0.2972658671592852,
          -0.08960631746997277,
          0.2617264232895819,
          -1.5757729109547811,
          -0.14208364014828903,
          0.32389404113691356,
          -0.33948227156482397
         ],
         "yaxis": "y10"
        },
        {
         "histfunc": "count",
         "histnorm": "",
         "marker": {
          "color": "rgba(50, 171, 96, 1.0)",
          "line": {
           "color": "#4D5663",
           "width": 1.3
          }
         },
         "name": "C",
         "nbinsx": 10,
         "opacity": 0.8,
         "orientation": "v",
         "type": "histogram",
         "x": [
          0.08036546985632058,
          -1.1803155619663286,
          1.882445236348399,
          1.1349992260603332,
          -1.5575608308528395,
          -0.1527564653318407,
          -0.2961188984253155,
          -0.026937775969907905,
          -1.272905763155189,
          -0.8549352977883783,
          -1.281847057260825,
          -2.1210640768169333,
          1.6893630865327454,
          -0.017578634697911624,
          -2.1020556307911615,
          0.0361393847450922,
          0.43746097392298783,
          0.032676108775102256,
          -0.09844484635896847,
          -0.27085031154451733,
          -0.733682783176024,
          -0.5705352930326113,
          1.2726524082477522,
          1.139118304742565,
          -0.11064228540091595,
          0.2208218083646103,
          0.6867117699875392,
          0.847024875757954,
          -0.03593499862944182,
          0.962558874587534,
          -0.1188249528546015,
          -0.13773714151826094,
          0.45722579151212817,
          -0.34509916618804953,
          1.1844240688176957,
          -0.19633186981606932,
          -0.7862381639616858,
          1.07559665304353,
          1.4480044078476682,
          1.3654346413378435,
          0.681486730473982,
          0.3383458494068617,
          0.7739998117437695,
          -2.220518442027511,
          -1.6675281060620841,
          -0.1064622488395936,
          -0.7380040394225079,
          -0.5486295217974224,
          -0.8342851154825762,
          0.026766363250262055,
          -0.35301171647407226,
          -0.5579776604277544,
          0.09076406349955296,
          -3.4553709450226386,
          0.42250861039899773,
          -0.6316855409000489,
          0.3271975344870533,
          -2.1169700697305354,
          0.9962451550083548,
          -0.7109591216011675,
          -0.046305530851667644,
          1.637218972882313,
          0.08862159816983804,
          -2.131416983846675,
          -0.40077384108346514,
          -0.8231628591052247,
          -0.1374738716032662,
          -1.4636837083336742,
          0.5472867160388108,
          -0.3775955732256513,
          -0.9218552005147901,
          0.43162654815156065,
          -0.08272021026159287,
          0.7126733858239472,
          1.447354762450443,
          -0.02446321498869171,
          0.399983377804818,
          0.759018420519252,
          -0.22801770574102007,
          0.5927528149081085,
          0.38592588849566395,
          -0.5702766186066185,
          -0.7624535972326412,
          1.285628408186062,
          -0.667138216464985,
          -1.133126898002318,
          1.4621189512665256,
          -0.38156381185423577,
          1.3007360231295444,
          -1.242078435474785,
          0.8316549080676471,
          -1.449271121165556,
          1.1220898286898993,
          -0.2972658671592852,
          -0.08960631746997277,
          0.2617264232895819,
          -1.5757729109547811,
          -0.14208364014828903,
          0.32389404113691356,
          -0.33948227156482397
         ],
         "xaxis": "x11",
         "yaxis": "y11"
        },
        {
         "line": {
          "color": "rgba(128, 128, 128, 1.0)",
          "dash": "solid",
          "shape": "linear",
          "width": 1.3
         },
         "marker": {
          "size": 2,
          "symbol": "circle"
         },
         "mode": "markers",
         "name": "C",
         "text": "",
         "type": "scatter",
         "x": [
          0.2099912171818562,
          -1.1990577012263692,
          -0.10108308904370543,
          0.8112918719255539,
          0.8313292393664062,
          -0.1609187788658841,
          -1.2892556331200071,
          0.9732044973804842,
          -1.1028627677307659,
          2.59152389882196,
          1.8278949849904982,
          0.09666258307375825,
          -1.8698416412189955,
          -0.4667341426156331,
          1.4031952918004071,
          -0.6303345038130095,
          0.22875513735396286,
          -0.6052468375175506,
          -1.0033180221842917,
          -0.23701021798356048,
          0.26034119125003896,
          2.273447162989823,
          -0.7364967757641886,
          -0.7212268788942579,
          1.4032812419505187,
          -1.657082576262926,
          1.2980658002357384,
          -0.6299324027125981,
          -0.1545833811130906,
          -0.5825103619109648,
          0.6928695396899978,
          -0.5133582454624704,
          -0.2913421611333826,
          -1.6635086452655068,
          -0.2020484429785352,
          0.6856592512667734,
          0.5239777192162516,
          -0.7065993959550226,
          -0.5098123119401131,
          0.1641257050238636,
          -0.29725165110797663,
          1.5528862134289545,
          0.24750879328359607,
          0.4805183246295481,
          -0.41749943539773393,
          1.7702402084916669,
          0.09658312042565893,
          -0.08997675886994944,
          0.3285274976468807,
          1.247695297338725,
          1.495774506601597,
          1.069691061446215,
          0.7552018458688805,
          0.2281391096504319,
          1.2789791912760797,
          -1.8295558769667868,
          0.11636660987779016,
          -0.2229977057008248,
          0.6033630281600153,
          0.35992973484009283,
          -1.5823384178952768,
          -0.1468527788638083,
          0.14460305750459343,
          -0.8494544248877588,
          0.7275331259041663,
          -1.1586340637121935,
          -0.041287814093800224,
          0.9280295950246412,
          0.3810274945493502,
          0.5498487750737486,
          0.22177455039431346,
          -0.5834077247799289,
          -1.1329855240956723,
          1.2252793444619456,
          -1.409537567130078,
          1.7704383751548867,
          -0.8399884873146362,
          1.4508778811621514,
          -0.07945956920141474,
          0.514019250535904,
          1.14091575698579,
          -0.44447442783136815,
          -0.6902998179887635,
          -1.1323460320590162,
          0.44171435496756867,
          -0.9748005885661352,
          -0.004717678081116911,
          1.210811559025089,
          -0.3057156300025935,
          0.09408566042173429,
          -1.3093042861597297,
          0.8642257090072247,
          -0.4602704927209007,
          1.1425853788847717,
          0.3122916358920499,
          -1.0649219085134165,
          0.5681313958119188,
          -1.5393910822689814,
          -0.3183315654749651,
          -0.3083516229304344
         ],
         "xaxis": "x12",
         "y": [
          0.08036546985632058,
          -1.1803155619663286,
          1.882445236348399,
          1.1349992260603332,
          -1.5575608308528395,
          -0.1527564653318407,
          -0.2961188984253155,
          -0.026937775969907905,
          -1.272905763155189,
          -0.8549352977883783,
          -1.281847057260825,
          -2.1210640768169333,
          1.6893630865327454,
          -0.017578634697911624,
          -2.1020556307911615,
          0.0361393847450922,
          0.43746097392298783,
          0.032676108775102256,
          -0.09844484635896847,
          -0.27085031154451733,
          -0.733682783176024,
          -0.5705352930326113,
          1.2726524082477522,
          1.139118304742565,
          -0.11064228540091595,
          0.2208218083646103,
          0.6867117699875392,
          0.847024875757954,
          -0.03593499862944182,
          0.962558874587534,
          -0.1188249528546015,
          -0.13773714151826094,
          0.45722579151212817,
          -0.34509916618804953,
          1.1844240688176957,
          -0.19633186981606932,
          -0.7862381639616858,
          1.07559665304353,
          1.4480044078476682,
          1.3654346413378435,
          0.681486730473982,
          0.3383458494068617,
          0.7739998117437695,
          -2.220518442027511,
          -1.6675281060620841,
          -0.1064622488395936,
          -0.7380040394225079,
          -0.5486295217974224,
          -0.8342851154825762,
          0.026766363250262055,
          -0.35301171647407226,
          -0.5579776604277544,
          0.09076406349955296,
          -3.4553709450226386,
          0.42250861039899773,
          -0.6316855409000489,
          0.3271975344870533,
          -2.1169700697305354,
          0.9962451550083548,
          -0.7109591216011675,
          -0.046305530851667644,
          1.637218972882313,
          0.08862159816983804,
          -2.131416983846675,
          -0.40077384108346514,
          -0.8231628591052247,
          -0.1374738716032662,
          -1.4636837083336742,
          0.5472867160388108,
          -0.3775955732256513,
          -0.9218552005147901,
          0.43162654815156065,
          -0.08272021026159287,
          0.7126733858239472,
          1.447354762450443,
          -0.02446321498869171,
          0.399983377804818,
          0.759018420519252,
          -0.22801770574102007,
          0.5927528149081085,
          0.38592588849566395,
          -0.5702766186066185,
          -0.7624535972326412,
          1.285628408186062,
          -0.667138216464985,
          -1.133126898002318,
          1.4621189512665256,
          -0.38156381185423577,
          1.3007360231295444,
          -1.242078435474785,
          0.8316549080676471,
          -1.449271121165556,
          1.1220898286898993,
          -0.2972658671592852,
          -0.08960631746997277,
          0.2617264232895819,
          -1.5757729109547811,
          -0.14208364014828903,
          0.32389404113691356,
          -0.33948227156482397
         ],
         "yaxis": "y12"
        },
        {
         "line": {
          "color": "rgba(128, 128, 128, 1.0)",
          "dash": "solid",
          "shape": "linear",
          "width": 1.3
         },
         "marker": {
          "size": 2,
          "symbol": "circle"
         },
         "mode": "markers",
         "name": "D",
         "text": "",
         "type": "scatter",
         "x": [
          -1.9722087496969223,
          -0.011671936731851002,
          -1.581095695462608,
          -0.34655125540727333,
          -2.477227183550656,
          1.0941645349574753,
          1.0229529172073148,
          -0.2598830879365222,
          -0.03408300204513225,
          0.316552878256426,
          -0.9560391300790448,
          0.03686863729565844,
          -1.057002166096782,
          1.1269640029188206,
          -2.9267062941867423,
          -0.746704279766539,
          0.05041994672178217,
          0.48710115962661305,
          0.4411562042292949,
          1.9586541598607206,
          -1.1264446501035439,
          -0.8893264007516325,
          -0.912797025545708,
          -0.6764986758310823,
          0.060741922825052995,
          -1.8449685175213293,
          -0.2581939666458554,
          -1.0845735336268134,
          1.3092149762046064,
          -0.3066644272536902,
          2.6272020454447893,
          1.9776080885194243,
          0.5668461448153023,
          0.14871793417682036,
          0.5589477908589175,
          1.569395013601064,
          0.6903765899355268,
          -0.9624507753100264,
          -1.1982377774156872,
          0.3460526200922986,
          -1.5813823853788058,
          -0.060380627009908705,
          -0.45301810031688394,
          -0.8874355334946187,
          -0.08069904562752264,
          0.9892325935849244,
          -0.4402405812651847,
          0.9062225085353147,
          0.051935187991758267,
          -0.7749692187429894,
          0.20663577894552076,
          -2.6432173202033327,
          0.428142633290837,
          0.28064340537672056,
          0.49998815039368866,
          -2.282375457843157,
          -0.2636867903407214,
          -0.8818468535001559,
          -0.3507863058950262,
          -0.3459010474609139,
          -0.2537435919563658,
          0.7534214071578663,
          -0.9475830799767535,
          -1.275468885966171,
          -1.0661714834592064,
          -0.9048886981411098,
          0.25326937641655517,
          2.1839204484406034,
          -0.8272174280292035,
          -0.4645040193133396,
          0.8445505137052899,
          0.36733557594376404,
          -0.21495587739570762,
          -0.2147215789481739,
          -1.014567110997098,
          -0.5200774799937841,
          -0.6299002021429765,
          -0.018567917997282603,
          -1.0129723040910823,
          -1.244448617322104,
          0.9101942921335867,
          0.14653083392106686,
          -0.4696844835441938,
          0.25679717959833154,
          -0.26913999204070016,
          0.49298478979236415,
          -1.7553400104436443,
          -0.32567192940690426,
          0.4963013251259451,
          0.33715228833004396,
          -0.48702644670754175,
          0.583173722625296,
          -0.13151299514984052,
          -0.17277039856468238,
          -0.3932252217320785,
          1.747981066541866,
          1.2996522287381982,
          0.17177685124461037,
          0.942376140480576,
          -1.4875548956939744
         ],
         "xaxis": "x13",
         "y": [
          0.2099912171818562,
          -1.1990577012263692,
          -0.10108308904370543,
          0.8112918719255539,
          0.8313292393664062,
          -0.1609187788658841,
          -1.2892556331200071,
          0.9732044973804842,
          -1.1028627677307659,
          2.59152389882196,
          1.8278949849904982,
          0.09666258307375825,
          -1.8698416412189955,
          -0.4667341426156331,
          1.4031952918004071,
          -0.6303345038130095,
          0.22875513735396286,
          -0.6052468375175506,
          -1.0033180221842917,
          -0.23701021798356048,
          0.26034119125003896,
          2.273447162989823,
          -0.7364967757641886,
          -0.7212268788942579,
          1.4032812419505187,
          -1.657082576262926,
          1.2980658002357384,
          -0.6299324027125981,
          -0.1545833811130906,
          -0.5825103619109648,
          0.6928695396899978,
          -0.5133582454624704,
          -0.2913421611333826,
          -1.6635086452655068,
          -0.2020484429785352,
          0.6856592512667734,
          0.5239777192162516,
          -0.7065993959550226,
          -0.5098123119401131,
          0.1641257050238636,
          -0.29725165110797663,
          1.5528862134289545,
          0.24750879328359607,
          0.4805183246295481,
          -0.41749943539773393,
          1.7702402084916669,
          0.09658312042565893,
          -0.08997675886994944,
          0.3285274976468807,
          1.247695297338725,
          1.495774506601597,
          1.069691061446215,
          0.7552018458688805,
          0.2281391096504319,
          1.2789791912760797,
          -1.8295558769667868,
          0.11636660987779016,
          -0.2229977057008248,
          0.6033630281600153,
          0.35992973484009283,
          -1.5823384178952768,
          -0.1468527788638083,
          0.14460305750459343,
          -0.8494544248877588,
          0.7275331259041663,
          -1.1586340637121935,
          -0.041287814093800224,
          0.9280295950246412,
          0.3810274945493502,
          0.5498487750737486,
          0.22177455039431346,
          -0.5834077247799289,
          -1.1329855240956723,
          1.2252793444619456,
          -1.409537567130078,
          1.7704383751548867,
          -0.8399884873146362,
          1.4508778811621514,
          -0.07945956920141474,
          0.514019250535904,
          1.14091575698579,
          -0.44447442783136815,
          -0.6902998179887635,
          -1.1323460320590162,
          0.44171435496756867,
          -0.9748005885661352,
          -0.004717678081116911,
          1.210811559025089,
          -0.3057156300025935,
          0.09408566042173429,
          -1.3093042861597297,
          0.8642257090072247,
          -0.4602704927209007,
          1.1425853788847717,
          0.3122916358920499,
          -1.0649219085134165,
          0.5681313958119188,
          -1.5393910822689814,
          -0.3183315654749651,
          -0.3083516229304344
         ],
         "yaxis": "y13"
        },
        {
         "line": {
          "color": "rgba(128, 128, 128, 1.0)",
          "dash": "solid",
          "shape": "linear",
          "width": 1.3
         },
         "marker": {
          "size": 2,
          "symbol": "circle"
         },
         "mode": "markers",
         "name": "D",
         "text": "",
         "type": "scatter",
         "x": [
          -0.15467443438003167,
          -1.103714486619362,
          -0.0541684553591224,
          0.41422239107560715,
          -0.47311978978456737,
          0.08890758298241469,
          0.6542883889705488,
          0.1526791972817478,
          -1.0761625495932814,
          0.4108953551780461,
          0.8849114941005151,
          -1.7404564207865973,
          -0.2834726233350443,
          -0.7225958554493189,
          -0.3360213951887905,
          -0.43360752963912125,
          -0.28610770283411324,
          0.5140475923376779,
          0.6498272394533989,
          -0.1880381648673378,
          3.029906110373341,
          -0.655023507621413,
          -0.29993908275112585,
          0.17257175369280023,
          -0.8252449189026975,
          -0.5068002853772337,
          0.7260798014189815,
          -0.3890204893183104,
          -0.42350519981926266,
          -0.9830897847082721,
          -0.745081495310831,
          0.5885934793538804,
          1.3819602740760888,
          -0.6052431371727914,
          -0.795447989408926,
          -0.36279193604862736,
          0.6507982198529062,
          0.26554271337673624,
          0.4278905943406648,
          0.7667337976267404,
          -1.009477598035802,
          1.7868695252714277,
          0.07238439431084817,
          -0.2921642502366185,
          0.8037729291547354,
          -0.2997123802579395,
          0.5540178206043035,
          0.4378922178605772,
          0.516907689763789,
          -0.7489107442737745,
          0.3042169050027822,
          -1.2286144224027291,
          -1.4768661895797555,
          -0.5706672119608341,
          1.4961773942937893,
          -0.15560187954158308,
          0.03247288091238335,
          0.3121279723427983,
          1.2036174628101248,
          -1.8149602214495568,
          -0.25267277264871385,
          -0.31891897183935325,
          -0.47381322603680753,
          0.9177839120362744,
          -0.6619439676220062,
          -0.22228104761216375,
          0.5167188779834639,
          -0.5886601441588484,
          -0.49111226630245897,
          0.2442643888637009,
          -0.04507916296916212,
          0.9049845080788567,
          0.49394996349843406,
          0.202128923957163,
          0.9149650220094239,
          0.20786740242860877,
          1.2558499203678959,
          -0.8882369239533632,
          -0.5665994304015882,
          -2.52713736735959,
          -0.40202525070563416,
          0.42337816477791873,
          2.930189646869836,
          -0.29870561060645767,
          1.0259894736560005,
          -0.5434596778354565,
          -0.48187202723754213,
          -0.7849654446928984,
          0.5354112571672852,
          -0.12100382967481559,
          -1.288362701278329,
          -1.3144891120780753,
          -0.3190835777670386,
          -0.9499938842804496,
          -1.3683098023592501,
          -0.4998233472993743,
          0.47028413887107634,
          0.7786479452061807,
          -0.7357339189416259,
          -1.3464941644058384
         ],
         "xaxis": "x14",
         "y": [
          0.2099912171818562,
          -1.1990577012263692,
          -0.10108308904370543,
          0.8112918719255539,
          0.8313292393664062,
          -0.1609187788658841,
          -1.2892556331200071,
          0.9732044973804842,
          -1.1028627677307659,
          2.59152389882196,
          1.8278949849904982,
          0.09666258307375825,
          -1.8698416412189955,
          -0.4667341426156331,
          1.4031952918004071,
          -0.6303345038130095,
          0.22875513735396286,
          -0.6052468375175506,
          -1.0033180221842917,
          -0.23701021798356048,
          0.26034119125003896,
          2.273447162989823,
          -0.7364967757641886,
          -0.7212268788942579,
          1.4032812419505187,
          -1.657082576262926,
          1.2980658002357384,
          -0.6299324027125981,
          -0.1545833811130906,
          -0.5825103619109648,
          0.6928695396899978,
          -0.5133582454624704,
          -0.2913421611333826,
          -1.6635086452655068,
          -0.2020484429785352,
          0.6856592512667734,
          0.5239777192162516,
          -0.7065993959550226,
          -0.5098123119401131,
          0.1641257050238636,
          -0.29725165110797663,
          1.5528862134289545,
          0.24750879328359607,
          0.4805183246295481,
          -0.41749943539773393,
          1.7702402084916669,
          0.09658312042565893,
          -0.08997675886994944,
          0.3285274976468807,
          1.247695297338725,
          1.495774506601597,
          1.069691061446215,
          0.7552018458688805,
          0.2281391096504319,
          1.2789791912760797,
          -1.8295558769667868,
          0.11636660987779016,
          -0.2229977057008248,
          0.6033630281600153,
          0.35992973484009283,
          -1.5823384178952768,
          -0.1468527788638083,
          0.14460305750459343,
          -0.8494544248877588,
          0.7275331259041663,
          -1.1586340637121935,
          -0.041287814093800224,
          0.9280295950246412,
          0.3810274945493502,
          0.5498487750737486,
          0.22177455039431346,
          -0.5834077247799289,
          -1.1329855240956723,
          1.2252793444619456,
          -1.409537567130078,
          1.7704383751548867,
          -0.8399884873146362,
          1.4508778811621514,
          -0.07945956920141474,
          0.514019250535904,
          1.14091575698579,
          -0.44447442783136815,
          -0.6902998179887635,
          -1.1323460320590162,
          0.44171435496756867,
          -0.9748005885661352,
          -0.004717678081116911,
          1.210811559025089,
          -0.3057156300025935,
          0.09408566042173429,
          -1.3093042861597297,
          0.8642257090072247,
          -0.4602704927209007,
          1.1425853788847717,
          0.3122916358920499,
          -1.0649219085134165,
          0.5681313958119188,
          -1.5393910822689814,
          -0.3183315654749651,
          -0.3083516229304344
         ],
         "yaxis": "y14"
        },
        {
         "line": {
          "color": "rgba(128, 128, 128, 1.0)",
          "dash": "solid",
          "shape": "linear",
          "width": 1.3
         },
         "marker": {
          "size": 2,
          "symbol": "circle"
         },
         "mode": "markers",
         "name": "D",
         "text": "",
         "type": "scatter",
         "x": [
          0.08036546985632058,
          -1.1803155619663286,
          1.882445236348399,
          1.1349992260603332,
          -1.5575608308528395,
          -0.1527564653318407,
          -0.2961188984253155,
          -0.026937775969907905,
          -1.272905763155189,
          -0.8549352977883783,
          -1.281847057260825,
          -2.1210640768169333,
          1.6893630865327454,
          -0.017578634697911624,
          -2.1020556307911615,
          0.0361393847450922,
          0.43746097392298783,
          0.032676108775102256,
          -0.09844484635896847,
          -0.27085031154451733,
          -0.733682783176024,
          -0.5705352930326113,
          1.2726524082477522,
          1.139118304742565,
          -0.11064228540091595,
          0.2208218083646103,
          0.6867117699875392,
          0.847024875757954,
          -0.03593499862944182,
          0.962558874587534,
          -0.1188249528546015,
          -0.13773714151826094,
          0.45722579151212817,
          -0.34509916618804953,
          1.1844240688176957,
          -0.19633186981606932,
          -0.7862381639616858,
          1.07559665304353,
          1.4480044078476682,
          1.3654346413378435,
          0.681486730473982,
          0.3383458494068617,
          0.7739998117437695,
          -2.220518442027511,
          -1.6675281060620841,
          -0.1064622488395936,
          -0.7380040394225079,
          -0.5486295217974224,
          -0.8342851154825762,
          0.026766363250262055,
          -0.35301171647407226,
          -0.5579776604277544,
          0.09076406349955296,
          -3.4553709450226386,
          0.42250861039899773,
          -0.6316855409000489,
          0.3271975344870533,
          -2.1169700697305354,
          0.9962451550083548,
          -0.7109591216011675,
          -0.046305530851667644,
          1.637218972882313,
          0.08862159816983804,
          -2.131416983846675,
          -0.40077384108346514,
          -0.8231628591052247,
          -0.1374738716032662,
          -1.4636837083336742,
          0.5472867160388108,
          -0.3775955732256513,
          -0.9218552005147901,
          0.43162654815156065,
          -0.08272021026159287,
          0.7126733858239472,
          1.447354762450443,
          -0.02446321498869171,
          0.399983377804818,
          0.759018420519252,
          -0.22801770574102007,
          0.5927528149081085,
          0.38592588849566395,
          -0.5702766186066185,
          -0.7624535972326412,
          1.285628408186062,
          -0.667138216464985,
          -1.133126898002318,
          1.4621189512665256,
          -0.38156381185423577,
          1.3007360231295444,
          -1.242078435474785,
          0.8316549080676471,
          -1.449271121165556,
          1.1220898286898993,
          -0.2972658671592852,
          -0.08960631746997277,
          0.2617264232895819,
          -1.5757729109547811,
          -0.14208364014828903,
          0.32389404113691356,
          -0.33948227156482397
         ],
         "xaxis": "x15",
         "y": [
          0.2099912171818562,
          -1.1990577012263692,
          -0.10108308904370543,
          0.8112918719255539,
          0.8313292393664062,
          -0.1609187788658841,
          -1.2892556331200071,
          0.9732044973804842,
          -1.1028627677307659,
          2.59152389882196,
          1.8278949849904982,
          0.09666258307375825,
          -1.8698416412189955,
          -0.4667341426156331,
          1.4031952918004071,
          -0.6303345038130095,
          0.22875513735396286,
          -0.6052468375175506,
          -1.0033180221842917,
          -0.23701021798356048,
          0.26034119125003896,
          2.273447162989823,
          -0.7364967757641886,
          -0.7212268788942579,
          1.4032812419505187,
          -1.657082576262926,
          1.2980658002357384,
          -0.6299324027125981,
          -0.1545833811130906,
          -0.5825103619109648,
          0.6928695396899978,
          -0.5133582454624704,
          -0.2913421611333826,
          -1.6635086452655068,
          -0.2020484429785352,
          0.6856592512667734,
          0.5239777192162516,
          -0.7065993959550226,
          -0.5098123119401131,
          0.1641257050238636,
          -0.29725165110797663,
          1.5528862134289545,
          0.24750879328359607,
          0.4805183246295481,
          -0.41749943539773393,
          1.7702402084916669,
          0.09658312042565893,
          -0.08997675886994944,
          0.3285274976468807,
          1.247695297338725,
          1.495774506601597,
          1.069691061446215,
          0.7552018458688805,
          0.2281391096504319,
          1.2789791912760797,
          -1.8295558769667868,
          0.11636660987779016,
          -0.2229977057008248,
          0.6033630281600153,
          0.35992973484009283,
          -1.5823384178952768,
          -0.1468527788638083,
          0.14460305750459343,
          -0.8494544248877588,
          0.7275331259041663,
          -1.1586340637121935,
          -0.041287814093800224,
          0.9280295950246412,
          0.3810274945493502,
          0.5498487750737486,
          0.22177455039431346,
          -0.5834077247799289,
          -1.1329855240956723,
          1.2252793444619456,
          -1.409537567130078,
          1.7704383751548867,
          -0.8399884873146362,
          1.4508778811621514,
          -0.07945956920141474,
          0.514019250535904,
          1.14091575698579,
          -0.44447442783136815,
          -0.6902998179887635,
          -1.1323460320590162,
          0.44171435496756867,
          -0.9748005885661352,
          -0.004717678081116911,
          1.210811559025089,
          -0.3057156300025935,
          0.09408566042173429,
          -1.3093042861597297,
          0.8642257090072247,
          -0.4602704927209007,
          1.1425853788847717,
          0.3122916358920499,
          -1.0649219085134165,
          0.5681313958119188,
          -1.5393910822689814,
          -0.3183315654749651,
          -0.3083516229304344
         ],
         "yaxis": "y15"
        },
        {
         "histfunc": "count",
         "histnorm": "",
         "marker": {
          "color": "rgba(128, 0, 128, 1.0)",
          "line": {
           "color": "#4D5663",
           "width": 1.3
          }
         },
         "name": "D",
         "nbinsx": 10,
         "opacity": 0.8,
         "orientation": "v",
         "type": "histogram",
         "x": [
          0.2099912171818562,
          -1.1990577012263692,
          -0.10108308904370543,
          0.8112918719255539,
          0.8313292393664062,
          -0.1609187788658841,
          -1.2892556331200071,
          0.9732044973804842,
          -1.1028627677307659,
          2.59152389882196,
          1.8278949849904982,
          0.09666258307375825,
          -1.8698416412189955,
          -0.4667341426156331,
          1.4031952918004071,
          -0.6303345038130095,
          0.22875513735396286,
          -0.6052468375175506,
          -1.0033180221842917,
          -0.23701021798356048,
          0.26034119125003896,
          2.273447162989823,
          -0.7364967757641886,
          -0.7212268788942579,
          1.4032812419505187,
          -1.657082576262926,
          1.2980658002357384,
          -0.6299324027125981,
          -0.1545833811130906,
          -0.5825103619109648,
          0.6928695396899978,
          -0.5133582454624704,
          -0.2913421611333826,
          -1.6635086452655068,
          -0.2020484429785352,
          0.6856592512667734,
          0.5239777192162516,
          -0.7065993959550226,
          -0.5098123119401131,
          0.1641257050238636,
          -0.29725165110797663,
          1.5528862134289545,
          0.24750879328359607,
          0.4805183246295481,
          -0.41749943539773393,
          1.7702402084916669,
          0.09658312042565893,
          -0.08997675886994944,
          0.3285274976468807,
          1.247695297338725,
          1.495774506601597,
          1.069691061446215,
          0.7552018458688805,
          0.2281391096504319,
          1.2789791912760797,
          -1.8295558769667868,
          0.11636660987779016,
          -0.2229977057008248,
          0.6033630281600153,
          0.35992973484009283,
          -1.5823384178952768,
          -0.1468527788638083,
          0.14460305750459343,
          -0.8494544248877588,
          0.7275331259041663,
          -1.1586340637121935,
          -0.041287814093800224,
          0.9280295950246412,
          0.3810274945493502,
          0.5498487750737486,
          0.22177455039431346,
          -0.5834077247799289,
          -1.1329855240956723,
          1.2252793444619456,
          -1.409537567130078,
          1.7704383751548867,
          -0.8399884873146362,
          1.4508778811621514,
          -0.07945956920141474,
          0.514019250535904,
          1.14091575698579,
          -0.44447442783136815,
          -0.6902998179887635,
          -1.1323460320590162,
          0.44171435496756867,
          -0.9748005885661352,
          -0.004717678081116911,
          1.210811559025089,
          -0.3057156300025935,
          0.09408566042173429,
          -1.3093042861597297,
          0.8642257090072247,
          -0.4602704927209007,
          1.1425853788847717,
          0.3122916358920499,
          -1.0649219085134165,
          0.5681313958119188,
          -1.5393910822689814,
          -0.3183315654749651,
          -0.3083516229304344
         ],
         "xaxis": "x16",
         "yaxis": "y16"
        }
       ],
       "layout": {
        "bargap": 0.02,
        "legend": {
         "bgcolor": "#F5F6F9",
         "font": {
          "color": "#4D5663"
         }
        },
        "paper_bgcolor": "#F5F6F9",
        "plot_bgcolor": "#F5F6F9",
        "showlegend": false,
        "template": {
         "data": {
          "bar": [
           {
            "error_x": {
             "color": "#2a3f5f"
            },
            "error_y": {
             "color": "#2a3f5f"
            },
            "marker": {
             "line": {
              "color": "#E5ECF6",
              "width": 0.5
             }
            },
            "type": "bar"
           }
          ],
          "barpolar": [
           {
            "marker": {
             "line": {
              "color": "#E5ECF6",
              "width": 0.5
             }
            },
            "type": "barpolar"
           }
          ],
          "carpet": [
           {
            "aaxis": {
             "endlinecolor": "#2a3f5f",
             "gridcolor": "white",
             "linecolor": "white",
             "minorgridcolor": "white",
             "startlinecolor": "#2a3f5f"
            },
            "baxis": {
             "endlinecolor": "#2a3f5f",
             "gridcolor": "white",
             "linecolor": "white",
             "minorgridcolor": "white",
             "startlinecolor": "#2a3f5f"
            },
            "type": "carpet"
           }
          ],
          "choropleth": [
           {
            "colorbar": {
             "outlinewidth": 0,
             "ticks": ""
            },
            "type": "choropleth"
           }
          ],
          "contour": [
           {
            "colorbar": {
             "outlinewidth": 0,
             "ticks": ""
            },
            "colorscale": [
             [
              0,
              "#0d0887"
             ],
             [
              0.1111111111111111,
              "#46039f"
             ],
             [
              0.2222222222222222,
              "#7201a8"
             ],
             [
              0.3333333333333333,
              "#9c179e"
             ],
             [
              0.4444444444444444,
              "#bd3786"
             ],
             [
              0.5555555555555556,
              "#d8576b"
             ],
             [
              0.6666666666666666,
              "#ed7953"
             ],
             [
              0.7777777777777778,
              "#fb9f3a"
             ],
             [
              0.8888888888888888,
              "#fdca26"
             ],
             [
              1,
              "#f0f921"
             ]
            ],
            "type": "contour"
           }
          ],
          "contourcarpet": [
           {
            "colorbar": {
             "outlinewidth": 0,
             "ticks": ""
            },
            "type": "contourcarpet"
           }
          ],
          "heatmap": [
           {
            "colorbar": {
             "outlinewidth": 0,
             "ticks": ""
            },
            "colorscale": [
             [
              0,
              "#0d0887"
             ],
             [
              0.1111111111111111,
              "#46039f"
             ],
             [
              0.2222222222222222,
              "#7201a8"
             ],
             [
              0.3333333333333333,
              "#9c179e"
             ],
             [
              0.4444444444444444,
              "#bd3786"
             ],
             [
              0.5555555555555556,
              "#d8576b"
             ],
             [
              0.6666666666666666,
              "#ed7953"
             ],
             [
              0.7777777777777778,
              "#fb9f3a"
             ],
             [
              0.8888888888888888,
              "#fdca26"
             ],
             [
              1,
              "#f0f921"
             ]
            ],
            "type": "heatmap"
           }
          ],
          "heatmapgl": [
           {
            "colorbar": {
             "outlinewidth": 0,
             "ticks": ""
            },
            "colorscale": [
             [
              0,
              "#0d0887"
             ],
             [
              0.1111111111111111,
              "#46039f"
             ],
             [
              0.2222222222222222,
              "#7201a8"
             ],
             [
              0.3333333333333333,
              "#9c179e"
             ],
             [
              0.4444444444444444,
              "#bd3786"
             ],
             [
              0.5555555555555556,
              "#d8576b"
             ],
             [
              0.6666666666666666,
              "#ed7953"
             ],
             [
              0.7777777777777778,
              "#fb9f3a"
             ],
             [
              0.8888888888888888,
              "#fdca26"
             ],
             [
              1,
              "#f0f921"
             ]
            ],
            "type": "heatmapgl"
           }
          ],
          "histogram": [
           {
            "marker": {
             "colorbar": {
              "outlinewidth": 0,
              "ticks": ""
             }
            },
            "type": "histogram"
           }
          ],
          "histogram2d": [
           {
            "colorbar": {
             "outlinewidth": 0,
             "ticks": ""
            },
            "colorscale": [
             [
              0,
              "#0d0887"
             ],
             [
              0.1111111111111111,
              "#46039f"
             ],
             [
              0.2222222222222222,
              "#7201a8"
             ],
             [
              0.3333333333333333,
              "#9c179e"
             ],
             [
              0.4444444444444444,
              "#bd3786"
             ],
             [
              0.5555555555555556,
              "#d8576b"
             ],
             [
              0.6666666666666666,
              "#ed7953"
             ],
             [
              0.7777777777777778,
              "#fb9f3a"
             ],
             [
              0.8888888888888888,
              "#fdca26"
             ],
             [
              1,
              "#f0f921"
             ]
            ],
            "type": "histogram2d"
           }
          ],
          "histogram2dcontour": [
           {
            "colorbar": {
             "outlinewidth": 0,
             "ticks": ""
            },
            "colorscale": [
             [
              0,
              "#0d0887"
             ],
             [
              0.1111111111111111,
              "#46039f"
             ],
             [
              0.2222222222222222,
              "#7201a8"
             ],
             [
              0.3333333333333333,
              "#9c179e"
             ],
             [
              0.4444444444444444,
              "#bd3786"
             ],
             [
              0.5555555555555556,
              "#d8576b"
             ],
             [
              0.6666666666666666,
              "#ed7953"
             ],
             [
              0.7777777777777778,
              "#fb9f3a"
             ],
             [
              0.8888888888888888,
              "#fdca26"
             ],
             [
              1,
              "#f0f921"
             ]
            ],
            "type": "histogram2dcontour"
           }
          ],
          "mesh3d": [
           {
            "colorbar": {
             "outlinewidth": 0,
             "ticks": ""
            },
            "type": "mesh3d"
           }
          ],
          "parcoords": [
           {
            "line": {
             "colorbar": {
              "outlinewidth": 0,
              "ticks": ""
             }
            },
            "type": "parcoords"
           }
          ],
          "pie": [
           {
            "automargin": true,
            "type": "pie"
           }
          ],
          "scatter": [
           {
            "marker": {
             "colorbar": {
              "outlinewidth": 0,
              "ticks": ""
             }
            },
            "type": "scatter"
           }
          ],
          "scatter3d": [
           {
            "line": {
             "colorbar": {
              "outlinewidth": 0,
              "ticks": ""
             }
            },
            "marker": {
             "colorbar": {
              "outlinewidth": 0,
              "ticks": ""
             }
            },
            "type": "scatter3d"
           }
          ],
          "scattercarpet": [
           {
            "marker": {
             "colorbar": {
              "outlinewidth": 0,
              "ticks": ""
             }
            },
            "type": "scattercarpet"
           }
          ],
          "scattergeo": [
           {
            "marker": {
             "colorbar": {
              "outlinewidth": 0,
              "ticks": ""
             }
            },
            "type": "scattergeo"
           }
          ],
          "scattergl": [
           {
            "marker": {
             "colorbar": {
              "outlinewidth": 0,
              "ticks": ""
             }
            },
            "type": "scattergl"
           }
          ],
          "scattermapbox": [
           {
            "marker": {
             "colorbar": {
              "outlinewidth": 0,
              "ticks": ""
             }
            },
            "type": "scattermapbox"
           }
          ],
          "scatterpolar": [
           {
            "marker": {
             "colorbar": {
              "outlinewidth": 0,
              "ticks": ""
             }
            },
            "type": "scatterpolar"
           }
          ],
          "scatterpolargl": [
           {
            "marker": {
             "colorbar": {
              "outlinewidth": 0,
              "ticks": ""
             }
            },
            "type": "scatterpolargl"
           }
          ],
          "scatterternary": [
           {
            "marker": {
             "colorbar": {
              "outlinewidth": 0,
              "ticks": ""
             }
            },
            "type": "scatterternary"
           }
          ],
          "surface": [
           {
            "colorbar": {
             "outlinewidth": 0,
             "ticks": ""
            },
            "colorscale": [
             [
              0,
              "#0d0887"
             ],
             [
              0.1111111111111111,
              "#46039f"
             ],
             [
              0.2222222222222222,
              "#7201a8"
             ],
             [
              0.3333333333333333,
              "#9c179e"
             ],
             [
              0.4444444444444444,
              "#bd3786"
             ],
             [
              0.5555555555555556,
              "#d8576b"
             ],
             [
              0.6666666666666666,
              "#ed7953"
             ],
             [
              0.7777777777777778,
              "#fb9f3a"
             ],
             [
              0.8888888888888888,
              "#fdca26"
             ],
             [
              1,
              "#f0f921"
             ]
            ],
            "type": "surface"
           }
          ],
          "table": [
           {
            "cells": {
             "fill": {
              "color": "#EBF0F8"
             },
             "line": {
              "color": "white"
             }
            },
            "header": {
             "fill": {
              "color": "#C8D4E3"
             },
             "line": {
              "color": "white"
             }
            },
            "type": "table"
           }
          ]
         },
         "layout": {
          "annotationdefaults": {
           "arrowcolor": "#2a3f5f",
           "arrowhead": 0,
           "arrowwidth": 1
          },
          "autotypenumbers": "strict",
          "coloraxis": {
           "colorbar": {
            "outlinewidth": 0,
            "ticks": ""
           }
          },
          "colorscale": {
           "diverging": [
            [
             0,
             "#8e0152"
            ],
            [
             0.1,
             "#c51b7d"
            ],
            [
             0.2,
             "#de77ae"
            ],
            [
             0.3,
             "#f1b6da"
            ],
            [
             0.4,
             "#fde0ef"
            ],
            [
             0.5,
             "#f7f7f7"
            ],
            [
             0.6,
             "#e6f5d0"
            ],
            [
             0.7,
             "#b8e186"
            ],
            [
             0.8,
             "#7fbc41"
            ],
            [
             0.9,
             "#4d9221"
            ],
            [
             1,
             "#276419"
            ]
           ],
           "sequential": [
            [
             0,
             "#0d0887"
            ],
            [
             0.1111111111111111,
             "#46039f"
            ],
            [
             0.2222222222222222,
             "#7201a8"
            ],
            [
             0.3333333333333333,
             "#9c179e"
            ],
            [
             0.4444444444444444,
             "#bd3786"
            ],
            [
             0.5555555555555556,
             "#d8576b"
            ],
            [
             0.6666666666666666,
             "#ed7953"
            ],
            [
             0.7777777777777778,
             "#fb9f3a"
            ],
            [
             0.8888888888888888,
             "#fdca26"
            ],
            [
             1,
             "#f0f921"
            ]
           ],
           "sequentialminus": [
            [
             0,
             "#0d0887"
            ],
            [
             0.1111111111111111,
             "#46039f"
            ],
            [
             0.2222222222222222,
             "#7201a8"
            ],
            [
             0.3333333333333333,
             "#9c179e"
            ],
            [
             0.4444444444444444,
             "#bd3786"
            ],
            [
             0.5555555555555556,
             "#d8576b"
            ],
            [
             0.6666666666666666,
             "#ed7953"
            ],
            [
             0.7777777777777778,
             "#fb9f3a"
            ],
            [
             0.8888888888888888,
             "#fdca26"
            ],
            [
             1,
             "#f0f921"
            ]
           ]
          },
          "colorway": [
           "#636efa",
           "#EF553B",
           "#00cc96",
           "#ab63fa",
           "#FFA15A",
           "#19d3f3",
           "#FF6692",
           "#B6E880",
           "#FF97FF",
           "#FECB52"
          ],
          "font": {
           "color": "#2a3f5f"
          },
          "geo": {
           "bgcolor": "white",
           "lakecolor": "white",
           "landcolor": "#E5ECF6",
           "showlakes": true,
           "showland": true,
           "subunitcolor": "white"
          },
          "hoverlabel": {
           "align": "left"
          },
          "hovermode": "closest",
          "mapbox": {
           "style": "light"
          },
          "paper_bgcolor": "white",
          "plot_bgcolor": "#E5ECF6",
          "polar": {
           "angularaxis": {
            "gridcolor": "white",
            "linecolor": "white",
            "ticks": ""
           },
           "bgcolor": "#E5ECF6",
           "radialaxis": {
            "gridcolor": "white",
            "linecolor": "white",
            "ticks": ""
           }
          },
          "scene": {
           "xaxis": {
            "backgroundcolor": "#E5ECF6",
            "gridcolor": "white",
            "gridwidth": 2,
            "linecolor": "white",
            "showbackground": true,
            "ticks": "",
            "zerolinecolor": "white"
           },
           "yaxis": {
            "backgroundcolor": "#E5ECF6",
            "gridcolor": "white",
            "gridwidth": 2,
            "linecolor": "white",
            "showbackground": true,
            "ticks": "",
            "zerolinecolor": "white"
           },
           "zaxis": {
            "backgroundcolor": "#E5ECF6",
            "gridcolor": "white",
            "gridwidth": 2,
            "linecolor": "white",
            "showbackground": true,
            "ticks": "",
            "zerolinecolor": "white"
           }
          },
          "shapedefaults": {
           "line": {
            "color": "#2a3f5f"
           }
          },
          "ternary": {
           "aaxis": {
            "gridcolor": "white",
            "linecolor": "white",
            "ticks": ""
           },
           "baxis": {
            "gridcolor": "white",
            "linecolor": "white",
            "ticks": ""
           },
           "bgcolor": "#E5ECF6",
           "caxis": {
            "gridcolor": "white",
            "linecolor": "white",
            "ticks": ""
           }
          },
          "title": {
           "x": 0.05
          },
          "xaxis": {
           "automargin": true,
           "gridcolor": "white",
           "linecolor": "white",
           "ticks": "",
           "title": {
            "standoff": 15
           },
           "zerolinecolor": "white",
           "zerolinewidth": 2
          },
          "yaxis": {
           "automargin": true,
           "gridcolor": "white",
           "linecolor": "white",
           "ticks": "",
           "title": {
            "standoff": 15
           },
           "zerolinecolor": "white",
           "zerolinewidth": 2
          }
         }
        },
        "title": {
         "font": {
          "color": "#4D5663"
         }
        },
        "xaxis": {
         "anchor": "y",
         "domain": [
          0,
          0.2125
         ],
         "gridcolor": "#E1E5ED",
         "showgrid": false,
         "tickfont": {
          "color": "#4D5663"
         },
         "title": {
          "font": {
           "color": "#4D5663"
          },
          "text": ""
         },
         "zerolinecolor": "#E1E5ED"
        },
        "xaxis10": {
         "anchor": "y10",
         "domain": [
          0.2625,
          0.475
         ],
         "gridcolor": "#E1E5ED",
         "showgrid": false,
         "tickfont": {
          "color": "#4D5663"
         },
         "title": {
          "font": {
           "color": "#4D5663"
          },
          "text": ""
         },
         "zerolinecolor": "#E1E5ED"
        },
        "xaxis11": {
         "anchor": "y11",
         "domain": [
          0.525,
          0.7375
         ],
         "gridcolor": "#E1E5ED",
         "showgrid": false,
         "tickfont": {
          "color": "#4D5663"
         },
         "title": {
          "font": {
           "color": "#4D5663"
          },
          "text": ""
         },
         "zerolinecolor": "#E1E5ED"
        },
        "xaxis12": {
         "anchor": "y12",
         "domain": [
          0.7875,
          1
         ],
         "gridcolor": "#E1E5ED",
         "showgrid": false,
         "tickfont": {
          "color": "#4D5663"
         },
         "title": {
          "font": {
           "color": "#4D5663"
          },
          "text": ""
         },
         "zerolinecolor": "#E1E5ED"
        },
        "xaxis13": {
         "anchor": "y13",
         "domain": [
          0,
          0.2125
         ],
         "gridcolor": "#E1E5ED",
         "showgrid": false,
         "tickfont": {
          "color": "#4D5663"
         },
         "title": {
          "font": {
           "color": "#4D5663"
          },
          "text": ""
         },
         "zerolinecolor": "#E1E5ED"
        },
        "xaxis14": {
         "anchor": "y14",
         "domain": [
          0.2625,
          0.475
         ],
         "gridcolor": "#E1E5ED",
         "showgrid": false,
         "tickfont": {
          "color": "#4D5663"
         },
         "title": {
          "font": {
           "color": "#4D5663"
          },
          "text": ""
         },
         "zerolinecolor": "#E1E5ED"
        },
        "xaxis15": {
         "anchor": "y15",
         "domain": [
          0.525,
          0.7375
         ],
         "gridcolor": "#E1E5ED",
         "showgrid": false,
         "tickfont": {
          "color": "#4D5663"
         },
         "title": {
          "font": {
           "color": "#4D5663"
          },
          "text": ""
         },
         "zerolinecolor": "#E1E5ED"
        },
        "xaxis16": {
         "anchor": "y16",
         "domain": [
          0.7875,
          1
         ],
         "gridcolor": "#E1E5ED",
         "showgrid": false,
         "tickfont": {
          "color": "#4D5663"
         },
         "title": {
          "font": {
           "color": "#4D5663"
          },
          "text": ""
         },
         "zerolinecolor": "#E1E5ED"
        },
        "xaxis2": {
         "anchor": "y2",
         "domain": [
          0.2625,
          0.475
         ],
         "gridcolor": "#E1E5ED",
         "showgrid": false,
         "tickfont": {
          "color": "#4D5663"
         },
         "title": {
          "font": {
           "color": "#4D5663"
          },
          "text": ""
         },
         "zerolinecolor": "#E1E5ED"
        },
        "xaxis3": {
         "anchor": "y3",
         "domain": [
          0.525,
          0.7375
         ],
         "gridcolor": "#E1E5ED",
         "showgrid": false,
         "tickfont": {
          "color": "#4D5663"
         },
         "title": {
          "font": {
           "color": "#4D5663"
          },
          "text": ""
         },
         "zerolinecolor": "#E1E5ED"
        },
        "xaxis4": {
         "anchor": "y4",
         "domain": [
          0.7875,
          1
         ],
         "gridcolor": "#E1E5ED",
         "showgrid": false,
         "tickfont": {
          "color": "#4D5663"
         },
         "title": {
          "font": {
           "color": "#4D5663"
          },
          "text": ""
         },
         "zerolinecolor": "#E1E5ED"
        },
        "xaxis5": {
         "anchor": "y5",
         "domain": [
          0,
          0.2125
         ],
         "gridcolor": "#E1E5ED",
         "showgrid": false,
         "tickfont": {
          "color": "#4D5663"
         },
         "title": {
          "font": {
           "color": "#4D5663"
          },
          "text": ""
         },
         "zerolinecolor": "#E1E5ED"
        },
        "xaxis6": {
         "anchor": "y6",
         "domain": [
          0.2625,
          0.475
         ],
         "gridcolor": "#E1E5ED",
         "showgrid": false,
         "tickfont": {
          "color": "#4D5663"
         },
         "title": {
          "font": {
           "color": "#4D5663"
          },
          "text": ""
         },
         "zerolinecolor": "#E1E5ED"
        },
        "xaxis7": {
         "anchor": "y7",
         "domain": [
          0.525,
          0.7375
         ],
         "gridcolor": "#E1E5ED",
         "showgrid": false,
         "tickfont": {
          "color": "#4D5663"
         },
         "title": {
          "font": {
           "color": "#4D5663"
          },
          "text": ""
         },
         "zerolinecolor": "#E1E5ED"
        },
        "xaxis8": {
         "anchor": "y8",
         "domain": [
          0.7875,
          1
         ],
         "gridcolor": "#E1E5ED",
         "showgrid": false,
         "tickfont": {
          "color": "#4D5663"
         },
         "title": {
          "font": {
           "color": "#4D5663"
          },
          "text": ""
         },
         "zerolinecolor": "#E1E5ED"
        },
        "xaxis9": {
         "anchor": "y9",
         "domain": [
          0,
          0.2125
         ],
         "gridcolor": "#E1E5ED",
         "showgrid": false,
         "tickfont": {
          "color": "#4D5663"
         },
         "title": {
          "font": {
           "color": "#4D5663"
          },
          "text": ""
         },
         "zerolinecolor": "#E1E5ED"
        },
        "yaxis": {
         "anchor": "x",
         "domain": [
          0.8025,
          1
         ],
         "gridcolor": "#E1E5ED",
         "showgrid": false,
         "tickfont": {
          "color": "#4D5663"
         },
         "title": {
          "font": {
           "color": "#4D5663"
          },
          "text": ""
         },
         "zerolinecolor": "#E1E5ED"
        },
        "yaxis10": {
         "anchor": "x10",
         "domain": [
          0.2675,
          0.465
         ],
         "gridcolor": "#E1E5ED",
         "showgrid": false,
         "tickfont": {
          "color": "#4D5663"
         },
         "title": {
          "font": {
           "color": "#4D5663"
          },
          "text": ""
         },
         "zerolinecolor": "#E1E5ED"
        },
        "yaxis11": {
         "anchor": "x11",
         "domain": [
          0.2675,
          0.465
         ],
         "gridcolor": "#E1E5ED",
         "showgrid": false,
         "tickfont": {
          "color": "#4D5663"
         },
         "title": {
          "font": {
           "color": "#4D5663"
          },
          "text": ""
         },
         "zerolinecolor": "#E1E5ED"
        },
        "yaxis12": {
         "anchor": "x12",
         "domain": [
          0.2675,
          0.465
         ],
         "gridcolor": "#E1E5ED",
         "showgrid": false,
         "tickfont": {
          "color": "#4D5663"
         },
         "title": {
          "font": {
           "color": "#4D5663"
          },
          "text": ""
         },
         "zerolinecolor": "#E1E5ED"
        },
        "yaxis13": {
         "anchor": "x13",
         "domain": [
          0,
          0.1975
         ],
         "gridcolor": "#E1E5ED",
         "showgrid": false,
         "tickfont": {
          "color": "#4D5663"
         },
         "title": {
          "font": {
           "color": "#4D5663"
          },
          "text": ""
         },
         "zerolinecolor": "#E1E5ED"
        },
        "yaxis14": {
         "anchor": "x14",
         "domain": [
          0,
          0.1975
         ],
         "gridcolor": "#E1E5ED",
         "showgrid": false,
         "tickfont": {
          "color": "#4D5663"
         },
         "title": {
          "font": {
           "color": "#4D5663"
          },
          "text": ""
         },
         "zerolinecolor": "#E1E5ED"
        },
        "yaxis15": {
         "anchor": "x15",
         "domain": [
          0,
          0.1975
         ],
         "gridcolor": "#E1E5ED",
         "showgrid": false,
         "tickfont": {
          "color": "#4D5663"
         },
         "title": {
          "font": {
           "color": "#4D5663"
          },
          "text": ""
         },
         "zerolinecolor": "#E1E5ED"
        },
        "yaxis16": {
         "anchor": "x16",
         "domain": [
          0,
          0.1975
         ],
         "gridcolor": "#E1E5ED",
         "showgrid": false,
         "tickfont": {
          "color": "#4D5663"
         },
         "title": {
          "font": {
           "color": "#4D5663"
          },
          "text": ""
         },
         "zerolinecolor": "#E1E5ED"
        },
        "yaxis2": {
         "anchor": "x2",
         "domain": [
          0.8025,
          1
         ],
         "gridcolor": "#E1E5ED",
         "showgrid": false,
         "tickfont": {
          "color": "#4D5663"
         },
         "title": {
          "font": {
           "color": "#4D5663"
          },
          "text": ""
         },
         "zerolinecolor": "#E1E5ED"
        },
        "yaxis3": {
         "anchor": "x3",
         "domain": [
          0.8025,
          1
         ],
         "gridcolor": "#E1E5ED",
         "showgrid": false,
         "tickfont": {
          "color": "#4D5663"
         },
         "title": {
          "font": {
           "color": "#4D5663"
          },
          "text": ""
         },
         "zerolinecolor": "#E1E5ED"
        },
        "yaxis4": {
         "anchor": "x4",
         "domain": [
          0.8025,
          1
         ],
         "gridcolor": "#E1E5ED",
         "showgrid": false,
         "tickfont": {
          "color": "#4D5663"
         },
         "title": {
          "font": {
           "color": "#4D5663"
          },
          "text": ""
         },
         "zerolinecolor": "#E1E5ED"
        },
        "yaxis5": {
         "anchor": "x5",
         "domain": [
          0.535,
          0.7325
         ],
         "gridcolor": "#E1E5ED",
         "showgrid": false,
         "tickfont": {
          "color": "#4D5663"
         },
         "title": {
          "font": {
           "color": "#4D5663"
          },
          "text": ""
         },
         "zerolinecolor": "#E1E5ED"
        },
        "yaxis6": {
         "anchor": "x6",
         "domain": [
          0.535,
          0.7325
         ],
         "gridcolor": "#E1E5ED",
         "showgrid": false,
         "tickfont": {
          "color": "#4D5663"
         },
         "title": {
          "font": {
           "color": "#4D5663"
          },
          "text": ""
         },
         "zerolinecolor": "#E1E5ED"
        },
        "yaxis7": {
         "anchor": "x7",
         "domain": [
          0.535,
          0.7325
         ],
         "gridcolor": "#E1E5ED",
         "showgrid": false,
         "tickfont": {
          "color": "#4D5663"
         },
         "title": {
          "font": {
           "color": "#4D5663"
          },
          "text": ""
         },
         "zerolinecolor": "#E1E5ED"
        },
        "yaxis8": {
         "anchor": "x8",
         "domain": [
          0.535,
          0.7325
         ],
         "gridcolor": "#E1E5ED",
         "showgrid": false,
         "tickfont": {
          "color": "#4D5663"
         },
         "title": {
          "font": {
           "color": "#4D5663"
          },
          "text": ""
         },
         "zerolinecolor": "#E1E5ED"
        },
        "yaxis9": {
         "anchor": "x9",
         "domain": [
          0.2675,
          0.465
         ],
         "gridcolor": "#E1E5ED",
         "showgrid": false,
         "tickfont": {
          "color": "#4D5663"
         },
         "title": {
          "font": {
           "color": "#4D5663"
          },
          "text": ""
         },
         "zerolinecolor": "#E1E5ED"
        }
       }
      },
      "text/html": [
       "<div>                            <div id=\"d8b43b25-366a-4152-a197-9fa0754da0e7\" class=\"plotly-graph-div\" style=\"height:525px; width:100%;\"></div>            <script type=\"text/javascript\">                require([\"plotly\"], function(Plotly) {                    window.PLOTLYENV=window.PLOTLYENV || {};\n",
       "                    window.PLOTLYENV.BASE_URL='https://plot.ly';                                    if (document.getElementById(\"d8b43b25-366a-4152-a197-9fa0754da0e7\")) {                    Plotly.newPlot(                        \"d8b43b25-366a-4152-a197-9fa0754da0e7\",                        [{\"histfunc\": \"count\", \"histnorm\": \"\", \"marker\": {\"color\": \"rgba(255, 153, 51, 1.0)\", \"line\": {\"color\": \"#4D5663\", \"width\": 1.3}}, \"name\": \"A\", \"nbinsx\": 10, \"opacity\": 0.8, \"orientation\": \"v\", \"type\": \"histogram\", \"x\": [-1.9722087496969223, -0.011671936731851002, -1.581095695462608, -0.34655125540727333, -2.477227183550656, 1.0941645349574753, 1.0229529172073148, -0.2598830879365222, -0.03408300204513225, 0.316552878256426, -0.9560391300790448, 0.03686863729565844, -1.057002166096782, 1.1269640029188206, -2.9267062941867423, -0.746704279766539, 0.05041994672178217, 0.48710115962661305, 0.4411562042292949, 1.9586541598607206, -1.1264446501035439, -0.8893264007516325, -0.912797025545708, -0.6764986758310823, 0.060741922825052995, -1.8449685175213293, -0.2581939666458554, -1.0845735336268134, 1.3092149762046064, -0.3066644272536902, 2.6272020454447893, 1.9776080885194243, 0.5668461448153023, 0.14871793417682036, 0.5589477908589175, 1.569395013601064, 0.6903765899355268, -0.9624507753100264, -1.1982377774156872, 0.3460526200922986, -1.5813823853788058, -0.060380627009908705, -0.45301810031688394, -0.8874355334946187, -0.08069904562752264, 0.9892325935849244, -0.4402405812651847, 0.9062225085353147, 0.051935187991758267, -0.7749692187429894, 0.20663577894552076, -2.6432173202033327, 0.428142633290837, 0.28064340537672056, 0.49998815039368866, -2.282375457843157, -0.2636867903407214, -0.8818468535001559, -0.3507863058950262, -0.3459010474609139, -0.2537435919563658, 0.7534214071578663, -0.9475830799767535, -1.275468885966171, -1.0661714834592064, -0.9048886981411098, 0.25326937641655517, 2.1839204484406034, -0.8272174280292035, -0.4645040193133396, 0.8445505137052899, 0.36733557594376404, -0.21495587739570762, -0.2147215789481739, -1.014567110997098, -0.5200774799937841, -0.6299002021429765, -0.018567917997282603, -1.0129723040910823, -1.244448617322104, 0.9101942921335867, 0.14653083392106686, -0.4696844835441938, 0.25679717959833154, -0.26913999204070016, 0.49298478979236415, -1.7553400104436443, -0.32567192940690426, 0.4963013251259451, 0.33715228833004396, -0.48702644670754175, 0.583173722625296, -0.13151299514984052, -0.17277039856468238, -0.3932252217320785, 1.747981066541866, 1.2996522287381982, 0.17177685124461037, 0.942376140480576, -1.4875548956939744], \"xaxis\": \"x\", \"yaxis\": \"y\"}, {\"line\": {\"color\": \"rgba(128, 128, 128, 1.0)\", \"dash\": \"solid\", \"shape\": \"linear\", \"width\": 1.3}, \"marker\": {\"size\": 2, \"symbol\": \"circle\"}, \"mode\": \"markers\", \"name\": \"A\", \"text\": \"\", \"type\": \"scatter\", \"x\": [-0.15467443438003167, -1.103714486619362, -0.0541684553591224, 0.41422239107560715, -0.47311978978456737, 0.08890758298241469, 0.6542883889705488, 0.1526791972817478, -1.0761625495932814, 0.4108953551780461, 0.8849114941005151, -1.7404564207865973, -0.2834726233350443, -0.7225958554493189, -0.3360213951887905, -0.43360752963912125, -0.28610770283411324, 0.5140475923376779, 0.6498272394533989, -0.1880381648673378, 3.029906110373341, -0.655023507621413, -0.29993908275112585, 0.17257175369280023, -0.8252449189026975, -0.5068002853772337, 0.7260798014189815, -0.3890204893183104, -0.42350519981926266, -0.9830897847082721, -0.745081495310831, 0.5885934793538804, 1.3819602740760888, -0.6052431371727914, -0.795447989408926, -0.36279193604862736, 0.6507982198529062, 0.26554271337673624, 0.4278905943406648, 0.7667337976267404, -1.009477598035802, 1.7868695252714277, 0.07238439431084817, -0.2921642502366185, 0.8037729291547354, -0.2997123802579395, 0.5540178206043035, 0.4378922178605772, 0.516907689763789, -0.7489107442737745, 0.3042169050027822, -1.2286144224027291, -1.4768661895797555, -0.5706672119608341, 1.4961773942937893, -0.15560187954158308, 0.03247288091238335, 0.3121279723427983, 1.2036174628101248, -1.8149602214495568, -0.25267277264871385, -0.31891897183935325, -0.47381322603680753, 0.9177839120362744, -0.6619439676220062, -0.22228104761216375, 0.5167188779834639, -0.5886601441588484, -0.49111226630245897, 0.2442643888637009, -0.04507916296916212, 0.9049845080788567, 0.49394996349843406, 0.202128923957163, 0.9149650220094239, 0.20786740242860877, 1.2558499203678959, -0.8882369239533632, -0.5665994304015882, -2.52713736735959, -0.40202525070563416, 0.42337816477791873, 2.930189646869836, -0.29870561060645767, 1.0259894736560005, -0.5434596778354565, -0.48187202723754213, -0.7849654446928984, 0.5354112571672852, -0.12100382967481559, -1.288362701278329, -1.3144891120780753, -0.3190835777670386, -0.9499938842804496, -1.3683098023592501, -0.4998233472993743, 0.47028413887107634, 0.7786479452061807, -0.7357339189416259, -1.3464941644058384], \"xaxis\": \"x2\", \"y\": [-1.9722087496969223, -0.011671936731851002, -1.581095695462608, -0.34655125540727333, -2.477227183550656, 1.0941645349574753, 1.0229529172073148, -0.2598830879365222, -0.03408300204513225, 0.316552878256426, -0.9560391300790448, 0.03686863729565844, -1.057002166096782, 1.1269640029188206, -2.9267062941867423, -0.746704279766539, 0.05041994672178217, 0.48710115962661305, 0.4411562042292949, 1.9586541598607206, -1.1264446501035439, -0.8893264007516325, -0.912797025545708, -0.6764986758310823, 0.060741922825052995, -1.8449685175213293, -0.2581939666458554, -1.0845735336268134, 1.3092149762046064, -0.3066644272536902, 2.6272020454447893, 1.9776080885194243, 0.5668461448153023, 0.14871793417682036, 0.5589477908589175, 1.569395013601064, 0.6903765899355268, -0.9624507753100264, -1.1982377774156872, 0.3460526200922986, -1.5813823853788058, -0.060380627009908705, -0.45301810031688394, -0.8874355334946187, -0.08069904562752264, 0.9892325935849244, -0.4402405812651847, 0.9062225085353147, 0.051935187991758267, -0.7749692187429894, 0.20663577894552076, -2.6432173202033327, 0.428142633290837, 0.28064340537672056, 0.49998815039368866, -2.282375457843157, -0.2636867903407214, -0.8818468535001559, -0.3507863058950262, -0.3459010474609139, -0.2537435919563658, 0.7534214071578663, -0.9475830799767535, -1.275468885966171, -1.0661714834592064, -0.9048886981411098, 0.25326937641655517, 2.1839204484406034, -0.8272174280292035, -0.4645040193133396, 0.8445505137052899, 0.36733557594376404, -0.21495587739570762, -0.2147215789481739, -1.014567110997098, -0.5200774799937841, -0.6299002021429765, -0.018567917997282603, -1.0129723040910823, -1.244448617322104, 0.9101942921335867, 0.14653083392106686, -0.4696844835441938, 0.25679717959833154, -0.26913999204070016, 0.49298478979236415, -1.7553400104436443, -0.32567192940690426, 0.4963013251259451, 0.33715228833004396, -0.48702644670754175, 0.583173722625296, -0.13151299514984052, -0.17277039856468238, -0.3932252217320785, 1.747981066541866, 1.2996522287381982, 0.17177685124461037, 0.942376140480576, -1.4875548956939744], \"yaxis\": \"y2\"}, {\"line\": {\"color\": \"rgba(128, 128, 128, 1.0)\", \"dash\": \"solid\", \"shape\": \"linear\", \"width\": 1.3}, \"marker\": {\"size\": 2, \"symbol\": \"circle\"}, \"mode\": \"markers\", \"name\": \"A\", \"text\": \"\", \"type\": \"scatter\", \"x\": [0.08036546985632058, -1.1803155619663286, 1.882445236348399, 1.1349992260603332, -1.5575608308528395, -0.1527564653318407, -0.2961188984253155, -0.026937775969907905, -1.272905763155189, -0.8549352977883783, -1.281847057260825, -2.1210640768169333, 1.6893630865327454, -0.017578634697911624, -2.1020556307911615, 0.0361393847450922, 0.43746097392298783, 0.032676108775102256, -0.09844484635896847, -0.27085031154451733, -0.733682783176024, -0.5705352930326113, 1.2726524082477522, 1.139118304742565, -0.11064228540091595, 0.2208218083646103, 0.6867117699875392, 0.847024875757954, -0.03593499862944182, 0.962558874587534, -0.1188249528546015, -0.13773714151826094, 0.45722579151212817, -0.34509916618804953, 1.1844240688176957, -0.19633186981606932, -0.7862381639616858, 1.07559665304353, 1.4480044078476682, 1.3654346413378435, 0.681486730473982, 0.3383458494068617, 0.7739998117437695, -2.220518442027511, -1.6675281060620841, -0.1064622488395936, -0.7380040394225079, -0.5486295217974224, -0.8342851154825762, 0.026766363250262055, -0.35301171647407226, -0.5579776604277544, 0.09076406349955296, -3.4553709450226386, 0.42250861039899773, -0.6316855409000489, 0.3271975344870533, -2.1169700697305354, 0.9962451550083548, -0.7109591216011675, -0.046305530851667644, 1.637218972882313, 0.08862159816983804, -2.131416983846675, -0.40077384108346514, -0.8231628591052247, -0.1374738716032662, -1.4636837083336742, 0.5472867160388108, -0.3775955732256513, -0.9218552005147901, 0.43162654815156065, -0.08272021026159287, 0.7126733858239472, 1.447354762450443, -0.02446321498869171, 0.399983377804818, 0.759018420519252, -0.22801770574102007, 0.5927528149081085, 0.38592588849566395, -0.5702766186066185, -0.7624535972326412, 1.285628408186062, -0.667138216464985, -1.133126898002318, 1.4621189512665256, -0.38156381185423577, 1.3007360231295444, -1.242078435474785, 0.8316549080676471, -1.449271121165556, 1.1220898286898993, -0.2972658671592852, -0.08960631746997277, 0.2617264232895819, -1.5757729109547811, -0.14208364014828903, 0.32389404113691356, -0.33948227156482397], \"xaxis\": \"x3\", \"y\": [-1.9722087496969223, -0.011671936731851002, -1.581095695462608, -0.34655125540727333, -2.477227183550656, 1.0941645349574753, 1.0229529172073148, -0.2598830879365222, -0.03408300204513225, 0.316552878256426, -0.9560391300790448, 0.03686863729565844, -1.057002166096782, 1.1269640029188206, -2.9267062941867423, -0.746704279766539, 0.05041994672178217, 0.48710115962661305, 0.4411562042292949, 1.9586541598607206, -1.1264446501035439, -0.8893264007516325, -0.912797025545708, -0.6764986758310823, 0.060741922825052995, -1.8449685175213293, -0.2581939666458554, -1.0845735336268134, 1.3092149762046064, -0.3066644272536902, 2.6272020454447893, 1.9776080885194243, 0.5668461448153023, 0.14871793417682036, 0.5589477908589175, 1.569395013601064, 0.6903765899355268, -0.9624507753100264, -1.1982377774156872, 0.3460526200922986, -1.5813823853788058, -0.060380627009908705, -0.45301810031688394, -0.8874355334946187, -0.08069904562752264, 0.9892325935849244, -0.4402405812651847, 0.9062225085353147, 0.051935187991758267, -0.7749692187429894, 0.20663577894552076, -2.6432173202033327, 0.428142633290837, 0.28064340537672056, 0.49998815039368866, -2.282375457843157, -0.2636867903407214, -0.8818468535001559, -0.3507863058950262, -0.3459010474609139, -0.2537435919563658, 0.7534214071578663, -0.9475830799767535, -1.275468885966171, -1.0661714834592064, -0.9048886981411098, 0.25326937641655517, 2.1839204484406034, -0.8272174280292035, -0.4645040193133396, 0.8445505137052899, 0.36733557594376404, -0.21495587739570762, -0.2147215789481739, -1.014567110997098, -0.5200774799937841, -0.6299002021429765, -0.018567917997282603, -1.0129723040910823, -1.244448617322104, 0.9101942921335867, 0.14653083392106686, -0.4696844835441938, 0.25679717959833154, -0.26913999204070016, 0.49298478979236415, -1.7553400104436443, -0.32567192940690426, 0.4963013251259451, 0.33715228833004396, -0.48702644670754175, 0.583173722625296, -0.13151299514984052, -0.17277039856468238, -0.3932252217320785, 1.747981066541866, 1.2996522287381982, 0.17177685124461037, 0.942376140480576, -1.4875548956939744], \"yaxis\": \"y3\"}, {\"line\": {\"color\": \"rgba(128, 128, 128, 1.0)\", \"dash\": \"solid\", \"shape\": \"linear\", \"width\": 1.3}, \"marker\": {\"size\": 2, \"symbol\": \"circle\"}, \"mode\": \"markers\", \"name\": \"A\", \"text\": \"\", \"type\": \"scatter\", \"x\": [0.2099912171818562, -1.1990577012263692, -0.10108308904370543, 0.8112918719255539, 0.8313292393664062, -0.1609187788658841, -1.2892556331200071, 0.9732044973804842, -1.1028627677307659, 2.59152389882196, 1.8278949849904982, 0.09666258307375825, -1.8698416412189955, -0.4667341426156331, 1.4031952918004071, -0.6303345038130095, 0.22875513735396286, -0.6052468375175506, -1.0033180221842917, -0.23701021798356048, 0.26034119125003896, 2.273447162989823, -0.7364967757641886, -0.7212268788942579, 1.4032812419505187, -1.657082576262926, 1.2980658002357384, -0.6299324027125981, -0.1545833811130906, -0.5825103619109648, 0.6928695396899978, -0.5133582454624704, -0.2913421611333826, -1.6635086452655068, -0.2020484429785352, 0.6856592512667734, 0.5239777192162516, -0.7065993959550226, -0.5098123119401131, 0.1641257050238636, -0.29725165110797663, 1.5528862134289545, 0.24750879328359607, 0.4805183246295481, -0.41749943539773393, 1.7702402084916669, 0.09658312042565893, -0.08997675886994944, 0.3285274976468807, 1.247695297338725, 1.495774506601597, 1.069691061446215, 0.7552018458688805, 0.2281391096504319, 1.2789791912760797, -1.8295558769667868, 0.11636660987779016, -0.2229977057008248, 0.6033630281600153, 0.35992973484009283, -1.5823384178952768, -0.1468527788638083, 0.14460305750459343, -0.8494544248877588, 0.7275331259041663, -1.1586340637121935, -0.041287814093800224, 0.9280295950246412, 0.3810274945493502, 0.5498487750737486, 0.22177455039431346, -0.5834077247799289, -1.1329855240956723, 1.2252793444619456, -1.409537567130078, 1.7704383751548867, -0.8399884873146362, 1.4508778811621514, -0.07945956920141474, 0.514019250535904, 1.14091575698579, -0.44447442783136815, -0.6902998179887635, -1.1323460320590162, 0.44171435496756867, -0.9748005885661352, -0.004717678081116911, 1.210811559025089, -0.3057156300025935, 0.09408566042173429, -1.3093042861597297, 0.8642257090072247, -0.4602704927209007, 1.1425853788847717, 0.3122916358920499, -1.0649219085134165, 0.5681313958119188, -1.5393910822689814, -0.3183315654749651, -0.3083516229304344], \"xaxis\": \"x4\", \"y\": [-1.9722087496969223, -0.011671936731851002, -1.581095695462608, -0.34655125540727333, -2.477227183550656, 1.0941645349574753, 1.0229529172073148, -0.2598830879365222, -0.03408300204513225, 0.316552878256426, -0.9560391300790448, 0.03686863729565844, -1.057002166096782, 1.1269640029188206, -2.9267062941867423, -0.746704279766539, 0.05041994672178217, 0.48710115962661305, 0.4411562042292949, 1.9586541598607206, -1.1264446501035439, -0.8893264007516325, -0.912797025545708, -0.6764986758310823, 0.060741922825052995, -1.8449685175213293, -0.2581939666458554, -1.0845735336268134, 1.3092149762046064, -0.3066644272536902, 2.6272020454447893, 1.9776080885194243, 0.5668461448153023, 0.14871793417682036, 0.5589477908589175, 1.569395013601064, 0.6903765899355268, -0.9624507753100264, -1.1982377774156872, 0.3460526200922986, -1.5813823853788058, -0.060380627009908705, -0.45301810031688394, -0.8874355334946187, -0.08069904562752264, 0.9892325935849244, -0.4402405812651847, 0.9062225085353147, 0.051935187991758267, -0.7749692187429894, 0.20663577894552076, -2.6432173202033327, 0.428142633290837, 0.28064340537672056, 0.49998815039368866, -2.282375457843157, -0.2636867903407214, -0.8818468535001559, -0.3507863058950262, -0.3459010474609139, -0.2537435919563658, 0.7534214071578663, -0.9475830799767535, -1.275468885966171, -1.0661714834592064, -0.9048886981411098, 0.25326937641655517, 2.1839204484406034, -0.8272174280292035, -0.4645040193133396, 0.8445505137052899, 0.36733557594376404, -0.21495587739570762, -0.2147215789481739, -1.014567110997098, -0.5200774799937841, -0.6299002021429765, -0.018567917997282603, -1.0129723040910823, -1.244448617322104, 0.9101942921335867, 0.14653083392106686, -0.4696844835441938, 0.25679717959833154, -0.26913999204070016, 0.49298478979236415, -1.7553400104436443, -0.32567192940690426, 0.4963013251259451, 0.33715228833004396, -0.48702644670754175, 0.583173722625296, -0.13151299514984052, -0.17277039856468238, -0.3932252217320785, 1.747981066541866, 1.2996522287381982, 0.17177685124461037, 0.942376140480576, -1.4875548956939744], \"yaxis\": \"y4\"}, {\"line\": {\"color\": \"rgba(128, 128, 128, 1.0)\", \"dash\": \"solid\", \"shape\": \"linear\", \"width\": 1.3}, \"marker\": {\"size\": 2, \"symbol\": \"circle\"}, \"mode\": \"markers\", \"name\": \"B\", \"text\": \"\", \"type\": \"scatter\", \"x\": [-1.9722087496969223, -0.011671936731851002, -1.581095695462608, -0.34655125540727333, -2.477227183550656, 1.0941645349574753, 1.0229529172073148, -0.2598830879365222, -0.03408300204513225, 0.316552878256426, -0.9560391300790448, 0.03686863729565844, -1.057002166096782, 1.1269640029188206, -2.9267062941867423, -0.746704279766539, 0.05041994672178217, 0.48710115962661305, 0.4411562042292949, 1.9586541598607206, -1.1264446501035439, -0.8893264007516325, -0.912797025545708, -0.6764986758310823, 0.060741922825052995, -1.8449685175213293, -0.2581939666458554, -1.0845735336268134, 1.3092149762046064, -0.3066644272536902, 2.6272020454447893, 1.9776080885194243, 0.5668461448153023, 0.14871793417682036, 0.5589477908589175, 1.569395013601064, 0.6903765899355268, -0.9624507753100264, -1.1982377774156872, 0.3460526200922986, -1.5813823853788058, -0.060380627009908705, -0.45301810031688394, -0.8874355334946187, -0.08069904562752264, 0.9892325935849244, -0.4402405812651847, 0.9062225085353147, 0.051935187991758267, -0.7749692187429894, 0.20663577894552076, -2.6432173202033327, 0.428142633290837, 0.28064340537672056, 0.49998815039368866, -2.282375457843157, -0.2636867903407214, -0.8818468535001559, -0.3507863058950262, -0.3459010474609139, -0.2537435919563658, 0.7534214071578663, -0.9475830799767535, -1.275468885966171, -1.0661714834592064, -0.9048886981411098, 0.25326937641655517, 2.1839204484406034, -0.8272174280292035, -0.4645040193133396, 0.8445505137052899, 0.36733557594376404, -0.21495587739570762, -0.2147215789481739, -1.014567110997098, -0.5200774799937841, -0.6299002021429765, -0.018567917997282603, -1.0129723040910823, -1.244448617322104, 0.9101942921335867, 0.14653083392106686, -0.4696844835441938, 0.25679717959833154, -0.26913999204070016, 0.49298478979236415, -1.7553400104436443, -0.32567192940690426, 0.4963013251259451, 0.33715228833004396, -0.48702644670754175, 0.583173722625296, -0.13151299514984052, -0.17277039856468238, -0.3932252217320785, 1.747981066541866, 1.2996522287381982, 0.17177685124461037, 0.942376140480576, -1.4875548956939744], \"xaxis\": \"x5\", \"y\": [-0.15467443438003167, -1.103714486619362, -0.0541684553591224, 0.41422239107560715, -0.47311978978456737, 0.08890758298241469, 0.6542883889705488, 0.1526791972817478, -1.0761625495932814, 0.4108953551780461, 0.8849114941005151, -1.7404564207865973, -0.2834726233350443, -0.7225958554493189, -0.3360213951887905, -0.43360752963912125, -0.28610770283411324, 0.5140475923376779, 0.6498272394533989, -0.1880381648673378, 3.029906110373341, -0.655023507621413, -0.29993908275112585, 0.17257175369280023, -0.8252449189026975, -0.5068002853772337, 0.7260798014189815, -0.3890204893183104, -0.42350519981926266, -0.9830897847082721, -0.745081495310831, 0.5885934793538804, 1.3819602740760888, -0.6052431371727914, -0.795447989408926, -0.36279193604862736, 0.6507982198529062, 0.26554271337673624, 0.4278905943406648, 0.7667337976267404, -1.009477598035802, 1.7868695252714277, 0.07238439431084817, -0.2921642502366185, 0.8037729291547354, -0.2997123802579395, 0.5540178206043035, 0.4378922178605772, 0.516907689763789, -0.7489107442737745, 0.3042169050027822, -1.2286144224027291, -1.4768661895797555, -0.5706672119608341, 1.4961773942937893, -0.15560187954158308, 0.03247288091238335, 0.3121279723427983, 1.2036174628101248, -1.8149602214495568, -0.25267277264871385, -0.31891897183935325, -0.47381322603680753, 0.9177839120362744, -0.6619439676220062, -0.22228104761216375, 0.5167188779834639, -0.5886601441588484, -0.49111226630245897, 0.2442643888637009, -0.04507916296916212, 0.9049845080788567, 0.49394996349843406, 0.202128923957163, 0.9149650220094239, 0.20786740242860877, 1.2558499203678959, -0.8882369239533632, -0.5665994304015882, -2.52713736735959, -0.40202525070563416, 0.42337816477791873, 2.930189646869836, -0.29870561060645767, 1.0259894736560005, -0.5434596778354565, -0.48187202723754213, -0.7849654446928984, 0.5354112571672852, -0.12100382967481559, -1.288362701278329, -1.3144891120780753, -0.3190835777670386, -0.9499938842804496, -1.3683098023592501, -0.4998233472993743, 0.47028413887107634, 0.7786479452061807, -0.7357339189416259, -1.3464941644058384], \"yaxis\": \"y5\"}, {\"histfunc\": \"count\", \"histnorm\": \"\", \"marker\": {\"color\": \"rgba(55, 128, 191, 1.0)\", \"line\": {\"color\": \"#4D5663\", \"width\": 1.3}}, \"name\": \"B\", \"nbinsx\": 10, \"opacity\": 0.8, \"orientation\": \"v\", \"type\": \"histogram\", \"x\": [-0.15467443438003167, -1.103714486619362, -0.0541684553591224, 0.41422239107560715, -0.47311978978456737, 0.08890758298241469, 0.6542883889705488, 0.1526791972817478, -1.0761625495932814, 0.4108953551780461, 0.8849114941005151, -1.7404564207865973, -0.2834726233350443, -0.7225958554493189, -0.3360213951887905, -0.43360752963912125, -0.28610770283411324, 0.5140475923376779, 0.6498272394533989, -0.1880381648673378, 3.029906110373341, -0.655023507621413, -0.29993908275112585, 0.17257175369280023, -0.8252449189026975, -0.5068002853772337, 0.7260798014189815, -0.3890204893183104, -0.42350519981926266, -0.9830897847082721, -0.745081495310831, 0.5885934793538804, 1.3819602740760888, -0.6052431371727914, -0.795447989408926, -0.36279193604862736, 0.6507982198529062, 0.26554271337673624, 0.4278905943406648, 0.7667337976267404, -1.009477598035802, 1.7868695252714277, 0.07238439431084817, -0.2921642502366185, 0.8037729291547354, -0.2997123802579395, 0.5540178206043035, 0.4378922178605772, 0.516907689763789, -0.7489107442737745, 0.3042169050027822, -1.2286144224027291, -1.4768661895797555, -0.5706672119608341, 1.4961773942937893, -0.15560187954158308, 0.03247288091238335, 0.3121279723427983, 1.2036174628101248, -1.8149602214495568, -0.25267277264871385, -0.31891897183935325, -0.47381322603680753, 0.9177839120362744, -0.6619439676220062, -0.22228104761216375, 0.5167188779834639, -0.5886601441588484, -0.49111226630245897, 0.2442643888637009, -0.04507916296916212, 0.9049845080788567, 0.49394996349843406, 0.202128923957163, 0.9149650220094239, 0.20786740242860877, 1.2558499203678959, -0.8882369239533632, -0.5665994304015882, -2.52713736735959, -0.40202525070563416, 0.42337816477791873, 2.930189646869836, -0.29870561060645767, 1.0259894736560005, -0.5434596778354565, -0.48187202723754213, -0.7849654446928984, 0.5354112571672852, -0.12100382967481559, -1.288362701278329, -1.3144891120780753, -0.3190835777670386, -0.9499938842804496, -1.3683098023592501, -0.4998233472993743, 0.47028413887107634, 0.7786479452061807, -0.7357339189416259, -1.3464941644058384], \"xaxis\": \"x6\", \"yaxis\": \"y6\"}, {\"line\": {\"color\": \"rgba(128, 128, 128, 1.0)\", \"dash\": \"solid\", \"shape\": \"linear\", \"width\": 1.3}, \"marker\": {\"size\": 2, \"symbol\": \"circle\"}, \"mode\": \"markers\", \"name\": \"B\", \"text\": \"\", \"type\": \"scatter\", \"x\": [0.08036546985632058, -1.1803155619663286, 1.882445236348399, 1.1349992260603332, -1.5575608308528395, -0.1527564653318407, -0.2961188984253155, -0.026937775969907905, -1.272905763155189, -0.8549352977883783, -1.281847057260825, -2.1210640768169333, 1.6893630865327454, -0.017578634697911624, -2.1020556307911615, 0.0361393847450922, 0.43746097392298783, 0.032676108775102256, -0.09844484635896847, -0.27085031154451733, -0.733682783176024, -0.5705352930326113, 1.2726524082477522, 1.139118304742565, -0.11064228540091595, 0.2208218083646103, 0.6867117699875392, 0.847024875757954, -0.03593499862944182, 0.962558874587534, -0.1188249528546015, -0.13773714151826094, 0.45722579151212817, -0.34509916618804953, 1.1844240688176957, -0.19633186981606932, -0.7862381639616858, 1.07559665304353, 1.4480044078476682, 1.3654346413378435, 0.681486730473982, 0.3383458494068617, 0.7739998117437695, -2.220518442027511, -1.6675281060620841, -0.1064622488395936, -0.7380040394225079, -0.5486295217974224, -0.8342851154825762, 0.026766363250262055, -0.35301171647407226, -0.5579776604277544, 0.09076406349955296, -3.4553709450226386, 0.42250861039899773, -0.6316855409000489, 0.3271975344870533, -2.1169700697305354, 0.9962451550083548, -0.7109591216011675, -0.046305530851667644, 1.637218972882313, 0.08862159816983804, -2.131416983846675, -0.40077384108346514, -0.8231628591052247, -0.1374738716032662, -1.4636837083336742, 0.5472867160388108, -0.3775955732256513, -0.9218552005147901, 0.43162654815156065, -0.08272021026159287, 0.7126733858239472, 1.447354762450443, -0.02446321498869171, 0.399983377804818, 0.759018420519252, -0.22801770574102007, 0.5927528149081085, 0.38592588849566395, -0.5702766186066185, -0.7624535972326412, 1.285628408186062, -0.667138216464985, -1.133126898002318, 1.4621189512665256, -0.38156381185423577, 1.3007360231295444, -1.242078435474785, 0.8316549080676471, -1.449271121165556, 1.1220898286898993, -0.2972658671592852, -0.08960631746997277, 0.2617264232895819, -1.5757729109547811, -0.14208364014828903, 0.32389404113691356, -0.33948227156482397], \"xaxis\": \"x7\", \"y\": [-0.15467443438003167, -1.103714486619362, -0.0541684553591224, 0.41422239107560715, -0.47311978978456737, 0.08890758298241469, 0.6542883889705488, 0.1526791972817478, -1.0761625495932814, 0.4108953551780461, 0.8849114941005151, -1.7404564207865973, -0.2834726233350443, -0.7225958554493189, -0.3360213951887905, -0.43360752963912125, -0.28610770283411324, 0.5140475923376779, 0.6498272394533989, -0.1880381648673378, 3.029906110373341, -0.655023507621413, -0.29993908275112585, 0.17257175369280023, -0.8252449189026975, -0.5068002853772337, 0.7260798014189815, -0.3890204893183104, -0.42350519981926266, -0.9830897847082721, -0.745081495310831, 0.5885934793538804, 1.3819602740760888, -0.6052431371727914, -0.795447989408926, -0.36279193604862736, 0.6507982198529062, 0.26554271337673624, 0.4278905943406648, 0.7667337976267404, -1.009477598035802, 1.7868695252714277, 0.07238439431084817, -0.2921642502366185, 0.8037729291547354, -0.2997123802579395, 0.5540178206043035, 0.4378922178605772, 0.516907689763789, -0.7489107442737745, 0.3042169050027822, -1.2286144224027291, -1.4768661895797555, -0.5706672119608341, 1.4961773942937893, -0.15560187954158308, 0.03247288091238335, 0.3121279723427983, 1.2036174628101248, -1.8149602214495568, -0.25267277264871385, -0.31891897183935325, -0.47381322603680753, 0.9177839120362744, -0.6619439676220062, -0.22228104761216375, 0.5167188779834639, -0.5886601441588484, -0.49111226630245897, 0.2442643888637009, -0.04507916296916212, 0.9049845080788567, 0.49394996349843406, 0.202128923957163, 0.9149650220094239, 0.20786740242860877, 1.2558499203678959, -0.8882369239533632, -0.5665994304015882, -2.52713736735959, -0.40202525070563416, 0.42337816477791873, 2.930189646869836, -0.29870561060645767, 1.0259894736560005, -0.5434596778354565, -0.48187202723754213, -0.7849654446928984, 0.5354112571672852, -0.12100382967481559, -1.288362701278329, -1.3144891120780753, -0.3190835777670386, -0.9499938842804496, -1.3683098023592501, -0.4998233472993743, 0.47028413887107634, 0.7786479452061807, -0.7357339189416259, -1.3464941644058384], \"yaxis\": \"y7\"}, {\"line\": {\"color\": \"rgba(128, 128, 128, 1.0)\", \"dash\": \"solid\", \"shape\": \"linear\", \"width\": 1.3}, \"marker\": {\"size\": 2, \"symbol\": \"circle\"}, \"mode\": \"markers\", \"name\": \"B\", \"text\": \"\", \"type\": \"scatter\", \"x\": [0.2099912171818562, -1.1990577012263692, -0.10108308904370543, 0.8112918719255539, 0.8313292393664062, -0.1609187788658841, -1.2892556331200071, 0.9732044973804842, -1.1028627677307659, 2.59152389882196, 1.8278949849904982, 0.09666258307375825, -1.8698416412189955, -0.4667341426156331, 1.4031952918004071, -0.6303345038130095, 0.22875513735396286, -0.6052468375175506, -1.0033180221842917, -0.23701021798356048, 0.26034119125003896, 2.273447162989823, -0.7364967757641886, -0.7212268788942579, 1.4032812419505187, -1.657082576262926, 1.2980658002357384, -0.6299324027125981, -0.1545833811130906, -0.5825103619109648, 0.6928695396899978, -0.5133582454624704, -0.2913421611333826, -1.6635086452655068, -0.2020484429785352, 0.6856592512667734, 0.5239777192162516, -0.7065993959550226, -0.5098123119401131, 0.1641257050238636, -0.29725165110797663, 1.5528862134289545, 0.24750879328359607, 0.4805183246295481, -0.41749943539773393, 1.7702402084916669, 0.09658312042565893, -0.08997675886994944, 0.3285274976468807, 1.247695297338725, 1.495774506601597, 1.069691061446215, 0.7552018458688805, 0.2281391096504319, 1.2789791912760797, -1.8295558769667868, 0.11636660987779016, -0.2229977057008248, 0.6033630281600153, 0.35992973484009283, -1.5823384178952768, -0.1468527788638083, 0.14460305750459343, -0.8494544248877588, 0.7275331259041663, -1.1586340637121935, -0.041287814093800224, 0.9280295950246412, 0.3810274945493502, 0.5498487750737486, 0.22177455039431346, -0.5834077247799289, -1.1329855240956723, 1.2252793444619456, -1.409537567130078, 1.7704383751548867, -0.8399884873146362, 1.4508778811621514, -0.07945956920141474, 0.514019250535904, 1.14091575698579, -0.44447442783136815, -0.6902998179887635, -1.1323460320590162, 0.44171435496756867, -0.9748005885661352, -0.004717678081116911, 1.210811559025089, -0.3057156300025935, 0.09408566042173429, -1.3093042861597297, 0.8642257090072247, -0.4602704927209007, 1.1425853788847717, 0.3122916358920499, -1.0649219085134165, 0.5681313958119188, -1.5393910822689814, -0.3183315654749651, -0.3083516229304344], \"xaxis\": \"x8\", \"y\": [-0.15467443438003167, -1.103714486619362, -0.0541684553591224, 0.41422239107560715, -0.47311978978456737, 0.08890758298241469, 0.6542883889705488, 0.1526791972817478, -1.0761625495932814, 0.4108953551780461, 0.8849114941005151, -1.7404564207865973, -0.2834726233350443, -0.7225958554493189, -0.3360213951887905, -0.43360752963912125, -0.28610770283411324, 0.5140475923376779, 0.6498272394533989, -0.1880381648673378, 3.029906110373341, -0.655023507621413, -0.29993908275112585, 0.17257175369280023, -0.8252449189026975, -0.5068002853772337, 0.7260798014189815, -0.3890204893183104, -0.42350519981926266, -0.9830897847082721, -0.745081495310831, 0.5885934793538804, 1.3819602740760888, -0.6052431371727914, -0.795447989408926, -0.36279193604862736, 0.6507982198529062, 0.26554271337673624, 0.4278905943406648, 0.7667337976267404, -1.009477598035802, 1.7868695252714277, 0.07238439431084817, -0.2921642502366185, 0.8037729291547354, -0.2997123802579395, 0.5540178206043035, 0.4378922178605772, 0.516907689763789, -0.7489107442737745, 0.3042169050027822, -1.2286144224027291, -1.4768661895797555, -0.5706672119608341, 1.4961773942937893, -0.15560187954158308, 0.03247288091238335, 0.3121279723427983, 1.2036174628101248, -1.8149602214495568, -0.25267277264871385, -0.31891897183935325, -0.47381322603680753, 0.9177839120362744, -0.6619439676220062, -0.22228104761216375, 0.5167188779834639, -0.5886601441588484, -0.49111226630245897, 0.2442643888637009, -0.04507916296916212, 0.9049845080788567, 0.49394996349843406, 0.202128923957163, 0.9149650220094239, 0.20786740242860877, 1.2558499203678959, -0.8882369239533632, -0.5665994304015882, -2.52713736735959, -0.40202525070563416, 0.42337816477791873, 2.930189646869836, -0.29870561060645767, 1.0259894736560005, -0.5434596778354565, -0.48187202723754213, -0.7849654446928984, 0.5354112571672852, -0.12100382967481559, -1.288362701278329, -1.3144891120780753, -0.3190835777670386, -0.9499938842804496, -1.3683098023592501, -0.4998233472993743, 0.47028413887107634, 0.7786479452061807, -0.7357339189416259, -1.3464941644058384], \"yaxis\": \"y8\"}, {\"line\": {\"color\": \"rgba(128, 128, 128, 1.0)\", \"dash\": \"solid\", \"shape\": \"linear\", \"width\": 1.3}, \"marker\": {\"size\": 2, \"symbol\": \"circle\"}, \"mode\": \"markers\", \"name\": \"C\", \"text\": \"\", \"type\": \"scatter\", \"x\": [-1.9722087496969223, -0.011671936731851002, -1.581095695462608, -0.34655125540727333, -2.477227183550656, 1.0941645349574753, 1.0229529172073148, -0.2598830879365222, -0.03408300204513225, 0.316552878256426, -0.9560391300790448, 0.03686863729565844, -1.057002166096782, 1.1269640029188206, -2.9267062941867423, -0.746704279766539, 0.05041994672178217, 0.48710115962661305, 0.4411562042292949, 1.9586541598607206, -1.1264446501035439, -0.8893264007516325, -0.912797025545708, -0.6764986758310823, 0.060741922825052995, -1.8449685175213293, -0.2581939666458554, -1.0845735336268134, 1.3092149762046064, -0.3066644272536902, 2.6272020454447893, 1.9776080885194243, 0.5668461448153023, 0.14871793417682036, 0.5589477908589175, 1.569395013601064, 0.6903765899355268, -0.9624507753100264, -1.1982377774156872, 0.3460526200922986, -1.5813823853788058, -0.060380627009908705, -0.45301810031688394, -0.8874355334946187, -0.08069904562752264, 0.9892325935849244, -0.4402405812651847, 0.9062225085353147, 0.051935187991758267, -0.7749692187429894, 0.20663577894552076, -2.6432173202033327, 0.428142633290837, 0.28064340537672056, 0.49998815039368866, -2.282375457843157, -0.2636867903407214, -0.8818468535001559, -0.3507863058950262, -0.3459010474609139, -0.2537435919563658, 0.7534214071578663, -0.9475830799767535, -1.275468885966171, -1.0661714834592064, -0.9048886981411098, 0.25326937641655517, 2.1839204484406034, -0.8272174280292035, -0.4645040193133396, 0.8445505137052899, 0.36733557594376404, -0.21495587739570762, -0.2147215789481739, -1.014567110997098, -0.5200774799937841, -0.6299002021429765, -0.018567917997282603, -1.0129723040910823, -1.244448617322104, 0.9101942921335867, 0.14653083392106686, -0.4696844835441938, 0.25679717959833154, -0.26913999204070016, 0.49298478979236415, -1.7553400104436443, -0.32567192940690426, 0.4963013251259451, 0.33715228833004396, -0.48702644670754175, 0.583173722625296, -0.13151299514984052, -0.17277039856468238, -0.3932252217320785, 1.747981066541866, 1.2996522287381982, 0.17177685124461037, 0.942376140480576, -1.4875548956939744], \"xaxis\": \"x9\", \"y\": [0.08036546985632058, -1.1803155619663286, 1.882445236348399, 1.1349992260603332, -1.5575608308528395, -0.1527564653318407, -0.2961188984253155, -0.026937775969907905, -1.272905763155189, -0.8549352977883783, -1.281847057260825, -2.1210640768169333, 1.6893630865327454, -0.017578634697911624, -2.1020556307911615, 0.0361393847450922, 0.43746097392298783, 0.032676108775102256, -0.09844484635896847, -0.27085031154451733, -0.733682783176024, -0.5705352930326113, 1.2726524082477522, 1.139118304742565, -0.11064228540091595, 0.2208218083646103, 0.6867117699875392, 0.847024875757954, -0.03593499862944182, 0.962558874587534, -0.1188249528546015, -0.13773714151826094, 0.45722579151212817, -0.34509916618804953, 1.1844240688176957, -0.19633186981606932, -0.7862381639616858, 1.07559665304353, 1.4480044078476682, 1.3654346413378435, 0.681486730473982, 0.3383458494068617, 0.7739998117437695, -2.220518442027511, -1.6675281060620841, -0.1064622488395936, -0.7380040394225079, -0.5486295217974224, -0.8342851154825762, 0.026766363250262055, -0.35301171647407226, -0.5579776604277544, 0.09076406349955296, -3.4553709450226386, 0.42250861039899773, -0.6316855409000489, 0.3271975344870533, -2.1169700697305354, 0.9962451550083548, -0.7109591216011675, -0.046305530851667644, 1.637218972882313, 0.08862159816983804, -2.131416983846675, -0.40077384108346514, -0.8231628591052247, -0.1374738716032662, -1.4636837083336742, 0.5472867160388108, -0.3775955732256513, -0.9218552005147901, 0.43162654815156065, -0.08272021026159287, 0.7126733858239472, 1.447354762450443, -0.02446321498869171, 0.399983377804818, 0.759018420519252, -0.22801770574102007, 0.5927528149081085, 0.38592588849566395, -0.5702766186066185, -0.7624535972326412, 1.285628408186062, -0.667138216464985, -1.133126898002318, 1.4621189512665256, -0.38156381185423577, 1.3007360231295444, -1.242078435474785, 0.8316549080676471, -1.449271121165556, 1.1220898286898993, -0.2972658671592852, -0.08960631746997277, 0.2617264232895819, -1.5757729109547811, -0.14208364014828903, 0.32389404113691356, -0.33948227156482397], \"yaxis\": \"y9\"}, {\"line\": {\"color\": \"rgba(128, 128, 128, 1.0)\", \"dash\": \"solid\", \"shape\": \"linear\", \"width\": 1.3}, \"marker\": {\"size\": 2, \"symbol\": \"circle\"}, \"mode\": \"markers\", \"name\": \"C\", \"text\": \"\", \"type\": \"scatter\", \"x\": [-0.15467443438003167, -1.103714486619362, -0.0541684553591224, 0.41422239107560715, -0.47311978978456737, 0.08890758298241469, 0.6542883889705488, 0.1526791972817478, -1.0761625495932814, 0.4108953551780461, 0.8849114941005151, -1.7404564207865973, -0.2834726233350443, -0.7225958554493189, -0.3360213951887905, -0.43360752963912125, -0.28610770283411324, 0.5140475923376779, 0.6498272394533989, -0.1880381648673378, 3.029906110373341, -0.655023507621413, -0.29993908275112585, 0.17257175369280023, -0.8252449189026975, -0.5068002853772337, 0.7260798014189815, -0.3890204893183104, -0.42350519981926266, -0.9830897847082721, -0.745081495310831, 0.5885934793538804, 1.3819602740760888, -0.6052431371727914, -0.795447989408926, -0.36279193604862736, 0.6507982198529062, 0.26554271337673624, 0.4278905943406648, 0.7667337976267404, -1.009477598035802, 1.7868695252714277, 0.07238439431084817, -0.2921642502366185, 0.8037729291547354, -0.2997123802579395, 0.5540178206043035, 0.4378922178605772, 0.516907689763789, -0.7489107442737745, 0.3042169050027822, -1.2286144224027291, -1.4768661895797555, -0.5706672119608341, 1.4961773942937893, -0.15560187954158308, 0.03247288091238335, 0.3121279723427983, 1.2036174628101248, -1.8149602214495568, -0.25267277264871385, -0.31891897183935325, -0.47381322603680753, 0.9177839120362744, -0.6619439676220062, -0.22228104761216375, 0.5167188779834639, -0.5886601441588484, -0.49111226630245897, 0.2442643888637009, -0.04507916296916212, 0.9049845080788567, 0.49394996349843406, 0.202128923957163, 0.9149650220094239, 0.20786740242860877, 1.2558499203678959, -0.8882369239533632, -0.5665994304015882, -2.52713736735959, -0.40202525070563416, 0.42337816477791873, 2.930189646869836, -0.29870561060645767, 1.0259894736560005, -0.5434596778354565, -0.48187202723754213, -0.7849654446928984, 0.5354112571672852, -0.12100382967481559, -1.288362701278329, -1.3144891120780753, -0.3190835777670386, -0.9499938842804496, -1.3683098023592501, -0.4998233472993743, 0.47028413887107634, 0.7786479452061807, -0.7357339189416259, -1.3464941644058384], \"xaxis\": \"x10\", \"y\": [0.08036546985632058, -1.1803155619663286, 1.882445236348399, 1.1349992260603332, -1.5575608308528395, -0.1527564653318407, -0.2961188984253155, -0.026937775969907905, -1.272905763155189, -0.8549352977883783, -1.281847057260825, -2.1210640768169333, 1.6893630865327454, -0.017578634697911624, -2.1020556307911615, 0.0361393847450922, 0.43746097392298783, 0.032676108775102256, -0.09844484635896847, -0.27085031154451733, -0.733682783176024, -0.5705352930326113, 1.2726524082477522, 1.139118304742565, -0.11064228540091595, 0.2208218083646103, 0.6867117699875392, 0.847024875757954, -0.03593499862944182, 0.962558874587534, -0.1188249528546015, -0.13773714151826094, 0.45722579151212817, -0.34509916618804953, 1.1844240688176957, -0.19633186981606932, -0.7862381639616858, 1.07559665304353, 1.4480044078476682, 1.3654346413378435, 0.681486730473982, 0.3383458494068617, 0.7739998117437695, -2.220518442027511, -1.6675281060620841, -0.1064622488395936, -0.7380040394225079, -0.5486295217974224, -0.8342851154825762, 0.026766363250262055, -0.35301171647407226, -0.5579776604277544, 0.09076406349955296, -3.4553709450226386, 0.42250861039899773, -0.6316855409000489, 0.3271975344870533, -2.1169700697305354, 0.9962451550083548, -0.7109591216011675, -0.046305530851667644, 1.637218972882313, 0.08862159816983804, -2.131416983846675, -0.40077384108346514, -0.8231628591052247, -0.1374738716032662, -1.4636837083336742, 0.5472867160388108, -0.3775955732256513, -0.9218552005147901, 0.43162654815156065, -0.08272021026159287, 0.7126733858239472, 1.447354762450443, -0.02446321498869171, 0.399983377804818, 0.759018420519252, -0.22801770574102007, 0.5927528149081085, 0.38592588849566395, -0.5702766186066185, -0.7624535972326412, 1.285628408186062, -0.667138216464985, -1.133126898002318, 1.4621189512665256, -0.38156381185423577, 1.3007360231295444, -1.242078435474785, 0.8316549080676471, -1.449271121165556, 1.1220898286898993, -0.2972658671592852, -0.08960631746997277, 0.2617264232895819, -1.5757729109547811, -0.14208364014828903, 0.32389404113691356, -0.33948227156482397], \"yaxis\": \"y10\"}, {\"histfunc\": \"count\", \"histnorm\": \"\", \"marker\": {\"color\": \"rgba(50, 171, 96, 1.0)\", \"line\": {\"color\": \"#4D5663\", \"width\": 1.3}}, \"name\": \"C\", \"nbinsx\": 10, \"opacity\": 0.8, \"orientation\": \"v\", \"type\": \"histogram\", \"x\": [0.08036546985632058, -1.1803155619663286, 1.882445236348399, 1.1349992260603332, -1.5575608308528395, -0.1527564653318407, -0.2961188984253155, -0.026937775969907905, -1.272905763155189, -0.8549352977883783, -1.281847057260825, -2.1210640768169333, 1.6893630865327454, -0.017578634697911624, -2.1020556307911615, 0.0361393847450922, 0.43746097392298783, 0.032676108775102256, -0.09844484635896847, -0.27085031154451733, -0.733682783176024, -0.5705352930326113, 1.2726524082477522, 1.139118304742565, -0.11064228540091595, 0.2208218083646103, 0.6867117699875392, 0.847024875757954, -0.03593499862944182, 0.962558874587534, -0.1188249528546015, -0.13773714151826094, 0.45722579151212817, -0.34509916618804953, 1.1844240688176957, -0.19633186981606932, -0.7862381639616858, 1.07559665304353, 1.4480044078476682, 1.3654346413378435, 0.681486730473982, 0.3383458494068617, 0.7739998117437695, -2.220518442027511, -1.6675281060620841, -0.1064622488395936, -0.7380040394225079, -0.5486295217974224, -0.8342851154825762, 0.026766363250262055, -0.35301171647407226, -0.5579776604277544, 0.09076406349955296, -3.4553709450226386, 0.42250861039899773, -0.6316855409000489, 0.3271975344870533, -2.1169700697305354, 0.9962451550083548, -0.7109591216011675, -0.046305530851667644, 1.637218972882313, 0.08862159816983804, -2.131416983846675, -0.40077384108346514, -0.8231628591052247, -0.1374738716032662, -1.4636837083336742, 0.5472867160388108, -0.3775955732256513, -0.9218552005147901, 0.43162654815156065, -0.08272021026159287, 0.7126733858239472, 1.447354762450443, -0.02446321498869171, 0.399983377804818, 0.759018420519252, -0.22801770574102007, 0.5927528149081085, 0.38592588849566395, -0.5702766186066185, -0.7624535972326412, 1.285628408186062, -0.667138216464985, -1.133126898002318, 1.4621189512665256, -0.38156381185423577, 1.3007360231295444, -1.242078435474785, 0.8316549080676471, -1.449271121165556, 1.1220898286898993, -0.2972658671592852, -0.08960631746997277, 0.2617264232895819, -1.5757729109547811, -0.14208364014828903, 0.32389404113691356, -0.33948227156482397], \"xaxis\": \"x11\", \"yaxis\": \"y11\"}, {\"line\": {\"color\": \"rgba(128, 128, 128, 1.0)\", \"dash\": \"solid\", \"shape\": \"linear\", \"width\": 1.3}, \"marker\": {\"size\": 2, \"symbol\": \"circle\"}, \"mode\": \"markers\", \"name\": \"C\", \"text\": \"\", \"type\": \"scatter\", \"x\": [0.2099912171818562, -1.1990577012263692, -0.10108308904370543, 0.8112918719255539, 0.8313292393664062, -0.1609187788658841, -1.2892556331200071, 0.9732044973804842, -1.1028627677307659, 2.59152389882196, 1.8278949849904982, 0.09666258307375825, -1.8698416412189955, -0.4667341426156331, 1.4031952918004071, -0.6303345038130095, 0.22875513735396286, -0.6052468375175506, -1.0033180221842917, -0.23701021798356048, 0.26034119125003896, 2.273447162989823, -0.7364967757641886, -0.7212268788942579, 1.4032812419505187, -1.657082576262926, 1.2980658002357384, -0.6299324027125981, -0.1545833811130906, -0.5825103619109648, 0.6928695396899978, -0.5133582454624704, -0.2913421611333826, -1.6635086452655068, -0.2020484429785352, 0.6856592512667734, 0.5239777192162516, -0.7065993959550226, -0.5098123119401131, 0.1641257050238636, -0.29725165110797663, 1.5528862134289545, 0.24750879328359607, 0.4805183246295481, -0.41749943539773393, 1.7702402084916669, 0.09658312042565893, -0.08997675886994944, 0.3285274976468807, 1.247695297338725, 1.495774506601597, 1.069691061446215, 0.7552018458688805, 0.2281391096504319, 1.2789791912760797, -1.8295558769667868, 0.11636660987779016, -0.2229977057008248, 0.6033630281600153, 0.35992973484009283, -1.5823384178952768, -0.1468527788638083, 0.14460305750459343, -0.8494544248877588, 0.7275331259041663, -1.1586340637121935, -0.041287814093800224, 0.9280295950246412, 0.3810274945493502, 0.5498487750737486, 0.22177455039431346, -0.5834077247799289, -1.1329855240956723, 1.2252793444619456, -1.409537567130078, 1.7704383751548867, -0.8399884873146362, 1.4508778811621514, -0.07945956920141474, 0.514019250535904, 1.14091575698579, -0.44447442783136815, -0.6902998179887635, -1.1323460320590162, 0.44171435496756867, -0.9748005885661352, -0.004717678081116911, 1.210811559025089, -0.3057156300025935, 0.09408566042173429, -1.3093042861597297, 0.8642257090072247, -0.4602704927209007, 1.1425853788847717, 0.3122916358920499, -1.0649219085134165, 0.5681313958119188, -1.5393910822689814, -0.3183315654749651, -0.3083516229304344], \"xaxis\": \"x12\", \"y\": [0.08036546985632058, -1.1803155619663286, 1.882445236348399, 1.1349992260603332, -1.5575608308528395, -0.1527564653318407, -0.2961188984253155, -0.026937775969907905, -1.272905763155189, -0.8549352977883783, -1.281847057260825, -2.1210640768169333, 1.6893630865327454, -0.017578634697911624, -2.1020556307911615, 0.0361393847450922, 0.43746097392298783, 0.032676108775102256, -0.09844484635896847, -0.27085031154451733, -0.733682783176024, -0.5705352930326113, 1.2726524082477522, 1.139118304742565, -0.11064228540091595, 0.2208218083646103, 0.6867117699875392, 0.847024875757954, -0.03593499862944182, 0.962558874587534, -0.1188249528546015, -0.13773714151826094, 0.45722579151212817, -0.34509916618804953, 1.1844240688176957, -0.19633186981606932, -0.7862381639616858, 1.07559665304353, 1.4480044078476682, 1.3654346413378435, 0.681486730473982, 0.3383458494068617, 0.7739998117437695, -2.220518442027511, -1.6675281060620841, -0.1064622488395936, -0.7380040394225079, -0.5486295217974224, -0.8342851154825762, 0.026766363250262055, -0.35301171647407226, -0.5579776604277544, 0.09076406349955296, -3.4553709450226386, 0.42250861039899773, -0.6316855409000489, 0.3271975344870533, -2.1169700697305354, 0.9962451550083548, -0.7109591216011675, -0.046305530851667644, 1.637218972882313, 0.08862159816983804, -2.131416983846675, -0.40077384108346514, -0.8231628591052247, -0.1374738716032662, -1.4636837083336742, 0.5472867160388108, -0.3775955732256513, -0.9218552005147901, 0.43162654815156065, -0.08272021026159287, 0.7126733858239472, 1.447354762450443, -0.02446321498869171, 0.399983377804818, 0.759018420519252, -0.22801770574102007, 0.5927528149081085, 0.38592588849566395, -0.5702766186066185, -0.7624535972326412, 1.285628408186062, -0.667138216464985, -1.133126898002318, 1.4621189512665256, -0.38156381185423577, 1.3007360231295444, -1.242078435474785, 0.8316549080676471, -1.449271121165556, 1.1220898286898993, -0.2972658671592852, -0.08960631746997277, 0.2617264232895819, -1.5757729109547811, -0.14208364014828903, 0.32389404113691356, -0.33948227156482397], \"yaxis\": \"y12\"}, {\"line\": {\"color\": \"rgba(128, 128, 128, 1.0)\", \"dash\": \"solid\", \"shape\": \"linear\", \"width\": 1.3}, \"marker\": {\"size\": 2, \"symbol\": \"circle\"}, \"mode\": \"markers\", \"name\": \"D\", \"text\": \"\", \"type\": \"scatter\", \"x\": [-1.9722087496969223, -0.011671936731851002, -1.581095695462608, -0.34655125540727333, -2.477227183550656, 1.0941645349574753, 1.0229529172073148, -0.2598830879365222, -0.03408300204513225, 0.316552878256426, -0.9560391300790448, 0.03686863729565844, -1.057002166096782, 1.1269640029188206, -2.9267062941867423, -0.746704279766539, 0.05041994672178217, 0.48710115962661305, 0.4411562042292949, 1.9586541598607206, -1.1264446501035439, -0.8893264007516325, -0.912797025545708, -0.6764986758310823, 0.060741922825052995, -1.8449685175213293, -0.2581939666458554, -1.0845735336268134, 1.3092149762046064, -0.3066644272536902, 2.6272020454447893, 1.9776080885194243, 0.5668461448153023, 0.14871793417682036, 0.5589477908589175, 1.569395013601064, 0.6903765899355268, -0.9624507753100264, -1.1982377774156872, 0.3460526200922986, -1.5813823853788058, -0.060380627009908705, -0.45301810031688394, -0.8874355334946187, -0.08069904562752264, 0.9892325935849244, -0.4402405812651847, 0.9062225085353147, 0.051935187991758267, -0.7749692187429894, 0.20663577894552076, -2.6432173202033327, 0.428142633290837, 0.28064340537672056, 0.49998815039368866, -2.282375457843157, -0.2636867903407214, -0.8818468535001559, -0.3507863058950262, -0.3459010474609139, -0.2537435919563658, 0.7534214071578663, -0.9475830799767535, -1.275468885966171, -1.0661714834592064, -0.9048886981411098, 0.25326937641655517, 2.1839204484406034, -0.8272174280292035, -0.4645040193133396, 0.8445505137052899, 0.36733557594376404, -0.21495587739570762, -0.2147215789481739, -1.014567110997098, -0.5200774799937841, -0.6299002021429765, -0.018567917997282603, -1.0129723040910823, -1.244448617322104, 0.9101942921335867, 0.14653083392106686, -0.4696844835441938, 0.25679717959833154, -0.26913999204070016, 0.49298478979236415, -1.7553400104436443, -0.32567192940690426, 0.4963013251259451, 0.33715228833004396, -0.48702644670754175, 0.583173722625296, -0.13151299514984052, -0.17277039856468238, -0.3932252217320785, 1.747981066541866, 1.2996522287381982, 0.17177685124461037, 0.942376140480576, -1.4875548956939744], \"xaxis\": \"x13\", \"y\": [0.2099912171818562, -1.1990577012263692, -0.10108308904370543, 0.8112918719255539, 0.8313292393664062, -0.1609187788658841, -1.2892556331200071, 0.9732044973804842, -1.1028627677307659, 2.59152389882196, 1.8278949849904982, 0.09666258307375825, -1.8698416412189955, -0.4667341426156331, 1.4031952918004071, -0.6303345038130095, 0.22875513735396286, -0.6052468375175506, -1.0033180221842917, -0.23701021798356048, 0.26034119125003896, 2.273447162989823, -0.7364967757641886, -0.7212268788942579, 1.4032812419505187, -1.657082576262926, 1.2980658002357384, -0.6299324027125981, -0.1545833811130906, -0.5825103619109648, 0.6928695396899978, -0.5133582454624704, -0.2913421611333826, -1.6635086452655068, -0.2020484429785352, 0.6856592512667734, 0.5239777192162516, -0.7065993959550226, -0.5098123119401131, 0.1641257050238636, -0.29725165110797663, 1.5528862134289545, 0.24750879328359607, 0.4805183246295481, -0.41749943539773393, 1.7702402084916669, 0.09658312042565893, -0.08997675886994944, 0.3285274976468807, 1.247695297338725, 1.495774506601597, 1.069691061446215, 0.7552018458688805, 0.2281391096504319, 1.2789791912760797, -1.8295558769667868, 0.11636660987779016, -0.2229977057008248, 0.6033630281600153, 0.35992973484009283, -1.5823384178952768, -0.1468527788638083, 0.14460305750459343, -0.8494544248877588, 0.7275331259041663, -1.1586340637121935, -0.041287814093800224, 0.9280295950246412, 0.3810274945493502, 0.5498487750737486, 0.22177455039431346, -0.5834077247799289, -1.1329855240956723, 1.2252793444619456, -1.409537567130078, 1.7704383751548867, -0.8399884873146362, 1.4508778811621514, -0.07945956920141474, 0.514019250535904, 1.14091575698579, -0.44447442783136815, -0.6902998179887635, -1.1323460320590162, 0.44171435496756867, -0.9748005885661352, -0.004717678081116911, 1.210811559025089, -0.3057156300025935, 0.09408566042173429, -1.3093042861597297, 0.8642257090072247, -0.4602704927209007, 1.1425853788847717, 0.3122916358920499, -1.0649219085134165, 0.5681313958119188, -1.5393910822689814, -0.3183315654749651, -0.3083516229304344], \"yaxis\": \"y13\"}, {\"line\": {\"color\": \"rgba(128, 128, 128, 1.0)\", \"dash\": \"solid\", \"shape\": \"linear\", \"width\": 1.3}, \"marker\": {\"size\": 2, \"symbol\": \"circle\"}, \"mode\": \"markers\", \"name\": \"D\", \"text\": \"\", \"type\": \"scatter\", \"x\": [-0.15467443438003167, -1.103714486619362, -0.0541684553591224, 0.41422239107560715, -0.47311978978456737, 0.08890758298241469, 0.6542883889705488, 0.1526791972817478, -1.0761625495932814, 0.4108953551780461, 0.8849114941005151, -1.7404564207865973, -0.2834726233350443, -0.7225958554493189, -0.3360213951887905, -0.43360752963912125, -0.28610770283411324, 0.5140475923376779, 0.6498272394533989, -0.1880381648673378, 3.029906110373341, -0.655023507621413, -0.29993908275112585, 0.17257175369280023, -0.8252449189026975, -0.5068002853772337, 0.7260798014189815, -0.3890204893183104, -0.42350519981926266, -0.9830897847082721, -0.745081495310831, 0.5885934793538804, 1.3819602740760888, -0.6052431371727914, -0.795447989408926, -0.36279193604862736, 0.6507982198529062, 0.26554271337673624, 0.4278905943406648, 0.7667337976267404, -1.009477598035802, 1.7868695252714277, 0.07238439431084817, -0.2921642502366185, 0.8037729291547354, -0.2997123802579395, 0.5540178206043035, 0.4378922178605772, 0.516907689763789, -0.7489107442737745, 0.3042169050027822, -1.2286144224027291, -1.4768661895797555, -0.5706672119608341, 1.4961773942937893, -0.15560187954158308, 0.03247288091238335, 0.3121279723427983, 1.2036174628101248, -1.8149602214495568, -0.25267277264871385, -0.31891897183935325, -0.47381322603680753, 0.9177839120362744, -0.6619439676220062, -0.22228104761216375, 0.5167188779834639, -0.5886601441588484, -0.49111226630245897, 0.2442643888637009, -0.04507916296916212, 0.9049845080788567, 0.49394996349843406, 0.202128923957163, 0.9149650220094239, 0.20786740242860877, 1.2558499203678959, -0.8882369239533632, -0.5665994304015882, -2.52713736735959, -0.40202525070563416, 0.42337816477791873, 2.930189646869836, -0.29870561060645767, 1.0259894736560005, -0.5434596778354565, -0.48187202723754213, -0.7849654446928984, 0.5354112571672852, -0.12100382967481559, -1.288362701278329, -1.3144891120780753, -0.3190835777670386, -0.9499938842804496, -1.3683098023592501, -0.4998233472993743, 0.47028413887107634, 0.7786479452061807, -0.7357339189416259, -1.3464941644058384], \"xaxis\": \"x14\", \"y\": [0.2099912171818562, -1.1990577012263692, -0.10108308904370543, 0.8112918719255539, 0.8313292393664062, -0.1609187788658841, -1.2892556331200071, 0.9732044973804842, -1.1028627677307659, 2.59152389882196, 1.8278949849904982, 0.09666258307375825, -1.8698416412189955, -0.4667341426156331, 1.4031952918004071, -0.6303345038130095, 0.22875513735396286, -0.6052468375175506, -1.0033180221842917, -0.23701021798356048, 0.26034119125003896, 2.273447162989823, -0.7364967757641886, -0.7212268788942579, 1.4032812419505187, -1.657082576262926, 1.2980658002357384, -0.6299324027125981, -0.1545833811130906, -0.5825103619109648, 0.6928695396899978, -0.5133582454624704, -0.2913421611333826, -1.6635086452655068, -0.2020484429785352, 0.6856592512667734, 0.5239777192162516, -0.7065993959550226, -0.5098123119401131, 0.1641257050238636, -0.29725165110797663, 1.5528862134289545, 0.24750879328359607, 0.4805183246295481, -0.41749943539773393, 1.7702402084916669, 0.09658312042565893, -0.08997675886994944, 0.3285274976468807, 1.247695297338725, 1.495774506601597, 1.069691061446215, 0.7552018458688805, 0.2281391096504319, 1.2789791912760797, -1.8295558769667868, 0.11636660987779016, -0.2229977057008248, 0.6033630281600153, 0.35992973484009283, -1.5823384178952768, -0.1468527788638083, 0.14460305750459343, -0.8494544248877588, 0.7275331259041663, -1.1586340637121935, -0.041287814093800224, 0.9280295950246412, 0.3810274945493502, 0.5498487750737486, 0.22177455039431346, -0.5834077247799289, -1.1329855240956723, 1.2252793444619456, -1.409537567130078, 1.7704383751548867, -0.8399884873146362, 1.4508778811621514, -0.07945956920141474, 0.514019250535904, 1.14091575698579, -0.44447442783136815, -0.6902998179887635, -1.1323460320590162, 0.44171435496756867, -0.9748005885661352, -0.004717678081116911, 1.210811559025089, -0.3057156300025935, 0.09408566042173429, -1.3093042861597297, 0.8642257090072247, -0.4602704927209007, 1.1425853788847717, 0.3122916358920499, -1.0649219085134165, 0.5681313958119188, -1.5393910822689814, -0.3183315654749651, -0.3083516229304344], \"yaxis\": \"y14\"}, {\"line\": {\"color\": \"rgba(128, 128, 128, 1.0)\", \"dash\": \"solid\", \"shape\": \"linear\", \"width\": 1.3}, \"marker\": {\"size\": 2, \"symbol\": \"circle\"}, \"mode\": \"markers\", \"name\": \"D\", \"text\": \"\", \"type\": \"scatter\", \"x\": [0.08036546985632058, -1.1803155619663286, 1.882445236348399, 1.1349992260603332, -1.5575608308528395, -0.1527564653318407, -0.2961188984253155, -0.026937775969907905, -1.272905763155189, -0.8549352977883783, -1.281847057260825, -2.1210640768169333, 1.6893630865327454, -0.017578634697911624, -2.1020556307911615, 0.0361393847450922, 0.43746097392298783, 0.032676108775102256, -0.09844484635896847, -0.27085031154451733, -0.733682783176024, -0.5705352930326113, 1.2726524082477522, 1.139118304742565, -0.11064228540091595, 0.2208218083646103, 0.6867117699875392, 0.847024875757954, -0.03593499862944182, 0.962558874587534, -0.1188249528546015, -0.13773714151826094, 0.45722579151212817, -0.34509916618804953, 1.1844240688176957, -0.19633186981606932, -0.7862381639616858, 1.07559665304353, 1.4480044078476682, 1.3654346413378435, 0.681486730473982, 0.3383458494068617, 0.7739998117437695, -2.220518442027511, -1.6675281060620841, -0.1064622488395936, -0.7380040394225079, -0.5486295217974224, -0.8342851154825762, 0.026766363250262055, -0.35301171647407226, -0.5579776604277544, 0.09076406349955296, -3.4553709450226386, 0.42250861039899773, -0.6316855409000489, 0.3271975344870533, -2.1169700697305354, 0.9962451550083548, -0.7109591216011675, -0.046305530851667644, 1.637218972882313, 0.08862159816983804, -2.131416983846675, -0.40077384108346514, -0.8231628591052247, -0.1374738716032662, -1.4636837083336742, 0.5472867160388108, -0.3775955732256513, -0.9218552005147901, 0.43162654815156065, -0.08272021026159287, 0.7126733858239472, 1.447354762450443, -0.02446321498869171, 0.399983377804818, 0.759018420519252, -0.22801770574102007, 0.5927528149081085, 0.38592588849566395, -0.5702766186066185, -0.7624535972326412, 1.285628408186062, -0.667138216464985, -1.133126898002318, 1.4621189512665256, -0.38156381185423577, 1.3007360231295444, -1.242078435474785, 0.8316549080676471, -1.449271121165556, 1.1220898286898993, -0.2972658671592852, -0.08960631746997277, 0.2617264232895819, -1.5757729109547811, -0.14208364014828903, 0.32389404113691356, -0.33948227156482397], \"xaxis\": \"x15\", \"y\": [0.2099912171818562, -1.1990577012263692, -0.10108308904370543, 0.8112918719255539, 0.8313292393664062, -0.1609187788658841, -1.2892556331200071, 0.9732044973804842, -1.1028627677307659, 2.59152389882196, 1.8278949849904982, 0.09666258307375825, -1.8698416412189955, -0.4667341426156331, 1.4031952918004071, -0.6303345038130095, 0.22875513735396286, -0.6052468375175506, -1.0033180221842917, -0.23701021798356048, 0.26034119125003896, 2.273447162989823, -0.7364967757641886, -0.7212268788942579, 1.4032812419505187, -1.657082576262926, 1.2980658002357384, -0.6299324027125981, -0.1545833811130906, -0.5825103619109648, 0.6928695396899978, -0.5133582454624704, -0.2913421611333826, -1.6635086452655068, -0.2020484429785352, 0.6856592512667734, 0.5239777192162516, -0.7065993959550226, -0.5098123119401131, 0.1641257050238636, -0.29725165110797663, 1.5528862134289545, 0.24750879328359607, 0.4805183246295481, -0.41749943539773393, 1.7702402084916669, 0.09658312042565893, -0.08997675886994944, 0.3285274976468807, 1.247695297338725, 1.495774506601597, 1.069691061446215, 0.7552018458688805, 0.2281391096504319, 1.2789791912760797, -1.8295558769667868, 0.11636660987779016, -0.2229977057008248, 0.6033630281600153, 0.35992973484009283, -1.5823384178952768, -0.1468527788638083, 0.14460305750459343, -0.8494544248877588, 0.7275331259041663, -1.1586340637121935, -0.041287814093800224, 0.9280295950246412, 0.3810274945493502, 0.5498487750737486, 0.22177455039431346, -0.5834077247799289, -1.1329855240956723, 1.2252793444619456, -1.409537567130078, 1.7704383751548867, -0.8399884873146362, 1.4508778811621514, -0.07945956920141474, 0.514019250535904, 1.14091575698579, -0.44447442783136815, -0.6902998179887635, -1.1323460320590162, 0.44171435496756867, -0.9748005885661352, -0.004717678081116911, 1.210811559025089, -0.3057156300025935, 0.09408566042173429, -1.3093042861597297, 0.8642257090072247, -0.4602704927209007, 1.1425853788847717, 0.3122916358920499, -1.0649219085134165, 0.5681313958119188, -1.5393910822689814, -0.3183315654749651, -0.3083516229304344], \"yaxis\": \"y15\"}, {\"histfunc\": \"count\", \"histnorm\": \"\", \"marker\": {\"color\": \"rgba(128, 0, 128, 1.0)\", \"line\": {\"color\": \"#4D5663\", \"width\": 1.3}}, \"name\": \"D\", \"nbinsx\": 10, \"opacity\": 0.8, \"orientation\": \"v\", \"type\": \"histogram\", \"x\": [0.2099912171818562, -1.1990577012263692, -0.10108308904370543, 0.8112918719255539, 0.8313292393664062, -0.1609187788658841, -1.2892556331200071, 0.9732044973804842, -1.1028627677307659, 2.59152389882196, 1.8278949849904982, 0.09666258307375825, -1.8698416412189955, -0.4667341426156331, 1.4031952918004071, -0.6303345038130095, 0.22875513735396286, -0.6052468375175506, -1.0033180221842917, -0.23701021798356048, 0.26034119125003896, 2.273447162989823, -0.7364967757641886, -0.7212268788942579, 1.4032812419505187, -1.657082576262926, 1.2980658002357384, -0.6299324027125981, -0.1545833811130906, -0.5825103619109648, 0.6928695396899978, -0.5133582454624704, -0.2913421611333826, -1.6635086452655068, -0.2020484429785352, 0.6856592512667734, 0.5239777192162516, -0.7065993959550226, -0.5098123119401131, 0.1641257050238636, -0.29725165110797663, 1.5528862134289545, 0.24750879328359607, 0.4805183246295481, -0.41749943539773393, 1.7702402084916669, 0.09658312042565893, -0.08997675886994944, 0.3285274976468807, 1.247695297338725, 1.495774506601597, 1.069691061446215, 0.7552018458688805, 0.2281391096504319, 1.2789791912760797, -1.8295558769667868, 0.11636660987779016, -0.2229977057008248, 0.6033630281600153, 0.35992973484009283, -1.5823384178952768, -0.1468527788638083, 0.14460305750459343, -0.8494544248877588, 0.7275331259041663, -1.1586340637121935, -0.041287814093800224, 0.9280295950246412, 0.3810274945493502, 0.5498487750737486, 0.22177455039431346, -0.5834077247799289, -1.1329855240956723, 1.2252793444619456, -1.409537567130078, 1.7704383751548867, -0.8399884873146362, 1.4508778811621514, -0.07945956920141474, 0.514019250535904, 1.14091575698579, -0.44447442783136815, -0.6902998179887635, -1.1323460320590162, 0.44171435496756867, -0.9748005885661352, -0.004717678081116911, 1.210811559025089, -0.3057156300025935, 0.09408566042173429, -1.3093042861597297, 0.8642257090072247, -0.4602704927209007, 1.1425853788847717, 0.3122916358920499, -1.0649219085134165, 0.5681313958119188, -1.5393910822689814, -0.3183315654749651, -0.3083516229304344], \"xaxis\": \"x16\", \"yaxis\": \"y16\"}],                        {\"bargap\": 0.02, \"legend\": {\"bgcolor\": \"#F5F6F9\", \"font\": {\"color\": \"#4D5663\"}}, \"paper_bgcolor\": \"#F5F6F9\", \"plot_bgcolor\": \"#F5F6F9\", \"showlegend\": false, \"template\": {\"data\": {\"bar\": [{\"error_x\": {\"color\": \"#2a3f5f\"}, \"error_y\": {\"color\": \"#2a3f5f\"}, \"marker\": {\"line\": {\"color\": \"#E5ECF6\", \"width\": 0.5}}, \"type\": \"bar\"}], \"barpolar\": [{\"marker\": {\"line\": {\"color\": \"#E5ECF6\", \"width\": 0.5}}, \"type\": \"barpolar\"}], \"carpet\": [{\"aaxis\": {\"endlinecolor\": \"#2a3f5f\", \"gridcolor\": \"white\", \"linecolor\": \"white\", \"minorgridcolor\": \"white\", \"startlinecolor\": \"#2a3f5f\"}, \"baxis\": {\"endlinecolor\": \"#2a3f5f\", \"gridcolor\": \"white\", \"linecolor\": \"white\", \"minorgridcolor\": \"white\", \"startlinecolor\": \"#2a3f5f\"}, \"type\": \"carpet\"}], \"choropleth\": [{\"colorbar\": {\"outlinewidth\": 0, \"ticks\": \"\"}, \"type\": \"choropleth\"}], \"contour\": [{\"colorbar\": {\"outlinewidth\": 0, \"ticks\": \"\"}, \"colorscale\": [[0.0, \"#0d0887\"], [0.1111111111111111, \"#46039f\"], [0.2222222222222222, \"#7201a8\"], [0.3333333333333333, \"#9c179e\"], [0.4444444444444444, \"#bd3786\"], [0.5555555555555556, \"#d8576b\"], [0.6666666666666666, \"#ed7953\"], [0.7777777777777778, \"#fb9f3a\"], [0.8888888888888888, \"#fdca26\"], [1.0, \"#f0f921\"]], \"type\": \"contour\"}], \"contourcarpet\": [{\"colorbar\": {\"outlinewidth\": 0, \"ticks\": \"\"}, \"type\": \"contourcarpet\"}], \"heatmap\": [{\"colorbar\": {\"outlinewidth\": 0, \"ticks\": \"\"}, \"colorscale\": [[0.0, \"#0d0887\"], [0.1111111111111111, \"#46039f\"], [0.2222222222222222, \"#7201a8\"], [0.3333333333333333, \"#9c179e\"], [0.4444444444444444, \"#bd3786\"], [0.5555555555555556, \"#d8576b\"], [0.6666666666666666, \"#ed7953\"], [0.7777777777777778, \"#fb9f3a\"], [0.8888888888888888, \"#fdca26\"], [1.0, \"#f0f921\"]], \"type\": \"heatmap\"}], \"heatmapgl\": [{\"colorbar\": {\"outlinewidth\": 0, \"ticks\": \"\"}, \"colorscale\": [[0.0, \"#0d0887\"], [0.1111111111111111, \"#46039f\"], [0.2222222222222222, \"#7201a8\"], [0.3333333333333333, \"#9c179e\"], [0.4444444444444444, \"#bd3786\"], [0.5555555555555556, \"#d8576b\"], [0.6666666666666666, \"#ed7953\"], [0.7777777777777778, \"#fb9f3a\"], [0.8888888888888888, \"#fdca26\"], [1.0, \"#f0f921\"]], \"type\": \"heatmapgl\"}], \"histogram\": [{\"marker\": {\"colorbar\": {\"outlinewidth\": 0, \"ticks\": \"\"}}, \"type\": \"histogram\"}], \"histogram2d\": [{\"colorbar\": {\"outlinewidth\": 0, \"ticks\": \"\"}, \"colorscale\": [[0.0, \"#0d0887\"], [0.1111111111111111, \"#46039f\"], [0.2222222222222222, \"#7201a8\"], [0.3333333333333333, \"#9c179e\"], [0.4444444444444444, \"#bd3786\"], [0.5555555555555556, \"#d8576b\"], [0.6666666666666666, \"#ed7953\"], [0.7777777777777778, \"#fb9f3a\"], [0.8888888888888888, \"#fdca26\"], [1.0, \"#f0f921\"]], \"type\": \"histogram2d\"}], \"histogram2dcontour\": [{\"colorbar\": {\"outlinewidth\": 0, \"ticks\": \"\"}, \"colorscale\": [[0.0, \"#0d0887\"], [0.1111111111111111, \"#46039f\"], [0.2222222222222222, \"#7201a8\"], [0.3333333333333333, \"#9c179e\"], [0.4444444444444444, \"#bd3786\"], [0.5555555555555556, \"#d8576b\"], [0.6666666666666666, \"#ed7953\"], [0.7777777777777778, \"#fb9f3a\"], [0.8888888888888888, \"#fdca26\"], [1.0, \"#f0f921\"]], \"type\": \"histogram2dcontour\"}], \"mesh3d\": [{\"colorbar\": {\"outlinewidth\": 0, \"ticks\": \"\"}, \"type\": \"mesh3d\"}], \"parcoords\": [{\"line\": {\"colorbar\": {\"outlinewidth\": 0, \"ticks\": \"\"}}, \"type\": \"parcoords\"}], \"pie\": [{\"automargin\": true, \"type\": \"pie\"}], \"scatter\": [{\"marker\": {\"colorbar\": {\"outlinewidth\": 0, \"ticks\": \"\"}}, \"type\": \"scatter\"}], \"scatter3d\": [{\"line\": {\"colorbar\": {\"outlinewidth\": 0, \"ticks\": \"\"}}, \"marker\": {\"colorbar\": {\"outlinewidth\": 0, \"ticks\": \"\"}}, \"type\": \"scatter3d\"}], \"scattercarpet\": [{\"marker\": {\"colorbar\": {\"outlinewidth\": 0, \"ticks\": \"\"}}, \"type\": \"scattercarpet\"}], \"scattergeo\": [{\"marker\": {\"colorbar\": {\"outlinewidth\": 0, \"ticks\": \"\"}}, \"type\": \"scattergeo\"}], \"scattergl\": [{\"marker\": {\"colorbar\": {\"outlinewidth\": 0, \"ticks\": \"\"}}, \"type\": \"scattergl\"}], \"scattermapbox\": [{\"marker\": {\"colorbar\": {\"outlinewidth\": 0, \"ticks\": \"\"}}, \"type\": \"scattermapbox\"}], \"scatterpolar\": [{\"marker\": {\"colorbar\": {\"outlinewidth\": 0, \"ticks\": \"\"}}, \"type\": \"scatterpolar\"}], \"scatterpolargl\": [{\"marker\": {\"colorbar\": {\"outlinewidth\": 0, \"ticks\": \"\"}}, \"type\": \"scatterpolargl\"}], \"scatterternary\": [{\"marker\": {\"colorbar\": {\"outlinewidth\": 0, \"ticks\": \"\"}}, \"type\": \"scatterternary\"}], \"surface\": [{\"colorbar\": {\"outlinewidth\": 0, \"ticks\": \"\"}, \"colorscale\": [[0.0, \"#0d0887\"], [0.1111111111111111, \"#46039f\"], [0.2222222222222222, \"#7201a8\"], [0.3333333333333333, \"#9c179e\"], [0.4444444444444444, \"#bd3786\"], [0.5555555555555556, \"#d8576b\"], [0.6666666666666666, \"#ed7953\"], [0.7777777777777778, \"#fb9f3a\"], [0.8888888888888888, \"#fdca26\"], [1.0, \"#f0f921\"]], \"type\": \"surface\"}], \"table\": [{\"cells\": {\"fill\": {\"color\": \"#EBF0F8\"}, \"line\": {\"color\": \"white\"}}, \"header\": {\"fill\": {\"color\": \"#C8D4E3\"}, \"line\": {\"color\": \"white\"}}, \"type\": \"table\"}]}, \"layout\": {\"annotationdefaults\": {\"arrowcolor\": \"#2a3f5f\", \"arrowhead\": 0, \"arrowwidth\": 1}, \"autotypenumbers\": \"strict\", \"coloraxis\": {\"colorbar\": {\"outlinewidth\": 0, \"ticks\": \"\"}}, \"colorscale\": {\"diverging\": [[0, \"#8e0152\"], [0.1, \"#c51b7d\"], [0.2, \"#de77ae\"], [0.3, \"#f1b6da\"], [0.4, \"#fde0ef\"], [0.5, \"#f7f7f7\"], [0.6, \"#e6f5d0\"], [0.7, \"#b8e186\"], [0.8, \"#7fbc41\"], [0.9, \"#4d9221\"], [1, \"#276419\"]], \"sequential\": [[0.0, \"#0d0887\"], [0.1111111111111111, \"#46039f\"], [0.2222222222222222, \"#7201a8\"], [0.3333333333333333, \"#9c179e\"], [0.4444444444444444, \"#bd3786\"], [0.5555555555555556, \"#d8576b\"], [0.6666666666666666, \"#ed7953\"], [0.7777777777777778, \"#fb9f3a\"], [0.8888888888888888, \"#fdca26\"], [1.0, \"#f0f921\"]], \"sequentialminus\": [[0.0, \"#0d0887\"], [0.1111111111111111, \"#46039f\"], [0.2222222222222222, \"#7201a8\"], [0.3333333333333333, \"#9c179e\"], [0.4444444444444444, \"#bd3786\"], [0.5555555555555556, \"#d8576b\"], [0.6666666666666666, \"#ed7953\"], [0.7777777777777778, \"#fb9f3a\"], [0.8888888888888888, \"#fdca26\"], [1.0, \"#f0f921\"]]}, \"colorway\": [\"#636efa\", \"#EF553B\", \"#00cc96\", \"#ab63fa\", \"#FFA15A\", \"#19d3f3\", \"#FF6692\", \"#B6E880\", \"#FF97FF\", \"#FECB52\"], \"font\": {\"color\": \"#2a3f5f\"}, \"geo\": {\"bgcolor\": \"white\", \"lakecolor\": \"white\", \"landcolor\": \"#E5ECF6\", \"showlakes\": true, \"showland\": true, \"subunitcolor\": \"white\"}, \"hoverlabel\": {\"align\": \"left\"}, \"hovermode\": \"closest\", \"mapbox\": {\"style\": \"light\"}, \"paper_bgcolor\": \"white\", \"plot_bgcolor\": \"#E5ECF6\", \"polar\": {\"angularaxis\": {\"gridcolor\": \"white\", \"linecolor\": \"white\", \"ticks\": \"\"}, \"bgcolor\": \"#E5ECF6\", \"radialaxis\": {\"gridcolor\": \"white\", \"linecolor\": \"white\", \"ticks\": \"\"}}, \"scene\": {\"xaxis\": {\"backgroundcolor\": \"#E5ECF6\", \"gridcolor\": \"white\", \"gridwidth\": 2, \"linecolor\": \"white\", \"showbackground\": true, \"ticks\": \"\", \"zerolinecolor\": \"white\"}, \"yaxis\": {\"backgroundcolor\": \"#E5ECF6\", \"gridcolor\": \"white\", \"gridwidth\": 2, \"linecolor\": \"white\", \"showbackground\": true, \"ticks\": \"\", \"zerolinecolor\": \"white\"}, \"zaxis\": {\"backgroundcolor\": \"#E5ECF6\", \"gridcolor\": \"white\", \"gridwidth\": 2, \"linecolor\": \"white\", \"showbackground\": true, \"ticks\": \"\", \"zerolinecolor\": \"white\"}}, \"shapedefaults\": {\"line\": {\"color\": \"#2a3f5f\"}}, \"ternary\": {\"aaxis\": {\"gridcolor\": \"white\", \"linecolor\": \"white\", \"ticks\": \"\"}, \"baxis\": {\"gridcolor\": \"white\", \"linecolor\": \"white\", \"ticks\": \"\"}, \"bgcolor\": \"#E5ECF6\", \"caxis\": {\"gridcolor\": \"white\", \"linecolor\": \"white\", \"ticks\": \"\"}}, \"title\": {\"x\": 0.05}, \"xaxis\": {\"automargin\": true, \"gridcolor\": \"white\", \"linecolor\": \"white\", \"ticks\": \"\", \"title\": {\"standoff\": 15}, \"zerolinecolor\": \"white\", \"zerolinewidth\": 2}, \"yaxis\": {\"automargin\": true, \"gridcolor\": \"white\", \"linecolor\": \"white\", \"ticks\": \"\", \"title\": {\"standoff\": 15}, \"zerolinecolor\": \"white\", \"zerolinewidth\": 2}}}, \"title\": {\"font\": {\"color\": \"#4D5663\"}}, \"xaxis\": {\"anchor\": \"y\", \"domain\": [0.0, 0.2125], \"gridcolor\": \"#E1E5ED\", \"showgrid\": false, \"tickfont\": {\"color\": \"#4D5663\"}, \"title\": {\"font\": {\"color\": \"#4D5663\"}, \"text\": \"\"}, \"zerolinecolor\": \"#E1E5ED\"}, \"xaxis10\": {\"anchor\": \"y10\", \"domain\": [0.2625, 0.475], \"gridcolor\": \"#E1E5ED\", \"showgrid\": false, \"tickfont\": {\"color\": \"#4D5663\"}, \"title\": {\"font\": {\"color\": \"#4D5663\"}, \"text\": \"\"}, \"zerolinecolor\": \"#E1E5ED\"}, \"xaxis11\": {\"anchor\": \"y11\", \"domain\": [0.525, 0.7375], \"gridcolor\": \"#E1E5ED\", \"showgrid\": false, \"tickfont\": {\"color\": \"#4D5663\"}, \"title\": {\"font\": {\"color\": \"#4D5663\"}, \"text\": \"\"}, \"zerolinecolor\": \"#E1E5ED\"}, \"xaxis12\": {\"anchor\": \"y12\", \"domain\": [0.7875, 1.0], \"gridcolor\": \"#E1E5ED\", \"showgrid\": false, \"tickfont\": {\"color\": \"#4D5663\"}, \"title\": {\"font\": {\"color\": \"#4D5663\"}, \"text\": \"\"}, \"zerolinecolor\": \"#E1E5ED\"}, \"xaxis13\": {\"anchor\": \"y13\", \"domain\": [0.0, 0.2125], \"gridcolor\": \"#E1E5ED\", \"showgrid\": false, \"tickfont\": {\"color\": \"#4D5663\"}, \"title\": {\"font\": {\"color\": \"#4D5663\"}, \"text\": \"\"}, \"zerolinecolor\": \"#E1E5ED\"}, \"xaxis14\": {\"anchor\": \"y14\", \"domain\": [0.2625, 0.475], \"gridcolor\": \"#E1E5ED\", \"showgrid\": false, \"tickfont\": {\"color\": \"#4D5663\"}, \"title\": {\"font\": {\"color\": \"#4D5663\"}, \"text\": \"\"}, \"zerolinecolor\": \"#E1E5ED\"}, \"xaxis15\": {\"anchor\": \"y15\", \"domain\": [0.525, 0.7375], \"gridcolor\": \"#E1E5ED\", \"showgrid\": false, \"tickfont\": {\"color\": \"#4D5663\"}, \"title\": {\"font\": {\"color\": \"#4D5663\"}, \"text\": \"\"}, \"zerolinecolor\": \"#E1E5ED\"}, \"xaxis16\": {\"anchor\": \"y16\", \"domain\": [0.7875, 1.0], \"gridcolor\": \"#E1E5ED\", \"showgrid\": false, \"tickfont\": {\"color\": \"#4D5663\"}, \"title\": {\"font\": {\"color\": \"#4D5663\"}, \"text\": \"\"}, \"zerolinecolor\": \"#E1E5ED\"}, \"xaxis2\": {\"anchor\": \"y2\", \"domain\": [0.2625, 0.475], \"gridcolor\": \"#E1E5ED\", \"showgrid\": false, \"tickfont\": {\"color\": \"#4D5663\"}, \"title\": {\"font\": {\"color\": \"#4D5663\"}, \"text\": \"\"}, \"zerolinecolor\": \"#E1E5ED\"}, \"xaxis3\": {\"anchor\": \"y3\", \"domain\": [0.525, 0.7375], \"gridcolor\": \"#E1E5ED\", \"showgrid\": false, \"tickfont\": {\"color\": \"#4D5663\"}, \"title\": {\"font\": {\"color\": \"#4D5663\"}, \"text\": \"\"}, \"zerolinecolor\": \"#E1E5ED\"}, \"xaxis4\": {\"anchor\": \"y4\", \"domain\": [0.7875, 1.0], \"gridcolor\": \"#E1E5ED\", \"showgrid\": false, \"tickfont\": {\"color\": \"#4D5663\"}, \"title\": {\"font\": {\"color\": \"#4D5663\"}, \"text\": \"\"}, \"zerolinecolor\": \"#E1E5ED\"}, \"xaxis5\": {\"anchor\": \"y5\", \"domain\": [0.0, 0.2125], \"gridcolor\": \"#E1E5ED\", \"showgrid\": false, \"tickfont\": {\"color\": \"#4D5663\"}, \"title\": {\"font\": {\"color\": \"#4D5663\"}, \"text\": \"\"}, \"zerolinecolor\": \"#E1E5ED\"}, \"xaxis6\": {\"anchor\": \"y6\", \"domain\": [0.2625, 0.475], \"gridcolor\": \"#E1E5ED\", \"showgrid\": false, \"tickfont\": {\"color\": \"#4D5663\"}, \"title\": {\"font\": {\"color\": \"#4D5663\"}, \"text\": \"\"}, \"zerolinecolor\": \"#E1E5ED\"}, \"xaxis7\": {\"anchor\": \"y7\", \"domain\": [0.525, 0.7375], \"gridcolor\": \"#E1E5ED\", \"showgrid\": false, \"tickfont\": {\"color\": \"#4D5663\"}, \"title\": {\"font\": {\"color\": \"#4D5663\"}, \"text\": \"\"}, \"zerolinecolor\": \"#E1E5ED\"}, \"xaxis8\": {\"anchor\": \"y8\", \"domain\": [0.7875, 1.0], \"gridcolor\": \"#E1E5ED\", \"showgrid\": false, \"tickfont\": {\"color\": \"#4D5663\"}, \"title\": {\"font\": {\"color\": \"#4D5663\"}, \"text\": \"\"}, \"zerolinecolor\": \"#E1E5ED\"}, \"xaxis9\": {\"anchor\": \"y9\", \"domain\": [0.0, 0.2125], \"gridcolor\": \"#E1E5ED\", \"showgrid\": false, \"tickfont\": {\"color\": \"#4D5663\"}, \"title\": {\"font\": {\"color\": \"#4D5663\"}, \"text\": \"\"}, \"zerolinecolor\": \"#E1E5ED\"}, \"yaxis\": {\"anchor\": \"x\", \"domain\": [0.8025, 1.0], \"gridcolor\": \"#E1E5ED\", \"showgrid\": false, \"tickfont\": {\"color\": \"#4D5663\"}, \"title\": {\"font\": {\"color\": \"#4D5663\"}, \"text\": \"\"}, \"zerolinecolor\": \"#E1E5ED\"}, \"yaxis10\": {\"anchor\": \"x10\", \"domain\": [0.2675, 0.465], \"gridcolor\": \"#E1E5ED\", \"showgrid\": false, \"tickfont\": {\"color\": \"#4D5663\"}, \"title\": {\"font\": {\"color\": \"#4D5663\"}, \"text\": \"\"}, \"zerolinecolor\": \"#E1E5ED\"}, \"yaxis11\": {\"anchor\": \"x11\", \"domain\": [0.2675, 0.465], \"gridcolor\": \"#E1E5ED\", \"showgrid\": false, \"tickfont\": {\"color\": \"#4D5663\"}, \"title\": {\"font\": {\"color\": \"#4D5663\"}, \"text\": \"\"}, \"zerolinecolor\": \"#E1E5ED\"}, \"yaxis12\": {\"anchor\": \"x12\", \"domain\": [0.2675, 0.465], \"gridcolor\": \"#E1E5ED\", \"showgrid\": false, \"tickfont\": {\"color\": \"#4D5663\"}, \"title\": {\"font\": {\"color\": \"#4D5663\"}, \"text\": \"\"}, \"zerolinecolor\": \"#E1E5ED\"}, \"yaxis13\": {\"anchor\": \"x13\", \"domain\": [0.0, 0.1975], \"gridcolor\": \"#E1E5ED\", \"showgrid\": false, \"tickfont\": {\"color\": \"#4D5663\"}, \"title\": {\"font\": {\"color\": \"#4D5663\"}, \"text\": \"\"}, \"zerolinecolor\": \"#E1E5ED\"}, \"yaxis14\": {\"anchor\": \"x14\", \"domain\": [0.0, 0.1975], \"gridcolor\": \"#E1E5ED\", \"showgrid\": false, \"tickfont\": {\"color\": \"#4D5663\"}, \"title\": {\"font\": {\"color\": \"#4D5663\"}, \"text\": \"\"}, \"zerolinecolor\": \"#E1E5ED\"}, \"yaxis15\": {\"anchor\": \"x15\", \"domain\": [0.0, 0.1975], \"gridcolor\": \"#E1E5ED\", \"showgrid\": false, \"tickfont\": {\"color\": \"#4D5663\"}, \"title\": {\"font\": {\"color\": \"#4D5663\"}, \"text\": \"\"}, \"zerolinecolor\": \"#E1E5ED\"}, \"yaxis16\": {\"anchor\": \"x16\", \"domain\": [0.0, 0.1975], \"gridcolor\": \"#E1E5ED\", \"showgrid\": false, \"tickfont\": {\"color\": \"#4D5663\"}, \"title\": {\"font\": {\"color\": \"#4D5663\"}, \"text\": \"\"}, \"zerolinecolor\": \"#E1E5ED\"}, \"yaxis2\": {\"anchor\": \"x2\", \"domain\": [0.8025, 1.0], \"gridcolor\": \"#E1E5ED\", \"showgrid\": false, \"tickfont\": {\"color\": \"#4D5663\"}, \"title\": {\"font\": {\"color\": \"#4D5663\"}, \"text\": \"\"}, \"zerolinecolor\": \"#E1E5ED\"}, \"yaxis3\": {\"anchor\": \"x3\", \"domain\": [0.8025, 1.0], \"gridcolor\": \"#E1E5ED\", \"showgrid\": false, \"tickfont\": {\"color\": \"#4D5663\"}, \"title\": {\"font\": {\"color\": \"#4D5663\"}, \"text\": \"\"}, \"zerolinecolor\": \"#E1E5ED\"}, \"yaxis4\": {\"anchor\": \"x4\", \"domain\": [0.8025, 1.0], \"gridcolor\": \"#E1E5ED\", \"showgrid\": false, \"tickfont\": {\"color\": \"#4D5663\"}, \"title\": {\"font\": {\"color\": \"#4D5663\"}, \"text\": \"\"}, \"zerolinecolor\": \"#E1E5ED\"}, \"yaxis5\": {\"anchor\": \"x5\", \"domain\": [0.535, 0.7325], \"gridcolor\": \"#E1E5ED\", \"showgrid\": false, \"tickfont\": {\"color\": \"#4D5663\"}, \"title\": {\"font\": {\"color\": \"#4D5663\"}, \"text\": \"\"}, \"zerolinecolor\": \"#E1E5ED\"}, \"yaxis6\": {\"anchor\": \"x6\", \"domain\": [0.535, 0.7325], \"gridcolor\": \"#E1E5ED\", \"showgrid\": false, \"tickfont\": {\"color\": \"#4D5663\"}, \"title\": {\"font\": {\"color\": \"#4D5663\"}, \"text\": \"\"}, \"zerolinecolor\": \"#E1E5ED\"}, \"yaxis7\": {\"anchor\": \"x7\", \"domain\": [0.535, 0.7325], \"gridcolor\": \"#E1E5ED\", \"showgrid\": false, \"tickfont\": {\"color\": \"#4D5663\"}, \"title\": {\"font\": {\"color\": \"#4D5663\"}, \"text\": \"\"}, \"zerolinecolor\": \"#E1E5ED\"}, \"yaxis8\": {\"anchor\": \"x8\", \"domain\": [0.535, 0.7325], \"gridcolor\": \"#E1E5ED\", \"showgrid\": false, \"tickfont\": {\"color\": \"#4D5663\"}, \"title\": {\"font\": {\"color\": \"#4D5663\"}, \"text\": \"\"}, \"zerolinecolor\": \"#E1E5ED\"}, \"yaxis9\": {\"anchor\": \"x9\", \"domain\": [0.2675, 0.465], \"gridcolor\": \"#E1E5ED\", \"showgrid\": false, \"tickfont\": {\"color\": \"#4D5663\"}, \"title\": {\"font\": {\"color\": \"#4D5663\"}, \"text\": \"\"}, \"zerolinecolor\": \"#E1E5ED\"}},                        {\"showLink\": true, \"linkText\": \"Export to plot.ly\", \"plotlyServerURL\": \"https://plot.ly\", \"responsive\": true}                    ).then(function(){\n",
       "                            \n",
       "var gd = document.getElementById('d8b43b25-366a-4152-a197-9fa0754da0e7');\n",
       "var x = new MutationObserver(function (mutations, observer) {{\n",
       "        var display = window.getComputedStyle(gd).display;\n",
       "        if (!display || display === 'none') {{\n",
       "            console.log([gd, 'removed!']);\n",
       "            Plotly.purge(gd);\n",
       "            observer.disconnect();\n",
       "        }}\n",
       "}});\n",
       "\n",
       "// Listen for the removal of the full notebook cells\n",
       "var notebookContainer = gd.closest('#notebook-container');\n",
       "if (notebookContainer) {{\n",
       "    x.observe(notebookContainer, {childList: true});\n",
       "}}\n",
       "\n",
       "// Listen for the clearing of the current output cell\n",
       "var outputEl = gd.closest('.output');\n",
       "if (outputEl) {{\n",
       "    x.observe(outputEl, {childList: true});\n",
       "}}\n",
       "\n",
       "                        })                };                });            </script>        </div>"
      ]
     },
     "metadata": {},
     "output_type": "display_data"
    }
   ],
   "source": [
    "df.scatter_matrix()"
   ]
  }
 ],
 "metadata": {
  "kernelspec": {
   "display_name": "Python 3",
   "language": "python",
   "name": "python3"
  },
  "language_info": {
   "codemirror_mode": {
    "name": "ipython",
    "version": 3
   },
   "file_extension": ".py",
   "mimetype": "text/x-python",
   "name": "python",
   "nbconvert_exporter": "python",
   "pygments_lexer": "ipython3",
   "version": "3.8.5"
  }
 },
 "nbformat": 4,
 "nbformat_minor": 4
}
